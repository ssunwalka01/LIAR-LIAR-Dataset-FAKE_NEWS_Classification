{
  "nbformat": 4,
  "nbformat_minor": 0,
  "metadata": {
    "kernelspec": {
      "display_name": "Python 3",
      "language": "python",
      "name": "python3"
    },
    "language_info": {
      "codemirror_mode": {
        "name": "ipython",
        "version": 3
      },
      "file_extension": ".py",
      "mimetype": "text/x-python",
      "name": "python",
      "nbconvert_exporter": "python",
      "pygments_lexer": "ipython3",
      "version": "3.7.3"
    },
    "colab": {
      "name": "11_December2019.ipynb",
      "provenance": [],
      "collapsed_sections": [],
      "toc_visible": true,
      "include_colab_link": true
    }
  },
  "cells": [
    {
      "cell_type": "markdown",
      "metadata": {
        "id": "view-in-github",
        "colab_type": "text"
      },
      "source": [
        "<a href=\"https://colab.research.google.com/github/ssunwalka01/LIAR-LIAR-Dataset-FAKE_NEWS_Classification/blob/master/13_December2019.ipynb\" target=\"_parent\"><img src=\"https://colab.research.google.com/assets/colab-badge.svg\" alt=\"Open In Colab\"/></a>"
      ]
    },
    {
      "cell_type": "markdown",
      "metadata": {
        "id": "xNqu5CgBcwcQ",
        "colab_type": "text"
      },
      "source": [
        "# LIAR LIAR Dataset Clasification (Fake-News Analysis)"
      ]
    },
    {
      "cell_type": "markdown",
      "metadata": {
        "id": "xVoeeiBxcwcT",
        "colab_type": "text"
      },
      "source": [
        "Let’s look at the steps that we will follow in this course.\n",
        "\n",
        "- Problem Statement\n",
        "- Hypothesis Generation\n",
        "- Getting the system ready and loading the data\n",
        "- Understanding the data\n",
        "- Exploratory Data Analysis (EDA)\n",
        "-    Univariate Analysis\n",
        "-    Bivariate Analysis\n",
        "- Missing value and outlier treatment\n",
        "- Model Building :\n",
        "-   Naive Bayes\n",
        "-   Logistic Regression\n",
        "-   Decision tree\n",
        "- Cross Validations for every Model\n",
        "\n",
        "Lets look at each section in detail."
      ]
    },
    {
      "cell_type": "markdown",
      "metadata": {
        "id": "yUzHWYLucwcU",
        "colab_type": "text"
      },
      "source": [
        "It is a classification problem where we have to predict whether a News Statement would be classified as Fake or Not. In a classification problem, we have to predict discrete values based on a given set of independent variable(s). Classification can be of two types:\n",
        "\n",
        "- Binary Classification : In this classification we have to predict either of the two given classes. For example: classifying the gender as male or female, predicting the result as win or loss, etc.\n",
        "- Multiclass Classification : Here we have to classify the data into three or more classes. For example: classifying a movie's genre as comedy, action or romantic, classify fruits as oranges, apples, or pears, etc."
      ]
    },
    {
      "cell_type": "code",
      "metadata": {
        "id": "pER5hD54cwcV",
        "colab_type": "code",
        "colab": {}
      },
      "source": [
        "# importing packages\n",
        "import pandas as pd \n",
        "import numpy as np                     # For mathematical calculations \n",
        "import seaborn as sns                  # For data visualization \n",
        "import matplotlib.pyplot as plt        # For plotting graphs \n",
        "%matplotlib inline \n",
        "import warnings                        # To ignore any warnings warnings.filterwarnings(\"ignore\")"
      ],
      "execution_count": 0,
      "outputs": []
    },
    {
      "cell_type": "code",
      "metadata": {
        "id": "afKCp1_pcwcY",
        "colab_type": "code",
        "colab": {}
      },
      "source": [
        "##################\n",
        "import seaborn as sns\n",
        "from sklearn.preprocessing import MinMaxScaler\n",
        "#from sklearn.cross_validation import data_test_split\n",
        "from sklearn.model_selection import train_test_split\n",
        "\n",
        "from sklearn.neighbors import KNeighborsClassifier\n",
        "from sklearn.metrics import f1_score\n",
        "from sklearn.feature_extraction.text import TfidfVectorizer, CountVectorizer\n",
        "from nltk.stem.porter import PorterStemmer\n",
        "\n",
        "import pandas as pd\n",
        "import numpy as np\n",
        "import matplotlib.pyplot as plt\n",
        "from sklearn.model_selection import cross_val_score\n",
        "import nltk\n",
        "import re\n",
        "import codecs\n",
        "import seaborn as sns\n",
        "from sklearn.preprocessing import LabelEncoder, OneHotEncoder\n",
        "#from sklearn.cross_validation import train_test_split\n",
        "from sklearn.neighbors import KNeighborsClassifier\n",
        "from sklearn.metrics import f1_score"
      ],
      "execution_count": 0,
      "outputs": []
    },
    {
      "cell_type": "markdown",
      "metadata": {
        "id": "DbLFVd_tcwcb",
        "colab_type": "text"
      },
      "source": [
        "# Data"
      ]
    },
    {
      "cell_type": "markdown",
      "metadata": {
        "id": "xsG9kz5Kcwcc",
        "colab_type": "text"
      },
      "source": [
        "For this practice problem, we have been given three CSV files: data, data and sample submission.\n",
        "\n",
        "- Train file will be used for dataing the model, i.e. our model will learn from this file. It contains all the independent variables and the target variable.\n",
        "- Test file contains all the independent variables, but not the target variable. We will apply the model to predict the target variable for the data data.\n",
        "- Sample submission file contains the format in which we have to submit our predictions."
      ]
    },
    {
      "cell_type": "markdown",
      "metadata": {
        "id": "7kpjZ0Gkcwcd",
        "colab_type": "text"
      },
      "source": [
        "- Let's start with loading the data\n",
        "PS: The data was in 'tsv' format which is then converted into 'csv' format later for analysing purpose.\n",
        "The Dataset available for the research purpose containg data,test and validation sets."
      ]
    },
    {
      "cell_type": "code",
      "metadata": {
        "id": "UXBXqNCGcwce",
        "colab_type": "code",
        "colab": {}
      },
      "source": [
        "# converting data, data, and valid datasets into csv format\n",
        "#data\n",
        "tsv_file='/content/train.tsv'\n",
        "csv_table=pd.read_table(tsv_file,sep='\\t')\n",
        "csv_table.to_csv('train_converted.csv',index=False)"
      ],
      "execution_count": 0,
      "outputs": []
    },
    {
      "cell_type": "code",
      "metadata": {
        "id": "pdYpc8TNcwch",
        "colab_type": "code",
        "colab": {}
      },
      "source": [
        "#test\n",
        "tsv_file1='/content/test.tsv'\n",
        "csv_table1=pd.read_table(tsv_file1,sep='\\t')\n",
        "csv_table1.to_csv('test_converted.csv',index=False)"
      ],
      "execution_count": 0,
      "outputs": []
    },
    {
      "cell_type": "code",
      "metadata": {
        "id": "KjWJLg8Ccwck",
        "colab_type": "code",
        "colab": {}
      },
      "source": [
        "#valid\n",
        "tsv_file2='/content/valid.tsv'\n",
        "csv_table2=pd.read_table(tsv_file2,sep='\\t')\n",
        "csv_table2.to_csv('valid_converted.csv',index=False)"
      ],
      "execution_count": 0,
      "outputs": []
    },
    {
      "cell_type": "markdown",
      "metadata": {
        "id": "ezS1HmZ5cwcn",
        "colab_type": "text"
      },
      "source": [
        "# Reading Data"
      ]
    },
    {
      "cell_type": "code",
      "metadata": {
        "id": "TB25_0ANcwcn",
        "colab_type": "code",
        "colab": {}
      },
      "source": [
        "train=pd.read_csv('/content/train_converted.csv')\n",
        "test=pd.read_csv('/content/test_converted.csv')\n",
        "valid=pd.read_csv('/content/valid_converted.csv')"
      ],
      "execution_count": 0,
      "outputs": []
    },
    {
      "cell_type": "code",
      "metadata": {
        "id": "CmpdqWaNcwcq",
        "colab_type": "code",
        "outputId": "54dd1fd2-e588-42bb-86dc-fcb4d4f09d2d",
        "colab": {
          "base_uri": "https://localhost:8080/",
          "height": 102
        }
      },
      "source": [
        "train.columns"
      ],
      "execution_count": 179,
      "outputs": [
        {
          "output_type": "execute_result",
          "data": {
            "text/plain": [
              "Index(['2635.json', 'false',\n",
              "       'Says the Annies List political group supports third-trimester abortions on demand.',\n",
              "       'abortion', 'dwayne-bohac', 'State representative', 'Texas',\n",
              "       'republican', '0', '1', '0.1', '0.2', '0.3', 'a mailer'],\n",
              "      dtype='object')"
            ]
          },
          "metadata": {
            "tags": []
          },
          "execution_count": 179
        }
      ]
    },
    {
      "cell_type": "code",
      "metadata": {
        "id": "GVY_G6v_cwcs",
        "colab_type": "code",
        "colab": {}
      },
      "source": [
        "# Naming columns\n",
        "train.columns=[\"ID\",\"Label\",\"Statement\",\"Subject(s)\",\"Speaker\",\"Speaker's job title\",\"state info\",\"party affiliation\",\"barely true counts\",\"false counts\",\"half true counts\",\"mostly true counts\",\"pants on fire counts\",\"the context (venue/location of speech or statement)\"]"
      ],
      "execution_count": 0,
      "outputs": []
    },
    {
      "cell_type": "code",
      "metadata": {
        "id": "QuJjmTxIcwcv",
        "colab_type": "code",
        "outputId": "998a79ba-676a-4d2b-f470-93b4d5ac86fe",
        "colab": {
          "base_uri": "https://localhost:8080/",
          "height": 666
        }
      },
      "source": [
        "train.head()"
      ],
      "execution_count": 181,
      "outputs": [
        {
          "output_type": "execute_result",
          "data": {
            "text/html": [
              "<div>\n",
              "<style scoped>\n",
              "    .dataframe tbody tr th:only-of-type {\n",
              "        vertical-align: middle;\n",
              "    }\n",
              "\n",
              "    .dataframe tbody tr th {\n",
              "        vertical-align: top;\n",
              "    }\n",
              "\n",
              "    .dataframe thead th {\n",
              "        text-align: right;\n",
              "    }\n",
              "</style>\n",
              "<table border=\"1\" class=\"dataframe\">\n",
              "  <thead>\n",
              "    <tr style=\"text-align: right;\">\n",
              "      <th></th>\n",
              "      <th>ID</th>\n",
              "      <th>Label</th>\n",
              "      <th>Statement</th>\n",
              "      <th>Subject(s)</th>\n",
              "      <th>Speaker</th>\n",
              "      <th>Speaker's job title</th>\n",
              "      <th>state info</th>\n",
              "      <th>party affiliation</th>\n",
              "      <th>barely true counts</th>\n",
              "      <th>false counts</th>\n",
              "      <th>half true counts</th>\n",
              "      <th>mostly true counts</th>\n",
              "      <th>pants on fire counts</th>\n",
              "      <th>the context (venue/location of speech or statement)</th>\n",
              "    </tr>\n",
              "  </thead>\n",
              "  <tbody>\n",
              "    <tr>\n",
              "      <th>0</th>\n",
              "      <td>10540.json</td>\n",
              "      <td>half-true</td>\n",
              "      <td>When did the decline of coal start? It started...</td>\n",
              "      <td>energy,history,job-accomplishments</td>\n",
              "      <td>scott-surovell</td>\n",
              "      <td>State delegate</td>\n",
              "      <td>Virginia</td>\n",
              "      <td>democrat</td>\n",
              "      <td>0.0</td>\n",
              "      <td>0.0</td>\n",
              "      <td>1.0</td>\n",
              "      <td>1.0</td>\n",
              "      <td>0.0</td>\n",
              "      <td>a floor speech.</td>\n",
              "    </tr>\n",
              "    <tr>\n",
              "      <th>1</th>\n",
              "      <td>324.json</td>\n",
              "      <td>mostly-true</td>\n",
              "      <td>Hillary Clinton agrees with John McCain \"by vo...</td>\n",
              "      <td>foreign-policy</td>\n",
              "      <td>barack-obama</td>\n",
              "      <td>President</td>\n",
              "      <td>Illinois</td>\n",
              "      <td>democrat</td>\n",
              "      <td>70.0</td>\n",
              "      <td>71.0</td>\n",
              "      <td>160.0</td>\n",
              "      <td>163.0</td>\n",
              "      <td>9.0</td>\n",
              "      <td>Denver</td>\n",
              "    </tr>\n",
              "    <tr>\n",
              "      <th>2</th>\n",
              "      <td>1123.json</td>\n",
              "      <td>false</td>\n",
              "      <td>Health care reform legislation is likely to ma...</td>\n",
              "      <td>health-care</td>\n",
              "      <td>blog-posting</td>\n",
              "      <td>NaN</td>\n",
              "      <td>NaN</td>\n",
              "      <td>none</td>\n",
              "      <td>7.0</td>\n",
              "      <td>19.0</td>\n",
              "      <td>3.0</td>\n",
              "      <td>5.0</td>\n",
              "      <td>44.0</td>\n",
              "      <td>a news release</td>\n",
              "    </tr>\n",
              "    <tr>\n",
              "      <th>3</th>\n",
              "      <td>9028.json</td>\n",
              "      <td>half-true</td>\n",
              "      <td>The economic turnaround started at the end of ...</td>\n",
              "      <td>economy,jobs</td>\n",
              "      <td>charlie-crist</td>\n",
              "      <td>NaN</td>\n",
              "      <td>Florida</td>\n",
              "      <td>democrat</td>\n",
              "      <td>15.0</td>\n",
              "      <td>9.0</td>\n",
              "      <td>20.0</td>\n",
              "      <td>19.0</td>\n",
              "      <td>2.0</td>\n",
              "      <td>an interview on CNN</td>\n",
              "    </tr>\n",
              "    <tr>\n",
              "      <th>4</th>\n",
              "      <td>12465.json</td>\n",
              "      <td>true</td>\n",
              "      <td>The Chicago Bears have had more starting quart...</td>\n",
              "      <td>education</td>\n",
              "      <td>robin-vos</td>\n",
              "      <td>Wisconsin Assembly speaker</td>\n",
              "      <td>Wisconsin</td>\n",
              "      <td>republican</td>\n",
              "      <td>0.0</td>\n",
              "      <td>3.0</td>\n",
              "      <td>2.0</td>\n",
              "      <td>5.0</td>\n",
              "      <td>1.0</td>\n",
              "      <td>a an online opinion-piece</td>\n",
              "    </tr>\n",
              "  </tbody>\n",
              "</table>\n",
              "</div>"
            ],
            "text/plain": [
              "           ID  ... the context (venue/location of speech or statement)\n",
              "0  10540.json  ...                                    a floor speech. \n",
              "1    324.json  ...                                             Denver \n",
              "2   1123.json  ...                                     a news release \n",
              "3   9028.json  ...                                an interview on CNN \n",
              "4  12465.json  ...                          a an online opinion-piece \n",
              "\n",
              "[5 rows x 14 columns]"
            ]
          },
          "metadata": {
            "tags": []
          },
          "execution_count": 181
        }
      ]
    },
    {
      "cell_type": "code",
      "metadata": {
        "id": "j0F65RQBcwcy",
        "colab_type": "code",
        "outputId": "79cd527b-6558-4fa6-d8d4-f888e0aab44a",
        "colab": {
          "base_uri": "https://localhost:8080/",
          "height": 34
        }
      },
      "source": [
        "train.shape"
      ],
      "execution_count": 182,
      "outputs": [
        {
          "output_type": "execute_result",
          "data": {
            "text/plain": [
              "(10239, 14)"
            ]
          },
          "metadata": {
            "tags": []
          },
          "execution_count": 182
        }
      ]
    },
    {
      "cell_type": "code",
      "metadata": {
        "id": "8uTeAgnXcwc0",
        "colab_type": "code",
        "outputId": "c08d4fd4-814c-4f6d-c696-bf08b672521a",
        "colab": {
          "base_uri": "https://localhost:8080/",
          "height": 34
        }
      },
      "source": [
        "test.shape"
      ],
      "execution_count": 183,
      "outputs": [
        {
          "output_type": "execute_result",
          "data": {
            "text/plain": [
              "(1266, 14)"
            ]
          },
          "metadata": {
            "tags": []
          },
          "execution_count": 183
        }
      ]
    },
    {
      "cell_type": "code",
      "metadata": {
        "id": "uNiSbwvrcwc2",
        "colab_type": "code",
        "outputId": "831335d6-01a0-47e4-d2f1-e33390936ec8",
        "colab": {
          "base_uri": "https://localhost:8080/",
          "height": 34
        }
      },
      "source": [
        "valid.shape"
      ],
      "execution_count": 184,
      "outputs": [
        {
          "output_type": "execute_result",
          "data": {
            "text/plain": [
              "(1283, 14)"
            ]
          },
          "metadata": {
            "tags": []
          },
          "execution_count": 184
        }
      ]
    },
    {
      "cell_type": "code",
      "metadata": {
        "id": "EpYxa2G4cwc5",
        "colab_type": "code",
        "colab": {}
      },
      "source": [
        "# Naming columns \n",
        "test.columns=[\"ID\",\"Label\",\"Statement\",\"Subject(s)\",\"Speaker\",\"Speaker's job title\",\"state info\",\"party affiliation\",\"barely true counts\",\"false counts\",\"half true counts\",\"mostly true counts\",\"pants on fire counts\",\"the context (venue/location of speech or statement)\"]"
      ],
      "execution_count": 0,
      "outputs": []
    },
    {
      "cell_type": "code",
      "metadata": {
        "id": "WBrFfnBFcwc7",
        "colab_type": "code",
        "colab": {}
      },
      "source": [
        "# Naming columns \n",
        "valid.columns=[\"ID\",\"Label\",\"Statement\",\"Subject(s)\",\"Speaker\",\"Speaker's job title\",\"state info\",\"party affiliation\",\"barely true counts\",\"false counts\",\"half true counts\",\"mostly true counts\",\"pants on fire counts\",\"the context (venue/location of speech or statement)\"]"
      ],
      "execution_count": 0,
      "outputs": []
    },
    {
      "cell_type": "markdown",
      "metadata": {
        "id": "GfPRQQp1cwc-",
        "colab_type": "text"
      },
      "source": [
        "Let’s make a copy of data and test data so that even if we have to make any changes in these datasets we would not lose the original datasets.\n"
      ]
    },
    {
      "cell_type": "code",
      "metadata": {
        "id": "LOH6t8lvcwc-",
        "colab_type": "code",
        "colab": {}
      },
      "source": [
        "train_copy=pd.read_csv('train_converted.csv').copy()\n",
        "test_copy=pd.read_csv('test_converted.csv').copy()\n",
        "valid_copy=pd.read_csv('valid_converted.csv').copy()"
      ],
      "execution_count": 0,
      "outputs": []
    },
    {
      "cell_type": "code",
      "metadata": {
        "id": "VwjK8kk_PK_I",
        "colab_type": "code",
        "colab": {}
      },
      "source": [
        "data = pd.concat([train, test, valid])"
      ],
      "execution_count": 0,
      "outputs": []
    },
    {
      "cell_type": "code",
      "metadata": {
        "id": "sRyTnT-FcwdB",
        "colab_type": "code",
        "outputId": "1b8fab2d-d6dd-4181-f1a0-13df1d3fb27a",
        "colab": {
          "base_uri": "https://localhost:8080/",
          "height": 1000
        }
      },
      "source": [
        "data.head(10)"
      ],
      "execution_count": 189,
      "outputs": [
        {
          "output_type": "execute_result",
          "data": {
            "text/html": [
              "<div>\n",
              "<style scoped>\n",
              "    .dataframe tbody tr th:only-of-type {\n",
              "        vertical-align: middle;\n",
              "    }\n",
              "\n",
              "    .dataframe tbody tr th {\n",
              "        vertical-align: top;\n",
              "    }\n",
              "\n",
              "    .dataframe thead th {\n",
              "        text-align: right;\n",
              "    }\n",
              "</style>\n",
              "<table border=\"1\" class=\"dataframe\">\n",
              "  <thead>\n",
              "    <tr style=\"text-align: right;\">\n",
              "      <th></th>\n",
              "      <th>ID</th>\n",
              "      <th>Label</th>\n",
              "      <th>Statement</th>\n",
              "      <th>Subject(s)</th>\n",
              "      <th>Speaker</th>\n",
              "      <th>Speaker's job title</th>\n",
              "      <th>state info</th>\n",
              "      <th>party affiliation</th>\n",
              "      <th>barely true counts</th>\n",
              "      <th>false counts</th>\n",
              "      <th>half true counts</th>\n",
              "      <th>mostly true counts</th>\n",
              "      <th>pants on fire counts</th>\n",
              "      <th>the context (venue/location of speech or statement)</th>\n",
              "    </tr>\n",
              "  </thead>\n",
              "  <tbody>\n",
              "    <tr>\n",
              "      <th>0</th>\n",
              "      <td>10540.json</td>\n",
              "      <td>half-true</td>\n",
              "      <td>When did the decline of coal start? It started...</td>\n",
              "      <td>energy,history,job-accomplishments</td>\n",
              "      <td>scott-surovell</td>\n",
              "      <td>State delegate</td>\n",
              "      <td>Virginia</td>\n",
              "      <td>democrat</td>\n",
              "      <td>0.0</td>\n",
              "      <td>0.0</td>\n",
              "      <td>1.0</td>\n",
              "      <td>1.0</td>\n",
              "      <td>0.0</td>\n",
              "      <td>a floor speech.</td>\n",
              "    </tr>\n",
              "    <tr>\n",
              "      <th>1</th>\n",
              "      <td>324.json</td>\n",
              "      <td>mostly-true</td>\n",
              "      <td>Hillary Clinton agrees with John McCain \"by vo...</td>\n",
              "      <td>foreign-policy</td>\n",
              "      <td>barack-obama</td>\n",
              "      <td>President</td>\n",
              "      <td>Illinois</td>\n",
              "      <td>democrat</td>\n",
              "      <td>70.0</td>\n",
              "      <td>71.0</td>\n",
              "      <td>160.0</td>\n",
              "      <td>163.0</td>\n",
              "      <td>9.0</td>\n",
              "      <td>Denver</td>\n",
              "    </tr>\n",
              "    <tr>\n",
              "      <th>2</th>\n",
              "      <td>1123.json</td>\n",
              "      <td>false</td>\n",
              "      <td>Health care reform legislation is likely to ma...</td>\n",
              "      <td>health-care</td>\n",
              "      <td>blog-posting</td>\n",
              "      <td>NaN</td>\n",
              "      <td>NaN</td>\n",
              "      <td>none</td>\n",
              "      <td>7.0</td>\n",
              "      <td>19.0</td>\n",
              "      <td>3.0</td>\n",
              "      <td>5.0</td>\n",
              "      <td>44.0</td>\n",
              "      <td>a news release</td>\n",
              "    </tr>\n",
              "    <tr>\n",
              "      <th>3</th>\n",
              "      <td>9028.json</td>\n",
              "      <td>half-true</td>\n",
              "      <td>The economic turnaround started at the end of ...</td>\n",
              "      <td>economy,jobs</td>\n",
              "      <td>charlie-crist</td>\n",
              "      <td>NaN</td>\n",
              "      <td>Florida</td>\n",
              "      <td>democrat</td>\n",
              "      <td>15.0</td>\n",
              "      <td>9.0</td>\n",
              "      <td>20.0</td>\n",
              "      <td>19.0</td>\n",
              "      <td>2.0</td>\n",
              "      <td>an interview on CNN</td>\n",
              "    </tr>\n",
              "    <tr>\n",
              "      <th>4</th>\n",
              "      <td>12465.json</td>\n",
              "      <td>true</td>\n",
              "      <td>The Chicago Bears have had more starting quart...</td>\n",
              "      <td>education</td>\n",
              "      <td>robin-vos</td>\n",
              "      <td>Wisconsin Assembly speaker</td>\n",
              "      <td>Wisconsin</td>\n",
              "      <td>republican</td>\n",
              "      <td>0.0</td>\n",
              "      <td>3.0</td>\n",
              "      <td>2.0</td>\n",
              "      <td>5.0</td>\n",
              "      <td>1.0</td>\n",
              "      <td>a an online opinion-piece</td>\n",
              "    </tr>\n",
              "    <tr>\n",
              "      <th>5</th>\n",
              "      <td>2342.json</td>\n",
              "      <td>barely-true</td>\n",
              "      <td>Jim Dunnam has not lived in the district he re...</td>\n",
              "      <td>candidates-biography</td>\n",
              "      <td>republican-party-texas</td>\n",
              "      <td>NaN</td>\n",
              "      <td>Texas</td>\n",
              "      <td>republican</td>\n",
              "      <td>3.0</td>\n",
              "      <td>1.0</td>\n",
              "      <td>1.0</td>\n",
              "      <td>3.0</td>\n",
              "      <td>1.0</td>\n",
              "      <td>a press release.</td>\n",
              "    </tr>\n",
              "    <tr>\n",
              "      <th>6</th>\n",
              "      <td>153.json</td>\n",
              "      <td>half-true</td>\n",
              "      <td>I'm the only person on this stage who has work...</td>\n",
              "      <td>ethics</td>\n",
              "      <td>barack-obama</td>\n",
              "      <td>President</td>\n",
              "      <td>Illinois</td>\n",
              "      <td>democrat</td>\n",
              "      <td>70.0</td>\n",
              "      <td>71.0</td>\n",
              "      <td>160.0</td>\n",
              "      <td>163.0</td>\n",
              "      <td>9.0</td>\n",
              "      <td>a Democratic debate in Philadelphia, Pa.</td>\n",
              "    </tr>\n",
              "    <tr>\n",
              "      <th>7</th>\n",
              "      <td>5602.json</td>\n",
              "      <td>half-true</td>\n",
              "      <td>However, it took $19.5 million in Oregon Lotte...</td>\n",
              "      <td>jobs</td>\n",
              "      <td>oregon-lottery</td>\n",
              "      <td>NaN</td>\n",
              "      <td>NaN</td>\n",
              "      <td>organization</td>\n",
              "      <td>0.0</td>\n",
              "      <td>0.0</td>\n",
              "      <td>1.0</td>\n",
              "      <td>0.0</td>\n",
              "      <td>1.0</td>\n",
              "      <td>a website</td>\n",
              "    </tr>\n",
              "    <tr>\n",
              "      <th>8</th>\n",
              "      <td>9741.json</td>\n",
              "      <td>mostly-true</td>\n",
              "      <td>Says GOP primary opponents Glenn Grothman and ...</td>\n",
              "      <td>energy,message-machine-2014,voting-record</td>\n",
              "      <td>duey-stroebel</td>\n",
              "      <td>State representative</td>\n",
              "      <td>Wisconsin</td>\n",
              "      <td>republican</td>\n",
              "      <td>0.0</td>\n",
              "      <td>0.0</td>\n",
              "      <td>0.0</td>\n",
              "      <td>1.0</td>\n",
              "      <td>0.0</td>\n",
              "      <td>an online video</td>\n",
              "    </tr>\n",
              "    <tr>\n",
              "      <th>9</th>\n",
              "      <td>7115.json</td>\n",
              "      <td>mostly-true</td>\n",
              "      <td>For the first time in history, the share of th...</td>\n",
              "      <td>elections</td>\n",
              "      <td>robert-menendez</td>\n",
              "      <td>U.S. Senator</td>\n",
              "      <td>New Jersey</td>\n",
              "      <td>democrat</td>\n",
              "      <td>1.0</td>\n",
              "      <td>3.0</td>\n",
              "      <td>1.0</td>\n",
              "      <td>3.0</td>\n",
              "      <td>0.0</td>\n",
              "      <td>a speech</td>\n",
              "    </tr>\n",
              "  </tbody>\n",
              "</table>\n",
              "</div>"
            ],
            "text/plain": [
              "           ID  ... the context (venue/location of speech or statement)\n",
              "0  10540.json  ...                                    a floor speech. \n",
              "1    324.json  ...                                             Denver \n",
              "2   1123.json  ...                                     a news release \n",
              "3   9028.json  ...                                an interview on CNN \n",
              "4  12465.json  ...                          a an online opinion-piece \n",
              "5   2342.json  ...                                   a press release. \n",
              "6    153.json  ...           a Democratic debate in Philadelphia, Pa. \n",
              "7   5602.json  ...                                         a website  \n",
              "8   9741.json  ...                                    an online video \n",
              "9   7115.json  ...                                           a speech \n",
              "\n",
              "[10 rows x 14 columns]"
            ]
          },
          "metadata": {
            "tags": []
          },
          "execution_count": 189
        }
      ]
    },
    {
      "cell_type": "code",
      "metadata": {
        "id": "E0_MXC_ScwdE",
        "colab_type": "code",
        "outputId": "585577da-4480-4df8-93a3-32c188b3867f",
        "colab": {
          "base_uri": "https://localhost:8080/",
          "height": 34
        }
      },
      "source": [
        "data.shape"
      ],
      "execution_count": 190,
      "outputs": [
        {
          "output_type": "execute_result",
          "data": {
            "text/plain": [
              "(12788, 14)"
            ]
          },
          "metadata": {
            "tags": []
          },
          "execution_count": 190
        }
      ]
    },
    {
      "cell_type": "code",
      "metadata": {
        "id": "he1boOTlGAtt",
        "colab_type": "code",
        "outputId": "14063d6d-90c5-485d-e1e0-5e79baa1573d",
        "colab": {
          "base_uri": "https://localhost:8080/",
          "height": 51
        }
      },
      "source": [
        "data['Label'].unique()"
      ],
      "execution_count": 191,
      "outputs": [
        {
          "output_type": "execute_result",
          "data": {
            "text/plain": [
              "array(['half-true', 'mostly-true', 'false', 'true', 'barely-true',\n",
              "       'pants-fire'], dtype=object)"
            ]
          },
          "metadata": {
            "tags": []
          },
          "execution_count": 191
        }
      ]
    },
    {
      "cell_type": "markdown",
      "metadata": {
        "id": "ARaQTXkdcwdM",
        "colab_type": "text"
      },
      "source": [
        "Loaded the datasets. Let's move to Univariate Analysis"
      ]
    },
    {
      "cell_type": "markdown",
      "metadata": {
        "id": "U_pRBXpQ5hk9",
        "colab_type": "text"
      },
      "source": [
        "- Combining data and validation sets here. Later We will use validation techniques"
      ]
    },
    {
      "cell_type": "markdown",
      "metadata": {
        "id": "iY-cipWucwdN",
        "colab_type": "text"
      },
      "source": [
        "# Univariate Analysis"
      ]
    },
    {
      "cell_type": "code",
      "metadata": {
        "id": "c-snudAFcwda",
        "colab_type": "code",
        "outputId": "69d0de7e-d4a7-4151-d4b2-fafc9a0c48d6",
        "colab": {
          "base_uri": "https://localhost:8080/",
          "height": 136
        }
      },
      "source": [
        "data['Label'].value_counts(normalize=True)\n",
        "# Read as percentage after multiplying by 100"
      ],
      "execution_count": 192,
      "outputs": [
        {
          "output_type": "execute_result",
          "data": {
            "text/plain": [
              "half-true      0.205427\n",
              "false          0.195965\n",
              "mostly-true    0.191899\n",
              "barely-true    0.164373\n",
              "true           0.160463\n",
              "pants-fire     0.081874\n",
              "Name: Label, dtype: float64"
            ]
          },
          "metadata": {
            "tags": []
          },
          "execution_count": 192
        }
      ]
    },
    {
      "cell_type": "code",
      "metadata": {
        "id": "qwCQDcJEcwdd",
        "colab_type": "code",
        "outputId": "1dee7b11-580e-44db-a7f3-e28149a0452b",
        "colab": {
          "base_uri": "https://localhost:8080/",
          "height": 330
        }
      },
      "source": [
        "data['Label'].value_counts().plot.bar()"
      ],
      "execution_count": 193,
      "outputs": [
        {
          "output_type": "execute_result",
          "data": {
            "text/plain": [
              "<matplotlib.axes._subplots.AxesSubplot at 0x7efd85d1dd68>"
            ]
          },
          "metadata": {
            "tags": []
          },
          "execution_count": 193
        },
        {
          "output_type": "display_data",
          "data": {
            "image/png": "[encoded data removed]",
            "text/plain": [
              "<Figure size 432x288 with 1 Axes>"
            ]
          },
          "metadata": {
            "tags": []
          }
        }
      ]
    },
    {
      "cell_type": "markdown",
      "metadata": {
        "id": "nDbsjPDAcwdf",
        "colab_type": "text"
      },
      "source": [
        "On Looking at the datsets, we identified that there are 3 Data Types:\n",
        "- Continuous : ID, barely true counts, false counts, half true counts, mostly true counts, pants on fire counts.\n",
        "\n",
        "- Categorical : Label, Subject(s), Speaker, Speaker's job title, State info, party affiliation, the context (venue/location of speech or statement)\n",
        "\n",
        "- Text : Statement"
      ]
    },
    {
      "cell_type": "markdown",
      "metadata": {
        "id": "BbQmrQsFcwdg",
        "colab_type": "text"
      },
      "source": [
        "Let's go for Continuous Data Type Exploration.\n",
        "We know that we use BarGraphs for Categorical variable, Histogram or ScatterPlot for continuous variables."
      ]
    },
    {
      "cell_type": "markdown",
      "metadata": {
        "id": "oEih0BBYcwdg",
        "colab_type": "text"
      },
      "source": [
        "- Continuous Variables"
      ]
    },
    {
      "cell_type": "code",
      "metadata": {
        "id": "iyq5H1SUcwdh",
        "colab_type": "code",
        "outputId": "16f42713-8f07-4aec-ddc7-f5755448f24d",
        "colab": {
          "base_uri": "https://localhost:8080/",
          "height": 424
        }
      },
      "source": [
        "# barely true counts\n",
        "plt.figure(figsize=(20, 6))\n",
        "sns.countplot(data[\"barely true counts\"])\n",
        "plt.title('barely true counts')\n",
        "plt.show()"
      ],
      "execution_count": 194,
      "outputs": [
        {
          "output_type": "display_data",
          "data": {
            "image/png": "[encoded data removed]",
            "text/plain": [
              "<Figure size 1440x432 with 1 Axes>"
            ]
          },
          "metadata": {
            "tags": []
          }
        }
      ]
    },
    {
      "cell_type": "code",
      "metadata": {
        "id": "JL4eZlMtcwdj",
        "colab_type": "code",
        "outputId": "22e9e6b2-41e2-4754-8de4-4495085e328f",
        "colab": {
          "base_uri": "https://localhost:8080/",
          "height": 424
        }
      },
      "source": [
        "# false counts\n",
        "plt.figure(figsize=(20, 6))\n",
        "sns.countplot(data[\"false counts\"])\n",
        "plt.title('false counts')\n",
        "plt.show()"
      ],
      "execution_count": 195,
      "outputs": [
        {
          "output_type": "display_data",
          "data": {
            "image/png": "[encoded data removed]",
            "text/plain": [
              "<Figure size 1440x432 with 1 Axes>"
            ]
          },
          "metadata": {
            "tags": []
          }
        }
      ]
    },
    {
      "cell_type": "code",
      "metadata": {
        "id": "dR5zkCpdcwdm",
        "colab_type": "code",
        "outputId": "d81e8f4d-1b37-4d45-8d4b-a2d090bb554c",
        "colab": {
          "base_uri": "https://localhost:8080/",
          "height": 424
        }
      },
      "source": [
        "# half true counts\n",
        "plt.figure(figsize=(20, 6))\n",
        "sns.countplot(data[\"half true counts\"])\n",
        "plt.title('half true counts')\n",
        "plt.show()"
      ],
      "execution_count": 196,
      "outputs": [
        {
          "output_type": "display_data",
          "data": {
            "image/png": "[encoded data removed]",
            "text/plain": [
              "<Figure size 1440x432 with 1 Axes>"
            ]
          },
          "metadata": {
            "tags": []
          }
        }
      ]
    },
    {
      "cell_type": "code",
      "metadata": {
        "id": "I2-wC5Ykcwdo",
        "colab_type": "code",
        "outputId": "c6ca4762-6a86-4971-f716-a3306cbbdcc8",
        "colab": {
          "base_uri": "https://localhost:8080/",
          "height": 424
        }
      },
      "source": [
        "# mostly true counts\n",
        "plt.figure(figsize=(20, 6))\n",
        "sns.countplot(data[\"mostly true counts\"])\n",
        "plt.title('mostly true counts')\n",
        "plt.show()"
      ],
      "execution_count": 197,
      "outputs": [
        {
          "output_type": "display_data",
          "data": {
            "image/png": "[encoded data removed]",
            "text/plain": [
              "<Figure size 1440x432 with 1 Axes>"
            ]
          },
          "metadata": {
            "tags": []
          }
        }
      ]
    },
    {
      "cell_type": "code",
      "metadata": {
        "id": "MfVCH7Uxcwds",
        "colab_type": "code",
        "outputId": "f5aef0bc-450a-48fb-fce0-3b04b59e25b3",
        "colab": {
          "base_uri": "https://localhost:8080/",
          "height": 424
        }
      },
      "source": [
        "# pants on fire counts \n",
        "plt.figure(figsize=(20, 6))\n",
        "sns.countplot(data[\"pants on fire counts\"])\n",
        "plt.title('pants on fire counts')\n",
        "plt.show()"
      ],
      "execution_count": 198,
      "outputs": [
        {
          "output_type": "display_data",
          "data": {
            "image/png": "[encoded data removed]",
            "text/plain": [
              "<Figure size 1440x432 with 1 Axes>"
            ]
          },
          "metadata": {
            "tags": []
          }
        }
      ]
    },
    {
      "cell_type": "code",
      "metadata": {
        "id": "N689Ep8vcwdu",
        "colab_type": "code",
        "outputId": "03dd43ae-11dd-46ff-d2f5-f7b4664972c9",
        "colab": {
          "base_uri": "https://localhost:8080/",
          "height": 1000
        }
      },
      "source": [
        "# Pairplot for cross visualisation of continuous variables\n",
        "plt.figure(figsize=(30,30))\n",
        "sns.pairplot(data, diag_kind='kde');"
      ],
      "execution_count": 199,
      "outputs": [
        {
          "output_type": "stream",
          "text": [
            "/usr/local/lib/python3.6/dist-packages/statsmodels/nonparametric/kde.py:447: RuntimeWarning: invalid value encountered in greater\n",
            "  X = X[np.logical_and(X > clip[0], X < clip[1])] # won't work for two columns.\n",
            "/usr/local/lib/python3.6/dist-packages/statsmodels/nonparametric/kde.py:447: RuntimeWarning: invalid value encountered in less\n",
            "  X = X[np.logical_and(X > clip[0], X < clip[1])] # won't work for two columns.\n"
          ],
          "name": "stderr"
        },
        {
          "output_type": "display_data",
          "data": {
            "text/plain": [
              "<Figure size 2160x2160 with 0 Axes>"
            ]
          },
          "metadata": {
            "tags": []
          }
        },
        {
          "output_type": "display_data",
          "data": {
            "image/png": "[encoded data removed]",
            "text/plain": [
              "<Figure size 900x900 with 30 Axes>"
            ]
          },
          "metadata": {
            "tags": []
          }
        }
      ]
    },
    {
      "cell_type": "markdown",
      "metadata": {
        "id": "fAzfKzDEcwdw",
        "colab_type": "text"
      },
      "source": [
        "- Spread of Target Variable"
      ]
    },
    {
      "cell_type": "code",
      "metadata": {
        "id": "Jeq2GD2icwdx",
        "colab_type": "code",
        "outputId": "567c90d8-ee02-43ff-d7fd-20bf7e946025",
        "colab": {
          "base_uri": "https://localhost:8080/",
          "height": 465
        }
      },
      "source": [
        "cnt_srs = data['Label'].value_counts()\n",
        "plt.figure(figsize=(18,7))\n",
        "sns.barplot(cnt_srs.index, cnt_srs.values, alpha=0.8)\n",
        "plt.ylabel('Frequency', fontsize=12)\n",
        "plt.xlabel('Label', fontsize=12)\n",
        "plt.show()"
      ],
      "execution_count": 200,
      "outputs": [
        {
          "output_type": "display_data",
          "data": {
            "image/png": "[encoded data removed]",
            "text/plain": [
              "<Figure size 1296x504 with 1 Axes>"
            ]
          },
          "metadata": {
            "tags": []
          }
        }
      ]
    },
    {
      "cell_type": "markdown",
      "metadata": {
        "id": "rkdFqd7Kcwd1",
        "colab_type": "text"
      },
      "source": [
        "# Data Preprocessing"
      ]
    },
    {
      "cell_type": "markdown",
      "metadata": {
        "id": "Ht1nMlsicwd1",
        "colab_type": "text"
      },
      "source": [
        "- Checking Missing Values"
      ]
    },
    {
      "cell_type": "code",
      "metadata": {
        "id": "rskkXG2Icwd2",
        "colab_type": "code",
        "colab": {}
      },
      "source": [
        "def missing_value(df):\n",
        "    total = df.isnull().sum().sort_values(ascending = False)\n",
        "    percent = (df.isnull().sum()/df.isnull().count()*100).sort_values(ascending=False)\n",
        "    missing_df = pd.concat([total, percent], axis=1, keys = ['Total', 'Percent'])\n",
        "    return missing_df"
      ],
      "execution_count": 0,
      "outputs": []
    },
    {
      "cell_type": "code",
      "metadata": {
        "id": "eqzhYGOKcwd6",
        "colab_type": "code",
        "outputId": "2dc7a58e-b0ab-4514-9b3b-d61d1ebc8b80",
        "colab": {
          "base_uri": "https://localhost:8080/",
          "height": 483
        }
      },
      "source": [
        "x_data = missing_value(data)\n",
        "x_data"
      ],
      "execution_count": 202,
      "outputs": [
        {
          "output_type": "execute_result",
          "data": {
            "text/html": [
              "<div>\n",
              "<style scoped>\n",
              "    .dataframe tbody tr th:only-of-type {\n",
              "        vertical-align: middle;\n",
              "    }\n",
              "\n",
              "    .dataframe tbody tr th {\n",
              "        vertical-align: top;\n",
              "    }\n",
              "\n",
              "    .dataframe thead th {\n",
              "        text-align: right;\n",
              "    }\n",
              "</style>\n",
              "<table border=\"1\" class=\"dataframe\">\n",
              "  <thead>\n",
              "    <tr style=\"text-align: right;\">\n",
              "      <th></th>\n",
              "      <th>Total</th>\n",
              "      <th>Percent</th>\n",
              "    </tr>\n",
              "  </thead>\n",
              "  <tbody>\n",
              "    <tr>\n",
              "      <th>Speaker's job title</th>\n",
              "      <td>3567</td>\n",
              "      <td>27.893338</td>\n",
              "    </tr>\n",
              "    <tr>\n",
              "      <th>state info</th>\n",
              "      <td>2749</td>\n",
              "      <td>21.496716</td>\n",
              "    </tr>\n",
              "    <tr>\n",
              "      <th>the context (venue/location of speech or statement)</th>\n",
              "      <td>131</td>\n",
              "      <td>1.024398</td>\n",
              "    </tr>\n",
              "    <tr>\n",
              "      <th>pants on fire counts</th>\n",
              "      <td>2</td>\n",
              "      <td>0.015640</td>\n",
              "    </tr>\n",
              "    <tr>\n",
              "      <th>mostly true counts</th>\n",
              "      <td>2</td>\n",
              "      <td>0.015640</td>\n",
              "    </tr>\n",
              "    <tr>\n",
              "      <th>half true counts</th>\n",
              "      <td>2</td>\n",
              "      <td>0.015640</td>\n",
              "    </tr>\n",
              "    <tr>\n",
              "      <th>false counts</th>\n",
              "      <td>2</td>\n",
              "      <td>0.015640</td>\n",
              "    </tr>\n",
              "    <tr>\n",
              "      <th>barely true counts</th>\n",
              "      <td>2</td>\n",
              "      <td>0.015640</td>\n",
              "    </tr>\n",
              "    <tr>\n",
              "      <th>party affiliation</th>\n",
              "      <td>2</td>\n",
              "      <td>0.015640</td>\n",
              "    </tr>\n",
              "    <tr>\n",
              "      <th>Speaker</th>\n",
              "      <td>2</td>\n",
              "      <td>0.015640</td>\n",
              "    </tr>\n",
              "    <tr>\n",
              "      <th>Subject(s)</th>\n",
              "      <td>2</td>\n",
              "      <td>0.015640</td>\n",
              "    </tr>\n",
              "    <tr>\n",
              "      <th>Statement</th>\n",
              "      <td>0</td>\n",
              "      <td>0.000000</td>\n",
              "    </tr>\n",
              "    <tr>\n",
              "      <th>Label</th>\n",
              "      <td>0</td>\n",
              "      <td>0.000000</td>\n",
              "    </tr>\n",
              "    <tr>\n",
              "      <th>ID</th>\n",
              "      <td>0</td>\n",
              "      <td>0.000000</td>\n",
              "    </tr>\n",
              "  </tbody>\n",
              "</table>\n",
              "</div>"
            ],
            "text/plain": [
              "                                                    Total    Percent\n",
              "Speaker's job title                                  3567  27.893338\n",
              "state info                                           2749  21.496716\n",
              "the context (venue/location of speech or statem...    131   1.024398\n",
              "pants on fire counts                                    2   0.015640\n",
              "mostly true counts                                      2   0.015640\n",
              "half true counts                                        2   0.015640\n",
              "false counts                                            2   0.015640\n",
              "barely true counts                                      2   0.015640\n",
              "party affiliation                                       2   0.015640\n",
              "Speaker                                                 2   0.015640\n",
              "Subject(s)                                              2   0.015640\n",
              "Statement                                               0   0.000000\n",
              "Label                                                   0   0.000000\n",
              "ID                                                      0   0.000000"
            ]
          },
          "metadata": {
            "tags": []
          },
          "execution_count": 202
        }
      ]
    },
    {
      "cell_type": "markdown",
      "metadata": {
        "id": "pcF_ZxIucweA",
        "colab_type": "text"
      },
      "source": [
        "We need to treat the missing values here. It will reduce the model accuracy otherwise."
      ]
    },
    {
      "cell_type": "code",
      "metadata": {
        "id": "AVOfNIj5cweA",
        "colab_type": "code",
        "colab": {}
      },
      "source": [
        "# Filling Missing Values with Unknown Variable\n",
        "values = {\"Speaker's job title\":'Unknown'}\n",
        "data = data.fillna(value=values)\n",
        "#valid = valid.fillna(value=values)"
      ],
      "execution_count": 0,
      "outputs": []
    },
    {
      "cell_type": "code",
      "metadata": {
        "id": "fc0tLBs4cweC",
        "colab_type": "code",
        "colab": {}
      },
      "source": [
        "# Filling Missing Values with Unknown Variable\n",
        "values = {\"state info\":'Unknown1'}\n",
        "data = data.fillna(value=values)\n",
        "#valid = valid.fillna(value=values)"
      ],
      "execution_count": 0,
      "outputs": []
    },
    {
      "cell_type": "code",
      "metadata": {
        "id": "M4JLvYzlcweE",
        "colab_type": "code",
        "colab": {}
      },
      "source": [
        "data['the context (venue/location of speech or statement)'].fillna(data['the context (venue/location of speech or statement)'].mode()[0], inplace=True)\n",
        "#valid['the context (venue/location of speech or statement)'].fillna(valid['the context (venue/location of speech or statement)'].mode()[0], inplace=True)"
      ],
      "execution_count": 0,
      "outputs": []
    },
    {
      "cell_type": "code",
      "metadata": {
        "id": "JkLuKWG4cweG",
        "colab_type": "code",
        "colab": {}
      },
      "source": [
        "data['pants on fire counts'].fillna(data['pants on fire counts'].median(), inplace=True)\n",
        "data['mostly true counts'].fillna(data['mostly true counts'].median(), inplace=True)\n",
        "data['half true counts'].fillna(data['half true counts'].median(), inplace=True)\n",
        "data['false counts'].fillna(data['false counts'].median(), inplace=True)\n",
        "data['barely true counts'].fillna(data['barely true counts'].median(), inplace=True)\n",
        "data['party affiliation'].fillna(data['party affiliation'].mode()[0], inplace=True)\n",
        "data['Speaker'].fillna(data['Speaker'].mode()[0], inplace=True)\n",
        "data['Subject(s)'].fillna(data['Subject(s)'].mode()[0], inplace=True)"
      ],
      "execution_count": 0,
      "outputs": []
    },
    {
      "cell_type": "code",
      "metadata": {
        "id": "P7jKiqM-cweJ",
        "colab_type": "code",
        "outputId": "877a6fe6-1c91-43cb-e3e5-891f0bfceb8e",
        "colab": {
          "base_uri": "https://localhost:8080/",
          "height": 483
        }
      },
      "source": [
        "# Checking again for missing values\n",
        "y_data = missing_value(data)\n",
        "y_data"
      ],
      "execution_count": 207,
      "outputs": [
        {
          "output_type": "execute_result",
          "data": {
            "text/html": [
              "<div>\n",
              "<style scoped>\n",
              "    .dataframe tbody tr th:only-of-type {\n",
              "        vertical-align: middle;\n",
              "    }\n",
              "\n",
              "    .dataframe tbody tr th {\n",
              "        vertical-align: top;\n",
              "    }\n",
              "\n",
              "    .dataframe thead th {\n",
              "        text-align: right;\n",
              "    }\n",
              "</style>\n",
              "<table border=\"1\" class=\"dataframe\">\n",
              "  <thead>\n",
              "    <tr style=\"text-align: right;\">\n",
              "      <th></th>\n",
              "      <th>Total</th>\n",
              "      <th>Percent</th>\n",
              "    </tr>\n",
              "  </thead>\n",
              "  <tbody>\n",
              "    <tr>\n",
              "      <th>the context (venue/location of speech or statement)</th>\n",
              "      <td>0</td>\n",
              "      <td>0.0</td>\n",
              "    </tr>\n",
              "    <tr>\n",
              "      <th>pants on fire counts</th>\n",
              "      <td>0</td>\n",
              "      <td>0.0</td>\n",
              "    </tr>\n",
              "    <tr>\n",
              "      <th>mostly true counts</th>\n",
              "      <td>0</td>\n",
              "      <td>0.0</td>\n",
              "    </tr>\n",
              "    <tr>\n",
              "      <th>half true counts</th>\n",
              "      <td>0</td>\n",
              "      <td>0.0</td>\n",
              "    </tr>\n",
              "    <tr>\n",
              "      <th>false counts</th>\n",
              "      <td>0</td>\n",
              "      <td>0.0</td>\n",
              "    </tr>\n",
              "    <tr>\n",
              "      <th>barely true counts</th>\n",
              "      <td>0</td>\n",
              "      <td>0.0</td>\n",
              "    </tr>\n",
              "    <tr>\n",
              "      <th>party affiliation</th>\n",
              "      <td>0</td>\n",
              "      <td>0.0</td>\n",
              "    </tr>\n",
              "    <tr>\n",
              "      <th>state info</th>\n",
              "      <td>0</td>\n",
              "      <td>0.0</td>\n",
              "    </tr>\n",
              "    <tr>\n",
              "      <th>Speaker's job title</th>\n",
              "      <td>0</td>\n",
              "      <td>0.0</td>\n",
              "    </tr>\n",
              "    <tr>\n",
              "      <th>Speaker</th>\n",
              "      <td>0</td>\n",
              "      <td>0.0</td>\n",
              "    </tr>\n",
              "    <tr>\n",
              "      <th>Subject(s)</th>\n",
              "      <td>0</td>\n",
              "      <td>0.0</td>\n",
              "    </tr>\n",
              "    <tr>\n",
              "      <th>Statement</th>\n",
              "      <td>0</td>\n",
              "      <td>0.0</td>\n",
              "    </tr>\n",
              "    <tr>\n",
              "      <th>Label</th>\n",
              "      <td>0</td>\n",
              "      <td>0.0</td>\n",
              "    </tr>\n",
              "    <tr>\n",
              "      <th>ID</th>\n",
              "      <td>0</td>\n",
              "      <td>0.0</td>\n",
              "    </tr>\n",
              "  </tbody>\n",
              "</table>\n",
              "</div>"
            ],
            "text/plain": [
              "                                                    Total  Percent\n",
              "the context (venue/location of speech or statem...      0      0.0\n",
              "pants on fire counts                                    0      0.0\n",
              "mostly true counts                                      0      0.0\n",
              "half true counts                                        0      0.0\n",
              "false counts                                            0      0.0\n",
              "barely true counts                                      0      0.0\n",
              "party affiliation                                       0      0.0\n",
              "state info                                              0      0.0\n",
              "Speaker's job title                                     0      0.0\n",
              "Speaker                                                 0      0.0\n",
              "Subject(s)                                              0      0.0\n",
              "Statement                                               0      0.0\n",
              "Label                                                   0      0.0\n",
              "ID                                                      0      0.0"
            ]
          },
          "metadata": {
            "tags": []
          },
          "execution_count": 207
        }
      ]
    },
    {
      "cell_type": "markdown",
      "metadata": {
        "id": "o5ShvHOncweR",
        "colab_type": "text"
      },
      "source": [
        "- Targeting Statement Column"
      ]
    },
    {
      "cell_type": "code",
      "metadata": {
        "id": "ZoFKgtttk1BQ",
        "colab_type": "code",
        "outputId": "89905201-4299-49af-ab63-b169cad4edcc",
        "colab": {
          "base_uri": "https://localhost:8080/",
          "height": 34
        }
      },
      "source": [
        "data.shape"
      ],
      "execution_count": 208,
      "outputs": [
        {
          "output_type": "execute_result",
          "data": {
            "text/plain": [
              "(12788, 14)"
            ]
          },
          "metadata": {
            "tags": []
          },
          "execution_count": 208
        }
      ]
    },
    {
      "cell_type": "code",
      "metadata": {
        "id": "J2XsnEdKcweS",
        "colab_type": "code",
        "colab": {}
      },
      "source": [
        "#removing non-letter symbols and converting text in 'Statement' to lowercase \n",
        "data['Statement'] = data['Statement'].apply(lambda x: \"\".join(re.sub(r\"[^A-Za-z\\s]\", '',str(x))))\n",
        "#valid['Statement'] = valid['Statement'].apply(lambda x: \"\".join(re.sub(r\"[^A-Za-z\\s]\",'',str(x))))\n",
        "\n",
        "# lower casing the Text\n",
        "data['Statement'] = data['Statement'].apply(lambda x: \" \".join(x.lower() for x in x.split()))\n",
        "#valid['Statement'] = valid['Statement'].apply(lambda x: \" \".join(x.lower() for x in x.split()))"
      ],
      "execution_count": 0,
      "outputs": []
    },
    {
      "cell_type": "code",
      "metadata": {
        "id": "BKgduhFccweW",
        "colab_type": "code",
        "colab": {}
      },
      "source": [
        "#Removing punctuations\n",
        "#adding characters list which needs to remove that is PUNCTUATION\n",
        "punc = ['.', ',', '\"', \"'\", '?', '!', ':', ';', '(', ')', '[', ']', '{', '}',\"%\",'/','<','>','br','�','^','XX','XXXX','xxxx','xx']\n",
        "#removing extra characters\n",
        "data['Statement'] = data['Statement'].apply(lambda x: \" \".join(x for x in x.split() if x not in punc))\n",
        "#valid['Statement'] = valid['Statement'].apply(lambda x: \" \".join(x for x in x.split() if x not in punc))"
      ],
      "execution_count": 0,
      "outputs": []
    },
    {
      "cell_type": "code",
      "metadata": {
        "id": "JzRXcvozcwea",
        "colab_type": "code",
        "colab": {}
      },
      "source": [
        "import nltk"
      ],
      "execution_count": 0,
      "outputs": []
    },
    {
      "cell_type": "code",
      "metadata": {
        "id": "t3f0GKwhiSmB",
        "colab_type": "code",
        "outputId": "e99f298d-a7af-4481-def3-89782f15ddfa",
        "colab": {
          "base_uri": "https://localhost:8080/",
          "height": 68
        }
      },
      "source": [
        "nltk.download('stopwords')"
      ],
      "execution_count": 212,
      "outputs": [
        {
          "output_type": "stream",
          "text": [
            "[nltk_data] Downloading package stopwords to /root/nltk_data...\n",
            "[nltk_data]   Package stopwords is already up-to-date!\n"
          ],
          "name": "stdout"
        },
        {
          "output_type": "execute_result",
          "data": {
            "text/plain": [
              "True"
            ]
          },
          "metadata": {
            "tags": []
          },
          "execution_count": 212
        }
      ]
    },
    {
      "cell_type": "code",
      "metadata": {
        "id": "UCouVqlUcweY",
        "colab_type": "code",
        "colab": {}
      },
      "source": [
        "#removal of stopwords\n",
        "from nltk.corpus import stopwords\n",
        "stop = stopwords.words('english')\n",
        "data['Statement'] = data['Statement'].apply(lambda x: \" \".join(x for x in x.split() if x not in stop))\n",
        "#valid['Statement'] = valid['Statement'].apply(lambda x: \" \".join(x for x in x.split() if x not in stop))"
      ],
      "execution_count": 0,
      "outputs": []
    },
    {
      "cell_type": "code",
      "metadata": {
        "id": "KBcbIVT8iWCZ",
        "colab_type": "code",
        "colab": {}
      },
      "source": [
        "#common words removal\n",
        "freq_data = pd.Series(' '.join(data['Statement']).split()).value_counts()[:10]\n",
        "#freq_valid = pd.Series(' '.join(valid['Statement']).split()).value_counts()[:10]\n",
        "\n",
        "freq_data = list(freq_data.index)\n",
        "data['Statement'] = data['Statement'].apply(lambda x: \" \".join(x for x in x.split() if x not in freq_data))\n",
        "#freq_valid = list(freq_valid.index)\n",
        "#valid['Statement'] = valid['Statement'].apply(lambda x: \" \".join(x for x in x.split() if x not in freq_valid))"
      ],
      "execution_count": 0,
      "outputs": []
    },
    {
      "cell_type": "code",
      "metadata": {
        "id": "5GyeiEs9i4nL",
        "colab_type": "code",
        "colab": {}
      },
      "source": [
        "#rare words removal\n",
        "freq_data_rare = pd.Series(' '.join(data['Statement']).split()).value_counts()[-10:]\n",
        "freq_data_rare = list(freq_data_rare.index)\n",
        "data['Statement'] = data['Statement'].apply(lambda x: \" \".join(x for x in x.split() if x not in freq_data_rare))\n",
        "#freq_valid_rare = pd.Series(' '.join(valid['Statement']).split()).value_counts()[-10:]\n",
        "#freq_valid_rare = list(freq_valid_rare.index)\n",
        "#valid['Statement'] = valid['Statement'].apply(lambda x: \" \".join(x for x in x.split() if x not in freq_valid_rare))"
      ],
      "execution_count": 0,
      "outputs": []
    },
    {
      "cell_type": "code",
      "metadata": {
        "id": "KkX7-FbNjRgu",
        "colab_type": "code",
        "colab": {}
      },
      "source": [
        "#STEMMING\n",
        "st = PorterStemmer()\n",
        "data['Statement']=data['Statement'].apply(lambda x: \" \".join([st.stem(w) for w in x.split()]))\n"
      ],
      "execution_count": 0,
      "outputs": []
    },
    {
      "cell_type": "code",
      "metadata": {
        "id": "1lYoMqrFrU2N",
        "colab_type": "code",
        "outputId": "cb3dc03a-94c2-477b-9e78-7918605913ef",
        "colab": {
          "base_uri": "https://localhost:8080/",
          "height": 598
        }
      },
      "source": [
        "data.head()"
      ],
      "execution_count": 217,
      "outputs": [
        {
          "output_type": "execute_result",
          "data": {
            "text/html": [
              "<div>\n",
              "<style scoped>\n",
              "    .dataframe tbody tr th:only-of-type {\n",
              "        vertical-align: middle;\n",
              "    }\n",
              "\n",
              "    .dataframe tbody tr th {\n",
              "        vertical-align: top;\n",
              "    }\n",
              "\n",
              "    .dataframe thead th {\n",
              "        text-align: right;\n",
              "    }\n",
              "</style>\n",
              "<table border=\"1\" class=\"dataframe\">\n",
              "  <thead>\n",
              "    <tr style=\"text-align: right;\">\n",
              "      <th></th>\n",
              "      <th>ID</th>\n",
              "      <th>Label</th>\n",
              "      <th>Statement</th>\n",
              "      <th>Subject(s)</th>\n",
              "      <th>Speaker</th>\n",
              "      <th>Speaker's job title</th>\n",
              "      <th>state info</th>\n",
              "      <th>party affiliation</th>\n",
              "      <th>barely true counts</th>\n",
              "      <th>false counts</th>\n",
              "      <th>half true counts</th>\n",
              "      <th>mostly true counts</th>\n",
              "      <th>pants on fire counts</th>\n",
              "      <th>the context (venue/location of speech or statement)</th>\n",
              "    </tr>\n",
              "  </thead>\n",
              "  <tbody>\n",
              "    <tr>\n",
              "      <th>0</th>\n",
              "      <td>10540.json</td>\n",
              "      <td>half-true</td>\n",
              "      <td>declin coal start start natur ga took start be...</td>\n",
              "      <td>energy,history,job-accomplishments</td>\n",
              "      <td>scott-surovell</td>\n",
              "      <td>State delegate</td>\n",
              "      <td>Virginia</td>\n",
              "      <td>democrat</td>\n",
              "      <td>0.0</td>\n",
              "      <td>0.0</td>\n",
              "      <td>1.0</td>\n",
              "      <td>1.0</td>\n",
              "      <td>0.0</td>\n",
              "      <td>a floor speech.</td>\n",
              "    </tr>\n",
              "    <tr>\n",
              "      <th>1</th>\n",
              "      <td>324.json</td>\n",
              "      <td>mostly-true</td>\n",
              "      <td>hillari clinton agre john mccain vote give geo...</td>\n",
              "      <td>foreign-policy</td>\n",
              "      <td>barack-obama</td>\n",
              "      <td>President</td>\n",
              "      <td>Illinois</td>\n",
              "      <td>democrat</td>\n",
              "      <td>70.0</td>\n",
              "      <td>71.0</td>\n",
              "      <td>160.0</td>\n",
              "      <td>163.0</td>\n",
              "      <td>9.0</td>\n",
              "      <td>Denver</td>\n",
              "    </tr>\n",
              "    <tr>\n",
              "      <th>2</th>\n",
              "      <td>1123.json</td>\n",
              "      <td>false</td>\n",
              "      <td>care reform legisl like mandat free sex chang ...</td>\n",
              "      <td>health-care</td>\n",
              "      <td>blog-posting</td>\n",
              "      <td>Unknown</td>\n",
              "      <td>Unknown1</td>\n",
              "      <td>none</td>\n",
              "      <td>7.0</td>\n",
              "      <td>19.0</td>\n",
              "      <td>3.0</td>\n",
              "      <td>5.0</td>\n",
              "      <td>44.0</td>\n",
              "      <td>a news release</td>\n",
              "    </tr>\n",
              "    <tr>\n",
              "      <th>3</th>\n",
              "      <td>9028.json</td>\n",
              "      <td>half-true</td>\n",
              "      <td>econom turnaround start end term</td>\n",
              "      <td>economy,jobs</td>\n",
              "      <td>charlie-crist</td>\n",
              "      <td>Unknown</td>\n",
              "      <td>Florida</td>\n",
              "      <td>democrat</td>\n",
              "      <td>15.0</td>\n",
              "      <td>9.0</td>\n",
              "      <td>20.0</td>\n",
              "      <td>19.0</td>\n",
              "      <td>2.0</td>\n",
              "      <td>an interview on CNN</td>\n",
              "    </tr>\n",
              "    <tr>\n",
              "      <th>4</th>\n",
              "      <td>12465.json</td>\n",
              "      <td>true</td>\n",
              "      <td>chicago bear start quarterback last total numb...</td>\n",
              "      <td>education</td>\n",
              "      <td>robin-vos</td>\n",
              "      <td>Wisconsin Assembly speaker</td>\n",
              "      <td>Wisconsin</td>\n",
              "      <td>republican</td>\n",
              "      <td>0.0</td>\n",
              "      <td>3.0</td>\n",
              "      <td>2.0</td>\n",
              "      <td>5.0</td>\n",
              "      <td>1.0</td>\n",
              "      <td>a an online opinion-piece</td>\n",
              "    </tr>\n",
              "  </tbody>\n",
              "</table>\n",
              "</div>"
            ],
            "text/plain": [
              "           ID  ... the context (venue/location of speech or statement)\n",
              "0  10540.json  ...                                    a floor speech. \n",
              "1    324.json  ...                                             Denver \n",
              "2   1123.json  ...                                     a news release \n",
              "3   9028.json  ...                                an interview on CNN \n",
              "4  12465.json  ...                          a an online opinion-piece \n",
              "\n",
              "[5 rows x 14 columns]"
            ]
          },
          "metadata": {
            "tags": []
          },
          "execution_count": 217
        }
      ]
    },
    {
      "cell_type": "code",
      "metadata": {
        "id": "IY96my6R7hE5",
        "colab_type": "code",
        "colab": {}
      },
      "source": [
        "# Removing .json extension\n",
        "data['ID'] = data['ID'].str.rstrip('.json')"
      ],
      "execution_count": 0,
      "outputs": []
    },
    {
      "cell_type": "code",
      "metadata": {
        "id": "qhNZnbUwtQj2",
        "colab_type": "code",
        "colab": {}
      },
      "source": [
        "#ID = data.iloc[:,[1]]\n",
        "#data=data.drop(['ID'], axis=1)"
      ],
      "execution_count": 0,
      "outputs": []
    },
    {
      "cell_type": "code",
      "metadata": {
        "id": "u6KYvzg7FnrS",
        "colab_type": "code",
        "outputId": "7f5db04d-f18d-4f56-d413-ca7b2dd9c111",
        "colab": {
          "base_uri": "https://localhost:8080/",
          "height": 119
        }
      },
      "source": [
        "data.columns"
      ],
      "execution_count": 220,
      "outputs": [
        {
          "output_type": "execute_result",
          "data": {
            "text/plain": [
              "Index(['ID', 'Label', 'Statement', 'Subject(s)', 'Speaker',\n",
              "       'Speaker's job title', 'state info', 'party affiliation',\n",
              "       'barely true counts', 'false counts', 'half true counts',\n",
              "       'mostly true counts', 'pants on fire counts',\n",
              "       'the context (venue/location of speech or statement)'],\n",
              "      dtype='object')"
            ]
          },
          "metadata": {
            "tags": []
          },
          "execution_count": 220
        }
      ]
    },
    {
      "cell_type": "code",
      "metadata": {
        "id": "B9OmtSopz1QD",
        "colab_type": "code",
        "colab": {}
      },
      "source": [
        "from sklearn.preprocessing import LabelEncoder, OneHotEncoder\n",
        "labelencoder_label = LabelEncoder()"
      ],
      "execution_count": 0,
      "outputs": []
    },
    {
      "cell_type": "code",
      "metadata": {
        "id": "Y7tB-qDRIp6W",
        "colab_type": "code",
        "colab": {}
      },
      "source": [
        "labelencoder_label.fit(data.iloc[:,1].values)\n",
        "data.iloc[:,1]=labelencoder_label.transform(data.iloc[:,1])"
      ],
      "execution_count": 0,
      "outputs": []
    },
    {
      "cell_type": "code",
      "metadata": {
        "id": "Ex-BKNGPI4Ci",
        "colab_type": "code",
        "outputId": "2c8d6348-69d1-4836-92f7-7e364ce3d1d7",
        "colab": {
          "base_uri": "https://localhost:8080/",
          "height": 598
        }
      },
      "source": [
        "data.head()"
      ],
      "execution_count": 223,
      "outputs": [
        {
          "output_type": "execute_result",
          "data": {
            "text/html": [
              "<div>\n",
              "<style scoped>\n",
              "    .dataframe tbody tr th:only-of-type {\n",
              "        vertical-align: middle;\n",
              "    }\n",
              "\n",
              "    .dataframe tbody tr th {\n",
              "        vertical-align: top;\n",
              "    }\n",
              "\n",
              "    .dataframe thead th {\n",
              "        text-align: right;\n",
              "    }\n",
              "</style>\n",
              "<table border=\"1\" class=\"dataframe\">\n",
              "  <thead>\n",
              "    <tr style=\"text-align: right;\">\n",
              "      <th></th>\n",
              "      <th>ID</th>\n",
              "      <th>Label</th>\n",
              "      <th>Statement</th>\n",
              "      <th>Subject(s)</th>\n",
              "      <th>Speaker</th>\n",
              "      <th>Speaker's job title</th>\n",
              "      <th>state info</th>\n",
              "      <th>party affiliation</th>\n",
              "      <th>barely true counts</th>\n",
              "      <th>false counts</th>\n",
              "      <th>half true counts</th>\n",
              "      <th>mostly true counts</th>\n",
              "      <th>pants on fire counts</th>\n",
              "      <th>the context (venue/location of speech or statement)</th>\n",
              "    </tr>\n",
              "  </thead>\n",
              "  <tbody>\n",
              "    <tr>\n",
              "      <th>0</th>\n",
              "      <td>10540</td>\n",
              "      <td>2</td>\n",
              "      <td>declin coal start start natur ga took start be...</td>\n",
              "      <td>energy,history,job-accomplishments</td>\n",
              "      <td>scott-surovell</td>\n",
              "      <td>State delegate</td>\n",
              "      <td>Virginia</td>\n",
              "      <td>democrat</td>\n",
              "      <td>0.0</td>\n",
              "      <td>0.0</td>\n",
              "      <td>1.0</td>\n",
              "      <td>1.0</td>\n",
              "      <td>0.0</td>\n",
              "      <td>a floor speech.</td>\n",
              "    </tr>\n",
              "    <tr>\n",
              "      <th>1</th>\n",
              "      <td>324</td>\n",
              "      <td>3</td>\n",
              "      <td>hillari clinton agre john mccain vote give geo...</td>\n",
              "      <td>foreign-policy</td>\n",
              "      <td>barack-obama</td>\n",
              "      <td>President</td>\n",
              "      <td>Illinois</td>\n",
              "      <td>democrat</td>\n",
              "      <td>70.0</td>\n",
              "      <td>71.0</td>\n",
              "      <td>160.0</td>\n",
              "      <td>163.0</td>\n",
              "      <td>9.0</td>\n",
              "      <td>Denver</td>\n",
              "    </tr>\n",
              "    <tr>\n",
              "      <th>2</th>\n",
              "      <td>1123</td>\n",
              "      <td>1</td>\n",
              "      <td>care reform legisl like mandat free sex chang ...</td>\n",
              "      <td>health-care</td>\n",
              "      <td>blog-posting</td>\n",
              "      <td>Unknown</td>\n",
              "      <td>Unknown1</td>\n",
              "      <td>none</td>\n",
              "      <td>7.0</td>\n",
              "      <td>19.0</td>\n",
              "      <td>3.0</td>\n",
              "      <td>5.0</td>\n",
              "      <td>44.0</td>\n",
              "      <td>a news release</td>\n",
              "    </tr>\n",
              "    <tr>\n",
              "      <th>3</th>\n",
              "      <td>9028</td>\n",
              "      <td>2</td>\n",
              "      <td>econom turnaround start end term</td>\n",
              "      <td>economy,jobs</td>\n",
              "      <td>charlie-crist</td>\n",
              "      <td>Unknown</td>\n",
              "      <td>Florida</td>\n",
              "      <td>democrat</td>\n",
              "      <td>15.0</td>\n",
              "      <td>9.0</td>\n",
              "      <td>20.0</td>\n",
              "      <td>19.0</td>\n",
              "      <td>2.0</td>\n",
              "      <td>an interview on CNN</td>\n",
              "    </tr>\n",
              "    <tr>\n",
              "      <th>4</th>\n",
              "      <td>12465</td>\n",
              "      <td>5</td>\n",
              "      <td>chicago bear start quarterback last total numb...</td>\n",
              "      <td>education</td>\n",
              "      <td>robin-vos</td>\n",
              "      <td>Wisconsin Assembly speaker</td>\n",
              "      <td>Wisconsin</td>\n",
              "      <td>republican</td>\n",
              "      <td>0.0</td>\n",
              "      <td>3.0</td>\n",
              "      <td>2.0</td>\n",
              "      <td>5.0</td>\n",
              "      <td>1.0</td>\n",
              "      <td>a an online opinion-piece</td>\n",
              "    </tr>\n",
              "  </tbody>\n",
              "</table>\n",
              "</div>"
            ],
            "text/plain": [
              "      ID  ...  the context (venue/location of speech or statement)\n",
              "0  10540  ...                                    a floor speech.  \n",
              "1    324  ...                                             Denver  \n",
              "2   1123  ...                                     a news release  \n",
              "3   9028  ...                                an interview on CNN  \n",
              "4  12465  ...                          a an online opinion-piece  \n",
              "\n",
              "[5 rows x 14 columns]"
            ]
          },
          "metadata": {
            "tags": []
          },
          "execution_count": 223
        }
      ]
    },
    {
      "cell_type": "code",
      "metadata": {
        "id": "omyuh_4CwjrD",
        "colab_type": "code",
        "colab": {}
      },
      "source": [
        "# Train test split before by random_seed=fixed\n",
        "\n",
        "\n",
        "# k-Fold Cross Validation\n",
        "\n",
        "X = data.iloc[:, [2, 3,4,5,6,7,8,9,10,11,12,13]]\n",
        "y = data.iloc[:, 1]"
      ],
      "execution_count": 0,
      "outputs": []
    },
    {
      "cell_type": "code",
      "metadata": {
        "id": "TJTfY39PG5NL",
        "colab_type": "code",
        "outputId": "8d5343a9-0b61-4dcc-e65d-545da9c0e501",
        "colab": {
          "base_uri": "https://localhost:8080/",
          "height": 119
        }
      },
      "source": [
        "y.head()"
      ],
      "execution_count": 225,
      "outputs": [
        {
          "output_type": "execute_result",
          "data": {
            "text/plain": [
              "0    2\n",
              "1    3\n",
              "2    1\n",
              "3    2\n",
              "4    5\n",
              "Name: Label, dtype: int64"
            ]
          },
          "metadata": {
            "tags": []
          },
          "execution_count": 225
        }
      ]
    },
    {
      "cell_type": "code",
      "metadata": {
        "id": "3FTqGaknIKvP",
        "colab_type": "code",
        "outputId": "d6147802-a43b-40d0-ba5d-e7f29e353700",
        "colab": {
          "base_uri": "https://localhost:8080/",
          "height": 34
        }
      },
      "source": [
        "type(y)"
      ],
      "execution_count": 226,
      "outputs": [
        {
          "output_type": "execute_result",
          "data": {
            "text/plain": [
              "pandas.core.series.Series"
            ]
          },
          "metadata": {
            "tags": []
          },
          "execution_count": 226
        }
      ]
    },
    {
      "cell_type": "code",
      "metadata": {
        "id": "d4CunFHlGtFV",
        "colab_type": "code",
        "outputId": "4e3a409e-cc96-4b3b-b21b-889c7764d94a",
        "colab": {
          "base_uri": "https://localhost:8080/",
          "height": 85
        }
      },
      "source": [
        "print(y.index)"
      ],
      "execution_count": 227,
      "outputs": [
        {
          "output_type": "stream",
          "text": [
            "Int64Index([   0,    1,    2,    3,    4,    5,    6,    7,    8,    9,\n",
            "            ...\n",
            "            1273, 1274, 1275, 1276, 1277, 1278, 1279, 1280, 1281, 1282],\n",
            "           dtype='int64', length=12788)\n"
          ],
          "name": "stdout"
        }
      ]
    },
    {
      "cell_type": "code",
      "metadata": {
        "id": "JEAeAwPmGtBR",
        "colab_type": "code",
        "colab": {}
      },
      "source": [
        ""
      ],
      "execution_count": 0,
      "outputs": []
    },
    {
      "cell_type": "code",
      "metadata": {
        "id": "YYa5SU5LwjyB",
        "colab_type": "code",
        "colab": {}
      },
      "source": [
        "# Splitting the dataset into the Training set and Test set\n",
        "from sklearn.model_selection import train_test_split\n",
        "X_train, X_test, y_train, y_test = train_test_split(X, y, test_size = 0.20, random_state = 0)"
      ],
      "execution_count": 0,
      "outputs": []
    },
    {
      "cell_type": "code",
      "metadata": {
        "id": "KP4IZn0DKwIA",
        "colab_type": "code",
        "colab": {}
      },
      "source": [
        "X_train_1 = X_train\n",
        "X_test_1 = X_test\n",
        "y_train_1 = y_train\n",
        "y_test_1 = y_test"
      ],
      "execution_count": 0,
      "outputs": []
    },
    {
      "cell_type": "code",
      "metadata": {
        "id": "XqD0cOZOxOxv",
        "colab_type": "code",
        "outputId": "c5a2c89c-8a80-4723-8cf2-c98d3517b01b",
        "colab": {
          "base_uri": "https://localhost:8080/",
          "height": 119
        }
      },
      "source": [
        "y_train.head()"
      ],
      "execution_count": 230,
      "outputs": [
        {
          "output_type": "execute_result",
          "data": {
            "text/plain": [
              "800     3\n",
              "486     4\n",
              "5183    0\n",
              "6113    3\n",
              "8387    1\n",
              "Name: Label, dtype: int64"
            ]
          },
          "metadata": {
            "tags": []
          },
          "execution_count": 230
        }
      ]
    },
    {
      "cell_type": "code",
      "metadata": {
        "id": "yH9Zdarjwjvk",
        "colab_type": "code",
        "outputId": "c454672e-4bed-4f87-bccb-3ed2490f9c55",
        "colab": {
          "base_uri": "https://localhost:8080/",
          "height": 119
        }
      },
      "source": [
        "y_test.head()"
      ],
      "execution_count": 231,
      "outputs": [
        {
          "output_type": "execute_result",
          "data": {
            "text/plain": [
              "634     4\n",
              "9419    5\n",
              "2476    0\n",
              "2064    3\n",
              "1941    1\n",
              "Name: Label, dtype: int64"
            ]
          },
          "metadata": {
            "tags": []
          },
          "execution_count": 231
        }
      ]
    },
    {
      "cell_type": "code",
      "metadata": {
        "id": "5476GMxtbvYE",
        "colab_type": "code",
        "colab": {}
      },
      "source": [
        "X_train_cat = X_train.loc[:,['Speaker',\"Speaker's job title\",'state info','party affiliation','the context (venue/location of speech or statement)']]\n",
        "X_test_cat = X_test.loc[:,['Speaker',\"Speaker's job title\",'state info','party affiliation','the context (venue/location of speech or statement)']]"
      ],
      "execution_count": 0,
      "outputs": []
    },
    {
      "cell_type": "code",
      "metadata": {
        "id": "pfYevP2EycrK",
        "colab_type": "code",
        "outputId": "0f1e05ef-7d45-40dc-9039-c1b2b1f40e75",
        "colab": {
          "base_uri": "https://localhost:8080/",
          "height": 238
        }
      },
      "source": [
        "X_train_cat.head()"
      ],
      "execution_count": 233,
      "outputs": [
        {
          "output_type": "execute_result",
          "data": {
            "text/html": [
              "<div>\n",
              "<style scoped>\n",
              "    .dataframe tbody tr th:only-of-type {\n",
              "        vertical-align: middle;\n",
              "    }\n",
              "\n",
              "    .dataframe tbody tr th {\n",
              "        vertical-align: top;\n",
              "    }\n",
              "\n",
              "    .dataframe thead th {\n",
              "        text-align: right;\n",
              "    }\n",
              "</style>\n",
              "<table border=\"1\" class=\"dataframe\">\n",
              "  <thead>\n",
              "    <tr style=\"text-align: right;\">\n",
              "      <th></th>\n",
              "      <th>Speaker</th>\n",
              "      <th>Speaker's job title</th>\n",
              "      <th>state info</th>\n",
              "      <th>party affiliation</th>\n",
              "      <th>the context (venue/location of speech or statement)</th>\n",
              "    </tr>\n",
              "  </thead>\n",
              "  <tbody>\n",
              "    <tr>\n",
              "      <th>800</th>\n",
              "      <td>reader-email</td>\n",
              "      <td>Unknown</td>\n",
              "      <td>Unknown1</td>\n",
              "      <td>none</td>\n",
              "      <td>an email from a reader</td>\n",
              "    </tr>\n",
              "    <tr>\n",
              "      <th>486</th>\n",
              "      <td>americanpoliticnews</td>\n",
              "      <td>Unknown</td>\n",
              "      <td>Unknown1</td>\n",
              "      <td>none</td>\n",
              "      <td>Internet sites</td>\n",
              "    </tr>\n",
              "    <tr>\n",
              "      <th>5183</th>\n",
              "      <td>rand-paul</td>\n",
              "      <td>Candidate for U.S. Senate and physician</td>\n",
              "      <td>Kentucky</td>\n",
              "      <td>republican</td>\n",
              "      <td>an interview with a New Hampshire radio station</td>\n",
              "    </tr>\n",
              "    <tr>\n",
              "      <th>6113</th>\n",
              "      <td>viral-image</td>\n",
              "      <td>Unknown</td>\n",
              "      <td>Unknown1</td>\n",
              "      <td>none</td>\n",
              "      <td>a Facebook post</td>\n",
              "    </tr>\n",
              "    <tr>\n",
              "      <th>8387</th>\n",
              "      <td>rick-perry</td>\n",
              "      <td>Governor</td>\n",
              "      <td>Texas</td>\n",
              "      <td>republican</td>\n",
              "      <td>remarks at the Cornerstone Action Dinner in Ma...</td>\n",
              "    </tr>\n",
              "  </tbody>\n",
              "</table>\n",
              "</div>"
            ],
            "text/plain": [
              "                  Speaker  ... the context (venue/location of speech or statement)\n",
              "800          reader-email  ...                             an email from a reader \n",
              "486   americanpoliticnews  ...                                     Internet sites \n",
              "5183            rand-paul  ...    an interview with a New Hampshire radio station \n",
              "6113          viral-image  ...                                    a Facebook post \n",
              "8387           rick-perry  ...  remarks at the Cornerstone Action Dinner in Ma... \n",
              "\n",
              "[5 rows x 5 columns]"
            ]
          },
          "metadata": {
            "tags": []
          },
          "execution_count": 233
        }
      ]
    },
    {
      "cell_type": "code",
      "metadata": {
        "id": "Ls_hnnDeygFG",
        "colab_type": "code",
        "outputId": "279510b4-633a-48fd-f8c9-b65abe8a8520",
        "colab": {
          "base_uri": "https://localhost:8080/",
          "height": 255
        }
      },
      "source": [
        "X_test_cat.head()"
      ],
      "execution_count": 234,
      "outputs": [
        {
          "output_type": "execute_result",
          "data": {
            "text/html": [
              "<div>\n",
              "<style scoped>\n",
              "    .dataframe tbody tr th:only-of-type {\n",
              "        vertical-align: middle;\n",
              "    }\n",
              "\n",
              "    .dataframe tbody tr th {\n",
              "        vertical-align: top;\n",
              "    }\n",
              "\n",
              "    .dataframe thead th {\n",
              "        text-align: right;\n",
              "    }\n",
              "</style>\n",
              "<table border=\"1\" class=\"dataframe\">\n",
              "  <thead>\n",
              "    <tr style=\"text-align: right;\">\n",
              "      <th></th>\n",
              "      <th>Speaker</th>\n",
              "      <th>Speaker's job title</th>\n",
              "      <th>state info</th>\n",
              "      <th>party affiliation</th>\n",
              "      <th>the context (venue/location of speech or statement)</th>\n",
              "    </tr>\n",
              "  </thead>\n",
              "  <tbody>\n",
              "    <tr>\n",
              "      <th>634</th>\n",
              "      <td>blog-posting</td>\n",
              "      <td>Unknown</td>\n",
              "      <td>Unknown1</td>\n",
              "      <td>none</td>\n",
              "      <td>a posting on many blogs.</td>\n",
              "    </tr>\n",
              "    <tr>\n",
              "      <th>9419</th>\n",
              "      <td>league-women-voters-florida</td>\n",
              "      <td>Unknown</td>\n",
              "      <td>Florida</td>\n",
              "      <td>none</td>\n",
              "      <td>a statement</td>\n",
              "    </tr>\n",
              "    <tr>\n",
              "      <th>2476</th>\n",
              "      <td>leticia-van-de-putte</td>\n",
              "      <td>Pharmacist</td>\n",
              "      <td>Texas</td>\n",
              "      <td>democrat</td>\n",
              "      <td>a debate</td>\n",
              "    </tr>\n",
              "    <tr>\n",
              "      <th>2064</th>\n",
              "      <td>bill-oreilly</td>\n",
              "      <td>Fox News Channel host</td>\n",
              "      <td>Unknown1</td>\n",
              "      <td>none</td>\n",
              "      <td>on Fox News' \"The O'Reilly Factor\"</td>\n",
              "    </tr>\n",
              "    <tr>\n",
              "      <th>1941</th>\n",
              "      <td>charles-schumer</td>\n",
              "      <td>Senator</td>\n",
              "      <td>New York</td>\n",
              "      <td>democrat</td>\n",
              "      <td>a TV interview</td>\n",
              "    </tr>\n",
              "  </tbody>\n",
              "</table>\n",
              "</div>"
            ],
            "text/plain": [
              "                          Speaker  ... the context (venue/location of speech or statement)\n",
              "634                  blog-posting  ...                           a posting on many blogs. \n",
              "9419  league-women-voters-florida  ...                                        a statement \n",
              "2476         leticia-van-de-putte  ...                                           a debate \n",
              "2064                 bill-oreilly  ...                 on Fox News' \"The O'Reilly Factor\" \n",
              "1941              charles-schumer  ...                                     a TV interview \n",
              "\n",
              "[5 rows x 5 columns]"
            ]
          },
          "metadata": {
            "tags": []
          },
          "execution_count": 234
        }
      ]
    },
    {
      "cell_type": "code",
      "metadata": {
        "id": "SZvM8LuaytHn",
        "colab_type": "code",
        "outputId": "596f467a-e5b2-4b10-89c8-c4f8d497abc3",
        "colab": {
          "base_uri": "https://localhost:8080/",
          "height": 34
        }
      },
      "source": [
        "X_train_cat.shape, X_test_cat.shape"
      ],
      "execution_count": 235,
      "outputs": [
        {
          "output_type": "execute_result",
          "data": {
            "text/plain": [
              "((10230, 5), (2558, 5))"
            ]
          },
          "metadata": {
            "tags": []
          },
          "execution_count": 235
        }
      ]
    },
    {
      "cell_type": "code",
      "metadata": {
        "id": "5Omurr_X02QJ",
        "colab_type": "code",
        "colab": {}
      },
      "source": [
        "X_train_cat = X_train.loc[:,['Speaker',\"Speaker's job title\",'state info','party affiliation','the context (venue/location of speech or statement)']]\n",
        "X_test_cat = X_test.loc[:,['Speaker',\"Speaker's job title\",'state info','party affiliation','the context (venue/location of speech or statement)']]"
      ],
      "execution_count": 0,
      "outputs": []
    },
    {
      "cell_type": "code",
      "metadata": {
        "id": "LTnmfl9T2nx7",
        "colab_type": "code",
        "colab": {}
      },
      "source": [
        "labelencoder = LabelEncoder()\n",
        "labelencoder.fit(X_train_cat.iloc[:,0].values)\n",
        "X_train_cat.iloc[:,0]=labelencoder.transform(X_train_cat.iloc[:,0])"
      ],
      "execution_count": 0,
      "outputs": []
    },
    {
      "cell_type": "code",
      "metadata": {
        "id": "KIC52pr847qq",
        "colab_type": "code",
        "colab": {}
      },
      "source": [
        "labelencoder.fit(X_test_cat.iloc[:,0].values)\n",
        "X_test_cat.iloc[:,0]=labelencoder.transform(X_test_cat.iloc[:,0])"
      ],
      "execution_count": 0,
      "outputs": []
    },
    {
      "cell_type": "code",
      "metadata": {
        "id": "2fQhvu2V2nvT",
        "colab_type": "code",
        "colab": {}
      },
      "source": [
        "labelencoder.fit(X_train_cat.iloc[:,1].values)\n",
        "X_train_cat.iloc[:,1]=labelencoder.transform(X_train_cat.iloc[:,1])"
      ],
      "execution_count": 0,
      "outputs": []
    },
    {
      "cell_type": "code",
      "metadata": {
        "id": "tKtlshdy5SZ3",
        "colab_type": "code",
        "colab": {}
      },
      "source": [
        "labelencoder.fit(X_test_cat.iloc[:,1].values)\n",
        "X_test_cat.iloc[:,1]=labelencoder.transform(X_test_cat.iloc[:,1])"
      ],
      "execution_count": 0,
      "outputs": []
    },
    {
      "cell_type": "code",
      "metadata": {
        "id": "O_JGDMV_2nsQ",
        "colab_type": "code",
        "colab": {}
      },
      "source": [
        "labelencoder.fit(X_train_cat.iloc[:,2].values)\n",
        "X_train_cat.iloc[:,2]=labelencoder.transform(X_train_cat.iloc[:,2])"
      ],
      "execution_count": 0,
      "outputs": []
    },
    {
      "cell_type": "code",
      "metadata": {
        "id": "EvaIg-Rw5YtJ",
        "colab_type": "code",
        "colab": {}
      },
      "source": [
        "labelencoder.fit(X_test_cat.iloc[:,2].values)\n",
        "X_test_cat.iloc[:,2]=labelencoder.transform(X_test_cat.iloc[:,2])"
      ],
      "execution_count": 0,
      "outputs": []
    },
    {
      "cell_type": "code",
      "metadata": {
        "id": "iR2N8luy2no8",
        "colab_type": "code",
        "colab": {}
      },
      "source": [
        "labelencoder.fit(X_train_cat.iloc[:,3].values)\n",
        "X_train_cat.iloc[:,3]=labelencoder.transform(X_train_cat.iloc[:,3])"
      ],
      "execution_count": 0,
      "outputs": []
    },
    {
      "cell_type": "code",
      "metadata": {
        "id": "fhCZe3gC5pY0",
        "colab_type": "code",
        "colab": {}
      },
      "source": [
        "labelencoder.fit(X_test_cat.iloc[:,3].values)\n",
        "X_test_cat.iloc[:,3]=labelencoder.transform(X_test_cat.iloc[:,3])"
      ],
      "execution_count": 0,
      "outputs": []
    },
    {
      "cell_type": "code",
      "metadata": {
        "id": "5-Zne9bb325q",
        "colab_type": "code",
        "colab": {}
      },
      "source": [
        "labelencoder.fit(X_train_cat.iloc[:,4].values)\n",
        "X_train_cat.iloc[:,4]=labelencoder.transform(X_train_cat.iloc[:,4])"
      ],
      "execution_count": 0,
      "outputs": []
    },
    {
      "cell_type": "code",
      "metadata": {
        "id": "DQ7rVfU05vmv",
        "colab_type": "code",
        "colab": {}
      },
      "source": [
        "labelencoder.fit(X_test_cat.iloc[:,4].values)\n",
        "X_test_cat.iloc[:,4]=labelencoder.transform(X_test_cat.iloc[:,4])"
      ],
      "execution_count": 0,
      "outputs": []
    },
    {
      "cell_type": "code",
      "metadata": {
        "id": "t4vN5XYy3spP",
        "colab_type": "code",
        "outputId": "94cb0536-f357-44bf-fd6e-b5bedbb37f5f",
        "colab": {
          "base_uri": "https://localhost:8080/",
          "height": 221
        }
      },
      "source": [
        "X_train_cat.head()"
      ],
      "execution_count": 247,
      "outputs": [
        {
          "output_type": "execute_result",
          "data": {
            "text/html": [
              "<div>\n",
              "<style scoped>\n",
              "    .dataframe tbody tr th:only-of-type {\n",
              "        vertical-align: middle;\n",
              "    }\n",
              "\n",
              "    .dataframe tbody tr th {\n",
              "        vertical-align: top;\n",
              "    }\n",
              "\n",
              "    .dataframe thead th {\n",
              "        text-align: right;\n",
              "    }\n",
              "</style>\n",
              "<table border=\"1\" class=\"dataframe\">\n",
              "  <thead>\n",
              "    <tr style=\"text-align: right;\">\n",
              "      <th></th>\n",
              "      <th>Speaker</th>\n",
              "      <th>Speaker's job title</th>\n",
              "      <th>state info</th>\n",
              "      <th>party affiliation</th>\n",
              "      <th>the context (venue/location of speech or statement)</th>\n",
              "    </tr>\n",
              "  </thead>\n",
              "  <tbody>\n",
              "    <tr>\n",
              "      <th>800</th>\n",
              "      <td>2243</td>\n",
              "      <td>952</td>\n",
              "      <td>63</td>\n",
              "      <td>17</td>\n",
              "      <td>2698</td>\n",
              "    </tr>\n",
              "    <tr>\n",
              "      <th>486</th>\n",
              "      <td>91</td>\n",
              "      <td>952</td>\n",
              "      <td>63</td>\n",
              "      <td>17</td>\n",
              "      <td>155</td>\n",
              "    </tr>\n",
              "    <tr>\n",
              "      <th>5183</th>\n",
              "      <td>2224</td>\n",
              "      <td>122</td>\n",
              "      <td>24</td>\n",
              "      <td>20</td>\n",
              "      <td>3179</td>\n",
              "    </tr>\n",
              "    <tr>\n",
              "      <th>6113</th>\n",
              "      <td>2792</td>\n",
              "      <td>952</td>\n",
              "      <td>63</td>\n",
              "      <td>17</td>\n",
              "      <td>374</td>\n",
              "    </tr>\n",
              "    <tr>\n",
              "      <th>8387</th>\n",
              "      <td>2299</td>\n",
              "      <td>383</td>\n",
              "      <td>60</td>\n",
              "      <td>20</td>\n",
              "      <td>4023</td>\n",
              "    </tr>\n",
              "  </tbody>\n",
              "</table>\n",
              "</div>"
            ],
            "text/plain": [
              "      Speaker  ...  the context (venue/location of speech or statement)\n",
              "800      2243  ...                                               2698  \n",
              "486        91  ...                                                155  \n",
              "5183     2224  ...                                               3179  \n",
              "6113     2792  ...                                                374  \n",
              "8387     2299  ...                                               4023  \n",
              "\n",
              "[5 rows x 5 columns]"
            ]
          },
          "metadata": {
            "tags": []
          },
          "execution_count": 247
        }
      ]
    },
    {
      "cell_type": "code",
      "metadata": {
        "id": "rJVojyI86tj5",
        "colab_type": "code",
        "outputId": "140eae26-8f02-465e-f747-d50d4e0bc26d",
        "colab": {
          "base_uri": "https://localhost:8080/",
          "height": 221
        }
      },
      "source": [
        "X_test_cat.head()"
      ],
      "execution_count": 248,
      "outputs": [
        {
          "output_type": "execute_result",
          "data": {
            "text/html": [
              "<div>\n",
              "<style scoped>\n",
              "    .dataframe tbody tr th:only-of-type {\n",
              "        vertical-align: middle;\n",
              "    }\n",
              "\n",
              "    .dataframe tbody tr th {\n",
              "        vertical-align: top;\n",
              "    }\n",
              "\n",
              "    .dataframe thead th {\n",
              "        text-align: right;\n",
              "    }\n",
              "</style>\n",
              "<table border=\"1\" class=\"dataframe\">\n",
              "  <thead>\n",
              "    <tr style=\"text-align: right;\">\n",
              "      <th></th>\n",
              "      <th>Speaker</th>\n",
              "      <th>Speaker's job title</th>\n",
              "      <th>state info</th>\n",
              "      <th>party affiliation</th>\n",
              "      <th>the context (venue/location of speech or statement)</th>\n",
              "    </tr>\n",
              "  </thead>\n",
              "  <tbody>\n",
              "    <tr>\n",
              "      <th>634</th>\n",
              "      <td>111</td>\n",
              "      <td>395</td>\n",
              "      <td>45</td>\n",
              "      <td>11</td>\n",
              "      <td>514</td>\n",
              "    </tr>\n",
              "    <tr>\n",
              "      <th>9419</th>\n",
              "      <td>661</td>\n",
              "      <td>395</td>\n",
              "      <td>10</td>\n",
              "      <td>11</td>\n",
              "      <td>726</td>\n",
              "    </tr>\n",
              "    <tr>\n",
              "      <th>2476</th>\n",
              "      <td>667</td>\n",
              "      <td>245</td>\n",
              "      <td>44</td>\n",
              "      <td>4</td>\n",
              "      <td>348</td>\n",
              "    </tr>\n",
              "    <tr>\n",
              "      <th>2064</th>\n",
              "      <td>103</td>\n",
              "      <td>148</td>\n",
              "      <td>45</td>\n",
              "      <td>11</td>\n",
              "      <td>1293</td>\n",
              "    </tr>\n",
              "    <tr>\n",
              "      <th>1941</th>\n",
              "      <td>174</td>\n",
              "      <td>312</td>\n",
              "      <td>33</td>\n",
              "      <td>4</td>\n",
              "      <td>197</td>\n",
              "    </tr>\n",
              "  </tbody>\n",
              "</table>\n",
              "</div>"
            ],
            "text/plain": [
              "      Speaker  ...  the context (venue/location of speech or statement)\n",
              "634       111  ...                                                514  \n",
              "9419      661  ...                                                726  \n",
              "2476      667  ...                                                348  \n",
              "2064      103  ...                                               1293  \n",
              "1941      174  ...                                                197  \n",
              "\n",
              "[5 rows x 5 columns]"
            ]
          },
          "metadata": {
            "tags": []
          },
          "execution_count": 248
        }
      ]
    },
    {
      "cell_type": "code",
      "metadata": {
        "id": "xwMtlbWEs_2A",
        "colab_type": "code",
        "colab": {}
      },
      "source": [
        "#x = x_data(data)  #data set"
      ],
      "execution_count": 0,
      "outputs": []
    },
    {
      "cell_type": "code",
      "metadata": {
        "id": "daLOLynD3JXp",
        "colab_type": "code",
        "colab": {}
      },
      "source": [
        "#x1 = x_data(data)"
      ],
      "execution_count": 0,
      "outputs": []
    },
    {
      "cell_type": "code",
      "metadata": {
        "id": "FCowIICLEXUD",
        "colab_type": "code",
        "colab": {}
      },
      "source": [
        "#x.shape, x1.shape"
      ],
      "execution_count": 0,
      "outputs": []
    },
    {
      "cell_type": "code",
      "metadata": {
        "id": "RwdyWK6c17rj",
        "colab_type": "code",
        "colab": {}
      },
      "source": [
        "X_train_cont = X_train.loc[:,['barely true counts','false counts',\"half true counts\",'mostly true counts','pants on fire counts']]\n",
        "X_test_cont = X_test.loc[:,['barely true counts','false counts',\"half true counts\",'mostly true counts','pants on fire counts']]"
      ],
      "execution_count": 0,
      "outputs": []
    },
    {
      "cell_type": "code",
      "metadata": {
        "id": "833ElA6f2qzC",
        "colab_type": "code",
        "outputId": "fa68ddb8-0995-45e7-e604-dd2c50728fc5",
        "colab": {
          "base_uri": "https://localhost:8080/",
          "height": 204
        }
      },
      "source": [
        "X_train_cont.head()"
      ],
      "execution_count": 253,
      "outputs": [
        {
          "output_type": "execute_result",
          "data": {
            "text/html": [
              "<div>\n",
              "<style scoped>\n",
              "    .dataframe tbody tr th:only-of-type {\n",
              "        vertical-align: middle;\n",
              "    }\n",
              "\n",
              "    .dataframe tbody tr th {\n",
              "        vertical-align: top;\n",
              "    }\n",
              "\n",
              "    .dataframe thead th {\n",
              "        text-align: right;\n",
              "    }\n",
              "</style>\n",
              "<table border=\"1\" class=\"dataframe\">\n",
              "  <thead>\n",
              "    <tr style=\"text-align: right;\">\n",
              "      <th></th>\n",
              "      <th>barely true counts</th>\n",
              "      <th>false counts</th>\n",
              "      <th>half true counts</th>\n",
              "      <th>mostly true counts</th>\n",
              "      <th>pants on fire counts</th>\n",
              "    </tr>\n",
              "  </thead>\n",
              "  <tbody>\n",
              "    <tr>\n",
              "      <th>800</th>\n",
              "      <td>0.0</td>\n",
              "      <td>0.0</td>\n",
              "      <td>0.0</td>\n",
              "      <td>1.0</td>\n",
              "      <td>1.0</td>\n",
              "    </tr>\n",
              "    <tr>\n",
              "      <th>486</th>\n",
              "      <td>0.0</td>\n",
              "      <td>0.0</td>\n",
              "      <td>0.0</td>\n",
              "      <td>0.0</td>\n",
              "      <td>1.0</td>\n",
              "    </tr>\n",
              "    <tr>\n",
              "      <th>5183</th>\n",
              "      <td>7.0</td>\n",
              "      <td>8.0</td>\n",
              "      <td>10.0</td>\n",
              "      <td>12.0</td>\n",
              "      <td>3.0</td>\n",
              "    </tr>\n",
              "    <tr>\n",
              "      <th>6113</th>\n",
              "      <td>5.0</td>\n",
              "      <td>5.0</td>\n",
              "      <td>0.0</td>\n",
              "      <td>3.0</td>\n",
              "      <td>15.0</td>\n",
              "    </tr>\n",
              "    <tr>\n",
              "      <th>8387</th>\n",
              "      <td>30.0</td>\n",
              "      <td>30.0</td>\n",
              "      <td>42.0</td>\n",
              "      <td>23.0</td>\n",
              "      <td>18.0</td>\n",
              "    </tr>\n",
              "  </tbody>\n",
              "</table>\n",
              "</div>"
            ],
            "text/plain": [
              "      barely true counts  ...  pants on fire counts\n",
              "800                  0.0  ...                   1.0\n",
              "486                  0.0  ...                   1.0\n",
              "5183                 7.0  ...                   3.0\n",
              "6113                 5.0  ...                  15.0\n",
              "8387                30.0  ...                  18.0\n",
              "\n",
              "[5 rows x 5 columns]"
            ]
          },
          "metadata": {
            "tags": []
          },
          "execution_count": 253
        }
      ]
    },
    {
      "cell_type": "code",
      "metadata": {
        "id": "LoGVymb_7gMZ",
        "colab_type": "code",
        "outputId": "76f269ab-ab3b-4513-f3cf-7c4ebd1e7366",
        "colab": {
          "base_uri": "https://localhost:8080/",
          "height": 204
        }
      },
      "source": [
        "X_test_cont.head()"
      ],
      "execution_count": 254,
      "outputs": [
        {
          "output_type": "execute_result",
          "data": {
            "text/html": [
              "<div>\n",
              "<style scoped>\n",
              "    .dataframe tbody tr th:only-of-type {\n",
              "        vertical-align: middle;\n",
              "    }\n",
              "\n",
              "    .dataframe tbody tr th {\n",
              "        vertical-align: top;\n",
              "    }\n",
              "\n",
              "    .dataframe thead th {\n",
              "        text-align: right;\n",
              "    }\n",
              "</style>\n",
              "<table border=\"1\" class=\"dataframe\">\n",
              "  <thead>\n",
              "    <tr style=\"text-align: right;\">\n",
              "      <th></th>\n",
              "      <th>barely true counts</th>\n",
              "      <th>false counts</th>\n",
              "      <th>half true counts</th>\n",
              "      <th>mostly true counts</th>\n",
              "      <th>pants on fire counts</th>\n",
              "    </tr>\n",
              "  </thead>\n",
              "  <tbody>\n",
              "    <tr>\n",
              "      <th>634</th>\n",
              "      <td>7.0</td>\n",
              "      <td>19.0</td>\n",
              "      <td>3.0</td>\n",
              "      <td>5.0</td>\n",
              "      <td>44.0</td>\n",
              "    </tr>\n",
              "    <tr>\n",
              "      <th>9419</th>\n",
              "      <td>0.0</td>\n",
              "      <td>0.0</td>\n",
              "      <td>0.0</td>\n",
              "      <td>0.0</td>\n",
              "      <td>0.0</td>\n",
              "    </tr>\n",
              "    <tr>\n",
              "      <th>2476</th>\n",
              "      <td>2.0</td>\n",
              "      <td>2.0</td>\n",
              "      <td>4.0</td>\n",
              "      <td>1.0</td>\n",
              "      <td>1.0</td>\n",
              "    </tr>\n",
              "    <tr>\n",
              "      <th>2064</th>\n",
              "      <td>4.0</td>\n",
              "      <td>6.0</td>\n",
              "      <td>3.0</td>\n",
              "      <td>5.0</td>\n",
              "      <td>1.0</td>\n",
              "    </tr>\n",
              "    <tr>\n",
              "      <th>1941</th>\n",
              "      <td>2.0</td>\n",
              "      <td>2.0</td>\n",
              "      <td>2.0</td>\n",
              "      <td>3.0</td>\n",
              "      <td>0.0</td>\n",
              "    </tr>\n",
              "  </tbody>\n",
              "</table>\n",
              "</div>"
            ],
            "text/plain": [
              "      barely true counts  ...  pants on fire counts\n",
              "634                  7.0  ...                  44.0\n",
              "9419                 0.0  ...                   0.0\n",
              "2476                 2.0  ...                   1.0\n",
              "2064                 4.0  ...                   1.0\n",
              "1941                 2.0  ...                   0.0\n",
              "\n",
              "[5 rows x 5 columns]"
            ]
          },
          "metadata": {
            "tags": []
          },
          "execution_count": 254
        }
      ]
    },
    {
      "cell_type": "code",
      "metadata": {
        "id": "TWCTFPiG94Rs",
        "colab_type": "code",
        "colab": {}
      },
      "source": [
        "X_train_text = X_train.loc[:,['Statement']]\n",
        "X_test_text = X_test.loc[:,['Statement']]"
      ],
      "execution_count": 0,
      "outputs": []
    },
    {
      "cell_type": "code",
      "metadata": {
        "id": "bZq2lcJH94ec",
        "colab_type": "code",
        "outputId": "a2b5d82e-8d6a-4e67-9e26-e566c56bf248",
        "colab": {
          "base_uri": "https://localhost:8080/",
          "height": 204
        }
      },
      "source": [
        "X_train_text.head()"
      ],
      "execution_count": 256,
      "outputs": [
        {
          "output_type": "execute_result",
          "data": {
            "text/html": [
              "<div>\n",
              "<style scoped>\n",
              "    .dataframe tbody tr th:only-of-type {\n",
              "        vertical-align: middle;\n",
              "    }\n",
              "\n",
              "    .dataframe tbody tr th {\n",
              "        vertical-align: top;\n",
              "    }\n",
              "\n",
              "    .dataframe thead th {\n",
              "        text-align: right;\n",
              "    }\n",
              "</style>\n",
              "<table border=\"1\" class=\"dataframe\">\n",
              "  <thead>\n",
              "    <tr style=\"text-align: right;\">\n",
              "      <th></th>\n",
              "      <th>Statement</th>\n",
              "    </tr>\n",
              "  </thead>\n",
              "  <tbody>\n",
              "    <tr>\n",
              "      <th>800</th>\n",
              "      <td>atlanta issu increas number citat collect incr...</td>\n",
              "    </tr>\n",
              "    <tr>\n",
              "      <th>486</th>\n",
              "      <td>denzel washington support donald trump speak b...</td>\n",
              "    </tr>\n",
              "    <tr>\n",
              "      <th>5183</th>\n",
              "      <td>ebola incred contagi transmiss easi catch</td>\n",
              "    </tr>\n",
              "    <tr>\n",
              "      <th>6113</th>\n",
              "      <td>number american kill terror last decad number ...</td>\n",
              "    </tr>\n",
              "    <tr>\n",
              "      <th>8387</th>\n",
              "      <td>energi effici legisl sponsor us sen jeann shah...</td>\n",
              "    </tr>\n",
              "  </tbody>\n",
              "</table>\n",
              "</div>"
            ],
            "text/plain": [
              "                                              Statement\n",
              "800   atlanta issu increas number citat collect incr...\n",
              "486   denzel washington support donald trump speak b...\n",
              "5183          ebola incred contagi transmiss easi catch\n",
              "6113  number american kill terror last decad number ...\n",
              "8387  energi effici legisl sponsor us sen jeann shah..."
            ]
          },
          "metadata": {
            "tags": []
          },
          "execution_count": 256
        }
      ]
    },
    {
      "cell_type": "code",
      "metadata": {
        "id": "Hrz14iz994bP",
        "colab_type": "code",
        "outputId": "3ec9d609-3e91-4540-baed-1f109ca0a11d",
        "colab": {
          "base_uri": "https://localhost:8080/",
          "height": 204
        }
      },
      "source": [
        "X_test_text.head()"
      ],
      "execution_count": 257,
      "outputs": [
        {
          "output_type": "execute_result",
          "data": {
            "text/html": [
              "<div>\n",
              "<style scoped>\n",
              "    .dataframe tbody tr th:only-of-type {\n",
              "        vertical-align: middle;\n",
              "    }\n",
              "\n",
              "    .dataframe tbody tr th {\n",
              "        vertical-align: top;\n",
              "    }\n",
              "\n",
              "    .dataframe thead th {\n",
              "        text-align: right;\n",
              "    }\n",
              "</style>\n",
              "<table border=\"1\" class=\"dataframe\">\n",
              "  <thead>\n",
              "    <tr style=\"text-align: right;\">\n",
              "      <th></th>\n",
              "      <th>Statement</th>\n",
              "    </tr>\n",
              "  </thead>\n",
              "  <tbody>\n",
              "    <tr>\n",
              "      <th>634</th>\n",
              "      <td>barack wrote thesi columbia univers critic plu...</td>\n",
              "    </tr>\n",
              "    <tr>\n",
              "      <th>9419</th>\n",
              "      <td>us depart homeland secur warn save databas foo...</td>\n",
              "    </tr>\n",
              "    <tr>\n",
              "      <th>2476</th>\n",
              "      <td>statehir compani evalu statemand student exam ...</td>\n",
              "    </tr>\n",
              "    <tr>\n",
              "      <th>2064</th>\n",
              "      <td>righttowork state much lower level unemploy un...</td>\n",
              "    </tr>\n",
              "    <tr>\n",
              "      <th>1941</th>\n",
              "      <td>bridg nowher could occur</td>\n",
              "    </tr>\n",
              "  </tbody>\n",
              "</table>\n",
              "</div>"
            ],
            "text/plain": [
              "                                              Statement\n",
              "634   barack wrote thesi columbia univers critic plu...\n",
              "9419  us depart homeland secur warn save databas foo...\n",
              "2476  statehir compani evalu statemand student exam ...\n",
              "2064  righttowork state much lower level unemploy un...\n",
              "1941                           bridg nowher could occur"
            ]
          },
          "metadata": {
            "tags": []
          },
          "execution_count": 257
        }
      ]
    },
    {
      "cell_type": "code",
      "metadata": {
        "id": "GcSViQQy-_o-",
        "colab_type": "code",
        "outputId": "0145781f-ef52-463c-dd22-157af07acd68",
        "colab": {
          "base_uri": "https://localhost:8080/",
          "height": 119
        }
      },
      "source": [
        "y_train.head()"
      ],
      "execution_count": 258,
      "outputs": [
        {
          "output_type": "execute_result",
          "data": {
            "text/plain": [
              "800     3\n",
              "486     4\n",
              "5183    0\n",
              "6113    3\n",
              "8387    1\n",
              "Name: Label, dtype: int64"
            ]
          },
          "metadata": {
            "tags": []
          },
          "execution_count": 258
        }
      ]
    },
    {
      "cell_type": "code",
      "metadata": {
        "id": "70e3EqojoN0v",
        "colab_type": "code",
        "outputId": "3c96b1ab-5f08-406f-be3e-5c05f274b3f0",
        "colab": {
          "base_uri": "https://localhost:8080/",
          "height": 119
        }
      },
      "source": [
        "y_test.head()"
      ],
      "execution_count": 259,
      "outputs": [
        {
          "output_type": "execute_result",
          "data": {
            "text/plain": [
              "634     4\n",
              "9419    5\n",
              "2476    0\n",
              "2064    3\n",
              "1941    1\n",
              "Name: Label, dtype: int64"
            ]
          },
          "metadata": {
            "tags": []
          },
          "execution_count": 259
        }
      ]
    },
    {
      "cell_type": "code",
      "metadata": {
        "id": "rfZc3BfpoR25",
        "colab_type": "code",
        "colab": {}
      },
      "source": [
        "#pd.DataFrame(y_data).nunique()"
      ],
      "execution_count": 0,
      "outputs": []
    },
    {
      "cell_type": "code",
      "metadata": {
        "id": "kgxvggtCsLm4",
        "colab_type": "code",
        "colab": {}
      },
      "source": [
        "# Converting the Text into list\n",
        "stat_data_train = X_train_text['Statement'].tolist()\n",
        "stat_data_test = X_test_text['Statement'].tolist()\n",
        "#stat_test = test['Statement'].tolist()\n",
        "\n",
        "# Adding data and test data\n",
        "lis_stat = stat_data_train + stat_data_test"
      ],
      "execution_count": 0,
      "outputs": []
    },
    {
      "cell_type": "code",
      "metadata": {
        "id": "z2__ULMPsLkd",
        "colab_type": "code",
        "outputId": "e6b4f2bb-d467-44d9-98cc-9c6b29f65fa3",
        "colab": {
          "base_uri": "https://localhost:8080/",
          "height": 88
        }
      },
      "source": [
        "#Fitting TFIDF on summary\n",
        "tfv_sum = TfidfVectorizer(max_features=5000, lowercase=True, analyzer='word',\n",
        " stop_words= 'english',ngram_range=(1,3))\n",
        "# Fitting TF-IDF to both dataing and data sets (semi-supervised learning)\n",
        "tfv_sum.fit(lis_stat)\n",
        "print(tfv_sum.vocabulary_)\n",
        "print(tfv_sum.idf_)\n",
        "xtrain_tfv_sum =  tfv_sum.transform(stat_data_train).toarray()\n",
        "xtest_tfv_sum = tfv_sum.transform(stat_data_test).toarray()\n",
        "type(xtrain_tfv_sum)"
      ],
      "execution_count": 262,
      "outputs": [
        {
          "output_type": "stream",
          "text": [
            "{'atlanta': 233, 'issu': 2247, 'increas': 2143, 'number': 3015, 'citat': 771, 'collect': 831, 'revenu': 3747, 'sinc': 4069, 'mayor': 2682, 'kasim': 2373, 'reed': 3627, 'took': 4528, 'offic': 3049, 'increas number': 2150, 'kasim reed': 2374, 'took offic': 4533, 'washington': 4855, 'support': 4314, 'donald': 1279, 'trump': 4604, 'speak': 4160, 'barack': 303, 'donald trump': 1280, 'ebola': 1357, 'incred': 2156, 'catch': 664, 'american': 134, 'kill': 2403, 'terror': 4436, 'decad': 1133, 'gun': 1909, 'number american': 3016, 'american kill': 144, 'kill gun': 2405, 'energi': 1425, 'effici': 1374, 'legisl': 2489, 'sponsor': 4192, 'sen': 3956, 'jeann': 2264, 'shaheen': 4018, 'feder': 1584, 'bureaucrat': 544, 'local': 2544, 'build': 531, 'code': 826, 'enforc': 1428, 'citi': 773, 'socal': 4115, 'green': 1881, 'mandat': 2625, 'compli': 880, 'quickli': 3513, 'jeann shaheen': 2265, 'build code': 532, 'union': 4671, 'creat': 1020, 'work': 4952, 'day': 1113, 'hour': 2048, 'week': 4886, 'henri': 1979, 'work day': 4953, 'record': 3613, 'marquett': 2655, 'univers': 4683, 'statist': 4232, 'bear': 353, 'time': 4503, 'countri': 999, 'make': 2609, 'restrict': 3737, 'abort': 5, 'law': 2456, 'fatal': 1575, 'actual': 40, 'histori': 2019, 'wisconsin': 4920, 'govern': 1843, 'job': 2285, 'manufactur': 2633, 'time histori': 4505, 'govern job': 1849, 'manufactur job': 2634, 'new': 2951, 'jersey': 2273, 'seven': 4006, 'credit': 1031, 'downgrad': 1305, 'chri': 755, 'christi': 759, 'becam': 356, 'governor': 1859, 'new jersey': 2959, 'chri christi': 757, 'becam governor': 357, 'school': 3895, 'pupil': 3498, 'decreas': 1142, 'past': 3182, 'local school': 2546, 'past decad': 3183, 'congressman': 911, 'robert': 3791, 'hurt': 2080, 'plan': 3285, 'cut': 1061, 'educ': 1369, 'robert hurt': 3792, 'plan cut': 3288, 'cut educ': 1068, 'fact': 1546, 'nation': 2899, 'debt': 1128, 'million': 2779, 'today': 4513, 'rise': 3780, 'nation debt': 2903, 'middleclass': 2762, 'famili': 1558, 'america': 131, 'pay': 3203, 'wealthi': 4875, 'middleclass famili': 2763, 'pay cut': 3207, 'cut wealthi': 1083, 'tap': 4374, 'lawyer': 2467, 'justic': 2360, 'ago': 88, 'john': 2317, 'mccain': 2687, 'offer': 3048, 'said': 3850, 'ban': 295, 'candid': 585, 'regist': 3643, 'lobbyist': 2543, 'john mccain': 2326, 'basebal': 341, 'hammer': 1935, 'weve': 4899, 'unemploy': 4656, 'higher': 1988, 'averag': 260, 'oregon': 3097, 'higher nation': 1990, 'nation averag': 2900, 'want': 4831, 'impos': 2121, 'municip': 2884, 'incom': 2136, 'troop': 4597, 'cost': 970, 'war': 4841, 'retain': 3740, 'taxpay': 4397, 'expens': 1527, 'thank': 4477, 'polici': 3318, 'dollar': 1266, 'raini': 3526, 'fund': 1727, 'consecut': 918, 'million dollar': 2790, 'raini day': 3527, 'day fund': 1114, 'raini day fund': 3528, 'hed': 1967, 'deport': 1198, 'someon': 4136, 'disabl': 1235, 'ga': 1743, 'price': 3400, 'exxon': 1541, 'mobil': 2846, 'profit': 3438, 'ga price': 1746, 'propos': 3455, 'transport': 4568, 'project': 3443, 'spend': 4170, 'singl': 4084, 'vehicl': 4730, 'road': 3786, 'morn': 2867, 'commut': 866, 'bradi': 489, 'campaign': 570, 'given': 1805, 'rate': 3564, 'budget': 517, 'ted': 4417, 'cruz': 1049, 'vote': 4767, 'senat': 3967, 'defens': 1151, 'ted cruz': 4418, 'vote time': 4798, 'budget cut': 519, 'defens spend': 1154, 'propos cut': 3457, 'liber': 2508, 'dnc': 1256, 'chairman': 704, 'tim': 4501, 'kain': 2367, 'billion': 404, 'stimulu': 4245, 'fail': 1550, 'tim kain': 4502, 'billion stimulu': 422, 'creat job': 1021, 'bruce': 513, 'ticket': 4498, 'sold': 4128, 'cancel': 581, 'didnt': 1221, 'sale': 3859, 'purchas': 3499, 'background': 278, 'check': 726, 'gun purchas': 1917, 'background check': 279, 'suprem': 4331, 'court': 1008, 'tradit': 4554, 'ask': 220, 'lot': 2570, 'question': 3512, 'argument': 209, 'suprem court': 4332, 'bush': 549, 'interview': 2215, 'york': 4985, 'entir': 1442, 'presid': 3383, 'new york': 2971, 'york time': 4987, 'new york time': 2973, 'hillari': 2009, 'clinton': 804, 'return': 3744, 'saw': 3886, 'come': 847, 'donor': 1287, 'foundat': 1696, 'benefit': 378, 'depart': 1191, 'term': 4429, 'hillari clinton': 2010, 'clinton foundat': 808, 'seen': 3950, 'hate': 1952, 'crime': 1034, 'skyrocket': 4097, 'wake': 4818, 'immigr': 2109, 'debat': 1124, 'hate crime': 1953, 'senior': 3985, 'medicar': 2716, 'obamacar': 3033, 'billion medicar': 419, 'medicar cut': 2719, 'cut fund': 1069, 'fund obamacar': 1734, 'gov': 1827, 'scott': 3918, 'walker': 4821, 'elimin': 1399, 'cancer': 582, 'screen': 3926, 'uninsur': 4668, 'women': 4944, 'altern': 124, 'wisconsin gov': 4923, 'gov scott': 1840, 'scott walker': 3921, 'cancer screen': 584, 'wisconsin gov scott': 4924, 'gov scott walker': 1841, 'brown': 511, 'reward': 3753, 'compani': 868, 'ship': 4039, 'oversea': 3121, 'scott brown': 3919, 'brown vote': 512, 'compani ship': 872, 'ship job': 4040, 'job oversea': 2300, 'compani ship job': 873, 'ship job oversea': 4041, 'food': 1673, 'stamp': 4207, 'center': 689, 'program': 3439, 'foreign': 1680, 'shore': 4044, 'food stamp': 1674, 'care': 617, 'real': 3588, 'estat': 1467, 'transact': 4560, 'subject': 4287, 'new care': 2953, 'care law': 623, 'real estat': 3589, 'new care law': 2954, 'dalla': 1091, 'cowboy': 1017, 'world': 4964, 'bob': 451, 'hope': 2041, 'milwauke': 2811, 'polic': 3313, 'chief': 733, 'basic': 343, 'caus': 671, 'milwauke polic': 2815, 'polic chief': 3314, 'know': 2417, 'pull': 3495, 'truth': 4611, 'matter': 2679, 'start': 4212, 'physic': 3273, 'iraq': 2234, 'shutdown': 4054, 'veteran': 4737, 'govern shutdown': 1852, 'veteran benefit': 4739, 'hous': 2050, 'repres': 3689, 'extend': 1536, 'rhode': 3754, 'island': 2243, 'tax': 4381, 'hous repres': 2055, 'rhode island': 3755, 'feder incom': 1596, 'incom tax': 2142, 'tax increas': 4385, 'feder incom tax': 1597, 'sotomayor': 4147, 'rule': 3825, 'white': 4908, 'firefight': 1645, 'basi': 342, 'thought': 4491, 'minor': 2825, 'prefer': 3370, 'color': 841, 'discrimin': 1244, 'total': 4536, 'commit': 855, 'repay': 3682, 'good': 1820, 'promis': 3446, 'fisher': 1651, 'tri': 4583, 'expand': 1520, 'texa': 4442, 'offici': 3054, 'resolut': 3727, 'forc': 1677, 'texan': 4465, 'million texan': 2806, 'citi atlanta': 775, 'document': 1258, 'mike': 2768, 'penc': 3236, 'rid': 3769, 'birthright': 437, 'citizenship': 783, 'million million': 2799, 'mike penc': 2770, 'want rid': 4840, 'birthright citizenship': 438, 'child': 734, 'born': 472, 'accord': 25, 'word': 4951, 'child born': 736, 'young': 4990, 'account': 27, 'hiv': 2024, 'infect': 2171, 'africa': 78, 'primari': 3401, 'student': 4279, 'half': 1926, 'alon': 121, 'increas cost': 2144, 'taken': 4364, 'vacat': 4720, 'gener': 1769, 'congress': 902, 'joke': 2334, 'illeg': 2097, 'alien': 110, 'militari': 2772, 'instal': 2185, 'illeg alien': 2098, 'floridian': 1666, 'privat': 3411, 'sector': 3942, 'net': 2944, 'month': 2861, 'creat new': 1025, 'new privat': 2965, 'privat sector': 3416, 'sector job': 3943, 'job month': 2298, 'new privat sector': 2966, 'privat sector job': 3417, 'reform': 3632, 'rais': 3529, 'deficit': 1155, 'care reform': 632, 'deficit billion': 1156, 'parti': 3161, 'republican': 3694, 'solid': 4131, 'evid': 1501, 'earth': 1351, 'warm': 4846, 'tea': 4405, 'say': 3887, 'iranian': 2233, 'woman': 4940, 'public': 3480, 'risk': 3782, 'beaten': 355, 'david': 1108, 'cicillin': 768, 'abus': 15, 'domest': 1275, 'elderli': 1382, 'david cicillin': 1109, 'child abus': 735, 'mitt': 2837, 'romney': 3798, 'parenthood': 3157, 'medic': 2707, 'board': 449, 'prolif': 3445, 'group': 1894, 'mitt romney': 2838, 'romney plan': 3802, 'plan parenthood': 3293, 'mitt romney plan': 2841, 'joann': 2283, 'kloppenburg': 2415, 'told': 4519, 'think': 4485, 'promot': 3448, 'equal': 1453, 'societi': 4124, 'joann kloppenburg': 2284, 'sonia': 4142, 'court justic': 1010, 'sonia sotomayor': 4143, 'suprem court justic': 4334, 'nato': 2917, 'dont': 1288, 'equip': 1455, 'train': 4558, 'purpos': 3503, 'spot': 4194, 'produc': 3432, 'onethird': 3077, 'electr': 1390, 'footbal': 1676, 'stadium': 4203, 'consum': 931, 'peak': 3229, 'obama': 3026, 'decis': 1138, 'permit': 3254, 'keyston': 2393, 'xl': 4980, 'pipelin': 3282, 'meant': 2700, 'deni': 1189, 'abil': 2, 'immedi': 2108, 'reduc': 3623, 'pump': 3496, 'keyston xl': 2395, 'xl pipelin': 4981, 'keyston xl pipelin': 2396, 'gay': 1761, 'noth': 3004, 'intern': 2209, 'flight': 1657, 'jet': 2275, 'daili': 1089, 'approxim': 201, 'gener million': 1775, 'size': 4094, 'doubl': 1300, 'feder govern': 1594, 'doubl sinc': 1302, 'grown': 1896, 'action': 37, 'insur': 2193, 'afford': 73, 'act': 36, 'afford care': 74, 'care act': 618, 'afford care act': 75, 'safeti': 3849, 'greater': 1878, 'harm': 1946, 'cut public': 1075, 'public safeti': 3486, 'polic offic': 3316, 'thousand': 4492, 'includ': 2132, 'cornyn': 958, 'greg': 1885, 'abbott': 0, 'thousand dollar': 4493, 'support republican': 4328, 'republican parti': 3708, 'john cornyn': 2320, 'greg abbott': 1886, 'paid': 3139, 'premium': 3375, 'payrol': 3227, 'rest': 3732, 'deficit spend': 1159, 'rep': 3674, 'barrow': 339, 'fellow': 1613, 'democrat': 1175, 'went': 4895, 'spree': 4197, 'card': 615, 'max': 2680, 'rep john': 3676, 'john barrow': 2318, 'fellow democrat': 1614, 'spend spree': 4179, 'credit card': 1032, 'card max': 616, 'rep john barrow': 3677, 'ann': 171, 'kuster': 2425, 'turn': 4618, 'eye': 1542, 'need': 2935, 'lowincom': 2583, 'children': 739, 'institut': 2191, 'vote fund': 4781, 'face': 1543, 'someth': 4137, 'pass': 3176, 'spent': 4181, 'togeth': 4517, 'sanction': 3866, 'iran': 2228, 'negoti': 2939, 'tabl': 4363, 'sanction iran': 3867, 'popular': 3333, 'unit': 4673, 'state': 4213, 'everi': 1477, 'major': 2601, 'battl': 347, 'vietnam': 4746, 'unit state': 4675, 'everi major': 1486, 'everi singl': 1493, 'larger': 2445, 'annual': 173, 'economi': 1365, 'mani': 2629, 'perform': 3249, 'everi day': 1480, 'career': 637, 'su': 4286, 'racial': 3517, 'rent': 3673, 'apart': 186, 'develop': 1214, 'africanamerican': 81, 'justic depart': 2361, 'testifi': 4441, 'behalf': 369, 'nra': 3008, 'appropri': 198, 'addit': 53, 'perhap': 3250, 'betti': 391, 'sutton': 4351, 'betti sutton': 392, 'trust': 4609, 'virtual': 4756, 'high': 1983, 'graduat': 1866, 'age': 83, 'high school': 1984, 'school graduat': 3904, 'high school graduat': 1986, 'leader': 2472, 'endors': 1423, 'marco': 2638, 'rubio': 3820, 'republican leader': 3703, 'marco rubio': 2639, 'loi': 2549, 'helicopt': 1972, 'ride': 3770, 'dinner': 1229, 'burden': 539, 'censu': 682, 'figur': 1630, 'releas': 3657, 'anoth': 175, 'resid': 3724, 'florida': 1664, 'legislatur': 2494, 'file': 1631, 'lawsuit': 2466, 'fight': 1628, 'amend': 128, 'oppos': 3088, 'effort': 1375, 'defund': 1163, 'rubio oppos': 3821, 'defund plan': 1164, 'marco rubio oppos': 2640, 'defund plan parenthood': 1165, 'continu': 937, 'accept': 18, 'hundr': 2069, 'corpor': 960, 'pac': 3133, 'insid': 2183, 'money': 2855, 'hundr thousand': 2072, 'fund campaign': 1729, 'hundr thousand dollar': 2073, 'perdu': 3247, 'mismanag': 2827, 'nearli': 2925, 'got': 1824, 'laid': 2437, 'grew': 1887, 'kenya': 2389, 'receiv': 3601, 'exclus': 1511, 'labor': 2430, 'special': 4165, 'counsel': 987, 'busi': 555, 'money come': 2857, 'labor union': 2433, 'broward': 509, 'homicid': 2035, 'border': 464, 'particular': 3165, 'complet': 879, 'kasich': 2371, 'remov': 3669, 'gov john': 1832, 'john kasich': 2321, 'board educ': 450, 'gov john kasich': 1833, 'run': 3826, 'neg': 2936, 'ad': 43, 'especi': 1464, 'neg ad': 2937, 'american histori': 141, 'western': 4898, 'extremist': 1540, 'syria': 4360, 'berni': 386, 'sander': 3870, 'admit': 60, 'socialist': 4123, 'nazi': 2921, 'berni sander': 387, 'nomin': 2988, 'chuck': 764, 'hagel': 1924, 'secretari': 3939, 'filibust': 1632, 'chuck hagel': 765, 'northeast': 3000, 'ohio': 3058, 'kid': 2398, 'hampshir': 1936, 'help': 1974, 'new hampshir': 2958, 'help creat': 1976, 'children insur': 742, 'insur program': 2203, 'children insur program': 743, 'indiana': 2161, 'provid': 3473, 'zero': 4996, 'homeless': 2033, 'shelter': 4032, 'gov mike': 1834, 'gov mike penc': 1835, 'household': 2060, 'bank': 298, 'theyr': 4481, 'reli': 3660, 'financi': 1636, 'servic': 3999, 'like': 2524, 'payday': 3225, 'loan': 2541, 'shop': 4043, 'cash': 654, 'bank account': 299, 'proper': 3451, 'believ': 372, 'activ': 38, 'duti': 1339, 'lowest': 2578, 'lower': 2576, 'welfar': 4890, 'recipi': 3609, 'pay increas': 3215, 'lowest sinc': 2582, 'welfar recipi': 4892, 'place': 3284, 'piec': 3277, 'nomine': 2989, 'senat republican': 3980, 'piec legisl': 3278, 'bridg': 500, 'nowher': 3007, 'bridg nowher': 501, 'fastestgrow': 1574, 'religi': 3662, 'identif': 2091, 'percentof': 3246, 'automobil': 258, 'attribut': 244, 'alcohol': 106, 'earli': 1342, 'sunday': 4305, 'elect': 1383, 'hispan': 2017, 'elect day': 1385, 'broken': 506, 'compact': 867, 'light': 2521, 'bulb': 535, 'attack': 236, 'light bulb': 2522, 'practic': 3359, 'earmark': 1345, 'save': 3879, 'anywher': 184, 'american taxpay': 156, 'billion billion': 406, 'billion dollar': 414, 'pocket': 3309, 'big': 397, 'oil': 3064, 'big oil': 399, 'broke': 504, 'billion debt': 412, 'undocu': 4652, 'pick': 3275, 'appear': 190, 'later': 2452, 'tom': 4521, 'break': 498, 'china': 746, 'job china': 2287, 'hb': 1957, 'north': 2995, 'carolina': 642, 'north carolina': 2997, 'wasnt': 4860, 'ran': 3549, 'ken': 2383, 'cuccinelli': 1052, 'away': 271, 'ken cuccinelli': 2384, 'money away': 2856, 'public school': 3487, 'school fund': 3903, 'privat school': 3415, 'public school fund': 3488, 'demand': 1173, 'afghanistan': 76, 'longer': 2551, 'land': 2439, 'conduct': 893, 'nation histori': 2906, 'spoken': 4190, 'lie': 2514, 'japan': 2260, 'nuclear': 3009, 'weapon': 4877, 'foreign polici': 1683, 'said want': 3856, 'nuclear weapon': 3014, 'bracket': 488, 'barack want': 321, 'want rais': 4838, 'rais tax': 3542, 'barack want rais': 322, 'want rais tax': 4839, 'old': 3072, 'gen': 1767, 'eisenhow': 1379, 'personnel': 3259, 'militari personnel': 2773, 'havent': 1954, 'gotten': 1826, 'crash': 1019, 'pay rais': 3221, 'requir': 3720, 'inspect': 2184, 'tank': 4373, 'owner': 3131, 'ceo': 697, 'larg': 2444, 'chariti': 718, 'salari': 3857, 'head': 1958, 'free': 1714, 'commun': 863, 'rail': 3524, 'link': 2531, 'februari': 1582, 'lost': 2563, 'stimulu program': 4252, 'lost job': 2565, 'fiscal': 1647, 'barack obama': 309, 'fiscal budget': 1648, 'budget propos': 525, 'hous senat': 2057, 'judg': 2350, 'tennesse': 4427, 'birther': 436, 'bring': 502, 'highest': 1995, 'jobless': 2310, 'worst': 4970, 'region': 3642, 'near': 2923, 'econom': 1358, 'growth': 1897, 'protect': 3466, 'millionair': 2809, 'veto': 4740, 'minimum': 2819, 'wage': 4811, 'hike': 2008, 'increas unemploy': 2155, 'econom growth': 1360, 'cut millionair': 1074, 'minimum wage': 2820, 'gop': 1822, 'nathan': 2897, 'deal': 1119, 'candid governor': 586, 'nathan deal': 2898, 'die': 1224, 'minnesota': 2824, 'american die': 137, 'tortur': 4535, 'known': 2419, 'dreamer': 1318, 'rubio vote': 3823, 'marco rubio vote': 2641, 'incarcer': 2126, 'state highest': 4221, 'incarcer rate': 2127, 'rate world': 3578, 'unit state highest': 4680, 'approach': 197, 'reduct': 3626, 'major american': 2602, 'republican support': 3715, 'deficit reduct': 1158, 'roughli': 3815, 'birth': 433, 'taxpay pay': 4403, 'tell': 4424, 'viewer': 4748, 'news': 2977, 'benghazi': 380, 'reelect': 3628, 'attack benghazi': 237, 'right': 3774, 'mexico': 2750, 'pose': 3341, 'signific': 4063, 'threat': 4495, 'state america': 4216, 'unit state america': 4676, 'ive': 2250, 'nelson': 2942, 'ive got': 2251, 'vote record': 4792, 'nelson vote': 2943, 'administr': 57, 'hama': 1934, 'recogn': 3610, 'terrorist': 4437, 'organ': 3099, 'rebuild': 3596, 'gaza': 1765, 'patrick': 3192, 'murphi': 2887, 'charg': 716, 'drop': 1327, 'father': 1576, 'gave': 1759, 'prosecutor': 3461, 'huge': 2064, 'donat': 1285, 'patrick murphi': 3193, 'oppon': 3086, 'twice': 4628, 'previous': 3399, 'statewid': 4230, 'stand': 4208, 'bipartisan': 430, 'solut': 4132, 'commiss': 853, 'accident': 22, 'barrett': 338, 'respons': 3731, 'properti': 3452, 'mayor tom': 2684, 'tom barrett': 4522, 'pay properti': 3219, 'properti tax': 3453, 'mayor tom barrett': 2685, 'pay properti tax': 3220, 'product': 3434, 'water': 4868, 'gulf': 1906, 'reach': 3583, 'alltim': 119, 'oil product': 3068, 'gulf mexico': 1907, 'alltim high': 120, 'counti': 990, 'arrest': 217, 'car': 612, 'theft': 4479, 'sent': 3988, 'home': 2030, 'point': 3310, 'hold': 2026, 'suspect': 4348, 'milwauke counti': 2812, 'social': 4117, 'secur': 3944, 'chang': 710, 'whatsoev': 4907, 'social secur': 4120, 'team': 4410, 'respect': 3729, 'doesnt': 1260, 'realli': 3591, 'gore': 1823, 'extra': 1538, 'gasolin': 1758, 'wast': 4864, 'critic': 1043, 'resourc': 3728, 'individu': 2164, 'bodi': 453, 'ammunit': 160, 'aircraft': 97, 'open': 3080, 'offshor': 3056, 'drill': 1319, 'area': 205, 'alreadi': 123, 'lift': 2520, 'instead': 2190, 'announc': 172, 'close': 813, 'offshor drill': 3057, 'largest': 2446, 'tammi': 4370, 'baldwin': 293, 'tammi baldwin': 4371, 'support rais': 4327, 'tax billion': 4382, 'rais tax billion': 3543, 'invad': 2217, 'technic': 4413, 'colleg': 834, 'technic colleg': 4414, 'biggest': 401, 'biggest increas': 402, 'attempt': 238, 'suicid': 4300, 'campus': 578, 'directli': 1232, 'kill job': 2406, 'recent': 3604, 'billiondollar': 427, 'georgian': 1792, 'vaccin': 4721, 'prevent': 3395, 'mental': 2739, 'auto': 255, 'repaid': 3680, 'dime': 1228, 'invest': 2220, 'incid': 2131, 'bullet': 536, 'cross': 1045, 'cross border': 1046, 'member': 2729, 'floor': 1663, 'immigr reform': 2115, 'rick': 3763, 'employ': 1411, 'abl': 3, 'coverag': 1014, 'control': 943, 'rick scott': 3766, 'birth control': 435, 'vast': 4727, 'small': 4106, 'barackobama': 323, 'illinoi': 2104, 'json': 2345, 'true': 4602, 'speaker': 4161, 'video': 4745, 'address': 54, 'halftru': 1930, 'median': 2705, 'mittromney': 2843, 'massachusett': 2668, 'speech': 4168, 'barelytru': 330, 'trillion': 4587, 'replac': 3687, 'conserv': 922, 'televis': 4423, 'read': 3584, 'intellig': 2205, 'estim': 1468, 'bargain': 331, 'effect': 1373, 'score': 3917, 'exam': 1504, 'execut': 1512, 'mostlytru': 2874, 'gdp': 1766, 'capita': 609, 'european': 1474, 'meet': 2728, 'iowa': 2225, 'newspap': 2978, 'medicaid': 2711, 'activist': 39, 'mom': 2853, 'highspe': 2004, 'line': 2527, 'la': 2426, 'vega': 4729, 'vast major': 4728, 'barackobama illinoi': 324, 'illinoi democrat': 2105, 'json true': 2349, 'senat pass': 3977, 'pass budget': 3177, 'speaker hous': 4162, 'json halftru': 2347, 'median incom': 2706, 'governor massachusett': 1862, 'speech json': 4169, 'json barelytru': 2346, 'stimulu includ': 4247, 'iraq war': 2236, 'war iraq': 4845, 'collect bargain': 832, 'bargain law': 332, 'counti execut': 992, 'json mostlytru': 2348, 'scott cut': 3920, 'includ billion': 2133, 'highspe rail': 2005, 'rail project': 3525, 'la vega': 2427, 'barackobama illinoi democrat': 325, 'senat pass budget': 3978, 'collect bargain law': 833, 'milwauke counti execut': 2814, 'rick scott cut': 3767, 'love': 2574, 'houston': 2062, 'california': 564, 'heard': 1963, 'transpacif': 4565, 'partnership': 3169, 'trade': 4549, 'transpacif partnership': 4566, 'partnership trade': 3170, 'trade deal': 4551, 'suggest': 4299, 'sound': 4148, 'dollar fund': 1270, 'fund feder': 1731, 'hear': 1962, 'author': 254, 'opinion': 3085, 'result': 3738, 'guantanamo': 1898, 'bay': 351, 'prison': 3408, 'violent': 4753, 'islamist': 2242, 'design': 1204, 'releas guantanamo': 3658, 'rescu': 3721, 'job sinc': 2302, 'longterm': 2553, 'airport': 99, 'survey': 4346, 'came': 565, 'restor': 3736, 'prayer': 3362, 'pledg': 3304, 'illeg immigr': 2100, 'sign': 4057, 'charli': 720, 'crist': 1042, 'charli crist': 722, 'agenc': 84, 'incent': 2128, 'lead': 2470, 'look': 2554, 'got million': 1825, 'million taxpay': 2804, 'taxpay money': 4402, 'actual reduc': 42, 'bankruptci': 301, 'parol': 3160, 'object': 3037, 'attorney': 241, 'convict': 949, 'murder': 2885, 'attorney gener': 242, 'worker': 4957, 'georgia': 1786, 'field': 1625, 'consid': 923, 'strip': 4273, 'pension': 3240, 'marriag': 2657, 'licens': 2513, 'samesex': 3860, 'coupl': 1005, 'strike': 4271, 'samesex coupl': 3861, 'gut': 1920, 'climat': 800, 'climat chang': 801, 'chines': 748, 'rank': 3554, 'th': 4468, 'rank th': 3556, 'crime rate': 1035, 'talk': 4369, 'option': 3092, 'use': 4704, 'alli': 115, 'bar': 302, 'stimulu fund': 4246, 'fought': 1695, 'studio': 4285, 'begin': 368, 'oper': 3084, 'grant': 1873, 'receiv million': 3603, 'taxpay dollar': 4399, 'million taxpay dollar': 2805, 'joe': 2312, 'biden': 396, 'wouldnt': 4973, 'joe biden': 2313, 'georg': 1779, 'lose': 2557, 'gain': 1749, 'georg bush': 1782, 'bush administr': 550, 'lose million': 2561, 'million job': 2795, 'thousand job': 4494, 'stimulu pass': 4250, 'onlin': 3079, 'voter': 4801, 'cast': 657, 'provision': 3477, 'ballot': 294, 'regular': 3649, 'provision ballot': 3478, 'excess': 1508, 'push': 3505, 'report': 3688, 'add': 50, 'cent': 684, 'gallon': 1750, 'recent report': 3606, 'cent everi': 686, 'prepar': 3377, 'texa high': 4449, 'school student': 3909, 'student graduat': 4280, 'texa high school': 4450, 'high school student': 1987, 'relationship': 3656, 'count': 988, 'sandi': 3872, 'adam': 48, 'approv': 199, 'central': 692, 'shut': 4052, 'demonstr': 1188, 'outsid': 3113, 'event': 1475, 'crowd': 1048, 'highest corpor': 1996, 'corpor rate': 961, 'highest corpor rate': 1997, 'corpor rate world': 962, 'drive': 1322, 'live': 2536, 'virginia': 4755, 'wors': 4969, 'alaska': 105, 'mississippi': 2832, 'sell': 3954, 'deer': 1147, 'democrat candid': 1176, 'republican candid': 3696, 'long': 2550, 'histor': 2018, 'preced': 3363, 'fewer': 1622, 'imprison': 2123, 'jail': 2256, 'sentenc': 3990, 'smoke': 4113, 'marijuana': 2646, 'expans': 1524, 'treasuri': 4575, 'medicaid expans': 2712, 'balanc': 290, 'balanc budget': 291, 'audit': 245, 'reserv': 3723, 'feder reserv': 1604, 'ron': 3806, 'johnson': 2329, 'manmad': 2631, 'role': 3796, 'sen ron': 3963, 'ron johnson': 3807, 'doesnt believ': 1261, 'sen ron johnson': 3964, 'frack': 1704, 'clinton support': 811, 'hillari clinton support': 2014, 'dedic': 1143, 'homeland': 2031, 'combat': 845, 'radic': 3520, 'internet': 2212, 'depart homeland': 1194, 'homeland secur': 2032, 'depart homeland secur': 1195, 'muslim': 2890, 'northern': 3001, 'forward': 1693, 'northern wisconsin': 3002, 'foreclosur': 1679, 'righttowork': 3778, 'measur': 2702, 'midwest': 2766, 'arizona': 210, 'congression': 906, 'champion': 707, 'council': 985, 'congression candid': 909, 'big govern': 398, 'vote rais': 4789, 'citi council': 776, 'vote rais tax': 4791, 'steven': 4244, 'pend': 3237, 'waiver': 4817, 'grade': 1865, 'test': 4439, 'share': 4021, 'texa public': 4458, 'public educ': 3481, 'educ spend': 1371, 'spend increas': 4176, 'built': 534, 'trillion debt': 4588, 'martin': 2661, 'spent trillion': 4186, 'trillion dollar': 4590, 'percentag': 3245, 'walker wisconsin': 4825, 'student loan': 4281, 'scott walker wisconsin': 3925, 'sharia': 4024, 'hire': 2016, 'complianc': 881, 'econom develop': 1359, 'unlimit': 4690, 'sick': 4056, 'leav': 2478, 'ladi': 2436, 'travel': 4570, 'poor': 3329, 'danger': 1097, 'poll': 3324, 'gov chri': 1830, 'gov chri christi': 1831, 'throw': 4497, 'pray': 3361, 'pari': 3158, 'mandatori': 2627, 'declin': 1141, 'overal': 3115, 'robberi': 3790, 'way': 4871, 'happen': 1939, 'period': 3251, 'prohibit': 3442, 'marri': 2656, 'confer': 897, 'mind': 2818, 'presidenti': 3386, 'inmat': 2179, 'diploma': 1230, 'correct': 963, 'facil': 1545, 'adult': 62, 'assist': 230, 'commission': 854, 'press': 3392, 'michael': 2753, 'person': 3257, 'retir': 3741, 'jack': 2253, 'closest': 815, 'partner': 3168, 'ralph': 3547, 'state countri': 4218, 'republican presidenti': 3710, 'presidenti debat': 3389, 'school diploma': 3901, 'campaign cash': 571, 'high school diploma': 1985, 'recess': 3608, 'appoint': 194, 'goe': 1812, 'everi dollar': 1481, 'cent everi dollar': 687, 'tuition': 4612, 'florida rank': 1665, 'th nation': 4475, 'rank th nation': 3557, 'progress': 3441, 'human': 2065, 'human right': 2066, 'normal': 2994, 'job creat': 2288, 'gone': 1819, 'earn': 1346, 'make money': 2615, 'refer': 3629, 'quit': 3514, 'frankli': 1709, 'shown': 4050, 'immigr law': 2113, 'belief': 371, 'current': 1055, 'list': 2532, 'short': 4045, 'librari': 2510, 'district': 1250, 'direct': 1231, 'vote increas': 4782, 'regard': 3639, 'lesbian': 2501, 'spent million': 4183, 'dont ask': 1289, 'ask dont': 221, 'dont tell': 1295, 'dont ask dont': 1290, 'ask dont tell': 222, 'eric': 1459, 'cantor': 598, 'tour': 4540, 'join': 2332, 'inde': 2158, 'goal': 1810, 'eric cantor': 1460, 'harri': 1947, 'truman': 4603, 'holiday': 2029, 'pork': 3335, 'barrel': 335, 'ga holiday': 1744, 'pork barrel': 3336, 'barrel project': 337, 'alway': 125, 'civil': 784, 'workforc': 4961, 'heavili': 1965, 'deploy': 1197, 'guard': 1900, 'nation guard': 2904, 'mccollum': 2693, 'fee': 1607, 'higher tax': 1992, 'tax fee': 4384, 'time congress': 4504, 'chosen': 754, 'oregonian': 3098, 'homeown': 2034, 'mortgag': 2870, 'driven': 1323, 'length': 2500, 'second': 3932, 'text': 4466, 'detaine': 1210, 'chicken': 732, 'rice': 3757, 'wed': 4884, 'neutral': 2949, 'determin': 1211, 'type': 4635, 'deliv': 1172, 'govern charg': 1847, 'classroom': 794, 'educ fund': 1370, 'unemploy rate': 4660, 'rate doubl': 3566, 'steve': 4243, 'hood': 2039, 'financ': 1635, 'scheme': 3893, 'wrote': 4979, 'freedom': 1717, 'small busi': 4107, 'billion deficit': 413, 'pete': 3261, 'session': 4002, 'exact': 1502, 'usag': 4702, 'dramat': 1313, 'instanc': 2186, 'violenc': 4750, 'death': 1121, 'risen': 3781, 'comput': 885, 'scienc': 3914, 'increas million': 2149, 'row': 3817, 'ill': 2096, 'seriou': 3997, 'everi famili': 1484, 'mental ill': 2740, 'abel': 1, 'end': 1419, 'execut chri': 1514, 'chri abel': 756, 'plan end': 3290, 'counti execut chri': 993, 'execut chri abel': 1515, 'nationwid': 2915, 'rate higher': 3569, 'favor': 1577, 'israel': 2246, 'infrastructur': 2175, 'interst': 2213, 'highway': 2006, 'spend gdp': 4175, 'compar': 874, 'rural': 3831, 'clunker': 818, 'space': 4158, 'administr spent': 58, 'spent money': 4184, 'cash clunker': 655, 'spokesman': 4191, 'son': 4141, 'secur medicar': 3947, 'medicar medicaid': 2721, 'social secur medicar': 4122, 'secur medicar medicaid': 3948, 'lead nation': 2471, 'win': 4915, 'texa senat': 4463, 'anyon': 181, 'violat': 4749, 'involv': 2224, 'fine': 1641, 'exampl': 1505, 'boost': 462, 'export': 1535, 'canada': 579, 'million american': 2781, 'american job': 143, 'flipflop': 1659, 'romney flipflop': 3799, 'flipflop abort': 1660, 'mitt romney flipflop': 2839, 'lock': 2548, 'rest countri': 3733, 'jobkil': 2309, 'parttim': 3171, 'austin': 248, 'rate increas': 3571, 'citi texa': 781, 'bid': 395, 'weaken': 4873, 'gun law': 1914, 'plane': 3296, 'hostag': 2046, 'success': 4296, 'possibl': 3344, 'noncitizen': 2990, 'victori': 4744, 'privat insur': 3413, 'insur plan': 2201, 'rival': 3784, 'refus': 3637, 'senat rival': 3981, 'lawmak': 2465, 'texa lawmak': 4455, 'juli': 2353, 'divert': 1253, 'forprofit': 1687, 'legal': 2486, 'drug': 1331, 'india': 2160, 'sherrod': 4034, 'order': 3093, 'governmentrun': 1857, 'sherrod brown': 4035, 'vote cut': 4774, 'cut medicar': 1071, 'medicar billion': 2718, 'governmentrun care': 1858, 'sherrod brown vote': 4036, 'cut medicar billion': 1072, 'jerseyan': 2274, 'everi month': 1489, 'new jerseyan': 2960, 'troubl': 4600, 'asset': 229, 'relief': 3661, 'toxic': 4545, 'treatment': 4578, 'beach': 352, 'outofst': 3110, 'isnt': 2244, 'marci': 2636, 'kaptur': 2370, 'babi': 275, 'girl': 1803, 'sole': 4130, 'reason': 3592, 'marci kaptur': 2637, 'vote ban': 4770, 'adopt': 61, 'care plan': 628, 'dont think': 1296, 'mccain support': 2691, 'skill': 4095, 'posit': 3342, 'metro': 2746, 'metro atlanta': 2747, 'main': 2599, 'simpli': 4068, 'trump support': 4607, 'univers care': 4684, 'donald trump support': 1283, 'registr': 3646, 'independ': 2159, 'potenti': 3349, 'clearli': 797, 'consist': 925, 'path': 3189, 'path citizenship': 3190, 'substanti': 4294, 'particip': 3164, 'pilot': 3279, 'eas': 1353, 'farm': 1568, 'finish': 1642, 'st': 4200, 'left': 2484, 'els': 1402, 'wendi': 4893, 'davi': 1107, 'teacher': 4408, 'gubernatori': 1901, 'combin': 846, 'wendi davi': 4894, 'gubernatori candid': 1902, 'employe': 1413, 'ir': 2226, 'beg': 365, 'let': 2502, 'ir charg': 2227, 'enforc law': 1430, 'stimulu money': 4248, 'borrow': 475, 'missouri': 2833, 'rape': 3558, 'victim': 4742, 'kit': 2413, 'senat vote': 3982, 'vote end': 4777, 'rape victim': 3561, 'rape kit': 3560, 'jon': 2336, 'guarante': 1899, 'chang medicar': 712, 'owe': 3130, 'kindergarten': 2409, 'everi american': 1478, 'govern right': 1851, 'becom': 359, 'billion cut': 410, 'privatesector': 3420, 'new privatesector': 2967, 'privatesector job': 3421, 'new privatesector job': 2968, 'sheldon': 4029, 'whitehous': 4910, 'secret': 3938, 'warn': 4848, 'sheldon whitehous': 4030, 'weekend': 4888, 'occupi': 3041, 'protest': 3469, 'stay': 4234, 'park': 3159, 'american work': 159, 'today ago': 4514, 'track': 4547, 'track record': 4548, 'cliff': 799, 'ultim': 4641, 'fiscal cliff': 1649, 'cloth': 816, 'american spend': 154, 'bradley': 490, 'feloni': 1617, 'hand': 1937, 'district attorney': 1251, 'incom rate': 2141, 'averag cost': 263, 'inform': 2174, 'cnn': 819, 'anchor': 167, 'far': 1566, 'media': 2704, 'support campaign': 4316, 'soldier': 4129, 'american soldier': 153, 'bond': 457, 'mechan': 2703, 'access': 19, 'peopl': 3244, 'facebook': 1544, 'page': 3138, 'race': 3516, 'superintend': 4310, 'largest cut': 2448, 'billion break': 407, 'experienc': 1529, 'impeach': 2118, 'faculti': 1549, 'quarter': 3510, 'quarter million': 3511, 'anim': 170, 'republican plan': 3709, 'invent': 2219, 'record vote': 3615, 'coffman': 827, 'failur': 1552, 'outreach': 3112, 'fifti': 1627, 'enter': 1440, 'cours': 1007, 'higher educ': 1989, 'met': 2744, 'hassan': 1951, 'hell': 1973, 'barack said': 315, 'nobodi': 2987, 'guy': 1921, 'choic': 750, 'aid': 93, 'specif': 4167, 'allow': 117, 'nonpartisan': 2991, 'usmexico': 4711, 'patrol': 3195, 'govern account': 1844, 'account offic': 28, 'usmexico border': 4712, 'border patrol': 467, 'alan': 104, 'healthi': 1961, 'theyll': 4480, 'serv': 3998, 'white hous': 4909, 'equival': 1456, 'minut': 2826, 'worth': 4972, 'air': 95, 'anybodi': 179, 'feet': 1609, 'differ': 1225, 'walk': 4819, 'walk away': 4820, 'care program': 630, 'southern': 4153, 'visa': 4759, 'overstay': 3123, 'southern border': 4154, 'visa overstay': 4760, 'nevada': 2950, 'south': 4150, 'politician': 3322, 'south carolina': 4151, 'soar': 4114, 'insur compani': 2195, 'choos': 752, 'cabinet': 562, 'handgun': 1938, 'great': 1874, 'britain': 503, 'switzerland': 4356, 'west': 4897, 'germani': 1794, 'qualifi': 3508, 'instat': 2187, 'approv rate': 200, 'deleg': 1170, 'reid': 3651, 'packag': 3136, 'harri reid': 1948, 'use feder': 4707, 'wall': 4826, 'street': 4265, 'investor': 2222, 'wall street': 4827, 'rank state': 3555, 'santorum': 3873, 'rick santorum': 3765, 'suit': 4301, 'tie': 4499, 'increas sinc': 2151, 'member hous': 2731, 'member hous repres': 2732, 'domest violenc': 1277, 'miss': 2828, 'member congress': 2730, 'attend': 239, 'pregnanc': 3371, 'countri world': 1004, 'contribut': 940, 'mccain campaign': 2688, 'forti': 1689, 'american pay': 149, 'pay incom': 3213, 'american pay incom': 150, 'pay incom tax': 3214, 'stood': 4256, 'previou': 3397, 'fuel': 1720, 'standard': 4210, 'situat': 4091, 'senat clinton': 3971, 'regul': 3648, 'ultrasound': 4642, 'new law': 2963, 'fli': 1656, 'cathol': 668, 'marriag equal': 2658, 'send': 3983, 'refuge': 3635, 'republican democrat': 3699, 'black': 440, 'black children': 441, 'children rais': 745, 'reject': 3653, 'payment': 3226, 'deduct': 1144, 'freddi': 1712, 'mac': 2591, 'fanni': 1565, 'host': 2045, 'subprim': 4289, 'freddi mac': 1713, 'subprim mortgag': 4290, 'unpopular': 4692, 'democrat republican': 1183, 'terri': 4433, 'mcauliff': 2686, 'terri mcauliff': 4434, 'increas spend': 2152, 'watch': 4866, 'hour day': 2049, 'dozen': 1308, 'kay': 2377, 'bailey': 285, 'hutchison': 2084, 'sanctuari': 3868, 'kay bailey': 2378, 'bailey hutchison': 286, 'sanctuari citi': 3869, 'kay bailey hutchison': 2379, 'assault': 225, 'buy': 559, 'assault weapon': 226, 'va': 4717, 'legisl allow': 2490, 'began': 366, 'worldwid': 4967, 'apolog': 187, 'childhood': 738, 'europ': 1473, 'brought': 508, 'case': 651, 'twice rate': 4631, 'central texa': 695, 'describ': 1202, 'best': 389, 'commerci': 852, 'fortun': 1690, 'budget includ': 521, 'uranium': 4698, 'russian': 3838, 'delet': 1171, 'ambassador': 127, 'build wall': 533, 'trade deficit': 4552, 'advantag': 64, 'chamber': 706, 'governorship': 1864, 'tenur': 4428, 'accumul': 29, 'illinoi senat': 2106, 'senat barack': 3968, 'im': 2107, 'kind': 2408, 'rob': 3787, 'portman': 3340, 'rob portman': 3789, 'scientif': 3915, 'pollut': 3325, 'plant': 3298, 'life': 2517, 'perri': 3256, 'newt': 2979, 'gingrich': 1801, 'rick perri': 3764, 'newt gingrich': 2980, 'foreign aid': 1681, 'everi countri': 1479, 'russ': 3833, 'feingold': 1610, 'democrat senat': 1184, 'senat candid': 3969, 'russ feingold': 3834, 'feingold vote': 1611, 'time rais': 4507, 'russ feingold vote': 3835, 'vote time rais': 4799, 'support plan': 4324, 'end medicar': 1421, 'plan end medicar': 3291, 'common': 858, 'core': 954, 'common core': 859, 'depart educ': 1193, 'women care': 4946, 'agre': 89, 'ceil': 676, 'mostli': 2873, 'recent poll': 3605, 'feder debt': 1589, 'debt ceil': 1129, 'rais debt': 3530, 'cut spend': 1079, 'written': 4977, 'congresswoman': 913, 'remain': 3666, 'state senat': 4228, 'unit state senat': 4682, 'refund': 3636, 'delay': 1169, 'octob': 3044, 'circumst': 770, 'dont want': 1297, 'want cut': 4833, 'cut tax': 1080, 'mcdonnel': 2696, 'pace': 3134, 'popul': 3331, 'gov bob': 1828, 'bob mcdonnel': 452, 'popul growth': 3332, 'gov bob mcdonnel': 1829, 'republican senat': 3713, 'form': 1685, 'vote everi': 4778, 'want away': 4832, 'support gay': 4317, 'gay marriag': 1763, 'support gay marriag': 4318, 'roe': 3794, 'wade': 4810, 'decid': 1136, 'roe wade': 3795, 'rais debt ceil': 3531, 'absolut': 14, 'expert': 1530, 'al': 101, 'flood': 1661, 'claim': 789, 'flood insur': 1662, 'texa school': 4462, 'politifact': 3323, 'kept': 2390, 'ethic': 1471, 'campaign promis': 576, 'jeb': 2266, 'set': 4003, 'everyth': 1500, 'sure': 4336, 'anyth': 182, 'jeb bush': 2267, 'want make': 4835, 'make sure': 2617, 'lotteri': 2572, 'paid billion': 3140, 'readi': 3585, 'english': 1435, 'math': 2677, 'precinct': 3364, 'low': 2575, 'democrat plan': 1181, 'tax small': 4392, 'tax small busi': 4393, 'kitzhab': 2414, 'prochoic': 3431, 'john kitzhab': 2325, 'hous republican': 2056, 'assassin': 224, 'citizen': 782, 'drone': 1326, 'american citizen': 136, 'degre': 1166, 'texa everi': 4448, 'provis': 3476, 'market': 2653, 'tripl': 4596, 'enrol': 1437, 'share nation': 4023, 'youth': 4992, 'braley': 493, 'bruce braley': 514, 'cut billion': 1063, 'support obamacar': 4323, 'cut billion medicar': 1064, 'increas tax': 2153, 'barbara': 326, 'boxer': 485, 'barbara boxer': 327, 'pass law': 3178, 'somebodi': 4135, 'exactli': 1503, 'korea': 2422, 'farmer': 1569, 'suffer': 4298, 'south korea': 4152, 'servic provid': 4001, 'probabl': 3425, 'stock': 4253, 'proport': 3454, 'smith': 4112, 'locat': 2547, 'fouryear': 1699, 'mansion': 2632, 'fouryear term': 1701, 'cost taxpay': 981, 'taxpay million': 4401, 'governor mansion': 1861, 'cost taxpay million': 982, 'defend': 1150, 'process': 3430, 'fulli': 1721, 'implement': 2119, 'centuri': 696, 'retir age': 3742, 'jim': 2278, 'doyl': 1307, 'hunter': 2075, 'jim doyl': 2279, 'prescript': 3380, 'prescript drug': 3381, 'clear': 796, 'opportun': 3087, 'earli vote': 1343, 'pension fund': 3241, 'parent': 3155, 'univers student': 4685, 'borrow money': 477, 'shoot': 4042, 'angel': 168, 'tavera': 4380, 'rifl': 3771, 'assad': 223, 'cost averag': 972, 'spanish': 4159, 'languag': 2443, 'austin citi': 249, 'austin citi council': 250, 'studi': 4283, 'initi': 2177, 'obama care': 3027, 'insur cost': 2197, 'chair': 703, 'committe': 857, 'led': 2479, 'twothird': 4633, 'didnt pay': 1222, 'treasur': 4574, 'gina': 1798, 'mortal': 2868, 'crisi': 1041, 'gina raimondo': 1799, 'mortal rate': 2869, 'richard': 3759, 'wrong': 4978, 'thing': 4483, 'ukrainian': 4640, 'barack spent': 316, 'spent billion': 4182, 'revok': 3751, 'agreement': 90, 'pen': 3234, 'futur': 1742, 'modifi': 2852, 'nuclear deal': 3010, 'dekalb': 1167, 'sheriff': 4033, 'dekalb counti': 1168, 'isi': 2240, 'exist': 1518, 'brother': 507, 'alqaida': 122, 'wipe': 4919, 'definit': 1162, 'job texa': 2304, 'polit': 3319, 'dark': 1100, 'toll': 4520, 'safest': 3848, 'incest': 2129, 'victim rape': 4743, 'rape incest': 3559, 'spous': 4195, 'exchang': 1509, 'subsidi': 4292, 'magazin': 2595, 'improv': 2124, 'vote favor': 4779, 'tax time': 4394, 'gunfir': 1919, 'elementari': 1394, 'plastic': 3299, 'driver': 1324, 'repeatedli': 3686, 'prais': 3360, 'patriot': 3194, 'wont': 4950, 'photo': 3270, 'trayvon': 4573, 'romney said': 3803, 'instat tuition': 2188, 'tuition illeg': 4613, 'instat tuition illeg': 2189, 'tuition illeg immigr': 4614, 'advoc': 69, 'rich': 3758, 'mccain vote': 2692, 'john mccain vote': 2328, 'poverti': 3352, 'state million': 4224, 'million poverti': 2802, 'unit state million': 4681, 'interior': 2208, 'commerc': 850, 'advisori': 67, 'ration': 3580, 'certain': 698, 'advisori board': 68, 'ration care': 3581, 'renew': 3671, 'wind': 4916, 'solar': 4125, 'coal': 821, 'industri': 2166, 'enjoy': 1436, 'renew energi': 3672, 'seiz': 3952, 'firearm': 1644, 'polic depart': 3315, 'york citi': 4986, 'new york citi': 2972, 'better': 390, 'clean': 795, 'depriv': 1201, 'current care': 1056, 'care coverag': 621, 'bare': 329, 'pot': 3348, 'capabl': 602, 'abraham': 11, 'lincoln': 2526, 'abraham lincoln': 12, 'tri buy': 4584, 'slash': 4098, 'navi': 2920, 'pay obamacar': 3218, 'arent': 207, 'russia': 3836, 'enemi': 1424, 'penni': 3238, 'taxpayerfund': 4404, 'ii': 2095, 'sen nelson': 3962, 'decid vote': 1137, 'vote care': 4773, 'vote defund': 4775, 'care legisl': 624, 'instruct': 2192, 'republican want': 3718, 'sinc barack': 4070, 'barack took': 318, 'barack took offic': 319, 'dropout': 1328, 'make averag': 2610, 'colleg graduat': 837, 'huckabe': 2063, 'cure': 1053, 'mike huckabe': 2769, 'despit': 1206, 'walker cut': 4823, 'fund educ': 1730, 'scott walker cut': 3923, 'healthcar': 1960, 'congression district': 910, 'job lost': 2296, 'beer': 364, 'drink': 1320, 'georgia state': 1791, 'mitch': 2835, 'mcconnel': 2694, 'mitch mcconnel': 2836, 'blue': 447, 'indic': 2162, 'predict': 3367, 'fourth': 1698, 'mistak': 2834, 'gov romney': 1839, 'schedul': 3892, 'state creat': 4219, 'job today': 2306, 'numer': 3022, 'studi shown': 4284, 'ownership': 3132, 'violent crime': 4754, 'gun ownership': 1916, 'rate nation': 3573, 'pack': 3135, 'creation': 1029, 'term job': 4430, 'job creation': 2290, 'term job creation': 4431, 'job job': 2294, 'trump want': 4608, 'donald trump want': 1284, 'struck': 4276, 'inperson': 2181, 'fraud': 1711, 'voter fraud': 4802, 'addict': 52, 'gambl': 1751, 'problem': 3427, 'largest increas': 2449, 'increas histori': 2148, 'largest increas histori': 2450, 'youll': 4989, 'civil war': 785, 'turnout': 4621, 'voter turnout': 4806, 'paul': 3197, 'ryan': 3839, 'rep paul': 3678, 'paul ryan': 3198, 'ryan budget': 3840, 'rep paul ryan': 3679, 'paul ryan budget': 3199, 'ryan budget propos': 3841, 'establish': 1466, 'honor': 2038, 'dr': 1309, 'luther': 2585, 'king': 2410, 'jr': 2344, 'martin luther': 2662, 'luther king': 2586, 'martin luther king': 2663, 'doesnt pay': 1263, 'josh': 2342, 'mandel': 2628, 'june': 2357, 'josh mandel': 2343, 'rais money': 3536, 'million insur': 2794, 'sever': 4010, 'burn': 546, 'kick': 2397, 'caucu': 669, 'republican rep': 3712, 'nearli doubl': 2927, 'email': 1403, 'controversi': 945, 'discuss': 1245, 'cost colleg': 975, 'catherin': 665, 'cortez': 966, 'masto': 2672, 'contract': 939, 'dc': 1116, 'firm': 1646, 'hous crisi': 2053, 'catherin cortez': 666, 'cortez masto': 967, 'polit campaign': 3320, 'catherin cortez masto': 667, 'grow': 1895, 'feder deficit': 1590, 'driver licens': 1325, 'budget rais': 526, 'budget rais tax': 527, 'automat': 257, 'nfl': 2981, 'odd': 3045, 'borrow billion': 476, 'billion everi': 415, 'singl day': 4085, 'everi singl day': 1494, 'islam': 2241, 'mention': 2741, 'radic islam': 3521, 'cover': 1012, 'avail': 259, 'typic': 4636, 'staff': 4204, 'amnesti': 161, 'creat net': 1024, 'net new': 2945, 'new job': 2961, 'net new job': 2946, 'transfer': 4561, 'chemic': 728, 'chemic weapon': 729, 'strickland': 4269, 'bathroom': 346, 'ted strickland': 4419, 'step': 4241, 'statu': 4233, 'bond rate': 458, 'valid': 4722, 'crimin': 1037, 'expand background': 1521, 'expand background check': 1522, 'cut unemploy': 1082, 'illeg worker': 2103, 'achiev': 31, 'power': 3356, 'energi independ': 1427, 'nuclear power': 3011, 'ocean': 3043, 'modern': 2850, 'loophol': 2556, 'encourag': 1418, 'outsourc': 3114, 'boot': 463, 'captur': 611, 'nearli million': 2930, 'creat sinc': 1027, 'million job creat': 2796, 'natur': 2918, 'saudi': 3877, 'arabia': 204, 'natur ga': 2919, 'saudi arabia': 3878, 'shot': 4047, 'newark': 2974, 'chanc': 709, 'youv': 4994, 'possess': 3343, 'sit': 4089, 'edward': 1372, 'reveal': 3746, 'isra': 2245, 'rack': 3519, 'child care': 737, 'colleg tuition': 839, 'canadian': 580, 'middl': 2758, 'class': 790, 'inequ': 2168, 'middl class': 2759, 'incom inequ': 2140, 'free trade': 1716, 'trade agreement': 4550, 'depend': 1196, 'foreign oil': 1682, 'book': 460, 'nurs': 3024, 'sens': 3987, 'mother': 2875, 'flag': 1653, 'american flag': 140, 'versu': 4735, 'work famili': 4954, 'debbi': 1125, 'wasserman': 4861, 'schultz': 3913, 'debbi wasserman': 1126, 'wasserman schultz': 4862, 'debbi wasserman schultz': 1127, 'syrian': 4361, 'syrian refuge': 4362, 'receiv campaign': 3602, 'campaign contribut': 572, 'nanci': 2892, 'pelosi': 3232, 'vote nanci': 4786, 'nanci pelosi': 2893, 'vote nanci pelosi': 4787, 'feder spend': 1605, 'dad': 1088, 'network': 2948, 'constitut': 927, 'public financ': 3483, 'stimulu packag': 4249, 'advis': 66, 'explod': 1532, 'walmart': 4830, 'user': 4710, 'voic': 4765, 'youv got': 4995, 'test score': 4440, 'publicli': 3492, 'alex': 107, 'sink': 4087, 'alex sink': 108, 'follow': 1672, 'appli': 192, 'perman': 3252, 'undocu immigr': 4653, 'slash fund': 4099, 'bail': 284, 'senat oppon': 3976, 'support billion': 4315, 'calcul': 563, 'look work': 2555, 'labor forc': 2431, 'corp': 959, 'open border': 3081, 'cut deficit': 1066, 'deficit trillion': 1160, 'pool': 3328, 'twice mani': 4630, 'number job': 3019, 'ground': 1893, 'stand ground': 4209, 'assembl': 227, 'structur': 4277, 'profession': 3435, 'pennsylvania': 3239, 'gener assembl': 1770, 'currenc': 1054, 'develop countri': 1215, 'school district': 3902, 'everi student': 1495, 'roll': 3797, 'republican congress': 3698, 'visit': 4761, 'somewher': 4140, 'volunt': 4766, 'public option': 3485, 'fund public': 1736, 'insur premium': 2202, 'stop': 4257, 'hit': 2023, 'director': 1233, 'fbi': 1579, 'intent': 2207, 'contact': 935, 'research': 3722, 'citi america': 774, 'medic school': 2710, 'bag': 283, 'san': 3863, 'francisco': 1707, 'san francisco': 3865, 'gov rick': 1836, 'gov rick scott': 1838, 'legislatur rais': 2496, 'incumb': 2157, 'gerald': 1793, 'nearli half': 2928, 'lake': 2438, 'vote law': 4783, 'great lake': 1876, 'church': 766, 'dream': 1316, 'block': 445, 'dream act': 1317, 'came vote': 567, 'medicaid fraud': 2713, 'broward counti': 510, 'nineti': 2983, 'job growth': 2292, 'cbo': 674, 'rais minimum': 3534, 'wage hour': 4812, 'half million': 1929, 'million lose': 2798, 'lose job': 2560, 'rais minimum wage': 3535, 'antonio': 178, 'ordin': 3094, 'men': 2736, 'san antonio': 3864, 'men women': 2737, 'id': 2087, 'shrink': 4051, 'england': 1434, 'highest percentag': 2000, 'new england': 2955, 'neighborhood': 2941, 'stabil': 4202, 'singlepay': 4086, 'fix': 1652, 'dane': 1095, 'kathleen': 2375, 'dane counti': 1096, 'rais properti': 3538, 'tax million': 4389, 'dollar everi': 1269, 'second highest': 3935, 'rais properti tax': 3539, 'million dollar everi': 2791, 'bureau': 540, 'fulton': 1724, 'fulton counti': 1725, 'obamacar cost': 3034, 'cost million': 980, 'folk': 1671, 'weve got': 4903, 'stop look': 4258, 'sarah': 3874, 'palin': 3149, 'sarah palin': 3875, 'prove': 3471, 'dead': 1117, 'latest': 2453, 'central american': 693, 'border illeg': 466, 'cross border illeg': 1047, 'capandtrad': 604, 'destroy': 1207, 'cornil': 957, 'rob cornil': 3788, 'support privat': 4325, 'feder money': 1601, 'mr': 2880, 'hole': 2028, 'secondlargest': 3937, 'experi': 1528, 'fair': 1553, 'multipl': 2881, 'consent': 920, 'parent consent': 3156, 'ohioan': 3063, 'mean': 2698, 'estim million': 1469, 'wealth': 4874, 'gap': 1755, 'man': 2620, 'motorist': 2877, 'yearold': 4983, 'roy': 3818, 'cooper': 952, 'view': 4747, 'gun owner': 1915, 'creat new job': 1026, 'colorado': 842, 'weve seen': 4905, 'marijuana use': 2647, 'river': 3785, 'competit': 876, 'nearbi': 2924, 'casino': 656, 'slot': 4102, 'machin': 2592, 'similar': 4066, 'sign law': 4058, 'barack vote': 320, 'someth like': 4138, 'religi freedom': 3663, 'level': 2504, 'procedur': 3429, 'streetcar': 4268, 'youth unemploy': 4993, 'offic million': 3052, 'million work': 2808, 'medicar advantag': 2717, 'write': 4976, 'republican vote': 3716, 'global': 1807, 'al gore': 102, 'global warm': 1808, 'round': 3816, 'zero job': 4997, 'fallen': 1556, 'pentagon': 3243, 'discretionari': 1242, 'spend budget': 4172, 'discretionari spend': 1243, 'buck': 516, 'overturn': 3125, 'vs': 4809, 'defin': 1161, 'moment': 2854, 'overturn roe': 3126, 'todd': 4516, 'akin': 100, 'usa': 4701, 'fifth': 1626, 'walker took': 4824, 'took away': 4529, 'scott walker took': 3924, 'engin': 1433, 'campu': 577, 'led effort': 2480, 'sixth': 4092, 'wealthiest': 4876, 'realiti': 3590, 'bomb': 456, 'feder prison': 1602, 'theyv': 4482, 'africanamerican commun': 82, 'feder budget': 1586, 'gwinnett': 1922, 'african': 79, 'gun violenc': 1918, 'caus death': 672, 'african american': 80, 'final': 1634, 'cop': 953, 'teach': 4407, 'washington politician': 4858, 'spend million': 4177, 'god': 1811, 'tough': 4538, 'feder law': 1598, 'econom stimulu': 1364, 'everifi': 1497, 'legal countri': 2487, 'shouldnt': 4048, 'check gun': 727, 'background check gun': 280, 'attract': 243, 'challeng': 705, 'suspend': 4350, 'public offici': 3484, 'american famili': 139, 'famili make': 1562, 'model': 2847, 'congression budget': 907, 'budget offic': 523, 'entir economi': 1444, 'congression budget offic': 908, 'devast': 1213, 'privat social': 3418, 'privat social secur': 3419, 'elena': 1396, 'kagan': 2366, 'littl': 2534, 'conflict': 900, 'elena kagan': 1397, 'olymp': 3075, 'funnel': 1741, 'moder': 2849, 'republican candid governor': 3697, 'featur': 1581, 'advanc': 63, 'nuclear program': 3013, 'ad job': 44, 'individu mandat': 2165, 'mandat care': 2626, 'openli': 3083, 'abolish': 4, 'convert': 948, 'public employe': 3482, 'downtown': 1306, 'hous speaker': 2058, 'jone': 2339, 'proposit': 3459, 'oil drill': 3066, 'medicin': 2726, 'cap': 599, 'social medicin': 4119, 'cap trade': 600, 'trade legisl': 4553, 'texa job': 4453, 'cap trade legisl': 601, 'proud': 3470, 'relat': 3655, 'slow': 4103, 'rel': 3654, 'overwhelm': 3127, 'everi poll': 1491, 'overwhelm major': 3128, 'mass': 2665, 'transit': 4563, 'bicycl': 394, 'carbon': 613, 'power plan': 3357, 'record number': 3614, 'store': 4259, 'billion tax': 424, 'expenditur': 1526, 'lobbi': 2542, 'fals': 1557, 'advertis': 65, 'live poverti': 2537, 'statement': 4229, 'headquart': 1959, 'sharron': 4025, 'angl': 169, 'sex': 4012, 'offend': 3046, 'sharron angl': 4026, 'sex offend': 4013, 'sink support': 4088, 'alex sink support': 109, 'forest': 1684, 'tree': 4579, 'super': 4307, 'bowl': 484, 'super bowl': 4308, 'version': 4734, 'enrolle': 1438, 'manag': 2624, 'reproduct': 3692, 'dollar man': 1271, 'man earn': 2621, 'everi dollar man': 1482, 'obama propos': 3032, 'propos budget': 3456, 'liter': 2533, 'pink': 3281, 'sequestr': 3995, 'public sector': 3490, 'time sinc': 4510, 'kennedi': 2387, 'star': 4211, 'packer': 3137, 'play': 3302, 'championship': 708, 'game': 1752, 'john kennedi': 2323, 'green bay': 1882, 'unit state creat': 4678, 'declar': 1139, 'planet': 3297, 'sun': 4304, 'latino': 2454, 'underemploy': 4648, 'tune': 4616, 'graduat high': 1868, 'unemploy underemploy': 4663, 'graduat high school': 1869, 'portland': 3338, 'surplu': 4341, 'citi portland': 778, 'million surplu': 2803, 'toilet': 4518, 'commonwealth': 862, 'foot': 1675, 'trip': 4595, 'target': 4376, 'execut action': 1513, 'gun control': 1912, 'occur': 3042, 'goldman': 1816, 'sach': 3843, 'goldman sach': 1817, 'iron': 2238, 'ore': 3096, 'review': 3750, 'verifi': 4732, 'cell': 679, 'intend': 2206, 'suppos': 4330, 'darryl': 1101, 'glenn': 1806, 'male': 2618, 'worker countri': 4958, 'averag worker': 268, 'worker make': 4959, 'affect': 71, 'inflat': 2172, 'origin': 3101, 'epa': 1452, 'devic': 1216, 'loss': 2562, 'medic devic': 2708, 'michigan': 2756, 'michel': 2754, 'bachmann': 277, 'rare': 3563, 'certainli': 699, 'nation unemploy': 2913, 'actual lower': 41, 'wait': 4814, 'wait list': 4815, 'feder employe': 1592, 'employe make': 1414, 'guess': 1903, 'valu': 4724, 'wife': 4912, 'ferguson': 1621, 'mo': 2845, 'catastroph': 663, 'diseas': 1246, 'center diseas': 690, 'center diseas control': 691, 'base': 340, 'taxpay fund': 4400, 'weve ad': 4900, 'oil ga': 3067, 'ga pipelin': 1745, 'translat': 4564, 'recent studi': 3607, 'spend money': 4178, 'gener fund': 1774, 'overhaul': 3117, 'feder care': 1587, 'cost texa': 983, 'layoff': 2469, 'jump': 2354, 'graduat rate': 1870, 'town': 4542, 'hall': 1932, 'town hall': 4543, 'hall meet': 1933, 'presid care': 3384, 'town hall meet': 4544, 'rapist': 3562, 'use dollar': 4706, 'provid free': 3474, 'felt': 1618, 'learn': 2476, 'recoveri': 3617, 'unemploy rate increas': 4661, 'fanci': 1564, 'washington dc': 4856, 'mari': 2644, 'burk': 545, 'draft': 1310, 'raid': 3523, 'commerc secretari': 851, 'mari burk': 2645, 'conni': 916, 'mack': 2593, 'conni mack': 917, 'mccain oppos': 2689, 'friend': 1719, 'bigger': 400, 'warren': 4852, 'buffett': 530, 'massiv': 2670, 'warren buffett': 4853, 'georg soro': 1784, 'function': 1726, 'privat compani': 3412, 'eat': 1356, 'state combin': 4217, 'surpass': 4340, 'japanes': 2261, 'mile': 2771, 'rose': 3814, 'famili incom': 1561, 'fung': 1740, 'gross': 1890, 'massiv increas': 2671, 'trail': 4557, 'eri': 1458, 'lineitem': 2529, 'smaller': 4109, 'predecessor': 3366, 'lineitem veto': 2530, 'indict': 2163, 'innoc': 2180, 'recruit': 3619, 'senior citizen': 3986, 'woman right': 4942, 'right choos': 3775, 'woman right choos': 4943, 'registri': 3647, 'impact': 2117, 'walker budget': 4822, 'wisconsin taxpay': 4933, 'taxpay billion': 4398, 'scott walker budget': 3922, 'motor': 2876, 'gener motor': 1776, 'pasco': 3172, 'pasco counti': 3173, 'pretti': 3394, 'certif': 700, 'birth certif': 434, 'children live': 744, 'auditor': 246, 'citi provid': 779, 'accus': 30, 'infant': 2169, 'baucu': 350, 'drastic': 1314, 'help pay': 1977, 'pay care': 3206, 'lost insur': 2564, 'result obamacar': 3739, 'fish': 1650, 'onetenth': 3076, 'vet': 4736, 'fundrais': 1739, 'highest tax': 2002, 'governor countri': 1860, 'lee': 2482, 'connect': 914, 'billionair': 426, 'millionair billionair': 2810, 'cut tax time': 1081, 'wish': 4935, 'agricultur': 91, 'inherit': 2176, 'spoke': 4189, 'insur commission': 2194, 'late': 2451, 'phone': 3269, 'soon': 4144, 'ensur': 1439, 'everyon': 1499, 'allen': 112, 'richest': 3761, 'surround': 4344, 'strong': 4274, 'american household': 142, 'colleagu': 830, 'repeat': 3685, 'dealer': 1120, 'engag': 1432, 'deem': 1145, 'beat': 354, 'time republican': 4509, 'republican senat candid': 3714, 'law pass': 2462, 'hospit': 2044, 'jeff': 2268, 'cuba': 1050, 'jeff green': 2269, 'prioriti': 3407, 'dog': 1264, 'cat': 662, 'govern employe': 1848, 'daughter': 1105, 'lieuten': 2515, 'strau': 4264, 'mail': 2598, 'mark': 2649, 'defeat': 1149, 'rep jim': 3675, 'speaker joe': 4163, 'joe strau': 2316, 'hous speaker joe': 2059, 'speaker joe strau': 4164, 'crop': 1044, 'bennet': 384, 'chose': 753, 'murder rate': 2886, 'inch': 2130, 'caught': 670, 'american support': 155, 'carri': 644, 'gener elect': 1771, 'judici': 2352, 'vacanc': 4718, 'million new': 2800, 'milwauke public': 2816, 'milwauke public school': 2817, 'player': 3303, 'confirm': 898, 'academ': 16, 'preschool': 3378, 'disappear': 1237, 'consider': 924, 'nation world': 2914, 'pressur': 3393, 'babi born': 276, 'come countri': 848, 'cobb': 825, 'aclu': 33, 'deadli': 1118, 'reconcili': 3612, 'enact': 1417, 'obtain': 3039, 'gm': 1809, 'employe pay': 1415, 'substanc': 4293, 'perfect': 3248, 'seri': 3996, 'reagan': 3586, 'school children': 3899, 'travi': 4571, 'elig': 1398, 'travi counti': 4572, 'regist vote': 3644, 'wit': 4936, 'septemb': 3993, 'lost manufactur': 2566, 'lost manufactur job': 2567, 'barack support': 317, 'teen': 4421, 'vote legisl': 4784, 'end term': 1422, 'presid combin': 3385, 'physician': 3274, 'patient': 3191, 'medicaid patient': 2714, 'fox': 1702, 'stori': 4260, 'drunk': 1335, 'fox news': 1703, 'drunk drive': 1336, 'letter': 2503, 'law enforc': 2458, 'enforc agenc': 1429, 'law enforc agenc': 2459, 'perpupil': 3255, 'texa rank': 4460, 'conceal': 886, 'applic': 193, 'launch': 2455, 'fare': 1567, 'treati': 4577, 'barack hillari': 305, 'unit nation': 4674, 'barack hillari clinton': 306, 'contracept': 938, 'ive support': 2252, 'support legisl': 4320, 'rate sinc': 3574, 'presidenti elect': 3390, 'cell phone': 680, 'seat': 3931, 'traffic': 4555, 'expect': 1525, 'ronald': 3808, 'ronald reagan': 3809, 'saddam': 3844, 'vote twice': 4800, 'washington lobbyist': 4857, 'seven state': 4007, 'technolog': 4416, 'mathemat': 2678, 'student receiv': 4282, 'kid come': 2399, 'colleg degre': 835, 'visitor': 4762, 'lo': 2538, 'orlando': 3102, 'lo angel': 2539, 'happi': 1940, 'recoveri act': 3618, 'strategi': 4263, 'releas return': 3659, 'plot': 3305, 'iraqi': 2237, 'superior': 4311, 'allen west': 114, 'bell': 373, 'rate went': 3576, 'ye': 4982, 'tweet': 4625, 'mission': 2831, 'hors': 2043, 'make cent': 2611, 'contributor': 942, 'koch': 2420, 'wisconsin budget': 4922, 'deficit half': 1157, 'cut deficit half': 1067, 'sequest': 3994, 'koch brother': 2421, 'fund level': 1732, 'root': 3813, 'red': 3620, 'drug compani': 1333, 'romney want': 3804, 'billion increas': 418, 'chang rule': 714, 'presidenti nomine': 3391, 'capit': 606, 'dewhurst': 1217, 'david dewhurst': 1110, 'exceed': 1507, 'nation rate': 2909, 'consecut month': 919, 'appl': 191, 'factori': 1548, 'premium increas': 3376, 'plu': 3306, 'unfund': 4665, 'paint': 3146, 'hidden': 1981, 'sport': 4193, 'draw': 1315, 'hedg': 1968, 'democrat primari': 1182, 'hedg fund': 1969, 'fund manag': 1733, 'hedg fund manag': 1970, 'resign': 3726, 'poverti rate': 3355, 'afraid': 77, 'stay home': 4235, 'earlier': 1344, 'sexual': 4015, 'femal': 1619, 'sexual assault': 4016, 'vote democrat': 4776, 'turnpik': 4622, 'ohio turnpik': 3062, 'warner': 4849, 'mark warner': 2652, 'second amend': 3933, 'amend right': 130, 'second amend right': 3934, 'damag': 1092, 'dont know': 1292, 'scholarship': 3894, 'hope scholarship': 2042, 'switch': 4355, 'troop afghanistan': 4598, 'left offic': 2485, 'million deficit': 2789, 'bass': 345, 'charli bass': 721, 'pay tax': 3222, 'rev': 3745, 'wright': 4975, 'marin': 2648, 'ceil increas': 677, 'paper': 3154, 'racist': 3518, 'garcia': 1757, 'util': 4715, 'util rate': 4716, 'wisconsin rank': 4928, 'midwest job': 2767, 'branch': 494, 'appointe': 195, 'knowledg': 2418, 'model nation': 2848, 'unfair': 4664, 'taxat': 4396, 'constitut amend': 928, 'bonus': 459, 'job million': 2297, 'time vote': 4511, 'shaheen vote': 4019, 'sinc took': 4080, 'sinc took offic': 4081, 'save billion': 3881, 'franklin': 1710, 'roosevelt': 3812, 'uk': 4638, 'decad ago': 1134, 'thoma': 4488, 'jefferson': 2270, 'thoma jefferson': 4489, 'bush cut': 551, 'punish': 3497, 'uniform': 4666, 'tea parti': 4406, 'avoid': 269, 'proof': 3449, 'destruct': 1208, 'analysi': 165, 'weapon mass': 4878, 'mass destruct': 2666, 'weapon mass destruct': 4879, 'care dollar': 622, 'dollar spent': 1273, 'rand': 3550, 'rand paul': 3551, 'end feder': 1420, 'faith': 1554, 'withdraw': 4937, 'dan': 1093, 'dan patrick': 1094, 'represent': 3691, 'tommi': 4525, 'thompson': 4490, 'tommi thompson': 4526, 'sinc world': 4082, 'world war': 4965, 'war ii': 4844, 'sinc world war': 4083, 'world war ii': 4966, 'imposs': 2122, 'school board': 3897, 'rais social': 3540, 'rais social secur': 3541, 'cuyahoga': 1084, 'cuyahoga counti': 1085, 'unlik': 4689, 'virtual everi': 4757, 'super pac': 4309, 'highest level': 1998, 'idea': 2089, 'equal pay': 1454, 'pay women': 3223, 'proce': 3428, 'vote let': 4785, 'depress': 1200, 'sinc great': 4075, 'great depress': 1875, 'sinc great depress': 4076, 'oversaw': 3119, 'door': 1299, 'input': 2182, 'billion fund': 416, 'thing like': 4484, 'convent': 946, 'entitl': 1446, 'pay higher': 3211, 'higher rate': 1991, 'pay higher rate': 3212, 'exempt': 1517, 'rest world': 3734, 'condom': 892, 'nearli trillion': 2934, 'sometim': 4139, 'averag wage': 267, 'simpl': 4067, 'benghazi attack': 381, 'legisl support': 2493, 'gay right': 1764, 'fundament': 1738, 'solyndra': 4134, 'program help': 3440, 'limit': 2525, 'respond': 3730, 'samesex marriag': 3862, 'emerg': 1408, 'panhandl': 3152, 'rebecca': 3594, 'taken away': 4365, 'bribe': 499, 'introduc': 2216, 'unpreced': 4693, 'make sens': 2616, 'senat democrat': 3972, 'censu bureau': 683, 'associ': 231, 'quot': 3515, 'disgrac': 1247, 'oppos requir': 3089, 'unpaid': 4691, 'cost care': 974, 'room': 3811, 'emerg room': 1409, 'care spend': 636, 'dont pay': 1294, 'repeal': 3683, 'citi milwauke': 777, 'doctor': 1257, 'surgeri': 4339, 'extens': 1537, 'coach': 820, 'websit': 4882, 'prek': 3374, 'rd': 3582, 'cite': 772, 'trigger': 4586, 'tv': 4623, 'comment': 849, 'vermont': 4733, 'ri': 3756, 'radio': 3522, 'obamacar cut': 3035, 'million annual': 2784, 'million children': 2785, 'counti sheriff': 997, 'tv ad': 4624, 'highest rate': 2001, 'major countri': 2605, 'countri earth': 1001, 'pay employe': 3208, 'elect offic': 1387, 'major countri earth': 2606, 'bushera': 554, 'fell': 1612, 'pastor': 3185, 'religion': 3664, 'chicago': 731, 'winter': 4918, 'weather': 4881, 'charit': 717, 'celebr': 678, 'christma': 762, 'succeed': 4295, 'el': 1380, 'harvard': 1949, 'militari recruit': 2774, 'law school': 2464, 'overhead': 3118, 'texa nation': 4457, 'line duti': 2528, 'reloc': 3665, 'regist voter': 3645, 'counterpart': 989, 'wisconsin governor': 4925, 'hide': 1982, 'climb': 802, 'steadili': 4236, 'million vote': 2807, 'offens': 3047, 'teenag': 4422, 'arena': 206, 'care premium': 629, 'rais million': 3533, 'overdos': 3116, 'prosecut': 3460, 'vacant': 4719, 'passag': 3181, 'nearli million american': 2931, 'million american work': 2783, 'clackama': 787, 'clackama counti': 788, 'bain': 288, 'blame': 443, 'husband': 2081, 'bain capit': 289, 'ponzi': 3326, 'ponzi scheme': 3327, 'viru': 4758, 'hunt': 2074, 'pain': 3145, 'clinic': 803, 'mcdonald': 2695, 'oil compani': 3065, 'texa public school': 4459, 'clinton depart': 807, 'hillari clinton depart': 2011, 'factor': 1547, 'commit suicid': 856, 'movement': 2879, 'poverti level': 3353, 'doddfrank': 1259, 'conclud': 889, 'cost job': 979, 'busiest': 558, 'load': 2540, 'week ago': 4887, 'regulatori': 3650, 'camera': 568, 'arab': 203, 'arkansa': 213, 'save taxpay': 3885, 'everi time': 1496, 'young adult': 4991, 'oversight': 3122, 'held': 1971, 'abort clinic': 8, 'utah': 4714, 'creator': 1030, 'job creator': 2291, 'club': 817, 'justifi': 2364, 'jewish': 2277, 'spring': 4198, 'favorit': 1578, 'lifetim': 2519, 'democrat congress': 1178, 'ad million': 45, 'agent': 86, 'spend billion': 4171, 'restaur': 3735, 'nation rifl': 2910, 'rifl associ': 3772, 'nation rifl associ': 2911, 'plan rais': 3294, 'obama care law': 3028, 'jason': 2262, 'carter': 650, 'underfund': 4649, 'jason carter': 2263, 'republican budget': 3695, 'summer': 4303, 'water use': 4869, 'flow': 1667, 'default': 1148, 'electr rate': 1392, 'doubl size': 1303, 'habit': 1923, 'match': 2673, 'highli': 2003, 'suprem court confirm': 4333, 'redistrict': 3622, 'affair': 70, 'veteran affair': 4738, 'mexican': 2749, 'school spend': 3908, 'answer': 176, 'today america': 4515, 'freez': 1718, 'massachusett care': 2669, 'feder care law': 1588, 'bench': 376, 'support privat social': 4326, 'pinella': 3280, 'mccain said': 2690, 'john mccain said': 2327, 'eightyf': 1378, 'beneficiari': 377, 'salari benefit': 3858, 'investig': 2221, 'budget plan': 524, 'chang posit': 713, 'republican major': 3705, 'major american support': 2603, 'invas': 2218, 'immigr come': 2110, 'leadership': 2473, 'hivaid': 2025, 'hussein': 2082, 'pregnant': 3372, 'moon': 2865, 'everybodi': 1498, 'pursu': 3504, 'osama': 3104, 'bin': 428, 'laden': 2435, 'osama bin': 3105, 'bin laden': 429, 'osama bin laden': 3106, 'rais pay': 3537, 'vote rais pay': 4790, 'embrac': 1406, 'homosexu': 2036, 'paso': 3175, 'el paso': 1381, 'nation highest': 2905, 'camp': 569, 'cartel': 649, 'drug cartel': 1332, 'acknowledg': 32, 'bibl': 393, 'felon': 1615, 'felon vote': 1616, 'phoenix': 3268, 'battlefield': 349, 'american troop': 157, 'import': 2120, 'debt limit': 1131, 'rein': 3652, 'care cost': 619, 'clinton want': 812, 'hillari clinton want': 2015, 'granit': 1872, 'agenda': 85, 'roof': 3810, 'tax everi': 4383, 'job loss': 2295, 'bailout': 287, 'surviv': 4347, 'law requir': 2463, 'amend constitut': 129, 'democrat care': 1177, 'flat': 1654, 'hurrican': 2077, 'katrina': 2376, 'hurrican katrina': 2078, 'armi': 216, 'expand medicaid': 1523, 'boehner': 455, 'john boehner': 2319, 'econom polici': 1362, 'collaps': 829, 'ignor': 2094, 'predat': 3365, 'carri conceal': 645, 'conceal weapon': 887, 'spread': 4196, 'jolli': 2335, 'outlaw': 3109, 'david jolli': 1111, 'apprehend': 196, 'illeg cross': 2099, 'fulltim': 1722, 'feed': 1608, 'million countri': 2786, 'fulltim job': 1723, 'embryon': 1407, 'stem': 4238, 'stem cell': 4239, 'cell research': 681, 'stem cell research': 4240, 'rush': 3832, 'ralli': 3546, 'drag': 1311, 'garbag': 1756, 'argu': 208, 'request': 3719, 'merit': 2742, 'support obama': 4322, 'republican leadership': 3704, 'watch list': 4867, 'billion spend': 421, 'lieuten governor': 2516, 'permiss': 3253, 'poorest': 3330, 'leas': 2477, 'mess': 2743, 'acr': 35, 'januari': 2259, 'sinc offic': 4079, 'offic januari': 3051, 'cheat': 725, 'scandal': 3891, 'atlanta public': 234, 'atlanta public school': 235, 'faster': 1571, 'bush time': 553, 'libya': 2511, 'rate lowest': 3572, 'unemploy rate lowest': 4662, 'flaw': 1655, 'date': 1104, 'number uninsur': 3021, 'van': 4725, 'immigr countri': 2112, 'free care': 1715, 'franc': 1705, 'spend time': 4180, 'night': 2982, 'capitol': 610, 'wisconsin senat': 4930, 'vote budget': 4772, 'stronger': 4275, 'penalti': 3235, 'sign obamacar': 4059, 'anytim': 183, 'iran deal': 2229, 'twitter': 4632, 'right vote': 3776, 'reagan administr': 3587, 'sen sherrod': 3965, 'sen sherrod brown': 3966, 'condit': 891, 'wound': 4974, 'giuliani': 1804, 'terrorist attack': 4438, 'billion new': 420, 'new tax': 2970, 'classifi': 793, 'prostitut': 3465, 'affili': 72, 'voter id': 4803, 'id law': 2088, 'voter id law': 4804, 'modern histori': 2851, 'ad trillion': 46, 'trillion nation': 4591, 'trillion nation debt': 4592, 'shortfal': 4046, 'billion budget': 408, 'budget shortfal': 528, 'usual': 4713, 'bad': 282, 'ventur': 4731, 'th state': 4476, 'pictur': 3276, 'film': 1633, 'cleveland': 798, 'select': 3953, 'elector': 1389, 'popular vote': 3334, 'isakson': 2239, 'cost georgia': 978, 'republican primari': 3711, 'ayer': 272, 'backlog': 281, 'terribl': 4435, 'kirk': 2412, 'bunch': 537, 'credit rate': 1033, 'tax middl': 4387, 'rais tax middl': 3544, 'tax middl class': 4388, 'contribut pension': 941, 'judgment': 2351, 'gold': 1814, 'gold standard': 1815, 'peter': 3262, 'compani make': 871, 'voucher': 4807, 'school voucher': 3911, 'voucher program': 4808, 'lender': 2499, 'took million': 4531, 'make million': 2614, 'phil': 3265, 'averag famili': 264, 'zika': 4998, 'month ago': 2862, 'histori countri': 2020, 'analyst': 166, 'trump plan': 4605, 'lowest countri': 2579, 'lynch': 2588, 'household incom': 2061, 'turn medicar': 4619, 'medicar voucher': 2725, 'turn medicar voucher': 4620, 'proabort': 3424, 'secondhighest': 3936, 'recov': 3616, 'traffick': 4556, 'sex traffick': 4014, 'emiss': 1410, 'temperatur': 4425, 'jerri': 2272, 'employe retir': 1416, 'nd': 2922, 'ga pump': 1747, 'seventi': 4009, 'counti resid': 995, 'havent rais': 1955, 'revers': 3749, 'columbia': 843, 'chines prostitut': 749, 'said dont': 3853, 'romney governor': 3800, 'th job': 4473, 'mitt romney governor': 2840, 'romney governor massachusett': 3801, 'th job creation': 4474, 'policemen': 3317, 'weak': 4872, 'neighbor': 2940, 'air forc': 96, 'joint': 2333, 'jimmi': 2281, 'langevin': 2442, 'reduc deficit': 3624, 'didnt want': 1223, 'want privat': 4836, 'want privat social': 4837, 'arm': 214, 'georg washington': 1785, 'becom citizen': 360, 'death row': 1123, 'unemploy insur': 4658, 'twice like': 4629, 'time like': 4506, 'jurisdict': 2359, 'strictest': 4270, 'control law': 944, 'rate highest': 3570, 'gun control law': 1913, 'margin': 2643, 'past month': 3184, 'medicar fraud': 2720, 'photograph': 3272, 'power plant': 3358, 'secretari clinton': 3940, 'clinton said': 810, 'legisl pass': 2491, 'twoyear': 4634, 'sworn': 4357, 'sworn offic': 4358, 'miamidad': 2752, 'mayor candid': 2683, 'sewer': 4011, 'asid': 219, 'project creat': 3444, 'set asid': 4004, 'unconstitut': 4647, 'busi owner': 557, 'small busi owner': 4108, 'reform law': 3633, 'care reform law': 633, 'hard': 1943, 'came offic': 566, 'trillion deficit': 4589, 'econom impact': 1361, 'materi': 2675, 'america lost': 132, 'creat million': 1022, 'creat million job': 1023, 'recal': 3597, 'defens budget': 1152, 'abort illeg': 9, 'case rape': 652, 'case rape incest': 653, 'bankrupt': 300, 'ad trillion debt': 47, 'counti board': 991, 'milwauke counti board': 2813, 'begich': 367, 'sen mark': 3960, 'mark begich': 2650, 'segment': 3951, 'financi crisi': 1637, 'senat immigr': 3973, 'coalfir': 822, 'qualiti': 3509, 'cost billion': 973, 'reflect': 3631, 'amaz': 126, 'platform': 3301, 'nation secur': 2912, 'skip': 4096, 'pregnant women': 3373, 'month month': 2863, 'sinc begin': 4071, 'weve creat': 4901, 'million kid': 2797, 'novemb': 3006, 'fluorid': 1669, 'jew': 2276, 'texa children': 4444, 'concern': 888, 'civilian': 786, 'casualti': 661, 'cost economi': 976, 'clinton campaign': 806, 'sullivan': 4302, 'consult': 930, 'carbon emiss': 614, 'prescrib': 3379, 'marketplac': 2654, 'medic marijuana': 2709, 'insur coverag': 2198, 'urban': 4699, 'austin school': 252, 'austin school district': 253, 'wear': 4880, 'ukrain': 4639, 'fed': 1583, 'carrier': 647, 'crack': 1018, 'street bank': 4267, 'pass legisl': 3179, 'wall street bank': 4829, 'middleincom': 2764, 'earner': 1350, 'teddi': 4420, 'christian': 761, 'lgbt': 2507, 'slave': 4100, 'particularli': 3166, 'attent': 240, 'paycheck': 3224, 'plan make': 3292, 'heck': 1966, 'joe heck': 2314, 'sen mccain': 3961, 'disagre': 1236, 'greenhous': 1883, 'chang law': 711, 'alabama': 103, 'trump said': 4606, 'donald trump said': 1282, 'mid': 2757, 'everi minut': 1488, 'adjust': 55, 'border secur': 469, 'pm': 3308, 'present': 3382, 'oklahoma': 3071, 'louisiana': 2573, 'kansa': 2369, 'job wisconsin': 2308, 'wisconsin job': 4926, 'separ': 3991, 'nativ': 2916, 'budget increas': 522, 'consumpt': 934, 'mitt romney said': 2842, 'repeal obamacar': 3684, 'congress pass': 904, 'frank': 1708, 'vote billion': 4771, 'august': 247, 'help balanc': 1975, 'budget billion': 518, 'billion worth': 425, 'gov rick perri': 1837, 'feder stimulu': 1606, 'easier': 1354, 'buy gun': 560, 'scale': 3889, 'barack pass': 313, 'dont need': 1293, 'unaccount': 4643, 'servic member': 4000, 'rang': 3553, 'democrat vote': 1185, 'reform plan': 3634, 'care reform plan': 634, 'construct': 929, 'dollar spend': 1272, 'averag american': 262, 'secur border': 3946, 'rubio support': 3822, 'aig': 94, 'cover cost': 1013, 'brazil': 497, 'soccer': 4116, 'southwest': 4155, 'cosponsor': 969, 'infant mortal': 2170, 'prostat': 3463, 'prostat cancer': 3464, 'injuri': 2178, 'connecticut': 915, 'prior': 3406, 'chafe': 701, 'buy insur': 561, 'egypt': 1376, 'half billion': 1928, 'longest': 2552, 'war afghanistan': 4842, 'fortyf': 1691, 'solv': 4133, 'christi veto': 760, 'chri christi veto': 758, 'wisconsin resid': 4929, 'women paid': 4949, 'paid cent': 3141, 'cent dollar': 685, 'boy': 486, 'cut rich': 1076, 'extrem': 1539, 'georgia lawmak': 1787, 'ryan medicar': 3842, 'medicar plan': 2723, 'paul ryan medicar': 3200, 'sourc': 4149, 'prosper': 3462, 'nonviol': 2993, 'johnson vote': 2331, 'panel': 3151, 'textbook': 4467, 'complaint': 878, 'syndrom': 4359, 'photo id': 3271, 'pascrel': 3174, 'vote remov': 4793, 'stephen': 4242, 'bp': 487, 'tourism': 4541, 'termin': 4432, 'republican idea': 3702, 'save million': 3883, 'profici': 3436, 'harder': 1944, 'polit parti': 3321, 'vote obamacar': 4788, 'otherwis': 3107, 'guest': 1904, 'johnson oppos': 2330, 'feder minimum': 1599, 'feder minimum wage': 1600, 'georg allen': 1780, 'weve cut': 4902, 'capit gain': 607, 'weigh': 4889, 'pound': 3350, 'haiti': 1925, 'fastest': 1572, 'fastest grow': 1573, 'zone': 4999, 'commun colleg': 864, 'pelosi said': 3233, 'save money': 3884, 'nanci pelosi said': 2894, 'gang': 1753, 'number new': 3020, 'new busi': 2952, 'fail school': 1551, 'east': 1355, 'coast': 824, 'explor': 1533, 'produc oil': 3433, 'tremend': 4580, 'employ mandat': 1412, 'regardless': 3640, 'ethnic': 1472, 'orient': 3100, 'sexual orient': 4017, 'czar': 1087, 'sue': 4297, 'fast': 1570, 'suzann': 4352, 'partisan': 3167, 'suzann bonamici': 4353, 'access care': 20, 'werent': 4896, 'embargo': 1404, 'union address': 4672, 'millenni': 2778, 'tax nation': 4390, 'doubl nation': 1301, 'senat mccain': 3975, 'feder agenc': 1585, 'nj': 2986, 'fall': 1555, 'joni': 2340, 'candid joni': 587, 'joni ernst': 2341, 'support nation': 4321, 'candid joni ernst': 588, 'scientist': 3916, 'principl': 3404, 'surplus': 4342, 'legal immigr': 2488, 'middl east': 2761, 'law allow': 2457, 'founder': 1697, 'ought': 3108, 'jame': 2257, 'mayb': 2681, 'care countri': 620, 'disproportion': 1248, 'thanksgiv': 4478, 'russia china': 3837, 'women make': 4948, 'jobless rate': 2311, 'wind power': 4917, 'million acr': 2780, 'arizona immigr': 211, 'arizona immigr law': 212, 'bought': 481, 'want elimin': 4834, 'accid': 21, 'unintend': 4670, 'abort case': 6, 'abort case rape': 7, 'north american': 2996, 'mosqu': 2871, 'explos': 1534, 'appeal': 189, 'corrupt': 965, 'wedlock': 4885, 'born wedlock': 474, 'twentyf': 4627, 'minimumwag': 2822, 'lowest rate': 2581, 'border time': 470, 'lowest level': 2580, 'border time histori': 471, 'countri higher': 1002, 'histori unit': 2021, 'histori unit state': 2022, 'senat race': 3979, 'divis': 1254, 'focus': 1670, 'sat': 3876, 'ed': 1367, 'gillespi': 1797, 'recommend': 3611, 'ed gillespi': 1368, 'care mandat': 625, 'nearli billion': 2926, 'kerri': 2391, 'leagu': 2474, 'john kerri': 2324, 'fort': 1688, 'art': 218, 'elementari school': 1395, 'pat': 3186, 'teacher pay': 4409, 'surg': 4338, 'stage': 4206, 'prevent care': 3396, 'care provid': 631, 'disclosur': 1240, 'earthquak': 1352, 'spike': 4187, 'submit': 4288, 'buse': 548, 'voter registr': 4805, 'sunset': 4306, 'port': 3337, 'pay new': 3217, 'sort': 4146, 'site': 4090, 'add trillion': 51, 'purchas insur': 3501, 'lost million': 2568, 'lost million job': 2569, 'jennif': 2271, 'life expect': 2518, 'wive': 4938, 'margaret': 2642, 'sooner': 4145, 'rebat': 3593, 'unelect': 4655, 'nunn': 3023, 'nonprofit': 2992, 'michel nunn': 2755, 'spend cut': 4173, 'menendez': 2738, 'mix': 2844, 'alleg': 111, 'workplac': 4963, 'seven time': 4008, 'crimin record': 1039, 'gross domest': 1891, 'domest product': 1276, 'gross domest product': 1892, 'threaten': 4496, 'harbor': 1942, 'grand': 1871, 'valley': 4723, 'award': 270, 'hundr million': 2070, 'hundr million dollar': 2071, 'treat': 4576, 'exclud': 1510, 'counti govern': 994, 'human traffick': 2068, 'acorn': 34, 'vote right': 4795, 'cost american': 971, 'wisconsin law': 4927, 'enforc offic': 1431, 'law enforc offic': 2460, 'sen kay': 3959, 'hous democrat': 2054, 'lose insur': 2559, 'insur obamacar': 2200, 'goe effect': 1813, 'understand': 4651, 'barack obama care': 310, 'rug': 3824, 'auto industri': 256, 'higher unemploy': 1993, 'manipul': 2630, 'data': 1102, 'money wall': 2859, 'money wall street': 2860, 'cut million': 1073, 'rate countri': 3565, 'resid requir': 3725, 'refus say': 3638, 'rais tax time': 3545, 'million day': 2787, 'social media': 4118, 'energi cost': 1426, 'texa citi': 4445, 'philadelphia': 3266, 'nuclear power plant': 3012, 'sean': 3928, 'duffi': 1337, 'sean duffi': 3929, 'william': 4914, 'cannon': 597, 'straight': 4262, 'taliban': 4368, 'person incom': 3258, 'spill': 4188, 'oil spill': 3069, 'highest number': 1999, 'deserv': 1203, 'kurt': 2424, 'schrader': 3912, 'govern spend': 1853, 'poison': 3311, 'digit': 1227, 'dropout rate': 1329, 'court nomine': 1011, 'suprem court nomine': 4335, 'crimea': 1036, 'soviet': 4157, 'republ': 3693, 'suppli': 4313, 'oblig': 3038, 'retire': 3743, 'central fall': 694, 'job time': 2305, 'kelli': 2380, 'custodi': 1059, 'candidaci': 596, 'budget deficit': 520, 'unemploy benefit': 4657, 'th congression': 4470, 'th congression district': 4471, 'graduat colleg': 1867, 'elect offici': 1388, 'knew': 2416, 'ice': 2086, 'hondura': 2037, 'school budget': 3898, 'march': 2635, 'rebel': 3595, 'unilater': 4667, 'jan': 2258, 'dome': 1274, 'democraci': 1174, 'bike': 403, 'lane': 2441, 'proven': 3472, 'obama care plan': 3029, 'david perdu': 1112, 'texa republican': 4461, 'domin': 1278, 'nearli new': 2932, 'kingston': 2411, 'nascar': 2896, 'jack kingston': 2254, 'divers': 1252, 'barack hussein': 307, 'job train': 2307, 'train program': 4559, 'billion surplu': 423, 'billion budget deficit': 409, 'luxuri': 2587, 'hotel': 2047, 'clinton administr': 805, 'hous care': 2052, 'forc particip': 1678, 'hillari clinton said': 2013, 'custom': 1060, 'wage worker': 4813, 'incom earner': 2138, 'minimum wage worker': 2821, 'billion annual': 405, 'dump': 1338, 'austin mayor': 251, 'candid steve': 589, 'trimet': 4594, 'contain': 936, 'opposit': 3090, 'econom recoveri': 1363, 'shield': 4037, 'safe': 3846, 'consequ': 921, 'expir': 1531, 'fbi director': 1580, 'invit': 2223, 'accommod': 23, 'ratio': 3579, 'randi': 3552, 'new spend': 2969, 'doesnt make': 1262, 'send billion': 3984, 'billion day': 411, 'congressmen': 912, 'state largest': 4222, 'smart': 4111, 'consum financi': 932, 'financi protect': 1639, 'protect bureau': 3468, 'wasserman schultz vote': 4863, 'consum financi protect': 933, 'financi protect bureau': 1640, 'fouryear colleg': 1700, 'legitim': 2497, 'wisconsin suprem': 4931, 'wisconsin suprem court': 4932, 'narrow': 2895, 'twenti': 4626, 'plummet': 3307, 'univers texa': 4686, 'run senat': 3830, 'secur benefit': 3945, 'social secur benefit': 4121, 'offic barack': 3050, 'identifi': 2093, 'ninth': 2984, 'vote allow': 4768, 'usborn': 4703, 'ganley': 1754, 'tom ganley': 4524, 'sinc gov': 4074, 'fund plan': 1735, 'cold': 828, 'budget surplu': 529, 'bottl': 480, 'southwest virginia': 4156, 'iv': 2249, 'trust fund': 4610, 'stock market': 4254, 'becam law': 358, 'madison': 2594, 'disclos': 1239, 'webster': 4883, 'mass shoot': 2667, 'waterboard': 4870, 'war crime': 4843, 'toughest': 4539, 'wisconsinit': 4934, 'significantli': 4064, 'tampa': 4372, 'uber': 4637, 'averag person': 265, 'midterm': 2765, 'ineffect': 2167, 'uninsur american': 4669, 'texa depart': 4447, 'transpar': 4567, 'democrat parti': 1180, 'trial': 4585, 'temporari': 4426, 'lack': 2434, 'era': 1457, 'vote republican': 4794, 'rock': 3793, 'pryor': 3479, 'mark pryor': 2651, 'benefit illeg': 379, 'ohio job': 3059, 'drove': 1330, 'paid men': 3143, 'gov walker': 1842, 'entitl program': 1447, 'becom elig': 361, 'constitu': 926, 'cori': 956, 'youd': 4988, 'preexist': 3368, 'preexist condit': 3369, 'fewer job': 1623, 'kander': 2368, 'escap': 1463, 'dictat': 1220, 'tax rais': 4391, 'recal oppon': 3599, 'use taxpay': 4708, 'use taxpay dollar': 4709, 'foster': 1694, 'black male': 442, 'eighti': 1377, 'greec': 1880, 'music': 2889, 'current plan': 1058, 'pay benefit': 3205, 'squar': 4199, 'portland public': 3339, 'revolut': 3752, 'newli': 2975, 'execut order': 1516, 'korean': 2423, 'milk': 2777, 'famili farm': 1560, 'iran nuclear': 2230, 'iran nuclear deal': 2231, 'offset': 3055, 'detain': 1209, 'lemieux': 2498, 'task': 4378, 'georg lemieux': 1783, 'major republican': 2608, 'task forc': 4379, 'earn cent': 1347, 'everi man': 1487, 'led nation': 2481, 'council member': 986, 'kidnap': 2400, 'kidnap capit': 2401, 'capit world': 608, 'kidnap capit world': 2402, 'courag': 1006, 'use campaign': 4705, 'campaign money': 575, 'local govern': 2545, 'justin': 2365, 'ident': 2090, 'marshal': 2659, 'accord recent': 26, 'overwhelmingli': 3129, 'american overwhelmingli': 148, 'missil': 2830, 'peac': 3228, 'fenc': 1620, 'border fenc': 465, 'error': 1462, 'exoner': 1519, 'romneycar': 3805, 'violenc women': 4751, 'women act': 4945, 'violenc women act': 4752, 'marta': 2660, 'drain': 1312, 'buono': 538, 'charter': 723, 'insur industri': 2199, 'bird': 432, 'pay feder': 3209, 'overse': 3120, 'sinc came': 4072, 'sinc came offic': 4073, 'bit': 439, 'earn men': 1349, 'time rate': 4508, 'gift': 1796, 'appar': 188, 'petersburg': 3263, 'st petersburg': 4201, 'deep': 1146, 'cancer research': 583, 'puerto': 3493, 'rico': 3768, 'puerto rico': 3494, 'takeov': 4366, 'medicar pay': 2722, 'special session': 4166, 'barn': 334, 'roy barn': 3819, 'nafta': 2891, 'search': 3930, 'complic': 882, 'cost everi': 977, 'ayott': 273, 'pell': 3230, 'kelli ayott': 2381, 'ayott vote': 274, 'pell grant': 3231, 'kelli ayott vote': 2382, 'republican nation': 3706, 'nation convent': 2902, 'republican nation convent': 3707, 'discov': 1241, 'shut govern': 4053, 'joe heck vote': 2315, 'closer': 814, 'amnesti illeg': 162, 'amnesti illeg immigr': 163, 'halfway': 1931, 'confeder': 894, 'confeder battl': 895, 'battl flag': 348, 'confeder battl flag': 896, 'univers wisconsin': 4687, 'essenti': 1465, 'maggi': 2596, 'maggi hassan': 2597, 'gener revenu': 1777, 'fewest': 1624, 'jimmi carter': 2282, 'ban assault': 296, 'ban assault weapon': 297, 'okay': 3070, 'nearli job': 2929, 'creat texa': 1028, 'post': 3345, 'rate high': 3568, 'higher unemploy rate': 1994, 'hawaii': 1956, 'save account': 3880, 'feder dollar': 1591, 'fund abort': 1728, 'cdc': 675, 'shell': 4031, 'bush governor': 552, 'christma tree': 763, 'gingrey': 1800, 'electron': 1393, 'warrant': 4851, 'notic': 3005, 'referendum': 3630, 'levi': 2506, 'law make': 2461, 'drug test': 1334, 'thom': 4486, 'tilli': 4500, 'carolina republican': 643, 'candid thom': 592, 'thom tilli': 4487, 'compani deni': 869, 'deni coverag': 1190, 'coverag preexist': 1015, 'north carolina republican': 2998, 'candid thom tilli': 593, 'insur compani deni': 2196, 'coverag preexist condit': 1016, 'busi creat': 556, 'deposit': 1199, 'texa creat': 4446, 'richmond': 3762, 'decemb': 1135, 'job creat texa': 2289, 'blow': 446, 'donald trump plan': 1281, 'matern': 2676, 'hasner': 1950, 'adam hasner': 49, 'th countri': 4472, 'meal': 2697, 'junket': 2358, 'vote spend': 4797, 'overstay visa': 3124, 'surpris': 4343, 'feder fund': 1593, 'holder': 2027, 'eric holder': 1461, 'debt doubl': 1130, 'cut social': 1077, 'cut social secur': 1078, 'difficult': 1226, 'gave million': 1760, 'prime': 3402, 'minist': 2823, 'prime minist': 3403, 'dave': 1106, 'unless': 4688, 'benjamin': 382, 'benjamin netanyahu': 383, 'label': 2429, 'beef': 363, 'repres vote': 3690, 'carrol': 648, 'mous': 2878, 'vote florida': 4780, 'obes': 3036, 'hyde': 2085, 'vice': 4741, 'dick': 1218, 'cheney': 730, 'dick cheney': 1219, 'class famili': 791, 'middl class famili': 2760, 'upcom': 4696, 'orlean': 3103, 'plan cut tax': 3289, 'american public': 151, 'confisc': 899, 'remark': 3667, 'troop iraq': 4599, 'career politician': 638, 'commonli': 861, 'tax work': 4395, 'pakistan': 3147, 'april': 202, 'elimin depart': 1400, 'campaign fund': 574, 'great recess': 1877, 'dollar debt': 1267, 'allen vote': 113, 'georg allen vote': 1781, 'plastic bag': 3300, 'forum': 1692, 'privileg': 3423, 'chapter': 715, 'carlo': 640, 'women earn': 4947, 'dollar earn': 1268, 'class size': 792, 'sixti': 4093, 'condemn': 890, 'elect governor': 1386, 'dirti': 1234, 'colleg student': 838, 'bu': 515, 'entir countri': 1443, 'million new job': 2801, 'barack promis': 314, 'promis cut': 3447, 'purchas gun': 3500, 'vote amend': 4769, 'fighter': 1629, 'member senat': 2733, 'man woman': 2622, 'rememb': 3668, 'care million': 626, 'airplan': 98, 'liberti': 2509, 'columbiahca': 844, 'nation care': 2901, 'environment': 1449, 'shale': 4020, 'run governor': 3827, 'miss vote': 2829, 'state allow': 4215, 'open carri': 3082, 'mean million': 2699, 'increas tax fee': 2154, 'mosquito': 2872, 'hook': 2040, 'petit': 3264, 'signer': 4062, 'recal petit': 3600, 'candid tammi': 590, 'candid tammi baldwin': 591, 'transgend': 4562, 'corzin': 968, 'jon corzin': 2337, 'spend educ': 4174, 'safer': 3847, 'pour': 3351, 'disast': 1238, 'burr': 547, 'richard burr': 3760, 'influenc': 2173, 'sept': 3992, 'metropolitan': 2748, 'leak': 2475, 'largest citi': 2447, 'memori': 2735, 'older': 3073, 'basketbal': 344, 'lunch': 2584, 'school lunch': 3906, 'presidenti candid': 3388, 'measl': 2701, 'children come': 741, 'immigr polici': 2114, 'ordinari': 3095, 'riski': 3783, 'north korea': 2999, 'pet': 3260, 'newport': 2976, 'eventu': 1476, 'economist': 1366, 'public univers': 3491, 'ga tax': 1748, 'trend': 4581, 'adjust inflat': 56, 'school receiv': 3907, 'cigarett': 769, 'groceri': 1888, 'seek': 3949, 'gun background': 1910, 'gun background check': 1911, 'charl': 719, 'touch': 4537, 'shower': 4049, 'privatesector job growth': 3422, 'said republican': 3855, 'patrol agent': 3196, 'undocu worker': 4654, 'border patrol agent': 468, 'atlant': 232, 'vote senat': 4796, 'truck': 4601, 'increas debt': 2145, 'quadrupl': 3507, 'wide': 4911, 'major citi': 2604, 'cut budget': 1065, 'million illeg': 2793, 'miami': 2751, 'trenton': 4582, 'depart agricultur': 1192, 'toy': 4546, 'famili care': 1559, 'hurd': 2076, 'right work': 3777, 'whatev': 4906, 'incom cut': 2137, 'cut benefit': 1062, 'sinc januari': 4078, 'care senior': 635, 'paid dollar': 3142, 'work privat': 4955, 'work privat sector': 4956, 'militari servic': 2775, 'renacci': 3670, 'jim renacci': 2280, 'reduc number': 3625, 'congress vote': 905, 'significantli higher': 4065, 'tarp': 4377, 'financi institut': 1638, 'unsaf': 4694, 'colleg univers': 840, 'strike syria': 4272, 'nixon': 2985, 'cuban': 1051, 'distribut': 1249, 'gener eric': 1772, 'gener eric holder': 1773, 'libyan': 2512, 'capandtrad plan': 605, 'congest': 901, 'light rail': 2523, 'rig': 3773, 'level sinc': 2505, 'desk': 1205, 'everi hour': 1485, 'day offic': 1115, 'ben': 375, 'swap': 4354, 'bow': 482, 'bow bergdahl': 483, 'littl bit': 2535, 'state raini': 4226, 'state raini day': 4227, 'exce': 1506, 'death penalti': 1122, 'detroit': 1212, 'welfar program': 4891, 'militari spend': 2776, 'lot money': 2571, 'current coverag': 1057, 'prop': 3450, 'school graduat rate': 3905, 'behavior': 370, 'boston': 479, 'justic rebecca': 2362, 'justic rebecca bradley': 2363, 'variou': 4726, 'flint': 1658, 'lay': 2468, 'fiorina': 1643, 'worker pay': 4960, 'bed': 362, 'core standard': 955, 'common core standard': 860, 'gender': 1768, 'belong': 374, 'cook': 951, 'said didnt': 3852, 'ohio lost': 3060, 'ohio lost job': 3061, 'american receiv': 152, 'rightw': 3779, 'kill american': 2404, 'googl': 1821, 'crimin investig': 1038, 'franchis': 1706, 'dont work': 1298, 'china india': 747, 'increas feder': 2146, 'medicar senior': 2724, 'abort right': 10, 'democrat hous': 1179, 'mammogram': 2619, 'aggress': 87, 'legisl session': 2492, 'compens': 875, 'cotton': 984, 'tom cotton': 4523, 'dwight': 1340, 'dwight eisenhow': 1341, 'took control': 4530, 'harass': 1941, 'million feder': 2792, 'illeg immigr come': 2101, 'environment protect': 1450, 'protect agenc': 3467, 'environment protect agenc': 1451, 'doubledigit': 1304, 'money spend': 2858, 'ahead': 92, 'divorc': 1255, 'lower rate': 2577, 'new mexico': 2964, 'earn incom': 1348, 'slush': 4104, 'slush fund': 4105, 'method': 2745, 'america today': 133, 'million debt': 2788, 'scam': 3890, 'everi dollar spent': 1483, 'supervisor': 4312, 'landslid': 2440, 'care option': 627, 'job includ': 2293, 'genet': 1778, 'bureaucraci': 543, 'tape': 4375, 'seller': 3955, 'job number': 2299, 'surveil': 4345, 'georgia lost': 1788, 'outrag': 3111, 'pay insur': 3216, 'donat democrat': 1286, 'keyston pipelin': 2394, 'nation job': 2907, 'immigr statu': 2116, 'barack becam': 304, 'red light': 3621, 'castro': 660, 'probe': 3426, 'texa unemploy': 4464, 'pay feder incom': 3210, 'doherti': 1265, 'maryland': 2664, 'obama plan': 3030, 'barack obama plan': 311, 'american lose': 146, 'million american lose': 2782, 'say dont': 3888, 'solar energi': 4126, 'ongo': 3078, 'poland': 3312, 'state actual': 4214, 'inact': 2125, 'signatur': 4061, 'shift': 4038, 'rais incom': 3532, 'school teacher': 3910, 'public school teacher': 3489, 'countri doesnt': 1000, 'enterpris': 1441, 'member vote': 2734, 'plan creat': 3287, 'barrel oil': 336, 'ram': 3548, 'yemen': 4984, 'took money': 4532, 'allow use': 118, 'texa legisl': 4456, 'heroin': 1980, 'nurs home': 3025, 'republican governor': 3701, 'sen john': 3957, 'sen john mccain': 3958, 'american live': 145, 'poverti line': 3354, 'prison popul': 3409, 'workman': 4962, 'paul workman': 3201, 'job state': 2303, 'cast decid': 658, 'cast decid vote': 659, 'tax lower': 4386, 'entir world': 1445, 'uncompens': 4645, 'uncompens care': 4646, 'insur rate': 2204, 'balanc budget rais': 292, 'convers': 947, 'previou administr': 3398, 'support higher': 4319, 'brain': 492, 'crippl': 1040, 'averag student': 266, 'gay coupl': 1762, 'tobacco': 4512, 'jon runyan': 2338, 'school choic': 3900, 'choic program': 751, 'compromis': 884, 'key': 2392, 'everi sinc': 1492, 'turkey': 4617, 'repair': 3681, 'street bailout': 4266, 'wall street bailout': 4828, 'born today': 473, 'colleg educ': 836, 'golf': 1818, 'offic said': 3053, 'medicaid program': 2715, 'wast fraud': 4865, 'kentucki': 2388, 'heart': 1964, 'lyndon': 2589, 'lyndon johnson': 2590, 'gulf war': 1908, 'debunk': 1132, 'urg': 4700, 'trillion new': 4593, 'unemploy number': 4659, 'bernank': 385, 'print': 3405, 'databas': 1103, 'environ': 1448, 'panther': 3153, 'iraq afghanistan': 2235, 'american dont': 138, 'new job creat': 2962, 'congress approv': 903, 'declar independ': 1140, 'state nation': 4225, 'solar panel': 4127, 'station': 4231, 'increas fund': 2147, 'children born': 740, 'item': 2248, 'woman child': 4941, 'man woman child': 2623, 'suspect terrorist': 4349, 'shelbi': 4027, 'shelbi counti': 4028, 'killer': 2407, 'barbara buono': 328, 'new feder': 2956, 'boe': 454, 'subsid': 4291, 'iran nuclear program': 2232, 'palm': 3150, 'arm forc': 215, 'legislatur pass': 2495, 'rate drop': 3567, 'storm': 4261, 'unit state countri': 4677, 'compani like': 870, 'worri': 4968, 'bargain right': 333, 'capac': 603, 'worst countri': 4971, 'warner vote': 4850, 'texa hous': 4452, 'make decis': 2612, 'sign pledg': 4060, 'govern worker': 1856, 'wildlif': 4913, 'run republican': 3829, 'counti texa': 998, 'ant': 177, 'defens depart': 1153, 'sea': 3927, 'interven': 2214, 'spent taxpay': 4185, 'undergo': 4650, 'school aid': 3896, 'intern revenu': 2210, 'revenu servic': 3748, 'intern revenu servic': 2211, 'upgrad': 4697, 'jackson': 2255, 'tonight': 4527, 'candid tommi': 594, 'senat candid tommi': 3970, 'candid tommi thompson': 595, 'sic': 4055, 'support sale': 4329, 'communist': 865, 'cent gallon': 688, 'flu': 1668, 'giant': 1795, 'provid million': 3475, 'citi st': 780, 'saddam hussein': 3845, 'countri illeg': 1003, 'privat prison': 3414, 'lab': 2428, 'settl': 4005, 'caus million': 673, 'plan rais tax': 3295, 'governor texa': 1863, 'job america': 2286, 'postal': 3346, 'postal servic': 3347, 'cycl': 1086, 'elect cycl': 1384, 'kendrick': 2385, 'meek': 2727, 'kendrick meek': 2386, 'boss': 478, 'charter school': 724, 'govern takeov': 1854, 'takeov care': 4367, 'govern takeov care': 1855, 'make harder': 2613, 'maintain': 2600, 'propos transport': 3458, 'net worth': 2947, 'human servic': 2067, 'incom famili': 2139, 'hussein forc': 2083, 'barack hussein forc': 308, 'mate': 2674, 'run mate': 3828, 'palestinian': 3148, 'save live': 3882, 'rate women': 3577, 'struggl': 4278, 'th amend': 4469, 'nearli time': 2933, 'said nation': 3854, 'daniel': 1098, 'daniel webster': 1099, 'ethanol': 1470, 'morgan': 2866, 'lose current': 2558, 'american want': 158, 'tear': 4411, 'pave': 3202, 'includ increas': 2134, 'techniqu': 4415, 'hijack': 2007, 'govern care': 1846, 'vladimir': 4763, 'putin': 3506, 'greatest': 1879, 'vladimir putin': 4764, 'booker': 461, 'pension plan': 3242, 'clinton plan': 809, 'hillari clinton plan': 2012, 'philippin': 3267, 'partial': 3163, 'campaign financ': 573, 'new govern': 2957, 'govern program': 1850, 'number illeg': 3017, 'number illeg immigr': 3018, 'privaci': 3410, 'hemp': 1978, 'groceri store': 1889, 'accomplish': 24, 'convict felon': 950, 'museum': 2888, 'unsuccess': 4695, 'everi person': 1490, 'annual budget': 174, 'nation job creation': 2908, 'texa abort': 4443, 'admiss': 59, 'wasilla': 4859, 'profil': 3437, 'feder govern spend': 1595, 'govern benefit': 1845, 'slaveri': 4101, 'half american': 1927, 'state govern': 4220, 'unit state govern': 4679, 'stone': 4255, 'pay abort': 3204, 'jumpstart': 2355, 'jumpstart economi': 2356, 'senat major': 3974, 'major leader': 2607, 'transport plan': 4569, 'oldest': 3074, 'hurrican sandi': 2079, 'coalit': 823, 'immigr cost': 2111, 'illeg immigr cost': 2102, 'chain': 702, 'brag': 491, 'dont insur': 1291, 'brave': 496, 'sent letter': 3989, 'tech': 4412, 'bureau labor': 541, 'labor statist': 2432, 'bureau labor statist': 542, 'republican elect': 3700, 'steel': 4237, 'stimulu plan': 4251, 'purg': 3502, 'note': 3003, 'corridor': 964, 'electr car': 1391, 'assess': 228, 'lee fisher': 2483, 'paid tax': 3144, 'regim': 3641, 'georgia public': 1789, 'blunt': 448, 'recal elect': 3598, 'staffer': 4205, 'hous candid': 2051, 'carlo curbelo': 641, 'kasich budget': 2372, 'john kasich budget': 2322, 'wisconsin assembl': 4921, 'drink water': 1321, 'weve lost': 4904, 'american believ': 135, 'amtrak': 164, 'waiv': 4816, 'embassi': 1405, 'occas': 3040, 'democrat white': 1186, 'democrat white hous': 1187, 'texa law': 4454, 'sander vote': 3871, 'includ million': 2135, 'fund student': 1737, 'anymor': 180, 'elizabeth': 1401, 'toomey': 4534, 'famili pay': 1563, 'unarm': 4644, 'bipartisan support': 431, 'identif law': 2092, 'dairi': 1090, 'smallest': 4110, 'opt': 3091, 'plan cost': 3286, 'secretli': 3941, 'parti platform': 3162, 'court appeal': 1009, 'patent': 3188, 'pizza': 3283, 'obama polici': 3031, 'barack obama polici': 312, 'american oppos': 147, 'sinc ive': 4077, 'tuition increas': 4615, 'pat toomey': 3187, 'cut half': 1070, 'monthli': 2864, 'wash': 4854, 'texa highest': 4451, 'academi': 17, 'hardwork': 1945, 'guilti': 1905, 'share economi': 4022, 'brand': 495, 'pass obamacar': 3180, 'averag age': 261, 'republican voter': 3717, 'georgia rank': 1790, 'carri gun': 646, 'billion gallon': 417, 'presidenti campaign': 3387, 'complain': 877, 'feder regul': 1603, 'blank': 444, 'rate time': 3575, 'surfac': 4337, 'broke promis': 505, 'cia': 767, 'formula': 1686, 'berni sander vote': 388, 'warmer': 4847, 'carli': 639, 'said cut': 3851, 'multnomah': 2882, 'multnomah counti': 2883, 'greenhous ga': 1884, 'alloc': 116, 'counti school': 996, 'wolf': 4939, 'anywher els': 185, 'comprehens': 883, 'gingrich support': 1802, 'job pay': 2301, 'state like': 4223, 'absente': 13, 'neglect': 2938}\n",
            "[7.51190173 8.37689916 7.23746488 ... 8.66458124 7.97143406 7.97143406]\n"
          ],
          "name": "stdout"
        },
        {
          "output_type": "execute_result",
          "data": {
            "text/plain": [
              "numpy.ndarray"
            ]
          },
          "metadata": {
            "tags": []
          },
          "execution_count": 262
        }
      ]
    },
    {
      "cell_type": "code",
      "metadata": {
        "id": "k5PzG5rSEHEH",
        "colab_type": "code",
        "outputId": "103dfbe3-c24d-4430-9eb3-c3ebf271994b",
        "colab": {
          "base_uri": "https://localhost:8080/",
          "height": 34
        }
      },
      "source": [
        "xtrain_tfv_sum.shape"
      ],
      "execution_count": 263,
      "outputs": [
        {
          "output_type": "execute_result",
          "data": {
            "text/plain": [
              "(10230, 5000)"
            ]
          },
          "metadata": {
            "tags": []
          },
          "execution_count": 263
        }
      ]
    },
    {
      "cell_type": "code",
      "metadata": {
        "id": "LaTCj_onsLiH",
        "colab_type": "code",
        "colab": {}
      },
      "source": [
        "X_train = np.concatenate((X_train_cont, xtrain_tfv_sum,X_train_cat),axis = 1)\n",
        "#x_data = np.concatenate((x1, xdata_tfv_sum, rest_df_data),axis = 1)"
      ],
      "execution_count": 0,
      "outputs": []
    },
    {
      "cell_type": "code",
      "metadata": {
        "id": "eOxpfj3pLcPC",
        "colab_type": "code",
        "colab": {}
      },
      "source": [
        "X_test = np.concatenate((X_test_cont, xtest_tfv_sum,X_test_cat),axis = 1)"
      ],
      "execution_count": 0,
      "outputs": []
    },
    {
      "cell_type": "code",
      "metadata": {
        "id": "RcncYi1zLujS",
        "colab_type": "code",
        "outputId": "e65e84ee-edd1-4fd9-afc6-2970c38d2c89",
        "colab": {
          "base_uri": "https://localhost:8080/",
          "height": 34
        }
      },
      "source": [
        "X_train.shape, X_test.shape"
      ],
      "execution_count": 266,
      "outputs": [
        {
          "output_type": "execute_result",
          "data": {
            "text/plain": [
              "((10230, 5010), (2558, 5010))"
            ]
          },
          "metadata": {
            "tags": []
          },
          "execution_count": 266
        }
      ]
    },
    {
      "cell_type": "code",
      "metadata": {
        "id": "7MPcP47WMyeD",
        "colab_type": "code",
        "outputId": "f3718cce-3fc1-4af4-cc40-29d209271ec4",
        "colab": {
          "base_uri": "https://localhost:8080/",
          "height": 238
        }
      },
      "source": [
        "X_train"
      ],
      "execution_count": 267,
      "outputs": [
        {
          "output_type": "execute_result",
          "data": {
            "text/plain": [
              "array([[0.000e+00, 0.000e+00, 0.000e+00, ..., 6.300e+01, 1.700e+01,\n",
              "        2.698e+03],\n",
              "       [0.000e+00, 0.000e+00, 0.000e+00, ..., 6.300e+01, 1.700e+01,\n",
              "        1.550e+02],\n",
              "       [7.000e+00, 8.000e+00, 1.000e+01, ..., 2.400e+01, 2.000e+01,\n",
              "        3.179e+03],\n",
              "       ...,\n",
              "       [3.100e+01, 3.900e+01, 3.100e+01, ..., 2.000e+00, 2.000e+01,\n",
              "        8.600e+01],\n",
              "       [0.000e+00, 0.000e+00, 1.000e+00, ..., 1.500e+01, 6.000e+00,\n",
              "        3.250e+03],\n",
              "       [5.000e+00, 4.000e+00, 2.000e+00, ..., 6.300e+01, 2.000e+01,\n",
              "        1.860e+03]])"
            ]
          },
          "metadata": {
            "tags": []
          },
          "execution_count": 267
        }
      ]
    },
    {
      "cell_type": "markdown",
      "metadata": {
        "id": "u39AH4fK781g",
        "colab_type": "text"
      },
      "source": [
        "**Fitting the Models on the Preprocessed Dataset**"
      ]
    },
    {
      "cell_type": "markdown",
      "metadata": {
        "id": "s3Xa3vx88KEQ",
        "colab_type": "text"
      },
      "source": [
        "- **NAIVE BAYES**"
      ]
    },
    {
      "cell_type": "code",
      "metadata": {
        "id": "PKRgW-rWuC-w",
        "colab_type": "code",
        "colab": {}
      },
      "source": [
        "# Fitting Naive Bayes to the Training set\n",
        "from sklearn.naive_bayes import MultinomialNB\n",
        "classifier_nb = MultinomialNB()\n",
        "classifier_nb.fit(X_train, y_train)\n",
        "y_pred_nb = classifier_nb.predict(X_test)"
      ],
      "execution_count": 0,
      "outputs": []
    },
    {
      "cell_type": "code",
      "metadata": {
        "id": "NEZJhLcp4E5E",
        "colab_type": "code",
        "colab": {}
      },
      "source": [
        "from sklearn.metrics import accuracy_score #\n",
        "from sklearn.metrics import precision_score, recall_score\n",
        "from sklearn.metrics import classification_report"
      ],
      "execution_count": 0,
      "outputs": []
    },
    {
      "cell_type": "code",
      "metadata": {
        "id": "NVSvlhXqH60u",
        "colab_type": "code",
        "outputId": "af8d3341-7d47-478e-a36d-e368d2337cce",
        "colab": {
          "base_uri": "https://localhost:8080/",
          "height": 34
        }
      },
      "source": [
        "np.unique(y_train)"
      ],
      "execution_count": 271,
      "outputs": [
        {
          "output_type": "execute_result",
          "data": {
            "text/plain": [
              "array([0, 1, 2, 3, 4, 5])"
            ]
          },
          "metadata": {
            "tags": []
          },
          "execution_count": 271
        }
      ]
    },
    {
      "cell_type": "code",
      "metadata": {
        "id": "6BQbSHo2HCvU",
        "colab_type": "code",
        "outputId": "b57157fe-6376-4a2d-acd3-596711cc3dfa",
        "colab": {
          "base_uri": "https://localhost:8080/",
          "height": 34
        }
      },
      "source": [
        "np.unique(y_pred_nb)"
      ],
      "execution_count": 272,
      "outputs": [
        {
          "output_type": "execute_result",
          "data": {
            "text/plain": [
              "array([0, 1, 2, 3, 4, 5])"
            ]
          },
          "metadata": {
            "tags": []
          },
          "execution_count": 272
        }
      ]
    },
    {
      "cell_type": "code",
      "metadata": {
        "id": "SG2yiZ-186bO",
        "colab_type": "code",
        "colab": {}
      },
      "source": [
        "y_pred_nb = labelencoder_label.inverse_transform(y_pred_nb)"
      ],
      "execution_count": 0,
      "outputs": []
    },
    {
      "cell_type": "code",
      "metadata": {
        "id": "FzG5BYGLHuD2",
        "colab_type": "code",
        "outputId": "40ff9694-12db-44a5-9a2e-4979b9697ad8",
        "colab": {
          "base_uri": "https://localhost:8080/",
          "height": 51
        }
      },
      "source": [
        "y_pred_nb"
      ],
      "execution_count": 274,
      "outputs": [
        {
          "output_type": "execute_result",
          "data": {
            "text/plain": [
              "array(['pants-fire', 'barely-true', 'barely-true', ..., 'pants-fire',\n",
              "       'false', 'mostly-true'], dtype=object)"
            ]
          },
          "metadata": {
            "tags": []
          },
          "execution_count": 274
        }
      ]
    },
    {
      "cell_type": "code",
      "metadata": {
        "id": "o6R-ujul9IgM",
        "colab_type": "code",
        "colab": {}
      },
      "source": [
        "y_test_nb = y_test"
      ],
      "execution_count": 0,
      "outputs": []
    },
    {
      "cell_type": "code",
      "metadata": {
        "id": "GJXlF0L2Hpuu",
        "colab_type": "code",
        "colab": {}
      },
      "source": [
        "y_test_nb = labelencoder_label.inverse_transform(y_test_nb)"
      ],
      "execution_count": 0,
      "outputs": []
    },
    {
      "cell_type": "code",
      "metadata": {
        "id": "J4IN8oDdOFbg",
        "colab_type": "code",
        "outputId": "6dcb0008-a3e3-4a46-cd5b-e1199cdbae9d",
        "colab": {
          "base_uri": "https://localhost:8080/",
          "height": 51
        }
      },
      "source": [
        "y_test_nb"
      ],
      "execution_count": 277,
      "outputs": [
        {
          "output_type": "execute_result",
          "data": {
            "text/plain": [
              "array(['pants-fire', 'true', 'barely-true', ..., 'mostly-true', 'false',\n",
              "       'false'], dtype=object)"
            ]
          },
          "metadata": {
            "tags": []
          },
          "execution_count": 277
        }
      ]
    },
    {
      "cell_type": "code",
      "metadata": {
        "id": "MOqaAZKIMNqs",
        "colab_type": "code",
        "colab": {}
      },
      "source": [
        "# Making the Confusion Matrix\n",
        "from sklearn.metrics import confusion_matrix"
      ],
      "execution_count": 0,
      "outputs": []
    },
    {
      "cell_type": "code",
      "metadata": {
        "id": "NbBxNNQr3jCC",
        "colab_type": "code",
        "outputId": "389ca23d-bab0-4158-ec57-11de44cb1c47",
        "colab": {
          "base_uri": "https://localhost:8080/",
          "height": 476
        }
      },
      "source": [
        "print('Accuracy:', accuracy_score(y_test_nb, y_pred_nb))\n",
        "print('F1 score:', f1_score(y_test_nb, y_pred_nb,average='weighted'))\n",
        "print('Recall:', recall_score(y_test_nb, y_pred_nb,\n",
        "                              average='weighted'))\n",
        "print('Precision:', precision_score(y_test_nb, y_pred_nb,\n",
        "                                    average='weighted'))\n",
        "print('\\n clasification report:\\n', classification_report(y_test_nb, y_pred_nb))\n",
        "print('\\n confussion matrix:\\n',confusion_matrix(y_test_nb, y_pred_nb))"
      ],
      "execution_count": 279,
      "outputs": [
        {
          "output_type": "stream",
          "text": [
            "Accuracy: 0.18569194683346366\n",
            "F1 score: 0.17508629588287156\n",
            "Recall: 0.18569194683346366\n",
            "Precision: 0.2203350534815431\n",
            "\n",
            " clasification report:\n",
            "               precision    recall  f1-score   support\n",
            "\n",
            " barely-true       0.18      0.29      0.22       423\n",
            "       false       0.24      0.22      0.23       506\n",
            "   half-true       0.25      0.14      0.18       528\n",
            " mostly-true       0.27      0.14      0.18       482\n",
            "  pants-fire       0.11      0.45      0.18       197\n",
            "        true       0.20      0.03      0.05       422\n",
            "\n",
            "    accuracy                           0.19      2558\n",
            "   macro avg       0.21      0.21      0.17      2558\n",
            "weighted avg       0.22      0.19      0.18      2558\n",
            "\n",
            "\n",
            " confussion matrix:\n",
            " [[123  78  48  30 136   8]\n",
            " [126 110  54  32 171  13]\n",
            " [150  97  75  57 142   7]\n",
            " [113  64  67  67 155  16]\n",
            " [ 50  38  14   5  89   1]\n",
            " [114  72  46  56 123  11]]\n"
          ],
          "name": "stdout"
        }
      ]
    },
    {
      "cell_type": "code",
      "metadata": {
        "id": "7XVNWj9FuDFh",
        "colab_type": "code",
        "colab": {}
      },
      "source": [
        "# Making the Confusion Matrix\n",
        "from sklearn.metrics import confusion_matrix\n",
        "cm_nb = confusion_matrix(y_test_nb, y_pred_nb)"
      ],
      "execution_count": 0,
      "outputs": []
    },
    {
      "cell_type": "code",
      "metadata": {
        "id": "N9BGTMdnPxXl",
        "colab_type": "code",
        "colab": {}
      },
      "source": [
        "target_names = ['pants-fire', 'true', 'barely-true', ..., 'mostly-true', 'false',\n",
        "       'false']"
      ],
      "execution_count": 0,
      "outputs": []
    },
    {
      "cell_type": "code",
      "metadata": {
        "id": "vr1fKEwcO2s2",
        "colab_type": "code",
        "colab": {}
      },
      "source": [
        "def plot_confusion_matrix(cm,\n",
        "                          target_names,\n",
        "                          title='Confusion matrix',\n",
        "                          cmap=None,\n",
        "                          normalize=True):\n",
        "    \"\"\"\n",
        "    given a sklearn confusion matrix (cm), make a nice plot\n",
        "\n",
        "    Arguments\n",
        "    ---------\n",
        "    cm:           confusion matrix from sklearn.metrics.confusion_matrix\n",
        "\n",
        "    target_names: given classification classes such as [0, 1, 2]\n",
        "                  the class names, for example: ['high', 'medium', 'low']\n",
        "\n",
        "    title:        the text to display at the top of the matrix\n",
        "\n",
        "    cmap:         the gradient of the values displayed from matplotlib.pyplot.cm\n",
        "                  see http://matplotlib.org/examples/color/colormaps_reference.html\n",
        "                  plt.get_cmap('jet') or plt.cm.Blues\n",
        "\n",
        "    normalize:    If False, plot the raw numbers\n",
        "                  If True, plot the proportions\n",
        "\n",
        "    Usage\n",
        "    -----\n",
        "    plot_confusion_matrix(cm           = cm,                  # confusion matrix created by\n",
        "                                                              # sklearn.metrics.confusion_matrix\n",
        "                          normalize    = True,                # show proportions\n",
        "                          target_names = y_labels_vals,       # list of names of the classes\n",
        "                          title        = best_estimator_name) # title of graph\n",
        "\n",
        "    Citiation\n",
        "    ---------\n",
        "    http://scikit-learn.org/stable/auto_examples/model_selection/plot_confusion_matrix.html\n",
        "\n",
        "    \"\"\"\n",
        "    import matplotlib.pyplot as plt\n",
        "    import numpy as np\n",
        "    import itertools\n",
        "\n",
        "    accuracy = np.trace(cm) / float(np.sum(cm))\n",
        "    misclass = 1 - accuracy\n",
        "\n",
        "    if cmap is None:\n",
        "        cmap = plt.get_cmap('Blues')\n",
        "\n",
        "    plt.figure(figsize=(8, 6))\n",
        "    plt.imshow(cm, interpolation='nearest', cmap=cmap)\n",
        "    plt.title(title)\n",
        "    plt.colorbar()\n",
        "\n",
        "    if target_names is not None:\n",
        "        tick_marks = np.arange(len(target_names))\n",
        "        plt.xticks(tick_marks, target_names, rotation=45)\n",
        "        plt.yticks(tick_marks, target_names)\n",
        "\n",
        "    if normalize:\n",
        "        cm = cm.astype('float') / cm.sum(axis=1)[:, np.newaxis]\n",
        "\n",
        "\n",
        "    thresh = cm.max() / 1.5 if normalize else cm.max() / 2\n",
        "    for i, j in itertools.product(range(cm.shape[0]), range(cm.shape[1])):\n",
        "        if normalize:\n",
        "            plt.text(j, i, \"{:0.4f}\".format(cm[i, j]),\n",
        "                     horizontalalignment=\"center\",\n",
        "                     color=\"white\" if cm[i, j] > thresh else \"black\")\n",
        "        else:\n",
        "            plt.text(j, i, \"{:,}\".format(cm[i, j]),\n",
        "                     horizontalalignment=\"center\",\n",
        "                     color=\"white\" if cm[i, j] > thresh else \"black\")\n",
        "\n",
        "\n",
        "    plt.tight_layout()\n",
        "    plt.ylabel('True label')\n",
        "    plt.xlabel('Predicted label\\naccuracy={:0.4f}; misclass={:0.4f}'.format(accuracy, misclass))\n",
        "    plt.show()"
      ],
      "execution_count": 0,
      "outputs": []
    },
    {
      "cell_type": "code",
      "metadata": {
        "id": "TBanoIqVO-XJ",
        "colab_type": "code",
        "outputId": "0913f584-4929-4dca-afe8-e292904e9b59",
        "colab": {
          "base_uri": "https://localhost:8080/",
          "height": 467
        }
      },
      "source": [
        "conf = plot_confusion_matrix(cm_nb,\n",
        "                          target_names,\n",
        "                          title='Confusion matrix for Naive Bayes',\n",
        "                          cmap=None,\n",
        "                          normalize=True)"
      ],
      "execution_count": 283,
      "outputs": [
        {
          "output_type": "display_data",
          "data": {
            "image/png": "[encoded data removed]",
            "text/plain": [
              "<Figure size 576x432 with 2 Axes>"
            ]
          },
          "metadata": {
            "tags": []
          }
        }
      ]
    },
    {
      "cell_type": "code",
      "metadata": {
        "id": "RqVrBhT6uDD9",
        "colab_type": "code",
        "colab": {}
      },
      "source": [
        "# Applying k-Fold Cross Validation\n",
        "from sklearn.model_selection import cross_val_score\n",
        "accuracies_nb = cross_val_score(estimator = classifier_nb, X = X_train, y = y_train, cv = 10)"
      ],
      "execution_count": 0,
      "outputs": []
    },
    {
      "cell_type": "code",
      "metadata": {
        "id": "SIZejKGjQB0X",
        "colab_type": "code",
        "outputId": "f15a32a3-4e56-44f3-9169-edd792f7b447",
        "colab": {
          "base_uri": "https://localhost:8080/",
          "height": 34
        }
      },
      "source": [
        "print('Mean Absolute Error for Naive Bayes %2f' %(-1 * accuracies_nb.mean()))"
      ],
      "execution_count": 285,
      "outputs": [
        {
          "output_type": "stream",
          "text": [
            "Mean Absolute Error for Naive Bayes -0.178789\n"
          ],
          "name": "stdout"
        }
      ]
    },
    {
      "cell_type": "code",
      "metadata": {
        "id": "X53in8eTQyVF",
        "colab_type": "code",
        "colab": {}
      },
      "source": [
        "ans_nb = pd.DataFrame(y_pred_nb)"
      ],
      "execution_count": 0,
      "outputs": []
    },
    {
      "cell_type": "markdown",
      "metadata": {
        "id": "v0Zg8mVCRYnc",
        "colab_type": "text"
      },
      "source": [
        "**Logistic Regression**"
      ]
    },
    {
      "cell_type": "code",
      "metadata": {
        "id": "dsmCMuVvsLaY",
        "colab_type": "code",
        "outputId": "c2bb2d94-74b5-4f13-a280-60f7510c8f05",
        "colab": {
          "base_uri": "https://localhost:8080/",
          "height": 71
        }
      },
      "source": [
        "from sklearn.linear_model import LogisticRegression\n",
        "classifier_lr=LogisticRegression(solver='lbfgs' ,multi_class='multinomial')\n",
        "classifier_lr.fit(X_train, y_train)\n",
        "y_pred_lr = classifier_lr.predict(X_test)"
      ],
      "execution_count": 288,
      "outputs": [
        {
          "output_type": "stream",
          "text": [
            "/usr/local/lib/python3.6/dist-packages/sklearn/linear_model/logistic.py:947: ConvergenceWarning: lbfgs failed to converge. Increase the number of iterations.\n",
            "  \"of iterations.\", ConvergenceWarning)\n"
          ],
          "name": "stderr"
        }
      ]
    },
    {
      "cell_type": "code",
      "metadata": {
        "id": "Sb74DIf2R9lh",
        "colab_type": "code",
        "colab": {}
      },
      "source": [
        "y_pred_lr = labelencoder_label.inverse_transform(y_pred_lr)"
      ],
      "execution_count": 0,
      "outputs": []
    },
    {
      "cell_type": "code",
      "metadata": {
        "id": "MuCjZZdHSTcl",
        "colab_type": "code",
        "colab": {}
      },
      "source": [
        "y_test_lr = y_test"
      ],
      "execution_count": 0,
      "outputs": []
    },
    {
      "cell_type": "code",
      "metadata": {
        "id": "SPYNSma6R-bT",
        "colab_type": "code",
        "colab": {}
      },
      "source": [
        "y_test_lr = labelencoder_label.inverse_transform(y_test_lr)"
      ],
      "execution_count": 0,
      "outputs": []
    },
    {
      "cell_type": "code",
      "metadata": {
        "id": "_cS4WcUE5D3P",
        "colab_type": "code",
        "outputId": "c8c96b8f-3329-41ef-fe50-5c1d82e71bcc",
        "colab": {
          "base_uri": "https://localhost:8080/",
          "height": 476
        }
      },
      "source": [
        "print('Accuracy:', accuracy_score(y_test_lr, y_pred_lr))\n",
        "print('F1 score:', f1_score(y_test_lr, y_pred_lr,average='weighted'))\n",
        "print('Recall:', recall_score(y_test_lr, y_pred_lr,\n",
        "                              average='weighted'))\n",
        "print('Precision:', precision_score(y_test_lr, y_pred_lr,\n",
        "                                    average='weighted'))\n",
        "print('\\n clasification report:\\n', classification_report(y_test_lr, y_pred_lr))\n",
        "print('\\n confussion matrix:\\n',confusion_matrix(y_test_lr, y_pred_lr))"
      ],
      "execution_count": 292,
      "outputs": [
        {
          "output_type": "stream",
          "text": [
            "Accuracy: 0.23768569194683348\n",
            "F1 score: 0.17941445146736834\n",
            "Recall: 0.23768569194683348\n",
            "Precision: 0.32567379936159013\n",
            "\n",
            " clasification report:\n",
            "               precision    recall  f1-score   support\n",
            "\n",
            " barely-true       0.50      0.00      0.01       423\n",
            "       false       0.22      0.78      0.34       506\n",
            "   half-true       0.23      0.19      0.21       528\n",
            " mostly-true       0.39      0.10      0.16       482\n",
            "  pants-fire       0.52      0.16      0.25       197\n",
            "        true       0.24      0.07      0.11       422\n",
            "\n",
            "    accuracy                           0.24      2558\n",
            "   macro avg       0.35      0.22      0.18      2558\n",
            "weighted avg       0.33      0.24      0.18      2558\n",
            "\n",
            "\n",
            " confussion matrix:\n",
            " [[  2 312  78  11   6  14]\n",
            " [  0 394  70  11  13  18]\n",
            " [  0 371 102  23   1  31]\n",
            " [  0 299 101  48   4  30]\n",
            " [  1 140  21   2  32   1]\n",
            " [  1 280  76  29   6  30]]\n"
          ],
          "name": "stdout"
        }
      ]
    },
    {
      "cell_type": "code",
      "metadata": {
        "id": "VeasdO5nR9cF",
        "colab_type": "code",
        "colab": {}
      },
      "source": [
        "# Making the Confusion Matrix\n",
        "from sklearn.metrics import confusion_matrix\n",
        "cm_lr = confusion_matrix(y_test_lr, y_pred_lr)"
      ],
      "execution_count": 0,
      "outputs": []
    },
    {
      "cell_type": "code",
      "metadata": {
        "id": "8pu0I56kTahX",
        "colab_type": "code",
        "outputId": "11161203-0aef-4d83-8146-ff830b54c506",
        "colab": {
          "base_uri": "https://localhost:8080/",
          "height": 467
        }
      },
      "source": [
        "conf_lr = plot_confusion_matrix(cm_lr,\n",
        "                          target_names,\n",
        "                          title='Confusion matrix for Logistic Regression',\n",
        "                          cmap=None,\n",
        "                          normalize=True)"
      ],
      "execution_count": 294,
      "outputs": [
        {
          "output_type": "display_data",
          "data": {
            "image/png": "[encoded data removed]",
            "text/plain": [
              "<Figure size 576x432 with 2 Axes>"
            ]
          },
          "metadata": {
            "tags": []
          }
        }
      ]
    },
    {
      "cell_type": "code",
      "metadata": {
        "id": "kcuAsmZyR9Xz",
        "colab_type": "code",
        "outputId": "d181ae50-8191-4f11-f676-be1fa89f92a7",
        "colab": {
          "base_uri": "https://localhost:8080/",
          "height": 377
        }
      },
      "source": [
        "# Applying k-Fold Cross Validation\n",
        "from sklearn.model_selection import cross_val_score\n",
        "accuracies_lr = cross_val_score(estimator = classifier_lr, X = X_train, y = y_train, cv = 10)"
      ],
      "execution_count": 295,
      "outputs": [
        {
          "output_type": "stream",
          "text": [
            "/usr/local/lib/python3.6/dist-packages/sklearn/linear_model/logistic.py:947: ConvergenceWarning: lbfgs failed to converge. Increase the number of iterations.\n",
            "  \"of iterations.\", ConvergenceWarning)\n",
            "/usr/local/lib/python3.6/dist-packages/sklearn/linear_model/logistic.py:947: ConvergenceWarning: lbfgs failed to converge. Increase the number of iterations.\n",
            "  \"of iterations.\", ConvergenceWarning)\n",
            "/usr/local/lib/python3.6/dist-packages/sklearn/linear_model/logistic.py:947: ConvergenceWarning: lbfgs failed to converge. Increase the number of iterations.\n",
            "  \"of iterations.\", ConvergenceWarning)\n",
            "/usr/local/lib/python3.6/dist-packages/sklearn/linear_model/logistic.py:947: ConvergenceWarning: lbfgs failed to converge. Increase the number of iterations.\n",
            "  \"of iterations.\", ConvergenceWarning)\n",
            "/usr/local/lib/python3.6/dist-packages/sklearn/linear_model/logistic.py:947: ConvergenceWarning: lbfgs failed to converge. Increase the number of iterations.\n",
            "  \"of iterations.\", ConvergenceWarning)\n",
            "/usr/local/lib/python3.6/dist-packages/sklearn/linear_model/logistic.py:947: ConvergenceWarning: lbfgs failed to converge. Increase the number of iterations.\n",
            "  \"of iterations.\", ConvergenceWarning)\n",
            "/usr/local/lib/python3.6/dist-packages/sklearn/linear_model/logistic.py:947: ConvergenceWarning: lbfgs failed to converge. Increase the number of iterations.\n",
            "  \"of iterations.\", ConvergenceWarning)\n",
            "/usr/local/lib/python3.6/dist-packages/sklearn/linear_model/logistic.py:947: ConvergenceWarning: lbfgs failed to converge. Increase the number of iterations.\n",
            "  \"of iterations.\", ConvergenceWarning)\n",
            "/usr/local/lib/python3.6/dist-packages/sklearn/linear_model/logistic.py:947: ConvergenceWarning: lbfgs failed to converge. Increase the number of iterations.\n",
            "  \"of iterations.\", ConvergenceWarning)\n",
            "/usr/local/lib/python3.6/dist-packages/sklearn/linear_model/logistic.py:947: ConvergenceWarning: lbfgs failed to converge. Increase the number of iterations.\n",
            "  \"of iterations.\", ConvergenceWarning)\n"
          ],
          "name": "stderr"
        }
      ]
    },
    {
      "cell_type": "code",
      "metadata": {
        "id": "V4LYBHzWSFGP",
        "colab_type": "code",
        "outputId": "74f6af2d-38d1-4d43-85ec-ee38992c3dee",
        "colab": {
          "base_uri": "https://localhost:8080/",
          "height": 34
        }
      },
      "source": [
        "print('Mean Absolute Error for Logistic Regression %2f' %(-1 * accuracies_lr.mean()))"
      ],
      "execution_count": 296,
      "outputs": [
        {
          "output_type": "stream",
          "text": [
            "Mean Absolute Error for Logistic Regression -0.239978\n"
          ],
          "name": "stdout"
        }
      ]
    },
    {
      "cell_type": "markdown",
      "metadata": {
        "id": "xtIJnkMO5p2j",
        "colab_type": "text"
      },
      "source": [
        "**Decision Tree**"
      ]
    },
    {
      "cell_type": "code",
      "metadata": {
        "id": "kM-YH_1l-u8d",
        "colab_type": "code",
        "colab": {}
      },
      "source": [
        "# Fitting Decision Tree Classification to the Training set\n",
        "from sklearn.tree import DecisionTreeClassifier\n",
        "classifier_dt = DecisionTreeClassifier()\n",
        "classifier_dt.fit(X_train, y_train)\n",
        "\n",
        "# Predicting the Test set results\n",
        "y_pred_dt = classifier_dt.predict(X_test)"
      ],
      "execution_count": 0,
      "outputs": []
    },
    {
      "cell_type": "code",
      "metadata": {
        "id": "Fj8h9rz0ULFk",
        "colab_type": "code",
        "colab": {}
      },
      "source": [
        "y_pred_dt = labelencoder_label.inverse_transform(y_pred_dt)"
      ],
      "execution_count": 0,
      "outputs": []
    },
    {
      "cell_type": "code",
      "metadata": {
        "id": "OxN02iw0ULCl",
        "colab_type": "code",
        "colab": {}
      },
      "source": [
        "y_test_dt = y_test"
      ],
      "execution_count": 0,
      "outputs": []
    },
    {
      "cell_type": "code",
      "metadata": {
        "id": "KusmFr88Vv_Q",
        "colab_type": "code",
        "colab": {}
      },
      "source": [
        "y_test_dt = labelencoder_label.inverse_transform(y_test_dt)"
      ],
      "execution_count": 0,
      "outputs": []
    },
    {
      "cell_type": "code",
      "metadata": {
        "id": "UUl9WDDX6esn",
        "colab_type": "code",
        "outputId": "acfee275-49f1-47f6-af6b-e18fbd248798",
        "colab": {
          "base_uri": "https://localhost:8080/",
          "height": 476
        }
      },
      "source": [
        "print('Accuracy:', accuracy_score(y_test_dt, y_pred_dt))\n",
        "print('F1 score:', f1_score(y_test_dt, y_pred_dt,average='weighted'))\n",
        "print('Recall:', recall_score(y_test_dt, y_pred_dt,\n",
        "                              average='weighted'))\n",
        "print('Precision:', precision_score(y_test_dt, y_pred_dt,\n",
        "                                    average='weighted'))\n",
        "print('\\n clasification report:\\n', classification_report(y_test_dt, y_pred_dt))\n",
        "print('\\n confussion matrix:\\n',confusion_matrix(y_test_dt, y_pred_dt))"
      ],
      "execution_count": 301,
      "outputs": [
        {
          "output_type": "stream",
          "text": [
            "Accuracy: 0.39014855355746675\n",
            "F1 score: 0.3886316060969803\n",
            "Recall: 0.39014855355746675\n",
            "Precision: 0.3969692113132449\n",
            "\n",
            " clasification report:\n",
            "               precision    recall  f1-score   support\n",
            "\n",
            " barely-true       0.44      0.32      0.37       423\n",
            "       false       0.42      0.39      0.40       506\n",
            "   half-true       0.44      0.42      0.43       528\n",
            " mostly-true       0.34      0.50      0.40       482\n",
            "  pants-fire       0.45      0.41      0.43       197\n",
            "        true       0.33      0.29      0.31       422\n",
            "\n",
            "    accuracy                           0.39      2558\n",
            "   macro avg       0.40      0.39      0.39      2558\n",
            "weighted avg       0.40      0.39      0.39      2558\n",
            "\n",
            "\n",
            " confussion matrix:\n",
            " [[137  62  72  91  17  44]\n",
            " [ 37 197  58 117  35  62]\n",
            " [ 45  65 220 119  24  55]\n",
            " [ 37  56  70 242   8  69]\n",
            " [ 21  31  23  26  81  15]\n",
            " [ 37  61  62 125  16 121]]\n"
          ],
          "name": "stdout"
        }
      ]
    },
    {
      "cell_type": "code",
      "metadata": {
        "id": "2JK3vO0HVISg",
        "colab_type": "code",
        "colab": {}
      },
      "source": [
        "# Making the Confusion Matrix\n",
        "from sklearn.metrics import confusion_matrix\n",
        "cm_dt = confusion_matrix(y_test_dt, y_pred_dt)"
      ],
      "execution_count": 0,
      "outputs": []
    },
    {
      "cell_type": "code",
      "metadata": {
        "id": "HAmsu_JJVIsG",
        "colab_type": "code",
        "outputId": "3106d2a2-e86b-4aab-9385-696c26f1e9dc",
        "colab": {
          "base_uri": "https://localhost:8080/",
          "height": 467
        }
      },
      "source": [
        "conf_dt = plot_confusion_matrix(cm_dt,\n",
        "                          target_names,\n",
        "                          title='Confusion matrix for Decision Matrix',\n",
        "                          cmap=None,\n",
        "                          normalize=True)"
      ],
      "execution_count": 303,
      "outputs": [
        {
          "output_type": "display_data",
          "data": {
            "image/png": "[encoded data removed]",
            "text/plain": [
              "<Figure size 576x432 with 2 Axes>"
            ]
          },
          "metadata": {
            "tags": []
          }
        }
      ]
    },
    {
      "cell_type": "code",
      "metadata": {
        "id": "5Yy3OOzA6tIZ",
        "colab_type": "code",
        "colab": {}
      },
      "source": [
        "# Applying k-Fold Cross Validation\n",
        "from sklearn.model_selection import cross_val_score\n",
        "accuracies_dt = cross_val_score(estimator = classifier_dt, X = X_train, y = y_train, cv = 10)"
      ],
      "execution_count": 0,
      "outputs": []
    },
    {
      "cell_type": "code",
      "metadata": {
        "id": "o8ZIXYSY7h8C",
        "colab_type": "code",
        "outputId": "05a1a62f-2645-4772-a0c2-82a7b05df2f9",
        "colab": {
          "base_uri": "https://localhost:8080/",
          "height": 34
        }
      },
      "source": [
        "print('Mean Absolute Error for Logistic Regression %2f' %(-1 * accuracies_dt.mean()))"
      ],
      "execution_count": 305,
      "outputs": [
        {
          "output_type": "stream",
          "text": [
            "Mean Absolute Error for Logistic Regression -0.386615\n"
          ],
          "name": "stdout"
        }
      ]
    },
    {
      "cell_type": "markdown",
      "metadata": {
        "id": "LP5sRJXUXM9K",
        "colab_type": "text"
      },
      "source": [
        "**SVC**"
      ]
    },
    {
      "cell_type": "code",
      "metadata": {
        "id": "bAaKgRKWDxb8",
        "colab_type": "code",
        "colab": {
          "base_uri": "https://localhost:8080/",
          "height": 361
        },
        "outputId": "c0b778f7-fefd-4418-a3f2-357387498471"
      },
      "source": [
        "# Fitting Kernel SVM to the Training set\n",
        "from sklearn.svm import LinearSVC\n",
        "classifier_svc = LinearSVC()\n",
        "classifier_svc.fit(X_train, y_train)"
      ],
      "execution_count": 307,
      "outputs": [
        {
          "output_type": "error",
          "ename": "KeyboardInterrupt",
          "evalue": "ignored",
          "traceback": [
            "\u001b[0;31m---------------------------------------------------------------------------\u001b[0m",
            "\u001b[0;31mKeyboardInterrupt\u001b[0m                         Traceback (most recent call last)",
            "\u001b[0;32m<ipython-input-307-83fcda61aeb3>\u001b[0m in \u001b[0;36m<module>\u001b[0;34m()\u001b[0m\n\u001b[1;32m      1\u001b[0m \u001b[0;32mfrom\u001b[0m \u001b[0msklearn\u001b[0m\u001b[0;34m.\u001b[0m\u001b[0msvm\u001b[0m \u001b[0;32mimport\u001b[0m \u001b[0mLinearSVC\u001b[0m\u001b[0;34m\u001b[0m\u001b[0;34m\u001b[0m\u001b[0m\n\u001b[1;32m      2\u001b[0m \u001b[0mclassifier_svc\u001b[0m \u001b[0;34m=\u001b[0m \u001b[0mLinearSVC\u001b[0m\u001b[0;34m(\u001b[0m\u001b[0;34m)\u001b[0m\u001b[0;34m\u001b[0m\u001b[0;34m\u001b[0m\u001b[0m\n\u001b[0;32m----> 3\u001b[0;31m \u001b[0mclassifier_svc\u001b[0m\u001b[0;34m.\u001b[0m\u001b[0mfit\u001b[0m\u001b[0;34m(\u001b[0m\u001b[0mX_train\u001b[0m\u001b[0;34m,\u001b[0m \u001b[0my_train\u001b[0m\u001b[0;34m)\u001b[0m\u001b[0;34m\u001b[0m\u001b[0;34m\u001b[0m\u001b[0m\n\u001b[0m",
            "\u001b[0;32m/usr/local/lib/python3.6/dist-packages/sklearn/svm/classes.py\u001b[0m in \u001b[0;36mfit\u001b[0;34m(self, X, y, sample_weight)\u001b[0m\n\u001b[1;32m    235\u001b[0m             \u001b[0mself\u001b[0m\u001b[0;34m.\u001b[0m\u001b[0mclass_weight\u001b[0m\u001b[0;34m,\u001b[0m \u001b[0mself\u001b[0m\u001b[0;34m.\u001b[0m\u001b[0mpenalty\u001b[0m\u001b[0;34m,\u001b[0m \u001b[0mself\u001b[0m\u001b[0;34m.\u001b[0m\u001b[0mdual\u001b[0m\u001b[0;34m,\u001b[0m \u001b[0mself\u001b[0m\u001b[0;34m.\u001b[0m\u001b[0mverbose\u001b[0m\u001b[0;34m,\u001b[0m\u001b[0;34m\u001b[0m\u001b[0;34m\u001b[0m\u001b[0m\n\u001b[1;32m    236\u001b[0m             \u001b[0mself\u001b[0m\u001b[0;34m.\u001b[0m\u001b[0mmax_iter\u001b[0m\u001b[0;34m,\u001b[0m \u001b[0mself\u001b[0m\u001b[0;34m.\u001b[0m\u001b[0mtol\u001b[0m\u001b[0;34m,\u001b[0m \u001b[0mself\u001b[0m\u001b[0;34m.\u001b[0m\u001b[0mrandom_state\u001b[0m\u001b[0;34m,\u001b[0m \u001b[0mself\u001b[0m\u001b[0;34m.\u001b[0m\u001b[0mmulti_class\u001b[0m\u001b[0;34m,\u001b[0m\u001b[0;34m\u001b[0m\u001b[0;34m\u001b[0m\u001b[0m\n\u001b[0;32m--> 237\u001b[0;31m             self.loss, sample_weight=sample_weight)\n\u001b[0m\u001b[1;32m    238\u001b[0m \u001b[0;34m\u001b[0m\u001b[0m\n\u001b[1;32m    239\u001b[0m         \u001b[0;32mif\u001b[0m \u001b[0mself\u001b[0m\u001b[0;34m.\u001b[0m\u001b[0mmulti_class\u001b[0m \u001b[0;34m==\u001b[0m \u001b[0;34m\"crammer_singer\"\u001b[0m \u001b[0;32mand\u001b[0m \u001b[0mlen\u001b[0m\u001b[0;34m(\u001b[0m\u001b[0mself\u001b[0m\u001b[0;34m.\u001b[0m\u001b[0mclasses_\u001b[0m\u001b[0;34m)\u001b[0m \u001b[0;34m==\u001b[0m \u001b[0;36m2\u001b[0m\u001b[0;34m:\u001b[0m\u001b[0;34m\u001b[0m\u001b[0;34m\u001b[0m\u001b[0m\n",
            "\u001b[0;32m/usr/local/lib/python3.6/dist-packages/sklearn/svm/base.py\u001b[0m in \u001b[0;36m_fit_liblinear\u001b[0;34m(X, y, C, fit_intercept, intercept_scaling, class_weight, penalty, dual, verbose, max_iter, tol, random_state, multi_class, loss, epsilon, sample_weight)\u001b[0m\n\u001b[1;32m    919\u001b[0m         \u001b[0mX\u001b[0m\u001b[0;34m,\u001b[0m \u001b[0my_ind\u001b[0m\u001b[0;34m,\u001b[0m \u001b[0msp\u001b[0m\u001b[0;34m.\u001b[0m\u001b[0misspmatrix\u001b[0m\u001b[0;34m(\u001b[0m\u001b[0mX\u001b[0m\u001b[0;34m)\u001b[0m\u001b[0;34m,\u001b[0m \u001b[0msolver_type\u001b[0m\u001b[0;34m,\u001b[0m \u001b[0mtol\u001b[0m\u001b[0;34m,\u001b[0m \u001b[0mbias\u001b[0m\u001b[0;34m,\u001b[0m \u001b[0mC\u001b[0m\u001b[0;34m,\u001b[0m\u001b[0;34m\u001b[0m\u001b[0;34m\u001b[0m\u001b[0m\n\u001b[1;32m    920\u001b[0m         \u001b[0mclass_weight_\u001b[0m\u001b[0;34m,\u001b[0m \u001b[0mmax_iter\u001b[0m\u001b[0;34m,\u001b[0m \u001b[0mrnd\u001b[0m\u001b[0;34m.\u001b[0m\u001b[0mrandint\u001b[0m\u001b[0;34m(\u001b[0m\u001b[0mnp\u001b[0m\u001b[0;34m.\u001b[0m\u001b[0miinfo\u001b[0m\u001b[0;34m(\u001b[0m\u001b[0;34m'i'\u001b[0m\u001b[0;34m)\u001b[0m\u001b[0;34m.\u001b[0m\u001b[0mmax\u001b[0m\u001b[0;34m)\u001b[0m\u001b[0;34m,\u001b[0m\u001b[0;34m\u001b[0m\u001b[0;34m\u001b[0m\u001b[0m\n\u001b[0;32m--> 921\u001b[0;31m         epsilon, sample_weight)\n\u001b[0m\u001b[1;32m    922\u001b[0m     \u001b[0;31m# Regarding rnd.randint(..) in the above signature:\u001b[0m\u001b[0;34m\u001b[0m\u001b[0;34m\u001b[0m\u001b[0;34m\u001b[0m\u001b[0m\n\u001b[1;32m    923\u001b[0m     \u001b[0;31m# seed for srand in range [0..INT_MAX); due to limitations in Numpy\u001b[0m\u001b[0;34m\u001b[0m\u001b[0;34m\u001b[0m\u001b[0;34m\u001b[0m\u001b[0m\n",
            "\u001b[0;31mKeyboardInterrupt\u001b[0m: "
          ]
        }
      ]
    },
    {
      "cell_type": "code",
      "metadata": {
        "id": "QO-288jj7K3h",
        "colab_type": "code",
        "colab": {}
      },
      "source": [
        "# Predicting the Test set results\n",
        "y_pred_svc = classifier_svc.predict(X_test)"
      ],
      "execution_count": 0,
      "outputs": []
    },
    {
      "cell_type": "code",
      "metadata": {
        "id": "InUH6eQh7otU",
        "colab_type": "code",
        "colab": {}
      },
      "source": [
        "y_pred_svc = labelencoder_label.inverse_transform(y_pred_svc)"
      ],
      "execution_count": 0,
      "outputs": []
    },
    {
      "cell_type": "code",
      "metadata": {
        "id": "Bi__WNfj7opr",
        "colab_type": "code",
        "colab": {}
      },
      "source": [
        "y_test_svc = y_test"
      ],
      "execution_count": 0,
      "outputs": []
    },
    {
      "cell_type": "code",
      "metadata": {
        "id": "1hTrBC5E7om6",
        "colab_type": "code",
        "colab": {}
      },
      "source": [
        "y_test_svc = labelencoder_label.inverse_transform(y_test_svc)"
      ],
      "execution_count": 0,
      "outputs": []
    },
    {
      "cell_type": "code",
      "metadata": {
        "id": "Knfow3Is7okN",
        "colab_type": "code",
        "colab": {}
      },
      "source": [
        "print('Accuracy:', accuracy_score(y_test_svc, y_pred_svc))\n",
        "print('F1 score:', f1_score(y_test_svc, y_pred_svc,average='weighted'))\n",
        "print('Recall:', recall_score(y_test_svc, y_pred_svc,\n",
        "                              average='weighted'))\n",
        "print('Precision:', precision_score(y_test_svc, y_pred_svc,\n",
        "                                    average='weighted'))\n",
        "print('\\n clasification report:\\n', classification_report(y_test_svc, y_pred_svc))\n",
        "print('\\n confussion matrix:\\n',confusion_matrix(y_test_svc, y_pred_svc))"
      ],
      "execution_count": 0,
      "outputs": []
    },
    {
      "cell_type": "code",
      "metadata": {
        "id": "NAICtRIF7ohe",
        "colab_type": "code",
        "colab": {}
      },
      "source": [
        "# Applying k-Fold Cross Validation\n",
        "from sklearn.model_selection import cross_val_score\n",
        "accuracies_svc = cross_val_score(estimator = classifier_svc, X = X_train, y = y_train, cv = 10)"
      ],
      "execution_count": 0,
      "outputs": []
    },
    {
      "cell_type": "code",
      "metadata": {
        "id": "n4cCA_3fGNfo",
        "colab_type": "code",
        "colab": {}
      },
      "source": [
        "print('Mean Absolute Error for Logistic Regression %2f' %(accuracies_svc.mean()))"
      ],
      "execution_count": 0,
      "outputs": []
    },
    {
      "cell_type": "markdown",
      "metadata": {
        "id": "F_1ehrexEa3a",
        "colab_type": "text"
      },
      "source": [
        "**KNN**"
      ]
    },
    {
      "cell_type": "code",
      "metadata": {
        "id": "2yYBFkfDEfw4",
        "colab_type": "code",
        "colab": {
          "base_uri": "https://localhost:8080/",
          "height": 68
        },
        "outputId": "2aad621b-e94f-4406-8a13-e68744bb99d1"
      },
      "source": [
        "# Fitting K-NN to the Training set\n",
        "from sklearn.neighbors import KNeighborsClassifier\n",
        "classifier_knn = KNeighborsClassifier(n_neighbors = 60)\n",
        "classifier_knn.fit(X_train, y_train)"
      ],
      "execution_count": 321,
      "outputs": [
        {
          "output_type": "execute_result",
          "data": {
            "text/plain": [
              "KNeighborsClassifier(algorithm='auto', leaf_size=30, metric='minkowski',\n",
              "                     metric_params=None, n_jobs=None, n_neighbors=60, p=2,\n",
              "                     weights='uniform')"
            ]
          },
          "metadata": {
            "tags": []
          },
          "execution_count": 321
        }
      ]
    },
    {
      "cell_type": "code",
      "metadata": {
        "id": "CBzv8BabEwv6",
        "colab_type": "code",
        "colab": {}
      },
      "source": [
        "# Predicting the Test set results\n",
        "y_pred_knn = classifier_knn.predict(X_test)"
      ],
      "execution_count": 0,
      "outputs": []
    },
    {
      "cell_type": "code",
      "metadata": {
        "id": "yaDzw8wCFjxJ",
        "colab_type": "code",
        "colab": {}
      },
      "source": [
        "y_pred_knn = labelencoder_label.inverse_transform(y_pred_knn)"
      ],
      "execution_count": 0,
      "outputs": []
    },
    {
      "cell_type": "code",
      "metadata": {
        "id": "c6GWxZ4gFjuS",
        "colab_type": "code",
        "colab": {}
      },
      "source": [
        "y_test_knn = y_test"
      ],
      "execution_count": 0,
      "outputs": []
    },
    {
      "cell_type": "code",
      "metadata": {
        "id": "ru8PRrQfFjrP",
        "colab_type": "code",
        "colab": {}
      },
      "source": [
        "y_test_knn = labelencoder_label.inverse_transform(y_test_knn)"
      ],
      "execution_count": 0,
      "outputs": []
    },
    {
      "cell_type": "code",
      "metadata": {
        "id": "jj7X2f-eFjoI",
        "colab_type": "code",
        "colab": {
          "base_uri": "https://localhost:8080/",
          "height": 598
        },
        "outputId": "02312c7c-5ac2-406e-a2b0-f808a0e6e82d"
      },
      "source": [
        "print('Accuracy:', accuracy_score(y_test_knn, y_pred_knn))\n",
        "print('F1 score:', f1_score(y_test_knn, y_pred_knn,average='weighted'))\n",
        "print('Recall:', recall_score(y_test_knn, y_pred_knn,\n",
        "                              average='weighted'))\n",
        "print('Precision:', precision_score(y_test_knn, y_pred_knn,\n",
        "                                    average='weighted'))\n",
        "print('\\n clasification report:\\n', classification_report(y_test_knn, y_pred_knn))\n",
        "print('\\n confussion matrix:\\n',confusion_matrix(y_test_knn, y_pred_knn))"
      ],
      "execution_count": 326,
      "outputs": [
        {
          "output_type": "stream",
          "text": [
            "Accuracy: 0.20054730258014072\n",
            "F1 score: 0.17897067066603947\n",
            "Recall: 0.20054730258014072\n",
            "Precision: 0.18404377468192243\n",
            "\n",
            " clasification report:\n",
            "               precision    recall  f1-score   support\n",
            "\n",
            " barely-true       0.16      0.18      0.17       423\n",
            "       false       0.22      0.15      0.17       506\n",
            "   half-true       0.23      0.25      0.24       528\n",
            " mostly-true       0.20      0.42      0.27       482\n",
            "  pants-fire       0.00      0.00      0.00       197\n",
            "        true       0.18      0.06      0.09       422\n",
            "\n",
            "    accuracy                           0.20      2558\n",
            "   macro avg       0.16      0.18      0.16      2558\n",
            "weighted avg       0.18      0.20      0.18      2558\n",
            "\n",
            "\n",
            " confussion matrix:\n",
            " [[ 75  68  85 167   0  28]\n",
            " [ 92  74 123 183   0  34]\n",
            " [ 97  71 134 200   0  26]\n",
            " [ 99  63 100 203   0  17]\n",
            " [ 33  15  40  89   0  20]\n",
            " [ 77  53  90 175   0  27]]\n"
          ],
          "name": "stdout"
        },
        {
          "output_type": "stream",
          "text": [
            "/usr/local/lib/python3.6/dist-packages/sklearn/metrics/classification.py:1437: UndefinedMetricWarning: F-score is ill-defined and being set to 0.0 in labels with no predicted samples.\n",
            "  'precision', 'predicted', average, warn_for)\n",
            "/usr/local/lib/python3.6/dist-packages/sklearn/metrics/classification.py:1437: UndefinedMetricWarning: Precision is ill-defined and being set to 0.0 in labels with no predicted samples.\n",
            "  'precision', 'predicted', average, warn_for)\n",
            "/usr/local/lib/python3.6/dist-packages/sklearn/metrics/classification.py:1437: UndefinedMetricWarning: Precision and F-score are ill-defined and being set to 0.0 in labels with no predicted samples.\n",
            "  'precision', 'predicted', average, warn_for)\n"
          ],
          "name": "stderr"
        }
      ]
    },
    {
      "cell_type": "code",
      "metadata": {
        "id": "q21S5SYUFjk8",
        "colab_type": "code",
        "colab": {}
      },
      "source": [
        "# Applying k-Fold Cross Validation\n",
        "from sklearn.model_selection import cross_val_score\n",
        "accuracies_knn = cross_val_score(estimator = classifier_knn, X = X_train, y = y_train, cv = 10)"
      ],
      "execution_count": 0,
      "outputs": []
    },
    {
      "cell_type": "code",
      "metadata": {
        "id": "G8Sg99H9GV3W",
        "colab_type": "code",
        "colab": {
          "base_uri": "https://localhost:8080/",
          "height": 34
        },
        "outputId": "4a201b44-4ab7-4482-dcee-c0e63ad9a0c5"
      },
      "source": [
        "print('Mean Absolute Error for Logistic Regression %2f' %(accuracies_knn.mean()))"
      ],
      "execution_count": 328,
      "outputs": [
        {
          "output_type": "stream",
          "text": [
            "Mean Absolute Error for Logistic Regression 0.210361\n"
          ],
          "name": "stdout"
        }
      ]
    },
    {
      "cell_type": "code",
      "metadata": {
        "id": "Gu0l3Q3OGrmR",
        "colab_type": "code",
        "colab": {}
      },
      "source": [
        ""
      ],
      "execution_count": 0,
      "outputs": []
    }
  ]
}