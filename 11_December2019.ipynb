{
  "nbformat": 4,
  "nbformat_minor": 0,
  "metadata": {
    "kernelspec": {
      "display_name": "Python 3",
      "language": "python",
      "name": "python3"
    },
    "language_info": {
      "codemirror_mode": {
        "name": "ipython",
        "version": 3
      },
      "file_extension": ".py",
      "mimetype": "text/x-python",
      "name": "python",
      "nbconvert_exporter": "python",
      "pygments_lexer": "ipython3",
      "version": "3.7.3"
    },
    "colab": {
      "name": "11_December2019.ipynb",
      "provenance": [],
      "collapsed_sections": [],
      "toc_visible": true,
      "include_colab_link": true
    }
  },
  "cells": [
    {
      "cell_type": "markdown",
      "metadata": {
        "id": "view-in-github",
        "colab_type": "text"
      },
      "source": [
        "<a href=\"https://colab.research.google.com/github/ssunwalka01/LIAR-LIAR-Dataset-FAKE_NEWS_Classification/blob/master/11_December2019.ipynb\" target=\"_parent\"><img src=\"https://colab.research.google.com/assets/colab-badge.svg\" alt=\"Open In Colab\"/></a>"
      ]
    },
    {
      "cell_type": "markdown",
      "metadata": {
        "id": "xNqu5CgBcwcQ",
        "colab_type": "text"
      },
      "source": [
        "# LIAR LIAR Dataset Clasification (Fake-News Analysis)"
      ]
    },
    {
      "cell_type": "markdown",
      "metadata": {
        "id": "xVoeeiBxcwcT",
        "colab_type": "text"
      },
      "source": [
        "Let’s look at the steps that we will follow in this course.\n",
        "\n",
        "- Problem Statement\n",
        "- Hypothesis Generation\n",
        "- Getting the system ready and loading the data\n",
        "- Understanding the data\n",
        "- Exploratory Data Analysis (EDA)\n",
        "-    Univariate Analysis\n",
        "-    Bivariate Analysis\n",
        "- Missing value and outlier treatment\n",
        "- Model Building :\n",
        "-   Naive Bayes\n",
        "-   Logistic Regression\n",
        "-   Decision tree\n",
        "- Cross Validations for every Model\n",
        "\n",
        "Lets look at each section in detail."
      ]
    },
    {
      "cell_type": "markdown",
      "metadata": {
        "id": "yUzHWYLucwcU",
        "colab_type": "text"
      },
      "source": [
        "It is a classification problem where we have to predict whether a News Statement would be classified as Fake or Not. In a classification problem, we have to predict discrete values based on a given set of independent variable(s). Classification can be of two types:\n",
        "\n",
        "- Binary Classification : In this classification we have to predict either of the two given classes. For example: classifying the gender as male or female, predicting the result as win or loss, etc.\n",
        "- Multiclass Classification : Here we have to classify the data into three or more classes. For example: classifying a movie's genre as comedy, action or romantic, classify fruits as oranges, apples, or pears, etc."
      ]
    },
    {
      "cell_type": "code",
      "metadata": {
        "id": "pER5hD54cwcV",
        "colab_type": "code",
        "colab": {}
      },
      "source": [
        "# importing packages\n",
        "import pandas as pd \n",
        "import numpy as np                     # For mathematical calculations \n",
        "import seaborn as sns                  # For data visualization \n",
        "import matplotlib.pyplot as plt        # For plotting graphs \n",
        "%matplotlib inline \n",
        "import warnings                        # To ignore any warnings warnings.filterwarnings(\"ignore\")"
      ],
      "execution_count": 0,
      "outputs": []
    },
    {
      "cell_type": "code",
      "metadata": {
        "id": "afKCp1_pcwcY",
        "colab_type": "code",
        "colab": {}
      },
      "source": [
        "##################\n",
        "import seaborn as sns\n",
        "from sklearn.preprocessing import MinMaxScaler\n",
        "#from sklearn.cross_validation import data_test_split\n",
        "from sklearn.model_selection import train_test_split\n",
        "\n",
        "from sklearn.neighbors import KNeighborsClassifier\n",
        "from sklearn.metrics import f1_score\n",
        "from sklearn.feature_extraction.text import TfidfVectorizer, CountVectorizer\n",
        "from nltk.stem.porter import PorterStemmer\n",
        "\n",
        "import pandas as pd\n",
        "import numpy as np\n",
        "import matplotlib.pyplot as plt\n",
        "from sklearn.model_selection import cross_val_score\n",
        "import nltk\n",
        "import re\n",
        "import codecs\n",
        "import seaborn as sns\n",
        "from sklearn.preprocessing import LabelEncoder, OneHotEncoder\n",
        "#from sklearn.cross_validation import train_test_split\n",
        "from sklearn.neighbors import KNeighborsClassifier\n",
        "from sklearn.metrics import f1_score"
      ],
      "execution_count": 0,
      "outputs": []
    },
    {
      "cell_type": "markdown",
      "metadata": {
        "id": "DbLFVd_tcwcb",
        "colab_type": "text"
      },
      "source": [
        "# Data"
      ]
    },
    {
      "cell_type": "markdown",
      "metadata": {
        "id": "xsG9kz5Kcwcc",
        "colab_type": "text"
      },
      "source": [
        "For this practice problem, we have been given three CSV files: data, data and sample submission.\n",
        "\n",
        "- Train file will be used for dataing the model, i.e. our model will learn from this file. It contains all the independent variables and the target variable.\n",
        "- Test file contains all the independent variables, but not the target variable. We will apply the model to predict the target variable for the data data.\n",
        "- Sample submission file contains the format in which we have to submit our predictions."
      ]
    },
    {
      "cell_type": "markdown",
      "metadata": {
        "id": "7kpjZ0Gkcwcd",
        "colab_type": "text"
      },
      "source": [
        "- Let's start with loading the data\n",
        "PS: The data was in 'tsv' format which is then converted into 'csv' format later for analysing purpose.\n",
        "The Dataset available for the research purpose containg data,test and validation sets."
      ]
    },
    {
      "cell_type": "code",
      "metadata": {
        "id": "UXBXqNCGcwce",
        "colab_type": "code",
        "colab": {}
      },
      "source": [
        "# converting data, data, and valid datasets into csv format\n",
        "#data\n",
        "tsv_file='/content/train.tsv'\n",
        "csv_table=pd.read_table(tsv_file,sep='\\t')\n",
        "csv_table.to_csv('train_converted.csv',index=False)"
      ],
      "execution_count": 0,
      "outputs": []
    },
    {
      "cell_type": "code",
      "metadata": {
        "id": "pdYpc8TNcwch",
        "colab_type": "code",
        "colab": {}
      },
      "source": [
        "#test\n",
        "tsv_file1='/content/test.tsv'\n",
        "csv_table1=pd.read_table(tsv_file1,sep='\\t')\n",
        "csv_table1.to_csv('test_converted.csv',index=False)"
      ],
      "execution_count": 0,
      "outputs": []
    },
    {
      "cell_type": "code",
      "metadata": {
        "id": "KjWJLg8Ccwck",
        "colab_type": "code",
        "colab": {}
      },
      "source": [
        "#valid\n",
        "tsv_file2='/content/valid.tsv'\n",
        "csv_table2=pd.read_table(tsv_file2,sep='\\t')\n",
        "csv_table2.to_csv('valid_converted.csv',index=False)"
      ],
      "execution_count": 0,
      "outputs": []
    },
    {
      "cell_type": "markdown",
      "metadata": {
        "id": "ezS1HmZ5cwcn",
        "colab_type": "text"
      },
      "source": [
        "# Reading Data"
      ]
    },
    {
      "cell_type": "code",
      "metadata": {
        "id": "TB25_0ANcwcn",
        "colab_type": "code",
        "colab": {}
      },
      "source": [
        "train=pd.read_csv('/content/train_converted.csv')\n",
        "test=pd.read_csv('/content/test_converted.csv')\n",
        "valid=pd.read_csv('/content/valid_converted.csv')"
      ],
      "execution_count": 0,
      "outputs": []
    },
    {
      "cell_type": "code",
      "metadata": {
        "id": "CmpdqWaNcwcq",
        "colab_type": "code",
        "outputId": "9f84bb64-5366-4bcd-e45b-2a452df18fd0",
        "colab": {
          "base_uri": "https://localhost:8080/",
          "height": 102
        }
      },
      "source": [
        "train.columns"
      ],
      "execution_count": 244,
      "outputs": [
        {
          "output_type": "execute_result",
          "data": {
            "text/plain": [
              "Index(['2635.json', 'false',\n",
              "       'Says the Annies List political group supports third-trimester abortions on demand.',\n",
              "       'abortion', 'dwayne-bohac', 'State representative', 'Texas',\n",
              "       'republican', '0', '1', '0.1', '0.2', '0.3', 'a mailer'],\n",
              "      dtype='object')"
            ]
          },
          "metadata": {
            "tags": []
          },
          "execution_count": 244
        }
      ]
    },
    {
      "cell_type": "code",
      "metadata": {
        "id": "GVY_G6v_cwcs",
        "colab_type": "code",
        "colab": {}
      },
      "source": [
        "# Naming columns\n",
        "train.columns=[\"ID\",\"Label\",\"Statement\",\"Subject(s)\",\"Speaker\",\"Speaker's job title\",\"state info\",\"party affiliation\",\"barely true counts\",\"false counts\",\"half true counts\",\"mostly true counts\",\"pants on fire counts\",\"the context (venue/location of speech or statement)\"]"
      ],
      "execution_count": 0,
      "outputs": []
    },
    {
      "cell_type": "code",
      "metadata": {
        "id": "QuJjmTxIcwcv",
        "colab_type": "code",
        "outputId": "ac2ed9f1-4927-4001-aa5a-1078c3031805",
        "colab": {
          "base_uri": "https://localhost:8080/",
          "height": 666
        }
      },
      "source": [
        "train.head()"
      ],
      "execution_count": 246,
      "outputs": [
        {
          "output_type": "execute_result",
          "data": {
            "text/html": [
              "<div>\n",
              "<style scoped>\n",
              "    .dataframe tbody tr th:only-of-type {\n",
              "        vertical-align: middle;\n",
              "    }\n",
              "\n",
              "    .dataframe tbody tr th {\n",
              "        vertical-align: top;\n",
              "    }\n",
              "\n",
              "    .dataframe thead th {\n",
              "        text-align: right;\n",
              "    }\n",
              "</style>\n",
              "<table border=\"1\" class=\"dataframe\">\n",
              "  <thead>\n",
              "    <tr style=\"text-align: right;\">\n",
              "      <th></th>\n",
              "      <th>ID</th>\n",
              "      <th>Label</th>\n",
              "      <th>Statement</th>\n",
              "      <th>Subject(s)</th>\n",
              "      <th>Speaker</th>\n",
              "      <th>Speaker's job title</th>\n",
              "      <th>state info</th>\n",
              "      <th>party affiliation</th>\n",
              "      <th>barely true counts</th>\n",
              "      <th>false counts</th>\n",
              "      <th>half true counts</th>\n",
              "      <th>mostly true counts</th>\n",
              "      <th>pants on fire counts</th>\n",
              "      <th>the context (venue/location of speech or statement)</th>\n",
              "    </tr>\n",
              "  </thead>\n",
              "  <tbody>\n",
              "    <tr>\n",
              "      <th>0</th>\n",
              "      <td>10540.json</td>\n",
              "      <td>half-true</td>\n",
              "      <td>When did the decline of coal start? It started...</td>\n",
              "      <td>energy,history,job-accomplishments</td>\n",
              "      <td>scott-surovell</td>\n",
              "      <td>State delegate</td>\n",
              "      <td>Virginia</td>\n",
              "      <td>democrat</td>\n",
              "      <td>0.0</td>\n",
              "      <td>0.0</td>\n",
              "      <td>1.0</td>\n",
              "      <td>1.0</td>\n",
              "      <td>0.0</td>\n",
              "      <td>a floor speech.</td>\n",
              "    </tr>\n",
              "    <tr>\n",
              "      <th>1</th>\n",
              "      <td>324.json</td>\n",
              "      <td>mostly-true</td>\n",
              "      <td>Hillary Clinton agrees with John McCain \"by vo...</td>\n",
              "      <td>foreign-policy</td>\n",
              "      <td>barack-obama</td>\n",
              "      <td>President</td>\n",
              "      <td>Illinois</td>\n",
              "      <td>democrat</td>\n",
              "      <td>70.0</td>\n",
              "      <td>71.0</td>\n",
              "      <td>160.0</td>\n",
              "      <td>163.0</td>\n",
              "      <td>9.0</td>\n",
              "      <td>Denver</td>\n",
              "    </tr>\n",
              "    <tr>\n",
              "      <th>2</th>\n",
              "      <td>1123.json</td>\n",
              "      <td>false</td>\n",
              "      <td>Health care reform legislation is likely to ma...</td>\n",
              "      <td>health-care</td>\n",
              "      <td>blog-posting</td>\n",
              "      <td>NaN</td>\n",
              "      <td>NaN</td>\n",
              "      <td>none</td>\n",
              "      <td>7.0</td>\n",
              "      <td>19.0</td>\n",
              "      <td>3.0</td>\n",
              "      <td>5.0</td>\n",
              "      <td>44.0</td>\n",
              "      <td>a news release</td>\n",
              "    </tr>\n",
              "    <tr>\n",
              "      <th>3</th>\n",
              "      <td>9028.json</td>\n",
              "      <td>half-true</td>\n",
              "      <td>The economic turnaround started at the end of ...</td>\n",
              "      <td>economy,jobs</td>\n",
              "      <td>charlie-crist</td>\n",
              "      <td>NaN</td>\n",
              "      <td>Florida</td>\n",
              "      <td>democrat</td>\n",
              "      <td>15.0</td>\n",
              "      <td>9.0</td>\n",
              "      <td>20.0</td>\n",
              "      <td>19.0</td>\n",
              "      <td>2.0</td>\n",
              "      <td>an interview on CNN</td>\n",
              "    </tr>\n",
              "    <tr>\n",
              "      <th>4</th>\n",
              "      <td>12465.json</td>\n",
              "      <td>true</td>\n",
              "      <td>The Chicago Bears have had more starting quart...</td>\n",
              "      <td>education</td>\n",
              "      <td>robin-vos</td>\n",
              "      <td>Wisconsin Assembly speaker</td>\n",
              "      <td>Wisconsin</td>\n",
              "      <td>republican</td>\n",
              "      <td>0.0</td>\n",
              "      <td>3.0</td>\n",
              "      <td>2.0</td>\n",
              "      <td>5.0</td>\n",
              "      <td>1.0</td>\n",
              "      <td>a an online opinion-piece</td>\n",
              "    </tr>\n",
              "  </tbody>\n",
              "</table>\n",
              "</div>"
            ],
            "text/plain": [
              "           ID  ... the context (venue/location of speech or statement)\n",
              "0  10540.json  ...                                    a floor speech. \n",
              "1    324.json  ...                                             Denver \n",
              "2   1123.json  ...                                     a news release \n",
              "3   9028.json  ...                                an interview on CNN \n",
              "4  12465.json  ...                          a an online opinion-piece \n",
              "\n",
              "[5 rows x 14 columns]"
            ]
          },
          "metadata": {
            "tags": []
          },
          "execution_count": 246
        }
      ]
    },
    {
      "cell_type": "code",
      "metadata": {
        "id": "j0F65RQBcwcy",
        "colab_type": "code",
        "outputId": "5bf93448-e659-4a36-89b2-71a1b1f0ba56",
        "colab": {
          "base_uri": "https://localhost:8080/",
          "height": 34
        }
      },
      "source": [
        "train.shape"
      ],
      "execution_count": 247,
      "outputs": [
        {
          "output_type": "execute_result",
          "data": {
            "text/plain": [
              "(10239, 14)"
            ]
          },
          "metadata": {
            "tags": []
          },
          "execution_count": 247
        }
      ]
    },
    {
      "cell_type": "code",
      "metadata": {
        "id": "8uTeAgnXcwc0",
        "colab_type": "code",
        "outputId": "81564b43-8737-43c9-d04d-e6fc03825aa1",
        "colab": {
          "base_uri": "https://localhost:8080/",
          "height": 34
        }
      },
      "source": [
        "test.shape"
      ],
      "execution_count": 248,
      "outputs": [
        {
          "output_type": "execute_result",
          "data": {
            "text/plain": [
              "(1266, 14)"
            ]
          },
          "metadata": {
            "tags": []
          },
          "execution_count": 248
        }
      ]
    },
    {
      "cell_type": "code",
      "metadata": {
        "id": "uNiSbwvrcwc2",
        "colab_type": "code",
        "outputId": "e3a63449-3601-487d-d88d-f68ef525c126",
        "colab": {
          "base_uri": "https://localhost:8080/",
          "height": 34
        }
      },
      "source": [
        "valid.shape"
      ],
      "execution_count": 249,
      "outputs": [
        {
          "output_type": "execute_result",
          "data": {
            "text/plain": [
              "(1283, 14)"
            ]
          },
          "metadata": {
            "tags": []
          },
          "execution_count": 249
        }
      ]
    },
    {
      "cell_type": "code",
      "metadata": {
        "id": "EpYxa2G4cwc5",
        "colab_type": "code",
        "colab": {}
      },
      "source": [
        "# Naming columns \n",
        "test.columns=[\"ID\",\"Label\",\"Statement\",\"Subject(s)\",\"Speaker\",\"Speaker's job title\",\"state info\",\"party affiliation\",\"barely true counts\",\"false counts\",\"half true counts\",\"mostly true counts\",\"pants on fire counts\",\"the context (venue/location of speech or statement)\"]"
      ],
      "execution_count": 0,
      "outputs": []
    },
    {
      "cell_type": "code",
      "metadata": {
        "id": "WBrFfnBFcwc7",
        "colab_type": "code",
        "colab": {}
      },
      "source": [
        "# Naming columns \n",
        "valid.columns=[\"ID\",\"Label\",\"Statement\",\"Subject(s)\",\"Speaker\",\"Speaker's job title\",\"state info\",\"party affiliation\",\"barely true counts\",\"false counts\",\"half true counts\",\"mostly true counts\",\"pants on fire counts\",\"the context (venue/location of speech or statement)\"]"
      ],
      "execution_count": 0,
      "outputs": []
    },
    {
      "cell_type": "markdown",
      "metadata": {
        "id": "GfPRQQp1cwc-",
        "colab_type": "text"
      },
      "source": [
        "Let’s make a copy of data and test data so that even if we have to make any changes in these datasets we would not lose the original datasets.\n"
      ]
    },
    {
      "cell_type": "code",
      "metadata": {
        "id": "LOH6t8lvcwc-",
        "colab_type": "code",
        "colab": {}
      },
      "source": [
        "train_copy=pd.read_csv('train.csv').copy()\n",
        "test_copy=pd.read_csv('test.csv').copy()\n",
        "valid_copy=pd.read_csv('valid.csv').copy()"
      ],
      "execution_count": 0,
      "outputs": []
    },
    {
      "cell_type": "code",
      "metadata": {
        "id": "VwjK8kk_PK_I",
        "colab_type": "code",
        "colab": {}
      },
      "source": [
        "data = pd.concat([train, test, valid])"
      ],
      "execution_count": 0,
      "outputs": []
    },
    {
      "cell_type": "code",
      "metadata": {
        "id": "sRyTnT-FcwdB",
        "colab_type": "code",
        "outputId": "2c6ae7da-6c5c-4d61-85bd-d21a3e9467c2",
        "colab": {
          "base_uri": "https://localhost:8080/",
          "height": 1000
        }
      },
      "source": [
        "data.head(10)"
      ],
      "execution_count": 254,
      "outputs": [
        {
          "output_type": "execute_result",
          "data": {
            "text/html": [
              "<div>\n",
              "<style scoped>\n",
              "    .dataframe tbody tr th:only-of-type {\n",
              "        vertical-align: middle;\n",
              "    }\n",
              "\n",
              "    .dataframe tbody tr th {\n",
              "        vertical-align: top;\n",
              "    }\n",
              "\n",
              "    .dataframe thead th {\n",
              "        text-align: right;\n",
              "    }\n",
              "</style>\n",
              "<table border=\"1\" class=\"dataframe\">\n",
              "  <thead>\n",
              "    <tr style=\"text-align: right;\">\n",
              "      <th></th>\n",
              "      <th>ID</th>\n",
              "      <th>Label</th>\n",
              "      <th>Statement</th>\n",
              "      <th>Subject(s)</th>\n",
              "      <th>Speaker</th>\n",
              "      <th>Speaker's job title</th>\n",
              "      <th>state info</th>\n",
              "      <th>party affiliation</th>\n",
              "      <th>barely true counts</th>\n",
              "      <th>false counts</th>\n",
              "      <th>half true counts</th>\n",
              "      <th>mostly true counts</th>\n",
              "      <th>pants on fire counts</th>\n",
              "      <th>the context (venue/location of speech or statement)</th>\n",
              "    </tr>\n",
              "  </thead>\n",
              "  <tbody>\n",
              "    <tr>\n",
              "      <th>0</th>\n",
              "      <td>10540.json</td>\n",
              "      <td>half-true</td>\n",
              "      <td>When did the decline of coal start? It started...</td>\n",
              "      <td>energy,history,job-accomplishments</td>\n",
              "      <td>scott-surovell</td>\n",
              "      <td>State delegate</td>\n",
              "      <td>Virginia</td>\n",
              "      <td>democrat</td>\n",
              "      <td>0.0</td>\n",
              "      <td>0.0</td>\n",
              "      <td>1.0</td>\n",
              "      <td>1.0</td>\n",
              "      <td>0.0</td>\n",
              "      <td>a floor speech.</td>\n",
              "    </tr>\n",
              "    <tr>\n",
              "      <th>1</th>\n",
              "      <td>324.json</td>\n",
              "      <td>mostly-true</td>\n",
              "      <td>Hillary Clinton agrees with John McCain \"by vo...</td>\n",
              "      <td>foreign-policy</td>\n",
              "      <td>barack-obama</td>\n",
              "      <td>President</td>\n",
              "      <td>Illinois</td>\n",
              "      <td>democrat</td>\n",
              "      <td>70.0</td>\n",
              "      <td>71.0</td>\n",
              "      <td>160.0</td>\n",
              "      <td>163.0</td>\n",
              "      <td>9.0</td>\n",
              "      <td>Denver</td>\n",
              "    </tr>\n",
              "    <tr>\n",
              "      <th>2</th>\n",
              "      <td>1123.json</td>\n",
              "      <td>false</td>\n",
              "      <td>Health care reform legislation is likely to ma...</td>\n",
              "      <td>health-care</td>\n",
              "      <td>blog-posting</td>\n",
              "      <td>NaN</td>\n",
              "      <td>NaN</td>\n",
              "      <td>none</td>\n",
              "      <td>7.0</td>\n",
              "      <td>19.0</td>\n",
              "      <td>3.0</td>\n",
              "      <td>5.0</td>\n",
              "      <td>44.0</td>\n",
              "      <td>a news release</td>\n",
              "    </tr>\n",
              "    <tr>\n",
              "      <th>3</th>\n",
              "      <td>9028.json</td>\n",
              "      <td>half-true</td>\n",
              "      <td>The economic turnaround started at the end of ...</td>\n",
              "      <td>economy,jobs</td>\n",
              "      <td>charlie-crist</td>\n",
              "      <td>NaN</td>\n",
              "      <td>Florida</td>\n",
              "      <td>democrat</td>\n",
              "      <td>15.0</td>\n",
              "      <td>9.0</td>\n",
              "      <td>20.0</td>\n",
              "      <td>19.0</td>\n",
              "      <td>2.0</td>\n",
              "      <td>an interview on CNN</td>\n",
              "    </tr>\n",
              "    <tr>\n",
              "      <th>4</th>\n",
              "      <td>12465.json</td>\n",
              "      <td>true</td>\n",
              "      <td>The Chicago Bears have had more starting quart...</td>\n",
              "      <td>education</td>\n",
              "      <td>robin-vos</td>\n",
              "      <td>Wisconsin Assembly speaker</td>\n",
              "      <td>Wisconsin</td>\n",
              "      <td>republican</td>\n",
              "      <td>0.0</td>\n",
              "      <td>3.0</td>\n",
              "      <td>2.0</td>\n",
              "      <td>5.0</td>\n",
              "      <td>1.0</td>\n",
              "      <td>a an online opinion-piece</td>\n",
              "    </tr>\n",
              "    <tr>\n",
              "      <th>5</th>\n",
              "      <td>2342.json</td>\n",
              "      <td>barely-true</td>\n",
              "      <td>Jim Dunnam has not lived in the district he re...</td>\n",
              "      <td>candidates-biography</td>\n",
              "      <td>republican-party-texas</td>\n",
              "      <td>NaN</td>\n",
              "      <td>Texas</td>\n",
              "      <td>republican</td>\n",
              "      <td>3.0</td>\n",
              "      <td>1.0</td>\n",
              "      <td>1.0</td>\n",
              "      <td>3.0</td>\n",
              "      <td>1.0</td>\n",
              "      <td>a press release.</td>\n",
              "    </tr>\n",
              "    <tr>\n",
              "      <th>6</th>\n",
              "      <td>153.json</td>\n",
              "      <td>half-true</td>\n",
              "      <td>I'm the only person on this stage who has work...</td>\n",
              "      <td>ethics</td>\n",
              "      <td>barack-obama</td>\n",
              "      <td>President</td>\n",
              "      <td>Illinois</td>\n",
              "      <td>democrat</td>\n",
              "      <td>70.0</td>\n",
              "      <td>71.0</td>\n",
              "      <td>160.0</td>\n",
              "      <td>163.0</td>\n",
              "      <td>9.0</td>\n",
              "      <td>a Democratic debate in Philadelphia, Pa.</td>\n",
              "    </tr>\n",
              "    <tr>\n",
              "      <th>7</th>\n",
              "      <td>5602.json</td>\n",
              "      <td>half-true</td>\n",
              "      <td>However, it took $19.5 million in Oregon Lotte...</td>\n",
              "      <td>jobs</td>\n",
              "      <td>oregon-lottery</td>\n",
              "      <td>NaN</td>\n",
              "      <td>NaN</td>\n",
              "      <td>organization</td>\n",
              "      <td>0.0</td>\n",
              "      <td>0.0</td>\n",
              "      <td>1.0</td>\n",
              "      <td>0.0</td>\n",
              "      <td>1.0</td>\n",
              "      <td>a website</td>\n",
              "    </tr>\n",
              "    <tr>\n",
              "      <th>8</th>\n",
              "      <td>9741.json</td>\n",
              "      <td>mostly-true</td>\n",
              "      <td>Says GOP primary opponents Glenn Grothman and ...</td>\n",
              "      <td>energy,message-machine-2014,voting-record</td>\n",
              "      <td>duey-stroebel</td>\n",
              "      <td>State representative</td>\n",
              "      <td>Wisconsin</td>\n",
              "      <td>republican</td>\n",
              "      <td>0.0</td>\n",
              "      <td>0.0</td>\n",
              "      <td>0.0</td>\n",
              "      <td>1.0</td>\n",
              "      <td>0.0</td>\n",
              "      <td>an online video</td>\n",
              "    </tr>\n",
              "    <tr>\n",
              "      <th>9</th>\n",
              "      <td>7115.json</td>\n",
              "      <td>mostly-true</td>\n",
              "      <td>For the first time in history, the share of th...</td>\n",
              "      <td>elections</td>\n",
              "      <td>robert-menendez</td>\n",
              "      <td>U.S. Senator</td>\n",
              "      <td>New Jersey</td>\n",
              "      <td>democrat</td>\n",
              "      <td>1.0</td>\n",
              "      <td>3.0</td>\n",
              "      <td>1.0</td>\n",
              "      <td>3.0</td>\n",
              "      <td>0.0</td>\n",
              "      <td>a speech</td>\n",
              "    </tr>\n",
              "  </tbody>\n",
              "</table>\n",
              "</div>"
            ],
            "text/plain": [
              "           ID  ... the context (venue/location of speech or statement)\n",
              "0  10540.json  ...                                    a floor speech. \n",
              "1    324.json  ...                                             Denver \n",
              "2   1123.json  ...                                     a news release \n",
              "3   9028.json  ...                                an interview on CNN \n",
              "4  12465.json  ...                          a an online opinion-piece \n",
              "5   2342.json  ...                                   a press release. \n",
              "6    153.json  ...           a Democratic debate in Philadelphia, Pa. \n",
              "7   5602.json  ...                                         a website  \n",
              "8   9741.json  ...                                    an online video \n",
              "9   7115.json  ...                                           a speech \n",
              "\n",
              "[10 rows x 14 columns]"
            ]
          },
          "metadata": {
            "tags": []
          },
          "execution_count": 254
        }
      ]
    },
    {
      "cell_type": "code",
      "metadata": {
        "id": "E0_MXC_ScwdE",
        "colab_type": "code",
        "outputId": "15c08529-260e-4e05-d332-fc440dfffdfd",
        "colab": {
          "base_uri": "https://localhost:8080/",
          "height": 34
        }
      },
      "source": [
        "data.shape"
      ],
      "execution_count": 255,
      "outputs": [
        {
          "output_type": "execute_result",
          "data": {
            "text/plain": [
              "(12788, 14)"
            ]
          },
          "metadata": {
            "tags": []
          },
          "execution_count": 255
        }
      ]
    },
    {
      "cell_type": "code",
      "metadata": {
        "id": "he1boOTlGAtt",
        "colab_type": "code",
        "colab": {
          "base_uri": "https://localhost:8080/",
          "height": 51
        },
        "outputId": "277facdb-935f-405c-cccc-5d881dc5684f"
      },
      "source": [
        "data['Label'].unique()"
      ],
      "execution_count": 256,
      "outputs": [
        {
          "output_type": "execute_result",
          "data": {
            "text/plain": [
              "array(['half-true', 'mostly-true', 'false', 'true', 'barely-true',\n",
              "       'pants-fire'], dtype=object)"
            ]
          },
          "metadata": {
            "tags": []
          },
          "execution_count": 256
        }
      ]
    },
    {
      "cell_type": "markdown",
      "metadata": {
        "id": "ARaQTXkdcwdM",
        "colab_type": "text"
      },
      "source": [
        "Loaded the datasets. Let's move to Univariate Analysis"
      ]
    },
    {
      "cell_type": "markdown",
      "metadata": {
        "id": "U_pRBXpQ5hk9",
        "colab_type": "text"
      },
      "source": [
        "- Combining data and validation sets here. Later We will use validation techniques"
      ]
    },
    {
      "cell_type": "markdown",
      "metadata": {
        "id": "iY-cipWucwdN",
        "colab_type": "text"
      },
      "source": [
        "# Univariate Analysis"
      ]
    },
    {
      "cell_type": "code",
      "metadata": {
        "id": "c-snudAFcwda",
        "colab_type": "code",
        "outputId": "8d46ac53-85d7-49fe-ae98-85d4e9f04981",
        "colab": {
          "base_uri": "https://localhost:8080/",
          "height": 136
        }
      },
      "source": [
        "data['Label'].value_counts(normalize=True)\n",
        "# Read as percentage after multiplying by 100"
      ],
      "execution_count": 257,
      "outputs": [
        {
          "output_type": "execute_result",
          "data": {
            "text/plain": [
              "half-true      0.205427\n",
              "false          0.195965\n",
              "mostly-true    0.191899\n",
              "barely-true    0.164373\n",
              "true           0.160463\n",
              "pants-fire     0.081874\n",
              "Name: Label, dtype: float64"
            ]
          },
          "metadata": {
            "tags": []
          },
          "execution_count": 257
        }
      ]
    },
    {
      "cell_type": "code",
      "metadata": {
        "id": "qwCQDcJEcwdd",
        "colab_type": "code",
        "outputId": "69b42352-0f5e-4306-b1fd-deaee0d9a671",
        "colab": {
          "base_uri": "https://localhost:8080/",
          "height": 330
        }
      },
      "source": [
        "data['Label'].value_counts().plot.bar()"
      ],
      "execution_count": 258,
      "outputs": [
        {
          "output_type": "execute_result",
          "data": {
            "text/plain": [
              "<matplotlib.axes._subplots.AxesSubplot at 0x7fab736923c8>"
            ]
          },
          "metadata": {
            "tags": []
          },
          "execution_count": 258
        },
        {
          "output_type": "display_data",
          "data": {
            "image/png": "[encoded data removed]",
            "text/plain": [
              "<Figure size 432x288 with 1 Axes>"
            ]
          },
          "metadata": {
            "tags": []
          }
        }
      ]
    },
    {
      "cell_type": "markdown",
      "metadata": {
        "id": "nDbsjPDAcwdf",
        "colab_type": "text"
      },
      "source": [
        "On Looking at the datsets, we identified that there are 3 Data Types:\n",
        "- Continuous : ID, barely true counts, false counts, half true counts, mostly true counts, pants on fire counts.\n",
        "\n",
        "- Categorical : Label, Subject(s), Speaker, Speaker's job title, State info, party affiliation, the context (venue/location of speech or statement)\n",
        "\n",
        "- Text : Statement"
      ]
    },
    {
      "cell_type": "markdown",
      "metadata": {
        "id": "BbQmrQsFcwdg",
        "colab_type": "text"
      },
      "source": [
        "Let's go for Continuous Data Type Exploration.\n",
        "We know that we use BarGraphs for Categorical variable, Histogram or ScatterPlot for continuous variables."
      ]
    },
    {
      "cell_type": "markdown",
      "metadata": {
        "id": "oEih0BBYcwdg",
        "colab_type": "text"
      },
      "source": [
        "- Continuous Variables"
      ]
    },
    {
      "cell_type": "code",
      "metadata": {
        "id": "iyq5H1SUcwdh",
        "colab_type": "code",
        "outputId": "a7d64edd-cfcb-4927-8cf8-3499de34f592",
        "colab": {
          "base_uri": "https://localhost:8080/",
          "height": 424
        }
      },
      "source": [
        "# barely true counts\n",
        "plt.figure(figsize=(20, 6))\n",
        "sns.countplot(data[\"barely true counts\"])\n",
        "plt.title('barely true counts')\n",
        "plt.show()"
      ],
      "execution_count": 259,
      "outputs": [
        {
          "output_type": "display_data",
          "data": {
            "image/png": "[encoded data removed]",
            "text/plain": [
              "<Figure size 1440x432 with 1 Axes>"
            ]
          },
          "metadata": {
            "tags": []
          }
        }
      ]
    },
    {
      "cell_type": "code",
      "metadata": {
        "id": "JL4eZlMtcwdj",
        "colab_type": "code",
        "outputId": "70f2c0d1-b173-47bb-f45e-a3c5a6e6a12c",
        "colab": {
          "base_uri": "https://localhost:8080/",
          "height": 424
        }
      },
      "source": [
        "# false counts\n",
        "plt.figure(figsize=(20, 6))\n",
        "sns.countplot(data[\"false counts\"])\n",
        "plt.title('false counts')\n",
        "plt.show()"
      ],
      "execution_count": 260,
      "outputs": [
        {
          "output_type": "display_data",
          "data": {
            "image/png": "[encoded data removed]",
            "text/plain": [
              "<Figure size 1440x432 with 1 Axes>"
            ]
          },
          "metadata": {
            "tags": []
          }
        }
      ]
    },
    {
      "cell_type": "code",
      "metadata": {
        "id": "dR5zkCpdcwdm",
        "colab_type": "code",
        "outputId": "280a86f8-d389-4954-cd3b-c7f038c17d22",
        "colab": {
          "base_uri": "https://localhost:8080/",
          "height": 424
        }
      },
      "source": [
        "# half true counts\n",
        "plt.figure(figsize=(20, 6))\n",
        "sns.countplot(data[\"half true counts\"])\n",
        "plt.title('half true counts')\n",
        "plt.show()"
      ],
      "execution_count": 261,
      "outputs": [
        {
          "output_type": "display_data",
          "data": {
            "image/png": "[encoded data removed]",
            "text/plain": [
              "<Figure size 1440x432 with 1 Axes>"
            ]
          },
          "metadata": {
            "tags": []
          }
        }
      ]
    },
    {
      "cell_type": "code",
      "metadata": {
        "id": "I2-wC5Ykcwdo",
        "colab_type": "code",
        "outputId": "90f9f3f5-e956-4188-a00e-f8008823156e",
        "colab": {
          "base_uri": "https://localhost:8080/",
          "height": 424
        }
      },
      "source": [
        "# mostly true counts\n",
        "plt.figure(figsize=(20, 6))\n",
        "sns.countplot(data[\"mostly true counts\"])\n",
        "plt.title('mostly true counts')\n",
        "plt.show()"
      ],
      "execution_count": 262,
      "outputs": [
        {
          "output_type": "display_data",
          "data": {
            "image/png": "[encoded data removed]",
            "text/plain": [
              "<Figure size 1440x432 with 1 Axes>"
            ]
          },
          "metadata": {
            "tags": []
          }
        }
      ]
    },
    {
      "cell_type": "code",
      "metadata": {
        "id": "MfVCH7Uxcwds",
        "colab_type": "code",
        "outputId": "dbe943a1-2ef7-4ff8-852d-1aadd8bd3081",
        "colab": {
          "base_uri": "https://localhost:8080/",
          "height": 424
        }
      },
      "source": [
        "# pants on fire counts \n",
        "plt.figure(figsize=(20, 6))\n",
        "sns.countplot(data[\"pants on fire counts\"])\n",
        "plt.title('pants on fire counts')\n",
        "plt.show()"
      ],
      "execution_count": 263,
      "outputs": [
        {
          "output_type": "display_data",
          "data": {
            "image/png": "[encoded data removed]",
            "text/plain": [
              "<Figure size 1440x432 with 1 Axes>"
            ]
          },
          "metadata": {
            "tags": []
          }
        }
      ]
    },
    {
      "cell_type": "code",
      "metadata": {
        "id": "N689Ep8vcwdu",
        "colab_type": "code",
        "outputId": "b1b19538-3442-4bb1-e567-69c26b9a795b",
        "colab": {
          "base_uri": "https://localhost:8080/",
          "height": 1000
        }
      },
      "source": [
        "# Pairplot for cross visualisation of continuous variables\n",
        "plt.figure(figsize=(30,30))\n",
        "sns.pairplot(data, diag_kind='kde');"
      ],
      "execution_count": 264,
      "outputs": [
        {
          "output_type": "stream",
          "text": [
            "/usr/local/lib/python3.6/dist-packages/statsmodels/nonparametric/kde.py:447: RuntimeWarning: invalid value encountered in greater\n",
            "  X = X[np.logical_and(X > clip[0], X < clip[1])] # won't work for two columns.\n",
            "/usr/local/lib/python3.6/dist-packages/statsmodels/nonparametric/kde.py:447: RuntimeWarning: invalid value encountered in less\n",
            "  X = X[np.logical_and(X > clip[0], X < clip[1])] # won't work for two columns.\n"
          ],
          "name": "stderr"
        },
        {
          "output_type": "display_data",
          "data": {
            "text/plain": [
              "<Figure size 2160x2160 with 0 Axes>"
            ]
          },
          "metadata": {
            "tags": []
          }
        },
        {
          "output_type": "display_data",
          "data": {
            "image/png": "[encoded data removed]",
            "text/plain": [
              "<Figure size 900x900 with 30 Axes>"
            ]
          },
          "metadata": {
            "tags": []
          }
        }
      ]
    },
    {
      "cell_type": "markdown",
      "metadata": {
        "id": "fAzfKzDEcwdw",
        "colab_type": "text"
      },
      "source": [
        "- Spread of Target Variable"
      ]
    },
    {
      "cell_type": "code",
      "metadata": {
        "id": "Jeq2GD2icwdx",
        "colab_type": "code",
        "outputId": "740bab05-2f75-4dc5-8cc3-2f95ebeaab0d",
        "colab": {
          "base_uri": "https://localhost:8080/",
          "height": 465
        }
      },
      "source": [
        "cnt_srs = data['Label'].value_counts()\n",
        "plt.figure(figsize=(18,7))\n",
        "sns.barplot(cnt_srs.index, cnt_srs.values, alpha=0.8)\n",
        "plt.ylabel('Frequency', fontsize=12)\n",
        "plt.xlabel('Label', fontsize=12)\n",
        "plt.show()"
      ],
      "execution_count": 265,
      "outputs": [
        {
          "output_type": "display_data",
          "data": {
            "image/png": "[encoded data removed]",
            "text/plain": [
              "<Figure size 1296x504 with 1 Axes>"
            ]
          },
          "metadata": {
            "tags": []
          }
        }
      ]
    },
    {
      "cell_type": "markdown",
      "metadata": {
        "id": "rkdFqd7Kcwd1",
        "colab_type": "text"
      },
      "source": [
        "# Data Preprocessing"
      ]
    },
    {
      "cell_type": "markdown",
      "metadata": {
        "id": "Ht1nMlsicwd1",
        "colab_type": "text"
      },
      "source": [
        "- Checking Missing Values"
      ]
    },
    {
      "cell_type": "code",
      "metadata": {
        "id": "rskkXG2Icwd2",
        "colab_type": "code",
        "colab": {}
      },
      "source": [
        "def missing_value(df):\n",
        "    total = df.isnull().sum().sort_values(ascending = False)\n",
        "    percent = (df.isnull().sum()/df.isnull().count()*100).sort_values(ascending=False)\n",
        "    missing_df = pd.concat([total, percent], axis=1, keys = ['Total', 'Percent'])\n",
        "    return missing_df"
      ],
      "execution_count": 0,
      "outputs": []
    },
    {
      "cell_type": "code",
      "metadata": {
        "id": "eqzhYGOKcwd6",
        "colab_type": "code",
        "outputId": "f6a5b999-bd67-4156-d3b8-8b28558ad5e5",
        "colab": {
          "base_uri": "https://localhost:8080/",
          "height": 483
        }
      },
      "source": [
        "x_data = missing_value(data)\n",
        "x_data"
      ],
      "execution_count": 267,
      "outputs": [
        {
          "output_type": "execute_result",
          "data": {
            "text/html": [
              "<div>\n",
              "<style scoped>\n",
              "    .dataframe tbody tr th:only-of-type {\n",
              "        vertical-align: middle;\n",
              "    }\n",
              "\n",
              "    .dataframe tbody tr th {\n",
              "        vertical-align: top;\n",
              "    }\n",
              "\n",
              "    .dataframe thead th {\n",
              "        text-align: right;\n",
              "    }\n",
              "</style>\n",
              "<table border=\"1\" class=\"dataframe\">\n",
              "  <thead>\n",
              "    <tr style=\"text-align: right;\">\n",
              "      <th></th>\n",
              "      <th>Total</th>\n",
              "      <th>Percent</th>\n",
              "    </tr>\n",
              "  </thead>\n",
              "  <tbody>\n",
              "    <tr>\n",
              "      <th>Speaker's job title</th>\n",
              "      <td>3567</td>\n",
              "      <td>27.893338</td>\n",
              "    </tr>\n",
              "    <tr>\n",
              "      <th>state info</th>\n",
              "      <td>2749</td>\n",
              "      <td>21.496716</td>\n",
              "    </tr>\n",
              "    <tr>\n",
              "      <th>the context (venue/location of speech or statement)</th>\n",
              "      <td>131</td>\n",
              "      <td>1.024398</td>\n",
              "    </tr>\n",
              "    <tr>\n",
              "      <th>pants on fire counts</th>\n",
              "      <td>2</td>\n",
              "      <td>0.015640</td>\n",
              "    </tr>\n",
              "    <tr>\n",
              "      <th>mostly true counts</th>\n",
              "      <td>2</td>\n",
              "      <td>0.015640</td>\n",
              "    </tr>\n",
              "    <tr>\n",
              "      <th>half true counts</th>\n",
              "      <td>2</td>\n",
              "      <td>0.015640</td>\n",
              "    </tr>\n",
              "    <tr>\n",
              "      <th>false counts</th>\n",
              "      <td>2</td>\n",
              "      <td>0.015640</td>\n",
              "    </tr>\n",
              "    <tr>\n",
              "      <th>barely true counts</th>\n",
              "      <td>2</td>\n",
              "      <td>0.015640</td>\n",
              "    </tr>\n",
              "    <tr>\n",
              "      <th>party affiliation</th>\n",
              "      <td>2</td>\n",
              "      <td>0.015640</td>\n",
              "    </tr>\n",
              "    <tr>\n",
              "      <th>Speaker</th>\n",
              "      <td>2</td>\n",
              "      <td>0.015640</td>\n",
              "    </tr>\n",
              "    <tr>\n",
              "      <th>Subject(s)</th>\n",
              "      <td>2</td>\n",
              "      <td>0.015640</td>\n",
              "    </tr>\n",
              "    <tr>\n",
              "      <th>Statement</th>\n",
              "      <td>0</td>\n",
              "      <td>0.000000</td>\n",
              "    </tr>\n",
              "    <tr>\n",
              "      <th>Label</th>\n",
              "      <td>0</td>\n",
              "      <td>0.000000</td>\n",
              "    </tr>\n",
              "    <tr>\n",
              "      <th>ID</th>\n",
              "      <td>0</td>\n",
              "      <td>0.000000</td>\n",
              "    </tr>\n",
              "  </tbody>\n",
              "</table>\n",
              "</div>"
            ],
            "text/plain": [
              "                                                    Total    Percent\n",
              "Speaker's job title                                  3567  27.893338\n",
              "state info                                           2749  21.496716\n",
              "the context (venue/location of speech or statem...    131   1.024398\n",
              "pants on fire counts                                    2   0.015640\n",
              "mostly true counts                                      2   0.015640\n",
              "half true counts                                        2   0.015640\n",
              "false counts                                            2   0.015640\n",
              "barely true counts                                      2   0.015640\n",
              "party affiliation                                       2   0.015640\n",
              "Speaker                                                 2   0.015640\n",
              "Subject(s)                                              2   0.015640\n",
              "Statement                                               0   0.000000\n",
              "Label                                                   0   0.000000\n",
              "ID                                                      0   0.000000"
            ]
          },
          "metadata": {
            "tags": []
          },
          "execution_count": 267
        }
      ]
    },
    {
      "cell_type": "markdown",
      "metadata": {
        "id": "pcF_ZxIucweA",
        "colab_type": "text"
      },
      "source": [
        "We need to treat the missing values here. It will reduce the model accuracy otherwise."
      ]
    },
    {
      "cell_type": "code",
      "metadata": {
        "id": "AVOfNIj5cweA",
        "colab_type": "code",
        "colab": {}
      },
      "source": [
        "# Filling Missing Values with Unknown Variable\n",
        "values = {\"Speaker's job title\":'Unknown'}\n",
        "data = data.fillna(value=values)\n",
        "#valid = valid.fillna(value=values)"
      ],
      "execution_count": 0,
      "outputs": []
    },
    {
      "cell_type": "code",
      "metadata": {
        "id": "fc0tLBs4cweC",
        "colab_type": "code",
        "colab": {}
      },
      "source": [
        "# Filling Missing Values with Unknown Variable\n",
        "values = {\"state info\":'Unknown1'}\n",
        "data = data.fillna(value=values)\n",
        "#valid = valid.fillna(value=values)"
      ],
      "execution_count": 0,
      "outputs": []
    },
    {
      "cell_type": "code",
      "metadata": {
        "id": "M4JLvYzlcweE",
        "colab_type": "code",
        "colab": {}
      },
      "source": [
        "data['the context (venue/location of speech or statement)'].fillna(data['the context (venue/location of speech or statement)'].mode()[0], inplace=True)\n",
        "#valid['the context (venue/location of speech or statement)'].fillna(valid['the context (venue/location of speech or statement)'].mode()[0], inplace=True)"
      ],
      "execution_count": 0,
      "outputs": []
    },
    {
      "cell_type": "code",
      "metadata": {
        "id": "JkLuKWG4cweG",
        "colab_type": "code",
        "colab": {}
      },
      "source": [
        "data['pants on fire counts'].fillna(data['pants on fire counts'].median(), inplace=True)\n",
        "data['mostly true counts'].fillna(data['mostly true counts'].median(), inplace=True)\n",
        "data['half true counts'].fillna(data['half true counts'].median(), inplace=True)\n",
        "data['false counts'].fillna(data['false counts'].median(), inplace=True)\n",
        "data['barely true counts'].fillna(data['barely true counts'].median(), inplace=True)\n",
        "data['party affiliation'].fillna(data['party affiliation'].mode()[0], inplace=True)\n",
        "data['Speaker'].fillna(data['Speaker'].mode()[0], inplace=True)\n",
        "data['Subject(s)'].fillna(data['Subject(s)'].mode()[0], inplace=True)"
      ],
      "execution_count": 0,
      "outputs": []
    },
    {
      "cell_type": "code",
      "metadata": {
        "id": "P7jKiqM-cweJ",
        "colab_type": "code",
        "outputId": "775eadc6-3890-4963-f91f-b8426e53453f",
        "colab": {
          "base_uri": "https://localhost:8080/",
          "height": 483
        }
      },
      "source": [
        "# Checking again for missing values\n",
        "y_data = missing_value(data)\n",
        "y_data"
      ],
      "execution_count": 272,
      "outputs": [
        {
          "output_type": "execute_result",
          "data": {
            "text/html": [
              "<div>\n",
              "<style scoped>\n",
              "    .dataframe tbody tr th:only-of-type {\n",
              "        vertical-align: middle;\n",
              "    }\n",
              "\n",
              "    .dataframe tbody tr th {\n",
              "        vertical-align: top;\n",
              "    }\n",
              "\n",
              "    .dataframe thead th {\n",
              "        text-align: right;\n",
              "    }\n",
              "</style>\n",
              "<table border=\"1\" class=\"dataframe\">\n",
              "  <thead>\n",
              "    <tr style=\"text-align: right;\">\n",
              "      <th></th>\n",
              "      <th>Total</th>\n",
              "      <th>Percent</th>\n",
              "    </tr>\n",
              "  </thead>\n",
              "  <tbody>\n",
              "    <tr>\n",
              "      <th>the context (venue/location of speech or statement)</th>\n",
              "      <td>0</td>\n",
              "      <td>0.0</td>\n",
              "    </tr>\n",
              "    <tr>\n",
              "      <th>pants on fire counts</th>\n",
              "      <td>0</td>\n",
              "      <td>0.0</td>\n",
              "    </tr>\n",
              "    <tr>\n",
              "      <th>mostly true counts</th>\n",
              "      <td>0</td>\n",
              "      <td>0.0</td>\n",
              "    </tr>\n",
              "    <tr>\n",
              "      <th>half true counts</th>\n",
              "      <td>0</td>\n",
              "      <td>0.0</td>\n",
              "    </tr>\n",
              "    <tr>\n",
              "      <th>false counts</th>\n",
              "      <td>0</td>\n",
              "      <td>0.0</td>\n",
              "    </tr>\n",
              "    <tr>\n",
              "      <th>barely true counts</th>\n",
              "      <td>0</td>\n",
              "      <td>0.0</td>\n",
              "    </tr>\n",
              "    <tr>\n",
              "      <th>party affiliation</th>\n",
              "      <td>0</td>\n",
              "      <td>0.0</td>\n",
              "    </tr>\n",
              "    <tr>\n",
              "      <th>state info</th>\n",
              "      <td>0</td>\n",
              "      <td>0.0</td>\n",
              "    </tr>\n",
              "    <tr>\n",
              "      <th>Speaker's job title</th>\n",
              "      <td>0</td>\n",
              "      <td>0.0</td>\n",
              "    </tr>\n",
              "    <tr>\n",
              "      <th>Speaker</th>\n",
              "      <td>0</td>\n",
              "      <td>0.0</td>\n",
              "    </tr>\n",
              "    <tr>\n",
              "      <th>Subject(s)</th>\n",
              "      <td>0</td>\n",
              "      <td>0.0</td>\n",
              "    </tr>\n",
              "    <tr>\n",
              "      <th>Statement</th>\n",
              "      <td>0</td>\n",
              "      <td>0.0</td>\n",
              "    </tr>\n",
              "    <tr>\n",
              "      <th>Label</th>\n",
              "      <td>0</td>\n",
              "      <td>0.0</td>\n",
              "    </tr>\n",
              "    <tr>\n",
              "      <th>ID</th>\n",
              "      <td>0</td>\n",
              "      <td>0.0</td>\n",
              "    </tr>\n",
              "  </tbody>\n",
              "</table>\n",
              "</div>"
            ],
            "text/plain": [
              "                                                    Total  Percent\n",
              "the context (venue/location of speech or statem...      0      0.0\n",
              "pants on fire counts                                    0      0.0\n",
              "mostly true counts                                      0      0.0\n",
              "half true counts                                        0      0.0\n",
              "false counts                                            0      0.0\n",
              "barely true counts                                      0      0.0\n",
              "party affiliation                                       0      0.0\n",
              "state info                                              0      0.0\n",
              "Speaker's job title                                     0      0.0\n",
              "Speaker                                                 0      0.0\n",
              "Subject(s)                                              0      0.0\n",
              "Statement                                               0      0.0\n",
              "Label                                                   0      0.0\n",
              "ID                                                      0      0.0"
            ]
          },
          "metadata": {
            "tags": []
          },
          "execution_count": 272
        }
      ]
    },
    {
      "cell_type": "markdown",
      "metadata": {
        "id": "o5ShvHOncweR",
        "colab_type": "text"
      },
      "source": [
        "- Targeting Statement Column"
      ]
    },
    {
      "cell_type": "code",
      "metadata": {
        "id": "ZoFKgtttk1BQ",
        "colab_type": "code",
        "outputId": "7742b366-cc90-4ff6-b5e4-57556c3dbaf2",
        "colab": {
          "base_uri": "https://localhost:8080/",
          "height": 34
        }
      },
      "source": [
        "data.shape"
      ],
      "execution_count": 273,
      "outputs": [
        {
          "output_type": "execute_result",
          "data": {
            "text/plain": [
              "(12788, 14)"
            ]
          },
          "metadata": {
            "tags": []
          },
          "execution_count": 273
        }
      ]
    },
    {
      "cell_type": "code",
      "metadata": {
        "id": "J2XsnEdKcweS",
        "colab_type": "code",
        "colab": {}
      },
      "source": [
        "#removing non-letter symbols and converting text in 'Statement' to lowercase \n",
        "data['Statement'] = data['Statement'].apply(lambda x: \"\".join(re.sub(r\"[^A-Za-z\\s]\", '',str(x))))\n",
        "#valid['Statement'] = valid['Statement'].apply(lambda x: \"\".join(re.sub(r\"[^A-Za-z\\s]\",'',str(x))))\n",
        "\n",
        "# lower casing the Text\n",
        "data['Statement'] = data['Statement'].apply(lambda x: \" \".join(x.lower() for x in x.split()))\n",
        "#valid['Statement'] = valid['Statement'].apply(lambda x: \" \".join(x.lower() for x in x.split()))"
      ],
      "execution_count": 0,
      "outputs": []
    },
    {
      "cell_type": "code",
      "metadata": {
        "id": "BKgduhFccweW",
        "colab_type": "code",
        "colab": {}
      },
      "source": [
        "#Removing punctuations\n",
        "#adding characters list which needs to remove that is PUNCTUATION\n",
        "punc = ['.', ',', '\"', \"'\", '?', '!', ':', ';', '(', ')', '[', ']', '{', '}',\"%\",'/','<','>','br','�','^','XX','XXXX','xxxx','xx']\n",
        "#removing extra characters\n",
        "data['Statement'] = data['Statement'].apply(lambda x: \" \".join(x for x in x.split() if x not in punc))\n",
        "#valid['Statement'] = valid['Statement'].apply(lambda x: \" \".join(x for x in x.split() if x not in punc))"
      ],
      "execution_count": 0,
      "outputs": []
    },
    {
      "cell_type": "code",
      "metadata": {
        "id": "JzRXcvozcwea",
        "colab_type": "code",
        "colab": {}
      },
      "source": [
        "import nltk"
      ],
      "execution_count": 0,
      "outputs": []
    },
    {
      "cell_type": "code",
      "metadata": {
        "id": "t3f0GKwhiSmB",
        "colab_type": "code",
        "outputId": "c8c27b85-f75f-440f-dfb0-276bd0cc1cfd",
        "colab": {
          "base_uri": "https://localhost:8080/",
          "height": 68
        }
      },
      "source": [
        "nltk.download('stopwords')"
      ],
      "execution_count": 277,
      "outputs": [
        {
          "output_type": "stream",
          "text": [
            "[nltk_data] Downloading package stopwords to /root/nltk_data...\n",
            "[nltk_data]   Package stopwords is already up-to-date!\n"
          ],
          "name": "stdout"
        },
        {
          "output_type": "execute_result",
          "data": {
            "text/plain": [
              "True"
            ]
          },
          "metadata": {
            "tags": []
          },
          "execution_count": 277
        }
      ]
    },
    {
      "cell_type": "code",
      "metadata": {
        "id": "UCouVqlUcweY",
        "colab_type": "code",
        "colab": {}
      },
      "source": [
        "#removal of stopwords\n",
        "from nltk.corpus import stopwords\n",
        "stop = stopwords.words('english')\n",
        "data['Statement'] = data['Statement'].apply(lambda x: \" \".join(x for x in x.split() if x not in stop))\n",
        "#valid['Statement'] = valid['Statement'].apply(lambda x: \" \".join(x for x in x.split() if x not in stop))"
      ],
      "execution_count": 0,
      "outputs": []
    },
    {
      "cell_type": "code",
      "metadata": {
        "id": "KBcbIVT8iWCZ",
        "colab_type": "code",
        "colab": {}
      },
      "source": [
        "#common words removal\n",
        "freq_data = pd.Series(' '.join(data['Statement']).split()).value_counts()[:10]\n",
        "#freq_valid = pd.Series(' '.join(valid['Statement']).split()).value_counts()[:10]\n",
        "\n",
        "freq_data = list(freq_data.index)\n",
        "data['Statement'] = data['Statement'].apply(lambda x: \" \".join(x for x in x.split() if x not in freq_data))\n",
        "#freq_valid = list(freq_valid.index)\n",
        "#valid['Statement'] = valid['Statement'].apply(lambda x: \" \".join(x for x in x.split() if x not in freq_valid))"
      ],
      "execution_count": 0,
      "outputs": []
    },
    {
      "cell_type": "code",
      "metadata": {
        "id": "5GyeiEs9i4nL",
        "colab_type": "code",
        "colab": {}
      },
      "source": [
        "#rare words removal\n",
        "freq_data_rare = pd.Series(' '.join(data['Statement']).split()).value_counts()[-10:]\n",
        "freq_data_rare = list(freq_data_rare.index)\n",
        "data['Statement'] = data['Statement'].apply(lambda x: \" \".join(x for x in x.split() if x not in freq_data_rare))\n",
        "#freq_valid_rare = pd.Series(' '.join(valid['Statement']).split()).value_counts()[-10:]\n",
        "#freq_valid_rare = list(freq_valid_rare.index)\n",
        "#valid['Statement'] = valid['Statement'].apply(lambda x: \" \".join(x for x in x.split() if x not in freq_valid_rare))"
      ],
      "execution_count": 0,
      "outputs": []
    },
    {
      "cell_type": "code",
      "metadata": {
        "id": "KkX7-FbNjRgu",
        "colab_type": "code",
        "colab": {}
      },
      "source": [
        "#STEMMING\n",
        "st = PorterStemmer()\n",
        "data['Statement']=data['Statement'].apply(lambda x: \" \".join([st.stem(w) for w in x.split()]))\n"
      ],
      "execution_count": 0,
      "outputs": []
    },
    {
      "cell_type": "code",
      "metadata": {
        "id": "1lYoMqrFrU2N",
        "colab_type": "code",
        "outputId": "76261d12-9781-40c5-ccbf-4900bad1f6a4",
        "colab": {
          "base_uri": "https://localhost:8080/",
          "height": 598
        }
      },
      "source": [
        "data.head()"
      ],
      "execution_count": 282,
      "outputs": [
        {
          "output_type": "execute_result",
          "data": {
            "text/html": [
              "<div>\n",
              "<style scoped>\n",
              "    .dataframe tbody tr th:only-of-type {\n",
              "        vertical-align: middle;\n",
              "    }\n",
              "\n",
              "    .dataframe tbody tr th {\n",
              "        vertical-align: top;\n",
              "    }\n",
              "\n",
              "    .dataframe thead th {\n",
              "        text-align: right;\n",
              "    }\n",
              "</style>\n",
              "<table border=\"1\" class=\"dataframe\">\n",
              "  <thead>\n",
              "    <tr style=\"text-align: right;\">\n",
              "      <th></th>\n",
              "      <th>ID</th>\n",
              "      <th>Label</th>\n",
              "      <th>Statement</th>\n",
              "      <th>Subject(s)</th>\n",
              "      <th>Speaker</th>\n",
              "      <th>Speaker's job title</th>\n",
              "      <th>state info</th>\n",
              "      <th>party affiliation</th>\n",
              "      <th>barely true counts</th>\n",
              "      <th>false counts</th>\n",
              "      <th>half true counts</th>\n",
              "      <th>mostly true counts</th>\n",
              "      <th>pants on fire counts</th>\n",
              "      <th>the context (venue/location of speech or statement)</th>\n",
              "    </tr>\n",
              "  </thead>\n",
              "  <tbody>\n",
              "    <tr>\n",
              "      <th>0</th>\n",
              "      <td>10540.json</td>\n",
              "      <td>half-true</td>\n",
              "      <td>declin coal start start natur ga took start be...</td>\n",
              "      <td>energy,history,job-accomplishments</td>\n",
              "      <td>scott-surovell</td>\n",
              "      <td>State delegate</td>\n",
              "      <td>Virginia</td>\n",
              "      <td>democrat</td>\n",
              "      <td>0.0</td>\n",
              "      <td>0.0</td>\n",
              "      <td>1.0</td>\n",
              "      <td>1.0</td>\n",
              "      <td>0.0</td>\n",
              "      <td>a floor speech.</td>\n",
              "    </tr>\n",
              "    <tr>\n",
              "      <th>1</th>\n",
              "      <td>324.json</td>\n",
              "      <td>mostly-true</td>\n",
              "      <td>hillari clinton agre john mccain vote give geo...</td>\n",
              "      <td>foreign-policy</td>\n",
              "      <td>barack-obama</td>\n",
              "      <td>President</td>\n",
              "      <td>Illinois</td>\n",
              "      <td>democrat</td>\n",
              "      <td>70.0</td>\n",
              "      <td>71.0</td>\n",
              "      <td>160.0</td>\n",
              "      <td>163.0</td>\n",
              "      <td>9.0</td>\n",
              "      <td>Denver</td>\n",
              "    </tr>\n",
              "    <tr>\n",
              "      <th>2</th>\n",
              "      <td>1123.json</td>\n",
              "      <td>false</td>\n",
              "      <td>care reform legisl like mandat free sex chang ...</td>\n",
              "      <td>health-care</td>\n",
              "      <td>blog-posting</td>\n",
              "      <td>Unknown</td>\n",
              "      <td>Unknown1</td>\n",
              "      <td>none</td>\n",
              "      <td>7.0</td>\n",
              "      <td>19.0</td>\n",
              "      <td>3.0</td>\n",
              "      <td>5.0</td>\n",
              "      <td>44.0</td>\n",
              "      <td>a news release</td>\n",
              "    </tr>\n",
              "    <tr>\n",
              "      <th>3</th>\n",
              "      <td>9028.json</td>\n",
              "      <td>half-true</td>\n",
              "      <td>econom turnaround start end term</td>\n",
              "      <td>economy,jobs</td>\n",
              "      <td>charlie-crist</td>\n",
              "      <td>Unknown</td>\n",
              "      <td>Florida</td>\n",
              "      <td>democrat</td>\n",
              "      <td>15.0</td>\n",
              "      <td>9.0</td>\n",
              "      <td>20.0</td>\n",
              "      <td>19.0</td>\n",
              "      <td>2.0</td>\n",
              "      <td>an interview on CNN</td>\n",
              "    </tr>\n",
              "    <tr>\n",
              "      <th>4</th>\n",
              "      <td>12465.json</td>\n",
              "      <td>true</td>\n",
              "      <td>chicago bear start quarterback last total numb...</td>\n",
              "      <td>education</td>\n",
              "      <td>robin-vos</td>\n",
              "      <td>Wisconsin Assembly speaker</td>\n",
              "      <td>Wisconsin</td>\n",
              "      <td>republican</td>\n",
              "      <td>0.0</td>\n",
              "      <td>3.0</td>\n",
              "      <td>2.0</td>\n",
              "      <td>5.0</td>\n",
              "      <td>1.0</td>\n",
              "      <td>a an online opinion-piece</td>\n",
              "    </tr>\n",
              "  </tbody>\n",
              "</table>\n",
              "</div>"
            ],
            "text/plain": [
              "           ID  ... the context (venue/location of speech or statement)\n",
              "0  10540.json  ...                                    a floor speech. \n",
              "1    324.json  ...                                             Denver \n",
              "2   1123.json  ...                                     a news release \n",
              "3   9028.json  ...                                an interview on CNN \n",
              "4  12465.json  ...                          a an online opinion-piece \n",
              "\n",
              "[5 rows x 14 columns]"
            ]
          },
          "metadata": {
            "tags": []
          },
          "execution_count": 282
        }
      ]
    },
    {
      "cell_type": "code",
      "metadata": {
        "id": "IY96my6R7hE5",
        "colab_type": "code",
        "colab": {}
      },
      "source": [
        "# Removing .json extension\n",
        "data['ID'] = data['ID'].str.rstrip('.json')"
      ],
      "execution_count": 0,
      "outputs": []
    },
    {
      "cell_type": "code",
      "metadata": {
        "id": "qhNZnbUwtQj2",
        "colab_type": "code",
        "colab": {}
      },
      "source": [
        "#ID = data.iloc[:,[1]]\n",
        "#data=data.drop(['ID'], axis=1)"
      ],
      "execution_count": 0,
      "outputs": []
    },
    {
      "cell_type": "code",
      "metadata": {
        "id": "u6KYvzg7FnrS",
        "colab_type": "code",
        "outputId": "8699b8b2-a833-4d95-ee7b-fd865b543f9c",
        "colab": {
          "base_uri": "https://localhost:8080/",
          "height": 119
        }
      },
      "source": [
        "data.columns"
      ],
      "execution_count": 285,
      "outputs": [
        {
          "output_type": "execute_result",
          "data": {
            "text/plain": [
              "Index(['ID', 'Label', 'Statement', 'Subject(s)', 'Speaker',\n",
              "       'Speaker's job title', 'state info', 'party affiliation',\n",
              "       'barely true counts', 'false counts', 'half true counts',\n",
              "       'mostly true counts', 'pants on fire counts',\n",
              "       'the context (venue/location of speech or statement)'],\n",
              "      dtype='object')"
            ]
          },
          "metadata": {
            "tags": []
          },
          "execution_count": 285
        }
      ]
    },
    {
      "cell_type": "code",
      "metadata": {
        "id": "B9OmtSopz1QD",
        "colab_type": "code",
        "colab": {}
      },
      "source": [
        "from sklearn.preprocessing import LabelEncoder, OneHotEncoder\n",
        "labelencoder_label = LabelEncoder()"
      ],
      "execution_count": 0,
      "outputs": []
    },
    {
      "cell_type": "code",
      "metadata": {
        "id": "Y7tB-qDRIp6W",
        "colab_type": "code",
        "colab": {}
      },
      "source": [
        "labelencoder_label.fit(data.iloc[:,1].values)\n",
        "data.iloc[:,1]=labelencoder_label.transform(data.iloc[:,1])"
      ],
      "execution_count": 0,
      "outputs": []
    },
    {
      "cell_type": "code",
      "metadata": {
        "id": "Ex-BKNGPI4Ci",
        "colab_type": "code",
        "outputId": "142830fe-7f85-4923-efc6-c098f73727b1",
        "colab": {
          "base_uri": "https://localhost:8080/",
          "height": 598
        }
      },
      "source": [
        "data.head()"
      ],
      "execution_count": 288,
      "outputs": [
        {
          "output_type": "execute_result",
          "data": {
            "text/html": [
              "<div>\n",
              "<style scoped>\n",
              "    .dataframe tbody tr th:only-of-type {\n",
              "        vertical-align: middle;\n",
              "    }\n",
              "\n",
              "    .dataframe tbody tr th {\n",
              "        vertical-align: top;\n",
              "    }\n",
              "\n",
              "    .dataframe thead th {\n",
              "        text-align: right;\n",
              "    }\n",
              "</style>\n",
              "<table border=\"1\" class=\"dataframe\">\n",
              "  <thead>\n",
              "    <tr style=\"text-align: right;\">\n",
              "      <th></th>\n",
              "      <th>ID</th>\n",
              "      <th>Label</th>\n",
              "      <th>Statement</th>\n",
              "      <th>Subject(s)</th>\n",
              "      <th>Speaker</th>\n",
              "      <th>Speaker's job title</th>\n",
              "      <th>state info</th>\n",
              "      <th>party affiliation</th>\n",
              "      <th>barely true counts</th>\n",
              "      <th>false counts</th>\n",
              "      <th>half true counts</th>\n",
              "      <th>mostly true counts</th>\n",
              "      <th>pants on fire counts</th>\n",
              "      <th>the context (venue/location of speech or statement)</th>\n",
              "    </tr>\n",
              "  </thead>\n",
              "  <tbody>\n",
              "    <tr>\n",
              "      <th>0</th>\n",
              "      <td>10540</td>\n",
              "      <td>2</td>\n",
              "      <td>declin coal start start natur ga took start be...</td>\n",
              "      <td>energy,history,job-accomplishments</td>\n",
              "      <td>scott-surovell</td>\n",
              "      <td>State delegate</td>\n",
              "      <td>Virginia</td>\n",
              "      <td>democrat</td>\n",
              "      <td>0.0</td>\n",
              "      <td>0.0</td>\n",
              "      <td>1.0</td>\n",
              "      <td>1.0</td>\n",
              "      <td>0.0</td>\n",
              "      <td>a floor speech.</td>\n",
              "    </tr>\n",
              "    <tr>\n",
              "      <th>1</th>\n",
              "      <td>324</td>\n",
              "      <td>3</td>\n",
              "      <td>hillari clinton agre john mccain vote give geo...</td>\n",
              "      <td>foreign-policy</td>\n",
              "      <td>barack-obama</td>\n",
              "      <td>President</td>\n",
              "      <td>Illinois</td>\n",
              "      <td>democrat</td>\n",
              "      <td>70.0</td>\n",
              "      <td>71.0</td>\n",
              "      <td>160.0</td>\n",
              "      <td>163.0</td>\n",
              "      <td>9.0</td>\n",
              "      <td>Denver</td>\n",
              "    </tr>\n",
              "    <tr>\n",
              "      <th>2</th>\n",
              "      <td>1123</td>\n",
              "      <td>1</td>\n",
              "      <td>care reform legisl like mandat free sex chang ...</td>\n",
              "      <td>health-care</td>\n",
              "      <td>blog-posting</td>\n",
              "      <td>Unknown</td>\n",
              "      <td>Unknown1</td>\n",
              "      <td>none</td>\n",
              "      <td>7.0</td>\n",
              "      <td>19.0</td>\n",
              "      <td>3.0</td>\n",
              "      <td>5.0</td>\n",
              "      <td>44.0</td>\n",
              "      <td>a news release</td>\n",
              "    </tr>\n",
              "    <tr>\n",
              "      <th>3</th>\n",
              "      <td>9028</td>\n",
              "      <td>2</td>\n",
              "      <td>econom turnaround start end term</td>\n",
              "      <td>economy,jobs</td>\n",
              "      <td>charlie-crist</td>\n",
              "      <td>Unknown</td>\n",
              "      <td>Florida</td>\n",
              "      <td>democrat</td>\n",
              "      <td>15.0</td>\n",
              "      <td>9.0</td>\n",
              "      <td>20.0</td>\n",
              "      <td>19.0</td>\n",
              "      <td>2.0</td>\n",
              "      <td>an interview on CNN</td>\n",
              "    </tr>\n",
              "    <tr>\n",
              "      <th>4</th>\n",
              "      <td>12465</td>\n",
              "      <td>5</td>\n",
              "      <td>chicago bear start quarterback last total numb...</td>\n",
              "      <td>education</td>\n",
              "      <td>robin-vos</td>\n",
              "      <td>Wisconsin Assembly speaker</td>\n",
              "      <td>Wisconsin</td>\n",
              "      <td>republican</td>\n",
              "      <td>0.0</td>\n",
              "      <td>3.0</td>\n",
              "      <td>2.0</td>\n",
              "      <td>5.0</td>\n",
              "      <td>1.0</td>\n",
              "      <td>a an online opinion-piece</td>\n",
              "    </tr>\n",
              "  </tbody>\n",
              "</table>\n",
              "</div>"
            ],
            "text/plain": [
              "      ID  ...  the context (venue/location of speech or statement)\n",
              "0  10540  ...                                    a floor speech.  \n",
              "1    324  ...                                             Denver  \n",
              "2   1123  ...                                     a news release  \n",
              "3   9028  ...                                an interview on CNN  \n",
              "4  12465  ...                          a an online opinion-piece  \n",
              "\n",
              "[5 rows x 14 columns]"
            ]
          },
          "metadata": {
            "tags": []
          },
          "execution_count": 288
        }
      ]
    },
    {
      "cell_type": "code",
      "metadata": {
        "id": "omyuh_4CwjrD",
        "colab_type": "code",
        "colab": {}
      },
      "source": [
        "# Train test split before by random_seed=fixed\n",
        "\n",
        "\n",
        "# k-Fold Cross Validation\n",
        "\n",
        "X = data.iloc[:, [2, 3,4,5,6,7,8,9,10,11,12,13]]\n",
        "y = data.iloc[:, 1]"
      ],
      "execution_count": 0,
      "outputs": []
    },
    {
      "cell_type": "code",
      "metadata": {
        "id": "TJTfY39PG5NL",
        "colab_type": "code",
        "outputId": "715f64ac-b312-428b-bf30-7ddbbcab02d6",
        "colab": {
          "base_uri": "https://localhost:8080/",
          "height": 119
        }
      },
      "source": [
        "y.head()"
      ],
      "execution_count": 290,
      "outputs": [
        {
          "output_type": "execute_result",
          "data": {
            "text/plain": [
              "0    2\n",
              "1    3\n",
              "2    1\n",
              "3    2\n",
              "4    5\n",
              "Name: Label, dtype: int64"
            ]
          },
          "metadata": {
            "tags": []
          },
          "execution_count": 290
        }
      ]
    },
    {
      "cell_type": "code",
      "metadata": {
        "id": "3FTqGaknIKvP",
        "colab_type": "code",
        "outputId": "66ff8adf-ce4b-466d-a955-978984456ca8",
        "colab": {
          "base_uri": "https://localhost:8080/",
          "height": 34
        }
      },
      "source": [
        "type(y)"
      ],
      "execution_count": 291,
      "outputs": [
        {
          "output_type": "execute_result",
          "data": {
            "text/plain": [
              "pandas.core.series.Series"
            ]
          },
          "metadata": {
            "tags": []
          },
          "execution_count": 291
        }
      ]
    },
    {
      "cell_type": "code",
      "metadata": {
        "id": "d4CunFHlGtFV",
        "colab_type": "code",
        "outputId": "77ec45ec-8fea-4939-d7a9-a00eecac6928",
        "colab": {
          "base_uri": "https://localhost:8080/",
          "height": 85
        }
      },
      "source": [
        "print(y.index)"
      ],
      "execution_count": 292,
      "outputs": [
        {
          "output_type": "stream",
          "text": [
            "Int64Index([   0,    1,    2,    3,    4,    5,    6,    7,    8,    9,\n",
            "            ...\n",
            "            1273, 1274, 1275, 1276, 1277, 1278, 1279, 1280, 1281, 1282],\n",
            "           dtype='int64', length=12788)\n"
          ],
          "name": "stdout"
        }
      ]
    },
    {
      "cell_type": "code",
      "metadata": {
        "id": "JEAeAwPmGtBR",
        "colab_type": "code",
        "colab": {}
      },
      "source": [
        ""
      ],
      "execution_count": 0,
      "outputs": []
    },
    {
      "cell_type": "code",
      "metadata": {
        "id": "YYa5SU5LwjyB",
        "colab_type": "code",
        "colab": {}
      },
      "source": [
        "# Splitting the dataset into the Training set and Test set\n",
        "from sklearn.model_selection import train_test_split\n",
        "X_train, X_test, y_train, y_test = train_test_split(X, y, test_size = 0.20, random_state = 0)"
      ],
      "execution_count": 0,
      "outputs": []
    },
    {
      "cell_type": "code",
      "metadata": {
        "id": "KP4IZn0DKwIA",
        "colab_type": "code",
        "colab": {}
      },
      "source": [
        "X_train_1 = X_train\n",
        "X_test_1 = X_test\n",
        "y_train_1 = y_train\n",
        "y_test_1 = y_test"
      ],
      "execution_count": 0,
      "outputs": []
    },
    {
      "cell_type": "code",
      "metadata": {
        "id": "XqD0cOZOxOxv",
        "colab_type": "code",
        "outputId": "56d41b1b-bdbc-4c19-b957-e559774b8215",
        "colab": {
          "base_uri": "https://localhost:8080/",
          "height": 119
        }
      },
      "source": [
        "y_train.head()"
      ],
      "execution_count": 295,
      "outputs": [
        {
          "output_type": "execute_result",
          "data": {
            "text/plain": [
              "800     3\n",
              "486     4\n",
              "5183    0\n",
              "6113    3\n",
              "8387    1\n",
              "Name: Label, dtype: int64"
            ]
          },
          "metadata": {
            "tags": []
          },
          "execution_count": 295
        }
      ]
    },
    {
      "cell_type": "code",
      "metadata": {
        "id": "yH9Zdarjwjvk",
        "colab_type": "code",
        "outputId": "3184e554-4fe1-4e65-9d8e-d0ab24f61d09",
        "colab": {
          "base_uri": "https://localhost:8080/",
          "height": 119
        }
      },
      "source": [
        "y_test.head()"
      ],
      "execution_count": 296,
      "outputs": [
        {
          "output_type": "execute_result",
          "data": {
            "text/plain": [
              "634     4\n",
              "9419    5\n",
              "2476    0\n",
              "2064    3\n",
              "1941    1\n",
              "Name: Label, dtype: int64"
            ]
          },
          "metadata": {
            "tags": []
          },
          "execution_count": 296
        }
      ]
    },
    {
      "cell_type": "code",
      "metadata": {
        "id": "5476GMxtbvYE",
        "colab_type": "code",
        "colab": {}
      },
      "source": [
        "X_train_cat = X_train.loc[:,['Speaker',\"Speaker's job title\",'state info','party affiliation','the context (venue/location of speech or statement)']]\n",
        "X_test_cat = X_test.loc[:,['Speaker',\"Speaker's job title\",'state info','party affiliation','the context (venue/location of speech or statement)']]"
      ],
      "execution_count": 0,
      "outputs": []
    },
    {
      "cell_type": "code",
      "metadata": {
        "id": "pfYevP2EycrK",
        "colab_type": "code",
        "outputId": "3648aec1-5aef-4426-f910-718da60e3841",
        "colab": {
          "base_uri": "https://localhost:8080/",
          "height": 238
        }
      },
      "source": [
        "X_train_cat.head()"
      ],
      "execution_count": 298,
      "outputs": [
        {
          "output_type": "execute_result",
          "data": {
            "text/html": [
              "<div>\n",
              "<style scoped>\n",
              "    .dataframe tbody tr th:only-of-type {\n",
              "        vertical-align: middle;\n",
              "    }\n",
              "\n",
              "    .dataframe tbody tr th {\n",
              "        vertical-align: top;\n",
              "    }\n",
              "\n",
              "    .dataframe thead th {\n",
              "        text-align: right;\n",
              "    }\n",
              "</style>\n",
              "<table border=\"1\" class=\"dataframe\">\n",
              "  <thead>\n",
              "    <tr style=\"text-align: right;\">\n",
              "      <th></th>\n",
              "      <th>Speaker</th>\n",
              "      <th>Speaker's job title</th>\n",
              "      <th>state info</th>\n",
              "      <th>party affiliation</th>\n",
              "      <th>the context (venue/location of speech or statement)</th>\n",
              "    </tr>\n",
              "  </thead>\n",
              "  <tbody>\n",
              "    <tr>\n",
              "      <th>800</th>\n",
              "      <td>reader-email</td>\n",
              "      <td>Unknown</td>\n",
              "      <td>Unknown1</td>\n",
              "      <td>none</td>\n",
              "      <td>an email from a reader</td>\n",
              "    </tr>\n",
              "    <tr>\n",
              "      <th>486</th>\n",
              "      <td>americanpoliticnews</td>\n",
              "      <td>Unknown</td>\n",
              "      <td>Unknown1</td>\n",
              "      <td>none</td>\n",
              "      <td>Internet sites</td>\n",
              "    </tr>\n",
              "    <tr>\n",
              "      <th>5183</th>\n",
              "      <td>rand-paul</td>\n",
              "      <td>Candidate for U.S. Senate and physician</td>\n",
              "      <td>Kentucky</td>\n",
              "      <td>republican</td>\n",
              "      <td>an interview with a New Hampshire radio station</td>\n",
              "    </tr>\n",
              "    <tr>\n",
              "      <th>6113</th>\n",
              "      <td>viral-image</td>\n",
              "      <td>Unknown</td>\n",
              "      <td>Unknown1</td>\n",
              "      <td>none</td>\n",
              "      <td>a Facebook post</td>\n",
              "    </tr>\n",
              "    <tr>\n",
              "      <th>8387</th>\n",
              "      <td>rick-perry</td>\n",
              "      <td>Governor</td>\n",
              "      <td>Texas</td>\n",
              "      <td>republican</td>\n",
              "      <td>remarks at the Cornerstone Action Dinner in Ma...</td>\n",
              "    </tr>\n",
              "  </tbody>\n",
              "</table>\n",
              "</div>"
            ],
            "text/plain": [
              "                  Speaker  ... the context (venue/location of speech or statement)\n",
              "800          reader-email  ...                             an email from a reader \n",
              "486   americanpoliticnews  ...                                     Internet sites \n",
              "5183            rand-paul  ...    an interview with a New Hampshire radio station \n",
              "6113          viral-image  ...                                    a Facebook post \n",
              "8387           rick-perry  ...  remarks at the Cornerstone Action Dinner in Ma... \n",
              "\n",
              "[5 rows x 5 columns]"
            ]
          },
          "metadata": {
            "tags": []
          },
          "execution_count": 298
        }
      ]
    },
    {
      "cell_type": "code",
      "metadata": {
        "id": "Ls_hnnDeygFG",
        "colab_type": "code",
        "outputId": "49aaff6c-f326-4ab9-d4a7-39597e2c80dd",
        "colab": {
          "base_uri": "https://localhost:8080/",
          "height": 255
        }
      },
      "source": [
        "X_test_cat.head()"
      ],
      "execution_count": 299,
      "outputs": [
        {
          "output_type": "execute_result",
          "data": {
            "text/html": [
              "<div>\n",
              "<style scoped>\n",
              "    .dataframe tbody tr th:only-of-type {\n",
              "        vertical-align: middle;\n",
              "    }\n",
              "\n",
              "    .dataframe tbody tr th {\n",
              "        vertical-align: top;\n",
              "    }\n",
              "\n",
              "    .dataframe thead th {\n",
              "        text-align: right;\n",
              "    }\n",
              "</style>\n",
              "<table border=\"1\" class=\"dataframe\">\n",
              "  <thead>\n",
              "    <tr style=\"text-align: right;\">\n",
              "      <th></th>\n",
              "      <th>Speaker</th>\n",
              "      <th>Speaker's job title</th>\n",
              "      <th>state info</th>\n",
              "      <th>party affiliation</th>\n",
              "      <th>the context (venue/location of speech or statement)</th>\n",
              "    </tr>\n",
              "  </thead>\n",
              "  <tbody>\n",
              "    <tr>\n",
              "      <th>634</th>\n",
              "      <td>blog-posting</td>\n",
              "      <td>Unknown</td>\n",
              "      <td>Unknown1</td>\n",
              "      <td>none</td>\n",
              "      <td>a posting on many blogs.</td>\n",
              "    </tr>\n",
              "    <tr>\n",
              "      <th>9419</th>\n",
              "      <td>league-women-voters-florida</td>\n",
              "      <td>Unknown</td>\n",
              "      <td>Florida</td>\n",
              "      <td>none</td>\n",
              "      <td>a statement</td>\n",
              "    </tr>\n",
              "    <tr>\n",
              "      <th>2476</th>\n",
              "      <td>leticia-van-de-putte</td>\n",
              "      <td>Pharmacist</td>\n",
              "      <td>Texas</td>\n",
              "      <td>democrat</td>\n",
              "      <td>a debate</td>\n",
              "    </tr>\n",
              "    <tr>\n",
              "      <th>2064</th>\n",
              "      <td>bill-oreilly</td>\n",
              "      <td>Fox News Channel host</td>\n",
              "      <td>Unknown1</td>\n",
              "      <td>none</td>\n",
              "      <td>on Fox News' \"The O'Reilly Factor\"</td>\n",
              "    </tr>\n",
              "    <tr>\n",
              "      <th>1941</th>\n",
              "      <td>charles-schumer</td>\n",
              "      <td>Senator</td>\n",
              "      <td>New York</td>\n",
              "      <td>democrat</td>\n",
              "      <td>a TV interview</td>\n",
              "    </tr>\n",
              "  </tbody>\n",
              "</table>\n",
              "</div>"
            ],
            "text/plain": [
              "                          Speaker  ... the context (venue/location of speech or statement)\n",
              "634                  blog-posting  ...                           a posting on many blogs. \n",
              "9419  league-women-voters-florida  ...                                        a statement \n",
              "2476         leticia-van-de-putte  ...                                           a debate \n",
              "2064                 bill-oreilly  ...                 on Fox News' \"The O'Reilly Factor\" \n",
              "1941              charles-schumer  ...                                     a TV interview \n",
              "\n",
              "[5 rows x 5 columns]"
            ]
          },
          "metadata": {
            "tags": []
          },
          "execution_count": 299
        }
      ]
    },
    {
      "cell_type": "code",
      "metadata": {
        "id": "SZvM8LuaytHn",
        "colab_type": "code",
        "outputId": "a2c4bcda-f0c4-496c-a362-7badddbd610c",
        "colab": {
          "base_uri": "https://localhost:8080/",
          "height": 34
        }
      },
      "source": [
        "X_train_cat.shape, X_test_cat.shape"
      ],
      "execution_count": 300,
      "outputs": [
        {
          "output_type": "execute_result",
          "data": {
            "text/plain": [
              "((10230, 5), (2558, 5))"
            ]
          },
          "metadata": {
            "tags": []
          },
          "execution_count": 300
        }
      ]
    },
    {
      "cell_type": "code",
      "metadata": {
        "id": "5Omurr_X02QJ",
        "colab_type": "code",
        "colab": {}
      },
      "source": [
        "X_train_cat = X_train.loc[:,['Speaker',\"Speaker's job title\",'state info','party affiliation','the context (venue/location of speech or statement)']]\n",
        "X_test_cat = X_test.loc[:,['Speaker',\"Speaker's job title\",'state info','party affiliation','the context (venue/location of speech or statement)']]"
      ],
      "execution_count": 0,
      "outputs": []
    },
    {
      "cell_type": "code",
      "metadata": {
        "id": "LTnmfl9T2nx7",
        "colab_type": "code",
        "colab": {}
      },
      "source": [
        "labelencoder = LabelEncoder()\n",
        "labelencoder.fit(X_train_cat.iloc[:,0].values)\n",
        "X_train_cat.iloc[:,0]=labelencoder.transform(X_train_cat.iloc[:,0])"
      ],
      "execution_count": 0,
      "outputs": []
    },
    {
      "cell_type": "code",
      "metadata": {
        "id": "KIC52pr847qq",
        "colab_type": "code",
        "colab": {}
      },
      "source": [
        "labelencoder.fit(X_test_cat.iloc[:,0].values)\n",
        "X_test_cat.iloc[:,0]=labelencoder.transform(X_test_cat.iloc[:,0])"
      ],
      "execution_count": 0,
      "outputs": []
    },
    {
      "cell_type": "code",
      "metadata": {
        "id": "2fQhvu2V2nvT",
        "colab_type": "code",
        "colab": {}
      },
      "source": [
        "labelencoder.fit(X_train_cat.iloc[:,1].values)\n",
        "X_train_cat.iloc[:,1]=labelencoder.transform(X_train_cat.iloc[:,1])"
      ],
      "execution_count": 0,
      "outputs": []
    },
    {
      "cell_type": "code",
      "metadata": {
        "id": "tKtlshdy5SZ3",
        "colab_type": "code",
        "colab": {}
      },
      "source": [
        "labelencoder.fit(X_test_cat.iloc[:,1].values)\n",
        "X_test_cat.iloc[:,1]=labelencoder.transform(X_test_cat.iloc[:,1])"
      ],
      "execution_count": 0,
      "outputs": []
    },
    {
      "cell_type": "code",
      "metadata": {
        "id": "O_JGDMV_2nsQ",
        "colab_type": "code",
        "colab": {}
      },
      "source": [
        "labelencoder.fit(X_train_cat.iloc[:,2].values)\n",
        "X_train_cat.iloc[:,2]=labelencoder.transform(X_train_cat.iloc[:,2])"
      ],
      "execution_count": 0,
      "outputs": []
    },
    {
      "cell_type": "code",
      "metadata": {
        "id": "EvaIg-Rw5YtJ",
        "colab_type": "code",
        "colab": {}
      },
      "source": [
        "labelencoder.fit(X_test_cat.iloc[:,2].values)\n",
        "X_test_cat.iloc[:,2]=labelencoder.transform(X_test_cat.iloc[:,2])"
      ],
      "execution_count": 0,
      "outputs": []
    },
    {
      "cell_type": "code",
      "metadata": {
        "id": "iR2N8luy2no8",
        "colab_type": "code",
        "colab": {}
      },
      "source": [
        "labelencoder.fit(X_train_cat.iloc[:,3].values)\n",
        "X_train_cat.iloc[:,3]=labelencoder.transform(X_train_cat.iloc[:,3])"
      ],
      "execution_count": 0,
      "outputs": []
    },
    {
      "cell_type": "code",
      "metadata": {
        "id": "fhCZe3gC5pY0",
        "colab_type": "code",
        "colab": {}
      },
      "source": [
        "labelencoder.fit(X_test_cat.iloc[:,3].values)\n",
        "X_test_cat.iloc[:,3]=labelencoder.transform(X_test_cat.iloc[:,3])"
      ],
      "execution_count": 0,
      "outputs": []
    },
    {
      "cell_type": "code",
      "metadata": {
        "id": "5-Zne9bb325q",
        "colab_type": "code",
        "colab": {}
      },
      "source": [
        "labelencoder.fit(X_train_cat.iloc[:,4].values)\n",
        "X_train_cat.iloc[:,4]=labelencoder.transform(X_train_cat.iloc[:,4])"
      ],
      "execution_count": 0,
      "outputs": []
    },
    {
      "cell_type": "code",
      "metadata": {
        "id": "DQ7rVfU05vmv",
        "colab_type": "code",
        "colab": {}
      },
      "source": [
        "labelencoder.fit(X_test_cat.iloc[:,4].values)\n",
        "X_test_cat.iloc[:,4]=labelencoder.transform(X_test_cat.iloc[:,4])"
      ],
      "execution_count": 0,
      "outputs": []
    },
    {
      "cell_type": "code",
      "metadata": {
        "id": "t4vN5XYy3spP",
        "colab_type": "code",
        "outputId": "226393ba-7a07-4099-c7ac-98ae5c98d022",
        "colab": {
          "base_uri": "https://localhost:8080/",
          "height": 221
        }
      },
      "source": [
        "X_train_cat.head()"
      ],
      "execution_count": 312,
      "outputs": [
        {
          "output_type": "execute_result",
          "data": {
            "text/html": [
              "<div>\n",
              "<style scoped>\n",
              "    .dataframe tbody tr th:only-of-type {\n",
              "        vertical-align: middle;\n",
              "    }\n",
              "\n",
              "    .dataframe tbody tr th {\n",
              "        vertical-align: top;\n",
              "    }\n",
              "\n",
              "    .dataframe thead th {\n",
              "        text-align: right;\n",
              "    }\n",
              "</style>\n",
              "<table border=\"1\" class=\"dataframe\">\n",
              "  <thead>\n",
              "    <tr style=\"text-align: right;\">\n",
              "      <th></th>\n",
              "      <th>Speaker</th>\n",
              "      <th>Speaker's job title</th>\n",
              "      <th>state info</th>\n",
              "      <th>party affiliation</th>\n",
              "      <th>the context (venue/location of speech or statement)</th>\n",
              "    </tr>\n",
              "  </thead>\n",
              "  <tbody>\n",
              "    <tr>\n",
              "      <th>800</th>\n",
              "      <td>2243</td>\n",
              "      <td>952</td>\n",
              "      <td>63</td>\n",
              "      <td>17</td>\n",
              "      <td>2698</td>\n",
              "    </tr>\n",
              "    <tr>\n",
              "      <th>486</th>\n",
              "      <td>91</td>\n",
              "      <td>952</td>\n",
              "      <td>63</td>\n",
              "      <td>17</td>\n",
              "      <td>155</td>\n",
              "    </tr>\n",
              "    <tr>\n",
              "      <th>5183</th>\n",
              "      <td>2224</td>\n",
              "      <td>122</td>\n",
              "      <td>24</td>\n",
              "      <td>20</td>\n",
              "      <td>3179</td>\n",
              "    </tr>\n",
              "    <tr>\n",
              "      <th>6113</th>\n",
              "      <td>2792</td>\n",
              "      <td>952</td>\n",
              "      <td>63</td>\n",
              "      <td>17</td>\n",
              "      <td>374</td>\n",
              "    </tr>\n",
              "    <tr>\n",
              "      <th>8387</th>\n",
              "      <td>2299</td>\n",
              "      <td>383</td>\n",
              "      <td>60</td>\n",
              "      <td>20</td>\n",
              "      <td>4023</td>\n",
              "    </tr>\n",
              "  </tbody>\n",
              "</table>\n",
              "</div>"
            ],
            "text/plain": [
              "      Speaker  ...  the context (venue/location of speech or statement)\n",
              "800      2243  ...                                               2698  \n",
              "486        91  ...                                                155  \n",
              "5183     2224  ...                                               3179  \n",
              "6113     2792  ...                                                374  \n",
              "8387     2299  ...                                               4023  \n",
              "\n",
              "[5 rows x 5 columns]"
            ]
          },
          "metadata": {
            "tags": []
          },
          "execution_count": 312
        }
      ]
    },
    {
      "cell_type": "code",
      "metadata": {
        "id": "rJVojyI86tj5",
        "colab_type": "code",
        "outputId": "013e60f2-8557-4cb6-885f-1fe44b6c8d45",
        "colab": {
          "base_uri": "https://localhost:8080/",
          "height": 221
        }
      },
      "source": [
        "X_test_cat.head()"
      ],
      "execution_count": 313,
      "outputs": [
        {
          "output_type": "execute_result",
          "data": {
            "text/html": [
              "<div>\n",
              "<style scoped>\n",
              "    .dataframe tbody tr th:only-of-type {\n",
              "        vertical-align: middle;\n",
              "    }\n",
              "\n",
              "    .dataframe tbody tr th {\n",
              "        vertical-align: top;\n",
              "    }\n",
              "\n",
              "    .dataframe thead th {\n",
              "        text-align: right;\n",
              "    }\n",
              "</style>\n",
              "<table border=\"1\" class=\"dataframe\">\n",
              "  <thead>\n",
              "    <tr style=\"text-align: right;\">\n",
              "      <th></th>\n",
              "      <th>Speaker</th>\n",
              "      <th>Speaker's job title</th>\n",
              "      <th>state info</th>\n",
              "      <th>party affiliation</th>\n",
              "      <th>the context (venue/location of speech or statement)</th>\n",
              "    </tr>\n",
              "  </thead>\n",
              "  <tbody>\n",
              "    <tr>\n",
              "      <th>634</th>\n",
              "      <td>111</td>\n",
              "      <td>395</td>\n",
              "      <td>45</td>\n",
              "      <td>11</td>\n",
              "      <td>514</td>\n",
              "    </tr>\n",
              "    <tr>\n",
              "      <th>9419</th>\n",
              "      <td>661</td>\n",
              "      <td>395</td>\n",
              "      <td>10</td>\n",
              "      <td>11</td>\n",
              "      <td>726</td>\n",
              "    </tr>\n",
              "    <tr>\n",
              "      <th>2476</th>\n",
              "      <td>667</td>\n",
              "      <td>245</td>\n",
              "      <td>44</td>\n",
              "      <td>4</td>\n",
              "      <td>348</td>\n",
              "    </tr>\n",
              "    <tr>\n",
              "      <th>2064</th>\n",
              "      <td>103</td>\n",
              "      <td>148</td>\n",
              "      <td>45</td>\n",
              "      <td>11</td>\n",
              "      <td>1293</td>\n",
              "    </tr>\n",
              "    <tr>\n",
              "      <th>1941</th>\n",
              "      <td>174</td>\n",
              "      <td>312</td>\n",
              "      <td>33</td>\n",
              "      <td>4</td>\n",
              "      <td>197</td>\n",
              "    </tr>\n",
              "  </tbody>\n",
              "</table>\n",
              "</div>"
            ],
            "text/plain": [
              "      Speaker  ...  the context (venue/location of speech or statement)\n",
              "634       111  ...                                                514  \n",
              "9419      661  ...                                                726  \n",
              "2476      667  ...                                                348  \n",
              "2064      103  ...                                               1293  \n",
              "1941      174  ...                                                197  \n",
              "\n",
              "[5 rows x 5 columns]"
            ]
          },
          "metadata": {
            "tags": []
          },
          "execution_count": 313
        }
      ]
    },
    {
      "cell_type": "code",
      "metadata": {
        "id": "xwMtlbWEs_2A",
        "colab_type": "code",
        "colab": {}
      },
      "source": [
        "#x = x_data(data)  #data set"
      ],
      "execution_count": 0,
      "outputs": []
    },
    {
      "cell_type": "code",
      "metadata": {
        "id": "daLOLynD3JXp",
        "colab_type": "code",
        "colab": {}
      },
      "source": [
        "#x1 = x_data(data)"
      ],
      "execution_count": 0,
      "outputs": []
    },
    {
      "cell_type": "code",
      "metadata": {
        "id": "FCowIICLEXUD",
        "colab_type": "code",
        "colab": {}
      },
      "source": [
        "#x.shape, x1.shape"
      ],
      "execution_count": 0,
      "outputs": []
    },
    {
      "cell_type": "code",
      "metadata": {
        "id": "RwdyWK6c17rj",
        "colab_type": "code",
        "colab": {}
      },
      "source": [
        "X_train_cont = X_train.loc[:,['barely true counts','false counts',\"half true counts\",'mostly true counts','pants on fire counts']]\n",
        "X_test_cont = X_test.loc[:,['barely true counts','false counts',\"half true counts\",'mostly true counts','pants on fire counts']]"
      ],
      "execution_count": 0,
      "outputs": []
    },
    {
      "cell_type": "code",
      "metadata": {
        "id": "833ElA6f2qzC",
        "colab_type": "code",
        "outputId": "85b89d53-dfc3-4b83-adf6-9344a9794603",
        "colab": {
          "base_uri": "https://localhost:8080/",
          "height": 204
        }
      },
      "source": [
        "X_train_cont.head()"
      ],
      "execution_count": 318,
      "outputs": [
        {
          "output_type": "execute_result",
          "data": {
            "text/html": [
              "<div>\n",
              "<style scoped>\n",
              "    .dataframe tbody tr th:only-of-type {\n",
              "        vertical-align: middle;\n",
              "    }\n",
              "\n",
              "    .dataframe tbody tr th {\n",
              "        vertical-align: top;\n",
              "    }\n",
              "\n",
              "    .dataframe thead th {\n",
              "        text-align: right;\n",
              "    }\n",
              "</style>\n",
              "<table border=\"1\" class=\"dataframe\">\n",
              "  <thead>\n",
              "    <tr style=\"text-align: right;\">\n",
              "      <th></th>\n",
              "      <th>barely true counts</th>\n",
              "      <th>false counts</th>\n",
              "      <th>half true counts</th>\n",
              "      <th>mostly true counts</th>\n",
              "      <th>pants on fire counts</th>\n",
              "    </tr>\n",
              "  </thead>\n",
              "  <tbody>\n",
              "    <tr>\n",
              "      <th>800</th>\n",
              "      <td>0.0</td>\n",
              "      <td>0.0</td>\n",
              "      <td>0.0</td>\n",
              "      <td>1.0</td>\n",
              "      <td>1.0</td>\n",
              "    </tr>\n",
              "    <tr>\n",
              "      <th>486</th>\n",
              "      <td>0.0</td>\n",
              "      <td>0.0</td>\n",
              "      <td>0.0</td>\n",
              "      <td>0.0</td>\n",
              "      <td>1.0</td>\n",
              "    </tr>\n",
              "    <tr>\n",
              "      <th>5183</th>\n",
              "      <td>7.0</td>\n",
              "      <td>8.0</td>\n",
              "      <td>10.0</td>\n",
              "      <td>12.0</td>\n",
              "      <td>3.0</td>\n",
              "    </tr>\n",
              "    <tr>\n",
              "      <th>6113</th>\n",
              "      <td>5.0</td>\n",
              "      <td>5.0</td>\n",
              "      <td>0.0</td>\n",
              "      <td>3.0</td>\n",
              "      <td>15.0</td>\n",
              "    </tr>\n",
              "    <tr>\n",
              "      <th>8387</th>\n",
              "      <td>30.0</td>\n",
              "      <td>30.0</td>\n",
              "      <td>42.0</td>\n",
              "      <td>23.0</td>\n",
              "      <td>18.0</td>\n",
              "    </tr>\n",
              "  </tbody>\n",
              "</table>\n",
              "</div>"
            ],
            "text/plain": [
              "      barely true counts  ...  pants on fire counts\n",
              "800                  0.0  ...                   1.0\n",
              "486                  0.0  ...                   1.0\n",
              "5183                 7.0  ...                   3.0\n",
              "6113                 5.0  ...                  15.0\n",
              "8387                30.0  ...                  18.0\n",
              "\n",
              "[5 rows x 5 columns]"
            ]
          },
          "metadata": {
            "tags": []
          },
          "execution_count": 318
        }
      ]
    },
    {
      "cell_type": "code",
      "metadata": {
        "id": "LoGVymb_7gMZ",
        "colab_type": "code",
        "outputId": "7175df53-dd4b-4e6c-ef41-a9cf15ebbe09",
        "colab": {
          "base_uri": "https://localhost:8080/",
          "height": 204
        }
      },
      "source": [
        "X_test_cont.head()"
      ],
      "execution_count": 319,
      "outputs": [
        {
          "output_type": "execute_result",
          "data": {
            "text/html": [
              "<div>\n",
              "<style scoped>\n",
              "    .dataframe tbody tr th:only-of-type {\n",
              "        vertical-align: middle;\n",
              "    }\n",
              "\n",
              "    .dataframe tbody tr th {\n",
              "        vertical-align: top;\n",
              "    }\n",
              "\n",
              "    .dataframe thead th {\n",
              "        text-align: right;\n",
              "    }\n",
              "</style>\n",
              "<table border=\"1\" class=\"dataframe\">\n",
              "  <thead>\n",
              "    <tr style=\"text-align: right;\">\n",
              "      <th></th>\n",
              "      <th>barely true counts</th>\n",
              "      <th>false counts</th>\n",
              "      <th>half true counts</th>\n",
              "      <th>mostly true counts</th>\n",
              "      <th>pants on fire counts</th>\n",
              "    </tr>\n",
              "  </thead>\n",
              "  <tbody>\n",
              "    <tr>\n",
              "      <th>634</th>\n",
              "      <td>7.0</td>\n",
              "      <td>19.0</td>\n",
              "      <td>3.0</td>\n",
              "      <td>5.0</td>\n",
              "      <td>44.0</td>\n",
              "    </tr>\n",
              "    <tr>\n",
              "      <th>9419</th>\n",
              "      <td>0.0</td>\n",
              "      <td>0.0</td>\n",
              "      <td>0.0</td>\n",
              "      <td>0.0</td>\n",
              "      <td>0.0</td>\n",
              "    </tr>\n",
              "    <tr>\n",
              "      <th>2476</th>\n",
              "      <td>2.0</td>\n",
              "      <td>2.0</td>\n",
              "      <td>4.0</td>\n",
              "      <td>1.0</td>\n",
              "      <td>1.0</td>\n",
              "    </tr>\n",
              "    <tr>\n",
              "      <th>2064</th>\n",
              "      <td>4.0</td>\n",
              "      <td>6.0</td>\n",
              "      <td>3.0</td>\n",
              "      <td>5.0</td>\n",
              "      <td>1.0</td>\n",
              "    </tr>\n",
              "    <tr>\n",
              "      <th>1941</th>\n",
              "      <td>2.0</td>\n",
              "      <td>2.0</td>\n",
              "      <td>2.0</td>\n",
              "      <td>3.0</td>\n",
              "      <td>0.0</td>\n",
              "    </tr>\n",
              "  </tbody>\n",
              "</table>\n",
              "</div>"
            ],
            "text/plain": [
              "      barely true counts  ...  pants on fire counts\n",
              "634                  7.0  ...                  44.0\n",
              "9419                 0.0  ...                   0.0\n",
              "2476                 2.0  ...                   1.0\n",
              "2064                 4.0  ...                   1.0\n",
              "1941                 2.0  ...                   0.0\n",
              "\n",
              "[5 rows x 5 columns]"
            ]
          },
          "metadata": {
            "tags": []
          },
          "execution_count": 319
        }
      ]
    },
    {
      "cell_type": "code",
      "metadata": {
        "id": "TWCTFPiG94Rs",
        "colab_type": "code",
        "colab": {}
      },
      "source": [
        "X_train_text = X_train.loc[:,['Statement']]\n",
        "X_test_text = X_test.loc[:,['Statement']]"
      ],
      "execution_count": 0,
      "outputs": []
    },
    {
      "cell_type": "code",
      "metadata": {
        "id": "bZq2lcJH94ec",
        "colab_type": "code",
        "outputId": "cdffadda-ae99-4f60-f484-5022b5019ce6",
        "colab": {
          "base_uri": "https://localhost:8080/",
          "height": 204
        }
      },
      "source": [
        "X_train_text.head()"
      ],
      "execution_count": 321,
      "outputs": [
        {
          "output_type": "execute_result",
          "data": {
            "text/html": [
              "<div>\n",
              "<style scoped>\n",
              "    .dataframe tbody tr th:only-of-type {\n",
              "        vertical-align: middle;\n",
              "    }\n",
              "\n",
              "    .dataframe tbody tr th {\n",
              "        vertical-align: top;\n",
              "    }\n",
              "\n",
              "    .dataframe thead th {\n",
              "        text-align: right;\n",
              "    }\n",
              "</style>\n",
              "<table border=\"1\" class=\"dataframe\">\n",
              "  <thead>\n",
              "    <tr style=\"text-align: right;\">\n",
              "      <th></th>\n",
              "      <th>Statement</th>\n",
              "    </tr>\n",
              "  </thead>\n",
              "  <tbody>\n",
              "    <tr>\n",
              "      <th>800</th>\n",
              "      <td>atlanta issu increas number citat collect incr...</td>\n",
              "    </tr>\n",
              "    <tr>\n",
              "      <th>486</th>\n",
              "      <td>denzel washington support donald trump speak b...</td>\n",
              "    </tr>\n",
              "    <tr>\n",
              "      <th>5183</th>\n",
              "      <td>ebola incred contagi transmiss easi catch</td>\n",
              "    </tr>\n",
              "    <tr>\n",
              "      <th>6113</th>\n",
              "      <td>number american kill terror last decad number ...</td>\n",
              "    </tr>\n",
              "    <tr>\n",
              "      <th>8387</th>\n",
              "      <td>energi effici legisl sponsor us sen jeann shah...</td>\n",
              "    </tr>\n",
              "  </tbody>\n",
              "</table>\n",
              "</div>"
            ],
            "text/plain": [
              "                                              Statement\n",
              "800   atlanta issu increas number citat collect incr...\n",
              "486   denzel washington support donald trump speak b...\n",
              "5183          ebola incred contagi transmiss easi catch\n",
              "6113  number american kill terror last decad number ...\n",
              "8387  energi effici legisl sponsor us sen jeann shah..."
            ]
          },
          "metadata": {
            "tags": []
          },
          "execution_count": 321
        }
      ]
    },
    {
      "cell_type": "code",
      "metadata": {
        "id": "Hrz14iz994bP",
        "colab_type": "code",
        "outputId": "38b69f23-d505-41d1-d35d-62d9e52295fb",
        "colab": {
          "base_uri": "https://localhost:8080/",
          "height": 204
        }
      },
      "source": [
        "X_test_text.head()"
      ],
      "execution_count": 322,
      "outputs": [
        {
          "output_type": "execute_result",
          "data": {
            "text/html": [
              "<div>\n",
              "<style scoped>\n",
              "    .dataframe tbody tr th:only-of-type {\n",
              "        vertical-align: middle;\n",
              "    }\n",
              "\n",
              "    .dataframe tbody tr th {\n",
              "        vertical-align: top;\n",
              "    }\n",
              "\n",
              "    .dataframe thead th {\n",
              "        text-align: right;\n",
              "    }\n",
              "</style>\n",
              "<table border=\"1\" class=\"dataframe\">\n",
              "  <thead>\n",
              "    <tr style=\"text-align: right;\">\n",
              "      <th></th>\n",
              "      <th>Statement</th>\n",
              "    </tr>\n",
              "  </thead>\n",
              "  <tbody>\n",
              "    <tr>\n",
              "      <th>634</th>\n",
              "      <td>barack wrote thesi columbia univers critic plu...</td>\n",
              "    </tr>\n",
              "    <tr>\n",
              "      <th>9419</th>\n",
              "      <td>us depart homeland secur warn save databas foo...</td>\n",
              "    </tr>\n",
              "    <tr>\n",
              "      <th>2476</th>\n",
              "      <td>statehir compani evalu statemand student exam ...</td>\n",
              "    </tr>\n",
              "    <tr>\n",
              "      <th>2064</th>\n",
              "      <td>righttowork state much lower level unemploy un...</td>\n",
              "    </tr>\n",
              "    <tr>\n",
              "      <th>1941</th>\n",
              "      <td>bridg nowher could occur</td>\n",
              "    </tr>\n",
              "  </tbody>\n",
              "</table>\n",
              "</div>"
            ],
            "text/plain": [
              "                                              Statement\n",
              "634   barack wrote thesi columbia univers critic plu...\n",
              "9419  us depart homeland secur warn save databas foo...\n",
              "2476  statehir compani evalu statemand student exam ...\n",
              "2064  righttowork state much lower level unemploy un...\n",
              "1941                           bridg nowher could occur"
            ]
          },
          "metadata": {
            "tags": []
          },
          "execution_count": 322
        }
      ]
    },
    {
      "cell_type": "code",
      "metadata": {
        "id": "GcSViQQy-_o-",
        "colab_type": "code",
        "outputId": "28cba75e-dd3f-49bf-a1d2-c6994dbac4cb",
        "colab": {
          "base_uri": "https://localhost:8080/",
          "height": 119
        }
      },
      "source": [
        "y_train.head()"
      ],
      "execution_count": 323,
      "outputs": [
        {
          "output_type": "execute_result",
          "data": {
            "text/plain": [
              "800     3\n",
              "486     4\n",
              "5183    0\n",
              "6113    3\n",
              "8387    1\n",
              "Name: Label, dtype: int64"
            ]
          },
          "metadata": {
            "tags": []
          },
          "execution_count": 323
        }
      ]
    },
    {
      "cell_type": "code",
      "metadata": {
        "id": "70e3EqojoN0v",
        "colab_type": "code",
        "outputId": "e6c90ed8-c6ae-4ecf-e924-85dcb0afcff0",
        "colab": {
          "base_uri": "https://localhost:8080/",
          "height": 119
        }
      },
      "source": [
        "y_test.head()"
      ],
      "execution_count": 324,
      "outputs": [
        {
          "output_type": "execute_result",
          "data": {
            "text/plain": [
              "634     4\n",
              "9419    5\n",
              "2476    0\n",
              "2064    3\n",
              "1941    1\n",
              "Name: Label, dtype: int64"
            ]
          },
          "metadata": {
            "tags": []
          },
          "execution_count": 324
        }
      ]
    },
    {
      "cell_type": "code",
      "metadata": {
        "id": "rfZc3BfpoR25",
        "colab_type": "code",
        "colab": {}
      },
      "source": [
        "#pd.DataFrame(y_data).nunique()"
      ],
      "execution_count": 0,
      "outputs": []
    },
    {
      "cell_type": "code",
      "metadata": {
        "id": "kgxvggtCsLm4",
        "colab_type": "code",
        "colab": {}
      },
      "source": [
        "# Converting the Text into list\n",
        "stat_data_train = X_train_text['Statement'].tolist()\n",
        "stat_data_test = X_test_text['Statement'].tolist()\n",
        "#stat_test = test['Statement'].tolist()\n",
        "\n",
        "# Adding data and test data\n",
        "lis_stat = stat_data_train + stat_data_test"
      ],
      "execution_count": 0,
      "outputs": []
    },
    {
      "cell_type": "code",
      "metadata": {
        "id": "z2__ULMPsLkd",
        "colab_type": "code",
        "outputId": "eb45b1f7-2202-44b6-dc46-b47dbdaa6f20",
        "colab": {
          "base_uri": "https://localhost:8080/",
          "height": 88
        }
      },
      "source": [
        "#Fitting TFIDF on summary\n",
        "tfv_sum = TfidfVectorizer(max_features=5000, lowercase=True, analyzer='word',\n",
        " stop_words= 'english',ngram_range=(1,1))\n",
        "# Fitting TF-IDF to both dataing and data sets (semi-supervised learning)\n",
        "tfv_sum.fit(lis_stat)\n",
        "print(tfv_sum.vocabulary_)\n",
        "print(tfv_sum.idf_)\n",
        "xtrain_tfv_sum =  tfv_sum.transform(stat_data_train).toarray()\n",
        "xtest_tfv_sum = tfv_sum.transform(stat_data_test).toarray()\n",
        "type(xtrain_tfv_sum)"
      ],
      "execution_count": 327,
      "outputs": [
        {
          "output_type": "stream",
          "text": [
            "{'atlanta': 282, 'issu': 2290, 'increas': 2181, 'number': 3027, 'citat': 794, 'collect': 854, 'revenu': 3789, 'sinc': 4098, 'mayor': 2708, 'kasim': 2373, 'reed': 3677, 'took': 4545, 'offic': 3063, 'washington': 4843, 'support': 4376, 'donald': 1320, 'trump': 4628, 'speak': 4201, 'barack': 349, 'ebola': 1399, 'incred': 2183, 'easi': 1392, 'catch': 681, 'american': 166, 'kill': 2397, 'terror': 4477, 'decad': 1130, 'gun': 1942, 'energi': 1461, 'effici': 1409, 'legisl': 2502, 'sponsor': 4224, 'sen': 4005, 'jeann': 2310, 'shaheen': 4040, 'feder': 1625, 'bureaucrat': 589, 'local': 2574, 'build': 575, 'code': 845, 'enforc': 1462, 'citi': 796, 'socal': 4149, 'green': 1912, 'mandat': 2650, 'compli': 891, 'quickli': 3579, 'union': 4704, 'creat': 1037, 'work': 4947, 'day': 1108, 'hour': 2104, 'week': 4872, 'henri': 2022, 'ford': 1713, 'record': 3659, 'marquett': 2677, 'univers': 4707, 'statist': 4268, 'bear': 381, 'time': 4528, 'countri': 1014, 'make': 2640, 'restrict': 3776, 'abort': 16, 'law': 2473, 'fatal': 1616, 'actual': 55, 'histori': 2057, 'wisconsin': 4927, 'govern': 1887, 'job': 2333, 'manufactur': 2660, 'new': 2960, 'jersey': 2319, 'seven': 4031, 'credit': 1042, 'downgrad': 1335, 'chri': 774, 'christi': 776, 'becam': 385, 'governor': 1891, 'school': 3951, 'pupil': 3560, 'decreas': 1138, 'past': 3224, 'congressman': 926, 'robert': 3841, 'hurt': 2125, 'plan': 3351, 'cut': 1077, 'educ': 1406, 'fact': 1583, 'nation': 2925, 'debt': 1127, 'million': 2799, 'today': 4535, 'rise': 3826, 'middleclass': 2783, 'famili': 1601, 'america': 165, 'pay': 3243, 'wealthi': 4861, 'tap': 4433, 'porn': 3401, 'lawyer': 2478, 'justic': 2363, 'ago': 99, 'john': 2337, 'mccain': 2710, 'offer': 3062, 'said': 3901, 'ban': 343, 'candid': 633, 'regist': 3693, 'lobbyist': 2572, 'basebal': 366, 'bat': 372, 'hammer': 1966, 'weve': 4886, 'unemploy': 4692, 'higher': 2037, 'averag': 314, 'oregon': 3110, 'elorza': 1435, 'want': 4831, 'impos': 2159, 'municip': 2902, 'incom': 2175, 'troop': 4620, 'whine': 4891, 'cost': 999, 'war': 4832, 'retain': 3779, 'taxpay': 4445, 'expens': 1551, 'thank': 4488, 'polici': 3381, 'dollar': 1314, 'raini': 3601, 'fund': 1792, 'consecut': 932, 'hed': 2012, 'deport': 1194, 'mock': 2839, 'someon': 4168, 'disabl': 1250, 'ga': 1802, 'price': 3473, 'exxon': 1577, 'mobil': 2838, 'profit': 3509, 'propos': 3528, 'transport': 4589, 'project': 3514, 'spend': 4212, 'singl': 4100, 'vehicl': 4769, 'road': 3835, 'morn': 2871, 'commut': 878, 'bradi': 516, 'campaign': 622, 'given': 1858, 'rate': 3621, 'budget': 570, 'ted': 4458, 'cruz': 1064, 'vote': 4812, 'senat': 4006, 'defens': 1155, 'liber': 2522, 'dnc': 1301, 'chairman': 720, 'tim': 4527, 'kain': 2368, 'billion': 438, 'stimulu': 4284, 'fail': 1590, 'bruce': 559, 'ticket': 4520, 'sold': 4158, 'cancel': 631, 'didnt': 1231, 'sale': 3905, 'purchas': 3561, 'background': 325, 'check': 749, 'suprem': 4380, 'court': 1018, 'tradit': 4573, 'ask': 260, 'lot': 2598, 'question': 3577, 'oral': 3104, 'argument': 239, 'bush': 597, 'interview': 2256, 'york': 4982, 'entir': 1476, 'presid': 3462, 'hillari': 2050, 'clinton': 822, 'return': 3784, 'saw': 3929, 'come': 863, 'donor': 1324, 'foundat': 1739, 'benefit': 411, 'depart': 1190, 'term': 4472, 'seen': 3992, 'hate': 1995, 'crime': 1046, 'skyrocket': 4121, 'wake': 4823, 'immigr': 2151, 'debat': 1124, 'senior': 4008, 'medicar': 2734, 'obamacar': 3040, 'gov': 1886, 'scott': 3959, 'walker': 4825, 'elimin': 1431, 'cancer': 632, 'screen': 3963, 'uninsur': 4702, 'women': 4942, 'altern': 152, 'brown': 558, 'reward': 3796, 'compani': 880, 'ship': 4058, 'oversea': 3157, 'food': 1704, 'stamp': 4248, 'center': 702, 'program': 3510, 'administ': 64, 'foreign': 1716, 'shore': 4064, 'care': 651, 'real': 3635, 'estat': 1502, 'transact': 4580, 'subject': 4336, 'cheerlead': 750, 'dalla': 1087, 'cowboy': 1024, 'world': 4953, 'bob': 474, 'hope': 2091, 'milwauke': 2803, 'polic': 3379, 'chief': 759, 'basic': 369, 'caus': 689, 'know': 2419, 'pull': 3557, 'truth': 4631, 'matter': 2703, 'start': 4256, 'physic': 3324, 'iraq': 2274, 'logist': 2578, 'shutdown': 4078, 'disrupt': 1281, 'veteran': 4780, 'hous': 2106, 'repres': 3745, 'extend': 1568, 'rhode': 3799, 'island': 2285, 'tax': 4442, 'sotomayor': 4181, 'rule': 3878, 'white': 4893, 'firefight': 1664, 'ricci': 3803, 'basi': 368, 'thought': 4512, 'minor': 2811, 'prefer': 3444, 'skin': 4118, 'color': 856, 'discrimin': 1262, 'total': 4553, 'commit': 871, 'repay': 3738, 'good': 1879, 'promis': 3517, 'fisher': 1670, 'tri': 4608, 'expand': 1547, 'texa': 4482, 'offici': 3064, 'resolut': 3765, 'forc': 1711, 'texan': 4483, 'document': 1304, 'mike': 2790, 'penc': 3266, 'rid': 3812, 'birthright': 450, 'citizenship': 798, 'child': 760, 'born': 495, 'prematur': 3450, 'accord': 36, 'word': 4946, 'young': 4986, 'account': 37, 'shock': 4059, 'hiv': 2060, 'infect': 2200, 'africa': 89, 'biennium': 432, 'primari': 3476, 'secondari': 3979, 'student': 4325, 'half': 1958, 'alon': 148, 'taken': 4423, 'vacat': 4754, 'gener': 1831, 'congress': 924, 'joke': 2342, 'illeg': 2146, 'alien': 133, 'militari': 2793, 'instal': 2230, 'floridian': 1693, 'privat': 3489, 'sector': 3988, 'net': 2952, 'month': 2861, 'reform': 3685, 'rais': 3602, 'deficit': 1158, 'parti': 3204, 'republican': 3749, 'solid': 4161, 'evid': 1520, 'earth': 1389, 'warm': 4835, 'tea': 4449, 'say': 3930, 'iranian': 2273, 'woman': 4941, 'hair': 1955, 'public': 3550, 'risk': 3828, 'beaten': 383, 'david': 1107, 'cicillin': 787, 'tougher': 4557, 'abus': 26, 'domest': 1318, 'elderli': 1421, 'mitt': 2832, 'romney': 3853, 'parenthood': 3199, 'medic': 2732, 'board': 471, 'prolif': 3515, 'group': 1921, 'joann': 2332, 'kloppenburg': 2415, 'told': 4539, 'think': 4503, 'promot': 3518, 'equal': 1487, 'societi': 4153, 'sonia': 4174, 'nato': 2928, 'exercis': 1541, 'dont': 1325, 'equip': 1488, 'train': 4579, 'purpos': 3563, 'spot': 4226, 'liberia': 2523, 'produc': 3502, 'onethird': 3089, 'electr': 1424, 'footbal': 1708, 'stadium': 4239, 'consum': 948, 'peak': 3254, 'obama': 3039, 'decis': 1134, 'permit': 3289, 'keyston': 2392, 'xl': 4974, 'pipelin': 3342, 'meant': 2723, 'deni': 1185, 'abil': 10, 'immedi': 2150, 'reduc': 3675, 'pump': 3558, 'gay': 1823, 'pride': 3474, 'noth': 3016, 'intern': 2249, 'flight': 1685, 'jet': 2324, 'daili': 1084, 'approxim': 227, 'size': 4116, 'doubl': 1329, 'grown': 1924, 'action': 51, 'insur': 2240, 'afford': 85, 'act': 50, 'safeti': 3900, 'greater': 1909, 'harm': 1987, 'thousand': 4513, 'includ': 2174, 'cornyn': 990, 'greg': 1915, 'abbott': 6, 'paid': 3178, 'premium': 3452, 'payrol': 3249, 'rest': 3773, 'rep': 3734, 'barrow': 363, 'sanford': 3918, 'bishop': 452, 'fellow': 1631, 'democrat': 1182, 'went': 4881, 'spree': 4229, 'card': 650, 'max': 2705, 'ann': 183, 'kuster': 2437, 'turn': 4642, 'blind': 459, 'eye': 1579, 'need': 2943, 'lowincom': 2612, 'children': 765, 'institut': 2235, 'face': 1580, 'someth': 4169, 'pass': 3219, 'spent': 4213, 'togeth': 4537, 'sanction': 3912, 'iran': 2272, 'negoti': 2948, 'tabl': 4421, 'popular': 3397, 'unit': 4706, 'state': 4258, 'everi': 1514, 'major': 2639, 'battl': 374, 'vietnam': 4790, 'larger': 2459, 'annual': 187, 'economi': 1402, 'mani': 2654, 'taylor': 4447, 'perform': 3282, 'career': 652, 'su': 4333, 'racial': 3586, 'rent': 3732, 'apart': 206, 'develop': 1220, 'africanamerican': 91, 'wayn': 4857, 'testifi': 4480, 'behalf': 396, 'nra': 3023, 'appropri': 225, 'addit': 60, 'brigad': 541, 'perhap': 3283, 'betti': 424, 'sutton': 4404, 'trust': 4629, 'virtual': 4798, 'high': 2036, 'graduat': 1900, 'age': 94, 'leader': 2484, 'endors': 1458, 'marco': 2667, 'rubio': 3875, 'loi': 2580, 'frankel': 1756, 'helicopt': 2015, 'ride': 3813, 'dinner': 1240, 'burden': 585, 'censu': 700, 'figur': 1651, 'releas': 3710, 'anoth': 189, 'resid': 3760, 'florida': 1692, 'legislatur': 2503, 'file': 1652, 'lawsuit': 2477, 'fight': 1649, 'amend': 163, 'oppos': 3100, 'effort': 1410, 'defund': 1162, 'continu': 957, 'accept': 30, 'hundr': 2119, 'corpor': 992, 'pac': 3171, 'insid': 2224, 'money': 2852, 'perdu': 3280, 'mismanag': 2821, 'pillowtex': 3332, 'nearli': 2939, 'got': 1884, 'laid': 2448, 'grew': 1916, 'kenya': 2388, 'dewin': 1225, 'receiv': 3648, 'exclus': 1538, 'labor': 2442, 'special': 4204, 'counsel': 1006, 'busi': 600, 'hollywood': 2073, 'broward': 557, 'homicid': 2081, 'border': 494, 'particular': 3208, 'complet': 889, 'insecur': 2222, 'kasich': 2372, 'remov': 3723, 'run': 3879, 'neg': 2946, 'ad': 56, 'especi': 1498, 'western': 4885, 'extremist': 1576, 'eastern': 1396, 'syria': 4417, 'berni': 419, 'sander': 3915, 'admit': 68, 'socialist': 4152, 'nazi': 2933, 'nomin': 2990, 'chuck': 784, 'hagel': 1954, 'secretari': 3985, 'filibust': 1653, 'mob': 2837, 'northeast': 3009, 'ohio': 3068, 'kid': 2395, 'hampshir': 1967, 'help': 2019, 'indiana': 2191, 'provid': 3545, 'zero': 4994, 'homeless': 2078, 'shelter': 4053, 'household': 2107, 'bank': 344, 'theyr': 4500, 'reli': 3711, 'financi': 1657, 'servic': 4024, 'like': 2544, 'payday': 3246, 'loan': 2570, 'shop': 4063, 'cash': 672, 'proper': 3523, 'believ': 400, 'activ': 52, 'duti': 1379, 'lowest': 2611, 'lower': 2609, 'welfar': 4878, 'recipi': 3652, 'place': 3348, 'piec': 3328, 'nomine': 2991, 'bridg': 539, 'nowher': 3022, 'fastestgrow': 1614, 'religi': 3714, 'identif': 2140, 'demograph': 1183, 'percentof': 3279, 'german': 1842, 'automobil': 312, 'attribut': 294, 'alcohol': 126, 'earli': 1383, 'sunday': 4365, 'elect': 1422, 'hispan': 2055, 'broken': 550, 'compact': 879, 'fluoresc': 1698, 'light': 2541, 'bulb': 577, 'allegedli': 140, 'attack': 287, 'practic': 3427, 'earmark': 1386, 'save': 3928, 'anywher': 205, 'porkbarrel': 3399, 'bushcheney': 598, 'pocket': 3371, 'big': 433, 'oil': 3070, 'broke': 549, 'undocu': 4690, 'pick': 3326, 'appear': 213, 'later': 2464, 'tom': 4541, 'perriello': 3293, 'break': 528, 'china': 767, 'hb': 1999, 'needl': 2945, 'north': 3008, 'carolina': 658, 'wasnt': 4845, 'rage': 3594, 'ran': 3607, 'ken': 2382, 'cuccinelli': 1067, 'away': 319, 'demand': 1180, 'afghanistan': 86, 'longer': 2584, 'land': 2451, 'conduct': 911, 'tort': 4550, 'spoken': 4222, 'lie': 2532, 'japan': 2305, 'nuclear': 3025, 'weapon': 4863, 'bracket': 514, 'old': 3074, 'gen': 1829, 'eisenhow': 1418, 'personnel': 3298, 'havent': 1997, 'gotten': 1885, 'crash': 1034, 'requir': 3754, 'septic': 4015, 'inspect': 2226, 'tank': 4431, 'owner': 3167, 'ceo': 706, 'larg': 2458, 'chariti': 735, 'salari': 3904, 'head': 2000, 'free': 1765, 'commun': 876, 'rail': 3596, 'link': 2553, 'februari': 1623, 'lost': 2597, 'fiscal': 1668, 'judg': 2351, 'tennesse': 4468, 'birther': 449, 'bring': 543, 'highest': 2038, 'jobless': 2335, 'worst': 4960, 'region': 3692, 'near': 2937, 'econom': 1401, 'growth': 1925, 'protect': 3537, 'millionair': 2800, 'veto': 4781, 'minimum': 2807, 'wage': 4819, 'hike': 2048, 'gop': 1881, 'nathan': 2924, 'deal': 1117, 'die': 1232, 'knife': 2418, 'minnesota': 2810, 'mall': 2646, 'tortur': 4551, 'known': 2421, 'dreamer': 1353, 'incarcer': 2169, 'approach': 224, 'reduct': 3676, 'roughli': 3868, 'birth': 448, 'tell': 4463, 'viewer': 4792, 'news': 2965, 'motiv': 2884, 'benghazi': 412, 'reelect': 3678, 'right': 3820, 'hezbollah': 2033, 'latin': 2466, 'venezuela': 4772, 'mexico': 2771, 'pose': 3411, 'signific': 4088, 'immin': 2152, 'threat': 4514, 'ive': 2293, 'nelson': 2951, 'administr': 65, 'hama': 1964, 'recogn': 3655, 'terrorist': 4478, 'organ': 3113, 'rebuild': 3644, 'gaza': 1824, 'patrick': 3232, 'murphi': 2904, 'charg': 733, 'drop': 1361, 'father': 1617, 'gave': 1822, 'prosecutor': 3531, 'huge': 2117, 'donat': 1322, 'runoff': 3881, 'oppon': 3098, 'twice': 4654, 'previous': 3472, 'statewid': 4266, 'stand': 4249, 'bipartisan': 445, 'solut': 4163, 'simpsonbowl': 4096, 'commiss': 869, 'accident': 33, 'movi': 2892, 'barrett': 360, 'respons': 3772, 'properti': 3525, 'product': 3503, 'water': 4850, 'gulf': 1941, 'reach': 3630, 'alltim': 147, 'counti': 1012, 'juvenil': 2366, 'arrest': 249, 'car': 647, 'theft': 4492, 'sent': 4010, 'home': 2076, 'point': 3372, 'hold': 2067, 'suspect': 4401, 'stolen': 4288, 'social': 4151, 'secur': 3989, 'chang': 729, 'whatsoev': 4888, 'team': 4452, 'respect': 3769, 'doesnt': 1309, 'realli': 3638, 'gore': 1883, 'extra': 1573, 'gasolin': 1820, 'wast': 4847, 'critic': 1054, 'resourc': 3768, 'individu': 2194, 'bodi': 477, 'armor': 246, 'ammunit': 167, 'aircraft': 110, 'open': 3093, 'offshor': 3066, 'drill': 1355, 'area': 235, 'alreadi': 150, 'lift': 2540, 'moratorium': 2868, 'instead': 2234, 'yesterday': 4981, 'announc': 186, 'close': 825, 'largest': 2460, 'tammi': 4429, 'baldwin': 339, 'invad': 2259, 'technic': 4455, 'colleg': 855, 'portion': 3405, 'biggest': 435, 'attempt': 288, 'suicid': 4359, 'campus': 626, 'directli': 1247, 'recent': 3649, 'billiondollar': 440, 'georgian': 1840, 'vaccin': 4755, 'prevent': 3470, 'hpv': 2114, 'mental': 2751, 'auto': 309, 'repaid': 3735, 'dime': 1236, 'invest': 2262, 'incid': 2173, 'bullet': 581, 'cross': 1057, 'member': 2744, 'floor': 1690, 'rick': 3810, 'employ': 1448, 'abl': 12, 'coverag': 1022, 'control': 965, 'vast': 4764, 'small': 4134, 'campaignfin': 623, 'barackobama': 350, 'illinoi': 2147, 'cnbc': 833, 'json': 2350, 'true': 4625, 'speaker': 4202, 'video': 4789, 'address': 61, 'halftru': 1959, 'median': 2731, 'mittromney': 2833, 'massachusett': 2690, 'speech': 4210, 'barelytru': 354, 'trillion': 4613, 'replac': 3742, 'conserv': 935, 'advocaci': 79, 'televis': 4462, 'read': 3632, 'intellig': 2243, 'estim': 1503, 'bargain': 355, 'effect': 1408, 'score': 3958, 'exam': 1526, 'execut': 1539, 'mostlytru': 2880, 'gdp': 1825, 'capita': 643, 'european': 1509, 'meet': 2737, 'iowa': 2267, 'newspap': 2967, 'medicaid': 2733, 'activist': 53, 'mom': 2849, 'confront': 922, 'highspe': 2044, 'line': 2551, 'la': 2439, 'vega': 4766, 'disneyland': 1271, 'love': 2607, 'che': 745, 'guevara': 1936, 'houston': 2108, 'california': 617, 'heard': 2007, 'transpacif': 4587, 'partnership': 3213, 'trade': 4571, 'sudden': 4352, 'suggest': 4358, 'sound': 4183, 'zombi': 4997, 'hear': 2006, 'merrick': 2760, 'author': 307, 'opinion': 3096, 'result': 3778, 'guantanamo': 1927, 'bay': 378, 'prison': 3486, 'violent': 4795, 'islamist': 2284, 'design': 1206, 'rescu': 3755, 'longterm': 2587, 'airport': 113, 'survey': 4397, 'came': 619, 'restor': 3775, 'prayer': 3431, 'pledg': 3364, 'sign': 4085, 'charli': 738, 'crist': 1052, 'agenc': 95, 'incent': 2170, 'lead': 2483, 'look': 2588, 'elsewher': 1437, 'acceler': 29, 'bankruptci': 347, 'parol': 3202, 'object': 3043, 'attorney': 292, 'convict': 971, 'murder': 2903, 'worker': 4948, 'georgia': 1839, 'field': 1645, 'consid': 936, 'strip': 4315, 'pension': 3271, 'clerk': 813, 'marriag': 2679, 'licens': 2530, 'samesex': 3910, 'coupl': 1015, 'strike': 4313, 'gut': 1945, 'climat': 818, 'chines': 768, 'rank': 3613, 'th': 4487, 'talk': 4426, 'option': 3103, 'use': 4743, 'alli': 142, 'bar': 348, 'brazilian': 526, 'fought': 1738, 'studio': 4328, 'begin': 394, 'oper': 3095, 'grant': 1906, 'joe': 2336, 'biden': 431, 'wouldnt': 4962, 'onechild': 3083, 'steril': 4277, 'georg': 1838, 'lose': 2595, 'gain': 1804, 'onlin': 3092, 'voter': 4813, 'cast': 675, 'provision': 3547, 'ballot': 341, 'regular': 3698, 'excess': 1533, 'specul': 4209, 'push': 3566, 'report': 3744, 'add': 58, 'cent': 701, 'gallon': 1805, 'siphon': 4105, 'prepar': 3455, 'relationship': 3709, 'count': 1007, 'sandi': 3916, 'adam': 57, 'approv': 226, 'central': 704, 'shut': 4077, 'demonstr': 1184, 'outsid': 3141, 'event': 1512, 'crowd': 1060, 'drive': 1357, 'live': 2563, 'virginia': 4796, 'wors': 4957, 'alaska': 123, 'mississippi': 2825, 'sell': 4000, 'deer': 1149, 'bidder': 430, 'long': 2583, 'histor': 2056, 'preced': 3433, 'fewer': 1642, 'imprison': 2162, 'jail': 2298, 'sentenc': 4011, 'smoke': 4143, 'marijuana': 2671, 'expans': 1548, 'treasuri': 4598, 'balanc': 337, 'dga': 1226, 'audit': 298, 'reserv': 3758, 'ron': 3856, 'johnson': 2339, 'manmad': 2657, 'role': 3851, 'frack': 1747, 'dedic': 1140, 'homeland': 2077, 'combat': 861, 'radic': 3591, 'internet': 2250, 'muslim': 2910, 'northern': 3011, 'forward': 1735, 'highpay': 2042, 'foreclosur': 1715, 'thwart': 4519, 'righttowork': 3821, 'measur': 2726, 'midwest': 2787, 'battleground': 376, 'arizona': 240, 'congression': 925, 'ray': 3628, 'champion': 726, 'council': 1005, 'holton': 2075, 'integr': 2242, 'steven': 4279, 'pend': 3267, 'waiver': 4822, 'grade': 1898, 'test': 4479, 'share': 4043, 'built': 576, 'martin': 2684, 'percentag': 3277, 'sharia': 4044, 'hire': 2054, 'complianc': 892, 'unlimit': 4713, 'sick': 4080, 'leav': 2491, 'ladi': 2446, 'travel': 4593, 'poor': 3391, 'danger': 1094, 'poll': 3385, 'disrespect': 1280, 'throw': 4517, 'pray': 3430, 'pari': 3200, 'mandatori': 2651, 'declin': 1136, 'overal': 3146, 'robberi': 3840, 'way': 4856, 'happen': 1973, 'period': 3285, 'ny': 3034, 'prohibit': 3513, 'marri': 2678, 'confer': 913, 'mind': 2804, 'presidenti': 3464, 'inmat': 2215, 'diploma': 1245, 'correct': 993, 'facil': 1582, 'adult': 70, 'assist': 271, 'commission': 870, 'press': 3465, 'michael': 2776, 'person': 3296, 'retir': 3781, 'jack': 2295, 'abramoff': 19, 'closest': 828, 'partner': 3212, 'scandalplagu': 3942, 'ralph': 3605, 'recess': 3650, 'appoint': 219, 'goe': 1870, 'tuition': 4636, 'enorm': 1469, 'progress': 3511, 'human': 2118, 'normal': 3006, 'gone': 1877, 'texasmexico': 4484, 'earn': 1387, 'refer': 3679, 'antibusi': 194, 'conspiraci': 939, 'quit': 3580, 'frankli': 1758, 'shown': 4073, 'coon': 975, 'marxist': 2687, 'belief': 399, 'sixtyon': 4114, 'current': 1074, 'list': 2557, 'overweight': 3162, 'pediatrician': 3258, 'proxim': 3548, 'short': 4065, 'librari': 2526, 'district': 1289, 'direct': 1246, 'regard': 3689, 'lesbian': 2511, 'eric': 1494, 'cantor': 637, 'tour': 4559, 'join': 2340, 'hip': 2053, 'inde': 2186, 'goal': 1867, 'harri': 1988, 'truman': 4627, 'holiday': 2071, 'pork': 3398, 'barrel': 359, 'alway': 154, 'civil': 800, 'tallahasse': 4427, 'workforc': 4949, 'secondmost': 3983, 'heavili': 2010, 'deploy': 1193, 'guard': 1929, 'mccollum': 2712, 'fee': 1626, 'chosen': 773, 'oregonian': 3111, 'homeown': 2079, 'delinqu': 1174, 'mortgag': 2876, 'driven': 1358, 'length': 2509, 'second': 3978, 'text': 4485, 'detaine': 1215, 'chicken': 758, 'rice': 3804, 'wed': 4870, 'neutral': 2957, 'determin': 1217, 'type': 4660, 'deliv': 1175, 'pawlenti': 3242, 'classroom': 807, 'overcrowd': 3147, 'castl': 676, 'occup': 3052, 'hud': 2116, 'steve': 4278, 'craft': 1029, 'robin': 3842, 'hood': 2086, 'financ': 1656, 'scheme': 3946, 'wrote': 4972, 'freedom': 1767, 'pete': 3302, 'session': 4026, 'exact': 1524, 'usag': 4740, 'dramat': 1347, 'instanc': 2231, 'violenc': 4794, 'death': 1123, 'risen': 3827, 'comput': 899, 'scienc': 3955, 'meanwhil': 2724, 'athlet': 280, 'row': 3872, 'ill': 2145, 'seriou': 4020, 'ottumwa': 3122, 'abel': 8, 'end': 1456, 'fifthhighest': 1647, 'nationwid': 2926, 'favor': 1618, 'israel': 2289, 'clock': 824, 'infrastructur': 2208, 'interst': 2253, 'highway': 2046, 'vital': 4804, 'compar': 881, 'rural': 3883, 'morocco': 2873, 'clunker': 832, 'space': 4196, 'spokesman': 4223, 'son': 4172, 'eclips': 1400, 'donna': 1323, 'campbel': 624, 'win': 4915, 'nondiscrimin': 2996, 'anyon': 202, 'violat': 4793, 'involv': 2266, 'fine': 1658, 'exampl': 1528, 'boost': 491, 'export': 1563, 'canada': 627, 'flipflop': 1688, 'crush': 1063, 'lock': 2576, 'cheap': 746, 'jobkil': 2334, 'parttim': 3214, 'austin': 304, 'bid': 429, 'weaken': 4859, 'lax': 2479, 'plane': 3352, 'ransom': 3614, 'hostag': 2099, 'success': 4351, 'possibl': 3414, 'noncitizen': 2993, 'victori': 4788, 'rival': 3831, 'hovd': 2109, 'refus': 3688, 'lawmak': 2475, 'juli': 2355, 'parrish': 3203, 'divert': 1294, 'forprofit': 1727, 'legal': 2501, 'drug': 1365, 'india': 2190, 'sherrod': 4055, 'order': 3106, 'governmentrun': 1890, 'jerseyan': 2320, 'shovel': 4071, 'troubl': 4622, 'asset': 269, 'relief': 3713, 'toxic': 4566, 'distress': 1287, 'treatment': 4601, 'beach': 379, 'outofst': 3135, 'isnt': 2286, 'marci': 2666, 'kaptur': 2371, 'babi': 322, 'girl': 1854, 'sole': 4160, 'reason': 3639, 'adopt': 69, 'rudi': 3876, 'fred': 1762, 'unabl': 4668, 'skill': 4117, 'posit': 3412, 'metro': 2767, 'main': 2635, 'simpli': 4094, 'canadianstyl': 629, 'registr': 3694, 'independ': 2188, 'potenti': 3419, 'clearli': 812, 'consist': 938, 'path': 3229, 'substanti': 4347, 'particip': 3207, 'pilot': 3333, 'eas': 1391, 'farm': 1607, 'shortag': 4066, 'finish': 1660, 'st': 4235, 'left': 2497, 'els': 1436, 'breast': 530, 'wendi': 4880, 'davi': 1106, 'teacher': 4451, 'gubernatori': 1933, 'combin': 862, 'employe': 1449, 'ir': 2271, 'beg': 391, 'let': 2513, 'widget': 4905, 'mica': 2774, 'borrow': 496, 'koster': 2429, 'missouri': 2826, 'rape': 3615, 'victim': 4786, 'kit': 2409, 'jon': 2344, 'huntsman': 2122, 'guarante': 1928, 'owe': 3165, 'kindergarten': 2402, 'becom': 387, 'privatesector': 3490, 'sheldon': 4051, 'whitehous': 4894, 'secret': 3984, 'closeddoor': 826, 'brief': 540, 'warn': 4837, 'weekend': 4873, 'occupi': 3053, 'protest': 3539, 'stay': 4271, 'park': 3201, 'track': 4570, 'cliff': 817, 'ultim': 4666, 'cloth': 830, 'williamson': 4913, 'bradley': 517, 'feloni': 1633, 'misdemeanor': 2819, 'hand': 1968, 'confidenti': 915, 'inform': 2206, 'cnn': 834, 'anchor': 173, 'far': 1605, 'media': 2730, 'soldier': 4159, 'supplement': 4374, 'bond': 484, 'mechan': 2728, 'access': 31, 'peopl': 3273, 'facebook': 1581, 'page': 3177, 'race': 3584, 'daylight': 1109, 'superintend': 4371, 'experienc': 1553, 'impeach': 2155, 'faculti': 1588, 'uwmadison': 4750, 'quarter': 3575, 'vegan': 4767, 'spare': 4200, 'anim': 182, 'hoax': 2064, 'invent': 2261, 'coffman': 847, 'failur': 1591, 'nasa': 2921, 'outreach': 3140, 'fifti': 1648, 'enter': 1474, 'remedi': 3719, 'cours': 1017, 'met': 2763, 'hassan': 1994, 'rouhani': 3869, 'hell': 2016, 'oneterm': 3088, 'nobodi': 2988, 'guy': 1946, 'choic': 770, 'aid': 105, 'klein': 2414, 'specif': 4206, 'allow': 146, 'nonpartisan': 2998, 'usmexico': 4745, 'patrol': 3234, 'alan': 121, 'healthi': 2004, 'theyll': 4499, 'serv': 4022, 'master': 2694, 'passiv': 3222, 'swing': 4411, 'radiat': 3590, 'tsa': 4632, 'equival': 1489, 'minut': 2812, 'worth': 4961, 'air': 108, 'anybodi': 200, 'feet': 1628, 'differ': 1233, 'walk': 4824, 'southern': 4189, 'visa': 4800, 'overstay': 3159, 'nevada': 2958, 'south': 4186, 'politician': 3383, 'soar': 4148, 'choos': 771, 'cabinet': 608, 'handgun': 1970, 'great': 1908, 'britain': 544, 'switzerland': 4413, 'west': 4884, 'germani': 1843, 'qualifi': 3573, 'instat': 2233, 'deleg': 1170, 'ranch': 3608, 'reid': 3701, 'packag': 3175, 'resel': 3757, 'wall': 4826, 'street': 4303, 'investor': 2264, 'bust': 602, 'santorum': 3920, 'suit': 4360, 'vodka': 4806, 'netherland': 2954, 'tie': 4522, 'grayson': 1907, 'gwen': 1947, 'moor': 2865, 'absent': 22, 'miss': 2822, 'attend': 289, 'pregnanc': 3445, 'contribut': 963, 'forti': 1729, 'stood': 4290, 'previou': 3471, 'fuel': 1785, 'standard': 4250, 'situat': 4109, 'regul': 3697, 'ultrasound': 4667, 'fli': 1684, 'cathol': 684, 'send': 4007, 'refuge': 3686, 'black': 454, 'monogam': 2858, 'reject': 3706, 'payment': 3247, 'deduct': 1141, 'freddi': 1763, 'mac': 2621, 'fanni': 1604, 'mae': 2627, 'host': 2098, 'subprim': 4340, 'unpopular': 4718, 'terri': 4474, 'mcauliff': 2709, 'watch': 4849, 'pornographi': 3402, 'reinstat': 3704, 'dozen': 1341, 'doughnut': 1333, 'kay': 2379, 'bailey': 333, 'hutchison': 2128, 'sanctuari': 3913, 'assault': 265, 'buy': 604, 'va': 4751, 'began': 392, 'worldwid': 4955, 'apolog': 209, 'childhood': 763, 'europ': 1508, 'brought': 555, 'case': 670, 'describ': 1203, 'best': 421, 'commerci': 868, 'fortun': 1730, 'uranium': 4736, 'russian': 3889, 'delet': 1171, 'ambassador': 160, 'advantag': 72, 'chamber': 724, 'governorship': 1893, 'impress': 2161, 'tenur': 4471, 'accumul': 38, 'im': 2148, 'kind': 2401, 'rob': 3838, 'portman': 3408, 'irrespons': 2279, 'scientif': 3956, 'pollut': 3387, 'concentr': 902, 'plant': 3354, 'life': 2536, 'perri': 3292, 'newt': 2968, 'gingrich': 1852, 'russ': 3887, 'feingold': 1629, 'alberta': 125, 'darl': 1098, 'common': 873, 'core': 985, 'agre': 100, 'ceil': 696, 'dealt': 1120, 'mostli': 2879, 'written': 4968, 'congresswoman': 928, 'slaughter': 4125, 'remain': 3717, 'poorer': 3392, 'refund': 3687, 'delay': 1169, 'octob': 3057, 'circumst': 793, 'mcdonnel': 2716, 'pace': 3172, 'popul': 3396, 'form': 1724, 'roe': 3848, 'wade': 4818, 'decid': 1133, 'absolut': 24, 'expert': 1554, 'al': 118, 'qaeda': 3570, 'flood': 1689, 'claim': 803, 'reimburs': 3702, 'politifact': 3384, 'kept': 2389, 'toughen': 4556, 'ethic': 1505, 'jeb': 2311, 'set': 4028, 'winner': 4923, 'everyth': 1518, 'sure': 4383, 'anyth': 203, 'lotteri': 2599, 'prize': 3492, 'readi': 3633, 'coordin': 978, 'english': 1466, 'math': 2700, 'militar': 2792, 'precinct': 3434, 'low': 2608, 'kitzhab': 2411, 'prochoic': 3501, 'assassin': 264, 'citizen': 797, 'drone': 1360, 'degre': 1164, 'provis': 3546, 'market': 2675, 'tripl': 4617, 'enrol': 1471, 'youth': 4988, 'braley': 520, 'barbara': 351, 'boxer': 508, 'somebodi': 4167, 'exactli': 1525, 'eu': 1507, 'korea': 2425, 'farmer': 1608, 'suffer': 4355, 'probabl': 3495, 'stole': 4287, 'stock': 4285, 'proport': 3527, 'smith': 4141, 'locat': 2575, 'fouryear': 1744, 'mansion': 2658, 'defend': 1154, 'process': 3500, 'fulli': 1788, 'implement': 2156, 'centuri': 705, 'jim': 2330, 'doyl': 1340, 'hunter': 2121, 'herd': 2024, 'prescript': 3458, 'clear': 811, 'increasingli': 2182, 'opportun': 3099, 'parent': 3198, 'shoot': 4061, 'angel': 177, 'tavera': 4441, 'rifl': 3817, 'bashar': 367, 'assad': 263, 'spanish': 4199, 'languag': 2456, 'alison': 135, 'alter': 151, 'unanim': 4671, 'studi': 4327, 'initi': 2211, 'unexpect': 4694, 'chair': 719, 'committe': 872, 'led': 2493, 'twothird': 4658, 'treasur': 4597, 'gina': 1850, 'raimondo': 3599, 'mortal': 2875, 'chart': 740, 'crisi': 1051, 'richard': 3806, 'cordray': 984, 'precis': 3437, 'thensen': 4493, 'wrong': 4969, 'thing': 4502, 'ukrainian': 4665, 'riot': 3824, 'dismantl': 1268, 'howel': 2111, 'revok': 3793, 'agreement': 101, 'stroke': 4316, 'pen': 3263, 'futur': 1800, 'modifi': 2845, 'dekalb': 1165, 'sheriff': 4054, 'prevail': 3469, 'isi': 2281, 'exist': 1543, 'brother': 553, 'alqaida': 149, 'wipe': 4925, 'definit': 1160, 'polit': 3382, 'dark': 1097, 'toll': 4540, 'fulfil': 1787, 'safest': 3899, 'surrog': 4394, 'incest': 2171, 'spous': 4227, 'exchang': 1534, 'subsidi': 4344, 'ahmadinejad': 104, 'magazin': 2628, 'improv': 2163, 'gunfir': 1943, 'elementari': 1427, 'plastic': 3355, 'driver': 1359, 'outmigr': 3132, 'repeatedli': 3741, 'prais': 3428, 'patriot': 3233, 'wont': 4944, 'publish': 3554, 'photo': 3322, 'trayvon': 4595, 'tattoo': 4440, 'advoc': 78, 'wrongli': 4971, 'rich': 3805, 'poverti': 3423, 'interior': 2248, 'fresh': 1772, 'commerc': 867, 'handl': 1971, 'advisori': 77, 'ration': 3625, 'certain': 708, 'renew': 3730, 'wind': 4916, 'solar': 4157, 'coal': 836, 'industri': 2195, 'enjoy': 1468, 'seiz': 3995, 'firearm': 1663, 'better': 423, 'janitor': 2303, 'clean': 809, 'governmentcontrol': 1888, 'depriv': 1197, 'bare': 353, 'pot': 3418, 'capabl': 639, 'abraham': 17, 'lincoln': 2549, 'slash': 4123, 'navi': 2931, 'studentathlet': 4326, 'arent': 237, 'russia': 3888, 'enemi': 1460, 'penni': 3269, 'dubiou': 1370, 'taxpayerfund': 4446, 'ii': 2144, 'nye': 3036, 'instruct': 2236, 'limousin': 2548, 'fleet': 1682, 'dropout': 1362, 'huckabe': 2115, 'diabet': 1227, 'cure': 1072, 'despit': 1209, 'healthcar': 2002, 'dna': 1300, 'breweri': 535, 'beer': 390, 'drink': 1356, 'premis': 3451, 'mitch': 2829, 'mcconnel': 2713, 'blue': 466, 'chip': 769, 'indic': 2192, 'forecast': 1714, 'predict': 3442, 'turnaround': 4643, 'fourth': 1741, 'tragic': 4577, 'mistak': 2828, 'irregular': 2278, 'schedul': 3945, 'numer': 3029, 'ownership': 3168, 'pack': 3174, 'creation': 1038, 'struck': 4321, 'lightn': 2542, 'inperson': 2220, 'fraud': 1760, 'addict': 59, 'gambl': 1808, 'problem': 3497, 'gambler': 1809, 'youll': 4985, 'turnout': 4645, 'paul': 3238, 'ryan': 3892, 'establish': 1501, 'honor': 2085, 'dr': 1342, 'luther': 2616, 'king': 2404, 'jr': 2349, 'josh': 2348, 'mandel': 2652, 'june': 2358, 'sever': 4033, 'burn': 593, 'kick': 2393, 'caucu': 686, 'furnitur': 1799, 'email': 1438, 'controversi': 966, 'discuss': 1263, 'catherin': 683, 'cortez': 996, 'masto': 2695, 'sweetheart': 4408, 'contract': 959, 'dc': 1111, 'firm': 1667, 'grow': 1922, 'strength': 4305, 'automat': 311, 'nfl': 2969, 'odd': 3058, 'roger': 3849, 'islam': 2283, 'mention': 2752, 'cover': 1021, 'avail': 313, 'typic': 4661, 'staff': 4241, 'amnesti': 168, 'transfer': 4582, 'deliveri': 1176, 'chemic': 752, 'strickland': 4309, 'remodel': 3722, 'bathroom': 373, 'step': 4275, 'statu': 4269, 'valid': 4757, 'crimin': 1048, 'reclaim': 3654, 'achiev': 42, 'power': 3426, 'ocean': 3055, 'acid': 43, 'modern': 2843, 'loophol': 2590, 'encourag': 1455, 'outsourc': 3142, 'expos': 1565, 'boot': 492, 'captur': 646, 'natur': 2929, 'saudi': 3926, 'arabia': 231, 'shot': 4069, 'newark': 2961, 'chanc': 728, 'youv': 4990, 'amendmentban': 164, 'possess': 3413, 'sit': 4107, 'edward': 1407, 'snowden': 4147, 'reveal': 3787, 'isra': 2288, 'rack': 3588, 'canadian': 628, 'middl': 2782, 'class': 805, 'inequ': 2198, 'outer': 3127, 'continent': 956, 'depend': 1191, 'book': 487, 'nurs': 3031, 'sens': 4009, 'mother': 2881, 'redesign': 3670, 'flag': 1677, 'distinct': 1283, 'versu': 4778, 'carl': 654, 'windfal': 4917, 'debbi': 1125, 'wasserman': 4846, 'schultz': 3954, 'nondefens': 2995, 'spiral': 4218, 'syrian': 4418, 'recus': 3666, 'boccieri': 476, 'nanci': 2916, 'pelosi': 3262, 'percentincreas': 3278, 'dad': 1083, 'network': 2955, 'constitut': 943, 'oshaughnessi': 3119, 'chile': 766, 'advis': 75, 'fertil': 1639, 'explod': 1559, 'walmart': 4827, 'user': 4744, 'blogger': 462, 'voic': 4807, 'frustrat': 1782, 'publicli': 3552, 'alex': 128, 'sink': 4104, 'follow': 1702, 'appli': 217, 'perman': 3287, 'bail': 332, 'calcul': 613, 'corp': 991, 'pool': 3390, 'ground': 1920, 'assembl': 266, 'structur': 4322, 'profession': 3505, 'pennsylvania': 3270, 'isol': 2287, 'geithner': 1827, 'abandon': 4, 'currenc': 1073, 'respiratori': 3770, 'weight': 4875, 'roll': 3852, 'visit': 4802, 'somewher': 4171, 'volunt': 4810, 'stop': 4291, 'hit': 2058, 'director': 1248, 'fbi': 1620, 'intent': 2245, 'contact': 950, 'tier': 4523, 'research': 3756, 'bag': 331, 'san': 3911, 'francisco': 1754, 'singleus': 4103, 'uncollect': 4675, 'incumb': 2185, 'gerald': 1841, 'lake': 2449, 'church': 785, 'dream': 1352, 'block': 461, 'hadnt': 1952, 'nineti': 2978, 'cbo': 693, 'antonio': 199, 'ordin': 3107, 'men': 2749, 'restroom': 3777, 'id': 2137, 'shrink': 4075, 'england': 1465, 'clayton': 808, 'neighborhood': 2950, 'stabil': 4237, 'flee': 1681, 'kosovo': 2428, 'drawn': 1351, 'singlepay': 4102, 'fix': 1674, 'exportimport': 1564, 'dane': 1093, 'kathleen': 2375, 'falk': 1597, 'stride': 4312, 'bureau': 587, 'handel': 1969, 'chairwoman': 722, 'fulton': 1790, 'folk': 1701, 'sarah': 3921, 'palin': 3183, 'pig': 3329, 'prove': 3543, 'dead': 1114, 'latest': 2465, 'capandtrad': 641, 'destroy': 1212, 'cornil': 989, 'mr': 2894, 'reopen': 3733, 'hole': 2069, 'secondlargest': 3981, 'chees': 751, 'apprais': 221, 'experi': 1552, 'fair': 1592, 'glad': 1859, 'southerland': 4188, 'multipl': 2899, 'consent': 933, 'ohioan': 3069, 'bachelor': 323, 'mean': 2720, 'thereaft': 4497, 'smoker': 4144, 'eightyear': 1416, 'wealth': 4860, 'gap': 1814, 'apartheid': 207, 'man': 2648, 'motorist': 2887, 'yearold': 4979, 'roy': 3873, 'cooper': 977, 'view': 4791, 'colorado': 857, 'twin': 4655, 'river': 3832, 'competit': 884, 'nearbi': 2938, 'casino': 673, 'slot': 4130, 'machin': 2622, 'payout': 3248, 'similar': 4092, 'cayman': 692, 'burdensom': 586, 'level': 2516, 'procedur': 3499, 'streetcar': 4304, 'trolley': 4619, 'sonogram': 4175, 'eighth': 1414, 'transvagin': 4590, 'millionplu': 2802, 'write': 4967, 'global': 1863, 'vehicular': 4770, 'round': 3870, 'globe': 1864, 'fallen': 1599, 'pentagon': 3272, 'discretionari': 1261, 'buck': 565, 'overturn': 3161, 'vs': 4817, 'defin': 1159, 'moment': 2850, 'concept': 903, 'todd': 4536, 'akin': 117, 'renaiss': 3725, 'usa': 4739, 'fifth': 1646, 'wisconsinmilwauke': 4929, 'engin': 1464, 'campu': 625, 'sixth': 4111, 'wealthiest': 4862, 'realiti': 3636, 'bomb': 481, 'shoe': 4060, 'bomber': 482, 'shape': 4042, 'theyv': 4501, 'algeria': 131, 'gwinnett': 1948, 'african': 90, 'outstrip': 3145, 'pepper': 3274, 'final': 1655, 'cop': 979, 'teach': 4450, 'moroccan': 2872, 'potteri': 3420, 'powel': 3425, 'god': 1869, 'tough': 4555, 'delta': 1178, 'subcommitte': 4334, 'everifi': 1515, 'romneyryan': 3855, 'shouldnt': 4070, 'attract': 293, 'challeng': 723, 'suspend': 4402, 'model': 2841, 'devast': 1219, 'elena': 1428, 'kagan': 2367, 'littl': 2561, 'conflict': 919, 'olymp': 3079, 'medal': 2729, 'funnel': 1796, 'moder': 2842, 'proudli': 3542, 'featur': 1622, 'advanc': 71, 'credibl': 1041, 'openli': 3094, 'abolish': 15, 'convert': 970, 'downtown': 1338, 'maximum': 2706, 'jone': 2346, 'proposit': 3529, 'medicin': 2735, 'cap': 638, 'proud': 3541, 'divest': 1295, 'relat': 3708, 'slow': 4131, 'rel': 3707, 'overwhelm': 3163, 'carpool': 661, 'mass': 2689, 'transit': 4584, 'bicycl': 428, 'ton': 4543, 'wyom': 4973, 'unleash': 4710, 'carbon': 648, 'aarp': 3, 'store': 4293, 'haven': 1996, 'expenditur': 1550, 'jd': 2309, 'lobbi': 2571, 'bulldoz': 580, 'fals': 1600, 'advertis': 73, 'statement': 4262, 'residu': 3762, 'headquart': 2001, 'sidewalk': 4082, 'imag': 2149, 'smear': 4140, 'sharron': 4046, 'angl': 178, 'sex': 4036, 'offend': 3060, 'aaron': 2, 'bean': 380, 'forest': 1718, 'tree': 4602, 'dallasfort': 1088, 'super': 4369, 'bowl': 506, 'unknown': 4708, 'version': 4777, 'enrolle': 1472, 'manag': 2649, 'reproduct': 3747, 'liter': 2559, 'pink': 3337, 'slip': 4129, 'sequestr': 4017, 'kennedi': 2384, 'star': 4253, 'packer': 3176, 'play': 3358, 'championship': 727, 'game': 1810, 'declar': 1135, 'pluto': 3369, 'planet': 3353, 'astronom': 277, 'sun': 4364, 'latino': 2468, 'underemploy': 4680, 'tune': 4638, 'portland': 3406, 'onetim': 3090, 'surplu': 4390, 'toilet': 4538, 'chesterfield': 754, 'commonwealth': 875, 'foot': 1706, 'trip': 4616, 'sayspresid': 3933, 'target': 4435, 'occur': 3054, 'goldman': 1874, 'sach': 3893, 'iron': 2277, 'ore': 3109, 'maverick': 2704, 'review': 3791, 'verifi': 4774, 'cell': 698, 'intend': 2244, 'suppos': 4377, 'darryl': 1099, 'glenn': 1862, 'male': 2644, 'affect': 81, 'index': 2189, 'inflat': 2202, 'origin': 3115, 'epa': 1485, 'devic': 1221, 'loss': 2596, 'michigan': 2778, 'michel': 2777, 'bachmann': 324, 'rare': 3618, 'certainli': 709, 'wait': 4820, 'guess': 1934, 'valu': 4759, 'span': 4198, 'wife': 4906, 'ferguson': 1638, 'mo': 2835, 'catastroph': 680, 'diseas': 1264, 'base': 365, 'circl': 790, 'evalu': 1510, 'unsustain': 4723, 'translat': 4585, 'nonu': 3001, 'overhaul': 3149, 'upward': 4735, 'exxonmobil': 1578, 'layoff': 2481, 'footprint': 1709, 'jump': 2356, 'town': 4565, 'hall': 1961, 'abc': 7, 'viagra': 4783, 'rapist': 3617, 'felt': 1634, 'learn': 2489, 'recoveri': 3663, 'begun': 395, 'fanci': 1603, 'suburb': 4349, 'vagina': 4756, 'mari': 2670, 'burk': 592, 'draft': 1343, 'raid': 3595, 'conni': 931, 'mack': 2623, 'chevron': 756, 'rainforest': 3600, 'friend': 1777, 'bigger': 434, 'warren': 4840, 'buffett': 574, 'massiv': 2693, 'soro': 4178, 'fourthgrad': 1742, 'function': 1791, 'eat': 1397, 'surpass': 4389, 'japanes': 2306, 'mile': 2791, 'rose': 3863, 'madigan': 2625, 'brutal': 561, 'allan': 138, 'fung': 1795, 'gross': 1918, 'trail': 4578, 'eri': 1493, 'canal': 630, 'lineitem': 2552, 'smaller': 4136, 'predecessor': 3441, 'indict': 2193, 'brian': 537, 'innoc': 2218, 'insult': 2239, 'recruit': 3665, 'jihadist': 2328, 'registri': 3695, 'impact': 2154, 'seizur': 3996, 'motor': 2885, 'pasco': 3216, 'pretti': 3468, 'certif': 710, 'auditor': 299, 'accus': 41, 'infant': 2199, 'baucu': 377, 'drastic': 1348, 'fish': 1669, 'scan': 3940, 'onetenth': 3087, 'vet': 4779, 'fundrais': 1794, 'lee': 2495, 'leffingwel': 2496, 'lawabid': 2474, 'connect': 929, 'billionair': 439, 'wish': 4931, 'agricultur': 102, 'inherit': 2210, 'spoke': 4221, 'late': 2462, 'phone': 3320, 'soon': 4176, 'ensur': 1473, 'everyon': 1517, 'dodd': 1305, 'allen': 141, 'richest': 3808, 'surround': 4395, 'strong': 4317, 'broad': 546, 'colleagu': 853, 'motion': 2883, 'repeat': 3740, 'wiretap': 4926, 'dealer': 1118, 'engag': 1463, 'misconduct': 2818, 'deem': 1143, 'beat': 382, 'pow': 3424, 'inspir': 2228, 'symbol': 4415, 'hospit': 2097, 'cool': 974, 'jeff': 2312, 'hewent': 2030, 'cuba': 1065, 'prioriti': 3485, 'dog': 1310, 'cat': 679, 'daughter': 1104, 'lieuten': 2535, 'strau': 4301, 'mail': 2634, 'mark': 2674, 'defeat': 1152, 'inadequ': 2166, 'crop': 1056, 'bennet': 414, 'chose': 772, 'whop': 4899, 'inch': 2172, 'caught': 688, 'carri': 662, 'judici': 2353, 'vacanc': 4752, 'denni': 1187, 'kucinich': 2434, 'player': 3359, 'confirm': 917, 'academ': 27, 'preschool': 3456, 'disappear': 1252, 'consider': 937, 'remind': 3721, 'pressur': 3466, 'saysther': 3935, 'superdeleg': 4370, 'cobb': 841, 'aclu': 45, 'sam': 3909, 'olen': 3077, 'deadli': 1115, 'yearli': 4977, 'reconcili': 3657, 'seamen': 3970, 'enact': 1453, 'ablebodi': 13, 'obtain': 3048, 'stalin': 4246, 'undermin': 4685, 'spiritu': 4219, 'moral': 2867, 'gm': 1865, 'substanc': 4345, 'primarili': 3477, 'pitch': 3345, 'perfect': 3281, 'seri': 4018, 'reagan': 3634, 'strongest': 4319, 'travi': 4594, 'elig': 1430, 'kilmartin': 2399, 'wit': 4932, 'septemb': 4014, 'factcheck': 1584, 'teen': 4460, 'cannabi': 635, 'physician': 3325, 'patient': 3231, 'fox': 1746, 'stori': 4294, 'drunk': 1367, 'letter': 2515, 'hillarycar': 2051, 'perpupil': 3291, 'conceal': 900, 'applic': 218, 'discharg': 1256, 'stalk': 4247, 'launch': 2470, 'fare': 1606, 'treati': 4600, 'contracept': 958, 'french': 1770, 'seat': 3974, 'roland': 3850, 'burri': 595, 'traffic': 4574, 'expect': 1549, 'ronald': 3857, 'saddam': 3895, 'criteria': 1053, 'aaa': 1, 'technolog': 4457, 'mathemat': 2701, 'visitor': 4803, 'lo': 2568, 'orlando': 3116, 'fla': 1676, 'happi': 1974, 'strategi': 4300, 'plot': 3365, 'iraqi': 2275, 'superior': 4372, 'bell': 401, 'reput': 3752, 'ye': 4976, 'tweet': 4648, 'topsecret': 4549, 'mission': 2824, 'hors': 2096, 'coin': 850, 'nickel': 2973, 'prank': 3429, 'contributor': 964, 'koch': 2422, 'sequest': 4016, 'root': 3862, 'red': 3668, 'sox': 4194, 'outlet': 3129, 'capit': 642, 'dewhurst': 1224, 'exceed': 1530, 'appl': 215, 'factori': 1586, 'plu': 3366, 'unfund': 4698, 'liabil': 2521, 'paint': 3180, 'creek': 1043, 'zip': 4996, 'hidden': 2034, 'sport': 4225, 'draw': 1349, 'hedg': 2013, 'acquir': 47, 'resign': 3763, 'afraid': 88, 'bulli': 582, 'earlier': 1384, 'sexual': 4037, 'femal': 1636, 'chambliss': 725, 'turnpik': 4646, 'warner': 4838, 'hn': 2063, 'gonna': 1878, 'damag': 1090, 'scholarship': 3950, 'switch': 4412, 'bass': 371, 'buffalo': 573, 'rev': 3786, 'wright': 4966, 'marin': 2673, 'lt': 2614, 'casey': 671, 'aug': 300, 'paper': 3193, 'racist': 3587, 'pa': 3170, 'garcia': 1816, 'util': 4748, 'branch': 521, 'appointe': 220, 'exploit': 1560, 'knowledg': 2420, 'sb': 3936, 'unfair': 4695, 'taxat': 4443, 'bonus': 486, 'kyrillo': 2438, 'franklin': 1759, 'roosevelt': 3861, 'uk': 4663, 'thoma': 4510, 'jefferson': 2313, 'younger': 4987, 'corner': 988, 'punish': 3559, 'uniform': 4699, 'avoid': 316, 'proof': 3520, 'destruct': 1213, 'analysi': 171, 'rand': 3609, 'faith': 1594, 'withdraw': 4933, 'frame': 1750, 'dan': 1091, 'arizonastyl': 241, 'represent': 3746, 'longstand': 2586, 'tommi': 4542, 'thompson': 4511, 'orang': 3105, 'imposs': 2160, 'channel': 730, 'cuyahoga': 1078, 'unlik': 4712, 'viabl': 4782, 'lynn': 2620, 'idea': 2138, 'proce': 3498, 'loughlin': 2602, 'depress': 1196, 'oversaw': 3155, 'door': 1327, 'input': 2221, 'publicemploye': 3551, 'budgetrepair': 571, 'sought': 4182, 'friday': 1776, 'geneva': 1833, 'convent': 968, 'unlaw': 4709, 'entitl': 1478, 'exempt': 1540, 'condom': 910, 'surgic': 4388, 'cargo': 653, 'sheet': 4048, 'sometim': 4170, 'budg': 569, 'simpl': 4093, 'survivor': 4399, 'fundament': 1793, 'selfdefens': 3998, 'solyndra': 4166, 'brennan': 533, 'geograph': 1836, 'limit': 2547, 'respond': 3771, 'burger': 590, 'delici': 1173, 'emerg': 1443, 'panhandl': 3189, 'rebecca': 3642, 'bribe': 538, 'introduc': 2258, 'log': 2577, 'unpreced': 4719, 'associ': 272, 'motorcycl': 2886, 'quot': 3582, 'disgrac': 1266, 'unpaid': 4717, 'room': 3860, 'airstrik': 114, 'repeal': 3739, 'element': 1426, 'doctor': 1303, 'surgeri': 4387, 'extens': 1569, 'coach': 835, 'websit': 4868, 'prek': 3448, 'rd': 3629, 'cite': 795, 'clark': 804, 'trigger': 4612, 'tv': 4647, 'comment': 866, 'vermont': 4775, 'pb': 3251, 'ri': 3800, 'dmv': 1299, 'allianc': 143, 'newsmak': 2966, 'pantsfir': 3192, 'radio': 3592, 'assur': 274, 'froze': 1780, 'bushera': 599, 'fell': 1630, 'pastor': 3225, 'guid': 1937, 'religion': 3715, 'chicago': 757, 'winter': 4924, 'weather': 4865, 'charit': 734, 'celebr': 697, 'christma': 779, 'british': 545, 'hey': 2032, 'succeed': 4350, 'soy': 4195, 'el': 1419, 'harvard': 1991, 'overhead': 3150, 'reloc': 3716, 'recount': 3661, 'talli': 4428, 'counterpart': 1010, 'danni': 1096, 'hide': 2035, 'recidiv': 3651, 'climb': 820, 'steadili': 4272, 'offens': 3061, 'teenag': 4461, 'gordon': 1882, 'arena': 236, 'stick': 4281, 'overdos': 3148, 'prosecut': 3530, 'vacant': 4753, 'passag': 3220, 'stuck': 4324, 'clackama': 802, 'split': 4220, 'bain': 335, 'blame': 457, 'husband': 2126, 'ponzi': 3389, 'migrant': 2788, 'viru': 4799, 'hunt': 2120, 'rocket': 3846, 'pain': 3179, 'clinic': 821, 'mcdonald': 2715, 'factor': 1585, 'movement': 2891, 'atm': 283, 'conced': 901, 'absenc': 21, 'doddfrank': 1306, 'conclud': 906, 'busiest': 601, 'load': 2569, 'ar': 229, 'regulatori': 3700, 'camera': 620, 'arab': 230, 'arkansa': 242, 'onequart': 3086, 'oversight': 3158, 'held': 2014, 'utah': 4747, 'creator': 1039, 'club': 831, 'subhuman': 4335, 'mongrel': 2853, 'justifi': 2364, 'genocid': 1834, 'jewish': 2326, 'spring': 4230, 'listen': 2558, 'favorit': 1619, 'wonder': 4943, 'lifetim': 2539, 'agent': 97, 'dea': 1113, 'atf': 278, 'backroom': 327, 'restaur': 3774, 'infest': 2201, 'jason': 2307, 'carter': 668, 'underfund': 4681, 'summer': 4362, 'metric': 2766, 'flow': 1694, 'default': 1150, 'dismiss': 1269, 'incompet': 2177, 'mirror': 2816, 'habit': 1950, 'match': 2696, 'highli': 2041, 'unusu': 4725, 'redistrict': 3673, 'nusbaum': 3032, 'diowa': 1242, 'affair': 80, 'sixtytwo': 4115, 'mexican': 2770, 'sandwich': 3917, 'inconsist': 2178, 'answer': 190, 'duck': 1371, 'freez': 1769, 'atheist': 279, 'dishonest': 1267, 'bench': 407, 'vari': 4762, 'greenlight': 1914, 'pinella': 3336, 'spain': 4197, 'eightyf': 1417, 'beneficiari': 410, 'fourthlowest': 1743, 'badli': 330, 'botch': 500, 'investig': 2263, 'stupid': 4332, 'barton': 364, 'chairmanship': 721, 'invas': 2260, 'leadership': 2485, 'hivaid': 2061, 'iphon': 2269, 'thc': 4490, 'hussein': 2127, 'pregnant': 3446, 'inconveni': 2179, 'pant': 3190, 'moon': 2864, 'everybodi': 1516, 'pursu': 3564, 'osama': 3118, 'bin': 441, 'laden': 2445, 'barr': 358, 'memo': 2746, 'embrac': 1441, 'homosexu': 2082, 'paso': 3218, 'starr': 4255, 'wine': 4920, 'dine': 1239, 'camp': 621, 'cartel': 667, 'acknowledg': 44, 'bibl': 427, 'felon': 1632, 'phoenix': 3319, 'battlefield': 375, 'import': 2158, 'rein': 3703, 'refinanc': 3683, 'granit': 1905, 'stater': 4264, 'agenda': 96, 'roof': 3858, 'deepwat': 1148, 'bailout': 334, 'surviv': 4398, 'fool': 1705, 'flat': 1678, 'constant': 940, 'hurrican': 2124, 'katrina': 2378, 'armi': 245, 'childless': 764, 'boehner': 479, 'wreck': 4965, 'cascad': 669, 'collaps': 852, 'ignor': 2143, 'laugh': 2469, 'predat': 3439, 'spread': 4228, 'memphi': 2748, 'renov': 3731, 'jolli': 2343, 'outlaw': 3128, 'refin': 3682, 'apprehend': 222, 'fulltim': 1789, 'feed': 1627, 'embryon': 1442, 'stem': 4274, 'youtub': 4989, 'rush': 3884, 'ralli': 3604, 'drag': 1344, 'garbag': 1815, 'susan': 4400, 'shadi': 4039, 'defer': 1156, 'argu': 238, 'request': 3753, 'merit': 2757, 'treason': 4596, 'permiss': 3288, 'poorest': 3393, 'leas': 2490, 'mess': 2761, 'acr': 48, 'januari': 2304, 'amanda': 156, 'fritz': 1779, 'princip': 3480, 'implic': 2157, 'cheat': 748, 'scandal': 3941, 'faster': 1612, 'libya': 2528, 'christoph': 780, 'bing': 443, 'exhaust': 1542, 'flaw': 1680, 'date': 1102, 'leticia': 2514, 'van': 4760, 'putt': 3569, 'franc': 1751, 'night': 2974, 'capitol': 644, 'stronger': 4318, 'daugherti': 1103, 'penalti': 3265, 'strangul': 4298, 'anytim': 204, 'twitter': 4656, 'emin': 1444, 'domain': 1316, 'thrown': 4518, 'referr': 3681, 'condit': 909, 'wound': 4964, 'giuliani': 1856, 'omit': 3081, 'harvey': 1992, 'oswald': 3120, 'nonexist': 2997, 'classifi': 806, 'prostitut': 3536, 'affili': 82, 'disenfranchis': 1265, 'shortfal': 4067, 'assumpt': 273, 'extort': 1572, 'usual': 4746, 'bad': 329, 'ventur': 4773, 'dovilla': 1334, 'pictur': 3327, 'film': 1654, 'cleveland': 814, 'propon': 3526, 'select': 3997, 'elector': 1423, 'johnni': 2338, 'isakson': 2280, 'ayer': 320, 'backlog': 326, 'outofpocket': 3134, 'terribl': 4475, 'kirk': 2406, 'bunch': 583, 'nightmar': 2975, 'judgment': 2352, 'gold': 1873, 'peter': 3303, 'voucher': 4815, 'predatori': 3440, 'lender': 2508, 'phil': 3313, 'zika': 4995, 'analyst': 172, 'loretta': 2594, 'lynch': 2618, 'proabort': 3494, 'merkley': 2758, 'deeper': 1145, 'secondhighest': 3980, 'recov': 3662, 'traffick': 4575, 'unauthor': 4673, 'emiss': 1446, 'temperatur': 4464, 'fahrenheit': 1589, 'jerri': 2318, 'nd': 2936, 'sticker': 4282, 'seventi': 4032, 'revers': 3790, 'columbia': 858, 'barri': 361, 'policemen': 3380, 'weak': 4858, 'whove': 4900, 'honest': 2084, 'lifelong': 2537, 'neighbor': 2949, 'pile': 3330, 'joint': 2341, 'revolutionari': 3795, 'perpetr': 3290, 'jimmi': 2331, 'langevin': 2455, 'arm': 244, 'annex': 184, 'hemispher': 2020, 'sugar': 4356, 'encount': 1454, 'jurisdict': 2362, 'strictest': 4311, 'margin': 2669, 'london': 2581, 'photograph': 3323, 'nose': 3013, 'wave': 4855, 'magic': 2630, 'wand': 4829, 'twoyear': 4659, 'fasttrack': 1615, 'easili': 1394, 'scrap': 3961, 'sworn': 4414, 'holi': 2070, 'miamidad': 2773, 'sewer': 4035, 'asid': 259, 'unconstitut': 4677, 'decrimin': 1139, 'cpa': 1026, 'spi': 4215, 'hack': 1951, 'attach': 286, 'hard': 1978, 'jacob': 2297, 'paperback': 3194, 'edit': 1405, 'materi': 2698, 'disastr': 1255, 'recal': 3646, 'kim': 2400, 'map': 2662, 'gerrymand': 1844, 'bankrupt': 346, 'begich': 393, 'segment': 3993, 'bright': 542, 'unnecessari': 4715, 'coalfir': 837, 'degrad': 1163, 'qualiti': 3574, 'reflect': 3684, 'amaz': 158, 'platform': 3357, 'fingerprint': 1659, 'resolv': 3766, 'skip': 4119, 'moin': 2847, 'novemb': 3021, 'hillsborough': 2052, 'fluorid': 1699, 'jew': 2325, 'meltdown': 2743, 'concern': 904, 'civilian': 801, 'casualti': 678, 'sullivan': 4361, 'consult': 947, 'prescrib': 3457, 'marketplac': 2676, 'urban': 4737, 'wear': 4864, 'ukrain': 4664, 'realiz': 3637, 'fed': 1624, 'carrier': 663, 'crack': 1027, 'middleincom': 2784, 'earner': 1388, 'teddi': 4459, 'christian': 777, 'lgbt': 2520, 'slave': 4126, 'particularli': 3209, 'carcieri': 649, 'jerusalem': 2321, 'attent': 290, 'suv': 4405, 'paycheck': 3245, 'heck': 2011, 'disagre': 1251, 'strongli': 4320, 'greenhous': 1913, 'gase': 1819, 'alabama': 120, 'tide': 4521, 'saturday': 3925, 'ok': 3071, 'mid': 2781, 'freed': 1766, 'ku': 2433, 'klux': 2416, 'klan': 2413, 'adjust': 62, 'conform': 921, 'pm': 3370, 'present': 3460, 'oklahoma': 3073, 'louisiana': 2605, 'kansa': 2370, 'separ': 4012, 'nativ': 2927, 'blood': 463, 'consumpt': 949, 'uncl': 4674, 'porkfil': 3400, 'stuf': 4329, 'frank': 1755, 'guinta': 1940, 'august': 301, 'melania': 2741, 'happili': 1975, 'dearborn': 1122, 'mich': 2775, 'allah': 137, 'lorann': 2592, 'ausley': 303, 'easier': 1393, 'scale': 3937, 'firemen': 1665, 'unaccount': 4670, 'rang': 3611, 'construct': 945, 'aig': 106, 'express': 1566, 'rabid': 3583, 'brazil': 525, 'budweis': 572, 'soccer': 4150, 'pine': 3335, 'detent': 1216, 'southwest': 4191, 'sellwood': 4002, 'plale': 3350, 'cosponsor': 998, 'precipit': 3436, 'foreignborn': 1717, 'prostat': 3535, 'injuri': 2214, 'connecticut': 930, 'prior': 3483, 'chafe': 716, 'egypt': 1412, 'brotherhood': 554, 'pardon': 3197, 'longest': 2585, 'endur': 1459, 'fortyf': 1731, 'solv': 4164, 'preach': 3432, 'reliabl': 3712, 'boy': 509, 'ratifi': 3623, 'extrem': 1575, 'arriv': 250, 'sourc': 4185, 'prosper': 3533, 'nonviol': 3003, 'panel': 3188, 'textbook': 4486, 'complaint': 888, 'malfeas': 2645, 'syndrom': 4416, 'northeastern': 3010, 'pascrel': 3217, 'deepli': 1147, 'rip': 3825, 'tribut': 4611, 'stephen': 4276, 'bp': 513, 'tourism': 4560, 'termin': 4473, 'nick': 2972, 'profici': 3507, 'harder': 1981, 'mankind': 2656, 'otherwis': 3121, 'guest': 1935, 'whenev': 4890, 'weigh': 4874, 'pound': 3421, 'haiti': 1956, 'fastest': 1613, 'metrorail': 2769, 'trooper': 4621, 'gunfre': 1944, 'zone': 4998, 'gang': 1811, 'chronic': 781, 'east': 1395, 'coast': 839, 'explor': 1561, 'tremend': 4604, 'virginian': 4797, 'thirti': 4507, 'harrisburg': 1989, 'regardless': 3690, 'ethnic': 1506, 'orient': 3114, 'cass': 674, 'sunstein': 4367, 'czar': 1080, 'sue': 4354, 'meat': 2727, 'fast': 1611, 'furiou': 1797, 'suzann': 4406, 'bonamici': 483, 'partisan': 3210, 'werent': 4883, 'dimora': 1238, 'curb': 1070, 'fossil': 1736, 'embargo': 1439, 'stockpil': 4286, 'yearlong': 4978, 'satisfi': 3924, 'millenni': 2797, 'navig': 2932, 'complex': 890, 'nj': 2985, 'fall': 1598, 'joni': 2347, 'ernst': 1495, 'scientist': 3957, 'alzheim': 155, 'litig': 2560, 'payasyougo': 3244, 'principl': 3481, 'surplus': 4391, 'miranda': 2815, 'highvalu': 2045, 'properli': 3524, 'pristin': 3487, 'stream': 4302, 'concess': 905, 'founder': 1740, 'ought': 3123, 'jame': 2300, 'mayb': 2707, 'sealevel': 3969, 'lowwag': 2613, 'anderson': 174, 'disproportion': 1277, 'thanksgiv': 4489, 'bought': 502, 'accid': 32, 'unintend': 4703, 'kkk': 2412, 'entranc': 1479, 'merger': 2756, 'perimet': 3284, 'mosqu': 2877, 'multimillionair': 2898, 'explos': 1562, 'appeal': 212, 'merri': 2759, 'marwig': 2686, 'corrupt': 995, 'wedlock': 4871, 'twentyf': 4651, 'minimumwag': 2808, 'liquor': 2556, 'freshman': 1773, 'gibb': 1846, 'anniversari': 185, 'denmark': 1186, 'australia': 306, 'obsolet': 3047, 'divis': 1297, 'focus': 1700, 'egyptian': 1413, 'sat': 3922, 'ed': 1404, 'gillespi': 1848, 'recommend': 3656, 'inelig': 2197, 'kerri': 2390, 'leagu': 2486, 'holli': 2072, 'turner': 4644, 'homestead': 2080, 'fort': 1728, 'grothman': 1919, 'phase': 3311, 'art': 252, 'pat': 3226, 'mccrori': 2714, 'surg': 4385, 'stage': 4243, 'copay': 980, 'disclosur': 1258, 'earthquak': 1390, 'spike': 4216, 'temporarili': 4466, 'inject': 2212, 'submit': 4338, 'earliest': 1385, 'buse': 596, 'rushhour': 3885, 'sunset': 4366, 'freeway': 1768, 'gallup': 1806, 'jessica': 2322, 'wholli': 4898, 'port': 3403, 'sort': 4180, 'web': 4866, 'site': 4108, 'compil': 886, 'nobid': 2987, 'zack': 4992, 'jennif': 2314, 'nh': 2970, 'miscarriag': 2817, 'wive': 4938, 'margaret': 2668, 'hw': 2129, 'arctic': 234, 'sooner': 4177, 'rebat': 3641, 'cincinnati': 789, 'unelect': 4691, 'nunn': 3030, 'nonprofit': 2999, 'menendez': 2750, 'chu': 783, 'tower': 4564, 'mix': 2834, 'alleg': 139, 'unwant': 4727, 'deputi': 1198, 'workplac': 4951, 'hitler': 2059, 'mubarak': 2897, 'cairo': 612, 'threaten': 4515, 'pearl': 3256, 'harbor': 1977, 'rio': 3823, 'grand': 1902, 'valley': 4758, 'award': 318, 'treat': 4599, 'unfairli': 4696, 'exclud': 1537, 'acorn': 46, 'hagan': 1953, 'understand': 4687, 'butt': 603, 'reservoir': 3759, 'rug': 3877, 'conclus': 907, 'manipul': 2655, 'data': 1100, 'stringent': 4314, 'slower': 4132, 'lilli': 2545, 'ledbett': 2494, 'chase': 742, 'playoff': 3361, 'paytoplay': 3250, 'salem': 3906, 'philadelphia': 3314, 'sean': 3971, 'duffi': 1373, 'mopac': 2866, 'william': 4912, 'cannon': 636, 'client': 816, 'enabl': 1452, 'straight': 4297, 'taliban': 4425, 'fl': 1675, 'govt': 1894, 'spill': 4217, 'beaverton': 384, 'doug': 1332, 'deserv': 1205, 'neumann': 2956, 'monday': 2851, 'kurt': 2436, 'schrader': 3953, 'prekindergarten': 3449, 'poison': 3374, 'mercuri': 2754, 'noncollegeeduc': 2994, 'digit': 1235, 'explicitli': 1558, 'pittsburgh': 3346, 'crimea': 1047, 'soviet': 4193, 'republ': 3748, 'suppli': 4375, 'oblig': 3044, 'retire': 3782, 'megyn': 2740, 'kelli': 2381, 'residenti': 3761, 'custodi': 1075, 'candidaci': 634, 'duckworth': 1372, 'pop': 3394, 'excel': 1531, 'girlfriend': 1855, 'knew': 2417, 'boyfriend': 512, 'ice': 2136, 'hondura': 2083, 'peer': 3260, 'march': 2665, 'rebel': 3643, 'unilater': 4700, 'jan': 2301, 'miller': 2798, 'brew': 534, 'mitchel': 2830, 'dome': 1317, 'upheld': 4731, 'copenhagen': 981, 'democraci': 1181, 'forev': 1719, 'subsequ': 4342, 'forfeitur': 1721, 'bike': 437, 'lane': 2454, 'proven': 3544, 'wood': 4945, 'crook': 1055, 'domin': 1319, 'kingston': 2405, 'nascar': 2922, 'welcom': 4877, 'divers': 1293, 'distract': 1286, 'wheel': 4889, 'roadway': 3837, 'sing': 4099, 'numberon': 3028, 'tourist': 4561, 'luxuri': 2617, 'hotel': 2100, 'charleston': 737, 'seced': 3977, 'profess': 3504, 'bosnia': 497, 'flower': 1695, 'custom': 1076, 'yard': 4975, 'automak': 310, 'adler': 63, 'dump': 1376, 'strict': 4310, 'trimet': 4615, 'contain': 951, 'destin': 1211, 'resort': 3767, 'rapid': 3616, 'herbert': 2023, 'hoover': 2090, 'opposit': 3101, 'sister': 4106, 'shield': 4056, 'climatechang': 819, 'safe': 3897, 'presidentelect': 3463, 'monica': 2855, 'consequ': 934, 'expir': 1555, 'workrel': 4952, 'submarin': 4337, 'compris': 896, 'invit': 2265, 'accommod': 34, 'jesu': 2323, 'ratio': 3624, 'randi': 3610, 'hopper': 2092, 'rfond': 3798, 'du': 1369, 'lac': 2443, 'lever': 2517, 'congressmen': 927, 'smart': 4139, 'legitim': 2504, 'widespread': 4904, 'visibl': 4801, 'waukesha': 4854, 'narrow': 2920, 'beverag': 425, 'soda': 4155, 'juic': 2354, 'twenti': 4650, 'plummet': 3368, 'upstat': 4733, 'identifi': 2141, 'ninth': 2983, 'lag': 2447, 'usborn': 4741, 'webb': 4867, 'ganley': 1812, 'fs': 1783, 'lend': 2507, 'twentyfour': 4652, 'cold': 851, 'abid': 9, 'bottl': 501, 'iv': 2292, 'madison': 2626, 'contractor': 960, 'disclos': 1257, 'webster': 4869, 'waterboard': 4851, 'toughest': 4558, 'disarm': 1253, 'wisconsinit': 4928, 'significantli': 4089, 'tampa': 4430, 'uber': 4662, 'midterm': 2786, 'anglo': 179, 'ineffect': 2196, 'transpar': 4588, 'railroad': 3598, 'gather': 1821, 'instabl': 2229, 'kicker': 2394, 'trial': 4609, 'conven': 967, 'temporari': 4465, 'lack': 2444, 'summit': 4363, 'dispos': 1276, 'era': 1491, 'inspector': 2227, 'rock': 3845, 'architect': 233, 'pryor': 3549, 'stuff': 4330, 'drove': 1363, 'qatar': 3571, 'surrend': 4393, 'dri': 1354, 'delawar': 1168, 'kirkpatrick': 2407, 'constitu': 942, 'cori': 986, 'gardner': 1818, 'youd': 4984, 'preexist': 3443, 'flew': 1683, 'turbin': 4640, 'hero': 2027, 'kander': 2369, 'escap': 1497, 'boat': 473, 'haitian': 1957, 'dictat': 1230, 'fairli': 1593, 'retrofit': 3783, 'pasch': 3215, 'tab': 4420, 'foster': 1737, 'eighti': 1415, 'livestock': 2564, 'render': 3727, 'retent': 3780, 'entri': 1481, 'greec': 1911, 'saint': 3903, 'music': 2908, 'festiv': 1640, 'jeremiah': 2317, 'uniqu': 4705, 'download': 1336, 'squar': 4232, 'revolut': 3794, 'newli': 2963, 'korean': 2426, 'tool': 4546, 'screwdriv': 3964, 'milk': 2794, 'louie': 2604, 'gohmert': 1872, 'anticip': 197, 'naral': 2917, 'dispar': 1272, 'offset': 3065, 'detain': 1214, 'lemieux': 2506, 'task': 4439, 'pipe': 3341, 'shade': 4038, 'kidnap': 2396, 'sacrif': 3894, 'courag': 1016, 'context': 954, 'lbj': 2482, 'princ': 3479, 'artist': 256, 'justin': 2365, 'jay': 2308, 'ident': 2139, 'marshal': 2680, 'oh': 3067, 'overwhelmingli': 3164, 'halliburton': 1962, 'defraud': 1161, 'cruis': 1062, 'missil': 2823, 'peac': 3252, 'fenc': 1637, 'deborah': 1126, 'languish': 2457, 'error': 1496, 'exoner': 1545, 'romneycar': 3854, 'hank': 1972, 'marta': 2681, 'drain': 1345, 'guatemala': 1932, 'buono': 584, 'perstud': 3299, 'charter': 741, 'antonin': 198, 'scalia': 3938, 'injur': 2213, 'bird': 446, 'ali': 132, 'overse': 3156, 'martinez': 2685, 'bit': 453, 'hog': 2066, 'recklessli': 3653, 'gift': 1847, 'appar': 211, 'sight': 4084, 'petersburg': 3304, 'deep': 1144, 'puerto': 3556, 'rico': 3811, 'pallon': 3184, 'jeopard': 2315, 'biggovern': 436, 'takeov': 4424, 'barn': 356, 'entiti': 1477, 'blueprint': 468, 'competitor': 885, 'gogeb': 1871, 'nafta': 2914, 'search': 3972, 'pistol': 3344, 'ak': 115, 'complic': 893, 'ayott': 321, 'pell': 3261, 'contrast': 962, 'duggar': 1374, 'discov': 1259, 'infract': 2207, 'ncaa': 2935, 'closer': 827, 'halfway': 1960, 'confeder': 912, 'malaysia': 2643, 'passport': 3223, 'professor': 3506, 'essenti': 1500, 'maggi': 2629, 'fewest': 1643, 'formal': 1725, 'nsa': 3024, 'okay': 3072, 'post': 3415, 'contest': 953, 'sharp': 4045, 'hawaii': 1998, 'aspirin': 262, 'cdc': 694, 'transmit': 4586, 'tuesday': 4635, 'ward': 4833, 'inner': 2216, 'shell': 4052, 'renam': 3726, 'gingrey': 1851, 'electron': 1425, 'warrant': 4839, 'notic': 3017, 'referendum': 3680, 'levi': 2518, 'worsen': 4958, 'thom': 4509, 'tilli': 4526, 'deriv': 1201, 'displac': 1274, 'deposit': 1195, 'environmentalist': 1484, 'altogeth': 153, 'dental': 1188, 'asianamerican': 258, 'pacif': 3173, 'richmond': 3809, 'decemb': 1131, 'selffund': 3999, 'blow': 465, 'subpoena': 4339, 'pattern': 3235, 'matern': 2699, 'hasner': 1993, 'dean': 1121, 'freshmen': 1774, 'portray': 3409, 'meal': 2719, 'rachel': 3585, 'zenzing': 4993, 'junket': 2360, 'surpris': 4392, 'cheaper': 747, 'paula': 3239, 'innov': 2219, 'compet': 883, 'holder': 2068, 'bloomberg': 464, 'nuke': 3026, 'buri': 591, 'difficult': 1234, 'prime': 3478, 'minist': 2809, 'endang': 1457, 'necessarili': 2942, 'dave': 1105, 'aronberg': 247, 'unless': 4711, 'benjamin': 413, 'netanyahu': 2953, 'label': 2441, 'beef': 389, 'carrol': 664, 'martial': 2683, 'mickey': 2779, 'mous': 2890, 'earl': 1382, 'blumenau': 469, 'gp': 1895, 'stake': 4245, 'carol': 657, 'sheaport': 4047, 'tag': 4422, 'obes': 3041, 'hyde': 2131, 'vice': 4784, 'dick': 1229, 'cheney': 753, 'outstand': 3144, 'staterun': 4265, 'upcom': 4728, 'titl': 4533, 'orlean': 3117, 'unmatch': 4714, 'smog': 4142, 'dodg': 1307, 'narcot': 2918, 'confisc': 918, 'remark': 3718, 'bulk': 578, 'commonli': 874, 'pakistan': 3181, 'april': 228, 'citru': 799, 'grower': 1923, 'byrn': 607, 'underperform': 4686, 'caprio': 645, 'prenat': 3453, 'horribl': 2094, 'ix': 2294, 'kurd': 2435, 'dive': 1292, 'loos': 2591, 'ebay': 1398, 'whitman': 4896, 'forum': 1734, 'glasssteagal': 1861, 'servicemen': 4025, 'privileg': 3491, 'chapter': 731, 'carlo': 656, 'timelin': 4529, 'ceremoni': 707, 'hill': 2049, 'besid': 420, 'observ': 3046, 'frozen': 1781, 'howard': 2110, 'sixti': 4113, 'condemn': 908, 'highesttax': 2040, 'dirti': 1249, 'danc': 1092, 'acrosstheboard': 49, 'distanc': 1282, 'bu': 563, 'gentrifi': 1835, 'buyback': 605, 'scream': 3962, 'ireland': 2276, 'fighter': 1650, 'contrari': 961, 'victor': 4787, 'fraudul': 1761, 'extraordinari': 1574, 'sand': 3914, 'barrier': 362, 'donut': 1326, 'aunt': 302, 'rememb': 3720, 'airplan': 112, 'liberti': 2525, 'columbiahca': 859, 'nike': 2976, 'environment': 1483, 'barnett': 357, 'shale': 4041, 'caucus': 687, 'unequivoc': 4693, 'penitentiari': 3268, 'mosquito': 2878, 'incub': 2184, 'till': 4525, 'hook': 2087, 'twoandahalf': 4657, 'crazi': 1035, 'incandesc': 2168, 'petit': 3305, 'signer': 4087, 'presenc': 3459, 'monument': 2863, 'transgend': 4583, 'corzin': 997, 'brat': 523, 'startup': 4257, 'manual': 2659, 'safer': 3898, 'pour': 3422, 'disast': 1254, 'burr': 594, 'frederica': 1764, 'wilson': 4914, 'closur': 829, 'singlepar': 4101, 'pharmaci': 3309, 'influenc': 2205, 'duke': 1375, 'sept': 4013, 'cervic': 712, 'bound': 503, 'evil': 1521, 'resist': 3764, 'metropolitan': 2768, 'leak': 2487, 'helmet': 2018, 'algebra': 130, 'lamar': 2450, 'memori': 2747, 'non': 2992, 'older': 3075, 'shun': 4076, 'basketbal': 370, 'lunch': 2615, 'examin': 1527, 'measl': 2725, 'outbreak': 3125, 'ordinari': 3108, 'alexi': 129, 'riski': 3829, 'kean': 2380, 'norm': 3005, 'boycott': 511, 'hartsfieldjackson': 1990, 'alarm': 122, 'pet': 3301, 'bernardino': 418, 'shooter': 4062, 'megan': 2739, 'howev': 2112, 'newport': 2964, 'eventu': 1513, 'noaa': 2986, 'economist': 1403, 'rosen': 3865, 'southeast': 4187, 'trend': 4605, 'doubt': 1331, 'cigarett': 788, 'groceri': 1917, 'sugari': 4357, 'seek': 3991, 'er': 1490, 'naval': 2930, 'redirect': 3671, 'mode': 2840, 'charl': 736, 'forbidden': 1710, 'touch': 4554, 'donaldtrump': 1321, 'bankrol': 345, 'yorker': 4983, 'shower': 4072, 'atlant': 281, 'balancedbudget': 338, 'truck': 4624, 'quadrupl': 3572, 'enrich': 1470, 'inaugur': 2167, 'wide': 4903, 'fortysix': 1733, 'tow': 4563, 'miami': 2772, 'insist': 2225, 'fema': 1635, 'trenton': 4606, 'stress': 4307, 'hobbi': 2065, 'toy': 4567, 'asthma': 275, 'flore': 1691, 'hurd': 2123, 'tend': 4467, 'kentuckian': 2387, 'graham': 1901, 'whatev': 4887, 'boomer': 489, 'exit': 1544, 'franken': 1757, 'avid': 315, 'mahon': 2633, 'richardson': 3807, 'prototyp': 3540, 'kohl': 2423, 'chrysler': 782, 'leftw': 2498, 'petraeu': 3306, 'ms': 2895, 'loung': 2606, 'renacci': 3724, 'hypocrit': 2134, 'roadsid': 3836, 'tarp': 4438, 'rezko': 3797, 'lien': 2534, 'unsaf': 4721, 'ribboncut': 3802, 'nixon': 2984, 'rideshar': 3816, 'marti': 2682, 'cuban': 1066, 'vern': 4776, 'buchanan': 564, 'tip': 4531, 'distribut': 1288, 'dolphin': 1315, 'appalachian': 210, 'libyan': 2529, 'gelber': 1828, 'needi': 2944, 'congest': 923, 'rig': 3818, 'rasmussen': 3620, 'linn': 2554, 'nashvil': 2923, 'desk': 1208, 'ben': 405, 'drown': 1364, 'wildli': 4910, 'swap': 4407, 'bow': 505, 'bergdahl': 415, 'exce': 1529, 'detroit': 1218, 'atom': 285, 'lid': 2531, 'prop': 3521, 'excis': 1535, 'behavior': 397, 'statut': 4270, 'drunken': 1368, 'boston': 499, 'marathon': 2664, 'variou': 4763, 'flint': 1686, 'afterward': 93, 'inaccur': 2164, 'squander': 4231, 'lay': 2480, 'fiorina': 1662, 'warhead': 4834, 'bed': 388, 'fraction': 1748, 'launder': 2471, 'dole': 1313, 'gender': 1830, 'belong': 402, 'cook': 972, 'ninetyseven': 2981, 'rightw': 3822, 'antiabort': 193, 'googl': 1880, 'franchis': 1752, 'abject': 11, 'lowerincom': 2610, 'mammogram': 2647, 'aggress': 98, 'nake': 2915, 'missourian': 2827, 'compens': 882, 'morri': 2874, 'cotton': 1003, 'dwight': 1381, 'certifi': 711, 'harass': 1976, 'crackdown': 1028, 'dwi': 1380, 'raes': 3593, 'sky': 4120, 'delano': 1167, 'doubledigit': 1330, 'evenli': 1511, 'ahead': 103, 'sadli': 3896, 'divorc': 1298, 'dian': 1228, 'radar': 3589, 'overnight': 3152, 'recordbreak': 3660, 'musharraf': 2907, 'slush': 4133, 'milliondollar': 2801, 'schip': 3948, 'abrahamlincoln': 18, 'method': 2765, 'stab': 4236, 'minim': 2806, 'output': 3138, 'breath': 531, 'scam': 3939, 'ceas': 695, 'walton': 4828, 'occident': 3051, 'pill': 3331, 'supervisor': 4373, 'landslid': 2453, 'behead': 398, 'surgeon': 4386, 'plain': 3349, 'sayshillari': 3932, 'await': 317, 'trustworthi': 4630, 'charlott': 739, 'pretend': 3467, 'counter': 1008, 'extinct': 1571, 'genet': 1832, 'ham': 1963, 'slice': 4128, 'bread': 527, 'usda': 4742, 'contin': 955, 'giveaway': 1857, 'cfl': 713, 'bureaucraci': 588, 'tape': 4434, 'broker': 551, 'seller': 4001, 'viciou': 4785, 'surveil': 4396, 'dorm': 1328, 'downstream': 1337, 'outrag': 3139, 'satellit': 3923, 'frisk': 1778, 'postag': 3416, 'dday': 1112, 'normandi': 3007, 'smuggl': 4145, 'lawn': 2476, 'loudli': 2601, 'jihad': 2327, 'unoppos': 4716, 'fidel': 1644, 'castro': 677, 'buyer': 606, 'consul': 946, 'ipad': 2268, 'probe': 3496, 'polar': 3377, 'vortex': 4811, 'melt': 2742, 'distinguish': 1284, 'allig': 144, 'silent': 4091, 'brendan': 532, 'doherti': 1312, 'maryland': 2688, 'highestpaid': 2039, 'angri': 180, 'exception': 1532, 'lewi': 2519, 'ongo': 3091, 'poland': 3376, 'inact': 2165, 'signatur': 4086, 'shift': 4057, 'trace': 4569, 'ozon': 3169, 'advisor': 76, 'coop': 976, 'enterpris': 1475, 'beneath': 409, 'ampl': 169, 'rocki': 3847, 'mountain': 2889, 'ram': 3606, 'holperin': 2074, 'cup': 1069, 'barbecu': 352, 'robber': 3839, 'theorist': 4495, 'yemen': 4980, 'molest': 2848, 'clip': 823, 'gillnet': 1849, 'twelv': 4649, 'cleanup': 810, 'heroin': 2028, 'rothstein': 3867, 'rene': 3728, 'ellmer': 1434, 'priorit': 3484, 'kathryn': 2376, 'starkey': 4254, 'anight': 181, 'hotelmotel': 2101, 'supposedli': 4378, 'guidelin': 1938, 'columbu': 860, 'speci': 4203, 'workman': 4950, 'prosser': 3534, 'prejudg': 3447, 'compon': 894, 'gear': 1826, 'ambiti': 162, 'uncompens': 4676, 'absorb': 25, 'juri': 2361, 'pinprick': 3338, 'soundli': 4184, 'goat': 1868, 'innerc': 2217, 'convers': 969, 'falcon': 1596, 'matt': 2702, 'hooter': 2089, 'tini': 4530, 'window': 4919, 'portlandmilwauki': 3407, 'glass': 1860, 'traumat': 4592, 'brain': 519, 'pedophil': 3259, 'diminish': 1237, 'counterterror': 1011, 'crippl': 1049, 'nevadan': 2959, 'heterosexu': 2029, 'tobacco': 4534, 'runyan': 3882, 'royalti': 3874, 'mph': 2893, 'compromis': 897, 'statehous': 4260, 'key': 2391, 'propaganda': 3522, 'maddox': 2624, 'reauthor': 3640, 'season': 3973, 'turkey': 4641, 'repair': 3736, 'suspicion': 4403, 'articl': 254, 'incometax': 2176, 'golf': 1876, 'tuitionfre': 4637, 'kentucki': 2386, 'spew': 4214, 'distort': 1285, 'heart': 2008, 'lyndon': 2619, 'partit': 3211, 'galveston': 1807, 'array': 248, 'alert': 127, 'intact': 2241, 'debunk': 1128, 'stack': 4238, 'display': 1275, 'urg': 4738, 'settlement': 4030, 'seal': 3968, 'paulson': 3240, 'bernank': 417, 'christ': 775, 'nc': 2934, 'ninetyf': 2979, 'birmingham': 447, 'ala': 119, 'miracl': 2814, 'print': 3482, 'childbirth': 761, 'tuberculosi': 4634, 'databas': 1101, 'insert': 2223, 'environ': 1482, 'hottest': 2103, 'panther': 3191, 'intimid': 2257, 'creflo': 1044, 'pro': 3493, 'kati': 2377, 'mcginti': 2717, 'hmo': 2062, 'aim': 107, 'station': 4267, 'empti': 1451, 'fetu': 1641, 'leg': 2499, 'aliv': 136, 'copi': 982, 'suppress': 4379, 'seattl': 3975, 'cart': 666, 'baltimor': 342, 'progun': 3512, 'narragansett': 2919, 'opioid': 3097, 'epidem': 1486, 'logo': 2579, 'factual': 1587, 'accur': 39, 'omnibu': 3082, 'item': 2291, 'dividend': 1296, 'atwat': 296, 'aflcio': 87, 'nofli': 2989, 'shelbi': 4050, 'sorri': 4179, 'bend': 408, 'killer': 2398, 'monitor': 2856, 'fortyseven': 1732, 'specifi': 4207, 'routin': 3871, 'boe': 478, 'nonunion': 3002, 'trap': 4591, 'heavi': 2009, 'subsid': 4343, 'doe': 1308, 'disput': 1278, 'palm': 3185, 'outnumb': 3133, 'deregul': 1200, 'mutual': 2911, 'austinit': 305, 'revel': 3788, 'manhattan': 2653, 'arthur': 253, 'mercedesbenz': 2753, 'rake': 3603, 'outlin': 3130, 'jonathan': 2345, 'gruber': 1926, 'storm': 4295, 'mahal': 2631, 'courthous': 1019, 'worri': 4956, 'capac': 640, 'statefund': 4259, 'pois': 3373, 'wildlif': 4911, 'lent': 2510, 'stateown': 4263, 'baker': 336, 'ipod': 2270, 'blackberri': 455, 'exot': 1546, 'ant': 191, 'sock': 4154, 'underag': 4679, 'receipt': 3647, 'sea': 3967, 'membership': 2745, 'bogu': 480, 'ninetysix': 2982, 'interven': 2254, 'undergo': 4682, 'patdown': 3227, 'supremacist': 4381, 'pole': 3378, 'obviou': 3049, 'malaria': 2642, 'bucket': 566, 'beyonc': 426, 'paperwork': 3195, 'upgrad': 4730, 'notifi': 3018, 'jackson': 2296, 'admir': 66, 'pope': 3395, 'tonight': 4544, 'arbitr': 232, 'robust': 3844, 'outpac': 3136, 'sic': 4079, 'grab': 1896, 'forfeit': 1720, 'descent': 1202, 'outspent': 3143, 'watt': 4853, 'personhood': 3297, 'republicancontrol': 3750, 'obrien': 3045, 'communist': 877, 'emori': 1447, 'swine': 4410, 'flu': 1697, 'giant': 1845, 'whitewat': 4895, 'unregul': 4720, 'ideolog': 2142, 'makeup': 2641, 'lab': 2440, 'settl': 4029, 'dock': 1302, 'latina': 2467, 'serial': 4019, 'therel': 4498, 'postal': 3417, 'cohen': 849, 'cycl': 1079, 'kendrick': 2383, 'meek': 2736, 'tenth': 4470, 'fit': 1672, 'ginsburg': 1853, 'meaning': 2721, 'cow': 1023, 'staf': 4240, 'fan': 1602, 'savannah': 3927, 'dayton': 1110, 'uncontest': 4678, 'boss': 498, 'interestingli': 2246, 'mainstream': 2637, 'tariff': 4436, 'stagger': 4244, 'maintain': 2638, 'stimul': 4283, 'pollster': 3386, 'comey': 864, 'norcross': 3004, 'mate': 2697, 'secondlowest': 3982, 'palestinian': 3182, 'withdrew': 4935, 'rarer': 3619, 'mao': 2661, 'horrend': 2093, 'perceiv': 3276, 'updat': 4729, 'fouryearold': 1745, 'struggl': 4323, 'stopandfrisk': 4292, 'constitution': 944, 'priest': 3475, 'herman': 2026, 'cain': 611, 'unfortun': 4697, 'overtim': 3160, 'costofliv': 1002, 'hardli': 1984, 'confid': 914, 'daniel': 1095, 'audienc': 297, 'nyc': 3035, 'ethanol': 1504, 'wild': 4908, 'morgan': 2869, 'smallbusi': 4135, 'bonu': 485, 'lindsey': 2550, 'tear': 4453, 'pave': 3241, 'techniqu': 4456, 'fear': 1621, 'constantli': 941, 'replic': 3743, 'wolv': 4940, 'cofound': 848, 'heller': 2017, 'hijack': 2047, 'alaskan': 124, 'deadlin': 1116, 'fitzgerald': 1673, 'costli': 1001, 'tent': 4469, 'tragedi': 4576, 'vladimir': 4805, 'putin': 3567, 'greatest': 1910, 'geopolit': 1837, 'soil': 4156, 'booker': 488, 'command': 865, 'montana': 2860, 'oath': 3038, 'solitari': 4162, 'owen': 3166, 'substitut': 4348, 'philippin': 3316, 'partial': 3205, 'defi': 1157, 'standdown': 4251, 'decor': 1137, 'immun': 2153, 'chavez': 744, 'uw': 4749, 'privaci': 3488, 'hemp': 2021, 'calibr': 616, 'liquid': 2555, 'gmo': 1866, 'accomplish': 35, 'grader': 1899, 'undergradu': 4683, 'rutger': 3890, 'camden': 618, 'interim': 2247, 'brewpub': 536, 'museum': 2906, 'aboard': 14, 'unsuccess': 4722, 'haridopolo': 1986, 'duplic': 1378, 'wineri': 4921, 'affirm': 83, 'admiss': 67, 'reus': 3785, 'withdrawn': 4934, 'withhold': 4937, 'yr': 4991, 'categori': 682, 'deliber': 1172, 'rooftop': 3859, 'governmentmand': 1889, 'wasilla': 4844, 'librarian': 2527, 'profil': 3508, 'precondit': 3438, 'del': 1166, 'poizner': 3375, 'slaveri': 4127, 'stone': 4289, 'rivera': 3833, 'desir': 1207, 'koran': 2424, 'jumpstart': 2357, 'putnam': 3568, 'goldplat': 1875, 'lightrail': 2543, 'carson': 665, 'box': 507, 'ninetyfour': 2980, 'oldest': 3076, 'tire': 4532, 'da': 1082, 'pamphlet': 3187, 'espionag': 1499, 'whistleblow': 4892, 'milken': 2795, 'topperform': 4548, 'grandfath': 1904, 'watersh': 4852, 'assert': 267, 'pioneer': 3339, 'sanger': 3919, 'coalit': 838, 'scuttl': 3966, 'franci': 1753, 'landrieu': 2452, 'southsid': 4190, 'chain': 718, 'brag': 518, 'quarterback': 3576, 'mar': 2663, 'bull': 579, 'abroad': 20, 'scrutini': 3965, 'libertarian': 2524, 'fishermen': 1671, 'speed': 4211, 'garden': 1817, 'brave': 524, 'recreat': 3664, 'regress': 3696, 'section': 3987, 'pursuit': 3565, 'mitig': 2831, 'nytim': 3037, 'cresent': 1045, 'hardi': 1983, 'tech': 4454, 'jam': 2299, 'musician': 2909, 'isil': 2282, 'outag': 3124, 'steel': 4273, 'jeopardi': 2316, 'jane': 2302, 'norton': 3012, 'salmonella': 3907, 'drawdown': 1350, 'dioxid': 1243, 'apprehens': 223, 'mere': 2755, 'attrit': 295, 'farrakhan': 1610, 'meg': 2738, 'prospect': 3532, 'rosemari': 3864, 'lehmberg': 2505, 'philosoph': 3318, 'loui': 2603, 'rigel': 3819, 'mainli': 2636, 'bermuda': 416, 'furlough': 1798, 'guardsmen': 1931, 'calendar': 614, 'myer': 2912, 'appel': 214, 'forcibl': 1712, 'mormon': 2870, 'downturn': 1339, 'sixteen': 4110, 'strateg': 4299, 'petroleum': 3307, 'lessen': 2512, 'lifesav': 2538, 'governorelect': 1892, 'plumber': 3367, 'onefourth': 3084, 'andi': 175, 'lobster': 2573, 'purg': 3562, 'volcano': 4808, 'tout': 4562, 'note': 3015, 'vendor': 4771, 'corridor': 994, 'passeng': 3221, 'everywher': 1519, 'patti': 3237, 'murray': 2905, 'percapita': 3275, 'dakota': 1086, 'seed': 3990, 'assess': 268, 'swim': 4409, 'legaci': 2500, 'antichoic': 195, 'regim': 3691, 'rwi': 3891, 'wellpaid': 4879, 'affluent': 84, 'breakfast': 529, 'blunt': 470, 'hotlin': 2102, 'flip': 1687, 'deepest': 1146, 'staffer': 4242, 'curbelo': 1071, 'kenosha': 2385, 'seminol': 4004, 'tribe': 4610, 'peanut': 3255, 'czech': 1081, 'desert': 1204, 'dip': 1244, 'ratepay': 3622, 'persuad': 3300, 'slam': 4122, 'thirdlargest': 4506, 'andrew': 176, 'fake': 1595, 'insuffici': 2238, 'amtrak': 170, 'derail': 1199, 'autism': 308, 'waiv': 4821, 'crude': 1061, 'embassi': 1440, 'vatican': 4765, 'dee': 1142, 'occas': 3050, 'wasgovernor': 4841, 'aa': 0, 'gao': 1813, 'contend': 952, 'limbaugh': 2546, 'devil': 1222, 'ibm': 2135, 'overrun': 3154, 'renegoti': 3729, 'broun': 556, 'guardian': 1930, 'quick': 3578, 'semiautomat': 4003, 'saysberni': 3931, 'whod': 4897, 'disney': 1270, 'explain': 1556, 'explan': 1557, 'nebraska': 2940, 'comptrol': 898, 'tb': 4448, 'schoolchildren': 3952, 'theocraci': 4494, 'anymor': 201, 'elizabeth': 1432, 'extent': 1570, 'toomey': 4547, 'unarm': 4672, 'crow': 1059, 'brad': 515, 'stove': 4296, 'broadband': 547, 'redistribut': 3672, 'runaway': 3880, 'trek': 4603, 'wing': 4922, 'broader': 548, 'naacp': 2913, 'anonym': 188, 'pam': 3186, 'accuraci': 40, 'thirdgrad': 4504, 'mahmoud': 2632, 'abba': 5, 'millag': 2796, 'noshow': 3014, 'ellen': 1433, 'flown': 1696, 'rider': 3814, 'dec': 1129, 'wise': 4930, 'wildfir': 4909, 'drugrel': 1366, 'disqualifi': 1279, 'cafe': 609, 'surcharg': 4382, 'sununu': 4368, 'belt': 403, 'dairi': 1085, 'kosher': 2427, 'overlook': 3151, 'smallest': 4137, 'oreilli': 3112, 'opt': 3102, 'underwear': 4689, 'emir': 1445, 'lone': 2582, 'bisexu': 451, 'secretli': 3986, 'protein': 3538, 'tunnel': 4639, 'denver': 1189, 'fudg': 1784, 'wanggaard': 4830, 'piraci': 3343, 'counterfeit': 1009, 'coyot': 1025, 'multipli': 2900, 'applaud': 216, 'circuit': 791, 'followup': 1703, 'brunner': 560, 'credenti': 1040, 'kriseman': 2431, 'patent': 3228, 'suddenli': 4353, 'pizza': 3347, 'chai': 717, 'subsaharan': 4341, 'pediatr': 3257, 'newborn': 2962, 'aka': 116, 'antichrist': 196, 'plate': 3356, 'pip': 3340, 'cousin': 1020, 'raila': 3597, 'odinga': 3059, 'simpson': 4095, 'entrepreneurship': 1480, 'wastewat': 4848, 'instant': 2232, 'partialbirth': 3206, 'systemat': 4419, 'unincorpor': 4701, 'brookhaven': 552, 'sheila': 4049, 'cochair': 844, 'monthli': 2862, 'wash': 4842, 'tighten': 4524, 'moammar': 2836, 'gadhafi': 1803, 'elabor': 1420, 'loud': 2600, 'dem': 1179, 'loom': 2589, 'publicsector': 3553, 'simultan': 4097, 'metal': 2764, 'quonset': 3581, 'coffer': 846, 'overrul': 3153, 'actor': 54, 'chad': 715, 'mcchrystal': 2711, 'blackston': 456, 'prep': 3454, 'academi': 28, 'cumberland': 1068, 'sidelin': 4081, 'discret': 1260, 'notori': 3020, 'finland': 1661, 'windmil': 4918, 'anthoni': 192, 'rauner': 3626, 'hardwork': 1985, 'penal': 3264, 'guilti': 1939, 'nikita': 2977, 'hardearn': 1980, 'decept': 1132, 'aplu': 208, 'meanstest': 2722, 'elev': 1429, 'brand': 522, 'republicanl': 3751, 'aspect': 261, 'philli': 3317, 'squarefoot': 4233, 'cough': 1004, 'dinosaur': 1241, 'dam': 1089, 'territori': 4476, 'saysth': 3934, 'lassa': 2461, 'server': 4023, 'dealership': 1119, 'pathway': 3230, 'squat': 4234, 'untrain': 4724, 'atmospher': 284, 'stupak': 4331, 'bruun': 562, 'ridership': 3815, 'midnight': 2785, 'unveil': 4726, 'complain': 887, 'lloyd': 2567, 'doggett': 1311, 'sebeliu': 3976, 'onehalf': 3085, 'lavish': 2472, 'junk': 2359, 'segreg': 3994, 'testimoni': 4481, 'portfolio': 3404, 'recycl': 3667, 'indefinit': 2187, 'sail': 3902, 'twentythre': 4653, 'evolut': 1522, 'intervent': 2255, 'vanderbeek': 4761, 'moni': 2854, 'perk': 3286, 'uptick': 4734, 'schimel': 3947, 'carpet': 660, 'firework': 1666, 'boyc': 510, 'healthier': 2005, 'stewart': 4280, 'reaction': 3631, 'thirtyfour': 4508, 'robinson': 3843, 'blank': 458, 'bobbi': 475, 'chevrolet': 755, 'volt': 4809, 'phd': 3312, 'disturb': 1290, 'massacr': 2691, 'scout': 3960, 'amash': 157, 'notion': 3019, 'surfac': 4384, 'sixthhighest': 4112, 'cocain': 843, 'modest': 2844, 'cocacola': 842, 'stretch': 4308, 'mclane': 2718, 'shortterm': 4068, 'calib': 615, 'cia': 786, 'interrog': 2251, 'arlen': 243, 'specter': 4208, 'formula': 1726, 'poni': 3388, 'crct': 1036, 'stanford': 4252, 'chattanooga': 743, 'phoni': 3321, 'wrongdo': 4970, 'substant': 4346, 'crosswalk': 1058, 'minutemen': 2813, 'caviti': 691, 'zuckerberg': 4999, 'grandchildren': 1903, 'warmer': 4836, 'airlin': 111, 'hp': 2113, 'carli': 655, 'jill': 2329, 'costeffect': 1000, 'vow': 4816, 'wikipedia': 4907, 'depict': 1192, 'corbett': 983, 'hamilton': 1965, 'multnomah': 2901, 'tossup': 4552, 'lean': 2488, 'pharmacist': 3310, 'truli': 4626, 'monkey': 2857, 'ross': 3866, 'corn': 987, 'cattl': 685, 'craig': 1030, 'countless': 1013, 'attitud': 291, 'footag': 1707, 'boon': 490, 'persist': 3295, 'unaccept': 4669, 'farmland': 1609, 'balloon': 340, 'ks': 2432, 'slate': 4124, 'infus': 2209, 'specialist': 4205, 'reinvest': 3705, 'fy': 1801, 'puddl': 3555, 'drainag': 1346, 'ditch': 1291, 'duncan': 1377, 'delphi': 1177, 'alloc': 145, 'defect': 1153, 'ribbl': 3801, 'wouldv': 4963, 'inflationari': 2204, 'niagara': 2971, 'cram': 1032, 'wolf': 4939, 'parad': 3196, 'rnc': 3834, 'kathi': 2374, 'tripoli': 4618, 'crise': 1050, 'exacerb': 1523, 'forg': 1722, 'playground': 3360, 'trilliondollar': 4614, 'frequent': 1771, 'boozman': 493, 'excit': 1536, 'oman': 3080, 'outperform': 3137, 'truanci': 4623, 'miner': 2805, 'salt': 3908, 'threequart': 4516, 'childcar': 762, 'devot': 1223, 'comprehens': 895, 'withheld': 4936, 'inflationadjust': 2203, 'philip': 3315, 'eras': 1492, 'msnbc': 2896, 'nonprolifer': 3000, 'hybrid': 2130, 'destabil': 1210, 'solvent': 4165, 'cooki': 973, 'hewlettpackard': 2031, 'obey': 3042, 'lord': 2593, 'sestak': 4027, 'peacekeep': 3253, 'afscm': 92, 'redefin': 3669, 'characterist': 732, 'promin': 3516, 'cranston': 1033, 'dispensari': 1273, 'enhanc': 1467, 'ambit': 161, 'arsen': 251, 'fugit': 1786, 'bioweapon': 444, 'sierra': 4083, 'hydraul': 2132, 'trademark': 4572, 'redskin': 3674, 'sewag': 4034, 'forget': 1723, 'flatout': 1679, 'understood': 4688, 'artifici': 255, 'massag': 2692, 'binat': 442, 'motherfriendli': 2882, 'heritag': 2025, 'kiss': 2408, 'align': 134, 'trespass': 4607, 'pled': 3363, 'repatri': 3737, 'hardcor': 1979, 'persian': 3294, 'defazio': 1151, 'click': 815, 'astronaut': 276, 'hypocrisi': 2133, 'regularli': 3699, 'transcript': 4581, 'mount': 2888, 'rushmor': 3886, 'absente': 23, 'preciou': 3435, 'blueberri': 467, 'smallpox': 4138, 'wi': 4901, 'airbu': 109, 'reconstruct': 3658, 'boardwalk': 472, 'oct': 3056, 'egg': 1411, 'lieberman': 2533, 'beckham': 386, 'ranger': 3612, 'amazon': 159, 'gym': 1949, 'backward': 328, 'silberkrau': 4090, 'pharmaceut': 3308, 'kindergartn': 2403, 'lebanon': 2492, 'littleknown': 2562, 'scare': 3943, 'coauthor': 840, 'advic': 74, 'monopoli': 2859, 'cafeteria': 610, 'prompt': 3519, 'wic': 4902, 'southwestern': 4192, 'wentworth': 4882, 'boundari': 504, 'fri': 1775, 'worship': 4959, 'strengthen': 4306, 'rita': 3830, 'kremlin': 2430, 'statemand': 4261, 'asia': 257, 'migrat': 2789, 'grad': 1897, 'veget': 4768, 'tarkanian': 4437, 'outcom': 3126, 'sermon': 4021, 'tshirt': 4633, 'reviv': 3792, 'healthcaregov': 2003, 'neglect': 2947, 'therapi': 4496, 'confin': 916, 'necessari': 2941, 'rebuilt': 3645, 'craigslist': 1031, 'pleas': 3362, 'portug': 3410, 'outliv': 3131, 'assign': 270, 'christin': 778, 'buckybal': 567, 'incorpor': 2180, 'marilinda': 2672, 'taxi': 4444, 'bet': 422, 'empow': 1450, 'lizbeth': 2566, 'benacquisto': 406, 'olsen': 3078, 'centerpiec': 703, 'circul': 792, 'buddi': 568, 'microchip': 2780, 'scenario': 3944, 'carolinian': 659, 'expressli': 1567, 'intersect': 2252, 'patterson': 3236, 'raw': 3627, 'hardest': 1982, 'highrisk': 2043, 'underground': 4684, 'song': 4173, 'livingwag': 2565, 'fractur': 1749, 'theater': 4491, 'shred': 4074, 'preserv': 3461, 'conflictfre': 920, 'votingag': 4814, 'sneez': 4146, 'scholar': 3949, 'beltlin': 404, 'horrif': 2095, 'censor': 699, 'weinstein': 4876, 'moham': 2846, 'latenight': 2463, 'bloat': 460, 'hoosier': 2088, 'tanker': 4432, 'thirdhighest': 4505, 'uphold': 4732, 'cfo': 714, 'pin': 3334, 'caution': 690, 'hourli': 2105, 'kitten': 2410, 'misinform': 2820, 'nutrit': 3033, 'instructor': 2237, 'worldclass': 4954, 'messag': 2762, 'tpp': 4568}\n",
            "[9.35772842 8.84690279 9.35772842 ... 9.35772842 7.97143406 9.35772842]\n"
          ],
          "name": "stdout"
        },
        {
          "output_type": "execute_result",
          "data": {
            "text/plain": [
              "numpy.ndarray"
            ]
          },
          "metadata": {
            "tags": []
          },
          "execution_count": 327
        }
      ]
    },
    {
      "cell_type": "code",
      "metadata": {
        "id": "k5PzG5rSEHEH",
        "colab_type": "code",
        "outputId": "1a0e1232-c1dc-45f5-e457-c04670c90a7e",
        "colab": {
          "base_uri": "https://localhost:8080/",
          "height": 34
        }
      },
      "source": [
        "xtrain_tfv_sum.shape"
      ],
      "execution_count": 328,
      "outputs": [
        {
          "output_type": "execute_result",
          "data": {
            "text/plain": [
              "(10230, 5000)"
            ]
          },
          "metadata": {
            "tags": []
          },
          "execution_count": 328
        }
      ]
    },
    {
      "cell_type": "code",
      "metadata": {
        "id": "LaTCj_onsLiH",
        "colab_type": "code",
        "colab": {}
      },
      "source": [
        "X_train = np.concatenate((X_train_cont, xtrain_tfv_sum,X_train_cat),axis = 1)\n",
        "#x_data = np.concatenate((x1, xdata_tfv_sum, rest_df_data),axis = 1)"
      ],
      "execution_count": 0,
      "outputs": []
    },
    {
      "cell_type": "code",
      "metadata": {
        "id": "eOxpfj3pLcPC",
        "colab_type": "code",
        "colab": {}
      },
      "source": [
        "X_test = np.concatenate((X_test_cont, xtest_tfv_sum,X_test_cat),axis = 1)"
      ],
      "execution_count": 0,
      "outputs": []
    },
    {
      "cell_type": "code",
      "metadata": {
        "id": "RcncYi1zLujS",
        "colab_type": "code",
        "outputId": "e6c1a96e-5782-4a5d-bce0-f1e4cec02f4d",
        "colab": {
          "base_uri": "https://localhost:8080/",
          "height": 34
        }
      },
      "source": [
        "X_train.shape, X_test.shape"
      ],
      "execution_count": 331,
      "outputs": [
        {
          "output_type": "execute_result",
          "data": {
            "text/plain": [
              "((10230, 5010), (2558, 5010))"
            ]
          },
          "metadata": {
            "tags": []
          },
          "execution_count": 331
        }
      ]
    },
    {
      "cell_type": "code",
      "metadata": {
        "id": "7MPcP47WMyeD",
        "colab_type": "code",
        "outputId": "01934e76-db77-4f86-fff6-38f5ad08a02a",
        "colab": {
          "base_uri": "https://localhost:8080/",
          "height": 238
        }
      },
      "source": [
        "X_train"
      ],
      "execution_count": 332,
      "outputs": [
        {
          "output_type": "execute_result",
          "data": {
            "text/plain": [
              "array([[0.000e+00, 0.000e+00, 0.000e+00, ..., 6.300e+01, 1.700e+01,\n",
              "        2.698e+03],\n",
              "       [0.000e+00, 0.000e+00, 0.000e+00, ..., 6.300e+01, 1.700e+01,\n",
              "        1.550e+02],\n",
              "       [7.000e+00, 8.000e+00, 1.000e+01, ..., 2.400e+01, 2.000e+01,\n",
              "        3.179e+03],\n",
              "       ...,\n",
              "       [3.100e+01, 3.900e+01, 3.100e+01, ..., 2.000e+00, 2.000e+01,\n",
              "        8.600e+01],\n",
              "       [0.000e+00, 0.000e+00, 1.000e+00, ..., 1.500e+01, 6.000e+00,\n",
              "        3.250e+03],\n",
              "       [5.000e+00, 4.000e+00, 2.000e+00, ..., 6.300e+01, 2.000e+01,\n",
              "        1.860e+03]])"
            ]
          },
          "metadata": {
            "tags": []
          },
          "execution_count": 332
        }
      ]
    },
    {
      "cell_type": "markdown",
      "metadata": {
        "id": "u39AH4fK781g",
        "colab_type": "text"
      },
      "source": [
        "**Fitting the Models on the Preprocessed Dataset**"
      ]
    },
    {
      "cell_type": "markdown",
      "metadata": {
        "id": "s3Xa3vx88KEQ",
        "colab_type": "text"
      },
      "source": [
        "- **NAIVE BAYES**"
      ]
    },
    {
      "cell_type": "code",
      "metadata": {
        "id": "PKRgW-rWuC-w",
        "colab_type": "code",
        "colab": {}
      },
      "source": [
        "# Fitting Naive Bayes to the Training set\n",
        "from sklearn.naive_bayes import GaussianNB\n",
        "classifier_nb = GaussianNB()\n",
        "classifier_nb.fit(X_train, y_train)\n",
        "y_pred_nb = classifier_nb.predict(X_test)"
      ],
      "execution_count": 0,
      "outputs": []
    },
    {
      "cell_type": "code",
      "metadata": {
        "id": "NEZJhLcp4E5E",
        "colab_type": "code",
        "colab": {}
      },
      "source": [
        "from sklearn.metrics import accuracy_score #\n",
        "from sklearn.metrics import precision_score, recall_score\n",
        "from sklearn.metrics import classification_report"
      ],
      "execution_count": 0,
      "outputs": []
    },
    {
      "cell_type": "code",
      "metadata": {
        "id": "NVSvlhXqH60u",
        "colab_type": "code",
        "colab": {
          "base_uri": "https://localhost:8080/",
          "height": 34
        },
        "outputId": "69ff4b25-621c-4d7a-ff78-dc19a11c5227"
      },
      "source": [
        "np.unique(y_train)"
      ],
      "execution_count": 335,
      "outputs": [
        {
          "output_type": "execute_result",
          "data": {
            "text/plain": [
              "array([0, 1, 2, 3, 4, 5])"
            ]
          },
          "metadata": {
            "tags": []
          },
          "execution_count": 335
        }
      ]
    },
    {
      "cell_type": "code",
      "metadata": {
        "id": "6BQbSHo2HCvU",
        "colab_type": "code",
        "colab": {
          "base_uri": "https://localhost:8080/",
          "height": 34
        },
        "outputId": "a4ce6d7a-d6cb-414c-ada6-93c93e013be0"
      },
      "source": [
        "np.unique(y_pred_nb)"
      ],
      "execution_count": 337,
      "outputs": [
        {
          "output_type": "execute_result",
          "data": {
            "text/plain": [
              "array([0, 1, 2, 3, 4, 5])"
            ]
          },
          "metadata": {
            "tags": []
          },
          "execution_count": 337
        }
      ]
    },
    {
      "cell_type": "code",
      "metadata": {
        "id": "SG2yiZ-186bO",
        "colab_type": "code",
        "colab": {}
      },
      "source": [
        "y_pred_nb = labelencoder_label.inverse_transform(y_pred_nb)"
      ],
      "execution_count": 0,
      "outputs": []
    },
    {
      "cell_type": "code",
      "metadata": {
        "id": "FzG5BYGLHuD2",
        "colab_type": "code",
        "colab": {
          "base_uri": "https://localhost:8080/",
          "height": 51
        },
        "outputId": "056973b5-3ee9-4739-ae71-bc170494ce19"
      },
      "source": [
        "y_pred_nb"
      ],
      "execution_count": 339,
      "outputs": [
        {
          "output_type": "execute_result",
          "data": {
            "text/plain": [
              "array(['pants-fire', 'half-true', 'true', ..., 'pants-fire', 'pants-fire',\n",
              "       'mostly-true'], dtype=object)"
            ]
          },
          "metadata": {
            "tags": []
          },
          "execution_count": 339
        }
      ]
    },
    {
      "cell_type": "code",
      "metadata": {
        "id": "o6R-ujul9IgM",
        "colab_type": "code",
        "colab": {}
      },
      "source": [
        "y_test_nb = y_test"
      ],
      "execution_count": 0,
      "outputs": []
    },
    {
      "cell_type": "code",
      "metadata": {
        "id": "GJXlF0L2Hpuu",
        "colab_type": "code",
        "colab": {}
      },
      "source": [
        "y_test_nb = labelencoder_label.inverse_transform(y_test_nb)"
      ],
      "execution_count": 0,
      "outputs": []
    },
    {
      "cell_type": "code",
      "metadata": {
        "id": "J4IN8oDdOFbg",
        "colab_type": "code",
        "colab": {
          "base_uri": "https://localhost:8080/",
          "height": 51
        },
        "outputId": "1811f443-12d4-4528-9290-4bcdcf75d10b"
      },
      "source": [
        "y_test_nb"
      ],
      "execution_count": 343,
      "outputs": [
        {
          "output_type": "execute_result",
          "data": {
            "text/plain": [
              "array(['pants-fire', 'true', 'barely-true', ..., 'mostly-true', 'false',\n",
              "       'false'], dtype=object)"
            ]
          },
          "metadata": {
            "tags": []
          },
          "execution_count": 343
        }
      ]
    },
    {
      "cell_type": "code",
      "metadata": {
        "id": "NbBxNNQr3jCC",
        "colab_type": "code",
        "colab": {
          "base_uri": "https://localhost:8080/",
          "height": 476
        },
        "outputId": "230450dc-2cb6-40a7-b1e6-c42eabeb26f8"
      },
      "source": [
        "print('Accuracy:', accuracy_score(y_test_nb, y_pred_nb))\n",
        "print('F1 score:', f1_score(y_test_nb, y_pred_nb,average='weighted'))\n",
        "print('Recall:', recall_score(y_test_nb, y_pred_nb,\n",
        "                              average='weighted'))\n",
        "print('Precision:', precision_score(y_test_nb, y_pred_nb,\n",
        "                                    average='weighted'))\n",
        "print('\\n clasification report:\\n', classification_report(y_test_nb, y_pred_nb))\n",
        "print('\\n confussion matrix:\\n',confusion_matrix(y_test_nb, y_pred_nb))"
      ],
      "execution_count": 342,
      "outputs": [
        {
          "output_type": "stream",
          "text": [
            "Accuracy: 0.23182173573103987\n",
            "F1 score: 0.22488183103991238\n",
            "Recall: 0.23182173573103987\n",
            "Precision: 0.23736069671424564\n",
            "\n",
            " clasification report:\n",
            "               precision    recall  f1-score   support\n",
            "\n",
            " barely-true       0.22      0.17      0.19       423\n",
            "       false       0.27      0.13      0.18       506\n",
            "   half-true       0.25      0.22      0.23       528\n",
            " mostly-true       0.21      0.28      0.24       482\n",
            "  pants-fire       0.23      0.46      0.30       197\n",
            "        true       0.24      0.27      0.25       422\n",
            "\n",
            "    accuracy                           0.23      2558\n",
            "   macro avg       0.24      0.25      0.23      2558\n",
            "weighted avg       0.24      0.23      0.22      2558\n",
            "\n",
            "\n",
            " confussion matrix:\n",
            " [[ 71  38  88 110  58  58]\n",
            " [ 72  66  86 104  90  88]\n",
            " [ 63  44 117 153  56  95]\n",
            " [ 57  39  95 136  56  99]\n",
            " [ 20  16  26  22  90  23]\n",
            " [ 42  40  61 117  49 113]]\n"
          ],
          "name": "stdout"
        }
      ]
    },
    {
      "cell_type": "code",
      "metadata": {
        "id": "7XVNWj9FuDFh",
        "colab_type": "code",
        "colab": {}
      },
      "source": [
        "# Making the Confusion Matrix\n",
        "from sklearn.metrics import confusion_matrix\n",
        "cm_nb = confusion_matrix(y_test_nb, y_pred_nb)"
      ],
      "execution_count": 0,
      "outputs": []
    },
    {
      "cell_type": "code",
      "metadata": {
        "id": "N9BGTMdnPxXl",
        "colab_type": "code",
        "colab": {}
      },
      "source": [
        "target_names = ['pants-fire', 'true', 'barely-true', ..., 'mostly-true', 'false',\n",
        "       'false']"
      ],
      "execution_count": 0,
      "outputs": []
    },
    {
      "cell_type": "code",
      "metadata": {
        "id": "vr1fKEwcO2s2",
        "colab_type": "code",
        "colab": {}
      },
      "source": [
        "def plot_confusion_matrix(cm,\n",
        "                          target_names,\n",
        "                          title='Confusion matrix',\n",
        "                          cmap=None,\n",
        "                          normalize=True):\n",
        "    \"\"\"\n",
        "    given a sklearn confusion matrix (cm), make a nice plot\n",
        "\n",
        "    Arguments\n",
        "    ---------\n",
        "    cm:           confusion matrix from sklearn.metrics.confusion_matrix\n",
        "\n",
        "    target_names: given classification classes such as [0, 1, 2]\n",
        "                  the class names, for example: ['high', 'medium', 'low']\n",
        "\n",
        "    title:        the text to display at the top of the matrix\n",
        "\n",
        "    cmap:         the gradient of the values displayed from matplotlib.pyplot.cm\n",
        "                  see http://matplotlib.org/examples/color/colormaps_reference.html\n",
        "                  plt.get_cmap('jet') or plt.cm.Blues\n",
        "\n",
        "    normalize:    If False, plot the raw numbers\n",
        "                  If True, plot the proportions\n",
        "\n",
        "    Usage\n",
        "    -----\n",
        "    plot_confusion_matrix(cm           = cm,                  # confusion matrix created by\n",
        "                                                              # sklearn.metrics.confusion_matrix\n",
        "                          normalize    = True,                # show proportions\n",
        "                          target_names = y_labels_vals,       # list of names of the classes\n",
        "                          title        = best_estimator_name) # title of graph\n",
        "\n",
        "    Citiation\n",
        "    ---------\n",
        "    http://scikit-learn.org/stable/auto_examples/model_selection/plot_confusion_matrix.html\n",
        "\n",
        "    \"\"\"\n",
        "    import matplotlib.pyplot as plt\n",
        "    import numpy as np\n",
        "    import itertools\n",
        "\n",
        "    accuracy = np.trace(cm) / float(np.sum(cm))\n",
        "    misclass = 1 - accuracy\n",
        "\n",
        "    if cmap is None:\n",
        "        cmap = plt.get_cmap('Blues')\n",
        "\n",
        "    plt.figure(figsize=(8, 6))\n",
        "    plt.imshow(cm, interpolation='nearest', cmap=cmap)\n",
        "    plt.title(title)\n",
        "    plt.colorbar()\n",
        "\n",
        "    if target_names is not None:\n",
        "        tick_marks = np.arange(len(target_names))\n",
        "        plt.xticks(tick_marks, target_names, rotation=45)\n",
        "        plt.yticks(tick_marks, target_names)\n",
        "\n",
        "    if normalize:\n",
        "        cm = cm.astype('float') / cm.sum(axis=1)[:, np.newaxis]\n",
        "\n",
        "\n",
        "    thresh = cm.max() / 1.5 if normalize else cm.max() / 2\n",
        "    for i, j in itertools.product(range(cm.shape[0]), range(cm.shape[1])):\n",
        "        if normalize:\n",
        "            plt.text(j, i, \"{:0.4f}\".format(cm[i, j]),\n",
        "                     horizontalalignment=\"center\",\n",
        "                     color=\"white\" if cm[i, j] > thresh else \"black\")\n",
        "        else:\n",
        "            plt.text(j, i, \"{:,}\".format(cm[i, j]),\n",
        "                     horizontalalignment=\"center\",\n",
        "                     color=\"white\" if cm[i, j] > thresh else \"black\")\n",
        "\n",
        "\n",
        "    plt.tight_layout()\n",
        "    plt.ylabel('True label')\n",
        "    plt.xlabel('Predicted label\\naccuracy={:0.4f}; misclass={:0.4f}'.format(accuracy, misclass))\n",
        "    plt.show()"
      ],
      "execution_count": 0,
      "outputs": []
    },
    {
      "cell_type": "code",
      "metadata": {
        "id": "TBanoIqVO-XJ",
        "colab_type": "code",
        "colab": {
          "base_uri": "https://localhost:8080/",
          "height": 467
        },
        "outputId": "4e866de1-2c8c-4cd2-8ea8-a68a52b8c40b"
      },
      "source": [
        "conf = plot_confusion_matrix(cm_nb,\n",
        "                          target_names,\n",
        "                          title='Confusion matrix for Naive Bayes',\n",
        "                          cmap=None,\n",
        "                          normalize=True)"
      ],
      "execution_count": 361,
      "outputs": [
        {
          "output_type": "display_data",
          "data": {
            "image/png": "[encoded data removed]",
            "text/plain": [
              "<Figure size 576x432 with 2 Axes>"
            ]
          },
          "metadata": {
            "tags": []
          }
        }
      ]
    },
    {
      "cell_type": "code",
      "metadata": {
        "id": "RqVrBhT6uDD9",
        "colab_type": "code",
        "colab": {}
      },
      "source": [
        "# Applying k-Fold Cross Validation\n",
        "from sklearn.model_selection import cross_val_score\n",
        "accuracies_nb = cross_val_score(estimator = classifier_nb, X = X_train, y = y_train, cv = 10)"
      ],
      "execution_count": 0,
      "outputs": []
    },
    {
      "cell_type": "code",
      "metadata": {
        "id": "SIZejKGjQB0X",
        "colab_type": "code",
        "outputId": "72b28c4f-47c3-4b28-d2bb-17109e6da62f",
        "colab": {
          "base_uri": "https://localhost:8080/",
          "height": 34
        }
      },
      "source": [
        "print('Mean Absolute Error for Naive Bayes %2f' %(-1 * accuracies_nb.mean()))"
      ],
      "execution_count": 350,
      "outputs": [
        {
          "output_type": "stream",
          "text": [
            "Mean Absolute Error for Naive Bayes -0.235389\n"
          ],
          "name": "stdout"
        }
      ]
    },
    {
      "cell_type": "code",
      "metadata": {
        "id": "X53in8eTQyVF",
        "colab_type": "code",
        "colab": {}
      },
      "source": [
        "ans_nb = pd.DataFrame(y_pred_nb)"
      ],
      "execution_count": 0,
      "outputs": []
    },
    {
      "cell_type": "markdown",
      "metadata": {
        "id": "v0Zg8mVCRYnc",
        "colab_type": "text"
      },
      "source": [
        "**Logistic Regression**"
      ]
    },
    {
      "cell_type": "code",
      "metadata": {
        "id": "dsmCMuVvsLaY",
        "colab_type": "code",
        "outputId": "b47ebe53-28d3-4b1e-857f-31650bb00d00",
        "colab": {
          "base_uri": "https://localhost:8080/",
          "height": 71
        }
      },
      "source": [
        "from sklearn.linear_model import LogisticRegression\n",
        "classifier_lr=LogisticRegression(solver='lbfgs',multi_class='multinomial',random_state=0,C=10)\n",
        "classifier_lr.fit(X_train, y_train)\n",
        "y_pred_lr = classifier.predict(X_test)"
      ],
      "execution_count": 353,
      "outputs": [
        {
          "output_type": "stream",
          "text": [
            "/usr/local/lib/python3.6/dist-packages/sklearn/linear_model/logistic.py:947: ConvergenceWarning: lbfgs failed to converge. Increase the number of iterations.\n",
            "  \"of iterations.\", ConvergenceWarning)\n"
          ],
          "name": "stderr"
        }
      ]
    },
    {
      "cell_type": "code",
      "metadata": {
        "id": "Sb74DIf2R9lh",
        "colab_type": "code",
        "colab": {}
      },
      "source": [
        "y_pred_lr = labelencoder_label.inverse_transform(y_pred_lr)"
      ],
      "execution_count": 0,
      "outputs": []
    },
    {
      "cell_type": "code",
      "metadata": {
        "id": "MuCjZZdHSTcl",
        "colab_type": "code",
        "colab": {}
      },
      "source": [
        "y_test_lr = y_test"
      ],
      "execution_count": 0,
      "outputs": []
    },
    {
      "cell_type": "code",
      "metadata": {
        "id": "SPYNSma6R-bT",
        "colab_type": "code",
        "colab": {}
      },
      "source": [
        "y_test_lr = labelencoder_label.inverse_transform(y_test_lr)"
      ],
      "execution_count": 0,
      "outputs": []
    },
    {
      "cell_type": "code",
      "metadata": {
        "id": "_cS4WcUE5D3P",
        "colab_type": "code",
        "colab": {
          "base_uri": "https://localhost:8080/",
          "height": 476
        },
        "outputId": "a187398e-4a97-4d09-bc63-e10694c3a960"
      },
      "source": [
        "print('Accuracy:', accuracy_score(y_test_lr, y_pred_lr))\n",
        "print('F1 score:', f1_score(y_test_lr, y_pred_lr,average='weighted'))\n",
        "print('Recall:', recall_score(y_test_lr, y_pred_lr,\n",
        "                              average='weighted'))\n",
        "print('Precision:', precision_score(y_test_lr, y_pred_lr,\n",
        "                                    average='weighted'))\n",
        "print('\\n clasification report:\\n', classification_report(y_test_lr, y_pred_lr))\n",
        "print('\\n confussion matrix:\\n',confusion_matrix(y_test_lr, y_pred_lr))"
      ],
      "execution_count": 357,
      "outputs": [
        {
          "output_type": "stream",
          "text": [
            "Accuracy: 0.23729476153244722\n",
            "F1 score: 0.17881494755375635\n",
            "Recall: 0.23729476153244722\n",
            "Precision: 0.3247238869622144\n",
            "\n",
            " clasification report:\n",
            "               precision    recall  f1-score   support\n",
            "\n",
            " barely-true       0.50      0.00      0.01       423\n",
            "       false       0.22      0.78      0.34       506\n",
            "   half-true       0.23      0.19      0.21       528\n",
            " mostly-true       0.38      0.10      0.15       482\n",
            "  pants-fire       0.52      0.16      0.25       197\n",
            "        true       0.24      0.07      0.11       422\n",
            "\n",
            "    accuracy                           0.24      2558\n",
            "   macro avg       0.35      0.22      0.18      2558\n",
            "weighted avg       0.32      0.24      0.18      2558\n",
            "\n",
            "\n",
            " confussion matrix:\n",
            " [[  2 312  78  11   6  14]\n",
            " [  0 394  70  11  13  18]\n",
            " [  0 371 102  23   1  31]\n",
            " [  0 299 101  46   4  32]\n",
            " [  1 140  21   2  32   1]\n",
            " [  1 280  76  28   6  31]]\n"
          ],
          "name": "stdout"
        }
      ]
    },
    {
      "cell_type": "code",
      "metadata": {
        "id": "VeasdO5nR9cF",
        "colab_type": "code",
        "colab": {}
      },
      "source": [
        "# Making the Confusion Matrix\n",
        "from sklearn.metrics import confusion_matrix\n",
        "cm_lr = confusion_matrix(y_test_lr, y_pred_lr)"
      ],
      "execution_count": 0,
      "outputs": []
    },
    {
      "cell_type": "code",
      "metadata": {
        "id": "8pu0I56kTahX",
        "colab_type": "code",
        "colab": {
          "base_uri": "https://localhost:8080/",
          "height": 467
        },
        "outputId": "dc8051b7-1ab1-4ba5-95d7-94c7be28f87c"
      },
      "source": [
        "conf_lr = plot_confusion_matrix(cm_lr,\n",
        "                          target_names,\n",
        "                          title='Confusion matrix for Logistic Regression',\n",
        "                          cmap=None,\n",
        "                          normalize=True)"
      ],
      "execution_count": 363,
      "outputs": [
        {
          "output_type": "display_data",
          "data": {
            "image/png": "[encoded data removed]",
            "text/plain": [
              "<Figure size 576x432 with 2 Axes>"
            ]
          },
          "metadata": {
            "tags": []
          }
        }
      ]
    },
    {
      "cell_type": "code",
      "metadata": {
        "id": "kcuAsmZyR9Xz",
        "colab_type": "code",
        "outputId": "920f4843-8711-48ef-8b5b-3c1208f1e04c",
        "colab": {
          "base_uri": "https://localhost:8080/",
          "height": 377
        }
      },
      "source": [
        "# Applying k-Fold Cross Validation\n",
        "from sklearn.model_selection import cross_val_score\n",
        "accuracies_lr = cross_val_score(estimator = classifier_lr, X = X_train, y = y_train, cv = 10)"
      ],
      "execution_count": 364,
      "outputs": [
        {
          "output_type": "stream",
          "text": [
            "/usr/local/lib/python3.6/dist-packages/sklearn/linear_model/logistic.py:947: ConvergenceWarning: lbfgs failed to converge. Increase the number of iterations.\n",
            "  \"of iterations.\", ConvergenceWarning)\n",
            "/usr/local/lib/python3.6/dist-packages/sklearn/linear_model/logistic.py:947: ConvergenceWarning: lbfgs failed to converge. Increase the number of iterations.\n",
            "  \"of iterations.\", ConvergenceWarning)\n",
            "/usr/local/lib/python3.6/dist-packages/sklearn/linear_model/logistic.py:947: ConvergenceWarning: lbfgs failed to converge. Increase the number of iterations.\n",
            "  \"of iterations.\", ConvergenceWarning)\n",
            "/usr/local/lib/python3.6/dist-packages/sklearn/linear_model/logistic.py:947: ConvergenceWarning: lbfgs failed to converge. Increase the number of iterations.\n",
            "  \"of iterations.\", ConvergenceWarning)\n",
            "/usr/local/lib/python3.6/dist-packages/sklearn/linear_model/logistic.py:947: ConvergenceWarning: lbfgs failed to converge. Increase the number of iterations.\n",
            "  \"of iterations.\", ConvergenceWarning)\n",
            "/usr/local/lib/python3.6/dist-packages/sklearn/linear_model/logistic.py:947: ConvergenceWarning: lbfgs failed to converge. Increase the number of iterations.\n",
            "  \"of iterations.\", ConvergenceWarning)\n",
            "/usr/local/lib/python3.6/dist-packages/sklearn/linear_model/logistic.py:947: ConvergenceWarning: lbfgs failed to converge. Increase the number of iterations.\n",
            "  \"of iterations.\", ConvergenceWarning)\n",
            "/usr/local/lib/python3.6/dist-packages/sklearn/linear_model/logistic.py:947: ConvergenceWarning: lbfgs failed to converge. Increase the number of iterations.\n",
            "  \"of iterations.\", ConvergenceWarning)\n",
            "/usr/local/lib/python3.6/dist-packages/sklearn/linear_model/logistic.py:947: ConvergenceWarning: lbfgs failed to converge. Increase the number of iterations.\n",
            "  \"of iterations.\", ConvergenceWarning)\n",
            "/usr/local/lib/python3.6/dist-packages/sklearn/linear_model/logistic.py:947: ConvergenceWarning: lbfgs failed to converge. Increase the number of iterations.\n",
            "  \"of iterations.\", ConvergenceWarning)\n"
          ],
          "name": "stderr"
        }
      ]
    },
    {
      "cell_type": "code",
      "metadata": {
        "id": "V4LYBHzWSFGP",
        "colab_type": "code",
        "outputId": "a5a2c432-8e1c-4e65-c7af-60b87123e430",
        "colab": {
          "base_uri": "https://localhost:8080/",
          "height": 34
        }
      },
      "source": [
        "print('Mean Absolute Error for Logistic Regression %2f' %(-1 * accuracies_lr.mean()))"
      ],
      "execution_count": 366,
      "outputs": [
        {
          "output_type": "stream",
          "text": [
            "Mean Absolute Error for Logistic Regression -0.237926\n"
          ],
          "name": "stdout"
        }
      ]
    },
    {
      "cell_type": "markdown",
      "metadata": {
        "id": "xtIJnkMO5p2j",
        "colab_type": "text"
      },
      "source": [
        "**Decision Tree**"
      ]
    },
    {
      "cell_type": "code",
      "metadata": {
        "id": "kM-YH_1l-u8d",
        "colab_type": "code",
        "colab": {}
      },
      "source": [
        "# Fitting Decision Tree Classification to the Training set\n",
        "from sklearn.tree import DecisionTreeClassifier\n",
        "classifier_dt = DecisionTreeClassifier(criterion = 'entropy', random_state = 0)\n",
        "classifier_dt.fit(X_train, y_train)\n",
        "\n",
        "# Predicting the Test set results\n",
        "y_pred_dt = classifier_dt.predict(X_test)"
      ],
      "execution_count": 0,
      "outputs": []
    },
    {
      "cell_type": "code",
      "metadata": {
        "id": "Fj8h9rz0ULFk",
        "colab_type": "code",
        "colab": {}
      },
      "source": [
        "y_pred_dt = labelencoder_label.inverse_transform(y_pred_dt)"
      ],
      "execution_count": 0,
      "outputs": []
    },
    {
      "cell_type": "code",
      "metadata": {
        "id": "OxN02iw0ULCl",
        "colab_type": "code",
        "colab": {}
      },
      "source": [
        "y_test_dt = y_test"
      ],
      "execution_count": 0,
      "outputs": []
    },
    {
      "cell_type": "code",
      "metadata": {
        "id": "KusmFr88Vv_Q",
        "colab_type": "code",
        "colab": {}
      },
      "source": [
        "y_test_dt = labelencoder_label.inverse_transform(y_test_dt)"
      ],
      "execution_count": 0,
      "outputs": []
    },
    {
      "cell_type": "code",
      "metadata": {
        "id": "UUl9WDDX6esn",
        "colab_type": "code",
        "colab": {
          "base_uri": "https://localhost:8080/",
          "height": 476
        },
        "outputId": "d8d2e740-a760-4eeb-9028-ec30d0bc215a"
      },
      "source": [
        "print('Accuracy:', accuracy_score(y_test_dt, y_pred_dt))\n",
        "print('F1 score:', f1_score(y_test_dt, y_pred_dt,average='weighted'))\n",
        "print('Recall:', recall_score(y_test_dt, y_pred_dt,\n",
        "                              average='weighted'))\n",
        "print('Precision:', precision_score(y_test_dt, y_pred_dt,\n",
        "                                    average='weighted'))\n",
        "print('\\n clasification report:\\n', classification_report(y_test_dt, y_pred_dt))\n",
        "print('\\n confussion matrix:\\n',confusion_matrix(y_test_dt, y_pred_dt))"
      ],
      "execution_count": 376,
      "outputs": [
        {
          "output_type": "stream",
          "text": [
            "Accuracy: 0.37920250195465205\n",
            "F1 score: 0.37823036970435686\n",
            "Recall: 0.37920250195465205\n",
            "Precision: 0.381440402172059\n",
            "\n",
            " clasification report:\n",
            "               precision    recall  f1-score   support\n",
            "\n",
            " barely-true       0.41      0.34      0.37       423\n",
            "       false       0.40      0.38      0.39       506\n",
            "   half-true       0.40      0.40      0.40       528\n",
            " mostly-true       0.35      0.46      0.40       482\n",
            "  pants-fire       0.44      0.41      0.42       197\n",
            "        true       0.31      0.29      0.30       422\n",
            "\n",
            "    accuracy                           0.38      2558\n",
            "   macro avg       0.39      0.38      0.38      2558\n",
            "weighted avg       0.38      0.38      0.38      2558\n",
            "\n",
            "\n",
            " confussion matrix:\n",
            " [[144  54  73  77  25  50]\n",
            " [ 54 190  87  86  27  62]\n",
            " [ 47  66 210 106  22  77]\n",
            " [ 47  72  69 223  13  58]\n",
            " [ 19  27  20  27  80  24]\n",
            " [ 40  67  64 112  16 123]]\n"
          ],
          "name": "stdout"
        }
      ]
    },
    {
      "cell_type": "code",
      "metadata": {
        "id": "2JK3vO0HVISg",
        "colab_type": "code",
        "colab": {}
      },
      "source": [
        "# Making the Confusion Matrix\n",
        "from sklearn.metrics import confusion_matrix\n",
        "cm_dt = confusion_matrix(y_test_dt, y_pred_dt)"
      ],
      "execution_count": 0,
      "outputs": []
    },
    {
      "cell_type": "code",
      "metadata": {
        "id": "HAmsu_JJVIsG",
        "colab_type": "code",
        "colab": {
          "base_uri": "https://localhost:8080/",
          "height": 467
        },
        "outputId": "69c49fda-a180-48d6-8eb4-c1b0a0872e3b"
      },
      "source": [
        "conf_dt = plot_confusion_matrix(cm_dt,\n",
        "                          target_names,\n",
        "                          title='Confusion matrix for Decision Matrix',\n",
        "                          cmap=None,\n",
        "                          normalize=True)"
      ],
      "execution_count": 380,
      "outputs": [
        {
          "output_type": "display_data",
          "data": {
            "image/png": "[encoded data removed]",
            "text/plain": [
              "<Figure size 576x432 with 2 Axes>"
            ]
          },
          "metadata": {
            "tags": []
          }
        }
      ]
    },
    {
      "cell_type": "code",
      "metadata": {
        "id": "5Yy3OOzA6tIZ",
        "colab_type": "code",
        "colab": {}
      },
      "source": [
        "# Applying k-Fold Cross Validation\n",
        "from sklearn.model_selection import cross_val_score\n",
        "accuracies_dt = cross_val_score(estimator = classifier_dt, X = X_train, y = y_train, cv = 10)"
      ],
      "execution_count": 0,
      "outputs": []
    },
    {
      "cell_type": "code",
      "metadata": {
        "id": "o8ZIXYSY7h8C",
        "colab_type": "code",
        "colab": {
          "base_uri": "https://localhost:8080/",
          "height": 34
        },
        "outputId": "05e96272-6c64-4eb7-b175-66ff4b044d8b"
      },
      "source": [
        "print('Mean Absolute Error for Logistic Regression %2f' %(-1 * accuracies_dt.mean()))"
      ],
      "execution_count": 382,
      "outputs": [
        {
          "output_type": "stream",
          "text": [
            "Mean Absolute Error for Logistic Regression -0.373612\n"
          ],
          "name": "stdout"
        }
      ]
    },
    {
      "cell_type": "markdown",
      "metadata": {
        "id": "LP5sRJXUXM9K",
        "colab_type": "text"
      },
      "source": [
        "**FINISH**"
      ]
    }
  ]
}