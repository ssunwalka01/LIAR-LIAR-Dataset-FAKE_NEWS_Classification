{
  "nbformat": 4,
  "nbformat_minor": 0,
  "metadata": {
    "kernelspec": {
      "display_name": "Python 3",
      "language": "python",
      "name": "python3"
    },
    "language_info": {
      "codemirror_mode": {
        "name": "ipython",
        "version": 3
      },
      "file_extension": ".py",
      "mimetype": "text/x-python",
      "name": "python",
      "nbconvert_exporter": "python",
      "pygments_lexer": "ipython3",
      "version": "3.7.3"
    },
    "colab": {
      "name": "12November2019.ipynb",
      "provenance": [],
      "collapsed_sections": [],
      "toc_visible": true,
      "include_colab_link": true
    }
  },
  "cells": [
    {
      "cell_type": "markdown",
      "metadata": {
        "id": "view-in-github",
        "colab_type": "text"
      },
      "source": [
        "<a href=\"https://colab.research.google.com/github/ssunwalka01/LIAR-LIAR-Dataset-FAKE_NEWS_Classification/blob/master/12November2019.ipynb\" target=\"_parent\"><img src=\"https://colab.research.google.com/assets/colab-badge.svg\" alt=\"Open In Colab\"/></a>"
      ]
    },
    {
      "cell_type": "markdown",
      "metadata": {
        "id": "xNqu5CgBcwcQ",
        "colab_type": "text"
      },
      "source": [
        "# LIAR LIAR Dataset Clasification (Fake-News Analysis)"
      ]
    },
    {
      "cell_type": "markdown",
      "metadata": {
        "id": "xVoeeiBxcwcT",
        "colab_type": "text"
      },
      "source": [
        "Let’s look at the steps that we will follow in this course.\n",
        "\n",
        "- Problem Statement\n",
        "- Hypothesis Generation\n",
        "- Getting the system ready and loading the data\n",
        "- Understanding the data\n",
        "- Exploratory Data Analysis (EDA)\n",
        "- Univariate Analysis\n",
        "- Bivariate Analysis\n",
        "- Missing value and outlier treatment\n",
        "- Evaluation Metrics for classification problems\n",
        "-    Model Building : Part I\n",
        "- Logistic Regression using stratified k-folds cross validation\n",
        "- Feature Engineering\n",
        "- Model Building : Part II\n",
        "- Logistic Regression\n",
        "- Decision tree\n",
        "- Random Forest\n",
        "- XGBoost\n",
        "Lets look at each section in detail."
      ]
    },
    {
      "cell_type": "markdown",
      "metadata": {
        "id": "yUzHWYLucwcU",
        "colab_type": "text"
      },
      "source": [
        "It is a classification problem where we have to predict whether a News Statement would be classified as Fake or Not. In a classification problem, we have to predict discrete values based on a given set of independent variable(s). Classification can be of two types:\n",
        "\n",
        "- Binary Classification : In this classification we have to predict either of the two given classes. For example: classifying the gender as male or female, predicting the result as win or loss, etc.\n",
        "- Multiclass Classification : Here we have to classify the data into three or more classes. For example: classifying a movie's genre as comedy, action or romantic, classify fruits as oranges, apples, or pears, etc."
      ]
    },
    {
      "cell_type": "code",
      "metadata": {
        "id": "pER5hD54cwcV",
        "colab_type": "code",
        "colab": {}
      },
      "source": [
        "# importing packages\n",
        "import pandas as pd \n",
        "import numpy as np                     # For mathematical calculations \n",
        "import seaborn as sns                  # For data visualization \n",
        "import matplotlib.pyplot as plt        # For plotting graphs \n",
        "%matplotlib inline \n",
        "import warnings                        # To ignore any warnings warnings.filterwarnings(\"ignore\")"
      ],
      "execution_count": 0,
      "outputs": []
    },
    {
      "cell_type": "code",
      "metadata": {
        "id": "afKCp1_pcwcY",
        "colab_type": "code",
        "colab": {}
      },
      "source": [
        "##################\n",
        "import seaborn as sns\n",
        "from sklearn.preprocessing import MinMaxScaler\n",
        "#from sklearn.cross_validation import data_test_split\n",
        "from sklearn.model_selection import train_test_split\n",
        "\n",
        "from sklearn.neighbors import KNeighborsClassifier\n",
        "from sklearn.metrics import f1_score\n",
        "from sklearn.feature_extraction.text import TfidfVectorizer, CountVectorizer\n",
        "from nltk.stem.porter import PorterStemmer\n",
        "\n",
        "import pandas as pd\n",
        "import numpy as np\n",
        "import matplotlib.pyplot as plt\n",
        "from sklearn.model_selection import cross_val_score\n",
        "import nltk\n",
        "import re\n",
        "import codecs\n",
        "import seaborn as sns\n",
        "from sklearn.preprocessing import LabelEncoder, OneHotEncoder\n",
        "#from sklearn.cross_validation import train_test_split\n",
        "from sklearn.neighbors import KNeighborsClassifier\n",
        "from sklearn.metrics import f1_score"
      ],
      "execution_count": 0,
      "outputs": []
    },
    {
      "cell_type": "markdown",
      "metadata": {
        "id": "DbLFVd_tcwcb",
        "colab_type": "text"
      },
      "source": [
        "# Data"
      ]
    },
    {
      "cell_type": "markdown",
      "metadata": {
        "id": "xsG9kz5Kcwcc",
        "colab_type": "text"
      },
      "source": [
        "For this practice problem, we have been given three CSV files: data, data and sample submission.\n",
        "\n",
        "- Train file will be used for dataing the model, i.e. our model will learn from this file. It contains all the independent variables and the target variable.\n",
        "- Test file contains all the independent variables, but not the target variable. We will apply the model to predict the target variable for the data data.\n",
        "- Sample submission file contains the format in which we have to submit our predictions."
      ]
    },
    {
      "cell_type": "markdown",
      "metadata": {
        "id": "7kpjZ0Gkcwcd",
        "colab_type": "text"
      },
      "source": [
        "- Let's start with loading the data\n",
        "PS: The data was in 'tsv' format which is then converted into 'csv' format later for analysing purpose.\n",
        "The Dataset available for the research purpose containg data,test and validation sets."
      ]
    },
    {
      "cell_type": "code",
      "metadata": {
        "id": "UXBXqNCGcwce",
        "colab_type": "code",
        "colab": {}
      },
      "source": [
        "# converting data, data, and valid datasets into csv format\n",
        "#data\n",
        "tsv_file='/content/train.tsv'\n",
        "csv_table=pd.read_table(tsv_file,sep='\\t')\n",
        "csv_table.to_csv('train_converted.csv',index=False)"
      ],
      "execution_count": 0,
      "outputs": []
    },
    {
      "cell_type": "code",
      "metadata": {
        "id": "pdYpc8TNcwch",
        "colab_type": "code",
        "colab": {}
      },
      "source": [
        "#test\n",
        "tsv_file1='/content/test.tsv'\n",
        "csv_table1=pd.read_table(tsv_file1,sep='\\t')\n",
        "csv_table1.to_csv('test_converted.csv',index=False)"
      ],
      "execution_count": 0,
      "outputs": []
    },
    {
      "cell_type": "code",
      "metadata": {
        "id": "KjWJLg8Ccwck",
        "colab_type": "code",
        "colab": {}
      },
      "source": [
        "#valid\n",
        "tsv_file2='/content/valid.tsv'\n",
        "csv_table2=pd.read_table(tsv_file2,sep='\\t')\n",
        "csv_table2.to_csv('valid_converted.csv',index=False)"
      ],
      "execution_count": 0,
      "outputs": []
    },
    {
      "cell_type": "markdown",
      "metadata": {
        "id": "ezS1HmZ5cwcn",
        "colab_type": "text"
      },
      "source": [
        "# Reading Data"
      ]
    },
    {
      "cell_type": "code",
      "metadata": {
        "id": "TB25_0ANcwcn",
        "colab_type": "code",
        "colab": {}
      },
      "source": [
        "train=pd.read_csv('/content/train_converted.csv')\n",
        "test=pd.read_csv('/content/test_converted.csv')\n",
        "valid=pd.read_csv('/content/valid_converted.csv')"
      ],
      "execution_count": 0,
      "outputs": []
    },
    {
      "cell_type": "code",
      "metadata": {
        "id": "CmpdqWaNcwcq",
        "colab_type": "code",
        "outputId": "5ffc155e-f386-488b-aeaf-97d9cf14cc8a",
        "colab": {
          "base_uri": "https://localhost:8080/",
          "height": 102
        }
      },
      "source": [
        "train.columns"
      ],
      "execution_count": 444,
      "outputs": [
        {
          "output_type": "execute_result",
          "data": {
            "text/plain": [
              "Index(['2635.json', 'false',\n",
              "       'Says the Annies List political group supports third-trimester abortions on demand.',\n",
              "       'abortion', 'dwayne-bohac', 'State representative', 'Texas',\n",
              "       'republican', '0', '1', '0.1', '0.2', '0.3', 'a mailer'],\n",
              "      dtype='object')"
            ]
          },
          "metadata": {
            "tags": []
          },
          "execution_count": 444
        }
      ]
    },
    {
      "cell_type": "code",
      "metadata": {
        "id": "GVY_G6v_cwcs",
        "colab_type": "code",
        "colab": {}
      },
      "source": [
        "# Naming columns\n",
        "train.columns=[\"ID\",\"Label\",\"Statement\",\"Subject(s)\",\"Speaker\",\"Speaker's job title\",\"state info\",\"party affiliation\",\"barely true counts\",\"false counts\",\"half true counts\",\"mostly true counts\",\"pants on fire counts\",\"the context (venue/location of speech or statement)\"]"
      ],
      "execution_count": 0,
      "outputs": []
    },
    {
      "cell_type": "code",
      "metadata": {
        "id": "QuJjmTxIcwcv",
        "colab_type": "code",
        "outputId": "ee4256c4-2113-49fc-b4f5-0d6fbfa2ee39",
        "colab": {
          "base_uri": "https://localhost:8080/",
          "height": 666
        }
      },
      "source": [
        "train.head()"
      ],
      "execution_count": 446,
      "outputs": [
        {
          "output_type": "execute_result",
          "data": {
            "text/html": [
              "<div>\n",
              "<style scoped>\n",
              "    .dataframe tbody tr th:only-of-type {\n",
              "        vertical-align: middle;\n",
              "    }\n",
              "\n",
              "    .dataframe tbody tr th {\n",
              "        vertical-align: top;\n",
              "    }\n",
              "\n",
              "    .dataframe thead th {\n",
              "        text-align: right;\n",
              "    }\n",
              "</style>\n",
              "<table border=\"1\" class=\"dataframe\">\n",
              "  <thead>\n",
              "    <tr style=\"text-align: right;\">\n",
              "      <th></th>\n",
              "      <th>ID</th>\n",
              "      <th>Label</th>\n",
              "      <th>Statement</th>\n",
              "      <th>Subject(s)</th>\n",
              "      <th>Speaker</th>\n",
              "      <th>Speaker's job title</th>\n",
              "      <th>state info</th>\n",
              "      <th>party affiliation</th>\n",
              "      <th>barely true counts</th>\n",
              "      <th>false counts</th>\n",
              "      <th>half true counts</th>\n",
              "      <th>mostly true counts</th>\n",
              "      <th>pants on fire counts</th>\n",
              "      <th>the context (venue/location of speech or statement)</th>\n",
              "    </tr>\n",
              "  </thead>\n",
              "  <tbody>\n",
              "    <tr>\n",
              "      <th>0</th>\n",
              "      <td>10540.json</td>\n",
              "      <td>half-true</td>\n",
              "      <td>When did the decline of coal start? It started...</td>\n",
              "      <td>energy,history,job-accomplishments</td>\n",
              "      <td>scott-surovell</td>\n",
              "      <td>State delegate</td>\n",
              "      <td>Virginia</td>\n",
              "      <td>democrat</td>\n",
              "      <td>0.0</td>\n",
              "      <td>0.0</td>\n",
              "      <td>1.0</td>\n",
              "      <td>1.0</td>\n",
              "      <td>0.0</td>\n",
              "      <td>a floor speech.</td>\n",
              "    </tr>\n",
              "    <tr>\n",
              "      <th>1</th>\n",
              "      <td>324.json</td>\n",
              "      <td>mostly-true</td>\n",
              "      <td>Hillary Clinton agrees with John McCain \"by vo...</td>\n",
              "      <td>foreign-policy</td>\n",
              "      <td>barack-obama</td>\n",
              "      <td>President</td>\n",
              "      <td>Illinois</td>\n",
              "      <td>democrat</td>\n",
              "      <td>70.0</td>\n",
              "      <td>71.0</td>\n",
              "      <td>160.0</td>\n",
              "      <td>163.0</td>\n",
              "      <td>9.0</td>\n",
              "      <td>Denver</td>\n",
              "    </tr>\n",
              "    <tr>\n",
              "      <th>2</th>\n",
              "      <td>1123.json</td>\n",
              "      <td>false</td>\n",
              "      <td>Health care reform legislation is likely to ma...</td>\n",
              "      <td>health-care</td>\n",
              "      <td>blog-posting</td>\n",
              "      <td>NaN</td>\n",
              "      <td>NaN</td>\n",
              "      <td>none</td>\n",
              "      <td>7.0</td>\n",
              "      <td>19.0</td>\n",
              "      <td>3.0</td>\n",
              "      <td>5.0</td>\n",
              "      <td>44.0</td>\n",
              "      <td>a news release</td>\n",
              "    </tr>\n",
              "    <tr>\n",
              "      <th>3</th>\n",
              "      <td>9028.json</td>\n",
              "      <td>half-true</td>\n",
              "      <td>The economic turnaround started at the end of ...</td>\n",
              "      <td>economy,jobs</td>\n",
              "      <td>charlie-crist</td>\n",
              "      <td>NaN</td>\n",
              "      <td>Florida</td>\n",
              "      <td>democrat</td>\n",
              "      <td>15.0</td>\n",
              "      <td>9.0</td>\n",
              "      <td>20.0</td>\n",
              "      <td>19.0</td>\n",
              "      <td>2.0</td>\n",
              "      <td>an interview on CNN</td>\n",
              "    </tr>\n",
              "    <tr>\n",
              "      <th>4</th>\n",
              "      <td>12465.json</td>\n",
              "      <td>true</td>\n",
              "      <td>The Chicago Bears have had more starting quart...</td>\n",
              "      <td>education</td>\n",
              "      <td>robin-vos</td>\n",
              "      <td>Wisconsin Assembly speaker</td>\n",
              "      <td>Wisconsin</td>\n",
              "      <td>republican</td>\n",
              "      <td>0.0</td>\n",
              "      <td>3.0</td>\n",
              "      <td>2.0</td>\n",
              "      <td>5.0</td>\n",
              "      <td>1.0</td>\n",
              "      <td>a an online opinion-piece</td>\n",
              "    </tr>\n",
              "  </tbody>\n",
              "</table>\n",
              "</div>"
            ],
            "text/plain": [
              "           ID  ... the context (venue/location of speech or statement)\n",
              "0  10540.json  ...                                    a floor speech. \n",
              "1    324.json  ...                                             Denver \n",
              "2   1123.json  ...                                     a news release \n",
              "3   9028.json  ...                                an interview on CNN \n",
              "4  12465.json  ...                          a an online opinion-piece \n",
              "\n",
              "[5 rows x 14 columns]"
            ]
          },
          "metadata": {
            "tags": []
          },
          "execution_count": 446
        }
      ]
    },
    {
      "cell_type": "code",
      "metadata": {
        "id": "j0F65RQBcwcy",
        "colab_type": "code",
        "outputId": "fdda76ba-343f-44eb-e4f9-665aca6fe897",
        "colab": {
          "base_uri": "https://localhost:8080/",
          "height": 34
        }
      },
      "source": [
        "train.shape"
      ],
      "execution_count": 447,
      "outputs": [
        {
          "output_type": "execute_result",
          "data": {
            "text/plain": [
              "(10239, 14)"
            ]
          },
          "metadata": {
            "tags": []
          },
          "execution_count": 447
        }
      ]
    },
    {
      "cell_type": "code",
      "metadata": {
        "id": "8uTeAgnXcwc0",
        "colab_type": "code",
        "outputId": "385ad953-91aa-4401-e27f-8d3d77e3ee1e",
        "colab": {
          "base_uri": "https://localhost:8080/",
          "height": 34
        }
      },
      "source": [
        "test.shape"
      ],
      "execution_count": 448,
      "outputs": [
        {
          "output_type": "execute_result",
          "data": {
            "text/plain": [
              "(1266, 14)"
            ]
          },
          "metadata": {
            "tags": []
          },
          "execution_count": 448
        }
      ]
    },
    {
      "cell_type": "code",
      "metadata": {
        "id": "uNiSbwvrcwc2",
        "colab_type": "code",
        "outputId": "6761ed6a-16b6-4654-ff85-3bc1a1817808",
        "colab": {
          "base_uri": "https://localhost:8080/",
          "height": 34
        }
      },
      "source": [
        "valid.shape"
      ],
      "execution_count": 449,
      "outputs": [
        {
          "output_type": "execute_result",
          "data": {
            "text/plain": [
              "(1283, 14)"
            ]
          },
          "metadata": {
            "tags": []
          },
          "execution_count": 449
        }
      ]
    },
    {
      "cell_type": "code",
      "metadata": {
        "id": "EpYxa2G4cwc5",
        "colab_type": "code",
        "colab": {}
      },
      "source": [
        "# Naming columns \n",
        "test.columns=[\"ID\",\"Label\",\"Statement\",\"Subject(s)\",\"Speaker\",\"Speaker's job title\",\"state info\",\"party affiliation\",\"barely true counts\",\"false counts\",\"half true counts\",\"mostly true counts\",\"pants on fire counts\",\"the context (venue/location of speech or statement)\"]"
      ],
      "execution_count": 0,
      "outputs": []
    },
    {
      "cell_type": "code",
      "metadata": {
        "id": "WBrFfnBFcwc7",
        "colab_type": "code",
        "colab": {}
      },
      "source": [
        "# Naming columns \n",
        "valid.columns=[\"ID\",\"Label\",\"Statement\",\"Subject(s)\",\"Speaker\",\"Speaker's job title\",\"state info\",\"party affiliation\",\"barely true counts\",\"false counts\",\"half true counts\",\"mostly true counts\",\"pants on fire counts\",\"the context (venue/location of speech or statement)\"]"
      ],
      "execution_count": 0,
      "outputs": []
    },
    {
      "cell_type": "markdown",
      "metadata": {
        "id": "GfPRQQp1cwc-",
        "colab_type": "text"
      },
      "source": [
        "Let’s make a copy of data and test data so that even if we have to make any changes in these datasets we would not lose the original datasets.\n"
      ]
    },
    {
      "cell_type": "code",
      "metadata": {
        "id": "LOH6t8lvcwc-",
        "colab_type": "code",
        "colab": {}
      },
      "source": [
        "train_copy=pd.read_csv('train.csv').copy()\n",
        "test_copy=pd.read_csv('test.csv').copy()\n",
        "valid_copy=pd.read_csv('valid.csv').copy()"
      ],
      "execution_count": 0,
      "outputs": []
    },
    {
      "cell_type": "code",
      "metadata": {
        "id": "VwjK8kk_PK_I",
        "colab_type": "code",
        "colab": {}
      },
      "source": [
        "data = pd.concat([data, test, valid])"
      ],
      "execution_count": 0,
      "outputs": []
    },
    {
      "cell_type": "code",
      "metadata": {
        "id": "sRyTnT-FcwdB",
        "colab_type": "code",
        "outputId": "f9c38cdc-3b0a-47f6-db64-7f9f7ab64181",
        "colab": {
          "base_uri": "https://localhost:8080/",
          "height": 1000
        }
      },
      "source": [
        "data.head(10)"
      ],
      "execution_count": 454,
      "outputs": [
        {
          "output_type": "execute_result",
          "data": {
            "text/html": [
              "<div>\n",
              "<style scoped>\n",
              "    .dataframe tbody tr th:only-of-type {\n",
              "        vertical-align: middle;\n",
              "    }\n",
              "\n",
              "    .dataframe tbody tr th {\n",
              "        vertical-align: top;\n",
              "    }\n",
              "\n",
              "    .dataframe thead th {\n",
              "        text-align: right;\n",
              "    }\n",
              "</style>\n",
              "<table border=\"1\" class=\"dataframe\">\n",
              "  <thead>\n",
              "    <tr style=\"text-align: right;\">\n",
              "      <th></th>\n",
              "      <th>ID</th>\n",
              "      <th>Label</th>\n",
              "      <th>Statement</th>\n",
              "      <th>Subject(s)</th>\n",
              "      <th>Speaker</th>\n",
              "      <th>Speaker's job title</th>\n",
              "      <th>state info</th>\n",
              "      <th>party affiliation</th>\n",
              "      <th>barely true counts</th>\n",
              "      <th>false counts</th>\n",
              "      <th>half true counts</th>\n",
              "      <th>mostly true counts</th>\n",
              "      <th>pants on fire counts</th>\n",
              "      <th>the context (venue/location of speech or statement)</th>\n",
              "    </tr>\n",
              "  </thead>\n",
              "  <tbody>\n",
              "    <tr>\n",
              "      <th>0</th>\n",
              "      <td>10540</td>\n",
              "      <td>half-true</td>\n",
              "      <td>declin coal start start natur ga took start be...</td>\n",
              "      <td>energy,history,job-accomplishments</td>\n",
              "      <td>scott-surovell</td>\n",
              "      <td>State delegate</td>\n",
              "      <td>Virginia</td>\n",
              "      <td>democrat</td>\n",
              "      <td>0.0</td>\n",
              "      <td>0.0</td>\n",
              "      <td>1.0</td>\n",
              "      <td>1.0</td>\n",
              "      <td>0.0</td>\n",
              "      <td>a floor speech.</td>\n",
              "    </tr>\n",
              "    <tr>\n",
              "      <th>1</th>\n",
              "      <td>324</td>\n",
              "      <td>mostly-true</td>\n",
              "      <td>hillari clinton agr john mccain give georg bus...</td>\n",
              "      <td>foreign-policy</td>\n",
              "      <td>barack-obama</td>\n",
              "      <td>President</td>\n",
              "      <td>Illinois</td>\n",
              "      <td>democrat</td>\n",
              "      <td>70.0</td>\n",
              "      <td>71.0</td>\n",
              "      <td>160.0</td>\n",
              "      <td>163.0</td>\n",
              "      <td>9.0</td>\n",
              "      <td>Denver</td>\n",
              "    </tr>\n",
              "    <tr>\n",
              "      <th>2</th>\n",
              "      <td>1123</td>\n",
              "      <td>false</td>\n",
              "      <td>reform legisl like mandat free sex chang surgeri</td>\n",
              "      <td>health-care</td>\n",
              "      <td>blog-posting</td>\n",
              "      <td>Unknown</td>\n",
              "      <td>Unknown1</td>\n",
              "      <td>none</td>\n",
              "      <td>7.0</td>\n",
              "      <td>19.0</td>\n",
              "      <td>3.0</td>\n",
              "      <td>5.0</td>\n",
              "      <td>44.0</td>\n",
              "      <td>a news release</td>\n",
              "    </tr>\n",
              "    <tr>\n",
              "      <th>3</th>\n",
              "      <td>9028</td>\n",
              "      <td>half-true</td>\n",
              "      <td>econom turnaround start end term</td>\n",
              "      <td>economy,jobs</td>\n",
              "      <td>charlie-crist</td>\n",
              "      <td>Unknown</td>\n",
              "      <td>Florida</td>\n",
              "      <td>democrat</td>\n",
              "      <td>15.0</td>\n",
              "      <td>9.0</td>\n",
              "      <td>20.0</td>\n",
              "      <td>19.0</td>\n",
              "      <td>2.0</td>\n",
              "      <td>an interview on CNN</td>\n",
              "    </tr>\n",
              "    <tr>\n",
              "      <th>4</th>\n",
              "      <td>12465</td>\n",
              "      <td>true</td>\n",
              "      <td>chicago bear start quarterback total number te...</td>\n",
              "      <td>education</td>\n",
              "      <td>robin-vos</td>\n",
              "      <td>Wisconsin Assembly speaker</td>\n",
              "      <td>Wisconsin</td>\n",
              "      <td>republican</td>\n",
              "      <td>0.0</td>\n",
              "      <td>3.0</td>\n",
              "      <td>2.0</td>\n",
              "      <td>5.0</td>\n",
              "      <td>1.0</td>\n",
              "      <td>a an online opinion-piece</td>\n",
              "    </tr>\n",
              "    <tr>\n",
              "      <th>5</th>\n",
              "      <td>2342</td>\n",
              "      <td>barely-true</td>\n",
              "      <td>jim dunnam live district repr</td>\n",
              "      <td>candidates-biography</td>\n",
              "      <td>republican-party-texas</td>\n",
              "      <td>Unknown</td>\n",
              "      <td>Texas</td>\n",
              "      <td>republican</td>\n",
              "      <td>3.0</td>\n",
              "      <td>1.0</td>\n",
              "      <td>1.0</td>\n",
              "      <td>3.0</td>\n",
              "      <td>1.0</td>\n",
              "      <td>a press release.</td>\n",
              "    </tr>\n",
              "    <tr>\n",
              "      <th>6</th>\n",
              "      <td>153</td>\n",
              "      <td>half-true</td>\n",
              "      <td>im person stage work activ pass along russ fei...</td>\n",
              "      <td>ethics</td>\n",
              "      <td>barack-obama</td>\n",
              "      <td>President</td>\n",
              "      <td>Illinois</td>\n",
              "      <td>democrat</td>\n",
              "      <td>70.0</td>\n",
              "      <td>71.0</td>\n",
              "      <td>160.0</td>\n",
              "      <td>163.0</td>\n",
              "      <td>9.0</td>\n",
              "      <td>a Democratic debate in Philadelphia, Pa.</td>\n",
              "    </tr>\n",
              "    <tr>\n",
              "      <th>7</th>\n",
              "      <td>5602</td>\n",
              "      <td>half-true</td>\n",
              "      <td>howev took oregon lotteri fund port newport ev...</td>\n",
              "      <td>jobs</td>\n",
              "      <td>oregon-lottery</td>\n",
              "      <td>Unknown</td>\n",
              "      <td>Unknown1</td>\n",
              "      <td>organization</td>\n",
              "      <td>0.0</td>\n",
              "      <td>0.0</td>\n",
              "      <td>1.0</td>\n",
              "      <td>0.0</td>\n",
              "      <td>1.0</td>\n",
              "      <td>a website</td>\n",
              "    </tr>\n",
              "    <tr>\n",
              "      <th>8</th>\n",
              "      <td>9741</td>\n",
              "      <td>mostly-true</td>\n",
              "      <td>gop primari oppon glenn grothman joe leibham c...</td>\n",
              "      <td>energy,message-machine-2014,voting-record</td>\n",
              "      <td>duey-stroebel</td>\n",
              "      <td>State representative</td>\n",
              "      <td>Wisconsin</td>\n",
              "      <td>republican</td>\n",
              "      <td>0.0</td>\n",
              "      <td>0.0</td>\n",
              "      <td>0.0</td>\n",
              "      <td>1.0</td>\n",
              "      <td>0.0</td>\n",
              "      <td>an online video</td>\n",
              "    </tr>\n",
              "    <tr>\n",
              "      <th>9</th>\n",
              "      <td>7115</td>\n",
              "      <td>mostly-true</td>\n",
              "      <td>first histori share popular margin smaller lat...</td>\n",
              "      <td>elections</td>\n",
              "      <td>robert-menendez</td>\n",
              "      <td>U.S. Senator</td>\n",
              "      <td>New Jersey</td>\n",
              "      <td>democrat</td>\n",
              "      <td>1.0</td>\n",
              "      <td>3.0</td>\n",
              "      <td>1.0</td>\n",
              "      <td>3.0</td>\n",
              "      <td>0.0</td>\n",
              "      <td>a speech</td>\n",
              "    </tr>\n",
              "  </tbody>\n",
              "</table>\n",
              "</div>"
            ],
            "text/plain": [
              "      ID  ... the context (venue/location of speech or statement)\n",
              "0  10540  ...                                    a floor speech. \n",
              "1    324  ...                                             Denver \n",
              "2   1123  ...                                     a news release \n",
              "3   9028  ...                                an interview on CNN \n",
              "4  12465  ...                          a an online opinion-piece \n",
              "5   2342  ...                                   a press release. \n",
              "6    153  ...           a Democratic debate in Philadelphia, Pa. \n",
              "7   5602  ...                                         a website  \n",
              "8   9741  ...                                    an online video \n",
              "9   7115  ...                                           a speech \n",
              "\n",
              "[10 rows x 14 columns]"
            ]
          },
          "metadata": {
            "tags": []
          },
          "execution_count": 454
        }
      ]
    },
    {
      "cell_type": "code",
      "metadata": {
        "id": "E0_MXC_ScwdE",
        "colab_type": "code",
        "outputId": "08a2c621-ab97-43b1-ca2a-ba3a03931db5",
        "colab": {
          "base_uri": "https://localhost:8080/",
          "height": 34
        }
      },
      "source": [
        "data.shape"
      ],
      "execution_count": 455,
      "outputs": [
        {
          "output_type": "execute_result",
          "data": {
            "text/plain": [
              "(28082, 14)"
            ]
          },
          "metadata": {
            "tags": []
          },
          "execution_count": 455
        }
      ]
    },
    {
      "cell_type": "markdown",
      "metadata": {
        "id": "ARaQTXkdcwdM",
        "colab_type": "text"
      },
      "source": [
        "Loaded the datasets. Let's move to Univariate Analysis"
      ]
    },
    {
      "cell_type": "markdown",
      "metadata": {
        "id": "U_pRBXpQ5hk9",
        "colab_type": "text"
      },
      "source": [
        "- Combining data and validation sets here. Later We will use validation techniques"
      ]
    },
    {
      "cell_type": "markdown",
      "metadata": {
        "id": "iY-cipWucwdN",
        "colab_type": "text"
      },
      "source": [
        "# Univariate Analysis"
      ]
    },
    {
      "cell_type": "code",
      "metadata": {
        "id": "c-snudAFcwda",
        "colab_type": "code",
        "outputId": "f0eceea1-289f-43cb-e12c-c5247b5e0599",
        "colab": {
          "base_uri": "https://localhost:8080/",
          "height": 136
        }
      },
      "source": [
        "data['Label'].value_counts(normalize=True)\n",
        "# Read as percentage after multiplying by 100"
      ],
      "execution_count": 456,
      "outputs": [
        {
          "output_type": "execute_result",
          "data": {
            "text/plain": [
              "half-true      0.203155\n",
              "false          0.198633\n",
              "mostly-true    0.192508\n",
              "barely-true    0.170572\n",
              "true           0.153408\n",
              "pants-fire     0.081725\n",
              "Name: Label, dtype: float64"
            ]
          },
          "metadata": {
            "tags": []
          },
          "execution_count": 456
        }
      ]
    },
    {
      "cell_type": "code",
      "metadata": {
        "id": "qwCQDcJEcwdd",
        "colab_type": "code",
        "outputId": "490bbe40-5682-4342-fdf8-d9dc4cab5084",
        "colab": {
          "base_uri": "https://localhost:8080/",
          "height": 330
        }
      },
      "source": [
        "data['Label'].value_counts().plot.bar()"
      ],
      "execution_count": 457,
      "outputs": [
        {
          "output_type": "execute_result",
          "data": {
            "text/plain": [
              "<matplotlib.axes._subplots.AxesSubplot at 0x7fe50fb39198>"
            ]
          },
          "metadata": {
            "tags": []
          },
          "execution_count": 457
        },
        {
          "output_type": "display_data",
          "data": {
            "image/png": "[encoded data removed]",
            "text/plain": [
              "<Figure size 432x288 with 1 Axes>"
            ]
          },
          "metadata": {
            "tags": []
          }
        }
      ]
    },
    {
      "cell_type": "markdown",
      "metadata": {
        "id": "nDbsjPDAcwdf",
        "colab_type": "text"
      },
      "source": [
        "On Looking at the datsets, we identified that there are 3 Data Types:\n",
        "- Continuous : ID, barely true counts, false counts, half true counts, mostly true counts, pants on fire counts.\n",
        "\n",
        "- Categorical : Label, Subject(s), Speaker, Speaker's job title, State info, party affiliation, the context (venue/location of speech or statement)\n",
        "\n",
        "- Text : Statement"
      ]
    },
    {
      "cell_type": "markdown",
      "metadata": {
        "id": "BbQmrQsFcwdg",
        "colab_type": "text"
      },
      "source": [
        "Let's go for Continuous Data Type Exploration.\n",
        "We know that we use BarGraphs for Categorical variable, Histogram or ScatterPlot for continuous variables."
      ]
    },
    {
      "cell_type": "markdown",
      "metadata": {
        "id": "oEih0BBYcwdg",
        "colab_type": "text"
      },
      "source": [
        "- Continuous Variables"
      ]
    },
    {
      "cell_type": "code",
      "metadata": {
        "id": "iyq5H1SUcwdh",
        "colab_type": "code",
        "outputId": "142e7ebe-641a-45d2-ba81-37efe46adcd3",
        "colab": {
          "base_uri": "https://localhost:8080/",
          "height": 424
        }
      },
      "source": [
        "# barely true counts\n",
        "plt.figure(figsize=(20, 6))\n",
        "sns.countplot(data[\"barely true counts\"])\n",
        "plt.title('barely true counts')\n",
        "plt.show()"
      ],
      "execution_count": 458,
      "outputs": [
        {
          "output_type": "display_data",
          "data": {
            "image/png": "[encoded data removed]",
            "text/plain": [
              "<Figure size 1440x432 with 1 Axes>"
            ]
          },
          "metadata": {
            "tags": []
          }
        }
      ]
    },
    {
      "cell_type": "code",
      "metadata": {
        "id": "JL4eZlMtcwdj",
        "colab_type": "code",
        "outputId": "5a649b48-742d-4341-ea0a-3e8aaad2bc81",
        "colab": {
          "base_uri": "https://localhost:8080/",
          "height": 424
        }
      },
      "source": [
        "# false counts\n",
        "plt.figure(figsize=(20, 6))\n",
        "sns.countplot(data[\"false counts\"])\n",
        "plt.title('false counts')\n",
        "plt.show()"
      ],
      "execution_count": 459,
      "outputs": [
        {
          "output_type": "display_data",
          "data": {
            "image/png": "[encoded data removed]",
            "text/plain": [
              "<Figure size 1440x432 with 1 Axes>"
            ]
          },
          "metadata": {
            "tags": []
          }
        }
      ]
    },
    {
      "cell_type": "code",
      "metadata": {
        "id": "dR5zkCpdcwdm",
        "colab_type": "code",
        "outputId": "e0302314-de11-4796-f095-e68e11daf012",
        "colab": {
          "base_uri": "https://localhost:8080/",
          "height": 424
        }
      },
      "source": [
        "# half true counts\n",
        "plt.figure(figsize=(20, 6))\n",
        "sns.countplot(data[\"half true counts\"])\n",
        "plt.title('half true counts')\n",
        "plt.show()"
      ],
      "execution_count": 460,
      "outputs": [
        {
          "output_type": "display_data",
          "data": {
            "image/png": "[encoded data removed]",
            "text/plain": [
              "<Figure size 1440x432 with 1 Axes>"
            ]
          },
          "metadata": {
            "tags": []
          }
        }
      ]
    },
    {
      "cell_type": "code",
      "metadata": {
        "id": "I2-wC5Ykcwdo",
        "colab_type": "code",
        "outputId": "1c163123-6481-4749-e2f9-9e3734e8fc98",
        "colab": {
          "base_uri": "https://localhost:8080/",
          "height": 424
        }
      },
      "source": [
        "# mostly true counts\n",
        "plt.figure(figsize=(20, 6))\n",
        "sns.countplot(data[\"mostly true counts\"])\n",
        "plt.title('mostly true counts')\n",
        "plt.show()"
      ],
      "execution_count": 461,
      "outputs": [
        {
          "output_type": "display_data",
          "data": {
            "image/png": "[encoded data removed]",
            "text/plain": [
              "<Figure size 1440x432 with 1 Axes>"
            ]
          },
          "metadata": {
            "tags": []
          }
        }
      ]
    },
    {
      "cell_type": "code",
      "metadata": {
        "id": "MfVCH7Uxcwds",
        "colab_type": "code",
        "outputId": "d0f27fe2-1ace-4550-b441-e36796e79393",
        "colab": {
          "base_uri": "https://localhost:8080/",
          "height": 424
        }
      },
      "source": [
        "# pants on fire counts \n",
        "plt.figure(figsize=(20, 6))\n",
        "sns.countplot(data[\"pants on fire counts\"])\n",
        "plt.title('pants on fire counts')\n",
        "plt.show()"
      ],
      "execution_count": 462,
      "outputs": [
        {
          "output_type": "display_data",
          "data": {
            "image/png": "[encoded data removed]",
            "text/plain": [
              "<Figure size 1440x432 with 1 Axes>"
            ]
          },
          "metadata": {
            "tags": []
          }
        }
      ]
    },
    {
      "cell_type": "code",
      "metadata": {
        "id": "N689Ep8vcwdu",
        "colab_type": "code",
        "outputId": "c38ea0ea-dc8b-428f-c340-e2f15c6bc09e",
        "colab": {
          "base_uri": "https://localhost:8080/",
          "height": 922
        }
      },
      "source": [
        "# Pairplot for cross visualisation of continuous variables\n",
        "plt.figure(figsize=(30,30))\n",
        "sns.pairplot(data, diag_kind='kde');"
      ],
      "execution_count": 463,
      "outputs": [
        {
          "output_type": "display_data",
          "data": {
            "text/plain": [
              "<Figure size 2160x2160 with 0 Axes>"
            ]
          },
          "metadata": {
            "tags": []
          }
        },
        {
          "output_type": "display_data",
          "data": {
            "image/png": "[encoded data removed]",
            "text/plain": [
              "<Figure size 900x900 with 30 Axes>"
            ]
          },
          "metadata": {
            "tags": []
          }
        }
      ]
    },
    {
      "cell_type": "markdown",
      "metadata": {
        "id": "fAzfKzDEcwdw",
        "colab_type": "text"
      },
      "source": [
        "- Spread of Target Variable"
      ]
    },
    {
      "cell_type": "code",
      "metadata": {
        "id": "Jeq2GD2icwdx",
        "colab_type": "code",
        "outputId": "038e4d89-85b1-4562-dc99-22c9e7956670",
        "colab": {
          "base_uri": "https://localhost:8080/",
          "height": 465
        }
      },
      "source": [
        "cnt_srs = data['Label'].value_counts()\n",
        "plt.figure(figsize=(18,7))\n",
        "sns.barplot(cnt_srs.index, cnt_srs.values, alpha=0.8)\n",
        "plt.ylabel('Frequency', fontsize=12)\n",
        "plt.xlabel('Label', fontsize=12)\n",
        "plt.show()"
      ],
      "execution_count": 464,
      "outputs": [
        {
          "output_type": "display_data",
          "data": {
            "image/png": "[encoded data removed]",
            "text/plain": [
              "<Figure size 1296x504 with 1 Axes>"
            ]
          },
          "metadata": {
            "tags": []
          }
        }
      ]
    },
    {
      "cell_type": "markdown",
      "metadata": {
        "id": "rkdFqd7Kcwd1",
        "colab_type": "text"
      },
      "source": [
        "# Data Preprocessing"
      ]
    },
    {
      "cell_type": "markdown",
      "metadata": {
        "id": "Ht1nMlsicwd1",
        "colab_type": "text"
      },
      "source": [
        "- Checking Missing Values"
      ]
    },
    {
      "cell_type": "code",
      "metadata": {
        "id": "rskkXG2Icwd2",
        "colab_type": "code",
        "colab": {}
      },
      "source": [
        "def missing_value(df):\n",
        "    total = df.isnull().sum().sort_values(ascending = False)\n",
        "    percent = (df.isnull().sum()/df.isnull().count()*100).sort_values(ascending=False)\n",
        "    missing_df = pd.concat([total, percent], axis=1, keys = ['Total', 'Percent'])\n",
        "    return missing_df"
      ],
      "execution_count": 0,
      "outputs": []
    },
    {
      "cell_type": "code",
      "metadata": {
        "id": "eqzhYGOKcwd6",
        "colab_type": "code",
        "outputId": "db44f203-c552-4f36-f45d-bb35ca343de6",
        "colab": {
          "base_uri": "https://localhost:8080/",
          "height": 483
        }
      },
      "source": [
        "x_data = missing_value(data)\n",
        "x_data"
      ],
      "execution_count": 466,
      "outputs": [
        {
          "output_type": "execute_result",
          "data": {
            "text/html": [
              "<div>\n",
              "<style scoped>\n",
              "    .dataframe tbody tr th:only-of-type {\n",
              "        vertical-align: middle;\n",
              "    }\n",
              "\n",
              "    .dataframe tbody tr th {\n",
              "        vertical-align: top;\n",
              "    }\n",
              "\n",
              "    .dataframe thead th {\n",
              "        text-align: right;\n",
              "    }\n",
              "</style>\n",
              "<table border=\"1\" class=\"dataframe\">\n",
              "  <thead>\n",
              "    <tr style=\"text-align: right;\">\n",
              "      <th></th>\n",
              "      <th>Total</th>\n",
              "      <th>Percent</th>\n",
              "    </tr>\n",
              "  </thead>\n",
              "  <tbody>\n",
              "    <tr>\n",
              "      <th>Speaker's job title</th>\n",
              "      <td>670</td>\n",
              "      <td>2.385870</td>\n",
              "    </tr>\n",
              "    <tr>\n",
              "      <th>state info</th>\n",
              "      <td>541</td>\n",
              "      <td>1.926501</td>\n",
              "    </tr>\n",
              "    <tr>\n",
              "      <th>the context (venue/location of speech or statement)</th>\n",
              "      <td>29</td>\n",
              "      <td>0.103269</td>\n",
              "    </tr>\n",
              "    <tr>\n",
              "      <th>pants on fire counts</th>\n",
              "      <td>0</td>\n",
              "      <td>0.000000</td>\n",
              "    </tr>\n",
              "    <tr>\n",
              "      <th>mostly true counts</th>\n",
              "      <td>0</td>\n",
              "      <td>0.000000</td>\n",
              "    </tr>\n",
              "    <tr>\n",
              "      <th>half true counts</th>\n",
              "      <td>0</td>\n",
              "      <td>0.000000</td>\n",
              "    </tr>\n",
              "    <tr>\n",
              "      <th>false counts</th>\n",
              "      <td>0</td>\n",
              "      <td>0.000000</td>\n",
              "    </tr>\n",
              "    <tr>\n",
              "      <th>barely true counts</th>\n",
              "      <td>0</td>\n",
              "      <td>0.000000</td>\n",
              "    </tr>\n",
              "    <tr>\n",
              "      <th>party affiliation</th>\n",
              "      <td>0</td>\n",
              "      <td>0.000000</td>\n",
              "    </tr>\n",
              "    <tr>\n",
              "      <th>Speaker</th>\n",
              "      <td>0</td>\n",
              "      <td>0.000000</td>\n",
              "    </tr>\n",
              "    <tr>\n",
              "      <th>Subject(s)</th>\n",
              "      <td>0</td>\n",
              "      <td>0.000000</td>\n",
              "    </tr>\n",
              "    <tr>\n",
              "      <th>Statement</th>\n",
              "      <td>0</td>\n",
              "      <td>0.000000</td>\n",
              "    </tr>\n",
              "    <tr>\n",
              "      <th>Label</th>\n",
              "      <td>0</td>\n",
              "      <td>0.000000</td>\n",
              "    </tr>\n",
              "    <tr>\n",
              "      <th>ID</th>\n",
              "      <td>0</td>\n",
              "      <td>0.000000</td>\n",
              "    </tr>\n",
              "  </tbody>\n",
              "</table>\n",
              "</div>"
            ],
            "text/plain": [
              "                                                    Total   Percent\n",
              "Speaker's job title                                   670  2.385870\n",
              "state info                                            541  1.926501\n",
              "the context (venue/location of speech or statem...     29  0.103269\n",
              "pants on fire counts                                    0  0.000000\n",
              "mostly true counts                                      0  0.000000\n",
              "half true counts                                        0  0.000000\n",
              "false counts                                            0  0.000000\n",
              "barely true counts                                      0  0.000000\n",
              "party affiliation                                       0  0.000000\n",
              "Speaker                                                 0  0.000000\n",
              "Subject(s)                                              0  0.000000\n",
              "Statement                                               0  0.000000\n",
              "Label                                                   0  0.000000\n",
              "ID                                                      0  0.000000"
            ]
          },
          "metadata": {
            "tags": []
          },
          "execution_count": 466
        }
      ]
    },
    {
      "cell_type": "markdown",
      "metadata": {
        "id": "pcF_ZxIucweA",
        "colab_type": "text"
      },
      "source": [
        "We need to treat the missing values here. It will reduce the model accuracy otherwise."
      ]
    },
    {
      "cell_type": "code",
      "metadata": {
        "id": "AVOfNIj5cweA",
        "colab_type": "code",
        "colab": {}
      },
      "source": [
        "# Filling Missing Values with Unknown Variable\n",
        "values = {\"Speaker's job title\":'Unknown'}\n",
        "data = data.fillna(value=values)\n",
        "#valid = valid.fillna(value=values)"
      ],
      "execution_count": 0,
      "outputs": []
    },
    {
      "cell_type": "code",
      "metadata": {
        "id": "fc0tLBs4cweC",
        "colab_type": "code",
        "colab": {}
      },
      "source": [
        "# Filling Missing Values with Unknown Variable\n",
        "values = {\"state info\":'Unknown1'}\n",
        "data = data.fillna(value=values)\n",
        "#valid = valid.fillna(value=values)"
      ],
      "execution_count": 0,
      "outputs": []
    },
    {
      "cell_type": "code",
      "metadata": {
        "id": "M4JLvYzlcweE",
        "colab_type": "code",
        "colab": {}
      },
      "source": [
        "data['the context (venue/location of speech or statement)'].fillna(data['the context (venue/location of speech or statement)'].mode()[0], inplace=True)\n",
        "#valid['the context (venue/location of speech or statement)'].fillna(valid['the context (venue/location of speech or statement)'].mode()[0], inplace=True)"
      ],
      "execution_count": 0,
      "outputs": []
    },
    {
      "cell_type": "code",
      "metadata": {
        "id": "JkLuKWG4cweG",
        "colab_type": "code",
        "colab": {}
      },
      "source": [
        "data['pants on fire counts'].fillna(data['pants on fire counts'].median(), inplace=True)\n",
        "data['mostly true counts'].fillna(data['mostly true counts'].median(), inplace=True)\n",
        "data['half true counts'].fillna(data['half true counts'].median(), inplace=True)\n",
        "data['false counts'].fillna(data['false counts'].median(), inplace=True)\n",
        "data['barely true counts'].fillna(data['barely true counts'].median(), inplace=True)\n",
        "data['party affiliation'].fillna(data['party affiliation'].mode()[0], inplace=True)\n",
        "data['Speaker'].fillna(data['Speaker'].mode()[0], inplace=True)\n",
        "data['Subject(s)'].fillna(data['Subject(s)'].mode()[0], inplace=True)"
      ],
      "execution_count": 0,
      "outputs": []
    },
    {
      "cell_type": "code",
      "metadata": {
        "id": "P7jKiqM-cweJ",
        "colab_type": "code",
        "outputId": "b23b2a62-7515-4a54-eea4-1bc6eeb3f215",
        "colab": {
          "base_uri": "https://localhost:8080/",
          "height": 483
        }
      },
      "source": [
        "# Checking again for missing values\n",
        "y_data = missing_value(data)\n",
        "y_data"
      ],
      "execution_count": 471,
      "outputs": [
        {
          "output_type": "execute_result",
          "data": {
            "text/html": [
              "<div>\n",
              "<style scoped>\n",
              "    .dataframe tbody tr th:only-of-type {\n",
              "        vertical-align: middle;\n",
              "    }\n",
              "\n",
              "    .dataframe tbody tr th {\n",
              "        vertical-align: top;\n",
              "    }\n",
              "\n",
              "    .dataframe thead th {\n",
              "        text-align: right;\n",
              "    }\n",
              "</style>\n",
              "<table border=\"1\" class=\"dataframe\">\n",
              "  <thead>\n",
              "    <tr style=\"text-align: right;\">\n",
              "      <th></th>\n",
              "      <th>Total</th>\n",
              "      <th>Percent</th>\n",
              "    </tr>\n",
              "  </thead>\n",
              "  <tbody>\n",
              "    <tr>\n",
              "      <th>the context (venue/location of speech or statement)</th>\n",
              "      <td>0</td>\n",
              "      <td>0.0</td>\n",
              "    </tr>\n",
              "    <tr>\n",
              "      <th>pants on fire counts</th>\n",
              "      <td>0</td>\n",
              "      <td>0.0</td>\n",
              "    </tr>\n",
              "    <tr>\n",
              "      <th>mostly true counts</th>\n",
              "      <td>0</td>\n",
              "      <td>0.0</td>\n",
              "    </tr>\n",
              "    <tr>\n",
              "      <th>half true counts</th>\n",
              "      <td>0</td>\n",
              "      <td>0.0</td>\n",
              "    </tr>\n",
              "    <tr>\n",
              "      <th>false counts</th>\n",
              "      <td>0</td>\n",
              "      <td>0.0</td>\n",
              "    </tr>\n",
              "    <tr>\n",
              "      <th>barely true counts</th>\n",
              "      <td>0</td>\n",
              "      <td>0.0</td>\n",
              "    </tr>\n",
              "    <tr>\n",
              "      <th>party affiliation</th>\n",
              "      <td>0</td>\n",
              "      <td>0.0</td>\n",
              "    </tr>\n",
              "    <tr>\n",
              "      <th>state info</th>\n",
              "      <td>0</td>\n",
              "      <td>0.0</td>\n",
              "    </tr>\n",
              "    <tr>\n",
              "      <th>Speaker's job title</th>\n",
              "      <td>0</td>\n",
              "      <td>0.0</td>\n",
              "    </tr>\n",
              "    <tr>\n",
              "      <th>Speaker</th>\n",
              "      <td>0</td>\n",
              "      <td>0.0</td>\n",
              "    </tr>\n",
              "    <tr>\n",
              "      <th>Subject(s)</th>\n",
              "      <td>0</td>\n",
              "      <td>0.0</td>\n",
              "    </tr>\n",
              "    <tr>\n",
              "      <th>Statement</th>\n",
              "      <td>0</td>\n",
              "      <td>0.0</td>\n",
              "    </tr>\n",
              "    <tr>\n",
              "      <th>Label</th>\n",
              "      <td>0</td>\n",
              "      <td>0.0</td>\n",
              "    </tr>\n",
              "    <tr>\n",
              "      <th>ID</th>\n",
              "      <td>0</td>\n",
              "      <td>0.0</td>\n",
              "    </tr>\n",
              "  </tbody>\n",
              "</table>\n",
              "</div>"
            ],
            "text/plain": [
              "                                                    Total  Percent\n",
              "the context (venue/location of speech or statem...      0      0.0\n",
              "pants on fire counts                                    0      0.0\n",
              "mostly true counts                                      0      0.0\n",
              "half true counts                                        0      0.0\n",
              "false counts                                            0      0.0\n",
              "barely true counts                                      0      0.0\n",
              "party affiliation                                       0      0.0\n",
              "state info                                              0      0.0\n",
              "Speaker's job title                                     0      0.0\n",
              "Speaker                                                 0      0.0\n",
              "Subject(s)                                              0      0.0\n",
              "Statement                                               0      0.0\n",
              "Label                                                   0      0.0\n",
              "ID                                                      0      0.0"
            ]
          },
          "metadata": {
            "tags": []
          },
          "execution_count": 471
        }
      ]
    },
    {
      "cell_type": "markdown",
      "metadata": {
        "id": "o5ShvHOncweR",
        "colab_type": "text"
      },
      "source": [
        "- Targeting Statement Column"
      ]
    },
    {
      "cell_type": "code",
      "metadata": {
        "id": "ZoFKgtttk1BQ",
        "colab_type": "code",
        "outputId": "50819ef6-e086-4bbd-a908-6d92642db738",
        "colab": {
          "base_uri": "https://localhost:8080/",
          "height": 34
        }
      },
      "source": [
        "data.shape"
      ],
      "execution_count": 472,
      "outputs": [
        {
          "output_type": "execute_result",
          "data": {
            "text/plain": [
              "(28082, 14)"
            ]
          },
          "metadata": {
            "tags": []
          },
          "execution_count": 472
        }
      ]
    },
    {
      "cell_type": "code",
      "metadata": {
        "id": "J2XsnEdKcweS",
        "colab_type": "code",
        "colab": {}
      },
      "source": [
        "#removing non-letter symbols and converting text in 'Statement' to lowercase \n",
        "data['Statement'] = data['Statement'].apply(lambda x: \"\".join(re.sub(r\"[^A-Za-z\\s]\", '',str(x))))\n",
        "#valid['Statement'] = valid['Statement'].apply(lambda x: \"\".join(re.sub(r\"[^A-Za-z\\s]\",'',str(x))))\n",
        "\n",
        "# lower casing the Text\n",
        "data['Statement'] = data['Statement'].apply(lambda x: \" \".join(x.lower() for x in x.split()))\n",
        "#valid['Statement'] = valid['Statement'].apply(lambda x: \" \".join(x.lower() for x in x.split()))"
      ],
      "execution_count": 0,
      "outputs": []
    },
    {
      "cell_type": "code",
      "metadata": {
        "id": "BKgduhFccweW",
        "colab_type": "code",
        "colab": {}
      },
      "source": [
        "#Removing punctuations\n",
        "#adding characters list which needs to remove that is PUNCTUATION\n",
        "punc = ['.', ',', '\"', \"'\", '?', '!', ':', ';', '(', ')', '[', ']', '{', '}',\"%\",'/','<','>','br','�','^','XX','XXXX','xxxx','xx']\n",
        "#removing extra characters\n",
        "data['Statement'] = data['Statement'].apply(lambda x: \" \".join(x for x in x.split() if x not in punc))\n",
        "#valid['Statement'] = valid['Statement'].apply(lambda x: \" \".join(x for x in x.split() if x not in punc))"
      ],
      "execution_count": 0,
      "outputs": []
    },
    {
      "cell_type": "code",
      "metadata": {
        "id": "JzRXcvozcwea",
        "colab_type": "code",
        "colab": {}
      },
      "source": [
        "import nltk"
      ],
      "execution_count": 0,
      "outputs": []
    },
    {
      "cell_type": "code",
      "metadata": {
        "id": "t3f0GKwhiSmB",
        "colab_type": "code",
        "outputId": "526463e0-b316-458e-ede4-f8501d4064b1",
        "colab": {
          "base_uri": "https://localhost:8080/",
          "height": 68
        }
      },
      "source": [
        "nltk.download('stopwords')"
      ],
      "execution_count": 476,
      "outputs": [
        {
          "output_type": "stream",
          "text": [
            "[nltk_data] Downloading package stopwords to /root/nltk_data...\n",
            "[nltk_data]   Package stopwords is already up-to-date!\n"
          ],
          "name": "stdout"
        },
        {
          "output_type": "execute_result",
          "data": {
            "text/plain": [
              "True"
            ]
          },
          "metadata": {
            "tags": []
          },
          "execution_count": 476
        }
      ]
    },
    {
      "cell_type": "code",
      "metadata": {
        "id": "UCouVqlUcweY",
        "colab_type": "code",
        "colab": {}
      },
      "source": [
        "#removal of stopwords\n",
        "from nltk.corpus import stopwords\n",
        "stop = stopwords.words('english')\n",
        "data['Statement'] = data['Statement'].apply(lambda x: \" \".join(x for x in x.split() if x not in stop))\n",
        "#valid['Statement'] = valid['Statement'].apply(lambda x: \" \".join(x for x in x.split() if x not in stop))"
      ],
      "execution_count": 0,
      "outputs": []
    },
    {
      "cell_type": "code",
      "metadata": {
        "id": "KBcbIVT8iWCZ",
        "colab_type": "code",
        "colab": {}
      },
      "source": [
        "#common words removal\n",
        "freq_data = pd.Series(' '.join(data['Statement']).split()).value_counts()[:10]\n",
        "#freq_valid = pd.Series(' '.join(valid['Statement']).split()).value_counts()[:10]\n",
        "\n",
        "freq_data = list(freq_data.index)\n",
        "data['Statement'] = data['Statement'].apply(lambda x: \" \".join(x for x in x.split() if x not in freq_data))\n",
        "#freq_valid = list(freq_valid.index)\n",
        "#valid['Statement'] = valid['Statement'].apply(lambda x: \" \".join(x for x in x.split() if x not in freq_valid))"
      ],
      "execution_count": 0,
      "outputs": []
    },
    {
      "cell_type": "code",
      "metadata": {
        "id": "5GyeiEs9i4nL",
        "colab_type": "code",
        "colab": {}
      },
      "source": [
        "#rare words removal\n",
        "freq_data_rare = pd.Series(' '.join(data['Statement']).split()).value_counts()[-10:]\n",
        "freq_data_rare = list(freq_data_rare.index)\n",
        "data['Statement'] = data['Statement'].apply(lambda x: \" \".join(x for x in x.split() if x not in freq_data_rare))\n",
        "#freq_valid_rare = pd.Series(' '.join(valid['Statement']).split()).value_counts()[-10:]\n",
        "#freq_valid_rare = list(freq_valid_rare.index)\n",
        "#valid['Statement'] = valid['Statement'].apply(lambda x: \" \".join(x for x in x.split() if x not in freq_valid_rare))"
      ],
      "execution_count": 0,
      "outputs": []
    },
    {
      "cell_type": "code",
      "metadata": {
        "id": "KkX7-FbNjRgu",
        "colab_type": "code",
        "colab": {}
      },
      "source": [
        "#STEMMING\n",
        "st = PorterStemmer()\n",
        "data['Statement']=data['Statement'].apply(lambda x: \" \".join([st.stem(w) for w in x.split()]))\n"
      ],
      "execution_count": 0,
      "outputs": []
    },
    {
      "cell_type": "code",
      "metadata": {
        "id": "1lYoMqrFrU2N",
        "colab_type": "code",
        "outputId": "3db9073f-4de9-4b1a-c434-e0ab6a44782f",
        "colab": {
          "base_uri": "https://localhost:8080/",
          "height": 598
        }
      },
      "source": [
        "data.head()"
      ],
      "execution_count": 481,
      "outputs": [
        {
          "output_type": "execute_result",
          "data": {
            "text/html": [
              "<div>\n",
              "<style scoped>\n",
              "    .dataframe tbody tr th:only-of-type {\n",
              "        vertical-align: middle;\n",
              "    }\n",
              "\n",
              "    .dataframe tbody tr th {\n",
              "        vertical-align: top;\n",
              "    }\n",
              "\n",
              "    .dataframe thead th {\n",
              "        text-align: right;\n",
              "    }\n",
              "</style>\n",
              "<table border=\"1\" class=\"dataframe\">\n",
              "  <thead>\n",
              "    <tr style=\"text-align: right;\">\n",
              "      <th></th>\n",
              "      <th>ID</th>\n",
              "      <th>Label</th>\n",
              "      <th>Statement</th>\n",
              "      <th>Subject(s)</th>\n",
              "      <th>Speaker</th>\n",
              "      <th>Speaker's job title</th>\n",
              "      <th>state info</th>\n",
              "      <th>party affiliation</th>\n",
              "      <th>barely true counts</th>\n",
              "      <th>false counts</th>\n",
              "      <th>half true counts</th>\n",
              "      <th>mostly true counts</th>\n",
              "      <th>pants on fire counts</th>\n",
              "      <th>the context (venue/location of speech or statement)</th>\n",
              "    </tr>\n",
              "  </thead>\n",
              "  <tbody>\n",
              "    <tr>\n",
              "      <th>0</th>\n",
              "      <td>10540</td>\n",
              "      <td>half-true</td>\n",
              "      <td>declin coal start start natur ga took start be...</td>\n",
              "      <td>energy,history,job-accomplishments</td>\n",
              "      <td>scott-surovell</td>\n",
              "      <td>State delegate</td>\n",
              "      <td>Virginia</td>\n",
              "      <td>democrat</td>\n",
              "      <td>0.0</td>\n",
              "      <td>0.0</td>\n",
              "      <td>1.0</td>\n",
              "      <td>1.0</td>\n",
              "      <td>0.0</td>\n",
              "      <td>a floor speech.</td>\n",
              "    </tr>\n",
              "    <tr>\n",
              "      <th>1</th>\n",
              "      <td>324</td>\n",
              "      <td>mostly-true</td>\n",
              "      <td>hillari clinton agr john mccain give georg bus...</td>\n",
              "      <td>foreign-policy</td>\n",
              "      <td>barack-obama</td>\n",
              "      <td>President</td>\n",
              "      <td>Illinois</td>\n",
              "      <td>democrat</td>\n",
              "      <td>70.0</td>\n",
              "      <td>71.0</td>\n",
              "      <td>160.0</td>\n",
              "      <td>163.0</td>\n",
              "      <td>9.0</td>\n",
              "      <td>Denver</td>\n",
              "    </tr>\n",
              "    <tr>\n",
              "      <th>2</th>\n",
              "      <td>1123</td>\n",
              "      <td>false</td>\n",
              "      <td>reform legisl like mandat free sex chang surgeri</td>\n",
              "      <td>health-care</td>\n",
              "      <td>blog-posting</td>\n",
              "      <td>Unknown</td>\n",
              "      <td>Unknown1</td>\n",
              "      <td>none</td>\n",
              "      <td>7.0</td>\n",
              "      <td>19.0</td>\n",
              "      <td>3.0</td>\n",
              "      <td>5.0</td>\n",
              "      <td>44.0</td>\n",
              "      <td>a news release</td>\n",
              "    </tr>\n",
              "    <tr>\n",
              "      <th>3</th>\n",
              "      <td>9028</td>\n",
              "      <td>half-true</td>\n",
              "      <td>econom turnaround start end term</td>\n",
              "      <td>economy,jobs</td>\n",
              "      <td>charlie-crist</td>\n",
              "      <td>Unknown</td>\n",
              "      <td>Florida</td>\n",
              "      <td>democrat</td>\n",
              "      <td>15.0</td>\n",
              "      <td>9.0</td>\n",
              "      <td>20.0</td>\n",
              "      <td>19.0</td>\n",
              "      <td>2.0</td>\n",
              "      <td>an interview on CNN</td>\n",
              "    </tr>\n",
              "    <tr>\n",
              "      <th>4</th>\n",
              "      <td>12465</td>\n",
              "      <td>true</td>\n",
              "      <td>chicago bear start quarterback total number te...</td>\n",
              "      <td>education</td>\n",
              "      <td>robin-vos</td>\n",
              "      <td>Wisconsin Assembly speaker</td>\n",
              "      <td>Wisconsin</td>\n",
              "      <td>republican</td>\n",
              "      <td>0.0</td>\n",
              "      <td>3.0</td>\n",
              "      <td>2.0</td>\n",
              "      <td>5.0</td>\n",
              "      <td>1.0</td>\n",
              "      <td>a an online opinion-piece</td>\n",
              "    </tr>\n",
              "  </tbody>\n",
              "</table>\n",
              "</div>"
            ],
            "text/plain": [
              "      ID  ... the context (venue/location of speech or statement)\n",
              "0  10540  ...                                    a floor speech. \n",
              "1    324  ...                                             Denver \n",
              "2   1123  ...                                     a news release \n",
              "3   9028  ...                                an interview on CNN \n",
              "4  12465  ...                          a an online opinion-piece \n",
              "\n",
              "[5 rows x 14 columns]"
            ]
          },
          "metadata": {
            "tags": []
          },
          "execution_count": 481
        }
      ]
    },
    {
      "cell_type": "code",
      "metadata": {
        "id": "IY96my6R7hE5",
        "colab_type": "code",
        "colab": {}
      },
      "source": [
        "# Removing .json extension\n",
        "data['ID'] = data['ID'].str.rstrip('.json')"
      ],
      "execution_count": 0,
      "outputs": []
    },
    {
      "cell_type": "code",
      "metadata": {
        "id": "qhNZnbUwtQj2",
        "colab_type": "code",
        "colab": {}
      },
      "source": [
        "#ID = data.iloc[:,[1]]\n",
        "#data=data.drop(['ID'], axis=1)"
      ],
      "execution_count": 0,
      "outputs": []
    },
    {
      "cell_type": "code",
      "metadata": {
        "id": "u6KYvzg7FnrS",
        "colab_type": "code",
        "outputId": "e0be0fc5-fd56-4518-860d-7d63a83a0570",
        "colab": {
          "base_uri": "https://localhost:8080/",
          "height": 119
        }
      },
      "source": [
        "data.columns"
      ],
      "execution_count": 484,
      "outputs": [
        {
          "output_type": "execute_result",
          "data": {
            "text/plain": [
              "Index(['ID', 'Label', 'Statement', 'Subject(s)', 'Speaker',\n",
              "       'Speaker's job title', 'state info', 'party affiliation',\n",
              "       'barely true counts', 'false counts', 'half true counts',\n",
              "       'mostly true counts', 'pants on fire counts',\n",
              "       'the context (venue/location of speech or statement)'],\n",
              "      dtype='object')"
            ]
          },
          "metadata": {
            "tags": []
          },
          "execution_count": 484
        }
      ]
    },
    {
      "cell_type": "code",
      "metadata": {
        "id": "Y7tB-qDRIp6W",
        "colab_type": "code",
        "colab": {}
      },
      "source": [
        "labelencoder.fit(data.iloc[:,1].values)\n",
        "data.iloc[:,1]=labelencoder.transform(data.iloc[:,1])"
      ],
      "execution_count": 0,
      "outputs": []
    },
    {
      "cell_type": "code",
      "metadata": {
        "id": "Ex-BKNGPI4Ci",
        "colab_type": "code",
        "colab": {
          "base_uri": "https://localhost:8080/",
          "height": 598
        },
        "outputId": "2ae9034f-e0ef-4fae-8343-afb9538b302a"
      },
      "source": [
        "data.head()"
      ],
      "execution_count": 495,
      "outputs": [
        {
          "output_type": "execute_result",
          "data": {
            "text/html": [
              "<div>\n",
              "<style scoped>\n",
              "    .dataframe tbody tr th:only-of-type {\n",
              "        vertical-align: middle;\n",
              "    }\n",
              "\n",
              "    .dataframe tbody tr th {\n",
              "        vertical-align: top;\n",
              "    }\n",
              "\n",
              "    .dataframe thead th {\n",
              "        text-align: right;\n",
              "    }\n",
              "</style>\n",
              "<table border=\"1\" class=\"dataframe\">\n",
              "  <thead>\n",
              "    <tr style=\"text-align: right;\">\n",
              "      <th></th>\n",
              "      <th>ID</th>\n",
              "      <th>Label</th>\n",
              "      <th>Statement</th>\n",
              "      <th>Subject(s)</th>\n",
              "      <th>Speaker</th>\n",
              "      <th>Speaker's job title</th>\n",
              "      <th>state info</th>\n",
              "      <th>party affiliation</th>\n",
              "      <th>barely true counts</th>\n",
              "      <th>false counts</th>\n",
              "      <th>half true counts</th>\n",
              "      <th>mostly true counts</th>\n",
              "      <th>pants on fire counts</th>\n",
              "      <th>the context (venue/location of speech or statement)</th>\n",
              "    </tr>\n",
              "  </thead>\n",
              "  <tbody>\n",
              "    <tr>\n",
              "      <th>0</th>\n",
              "      <td>10540</td>\n",
              "      <td>2</td>\n",
              "      <td>declin coal start start natur ga took start be...</td>\n",
              "      <td>energy,history,job-accomplishments</td>\n",
              "      <td>scott-surovell</td>\n",
              "      <td>State delegate</td>\n",
              "      <td>Virginia</td>\n",
              "      <td>democrat</td>\n",
              "      <td>0.0</td>\n",
              "      <td>0.0</td>\n",
              "      <td>1.0</td>\n",
              "      <td>1.0</td>\n",
              "      <td>0.0</td>\n",
              "      <td>a floor speech.</td>\n",
              "    </tr>\n",
              "    <tr>\n",
              "      <th>1</th>\n",
              "      <td>324</td>\n",
              "      <td>3</td>\n",
              "      <td>hillari clinton agr john mccain give georg bus...</td>\n",
              "      <td>foreign-policy</td>\n",
              "      <td>barack-obama</td>\n",
              "      <td>President</td>\n",
              "      <td>Illinois</td>\n",
              "      <td>democrat</td>\n",
              "      <td>70.0</td>\n",
              "      <td>71.0</td>\n",
              "      <td>160.0</td>\n",
              "      <td>163.0</td>\n",
              "      <td>9.0</td>\n",
              "      <td>Denver</td>\n",
              "    </tr>\n",
              "    <tr>\n",
              "      <th>2</th>\n",
              "      <td>1123</td>\n",
              "      <td>1</td>\n",
              "      <td>reform legisl like mandat free sex chang surgeri</td>\n",
              "      <td>health-care</td>\n",
              "      <td>blog-posting</td>\n",
              "      <td>Unknown</td>\n",
              "      <td>Unknown1</td>\n",
              "      <td>none</td>\n",
              "      <td>7.0</td>\n",
              "      <td>19.0</td>\n",
              "      <td>3.0</td>\n",
              "      <td>5.0</td>\n",
              "      <td>44.0</td>\n",
              "      <td>a news release</td>\n",
              "    </tr>\n",
              "    <tr>\n",
              "      <th>3</th>\n",
              "      <td>9028</td>\n",
              "      <td>2</td>\n",
              "      <td>econom turnaround start end term</td>\n",
              "      <td>economy,jobs</td>\n",
              "      <td>charlie-crist</td>\n",
              "      <td>Unknown</td>\n",
              "      <td>Florida</td>\n",
              "      <td>democrat</td>\n",
              "      <td>15.0</td>\n",
              "      <td>9.0</td>\n",
              "      <td>20.0</td>\n",
              "      <td>19.0</td>\n",
              "      <td>2.0</td>\n",
              "      <td>an interview on CNN</td>\n",
              "    </tr>\n",
              "    <tr>\n",
              "      <th>4</th>\n",
              "      <td>12465</td>\n",
              "      <td>5</td>\n",
              "      <td>chicago bear start quarterback total number te...</td>\n",
              "      <td>education</td>\n",
              "      <td>robin-vos</td>\n",
              "      <td>Wisconsin Assembly speaker</td>\n",
              "      <td>Wisconsin</td>\n",
              "      <td>republican</td>\n",
              "      <td>0.0</td>\n",
              "      <td>3.0</td>\n",
              "      <td>2.0</td>\n",
              "      <td>5.0</td>\n",
              "      <td>1.0</td>\n",
              "      <td>a an online opinion-piece</td>\n",
              "    </tr>\n",
              "  </tbody>\n",
              "</table>\n",
              "</div>"
            ],
            "text/plain": [
              "      ID  ...  the context (venue/location of speech or statement)\n",
              "0  10540  ...                                    a floor speech.  \n",
              "1    324  ...                                             Denver  \n",
              "2   1123  ...                                     a news release  \n",
              "3   9028  ...                                an interview on CNN  \n",
              "4  12465  ...                          a an online opinion-piece  \n",
              "\n",
              "[5 rows x 14 columns]"
            ]
          },
          "metadata": {
            "tags": []
          },
          "execution_count": 495
        }
      ]
    },
    {
      "cell_type": "code",
      "metadata": {
        "id": "omyuh_4CwjrD",
        "colab_type": "code",
        "colab": {}
      },
      "source": [
        "# Train test split before by random_seed=fixed\n",
        "\n",
        "\n",
        "# k-Fold Cross Validation\n",
        "\n",
        "X = data.iloc[:, [2, 3,4,5,6,7,8,9,10,11,12,13]]\n",
        "y = data.iloc[:, 1]"
      ],
      "execution_count": 0,
      "outputs": []
    },
    {
      "cell_type": "code",
      "metadata": {
        "id": "TJTfY39PG5NL",
        "colab_type": "code",
        "colab": {
          "base_uri": "https://localhost:8080/",
          "height": 119
        },
        "outputId": "1d26bd5f-fcaf-4fb5-ef7f-5d2131b7c999"
      },
      "source": [
        "y.head()"
      ],
      "execution_count": 497,
      "outputs": [
        {
          "output_type": "execute_result",
          "data": {
            "text/plain": [
              "0    2\n",
              "1    3\n",
              "2    1\n",
              "3    2\n",
              "4    5\n",
              "Name: Label, dtype: int64"
            ]
          },
          "metadata": {
            "tags": []
          },
          "execution_count": 497
        }
      ]
    },
    {
      "cell_type": "code",
      "metadata": {
        "id": "3FTqGaknIKvP",
        "colab_type": "code",
        "colab": {
          "base_uri": "https://localhost:8080/",
          "height": 34
        },
        "outputId": "26ee26b6-73b5-41e8-b6b5-fcef4344c909"
      },
      "source": [
        "type(y)"
      ],
      "execution_count": 498,
      "outputs": [
        {
          "output_type": "execute_result",
          "data": {
            "text/plain": [
              "pandas.core.series.Series"
            ]
          },
          "metadata": {
            "tags": []
          },
          "execution_count": 498
        }
      ]
    },
    {
      "cell_type": "code",
      "metadata": {
        "id": "d4CunFHlGtFV",
        "colab_type": "code",
        "colab": {
          "base_uri": "https://localhost:8080/",
          "height": 85
        },
        "outputId": "db982acd-df46-4b77-ee49-fab3f4cda81d"
      },
      "source": [
        "print(y.index)"
      ],
      "execution_count": 499,
      "outputs": [
        {
          "output_type": "stream",
          "text": [
            "Int64Index([   0,    1,    2,    3,    4,    5,    6,    7,    8,    9,\n",
            "            ...\n",
            "            1273, 1274, 1275, 1276, 1277, 1278, 1279, 1280, 1281, 1282],\n",
            "           dtype='int64', length=28082)\n"
          ],
          "name": "stdout"
        }
      ]
    },
    {
      "cell_type": "code",
      "metadata": {
        "id": "JEAeAwPmGtBR",
        "colab_type": "code",
        "colab": {}
      },
      "source": [
        ""
      ],
      "execution_count": 0,
      "outputs": []
    },
    {
      "cell_type": "code",
      "metadata": {
        "id": "YYa5SU5LwjyB",
        "colab_type": "code",
        "colab": {}
      },
      "source": [
        "# Splitting the dataset into the Training set and Test set\n",
        "from sklearn.model_selection import train_test_split\n",
        "X_train, X_test, y_train, y_test = train_test_split(X, y, test_size = 0.20, random_state = 0)"
      ],
      "execution_count": 0,
      "outputs": []
    },
    {
      "cell_type": "code",
      "metadata": {
        "id": "KP4IZn0DKwIA",
        "colab_type": "code",
        "colab": {}
      },
      "source": [
        "X_train_1 = X_train\n",
        "X_test_1 = X_test\n",
        "y_train_1 = y_train\n",
        "y_test_1 = y_test"
      ],
      "execution_count": 0,
      "outputs": []
    },
    {
      "cell_type": "code",
      "metadata": {
        "id": "XqD0cOZOxOxv",
        "colab_type": "code",
        "colab": {
          "base_uri": "https://localhost:8080/",
          "height": 119
        },
        "outputId": "76ecc971-8f67-4d50-b395-f35b6a64b5ae"
      },
      "source": [
        "y_train.head()"
      ],
      "execution_count": 537,
      "outputs": [
        {
          "output_type": "execute_result",
          "data": {
            "text/plain": [
              "232     5\n",
              "310     2\n",
              "946     0\n",
              "9990    0\n",
              "4277    0\n",
              "Name: Label, dtype: int64"
            ]
          },
          "metadata": {
            "tags": []
          },
          "execution_count": 537
        }
      ]
    },
    {
      "cell_type": "code",
      "metadata": {
        "id": "yH9Zdarjwjvk",
        "colab_type": "code",
        "colab": {
          "base_uri": "https://localhost:8080/",
          "height": 119
        },
        "outputId": "da94fe03-160d-4cad-adca-c19e9b5a8b2e"
      },
      "source": [
        "y_test.head()"
      ],
      "execution_count": 502,
      "outputs": [
        {
          "output_type": "execute_result",
          "data": {
            "text/plain": [
              "6692    0\n",
              "984     0\n",
              "1111    1\n",
              "1154    2\n",
              "429     1\n",
              "Name: Label, dtype: int64"
            ]
          },
          "metadata": {
            "tags": []
          },
          "execution_count": 502
        }
      ]
    },
    {
      "cell_type": "code",
      "metadata": {
        "id": "5476GMxtbvYE",
        "colab_type": "code",
        "colab": {}
      },
      "source": [
        "X_train_cat = X_train.loc[:,['Speaker',\"Speaker's job title\",'state info','party affiliation','the context (venue/location of speech or statement)']]\n",
        "X_test_cat = X_test.loc[:,['Speaker',\"Speaker's job title\",'state info','party affiliation','the context (venue/location of speech or statement)']]"
      ],
      "execution_count": 0,
      "outputs": []
    },
    {
      "cell_type": "code",
      "metadata": {
        "id": "pfYevP2EycrK",
        "colab_type": "code",
        "colab": {
          "base_uri": "https://localhost:8080/",
          "height": 272
        },
        "outputId": "2bc4a8fb-f9fa-409f-954f-91cb28fcfc3e"
      },
      "source": [
        "X_train_cat.head()"
      ],
      "execution_count": 504,
      "outputs": [
        {
          "output_type": "execute_result",
          "data": {
            "text/html": [
              "<div>\n",
              "<style scoped>\n",
              "    .dataframe tbody tr th:only-of-type {\n",
              "        vertical-align: middle;\n",
              "    }\n",
              "\n",
              "    .dataframe tbody tr th {\n",
              "        vertical-align: top;\n",
              "    }\n",
              "\n",
              "    .dataframe thead th {\n",
              "        text-align: right;\n",
              "    }\n",
              "</style>\n",
              "<table border=\"1\" class=\"dataframe\">\n",
              "  <thead>\n",
              "    <tr style=\"text-align: right;\">\n",
              "      <th></th>\n",
              "      <th>Speaker</th>\n",
              "      <th>Speaker's job title</th>\n",
              "      <th>state info</th>\n",
              "      <th>party affiliation</th>\n",
              "      <th>the context (venue/location of speech or statement)</th>\n",
              "    </tr>\n",
              "  </thead>\n",
              "  <tbody>\n",
              "    <tr>\n",
              "      <th>232</th>\n",
              "      <td>nina-turner</td>\n",
              "      <td>State senator</td>\n",
              "      <td>Ohio</td>\n",
              "      <td>democrat</td>\n",
              "      <td>an opinion column</td>\n",
              "    </tr>\n",
              "    <tr>\n",
              "      <th>310</th>\n",
              "      <td>scott-walker</td>\n",
              "      <td>Milwaukee County Executive</td>\n",
              "      <td>Wisconsin</td>\n",
              "      <td>republican</td>\n",
              "      <td>a speech</td>\n",
              "    </tr>\n",
              "    <tr>\n",
              "      <th>946</th>\n",
              "      <td>pat-robertson</td>\n",
              "      <td>Religious broadcaster</td>\n",
              "      <td>Virginia</td>\n",
              "      <td>republican</td>\n",
              "      <td>a TV broadcast</td>\n",
              "    </tr>\n",
              "    <tr>\n",
              "      <th>9990</th>\n",
              "      <td>tom-cotton</td>\n",
              "      <td>U.S. House of Representatives</td>\n",
              "      <td>Arkansas</td>\n",
              "      <td>republican</td>\n",
              "      <td>a House floor speech</td>\n",
              "    </tr>\n",
              "    <tr>\n",
              "      <th>4277</th>\n",
              "      <td>tom-barrett</td>\n",
              "      <td>Mayor of Milwaukee</td>\n",
              "      <td>Wisconsin</td>\n",
              "      <td>democrat</td>\n",
              "      <td>an interview</td>\n",
              "    </tr>\n",
              "  </tbody>\n",
              "</table>\n",
              "</div>"
            ],
            "text/plain": [
              "            Speaker  ... the context (venue/location of speech or statement)\n",
              "232     nina-turner  ...                                  an opinion column \n",
              "310    scott-walker  ...                                           a speech \n",
              "946   pat-robertson  ...                                     a TV broadcast \n",
              "9990     tom-cotton  ...                               a House floor speech \n",
              "4277    tom-barrett  ...                                       an interview \n",
              "\n",
              "[5 rows x 5 columns]"
            ]
          },
          "metadata": {
            "tags": []
          },
          "execution_count": 504
        }
      ]
    },
    {
      "cell_type": "code",
      "metadata": {
        "id": "Ls_hnnDeygFG",
        "colab_type": "code",
        "colab": {
          "base_uri": "https://localhost:8080/",
          "height": 255
        },
        "outputId": "cef3d4a8-edfa-4ee3-aca6-bcb3ffe8dd0c"
      },
      "source": [
        "X_test_cat.head()"
      ],
      "execution_count": 505,
      "outputs": [
        {
          "output_type": "execute_result",
          "data": {
            "text/html": [
              "<div>\n",
              "<style scoped>\n",
              "    .dataframe tbody tr th:only-of-type {\n",
              "        vertical-align: middle;\n",
              "    }\n",
              "\n",
              "    .dataframe tbody tr th {\n",
              "        vertical-align: top;\n",
              "    }\n",
              "\n",
              "    .dataframe thead th {\n",
              "        text-align: right;\n",
              "    }\n",
              "</style>\n",
              "<table border=\"1\" class=\"dataframe\">\n",
              "  <thead>\n",
              "    <tr style=\"text-align: right;\">\n",
              "      <th></th>\n",
              "      <th>Speaker</th>\n",
              "      <th>Speaker's job title</th>\n",
              "      <th>state info</th>\n",
              "      <th>party affiliation</th>\n",
              "      <th>the context (venue/location of speech or statement)</th>\n",
              "    </tr>\n",
              "  </thead>\n",
              "  <tbody>\n",
              "    <tr>\n",
              "      <th>6692</th>\n",
              "      <td>chain-email</td>\n",
              "      <td>Unknown</td>\n",
              "      <td>Unknown1</td>\n",
              "      <td>none</td>\n",
              "      <td>a chain e-mail</td>\n",
              "    </tr>\n",
              "    <tr>\n",
              "      <th>984</th>\n",
              "      <td>barack-obama</td>\n",
              "      <td>President</td>\n",
              "      <td>Illinois</td>\n",
              "      <td>democrat</td>\n",
              "      <td>a speech at a memorial service in Dallas</td>\n",
              "    </tr>\n",
              "    <tr>\n",
              "      <th>1111</th>\n",
              "      <td>ted-cruz</td>\n",
              "      <td>Senator</td>\n",
              "      <td>Texas</td>\n",
              "      <td>republican</td>\n",
              "      <td>a press conference at Lackland Air Force Base</td>\n",
              "    </tr>\n",
              "    <tr>\n",
              "      <th>1154</th>\n",
              "      <td>michael-sullivan</td>\n",
              "      <td>president and ceo, Empower Texans</td>\n",
              "      <td>Texas</td>\n",
              "      <td>republican</td>\n",
              "      <td>a Twitter post</td>\n",
              "    </tr>\n",
              "    <tr>\n",
              "      <th>429</th>\n",
              "      <td>debbie-wasserman-schultz</td>\n",
              "      <td>U.S. Representative, Florida District 23</td>\n",
              "      <td>Florida</td>\n",
              "      <td>democrat</td>\n",
              "      <td>an interview with political commentator Roland...</td>\n",
              "    </tr>\n",
              "  </tbody>\n",
              "</table>\n",
              "</div>"
            ],
            "text/plain": [
              "                       Speaker  ... the context (venue/location of speech or statement)\n",
              "6692               chain-email  ...                                     a chain e-mail \n",
              "984               barack-obama  ...           a speech at a memorial service in Dallas \n",
              "1111                  ted-cruz  ...      a press conference at Lackland Air Force Base \n",
              "1154          michael-sullivan  ...                                     a Twitter post \n",
              "429   debbie-wasserman-schultz  ...  an interview with political commentator Roland... \n",
              "\n",
              "[5 rows x 5 columns]"
            ]
          },
          "metadata": {
            "tags": []
          },
          "execution_count": 505
        }
      ]
    },
    {
      "cell_type": "code",
      "metadata": {
        "id": "SZvM8LuaytHn",
        "colab_type": "code",
        "colab": {
          "base_uri": "https://localhost:8080/",
          "height": 34
        },
        "outputId": "9ea584c0-8698-4efd-d08d-0a6242932565"
      },
      "source": [
        "X_train_cat.shape, X_test_cat.shape"
      ],
      "execution_count": 506,
      "outputs": [
        {
          "output_type": "execute_result",
          "data": {
            "text/plain": [
              "((22465, 5), (5617, 5))"
            ]
          },
          "metadata": {
            "tags": []
          },
          "execution_count": 506
        }
      ]
    },
    {
      "cell_type": "code",
      "metadata": {
        "id": "B9OmtSopz1QD",
        "colab_type": "code",
        "colab": {}
      },
      "source": [
        "from sklearn.preprocessing import LabelEncoder, OneHotEncoder\n",
        "labelencoder = LabelEncoder()"
      ],
      "execution_count": 0,
      "outputs": []
    },
    {
      "cell_type": "code",
      "metadata": {
        "id": "5Omurr_X02QJ",
        "colab_type": "code",
        "colab": {}
      },
      "source": [
        "X_train_cat = X_train.loc[:,['Speaker',\"Speaker's job title\",'state info','party affiliation','the context (venue/location of speech or statement)']]\n",
        "X_test_cat = X_test.loc[:,['Speaker',\"Speaker's job title\",'state info','party affiliation','the context (venue/location of speech or statement)']]"
      ],
      "execution_count": 0,
      "outputs": []
    },
    {
      "cell_type": "code",
      "metadata": {
        "id": "LTnmfl9T2nx7",
        "colab_type": "code",
        "colab": {}
      },
      "source": [
        "labelencoder = LabelEncoder()\n",
        "labelencoder.fit(X_train_cat.iloc[:,0].values)\n",
        "X_train_cat.iloc[:,0]=labelencoder.transform(X_train_cat.iloc[:,0])"
      ],
      "execution_count": 0,
      "outputs": []
    },
    {
      "cell_type": "code",
      "metadata": {
        "id": "KIC52pr847qq",
        "colab_type": "code",
        "colab": {}
      },
      "source": [
        "labelencoder.fit(X_test_cat.iloc[:,0].values)\n",
        "X_test_cat.iloc[:,0]=labelencoder.transform(X_test_cat.iloc[:,0])"
      ],
      "execution_count": 0,
      "outputs": []
    },
    {
      "cell_type": "code",
      "metadata": {
        "id": "2fQhvu2V2nvT",
        "colab_type": "code",
        "colab": {}
      },
      "source": [
        "labelencoder.fit(X_train_cat.iloc[:,1].values)\n",
        "X_train_cat.iloc[:,1]=labelencoder.transform(X_train_cat.iloc[:,1])"
      ],
      "execution_count": 0,
      "outputs": []
    },
    {
      "cell_type": "code",
      "metadata": {
        "id": "tKtlshdy5SZ3",
        "colab_type": "code",
        "colab": {}
      },
      "source": [
        "labelencoder.fit(X_test_cat.iloc[:,1].values)\n",
        "X_test_cat.iloc[:,1]=labelencoder.transform(X_test_cat.iloc[:,1])"
      ],
      "execution_count": 0,
      "outputs": []
    },
    {
      "cell_type": "code",
      "metadata": {
        "id": "O_JGDMV_2nsQ",
        "colab_type": "code",
        "colab": {}
      },
      "source": [
        "labelencoder.fit(X_train_cat.iloc[:,2].values)\n",
        "X_train_cat.iloc[:,2]=labelencoder.transform(X_train_cat.iloc[:,2])"
      ],
      "execution_count": 0,
      "outputs": []
    },
    {
      "cell_type": "code",
      "metadata": {
        "id": "EvaIg-Rw5YtJ",
        "colab_type": "code",
        "colab": {}
      },
      "source": [
        "labelencoder.fit(X_test_cat.iloc[:,2].values)\n",
        "X_test_cat.iloc[:,2]=labelencoder.transform(X_test_cat.iloc[:,2])"
      ],
      "execution_count": 0,
      "outputs": []
    },
    {
      "cell_type": "code",
      "metadata": {
        "id": "iR2N8luy2no8",
        "colab_type": "code",
        "colab": {}
      },
      "source": [
        "labelencoder.fit(X_train_cat.iloc[:,3].values)\n",
        "X_train_cat.iloc[:,3]=labelencoder.transform(X_train_cat.iloc[:,3])"
      ],
      "execution_count": 0,
      "outputs": []
    },
    {
      "cell_type": "code",
      "metadata": {
        "id": "fhCZe3gC5pY0",
        "colab_type": "code",
        "colab": {}
      },
      "source": [
        "labelencoder.fit(X_test_cat.iloc[:,3].values)\n",
        "X_test_cat.iloc[:,3]=labelencoder.transform(X_test_cat.iloc[:,3])"
      ],
      "execution_count": 0,
      "outputs": []
    },
    {
      "cell_type": "code",
      "metadata": {
        "id": "5-Zne9bb325q",
        "colab_type": "code",
        "colab": {}
      },
      "source": [
        "labelencoder.fit(X_train_cat.iloc[:,4].values)\n",
        "X_train_cat.iloc[:,4]=labelencoder.transform(X_train_cat.iloc[:,4])"
      ],
      "execution_count": 0,
      "outputs": []
    },
    {
      "cell_type": "code",
      "metadata": {
        "id": "DQ7rVfU05vmv",
        "colab_type": "code",
        "colab": {}
      },
      "source": [
        "labelencoder.fit(X_test_cat.iloc[:,4].values)\n",
        "X_test_cat.iloc[:,4]=labelencoder.transform(X_test_cat.iloc[:,4])"
      ],
      "execution_count": 0,
      "outputs": []
    },
    {
      "cell_type": "code",
      "metadata": {
        "id": "t4vN5XYy3spP",
        "colab_type": "code",
        "colab": {
          "base_uri": "https://localhost:8080/",
          "height": 221
        },
        "outputId": "64d143fd-a1ff-4e18-c262-69f4ae5f1f4a"
      },
      "source": [
        "X_train_cat.head()"
      ],
      "execution_count": 519,
      "outputs": [
        {
          "output_type": "execute_result",
          "data": {
            "text/html": [
              "<div>\n",
              "<style scoped>\n",
              "    .dataframe tbody tr th:only-of-type {\n",
              "        vertical-align: middle;\n",
              "    }\n",
              "\n",
              "    .dataframe tbody tr th {\n",
              "        vertical-align: top;\n",
              "    }\n",
              "\n",
              "    .dataframe thead th {\n",
              "        text-align: right;\n",
              "    }\n",
              "</style>\n",
              "<table border=\"1\" class=\"dataframe\">\n",
              "  <thead>\n",
              "    <tr style=\"text-align: right;\">\n",
              "      <th></th>\n",
              "      <th>Speaker</th>\n",
              "      <th>Speaker's job title</th>\n",
              "      <th>state info</th>\n",
              "      <th>party affiliation</th>\n",
              "      <th>the context (venue/location of speech or statement)</th>\n",
              "    </tr>\n",
              "  </thead>\n",
              "  <tbody>\n",
              "    <tr>\n",
              "      <th>232</th>\n",
              "      <td>2102</td>\n",
              "      <td>906</td>\n",
              "      <td>46</td>\n",
              "      <td>6</td>\n",
              "      <td>3470</td>\n",
              "    </tr>\n",
              "    <tr>\n",
              "      <th>310</th>\n",
              "      <td>2564</td>\n",
              "      <td>557</td>\n",
              "      <td>80</td>\n",
              "      <td>19</td>\n",
              "      <td>1888</td>\n",
              "    </tr>\n",
              "    <tr>\n",
              "      <th>946</th>\n",
              "      <td>2177</td>\n",
              "      <td>750</td>\n",
              "      <td>70</td>\n",
              "      <td>19</td>\n",
              "      <td>627</td>\n",
              "    </tr>\n",
              "    <tr>\n",
              "      <th>9990</th>\n",
              "      <td>2814</td>\n",
              "      <td>962</td>\n",
              "      <td>3</td>\n",
              "      <td>19</td>\n",
              "      <td>454</td>\n",
              "    </tr>\n",
              "    <tr>\n",
              "      <th>4277</th>\n",
              "      <td>2809</td>\n",
              "      <td>524</td>\n",
              "      <td>80</td>\n",
              "      <td>6</td>\n",
              "      <td>2875</td>\n",
              "    </tr>\n",
              "  </tbody>\n",
              "</table>\n",
              "</div>"
            ],
            "text/plain": [
              "      Speaker  ...  the context (venue/location of speech or statement)\n",
              "232      2102  ...                                               3470  \n",
              "310      2564  ...                                               1888  \n",
              "946      2177  ...                                                627  \n",
              "9990     2814  ...                                                454  \n",
              "4277     2809  ...                                               2875  \n",
              "\n",
              "[5 rows x 5 columns]"
            ]
          },
          "metadata": {
            "tags": []
          },
          "execution_count": 519
        }
      ]
    },
    {
      "cell_type": "code",
      "metadata": {
        "id": "rJVojyI86tj5",
        "colab_type": "code",
        "colab": {
          "base_uri": "https://localhost:8080/",
          "height": 221
        },
        "outputId": "84c5604b-5312-49f9-f82b-12e13e8304cd"
      },
      "source": [
        "X_test_cat.head()"
      ],
      "execution_count": 520,
      "outputs": [
        {
          "output_type": "execute_result",
          "data": {
            "text/html": [
              "<div>\n",
              "<style scoped>\n",
              "    .dataframe tbody tr th:only-of-type {\n",
              "        vertical-align: middle;\n",
              "    }\n",
              "\n",
              "    .dataframe tbody tr th {\n",
              "        vertical-align: top;\n",
              "    }\n",
              "\n",
              "    .dataframe thead th {\n",
              "        text-align: right;\n",
              "    }\n",
              "</style>\n",
              "<table border=\"1\" class=\"dataframe\">\n",
              "  <thead>\n",
              "    <tr style=\"text-align: right;\">\n",
              "      <th></th>\n",
              "      <th>Speaker</th>\n",
              "      <th>Speaker's job title</th>\n",
              "      <th>state info</th>\n",
              "      <th>party affiliation</th>\n",
              "      <th>the context (venue/location of speech or statement)</th>\n",
              "    </tr>\n",
              "  </thead>\n",
              "  <tbody>\n",
              "    <tr>\n",
              "      <th>6692</th>\n",
              "      <td>216</td>\n",
              "      <td>529</td>\n",
              "      <td>47</td>\n",
              "      <td>13</td>\n",
              "      <td>451</td>\n",
              "    </tr>\n",
              "    <tr>\n",
              "      <th>984</th>\n",
              "      <td>93</td>\n",
              "      <td>348</td>\n",
              "      <td>14</td>\n",
              "      <td>5</td>\n",
              "      <td>904</td>\n",
              "    </tr>\n",
              "    <tr>\n",
              "      <th>1111</th>\n",
              "      <td>1375</td>\n",
              "      <td>423</td>\n",
              "      <td>45</td>\n",
              "      <td>15</td>\n",
              "      <td>765</td>\n",
              "    </tr>\n",
              "    <tr>\n",
              "      <th>1154</th>\n",
              "      <td>981</td>\n",
              "      <td>615</td>\n",
              "      <td>45</td>\n",
              "      <td>15</td>\n",
              "      <td>312</td>\n",
              "    </tr>\n",
              "    <tr>\n",
              "      <th>429</th>\n",
              "      <td>354</td>\n",
              "      <td>511</td>\n",
              "      <td>10</td>\n",
              "      <td>5</td>\n",
              "      <td>1521</td>\n",
              "    </tr>\n",
              "  </tbody>\n",
              "</table>\n",
              "</div>"
            ],
            "text/plain": [
              "      Speaker  ...  the context (venue/location of speech or statement)\n",
              "6692      216  ...                                                451  \n",
              "984        93  ...                                                904  \n",
              "1111     1375  ...                                                765  \n",
              "1154      981  ...                                                312  \n",
              "429       354  ...                                               1521  \n",
              "\n",
              "[5 rows x 5 columns]"
            ]
          },
          "metadata": {
            "tags": []
          },
          "execution_count": 520
        }
      ]
    },
    {
      "cell_type": "code",
      "metadata": {
        "id": "xwMtlbWEs_2A",
        "colab_type": "code",
        "colab": {}
      },
      "source": [
        "#x = x_data(data)  #data set"
      ],
      "execution_count": 0,
      "outputs": []
    },
    {
      "cell_type": "code",
      "metadata": {
        "id": "daLOLynD3JXp",
        "colab_type": "code",
        "colab": {}
      },
      "source": [
        "#x1 = x_data(data)"
      ],
      "execution_count": 0,
      "outputs": []
    },
    {
      "cell_type": "code",
      "metadata": {
        "id": "FCowIICLEXUD",
        "colab_type": "code",
        "colab": {}
      },
      "source": [
        "#x.shape, x1.shape"
      ],
      "execution_count": 0,
      "outputs": []
    },
    {
      "cell_type": "code",
      "metadata": {
        "id": "RwdyWK6c17rj",
        "colab_type": "code",
        "colab": {}
      },
      "source": [
        "X_train_cont = X_train.loc[:,['barely true counts','false counts',\"half true counts\",'mostly true counts','pants on fire counts']]\n",
        "X_test_cont = X_test.loc[:,['barely true counts','false counts',\"half true counts\",'mostly true counts','pants on fire counts']]"
      ],
      "execution_count": 0,
      "outputs": []
    },
    {
      "cell_type": "code",
      "metadata": {
        "id": "833ElA6f2qzC",
        "colab_type": "code",
        "outputId": "5956c42f-8d4a-4a81-eb9e-bd661d5fdfc8",
        "colab": {
          "base_uri": "https://localhost:8080/",
          "height": 204
        }
      },
      "source": [
        "X_train_cont.head()"
      ],
      "execution_count": 525,
      "outputs": [
        {
          "output_type": "execute_result",
          "data": {
            "text/html": [
              "<div>\n",
              "<style scoped>\n",
              "    .dataframe tbody tr th:only-of-type {\n",
              "        vertical-align: middle;\n",
              "    }\n",
              "\n",
              "    .dataframe tbody tr th {\n",
              "        vertical-align: top;\n",
              "    }\n",
              "\n",
              "    .dataframe thead th {\n",
              "        text-align: right;\n",
              "    }\n",
              "</style>\n",
              "<table border=\"1\" class=\"dataframe\">\n",
              "  <thead>\n",
              "    <tr style=\"text-align: right;\">\n",
              "      <th></th>\n",
              "      <th>barely true counts</th>\n",
              "      <th>false counts</th>\n",
              "      <th>half true counts</th>\n",
              "      <th>mostly true counts</th>\n",
              "      <th>pants on fire counts</th>\n",
              "    </tr>\n",
              "  </thead>\n",
              "  <tbody>\n",
              "    <tr>\n",
              "      <th>232</th>\n",
              "      <td>1.0</td>\n",
              "      <td>0.0</td>\n",
              "      <td>0.0</td>\n",
              "      <td>0.0</td>\n",
              "      <td>0.0</td>\n",
              "    </tr>\n",
              "    <tr>\n",
              "      <th>310</th>\n",
              "      <td>26.0</td>\n",
              "      <td>41.0</td>\n",
              "      <td>32.0</td>\n",
              "      <td>40.0</td>\n",
              "      <td>11.0</td>\n",
              "    </tr>\n",
              "    <tr>\n",
              "      <th>946</th>\n",
              "      <td>1.0</td>\n",
              "      <td>0.0</td>\n",
              "      <td>0.0</td>\n",
              "      <td>0.0</td>\n",
              "      <td>1.0</td>\n",
              "    </tr>\n",
              "    <tr>\n",
              "      <th>9990</th>\n",
              "      <td>3.0</td>\n",
              "      <td>4.0</td>\n",
              "      <td>2.0</td>\n",
              "      <td>3.0</td>\n",
              "      <td>1.0</td>\n",
              "    </tr>\n",
              "    <tr>\n",
              "      <th>4277</th>\n",
              "      <td>2.0</td>\n",
              "      <td>5.0</td>\n",
              "      <td>8.0</td>\n",
              "      <td>5.0</td>\n",
              "      <td>3.0</td>\n",
              "    </tr>\n",
              "  </tbody>\n",
              "</table>\n",
              "</div>"
            ],
            "text/plain": [
              "      barely true counts  ...  pants on fire counts\n",
              "232                  1.0  ...                   0.0\n",
              "310                 26.0  ...                  11.0\n",
              "946                  1.0  ...                   1.0\n",
              "9990                 3.0  ...                   1.0\n",
              "4277                 2.0  ...                   3.0\n",
              "\n",
              "[5 rows x 5 columns]"
            ]
          },
          "metadata": {
            "tags": []
          },
          "execution_count": 525
        }
      ]
    },
    {
      "cell_type": "code",
      "metadata": {
        "id": "LoGVymb_7gMZ",
        "colab_type": "code",
        "colab": {
          "base_uri": "https://localhost:8080/",
          "height": 204
        },
        "outputId": "da6d8093-861d-441e-b664-c049c99a7549"
      },
      "source": [
        "X_test_cont.head()"
      ],
      "execution_count": 526,
      "outputs": [
        {
          "output_type": "execute_result",
          "data": {
            "text/html": [
              "<div>\n",
              "<style scoped>\n",
              "    .dataframe tbody tr th:only-of-type {\n",
              "        vertical-align: middle;\n",
              "    }\n",
              "\n",
              "    .dataframe tbody tr th {\n",
              "        vertical-align: top;\n",
              "    }\n",
              "\n",
              "    .dataframe thead th {\n",
              "        text-align: right;\n",
              "    }\n",
              "</style>\n",
              "<table border=\"1\" class=\"dataframe\">\n",
              "  <thead>\n",
              "    <tr style=\"text-align: right;\">\n",
              "      <th></th>\n",
              "      <th>barely true counts</th>\n",
              "      <th>false counts</th>\n",
              "      <th>half true counts</th>\n",
              "      <th>mostly true counts</th>\n",
              "      <th>pants on fire counts</th>\n",
              "    </tr>\n",
              "  </thead>\n",
              "  <tbody>\n",
              "    <tr>\n",
              "      <th>6692</th>\n",
              "      <td>11.0</td>\n",
              "      <td>43.0</td>\n",
              "      <td>8.0</td>\n",
              "      <td>5.0</td>\n",
              "      <td>105.0</td>\n",
              "    </tr>\n",
              "    <tr>\n",
              "      <th>984</th>\n",
              "      <td>70.0</td>\n",
              "      <td>71.0</td>\n",
              "      <td>160.0</td>\n",
              "      <td>163.0</td>\n",
              "      <td>9.0</td>\n",
              "    </tr>\n",
              "    <tr>\n",
              "      <th>1111</th>\n",
              "      <td>36.0</td>\n",
              "      <td>33.0</td>\n",
              "      <td>15.0</td>\n",
              "      <td>19.0</td>\n",
              "      <td>8.0</td>\n",
              "    </tr>\n",
              "    <tr>\n",
              "      <th>1154</th>\n",
              "      <td>1.0</td>\n",
              "      <td>0.0</td>\n",
              "      <td>3.0</td>\n",
              "      <td>1.0</td>\n",
              "      <td>0.0</td>\n",
              "    </tr>\n",
              "    <tr>\n",
              "      <th>429</th>\n",
              "      <td>7.0</td>\n",
              "      <td>9.0</td>\n",
              "      <td>8.0</td>\n",
              "      <td>15.0</td>\n",
              "      <td>3.0</td>\n",
              "    </tr>\n",
              "  </tbody>\n",
              "</table>\n",
              "</div>"
            ],
            "text/plain": [
              "      barely true counts  ...  pants on fire counts\n",
              "6692                11.0  ...                 105.0\n",
              "984                 70.0  ...                   9.0\n",
              "1111                36.0  ...                   8.0\n",
              "1154                 1.0  ...                   0.0\n",
              "429                  7.0  ...                   3.0\n",
              "\n",
              "[5 rows x 5 columns]"
            ]
          },
          "metadata": {
            "tags": []
          },
          "execution_count": 526
        }
      ]
    },
    {
      "cell_type": "code",
      "metadata": {
        "id": "TWCTFPiG94Rs",
        "colab_type": "code",
        "colab": {}
      },
      "source": [
        "X_train_text = X_train.loc[:,['Statement']]\n",
        "X_test_text = X_test.loc[:,['Statement']]"
      ],
      "execution_count": 0,
      "outputs": []
    },
    {
      "cell_type": "code",
      "metadata": {
        "id": "bZq2lcJH94ec",
        "colab_type": "code",
        "colab": {
          "base_uri": "https://localhost:8080/",
          "height": 204
        },
        "outputId": "cdd93e00-dea6-43c7-e1b0-8dcd72f0eb5a"
      },
      "source": [
        "X_train_text.head()"
      ],
      "execution_count": 528,
      "outputs": [
        {
          "output_type": "execute_result",
          "data": {
            "text/html": [
              "<div>\n",
              "<style scoped>\n",
              "    .dataframe tbody tr th:only-of-type {\n",
              "        vertical-align: middle;\n",
              "    }\n",
              "\n",
              "    .dataframe tbody tr th {\n",
              "        vertical-align: top;\n",
              "    }\n",
              "\n",
              "    .dataframe thead th {\n",
              "        text-align: right;\n",
              "    }\n",
              "</style>\n",
              "<table border=\"1\" class=\"dataframe\">\n",
              "  <thead>\n",
              "    <tr style=\"text-align: right;\">\n",
              "      <th></th>\n",
              "      <th>Statement</th>\n",
              "    </tr>\n",
              "  </thead>\n",
              "  <tbody>\n",
              "    <tr>\n",
              "      <th>232</th>\n",
              "      <td>collect net worth taken trillion hit mainli du...</td>\n",
              "    </tr>\n",
              "    <tr>\n",
              "      <th>310</th>\n",
              "      <td>son target facebook outofst protest</td>\n",
              "    </tr>\n",
              "    <tr>\n",
              "      <th>946</th>\n",
              "      <td>attend islam madrassa</td>\n",
              "    </tr>\n",
              "    <tr>\n",
              "      <th>9990</th>\n",
              "      <td>bare four offic five jihadist reach target uni...</td>\n",
              "    </tr>\n",
              "    <tr>\n",
              "      <th>4277</th>\n",
              "      <td>report project approxim half public employ liv...</td>\n",
              "    </tr>\n",
              "  </tbody>\n",
              "</table>\n",
              "</div>"
            ],
            "text/plain": [
              "                                              Statement\n",
              "232   collect net worth taken trillion hit mainli du...\n",
              "310                 son target facebook outofst protest\n",
              "946                               attend islam madrassa\n",
              "9990  bare four offic five jihadist reach target uni...\n",
              "4277  report project approxim half public employ liv..."
            ]
          },
          "metadata": {
            "tags": []
          },
          "execution_count": 528
        }
      ]
    },
    {
      "cell_type": "code",
      "metadata": {
        "id": "Hrz14iz994bP",
        "colab_type": "code",
        "colab": {
          "base_uri": "https://localhost:8080/",
          "height": 204
        },
        "outputId": "bc645ef3-9607-4815-d6ce-7b58aa0f6a25"
      },
      "source": [
        "X_test_text.head()"
      ],
      "execution_count": 529,
      "outputs": [
        {
          "output_type": "execute_result",
          "data": {
            "text/html": [
              "<div>\n",
              "<style scoped>\n",
              "    .dataframe tbody tr th:only-of-type {\n",
              "        vertical-align: middle;\n",
              "    }\n",
              "\n",
              "    .dataframe tbody tr th {\n",
              "        vertical-align: top;\n",
              "    }\n",
              "\n",
              "    .dataframe thead th {\n",
              "        text-align: right;\n",
              "    }\n",
              "</style>\n",
              "<table border=\"1\" class=\"dataframe\">\n",
              "  <thead>\n",
              "    <tr style=\"text-align: right;\">\n",
              "      <th></th>\n",
              "      <th>Statement</th>\n",
              "    </tr>\n",
              "  </thead>\n",
              "  <tbody>\n",
              "    <tr>\n",
              "      <th>6692</th>\n",
              "      <td>ad trillion debt term trillion ad previou combin</td>\n",
              "    </tr>\n",
              "    <tr>\n",
              "      <th>984</th>\n",
              "      <td>flood commun mani gun easier teenag buy glock ...</td>\n",
              "    </tr>\n",
              "    <tr>\n",
              "      <th>1111</th>\n",
              "      <td>say children come us stagger number barack oba...</td>\n",
              "    </tr>\n",
              "    <tr>\n",
              "      <th>1154</th>\n",
              "      <td>director nasa main mission muslim outreach</td>\n",
              "    </tr>\n",
              "    <tr>\n",
              "      <th>429</th>\n",
              "      <td>advoc requir voter show id card poll want lite...</td>\n",
              "    </tr>\n",
              "  </tbody>\n",
              "</table>\n",
              "</div>"
            ],
            "text/plain": [
              "                                              Statement\n",
              "6692   ad trillion debt term trillion ad previou combin\n",
              "984   flood commun mani gun easier teenag buy glock ...\n",
              "1111  say children come us stagger number barack oba...\n",
              "1154         director nasa main mission muslim outreach\n",
              "429   advoc requir voter show id card poll want lite..."
            ]
          },
          "metadata": {
            "tags": []
          },
          "execution_count": 529
        }
      ]
    },
    {
      "cell_type": "code",
      "metadata": {
        "id": "GcSViQQy-_o-",
        "colab_type": "code",
        "colab": {
          "base_uri": "https://localhost:8080/",
          "height": 119
        },
        "outputId": "b234765d-abb5-4fb0-866a-93a98b5ba92a"
      },
      "source": [
        "y_train.head()"
      ],
      "execution_count": 530,
      "outputs": [
        {
          "output_type": "execute_result",
          "data": {
            "text/plain": [
              "232     5\n",
              "310     2\n",
              "946     0\n",
              "9990    0\n",
              "4277    0\n",
              "Name: Label, dtype: int64"
            ]
          },
          "metadata": {
            "tags": []
          },
          "execution_count": 530
        }
      ]
    },
    {
      "cell_type": "code",
      "metadata": {
        "id": "70e3EqojoN0v",
        "colab_type": "code",
        "outputId": "7e16f156-8f81-484d-90b0-238022fc6f0f",
        "colab": {
          "base_uri": "https://localhost:8080/",
          "height": 119
        }
      },
      "source": [
        "y_test.head()"
      ],
      "execution_count": 531,
      "outputs": [
        {
          "output_type": "execute_result",
          "data": {
            "text/plain": [
              "6692    0\n",
              "984     0\n",
              "1111    1\n",
              "1154    2\n",
              "429     1\n",
              "Name: Label, dtype: int64"
            ]
          },
          "metadata": {
            "tags": []
          },
          "execution_count": 531
        }
      ]
    },
    {
      "cell_type": "code",
      "metadata": {
        "id": "rfZc3BfpoR25",
        "colab_type": "code",
        "colab": {}
      },
      "source": [
        "#pd.DataFrame(y_data).nunique()"
      ],
      "execution_count": 0,
      "outputs": []
    },
    {
      "cell_type": "code",
      "metadata": {
        "id": "kgxvggtCsLm4",
        "colab_type": "code",
        "colab": {}
      },
      "source": [
        "# Converting the Text into list\n",
        "stat_data_train = X_train_text['Statement'].tolist()\n",
        "stat_data_test = X_test_text['Statement'].tolist()\n",
        "#stat_test = test['Statement'].tolist()\n",
        "\n",
        "# Adding data and test data\n",
        "lis_stat = stat_data_train + stat_data_test"
      ],
      "execution_count": 0,
      "outputs": []
    },
    {
      "cell_type": "code",
      "metadata": {
        "id": "z2__ULMPsLkd",
        "colab_type": "code",
        "outputId": "1d887c16-41c2-4ec4-9492-53ffef72576d",
        "colab": {
          "base_uri": "https://localhost:8080/",
          "height": 88
        }
      },
      "source": [
        "#Fitting TFIDF on summary\n",
        "tfv_sum = TfidfVectorizer(max_features=5000, lowercase=True, analyzer='word',\n",
        " stop_words= 'english',ngram_range=(1,1))\n",
        "# Fitting TF-IDF to both dataing and data sets (semi-supervised learning)\n",
        "tfv_sum.fit(lis_stat)\n",
        "print(tfv_sum.vocabulary_)\n",
        "print(tfv_sum.idf_)\n",
        "xtrain_tfv_sum =  tfv_sum.transform(stat_data_train).toarray()\n",
        "xtest_tfv_sum = tfv_sum.transform(stat_data_test).toarray()\n",
        "type(xtrain_tfv_sum)"
      ],
      "execution_count": 561,
      "outputs": [
        {
          "output_type": "stream",
          "text": [
            "{'collect': 836, 'net': 2988, 'worth': 4966, 'taken': 4410, 'trillion': 4626, 'hit': 2089, 'mainli': 2665, 'plummet': 3397, 'home': 2108, 'valu': 4777, 'son': 4158, 'target': 4422, 'facebook': 1572, 'outofst': 3178, 'protest': 3556, 'attend': 288, 'islam': 2312, 'madrassa': 2657, 'bare': 356, 'offic': 3104, 'jihadist': 2358, 'reach': 3639, 'unit': 4724, 'compar': 869, 'zero': 4996, 'seven': 4022, 'georg': 1835, 'bush': 589, 'report': 3742, 'project': 3532, 'approxim': 226, 'half': 1971, 'public': 3570, 'employ': 1436, 'live': 2598, 'outsid': 3184, 'municip': 2939, 'decad': 1112, 'ban': 344, 'local': 2607, 'resid': 3761, 'requir': 3756, 'senat': 3997, 'oppon': 3143, 'tommi': 4551, 'thompson': 4511, 'favor': 1609, 'rai': 3611, 'small': 4123, 'busi': 592, 'dwight': 1367, 'eisenhow': 1405, 'million': 2842, 'illeg': 2175, 'immigr': 2180, 'countri': 993, 'american': 159, 'want': 4853, 'care': 642, 'option': 3149, 'virginia': 4821, 'invest': 2288, 'educ': 1394, 'highest': 2068, 'level': 2558, 'commonwealth': 862, 'histori': 2088, 'sewer': 4026, 'backup': 328, 'basement': 367, 'caus': 679, 'vast': 4784, 'major': 2668, 'damag': 1077, 'build': 567, 'milwauke': 2845, 'juli': 2392, 'flood': 1686, 'feder': 1616, 'insur': 2269, 'doesnt': 1302, 'cover': 1000, 'finish': 1657, 'speech': 4193, 'slain': 4110, 'women': 4948, 'rape': 3628, 'rob': 3832, 'beaten': 380, 'fcc': 1612, 'neutral': 2992, 'polici': 3406, 'includ': 2205, 'essenti': 1489, 'massiv': 2730, 'believ': 399, 'incom': 2206, 'think': 4501, 'got': 1885, 'revenu': 3787, 'implement': 2186, 'sale': 3899, 'abort': 14, 'risk': 3823, 'breast': 532, 'cancer': 621, 'immedi': 2179, 'legal': 2542, 'border': 498, 'secur': 3983, 'sometim': 4156, 'futur': 1794, 'like': 2581, 'design': 1200, 'come': 850, 'rep': 3733, 'charli': 722, 'bass': 371, 'gender': 1823, 'gap': 1807, 'uniqu': 4723, 'huge': 2144, 'presidenti': 3483, 'gubernatori': 1946, 'elect': 1408, 'recent': 3655, 'deci': 1117, 'remov': 3726, 'emori': 1435, 'univ': 4725, 'base': 365, 'sole': 4146, 'student': 4304, 'parti': 3250, 'creat': 1017, 'parenthood': 3242, 'nineti': 3013, 'topsoil': 4560, 'inadequ': 2197, 'moistur': 2884, 'grow': 1937, 'crop': 1040, 'leticia': 2556, 'van': 4779, 'putt': 3587, 'oppo': 3142, 'nation': 2961, 'guard': 1945, 'troop': 4633, 'send': 3999, 'central': 691, 'instead': 2264, 'wrote': 4975, 'instat': 2263, 'tuition': 4650, 'talk': 4414, 'right': 3816, 'billion': 445, 'hole': 2101, 'current': 1060, 'socal': 4134, 'balanc': 337, 'state': 4238, 'budget': 562, 'ceo': 693, 'earn': 1375, 'worker': 4955, 'lose': 2627, 'job': 2364, 'month': 2896, 'administr': 62, 'economi': 1389, 'straight': 4277, 'growth': 1939, 'ad': 51, 'privat': 3508, 'sector': 3982, 'manufactur': 2695, 'big': 440, 'wall': 4849, 'street': 4283, 'bank': 346, 'corpor': 971, 'mani': 2689, 'time': 4532, 'polit': 3409, 'donat': 1314, 'democrat': 1164, 'republican': 3748, 'stock': 4268, 'market': 2713, 'tripl': 4631, 'april': 227, 'florida': 1689, 'sanctuari': 3909, 'citi': 773, 'jeb': 2342, 'governor': 1892, 'mark': 2712, 'allow': 140, 'sex': 4027, 'offend': 3100, 'rapist': 3629, 'serv': 4012, 'shorter': 4060, 'sentenc': 4003, 'say': 3927, 'ted': 4447, 'strickland': 4286, 'campaign': 615, 'brag': 518, 'aplu': 205, 'rate': 3631, 'nra': 3062, 'said': 3896, 'mix': 2872, 'spotti': 4213, 'record': 3665, 'issu': 2319, 'critic': 1038, 'word': 4953, 'dont': 1317, 'know': 2458, 'welfar': 4898, 'consum': 934, 'percent': 3314, 'john': 2371, 'mccain': 2748, 'chief': 738, 'econom': 1388, 'advis': 73, 'race': 3601, 'estim': 1493, 'trump': 4642, 'promis': 3535, 'america': 158, 'main': 2664, 'function': 1785, 'depart': 1182, 'homeland': 2110, 'save': 3925, 'databa': 1087, 'check': 730, 'voter': 4834, 'registr': 3698, 'citizenship': 775, 'statu': 4249, 'obamacar': 3079, 'parttim': 3258, 'cruz': 1047, 'washington': 4865, 'stroke': 4293, 'pen': 3298, 'suprem': 4363, 'court': 998, 'decid': 1118, 'overrul': 3196, 'yearold': 4984, 'expenditur': 1541, 'spent': 4197, 'took': 4556, 'run': 3874, 'prosecutor': 3549, 'subhuman': 4313, 'mongrel': 2891, 'nugent': 3066, 'barack': 352, 'use': 4763, 'nazi': 2968, 'justifi': 2403, 'genocid': 1830, 'jewish': 2357, 'commun': 863, 'extend': 1558, 'wealthi': 4881, 'add': 54, 'deficit': 1142, 'stimulu': 4266, 'repeal': 3738, 'th': 4480, 'amend': 155, 'lowest': 2640, 'crime': 1028, 'chang': 714, 'regard': 3693, 'nonviol': 3043, 'drug': 1353, 'healthcar': 2031, 'conform': 907, 'rule': 3873, 'particip': 3252, 'exchang': 1524, 'rush': 3878, 'frank': 1755, 'pallon': 3229, 'pascrel': 3261, 'jeopard': 2348, 'senior': 4000, 'access': 28, 'coverag': 1001, 'gut': 1959, 'medicar': 2774, 'takeov': 4411, 'tom': 4550, 'leppert': 2553, 'pledg': 3393, 'make': 2669, 'dalla': 1075, 'illinoi': 2176, 'legislatur': 2544, 'vote': 4833, 'present': 3479, 'ye': 4980, 'involv': 2294, 'great': 1915, 'recess': 3656, 'hung': 2147, 'donald': 1312, 'rescu': 3757, 'auto': 306, 'industri': 2225, 'didnt': 1225, 'realli': 3645, 'matter': 2741, 'quot': 3600, 'let': 2555, 'entir': 1466, 'fiscal': 1665, 'congress': 911, 'legisl': 2543, 'earli': 1371, 'inperson': 2249, 'newspap': 3003, 'david': 1094, 'dewhurst': 1218, 'moder': 2879, 'hillari': 2083, 'clinton': 805, 'doubl': 1321, 'nearli': 2974, 'popul': 3421, 'larger': 2500, 'earlier': 1372, 'primari': 3495, 'caucu': 677, 'combin': 849, 'propo': 3543, 'reduc': 3677, 'auster': 300, 'marco': 2703, 'rubio': 3868, 'social': 4136, 'haveweaken': 2022, 'peopl': 3307, 'came': 612, 'iraq': 2300, 'afghanistan': 82, 'ptsd': 3569, 'traumat': 4607, 'brain': 519, 'injuri': 2244, 'plan': 3383, 'choos': 753, 'basic': 369, 'away': 317, 'gov': 1887, 'scott': 3958, 'walker': 4848, 'lt': 2642, 'rebecca': 3649, 'kleefisch': 2453, 'syrian': 4404, 'refug': 3689, 'vet': 4798, 'fbi': 1611, 'told': 4546, 'prohibit': 3531, 'read': 3640, 'wholli': 4915, 'surveil': 4376, 'domest': 1310, 'email': 1424, 'traffic': 4586, 'foreman': 1717, 'juri': 2399, 'convict': 954, 'greenpeac': 1924, 'activist': 49, 'restrict': 3776, 'free': 1763, 'nearbi': 2973, 'sign': 4075, 'secret': 3978, 'cite': 772, 'effort': 1398, 'number': 3069, 'tri': 4620, 'cross': 1041, 'contain': 937, 'limit': 2585, 'medic': 2771, 'malpract': 2678, 'lawsuit': 2520, 'militari': 2836, 'strategi': 4280, 'pretti': 3488, 'adamantli': 53, 'practic': 3450, 'predecessor': 3463, 'thing': 4500, 'singl': 4088, 'block': 465, 'minimum': 2849, 'wage': 4840, 'receiv': 3654, 'costofliv': 982, 'adjust': 59, 'januari': 2336, 'robert': 3835, 'hurt': 2153, 'help': 2052, 'uranium': 4754, 'contribut': 945, 'father': 1608, 'stake': 4228, 'note': 3053, 'reagan': 3642, 'reason': 3646, 'today': 4542, 'gop': 1881, 'massachusett': 2728, 'wildli': 4923, 'unpopular': 4735, 'medicin': 2775, 'studi': 4306, 'higher': 2067, 'user': 4764, 'ken': 2420, 'buck': 560, 'district': 1286, 'attorney': 291, 'skyrocket': 4109, 'noth': 3054, 'transpacif': 4601, 'partnership': 3257, 'tax': 4428, 'fee': 1617, 'typic': 4675, 'roundtrip': 3862, 'ticket': 4524, 'product': 3523, 'alcohol': 124, 'tobacco': 4541, 'firearm': 1660, 'ran': 3621, 'late': 2504, 'folk': 1699, 'phone': 3356, 'servic': 4014, 'soon': 4162, 'id': 2164, 'ensur': 1460, 'everyon': 1510, 'north': 3048, 'fought': 1738, 'rein': 3707, 'fanni': 1597, 'freddiebut': 1762, 'reform': 3687, 'photograph': 3359, 'identif': 2167, 'sherrod': 4050, 'brown': 554, 'gave': 1818, 'bonus': 491, 'execut': 1528, 'mexico': 2810, 'automat': 308, 'jail': 2330, 'oregon': 3157, 'second': 3971, 'fastest': 1604, 'start': 4236, 'faster': 1603, 'success': 4331, 'actual': 50, 'closest': 812, 'defeat': 1135, 'transport': 4603, 'lifetim': 2576, 'bruce': 555, 'starr': 4235, 'broke': 546, 'lobbyist': 2605, 'wine': 4931, 'dine': 1236, 'maui': 2742, 'presid': 3481, 'worst': 4965, 'femal': 1627, 'labor': 2478, 'forc': 1708, 'obama': 3078, 'joann': 2363, 'kloppenburg': 2454, 'promot': 3537, 'equal': 1475, 'societi': 4138, 'bit': 458, 'plastic': 3387, 'exist': 1532, 'work': 4954, 'att': 284, 'respons': 3772, 'larg': 2499, 'organ': 3160, 'past': 3265, 'enact': 1441, 'previou': 3491, 'sixteen': 4100, 'program': 3529, 'fight': 1642, 'homeless': 2111, 'duplic': 1363, 'isi': 2311, 'roughli': 3859, 'posit': 3433, 'vice': 4803, 'gore': 1884, 'week': 4892, 'spend': 4196, 'goe': 1869, 'medicaid': 2772, 'fund': 1786, 'borrow': 500, 'foreign': 1716, 'land': 2488, 'ninetysix': 3016, 'fail': 1582, 'averag': 311, 'annual': 182, 'consid': 925, 'food': 1702, 'stamp': 4230, 'benefit': 413, 'paid': 3222, 'proper': 3540, 'elig': 1417, 'carter': 659, 'repeatedli': 3740, 'contributor': 946, 'rent': 3732, 'machin': 2651, 'hou': 2134, 'raini': 3616, 'day': 1096, 'natur': 2966, 'disast': 1252, 'white': 4911, 'swing': 4396, 'win': 4927, 'unemploy': 4711, 'drop': 1350, 'develop': 1214, 'corp': 970, 'account': 33, 'decrea': 1123, 'cau': 675, 'premium': 3472, 'hundr': 2146, 'mitt': 2870, 'romney': 3845, 'support': 4359, 'cap': 628, 'trade': 4583, 'look': 2620, 'men': 2787, 'prior': 3502, 'judici': 2389, 'experi': 1543, 'offici': 3106, 'accept': 27, 'mickey': 2820, 'mou': 2922, 'hitler': 2090, 'signatur': 4076, 'recal': 3653, 'petit': 3345, 'miami': 2812, 'congressman': 913, 'carlo': 647, 'curbelo': 1056, 'drill': 1343, 'offshor': 3108, 'abil': 9, 'pollut': 3415, 'combat': 847, 'climat': 801, 'debt': 1108, 'gdp': 1821, 'osama': 3167, 'bin': 448, 'laden': 2480, 'weve': 4907, 'introduc': 2282, 'constitut': 930, 'protect': 3555, 'nomin': 3026, 'profess': 3524, 'someon': 4154, 'antigun': 192, 'surgeon': 4368, 'gener': 1825, 'session': 4019, 'henri': 2055, 'nanci': 2951, 'pelosi': 3297, 'oversea': 3199, 'carolina': 649, 'coast': 822, 'possibl': 3435, 'best': 425, 'place': 3381, 'neumann': 2991, 'lorann': 2624, 'ausley': 299, 'financ': 1650, 'train': 4591, 'taxpay': 4432, 'push': 3585, 'ga': 1795, 'properti': 3542, 'financi': 1651, 'end': 1444, 'toobigtofail': 4555, 'tsa': 4647, 'driver': 1347, 'priv': 3506, 'card': 641, 'airport': 112, 'boast': 475, 'proud': 3559, 'candid': 622, 'becom': 385, 'citizen': 774, 'dream': 1340, 'act': 45, 'turn': 4655, 'sponsor': 4210, 'parent': 3241, 'meg': 2779, 'windmil': 4929, 'electrifi': 1411, 'death': 1104, 'foodborn': 1703, 'ill': 2174, 'jim': 2360, 'doyl': 1328, 'repair': 3735, 'held': 2048, 'hear': 2037, 'approv': 225, 'credit': 1022, 'poor': 3418, 'elderli': 1407, 'conni': 918, 'mack': 2652, 'miss': 2861, 'vehicl': 4787, 'road': 3830, 'morn': 2904, 'afternoon': 89, 'commut': 865, 'feingold': 1620, 'garag': 1808, 'fake': 1587, 'stand': 4231, 'gambl': 1803, 'compact': 866, 'offer': 3103, 'guarant': 1943, 'largest': 2501, 'share': 4036, 'select': 3990, 'edit': 1393, 'joe': 2370, 'biden': 436, 'theyr': 4498, 'gonna': 1877, 'guy': 1960, 'steel': 4254, 'elimin': 1418, 'fed': 1615, 'stabil': 4221, 'oper': 3138, 'rick': 3807, 'fifth': 1637, 'avoid': 313, 'fraud': 1759, 'window': 4930, 'insid': 2256, 'capitol': 636, 'shut': 4070, 'break': 530, 'compani': 867, 'china': 747, 'deepwat': 1131, 'theyll': 4497, 'justic': 2401, 'prosser': 3552, 'sen': 3996, 'nelson': 2986, 'chose': 754, 'keyston': 2429, 'pipelin': 3377, 'georgia': 1836, 'hope': 2125, 'michel': 2818, 'nunn': 3071, 'dead': 1098, 'caught': 678, 'eclip': 1387, 'size': 4105, 'control': 947, 'havent': 2021, 'pass': 3263, 'waterboard': 4872, 'gone': 1876, 'pension': 3305, 'goldplat': 1874, 'rich': 3801, 'arrest': 246, 'deadli': 1099, 'polic': 3404, 'matt': 2740, 'wand': 4852, 'troutdal': 4637, 'slush': 4122, 'publicli': 3571, 'invit': 2292, 'putin': 3586, 'hack': 1965, 'surrog': 4374, 'maryland': 2725, 'martin': 2722, 'acknowledg': 40, 'better': 428, 'ago': 96, 'romneyryan': 3848, 'opportun': 3144, 'colleg': 838, 'thousand': 4513, 'atlanta': 280, 'household': 2138, 'debat': 1106, 'low': 2637, 'murder': 2940, 'listen': 2593, 'background': 326, 'gun': 1955, 'violenc': 4819, 'jolli': 2377, 'firm': 1663, 'lobbi': 2604, 'dollar': 1307, 'dictat': 1224, 'pakistan': 3225, 'impo': 2188, 'tougher': 4568, 'commerc': 853, 'secretari': 3979, 'mari': 2707, 'burk': 585, 'draft': 1333, 'high': 2066, 'structur': 4301, 'raid': 3612, 'hike': 2082, 'lea': 2525, 'cow': 1003, 'advantag': 69, 'agricultur': 101, 'loophol': 2621, 'dodg': 1300, 'hate': 2020, 'disrespect': 1282, 'throw': 4518, 'gay': 1819, 'delawar': 1152, 'chri': 756, 'coon': 957, 'thought': 4512, 'children': 743, 'sent': 4002, 'despit': 1203, 'opposit': 3147, 'club': 815, 'endor': 1446, 'school': 3949, 'graduat': 1900, 'leav': 2536, 'return': 3784, 'furnitur': 1793, 'artwork': 253, 'stolen': 4270, 'handel': 1987, 'felt': 1625, 'ok': 3114, 'sarah': 3915, 'palin': 3228, 'syndrom': 4402, 'rebat': 3648, 'went': 4902, 'anoth': 183, 'summer': 4342, 'arc': 231, 'tunnel': 4652, 'origin': 3162, 'jersey': 2352, 'alon': 142, 'hook': 2121, 'overrun': 3197, 'die': 1226, 'rehear': 3704, 'question': 3597, 'press': 3484, 'paul': 3277, 'ryan': 3886, 'poorest': 3419, 'counti': 991, 'appalachia': 207, 'happen': 1993, 'camera': 613, 'captur': 637, 'crimin': 1032, 'face': 1571, 'identifi': 2168, 'trait': 4592, 'certainli': 696, 'discourag': 1259, 'robberi': 3834, 'attempt': 287, 'deterr': 1211, 'robber': 3833, 'corzin': 977, 'steal': 4253, 'trust': 4644, 'simpli': 4084, 'wont': 4950, 'permit': 3327, 'youv': 4995, 'meet': 2778, 'standard': 4232, 'christi': 758, 'tell': 4455, 'everyth': 1511, 'new': 2996, 'fine': 1654, 'jobless': 2366, 'middl': 2822, 'class': 786, 'famili': 1594, 'seen': 3986, 'soar': 4133, 'need': 2977, 'life': 2574, 'workforc': 4956, 'suozzi': 4348, 'rais': 3617, 'nassau': 2959, 'stood': 4272, 'haiti': 1970, 'relief': 3718, 'web': 4887, 'site': 4096, 'vinc': 4815, 'polistina': 3408, 'taxpayerfund': 4433, 'salari': 3898, 'plu': 3396, 'astroturf': 275, 'field': 1636, 'play': 3390, 'flag': 1673, 'footbal': 1706, 'rank': 3626, 'expect': 1538, 'rd': 3638, 'child': 739, 'mortal': 2907, 'caution': 680, 'kiss': 2448, 'cuddl': 1052, 'chicken': 737, 'hazard': 2025, 'sonia': 4161, 'sotomayor': 4168, 'area': 234, 'water': 4871, 'leader': 2527, 'conserv': 924, 'profit': 3528, 'quadrupl': 3589, 'kelli': 2419, 'ayott': 322, 'pell': 3296, 'grant': 1908, 'andrew': 170, 'jackson': 2327, 'respond': 3771, 'chemic': 733, 'weapon': 4884, 'syria': 4403, 'submit': 4316, 'rhode': 3797, 'island': 2314, 'beach': 377, 'town': 4576, 'trip': 4630, 'east': 1381, 'veteran': 4799, 'age': 91, 'ea': 1368, 'transit': 4598, 'civilian': 778, 'doctor': 1296, 'claim': 781, 'oppos': 3145, 'usa': 4758, 'ive': 2324, 'cop': 959, 'lake': 2484, 'michigan': 2819, 'conduct': 899, 'atf': 276, 'marshal': 2719, 'page': 3221, 'specif': 4190, 'purcha': 3579, 'date': 1089, 'certain': 695, 'hastert': 2017, 'sayshillari': 3931, 'surplu': 4371, 'common': 860, 'core': 964, 'minut': 2856, 'teach': 4437, 'exten': 1557, 'interv': 2279, 'libya': 2567, 'milwauk': 2844, 'seiz': 3988, 'york': 4987, 'author': 304, 'complet': 875, 'im': 2177, 'renov': 3731, 'replac': 3741, 'boiler': 483, 'roof': 3851, 'global': 1862, 'warm': 4856, 'manmad': 2691, 'bob': 477, 'menendez': 2789, 'confid': 902, 'doylemari': 1329, 'fuel': 1776, 'effici': 1397, 'safest': 3894, 'expen': 1540, 'mean': 2758, 'tim': 4531, 'kain': 2409, 'expand': 1536, 'singlepay': 4090, 'twentyf': 4663, 'lower': 2638, 'tie': 4526, 'mississippi': 2864, 'minimumwag': 2850, 'anywh': 202, 'member': 2782, 'deleg': 1154, 'nasa': 2956, 'provid': 3563, 'cent': 689, 'everi': 1507, 'visit': 4826, 'met': 2801, 'world': 4960, 'plane': 3384, 'jason': 2338, 'isaac': 2308, 'peddl': 3291, 'texan': 4477, 'heroin': 2060, 'pour': 3446, 'southern': 4176, 'patient': 3271, 'reimbur': 3706, 'commit': 857, 'explan': 1548, 'equiv': 1477, 'result': 3778, 'price': 3493, 'ohio': 3110, 'lost': 2629, 'watch': 4870, 'birth': 455, 'marriag': 2718, 'africanamerican': 87, 'abject': 10, 'poverti': 3447, 'govern': 1888, 'hawaii': 2023, 'menu': 2792, 'colon': 839, 'mar': 2699, 'walk': 4847, 'littl': 2597, 'section': 3981, 'liberti': 2565, 'pursuit': 3584, 'happi': 1994, 'armi': 243, 'evangel': 1501, 'christian': 759, 'cathol': 674, 'mormon': 2903, 'categori': 672, 'religi': 3719, 'extrem': 1564, 'alqaida': 143, 'respon': 3770, 'randi': 3624, 'alreadi': 144, 'poll': 3413, 'egypt': 1399, 'reveal': 3786, 'aid': 104, 'houston': 2141, 'mayor': 2745, 'lead': 2526, 'daraprim': 1083, 'underpr': 4706, 'rel': 3711, 'peer': 3295, 'chanc': 713, 'hondura': 2117, 'qualif': 3590, 'began': 390, 'hold': 2098, 'park': 3244, 'fact': 1574, 'produc': 3522, 'kasich': 2413, 'deliv': 1158, 'staffer': 4224, 'lot': 2630, 'latest': 2507, 'evid': 1514, 'begin': 392, 'term': 4465, 'saw': 3926, 'upgrad': 4748, 'drastic': 1337, 'point': 3401, 'amendmentban': 156, 'defen': 1137, 'neg': 2980, 'effect': 1396, 'crist': 1036, 'ed': 1391, 'gillespi': 1848, 'await': 314, 'trial': 4621, 'war': 4855, 'suggest': 4338, 'negoti': 2982, 'film': 1648, 'tv': 4660, 'direct': 1243, 'earmark': 1374, 'proven': 3561, 'madison': 2655, 'board': 474, 'cuba': 1048, 'embargo': 1426, 'establish': 1491, 'clinic': 804, 'indoctrin': 2224, 'grandchildren': 1904, 'endang': 1445, 'speci': 4187, 'list': 2592, 'delist': 1157, 'cotton': 983, 'prepar': 3473, 'ebola': 1386, 'mission': 2863, 'commiss': 855, 'environ': 1470, 'qualiti': 3593, 'lie': 2570, 'air': 107, 'barnett': 360, 'shale': 4033, 'cnn': 817, 'pornographi': 3426, 'boston': 503, 'thanksgiv': 4483, 'night': 3010, 'internet': 2276, 'increa': 2211, 'led': 2538, 'incarc': 2199, 'disproport': 1277, 'affect': 78, 'minor': 2854, 'unlik': 4730, 'virtual': 4823, 'super': 4349, 'pac': 3216, 'opt': 3148, 'sexual': 4029, 'slaveri': 4115, 'girl': 1854, 'sold': 4144, 'loan': 2603, 'saturday': 3921, 'lorn': 2626, 'michael': 2817, 'fun': 1784, 'politician': 3410, 'attent': 289, 'fewer': 1633, 'carpool': 651, 'suv': 4385, 'proport': 3544, 'empow': 1439, 'commission': 856, 'review': 3789, 'roll': 3842, 'increas': 2212, 'mechan': 2766, 'shrink': 4069, 'champion': 711, 'agreement': 100, 'disastr': 1253, 'perri': 3330, 'leadership': 2528, 'rest': 3773, 'oil': 3112, 'northern': 3050, 'forward': 1735, 'good': 1878, 'affili': 79, 'republicancontrol': 3750, 'deni': 1172, 'recov': 3668, 'tragic': 4589, 'santorum': 3914, 'righttowork': 3817, 'wife': 4920, 'london': 2612, 'nsa': 3063, 'human': 2145, 'compil': 872, 'individu': 2223, 'bodi': 479, 'mass': 2727, 'index': 2217, 'voucher': 4836, 'missouri': 2865, 'todd': 4543, 'akin': 116, 'view': 4809, 'mother': 2914, 'ice': 2161, 'fishermen': 1668, 'notic': 3055, 'pregnant': 3468, 'incest': 2201, 'drink': 1344, 'champagn': 710, 'prevent': 3490, 'alzheim': 149, 'form': 1723, 'dementia': 1162, 'hemorrhag': 2053, 'appar': 209, 'sight': 4074, 'overhead': 3195, 'instal': 2261, 'emerg': 1431, 'power': 3449, 'nur': 3072, 'line': 2587, 'pursu': 3583, 'union': 4722, 'outlaw': 3173, 'usual': 4766, 'appli': 216, 'artist': 252, 'musician': 2945, 'music': 2944, 'radio': 3607, 'besid': 424, 'radioperform': 3608, 'iran': 2298, 'korea': 2463, 'highway': 2080, 'close': 809, 'el': 1406, 'paso': 3262, 'bullet': 575, 'fli': 1681, 'action': 46, 'brought': 551, 'relea': 3714, 'variou': 4783, 'way': 4877, 'governorship': 1893, 'benghazi': 414, 'investig': 2290, 'bomb': 485, 'key': 2428, 'aspect': 258, 'attack': 285, 'embassi': 1427, 'toledo': 4547, 'mike': 2831, 'bell': 401, 'firefight': 1661, 'kill': 2436, 'owe': 3209, 'notion': 3057, 'democraci': 1163, 'iroquoi': 2305, 'tribe': 4622, 'crap': 1013, 'bad': 330, 'opinion': 3139, 'nonpartisan': 3037, 'confirm': 904, 'saysmaggi': 3932, 'hassan': 2016, 'older': 3118, 'thank': 4482, 'struggl': 4302, 'principl': 3500, 'fellow': 1622, 'truck': 4638, 'wound': 4969, 'ahead': 102, 'bu': 558, 'ride': 3811, 'england': 1455, 'thwart': 4522, 'measur': 2763, 'midwest': 2827, 'accel': 26, 'bankruptci': 349, 'nuclear': 3064, 'equip': 1476, 'old': 3117, 'year': 4981, 'protract': 3558, 'malai': 2672, 'beyonc': 430, 'jay': 2339, 'bigger': 441, 'crowd': 1043, 'true': 4639, 'far': 1598, 'bargain': 358, 'ask': 257, 'twenti': 4662, 'hampshir': 1985, 'beer': 388, 'exci': 1525, 'saudi': 3922, 'arabia': 230, 'pine': 3372, 'tree': 4616, 'perdu': 3319, 'ship': 4053, 'adopt': 66, 'provi': 3562, 'mandat': 2684, 'enrol': 1459, 'fullserv': 1780, 'hospit': 2128, 'career': 643, 'reid': 3705, 'ribbl': 3799, 'jumpstart': 2394, 'secondlargest': 3976, 'oilfield': 3113, 'storm': 4276, 'fall': 1590, 'mosqu': 2909, 'babi': 323, 'bond': 488, 'born': 499, 'total': 4564, 'multipli': 2937, 'gain': 1797, 'coupl': 994, 'mccollum': 2750, 'chair': 703, 'europ': 1498, 'substant': 4324, 'oversight': 3200, 'mend': 2788, 'shape': 4035, 'group': 1936, 'rang': 3625, 'spectrum': 4191, 'file': 1645, 'regist': 3697, 'cycl': 1068, 'period': 3324, 'activ': 47, 'duti': 1365, 'male': 2675, 'twice': 4664, 'prostat': 3553, 'counterpart': 989, 'strongest': 4298, 'durabl': 1364, 'antacid': 186, 'rand': 3623, 'faithba': 1586, 'initi': 2240, 'deduct': 1127, 'chariti': 720, 'terrorist': 4471, 'soil': 4141, 'muslim': 2946, 'invad': 2284, 'barackobama': 353, 'upward': 4753, 'order': 3152, 'modern': 2880, 'minnesota': 2852, 'kick': 2432, 'butt': 595, 'creation': 1018, 'test': 4473, 'score': 3957, 'host': 2129, 'factor': 1577, 'person': 3335, 'obtain': 3090, 'mortgag': 2908, 'video': 4807, 'broader': 544, 'pictur': 3365, 'document': 1297, 'case': 662, 'abus': 23, 'bulk': 571, 'metadata': 2802, 'collectionprogram': 837, 'concealedweapon': 887, 'valid': 4775, 'isnt': 2315, 'referendum': 3684, 'twothird': 4671, 'latina': 2509, 'enthusiast': 1464, 'stage': 4225, 'la': 2475, 'vega': 4785, 'octob': 3096, 'deport': 1187, 'faculti': 1579, 'institut': 2265, 'fallen': 1591, 'speaker': 4186, 'afford': 81, 'biggest': 442, 'alway': 148, 'agr': 98, 'deadlin': 1100, 'warren': 4861, 'buffett': 566, 'stop': 4273, 'propos': 3545, 'hollowpoint': 2105, 'impact': 2183, 'deer': 1132, 'hunt': 2148, 'refu': 3688, 'properli': 3541, 'inform': 2235, 'ii': 2172, 'black': 459, 'singlepar': 4089, 'brendan': 535, 'doherti': 1306, 'onethird': 3130, 'wast': 4869, 'bureaucraci': 581, 'edward': 1395, 'wasnt': 4867, 'glad': 1859, 'director': 1245, 'anita': 177, 'dunn': 1362, 'mao': 2696, 'tsetung': 4649, 'favorit': 1610, 'philosoph': 3354, 'fox': 1746, 'news': 3002, 'pick': 3363, 'battlefield': 374, 'catherin': 673, 'cortez': 976, 'masto': 2732, 'pocket': 3399, 'slam': 4111, 'frozen': 1773, 'entitl': 1468, 'twotoon': 4672, 'moneywi': 2890, 'floridian': 1691, 'abl': 11, 'josh': 2383, 'mandel': 2686, 'improv': 2195, 'charg': 718, 'associ': 270, 'preexist': 3465, 'condit': 896, 'iowa': 2295, 'joni': 2381, 'ernst': 1483, 'promi': 3534, 'abolish': 13, 'epa': 1472, 'occa': 3091, 'judg': 2387, 'kander': 2410, 'manipul': 2690, 'fast': 1602, 'furiou': 1791, 'wrong': 4973, 'austin': 301, 'neighborhood': 2984, 'pace': 3217, 'histor': 2087, 'median': 2770, 'billiondollar': 447, 'recruit': 3670, 'harvard': 2012, 'elena': 1416, 'kagan': 2407, 'hurrican': 2152, 'iren': 2303, 'outag': 3171, 'landfal': 2489, 'agenc': 92, 'stem': 4257, 'harri': 2009, 'somewh': 4157, 'volunt': 4832, 'book': 492, 'ladi': 2481, 'godknowswhoel': 1868, 'kay': 2418, 'bailey': 334, 'hutchison': 2156, 'waiver': 4845, 'languish': 2498, 'cabinet': 600, 'center': 690, 'st': 4220, 'pete': 3342, 'fair': 1584, 'exampl': 1519, 'gari': 1813, 'peter': 3343, 'becam': 382, 'seat': 3969, 'remain': 3722, 'chosen': 755, 'kennedi': 2422, 'star': 4233, 'green': 1921, 'bay': 376, 'packer': 3220, 'reserv': 3760, 'nfl': 3005, 'championship': 712, 'game': 1804, 'bid': 434, 'electr': 1410, 'automobil': 309, 'plant': 3386, 'discretionari': 1262, 'accomplish': 31, 'privatesector': 3509, 'smaller': 4126, 'repr': 3743, 'chine': 748, 'guilti': 1952, 'blueprint': 470, 'superior': 4351, 'navi': 2967, 'agovern': 97, 'letter': 2557, 'bp': 514, 'manag': 2682, 'recommend': 3661, 'safeti': 3895, 'regul': 3701, 'choo': 752, 'scienc': 3954, 'technolog': 4446, 'engin': 1454, 'mathemat': 2739, 'advanc': 68, 'degr': 1146, 'fare': 1599, 'rise': 3821, 'staff': 4223, 'exempt': 1529, 'repay': 3737, 'complain': 873, 'paper': 3238, 'postag': 3437, 'manpow': 2693, 'copi': 961, 'watersh': 4875, 'decis': 1119, 'assert': 264, 'sheriff': 4049, 'role': 3841, 'tradit': 4585, 'enforc': 1452, 'wisconsinmilwauk': 4938, 'hire': 2085, 'coal': 819, 'san': 3906, 'francisco': 1754, 'groceri': 1931, 'bag': 331, 'instanc': 2262, 'er': 1478, 'salmonella': 3902, 'relat': 3712, 'spike': 4199, 'calendar': 607, 'biennial': 438, 'perman': 3325, 'construct': 931, 'accord': 32, 'admit': 64, 'alabama': 118, 'crimson': 1033, 'tide': 4525, 'underdog': 4700, 'bulldog': 573, 'consecut': 921, 'oddsmak': 3098, 'mayb': 2744, 'midnight': 2825, 'georgian': 1837, 'red': 3673, 'tape': 4421, 'dean': 1103, 'cannon': 626, 'rig': 3815, 'outbreak': 3172, 'globe': 1863, 'theyv': 4499, 'spread': 4216, 'lizbeth': 2599, 'benacquisto': 409, 'law': 2515, 'hide': 2065, 'special': 4188, 'deal': 1101, 'eric': 1482, 'cantor': 627, 'real': 3643, 'estat': 1492, 'transact': 4594, 'subject': 4314, 'relationship': 3713, 'vladimir': 4829, 'capita': 635, 'homicid': 2115, 'alien': 130, 'civil': 777, 'terror': 4470, 'alli': 137, 'percentag': 3315, 'similar': 4082, 'data': 1086, 'suspend': 4382, 'screener': 3961, 'mushroom': 2943, 'cast': 665, 'woman': 4947, 'miamidad': 2813, 'trickl': 4624, 'librari': 2566, 'open': 3136, 'tammi': 4416, 'baldwin': 338, 'declin': 1121, 'tampa': 4417, 'liberia': 2564, 'cowboy': 1004, 'stadium': 4222, 'peak': 3290, 'marketplac': 2714, 'privaci': 3507, 'certainti': 697, 'capandtradewould': 632, 'devast': 1213, 'intern': 2275, 'gather': 1817, 'prioriti': 3503, 'wor': 4952, 'california': 609, 'quit': 3599, 'quarter': 3594, 'adult': 67, 'degre': 1148, 'formula': 1725, 'carri': 652, 'expir': 1546, 'vari': 4781, 'wide': 4919, 'steve': 4261, 'adler': 60, 'koch': 2461, 'august': 298, 'longer': 2614, 'entiti': 1467, 'nontradit': 3040, 'vermont': 4794, 'dekalb': 1149, 'academi': 25, 'ambiti': 154, 'goal': 1866, 'foundat': 1739, 'statist': 4248, 'assault': 261, 'taxi': 4431, 'outstand': 3187, 'personnel': 3337, 'declar': 1120, 'fundament': 1787, 'selfdefen': 3991, 'bridg': 538, 'alaska': 122, 'glenn': 1860, 'grothman': 1933, 'compromi': 883, 'thoma': 4510, 'jefferson': 2344, 'fool': 1704, 'awhil': 318, 'astray': 273, 'sooner': 4163, 'later': 2506, 'wake': 4846, 'correct': 972, 'cour': 995, 'schoolchildren': 3951, 'nd': 2971, 'grade': 1898, 'homosexu': 2116, 'assembl': 262, 'prison': 3504, 'arm': 242, 'dealer': 1102, 'fasttrack': 1606, 'unnecessari': 4732, 'coalfir': 820, 'degrad': 1147, 'fortun': 1730, 'ration': 3634, 'procedur': 3518, 'circumst': 770, 'eighth': 1400, 'joseph': 2382, 'stalin': 4229, 'bring': 541, 'undermin': 4705, 'spiritu': 4204, 'patriot': 3274, 'moral': 2900, 'disappear': 1249, 'hemp': 2054, 'gold': 1872, 'currenc': 1059, 'fulltim': 1782, 'veto': 4800, 'address': 57, 'yank': 4978, 'pennsylvania': 3304, 'appeal': 211, 'fourth': 1742, 'buy': 597, 'pizza': 3380, 'council': 984, 'technic': 4444, 'contract': 942, 'ratepay': 3632, 'persuad': 3339, 'complianc': 878, 'treat': 4613, 'bull': 572, 'heavi': 2041, 'burden': 579, 'classifi': 787, 'filibust': 1646, 'treatment': 4615, 'nascar': 2957, 'team': 4440, 'bottl': 504, 'deposit': 1188, 'nevadan': 2994, 'reli': 3716, 'uber': 4677, 'drive': 1345, 'texa': 4476, 'weigh': 4895, 'partner': 3256, 'employersponsor': 1438, 'depend': 1183, 'inelig': 2227, 'everybodi': 1509, 'aug': 297, 'ceil': 685, 'notifi': 3056, 'sean': 3966, 'duffi': 1358, 'audit': 295, 'victim': 4805, 'scenario': 3943, 'kid': 2434, 'love': 2636, 'mom': 2886, 'dad': 1072, 'grass': 1909, 'greg': 1927, 'abbott': 4, 'head': 2027, 'platform': 3389, 'skip': 4108, 'condemn': 895, 'gen': 1822, 'petraeu': 3346, 'import': 2189, 'socialist': 4137, 'disabl': 1247, 'panel': 3233, 'bureaucrat': 582, 'judgment': 2388, 'compen': 870, 'childhood': 742, 'slash': 4112, 'baptist': 350, 'convent': 951, 'inferior': 2232, 'subservi': 4320, 'husband': 2154, 'african': 86, 'encount': 1442, 'definit': 1144, 'hedg': 2046, 'transpar': 4602, 'hous': 2137, 'built': 569, 'slave': 4114, 'al': 117, 'smith': 4129, 'bibl': 432, 'dian': 1222, 'denish': 1175, 'christma': 760, 'draconian': 1332, 'cut': 1065, 'greater': 1916, 'harm': 2008, 'buyback': 598, 'mexican': 2809, 'hand': 1986, 'patrol': 3275, 'bonu': 490, 'rifl': 3814, 'jack': 2325, 'kingston': 2444, 'reproduct': 3746, 'committ': 858, 'lieuten': 2573, 'newt': 3004, 'gingrich': 1852, 'ethic': 1496, 'violat': 4817, 'overwhelm': 3206, 'streetcar': 4284, 'downtown': 1327, 'preciou': 3458, 'iv': 2323, 'strong': 4296, 'bipartisan': 453, 'resign': 3762, 'feloni': 1624, 'arizona': 239, 'parrot': 3249, 'apprehend': 222, 'physician': 3362, 'english': 1456, 'teacher': 4438, 'instruct': 2266, 'text': 4478, 'braley': 521, 'friend': 1769, 'kind': 2440, 'handout': 1990, 'highestpaid': 2069, 'hourli': 2136, 'basi': 368, 'pregnanc': 3467, 'turnout': 4658, 'sanction': 3908, 'deregul': 1193, 'energi': 1451, 'jeann': 2340, 'shaheen': 4032, 'code': 827, 'compli': 877, 'quickli': 3598, 'ms': 2928, 'squar': 4219, 'hyde': 2157, 'dc': 1097, 'beltway': 407, 'mate': 2735, 'pay': 3281, 'gm': 1865, 'chrysler': 762, 'repaid': 3734, 'rightw': 3818, 'intend': 2271, 'feed': 1618, 'roy': 3865, 'barn': 359, 'loss': 2628, 'steven': 4262, 'chu': 763, 'nightmar': 3011, 'probabl': 3514, 'pedern': 3292, 'cooper': 958, 'cartel': 658, 'virginian': 4822, 'earner': 1376, 'young': 4990, 'unaccount': 4687, 'milk': 2837, 'occur': 3094, 'politifact': 3412, 'krugman': 2466, 'phoni': 3357, 'ballot': 341, 'print': 3501, 'sell': 3992, 'avail': 310, 'onlin': 3134, 'search': 3967, 'unprec': 4736, 'prece': 3455, 'risen': 3822, 'frisk': 1770, 'scheme': 3945, 'nod': 3025, 'greencollar': 1922, 'fossil': 1736, 'allen': 136, 'travel': 4608, 'destin': 1205, 'resort': 3766, 'purpo': 3582, 'scientist': 3956, 'describ': 1196, 'amnesti': 161, 'felon': 1623, 'alexi': 127, 'giannoulia': 1844, 'longtim': 2618, 'aftermath': 88, 'rita': 3825, 'gross': 1932, 'retain': 3779, 'join': 2374, 'gulf': 1953, 'mile': 2833, 'long': 2613, 'agenda': 93, 'lynch': 2648, 'alltim': 141, 'yard': 4979, 'davi': 1093, 'basketb': 370, 'coach': 818, 'africa': 85, 'liter': 2594, 'figur': 1644, 'intent': 2272, 'contact': 936, 'ground': 1934, 'determin': 1210, 'mental': 2790, 'seriou': 4011, 'deriv': 1195, 'crack': 1008, 'subprim': 4318, 'crisi': 1035, 'recogn': 3659, 'blow': 468, 'ir': 2297, 'administ': 61, 'ohioan': 3111, 'paytoplay': 3288, 'jeff': 2343, 'hank': 1991, 'gilbert': 1847, 'theft': 4493, 'multipl': 2936, 'unpaid': 4734, 'lien': 2572, 'unsaf': 4739, 'accus': 38, 'bribe': 537, 'stone': 4271, 'housepass': 2140, 'safe': 3892, 'antiterror': 193, 'payrol': 3287, 'extra': 1562, 'wave': 4876, 'revolut': 3792, 'confisc': 905, 'mae': 2658, 'freddi': 1761, 'mac': 2650, 'chairmen': 705, 'japan': 2337, 'soldier': 4145, 'sander': 3910, 'rever': 3788, 'immun': 2182, 'seller': 3993, 'exceed': 1521, 'decreas': 1124, 'holiday': 2103, 'door': 1318, 'pope': 3420, 'modest': 2881, 'car': 638, 'creflo': 1026, 'sport': 4211, 'lee': 2539, 'israel': 2317, 'migrant': 2829, 'mitch': 2868, 'mcconnel': 2752, 'kentucki': 2423, 'broun': 552, 'jr': 2385, 'deviant': 1215, 'crush': 1046, 'dan': 1078, 'patrick': 3273, 'arizonastyl': 240, 'showmeyourpap': 4067, 'recordlow': 3666, 'evapor': 1502, 'fluorid': 1697, 'toxic': 4577, 'final': 1649, 'settl': 4021, 'anybodi': 197, 'mind': 2848, 'announc': 181, 'flagrantli': 1674, 'defi': 1141, 'fenc': 1628, 'mandela': 2687, 'communist': 864, 'richest': 3805, 'ayear': 319, 'officeha': 3105, 'estimatedeveri': 1494, 'penni': 3303, 'learn': 2534, 'mr': 2927, 'foster': 1737, 'petersburg': 3344, 'verifi': 4793, 'lawmak': 2517, 'soviet': 4179, 'apolog': 206, 'ronald': 3850, 'beg': 389, 'short': 4059, 'marquett': 2716, 'republicansdont': 3754, 'statewid': 4246, 'download': 1326, 'prototyp': 3557, 'driverless': 1348, 'maze': 2746, 'accid': 29, 'bankrupt': 348, 'nonu': 3041, 'stick': 4263, 'bar': 351, 'tab': 4406, 'jet': 2355, 'reconstruct': 3663, 'fudg': 1775, 'hottest': 2133, 'overst': 3201, 'extent': 1560, 'treasur': 4611, 'sure': 4364, 'somebodi': 4153, 'set': 4020, 'cure': 1057, 'berni': 423, 'headtohead': 2030, 'battl': 373, 'va': 4770, 'fundrai': 1788, 'significantli': 4079, 'onetim': 3131, 'resourc': 3767, 'arkansa': 241, 'uninsur': 4720, 'inflat': 2233, 'landrieu': 2492, 'monk': 2894, 'elmer': 1420, 'thirdmost': 4505, 'enjoy': 1458, 'combatreadi': 848, 'brigad': 540, 'employe': 1437, 'length': 2551, 'innov': 2248, 'pet': 3341, 'amtrak': 163, 'philadelphia': 3351, 'baltimor': 343, 'rider': 3812, 'ralph': 3619, 'hall': 1978, 'fortyseven': 1732, 'millionair': 2843, 'sever': 4025, 'trail': 4590, 'foreclosur': 1714, 'modifi': 2883, 'lender': 2549, 'independ': 2216, 'analysi': 164, 'unfair': 4713, 'ron': 3849, 'johnson': 2373, 'subsid': 4321, 'marta': 2720, 'hour': 2135, 'barak': 354, 'hussein': 2155, 'muham': 2932, 'perform': 3322, 'heterosexu': 2062, 'wed': 4890, 'expo': 1553, 'clerk': 796, 'kim': 2439, 'wisconsinit': 4937, 'likethey': 2583, 'assad': 259, 'differ': 1229, 'pull': 3575, 'nato': 2965, 'inva': 2283, 'occup': 3092, 'flore': 1688, 'fals': 1593, 'turkey': 4654, 'arab': 229, 'eighthmostdepend': 1401, 'stimulusfuel': 4267, 'bing': 450, 'stuck': 4303, 'man': 2681, 'superintend': 4350, 'funnel': 1790, 'donna': 1315, 'campbel': 616, 'river': 3827, 'baghdad': 332, 'frankli': 1757, 'mess': 2799, 'nobodi': 3024, 'focu': 1698, 'lay': 2522, 'peoplecarli': 3308, 'fiorina': 1659, 'retrospect': 3783, 'boy': 511, 'shower': 4066, 'bradi': 516, 'wait': 4842, 'gift': 1846, 'inspect': 2258, 'write': 4971, 'defend': 1138, 'ford': 1711, 'smallcar': 4125, 'especi': 1486, 'narragansett': 2954, 'solar': 4143, 'wind': 4928, 'solyndra': 4152, 'fisker': 1669, 'tesla': 4472, 'ener': 1450, 'orient': 3161, 'ident': 2166, 'lgbt': 2561, 'discrimin': 1263, 'disclo': 1257, 'obe': 3083, 'aaa': 1, 'emir': 1432, 'mention': 2791, 'unless': 4729, 'struck': 4300, 'near': 2972, 'wealth': 4880, 'incid': 2204, 'secondmost': 3977, 'gentrifi': 1832, 'left': 2540, 'boost': 494, 'guantanamo': 1942, 'snap': 4132, 'racial': 3602, 'profil': 3527, 'enterpri': 1462, 'fractur': 1749, 'horizont': 2127, 'frack': 1747, 'payment': 3285, 'advisori': 75, 'ratio': 3633, 'statecertifi': 4239, 'leah': 2530, 'vukmir': 4838, 'conceal': 886, 'church': 765, 'playground': 3392, 'extremist': 1565, 'disea': 1265, 'measl': 2762, 'personhood': 3336, 'statement': 4243, 'litter': 2596, 'singleu': 4091, 'shop': 4057, 'controversi': 949, 'spring': 4218, 'breakwhen': 531, 'kathryn': 2416, 'starkey': 4234, 'clear': 792, 'thathillari': 4485, 'clintonviol': 807, 'shelbi': 4044, 'univers': 4726, 'colleagu': 835, 'jon': 2378, 'barbara': 355, 'buono': 578, 'latino': 2510, 'underemploy': 4701, 'tune': 4651, 'turnpik': 4659, 'toll': 4548, 'event': 1505, 'membership': 2783, 'salad': 3897, 'brazil': 528, 'amazon': 152, 'rainforest': 3615, 'cup': 1054, 'afterward': 90, 'unelect': 4710, 'louie': 2634, 'gohmert': 1871, 'generalincharg': 1826, 'cigarett': 768, 'supermarket': 4353, 'dime': 1234, 'sugari': 4337, 'unveil': 4745, 'registrar': 3699, 'unilat': 4719, 'delay': 1153, 'post': 3436, 'treasuri': 4612, 'pork': 3424, 'suzann': 4386, 'bonamici': 487, 'partisan': 3255, 'postfertil': 3439, 'advoc': 76, 'error': 1484, 'unusu': 4744, 'mistak': 2867, 'followup': 1701, 'constantli': 928, 'metro': 2806, 'restor': 3775, 'portland': 3429, 'idea': 2165, 'pool': 3417, 'heritag': 2057, 'russia': 3881, 'messag': 2800, 'warship': 4862, 'sea': 3963, 'airlift': 110, 'clean': 791, 'essex': 1490, 'suffer': 4335, 'expan': 1535, 'tort': 4561, 'farm': 1600, 'turbin': 4653, 'shadow': 4030, 'pose': 3432, 'signif': 4078, 'particularli': 3254, 'seizur': 3989, 'multnomah': 2938, 'region': 3696, 'punish': 3577, 'exerci': 1530, 'fulli': 1779, 'bushera': 591, 'directli': 1244, 'panhandl': 3234, 'thereaft': 4496, 'sarasota': 3916, 'given': 1858, 'athlet': 278, 'kendrick': 2421, 'meek': 2777, 'consist': 926, 'kit': 2449, 'anchor': 166, 'tourism': 4571, 'unhappi': 4717, 'south': 4172, 'bird': 454, 'marri': 2717, 'prop': 3539, 'anyth': 200, 'recipi': 3658, 'popular': 3422, 'scholarship': 3948, 'lemieux': 2547, 'halliburton': 1979, 'dick': 1223, 'cheney': 734, 'payout': 3286, 'ncaa': 2970, 'tournament': 4573, 'player': 3391, 'trophi': 4635, 'shortfal': 4061, 'flatout': 1676, 'fal': 1588, 'persian': 3334, 'surround': 4375, 'offen': 3099, 'sealevel': 3964, 'coral': 962, 'reef': 3680, 'oversaw': 3198, 'reloc': 3721, 'indiana': 2220, 'languag': 2497, 'absolut': 21, 'incent': 2200, 'highwag': 2079, 'tank': 4418, 'garcia': 1810, 'util': 4768, 'teddi': 4450, 'roosevelt': 3853, 'centuri': 692, 'reelect': 3681, 'stay': 4251, 'belief': 398, 'orlando': 3163, 'killer': 2437, 'sandi': 3911, 'flee': 1678, 'secondari': 3972, 'dropout': 1351, 'oxycodonedispen': 3213, 'indict': 2222, 'perryha': 3332, 'patron': 3276, 'shot': 4063, 'solid': 4147, 'earth': 1377, 'tea': 4436, 'congresswoman': 915, 'betti': 429, 'sutton': 4384, 'marijuana': 2708, 'worthless': 4967, 'thc': 4491, 'temperatur': 4456, 'fabric': 1570, 'denmark': 1176, 'suicid': 4339, 'gaspump': 1816, 'inspector': 2259, 'heb': 2043, 'brookshir': 548, 'calibr': 608, 'pump': 3576, 'sticker': 4264, 'kept': 2426, 'mercedesbenz': 2793, 'headquart': 2029, 'nick': 3008, 'kahl': 2408, 'harder': 2001, 'scale': 3935, 'explod': 1551, 'jame': 2332, 'perhap': 3323, 'feet': 1619, 'giveaway': 1857, 'carriedinterest': 653, 'academ': 24, 'achiev': 39, 'finest': 1655, 'nuke': 3068, 'markey': 2715, 'franken': 1756, 'insan': 2252, 'reward': 3794, 'behavior': 395, 'healthier': 2035, 'wedlock': 4891, 'wood': 4951, 'justpubl': 2405, 'longform': 2616, 'certif': 698, 'fraudul': 1760, 'kitzhab': 2450, 'input': 2250, 'terri': 4467, 'branstad': 524, 'charter': 725, 'democratback': 1165, 'hardearn': 2000, 'prescript': 3476, 'pain': 3223, 'depress': 1189, 'anxieti': 195, 'jone': 2380, 'aim': 106, 'log': 2610, 'shift': 4052, 'shown': 4068, 'presenc': 3478, 'undocu': 4709, 'mcdonnel': 2756, 'uncompen': 4692, 'temporari': 4457, 'modif': 2882, 'default': 1133, 'pasco': 3260, 'obrien': 3087, 'highth': 2076, 'thirdhighest': 4503, 'nationwhich': 2962, 'turnaround': 4656, 'research': 3758, 'jurisdict': 2400, 'registri': 3700, 'enter': 1461, 'libyan': 2568, 'halv': 1981, 'retir': 3780, 'numer': 3070, 'piec': 3366, 'salem': 3900, 'acorn': 42, 'dozen': 1330, 'packag': 3219, 'perpetr': 3328, 'contin': 939, 'murphi': 2941, 'switch': 4397, 'aboard': 12, 'unsuccess': 4742, 'ferguson': 1630, 'mo': 2873, 'store': 4274, 'judith': 2390, 'capit': 634, 'ventur': 4791, 'chad': 699, 'chadwel': 700, 'condom': 898, 'techniqu': 4445, 'demonstr': 1170, 'lawyer': 2521, 'surg': 4367, 'argu': 237, 'drag': 1334, 'crow': 1042, 'lincoln': 2586, 'chafe': 701, 'ballist': 339, 'agent': 94, 'traffick': 4587, 'boat': 476, 'progress': 3530, 'survey': 4377, 'pot': 3441, 'subsequ': 4319, 'levi': 2559, 'governmentrun': 1891, 'fatal': 1607, 'phil': 3350, 'gingrey': 1851, 'impos': 2190, 'perrier': 3331, 'evian': 1513, 'southwest': 4178, 'matern': 2737, 'bernank': 422, 'sat': 3918, 'earl': 1370, 'blumenau': 472, 'gp': 1895, 'track': 4582, 'devic': 1216, 'fifthhighest': 1638, 'corner': 967, 'shutdown': 4071, 'problem': 3516, 'tyranni': 4676, 'decea': 1113, 'amaz': 151, 'smoke': 4130, 'redskin': 3676, 'camp': 614, 'recu': 3671, 'renacci': 3727, 'ethanol': 1495, 'gallon': 1799, 'prochoic': 3520, 'insert': 2255, 'row': 3864, 'arent': 236, 'credenti': 1020, 'careerlong': 644, 'coloradocar': 842, 'mcdonald': 2755, 'changefuel': 715, 'russ': 3880, 'memo': 2784, 'outlin': 3175, 'facil': 1573, 'giant': 1845, 'tariff': 4423, 'continu': 940, 'faith': 1585, 'congression': 912, 'committe': 859, 'vanilla': 4780, 'soy': 4181, 'latt': 2511, 'sweet': 4393, 'match': 2734, 'count': 986, 'abu': 22, 'overwhelmingli': 3207, 'democraticst': 1167, 'gerri': 1842, 'connolli': 919, 'spree': 4217, 'max': 2743, 'color': 840, 'bureau': 580, 'connecticut': 917, 'outperform': 3180, 'flipflop': 1685, 'handgun': 1988, 'campu': 617, 'follow': 1700, 'catastroph': 669, 'cascad': 661, 'prosecut': 3548, 'west': 4905, 'linn': 2590, 'homeba': 2109, 'inequ': 2228, 'transfer': 4595, 'oblig': 3086, 'neil': 2985, 'abercrombi': 6, 'latenight': 2505, 'kinko': 2445, 'forg': 1722, 'media': 2769, 'consult': 933, 'buckyb': 561, 'marxist': 2724, 'radic': 3606, 'god': 1867, 'plenti': 3394, 'choic': 751, 'heck': 2044, 'defund': 1145, 'gang': 1805, 'proposit': 3546, 'shoot': 4055, 'discharg': 1255, 'vacant': 4772, 'zone': 4998, 'infrastructur': 2238, 'interst': 2278, 'vital': 4828, 'urgenc': 4757, 'june': 2395, 'conclud': 893, 'sound': 4170, 'alarm': 120, 'weaken': 4879, 'retire': 3781, 'prank': 3452, 'cuyahoga': 1066, 'kindergarten': 2441, 'refer': 3683, 'ultim': 4682, 'noshow': 3052, 'ashland': 255, 'licen': 2569, 'mammogram': 2680, 'knowledg': 2459, 'engag': 1453, 'task': 4425, 'gogeb': 1870, 'possess': 3434, 'attribut': 293, 'congest': 909, 'nyc': 3076, 'luther': 2646, 'king': 2443, 'vindic': 4816, 'scandal': 3939, 'conclu': 892, 'prolif': 3533, 'stronger': 4297, 'clock': 808, 'cornyn': 969, 'ineffect': 2226, 'minist': 2851, 'republ': 3747, 'vacanc': 4771, 'ought': 3170, 'rid': 3810, 'monthli': 2897, 'heat': 2040, 'anyon': 199, 'doe': 1301, 'root': 3854, 'seri': 4010, 'simpsonbowl': 4085, 'reduct': 3678, 'desk': 1202, 'garbag': 1809, 'appoint': 218, 'obamanelson': 3080, 'slowest': 4119, 'postrecess': 3440, 'sinc': 4086, 'rememb': 3725, 'contractor': 943, 'tap': 4420, 'layoff': 2523, 'dramat': 1336, 'aliv': 132, 'bike': 443, 'proof': 3538, 'necessari': 2975, 'truli': 4640, 'donor': 1316, 'disclosur': 1258, 'regim': 3695, 'respect': 3768, 'spot': 4212, 'embroil': 1429, 'steer': 4255, 'facto': 1576, 'ponzi': 3416, 'barrett': 362, 'ninth': 3017, 'moment': 2887, 'moroccan': 2905, 'potteri': 3443, 'amanda': 150, 'vacat': 4773, 'bachmann': 325, 'wean': 4883, 'cram': 1011, 'classroom': 788, 'tough': 4566, 'hardwork': 2006, 'christoph': 761, 'type': 4674, 'halfway': 1977, 'increasingli': 2213, 'unafford': 4688, 'chase': 726, 'neighbor': 2983, 'trend': 4618, 'upcom': 4747, 'preserv': 3480, 'homestead': 2114, 'togeth': 4544, 'tear': 4442, 'abraham': 16, 'conf': 900, 'stateh': 4242, 'appear': 212, 'mail': 2662, 'vaccin': 4774, 'rose': 3856, 'explor': 1552, 'grandfath': 1905, 'shellack': 4047, 'midterm': 2826, 'chuck': 764, 'hagel': 1969, 'treati': 4614, 'reed': 3679, 'rni': 3829, 'advi': 72, 'architect': 232, 'slot': 4117, 'broward': 553, 'surfacetoair': 4366, 'missil': 2862, 'islamist': 2313, 'wonder': 4949, 'knew': 2457, 'cia': 766, 'resolv': 3765, 'proce': 3517, 'halfcent': 1973, 'breathtak': 534, 'impress': 2193, 'cloth': 813, 'shelter': 4048, 'forti': 1728, 'overstay': 3202, 'visa': 4825, 'round': 3861, 'nowher': 3059, 'separ': 4004, 'roe': 3839, 'vs': 4837, 'wade': 4839, 'secondhighest': 3975, 'hispan': 2086, 'export': 1554, 'nuisanc': 3067, 'dark': 1084, 'metrorail': 2808, 'yearli': 4982, 'purg': 3581, 'dwi': 1366, 'step': 4258, 'ind': 2215, 'charit': 719, 'runyan': 3876, 'richard': 3802, 'burr': 587, 'brave': 526, 'challeng': 707, 'abet': 7, 'taxat': 4429, 'motion': 2917, 'millag': 2839, 'network': 2990, 'beltlin': 406, 'quarteracr': 3595, 'elector': 1409, 'sixth': 4101, 'recoveri': 3669, 'medford': 2768, 'dump': 1361, 'plain': 3382, 'stream': 4282, 'specialti': 4189, 'plate': 3388, 'difficult': 1230, 'kasim': 2414, 'abroad': 18, 'mob': 2875, 'northeast': 3049, 'tini': 4536, 'threat': 4514, 'okay': 3115, 'remedi': 3724, 'math': 2738, 'hjm': 2093, 'assign': 267, 'advisor': 74, 'britain': 542, 'sequest': 4007, 'brother': 549, 'monica': 2892, 'lewinski': 2560, 'rev': 3785, 'jeremiah': 2349, 'wright': 4970, 'counsel': 985, 'memori': 2785, 'pryor': 3567, 'graveyard': 1912, 'museum': 2942, 'fighter': 1643, 'spou': 4214, 'middleclass': 2823, 'fiftysix': 1641, 'motorvehicl': 2921, 'rudygiuliani': 3871, 'ny': 3075, 'json': 2386, 'mostlytru': 2912, 'caucasian': 676, 'civilrightsgaysandlesbiansmarriag': 779, 'sheilaoliv': 4043, 'assemblywoman': 263, 'confer': 901, 'carlyfiorina': 648, 'inmat': 2245, 'diploma': 1241, 'correctionsandupdatescriminaljusticepublicsafeti': 973, 'lcbusterevan': 2524, 'assist': 269, 'mccaul': 2749, 'sixthrichest': 4102, 'candidatesbiographi': 624, 'tedankrum': 4448, 'cash': 663, 'abramoff': 17, 'scandalplagu': 3940, 'displac': 1274, 'bound': 506, 'candidaci': 623, 'outofpocket': 3177, 'expens': 1542, 'metric': 2805, 'fortyf': 1731, 'longest': 2615, 'surviv': 4378, 'phase': 3348, 'fend': 1629, 'sworn': 4400, 'smallbusi': 4124, 'highsp': 2074, 'rail': 3613, 'dog': 1303, 'dolphin': 1308, 'ukrain': 4680, 'nucleararm': 3065, 'understand': 4707, 'express': 1556, 'fourthmost': 1744, 'rickgreen': 3808, 'healthcaremedicaremessagemachin': 2032, 'jackconway': 2326, 'commerci': 854, 'healthcarepublichealth': 2033, 'bobbyjind': 478, 'louisiana': 2635, 'ope': 3135, 'politico': 3411, 'magazin': 2659, 'medicaidpoverti': 2773, 'kirkcox': 2447, 'halftru': 1976, 'march': 2701, 'jobsstatebudget': 2367, 'chrischristi': 757, 'belmar': 403, 'childreneducationmessagemachinestatebudgetstatestax': 744, 'greaterwisconsinpoliticalfund': 1917, 'cpa': 1006, 'comptrol': 884, 'statefin': 4240, 'raultorr': 3636, 'citybudgetcountybudgetfederalbudgethomelandsecurityimmigrationstatebudget': 776, 'billdeblasio': 444, 'wnyc': 4945, 'interview': 2281, 'disciplin': 1256, 'jodyh': 2369, 'barelytru': 357, 'imposs': 2191, 'crimecriminaljusticegovernmentregulationgunsmarketregul': 1030, 'eddoyl': 1392, 'chapter': 717, 'grown': 1938, 'pretend': 3486, 'restroom': 3777, 'candidatesbiographycorrectionsandupdatesgaysandlesbianscampaignadverti': 625, 'tedcruz': 4449, 'hivaid': 2092, 'malaria': 2673, 'tb': 4435, 'slow': 4118, 'swore': 4399, 'oath': 3077, 'charl': 721, 'unsustain': 4743, 'translat': 4599, 'imag': 2178, 'diver': 1287, 'fouryear': 1745, 'enemi': 1449, 'lane': 2495, 'sunset': 4346, 'drunk': 1355, 'easier': 1380, 'del': 1150, 'cole': 832, 'genit': 1829, 'bathroom': 372, 'celebr': 686, 'photo': 3358, 'sought': 4169, 'lowincom': 2641, 'middleincom': 2824, 'censu': 688, 'walmart': 4850, 'abandon': 3, 'scuttl': 3962, 'dnc': 1294, 'debbi': 1107, 'wasserman': 4868, 'schultz': 3953, 'thirdparti': 4506, 'owner': 3211, 'chilean': 746, 'sharron': 4040, 'angl': 173, 'hidden': 2064, 'substanti': 4325, 'debttogdp': 1109, 'wild': 4921, 'assur': 271, 'electron': 1413, 'click': 798, 'marginoferror': 2706, 'overfund': 3193, 'burger': 583, 'franchi': 1753, 'timelin': 4534, 'tenur': 4464, 'dismiss': 1271, 'incompet': 2207, 'spi': 4198, 'explicitli': 1549, 'reject': 3710, 'accuraci': 37, 'calcul': 606, 'comprehen': 881, 'kindergartn': 2442, 'sister': 4094, 'becauseblu': 383, 'shield': 4051, 'racist': 3603, 'iron': 2304, 'cleveland': 797, 'suppli': 4357, 'request': 3755, 'appropri': 224, 'canadian': 619, 'sorri': 4165, 'buffalo': 565, 'herd': 2056, 'waterplac': 4874, 'wickford': 4918, 'villag': 4813, 'swamp': 4387, 'wealthiest': 4882, 'applic': 217, 'process': 3519, 'award': 316, 'vend': 4788, 'procur': 3521, 'policemen': 3405, 'casino': 664, 'corrupt': 975, 'prime': 3497, 'benjamin': 416, 'netanyahu': 2989, 'exactli': 1517, 'hed': 2045, 'succeed': 4330, 'refineri': 3685, 'foot': 1705, 'rideshar': 3813, 'rae': 3609, 'answer': 184, 'misplac': 2860, 'alex': 125, 'sink': 4092, 'imprison': 2194, 'penalti': 3300, 'mere': 2795, 'withdrew': 4942, 'poland': 3403, 'czech': 1070, 'climatechang': 802, 'cbo': 683, 'longterm': 2617, 'unlimit': 4731, 'carbon': 639, 'seed': 3984, 'subtract': 4328, 'billionair': 446, 'denni': 1177, 'richardson': 3803, 'unspent': 4740, 'nationwid': 2963, 'expel': 1539, 'wagenow': 4841, 'fell': 1621, 'ocean': 3095, 'perfect': 3320, 'shore': 4058, 'cicillin': 767, 'chicago': 736, 'paycheck': 3283, 'endors': 1447, 'rosemari': 3857, 'lehmberg': 2546, 'travi': 4609, 'da': 1071, 'conven': 950, 'grand': 1903, 'ilana': 2173, 'shafran': 4031, 'forest': 1718, 'implic': 2187, 'conflict': 906, 'incorrect': 2209, 'strau': 4281, 'cost': 980, 'bryce': 557, 'reev': 3682, 'bankrol': 347, 'margin': 2705, 'warner': 4859, 'visitor': 4827, 'approach': 223, 'scalia': 3937, 'ginsburg': 1853, 'russian': 3883, 'delet': 1155, 'ambassador': 153, 'guess': 1947, 'precondit': 3460, 'sharp': 4038, 'dismal': 1269, 'cart': 657, 'mismanag': 2859, 'appalachian': 208, 'jane': 2335, 'norton': 3051, 'colorado': 841, 'detroit': 1212, 'atom': 282, 'kirk': 2446, 'outsourc': 3185, 'exclu': 1526, 'bunch': 576, 'teenag': 4452, 'glock': 1864, 'comput': 885, 'braindead': 520, 'warrant': 4860, 'redistrict': 3675, 'chalk': 706, 'foreclo': 1713, 'investedin': 2289, 'penc': 3301, 'boehner': 481, 'werent': 4903, 'baloney': 342, 'outlet': 3174, 'restaur': 3774, 'saunder': 3923, 'gerald': 1839, 'elizabeth': 1419, 'signer': 4077, 'clergymen': 795, 'congressmen': 914, 'mainstream': 2666, 'kurd': 2471, 'paulson': 3278, 'chairman': 704, 'lend': 2548, 'someth': 4155, 'greenhou': 1923, 'gase': 1814, 'fix': 1671, 'inchain': 2203, 'knee': 2456, 'floridaand': 1690, 'eve': 1503, 'juneteenth': 2396, 'empti': 1440, 'pack': 3218, 'orrin': 3166, 'hatch': 2019, 'cosponsor': 979, 'tonight': 4554, 'carli': 646, 'hewlettpackard': 2063, 'bought': 505, 'compaq': 868, 'terribl': 4468, 'hmo': 2094, 'failur': 1583, 'commonli': 861, 'statut': 4250, 'younger': 4991, 'german': 1840, 'french': 1767, 'saddam': 3891, 'destruct': 1207, 'norm': 3045, 'landscap': 2493, 'lawnmow': 2519, 'icemak': 2163, 'ann': 178, 'precinct': 3457, 'recount': 3667, 'elsewh': 1422, 'clayton': 790, 'mileston': 2834, 'elud': 1423, 'metropolitan': 2807, 'guidelin': 1951, 'highli': 2070, 'qualifi': 3591, 'marci': 2702, 'kaptur': 2412, 'suspect': 4381, 'hacker': 1966, 'prescriptiondrug': 3477, 'databas': 1088, 'denali': 1171, 'kenyan': 2425, 'exc': 1520, 'pedophil': 3293, 'isakson': 2309, 'bellevil': 402, 'nj': 3019, 'phoenix': 3355, 'tiverton': 4539, 'collap': 834, 'sit': 4095, 'model': 2878, 'photon': 3360, 'written': 4972, 'loui': 2633, 'slaughter': 4113, 'dilat': 1232, 'curettag': 1058, 'diminish': 1235, 'strength': 4285, 'gerrymand': 1843, 'map': 2697, 'senatepass': 3998, 'offens': 3102, 'leash': 2535, 'belt': 405, 'infract': 2237, 'oreilli': 3159, 'spoke': 4207, 'homeown': 2112, 'resolut': 3764, 'fri': 1768, 'butter': 596, 'newark': 2997, 'kenya': 2424, 'extraordinari': 1563, 'nonclassroom': 3030, 'ukrainian': 4681, 'riot': 3819, 'dismantl': 1270, 'path': 3269, 'kidnap': 2435, 'emiss': 1433, 'indic': 2221, 'addit': 56, 'costli': 981, 'portman': 3430, 'exxon': 1566, 'mobil': 2876, 'screen': 3960, 'jerri': 2351, 'scam': 3938, 'ripoff': 3820, 'uphold': 4749, 'hesso': 2061, 'upkeep': 4750, 'lawn': 2518, 'websit': 4888, 'laid': 2483, 'forev': 1719, 'wear': 4885, 'boot': 495, 'hat': 2018, 'halloween': 1980, 'taylor': 4434, 'eighti': 1402, 'violent': 4820, 'baucu': 375, 'subsidi': 4322, 'governmentchart': 1889, 'fetu': 1632, 'justif': 2402, 'airstrik': 113, 'nonunion': 3042, 'payasyougo': 3282, 'transform': 4596, 'birther': 456, 'sacrif': 3889, 'chamber': 708, 'insult': 2268, 'grad': 1897, 'massag': 2729, 'dreamer': 1341, 'applaud': 215, 'moon': 2898, 'subcommitt': 4312, 'meanwhil': 2761, 'kerri': 2427, 'lieberman': 2571, 'junk': 2397, 'alan': 119, 'grayson': 1914, 'vampir': 4778, 'holocaust': 2107, 'lineitem': 2588, 'barrow': 363, 'dga': 1220, 'teachersalari': 4439, 'cancel': 620, 'convert': 953, 'predat': 3461, 'cyber': 1067, 'harass': 1996, 'backlog': 327, 'complaint': 874, 'malfea': 2676, 'sece': 3970, 'lyndon': 2649, 'urg': 4756, 'otherwi': 3168, 'bail': 333, 'canada': 618, 'gillnet': 1849, 'decrimin': 1125, 'joint': 2375, 'fish': 1666, 'anymor': 198, 'sheldon': 4045, 'whiteh': 4912, 'floor': 1687, 'disagr': 1248, 'potenti': 3442, 'appl': 214, 'zika': 4997, 'bennet': 417, 'schip': 3947, 'prayer': 3454, 'ceremoni': 694, 'septemb': 4006, 'pm': 3398, 'religion': 3720, 'gulfstream': 1954, 'pound': 3445, 'worldwid': 4962, 'depriv': 1190, 'mcauliff': 2747, 'invent': 2286, 'opposesth': 3146, 'supportsit': 4360, 'bosnia': 501, 'bh': 431, 'recognit': 3660, 'concess': 891, 'sick': 4073, 'flu': 1694, 'viru': 4824, 'denzel': 1181, 'speak': 4185, 'hama': 1982, 'rebuild': 3652, 'gaza': 1820, 'alloc': 139, 'subsum': 4327, 'span': 4183, 'philadelphiau': 3352, 'known': 2460, 'method': 2803, 'evalu': 1500, 'bulldoz': 574, 'housei': 2139, 'adverti': 71, 'toomey': 4558, 'crash': 1014, 'everifi': 1508, 'evenli': 1504, 'affair': 77, 'unconstitut': 4694, 'unfortun': 4715, 'lowercost': 2639, 'hardcor': 1999, 'ammunit': 160, 'geneva': 1828, 'spin': 4202, 'martinez': 2723, 'conver': 952, 'sort': 4166, 'spill': 4200, 'tanker': 4419, 'rare': 3630, 'leak': 2531, 'merit': 2797, 'hagan': 1968, 'awar': 315, 'viabl': 4801, 'pancrea': 3232, 'poi': 3400, 'port': 3427, 'pupil': 3578, 'migrat': 2830, 'cell': 687, 'suppo': 4358, 'doubledigit': 1322, 'nevada': 2993, 'provis': 3564, 'accu': 34, 'greer': 1925, 'irregular': 2306, 'jobkil': 2365, 'jeanneshaheen': 2341, 'sox': 4180, 'incumb': 2214, 'monitor': 2893, 'jade': 2329, 'helm': 2051, 'martial': 2721, 'disarm': 1250, 'innoc': 2247, 'detain': 1208, 'beneath': 411, 'threaten': 4515, 'latin': 2508, 'fraction': 1748, 'bowl': 508, 'antonio': 194, 'embrac': 1428, 'bushcheney': 590, 'furlough': 1792, 'wilmington': 4926, 'boss': 502, 'buse': 588, 'repres': 3745, 'rezko': 3795, 'slum': 4120, 'landlord': 2491, 'inner': 2246, 'realiti': 3644, 'danger': 1081, 'mastermind': 2731, 'shoe': 4054, 'bomber': 486, 'unabomb': 4685, 'obamatook': 3081, 'grew': 1929, 'rural': 3877, 'adam': 52, 'hasner': 2015, 'mandatori': 2685, 'ultrasound': 4684, 'ralli': 3618, 'wellconnect': 4899, 'coffman': 828, 'tag': 4409, 'burn': 586, 'proxim': 3566, 'highvoltag': 2078, 'pink': 3374, 'slip': 4116, 'sequestr': 4008, 'transgend': 4597, 'wendi': 4901, 'cold': 831, 'royalti': 3866, 'sourc': 4171, 'genuin': 1833, 'competit': 871, 'cook': 955, 'tossup': 4563, 'lean': 2532, 'sixti': 4103, 'militar': 2835, 'trirail': 4632, 'fulfil': 1778, 'deep': 1129, 'solac': 4142, 'perva': 3340, 'grievanc': 1930, 'animo': 176, 'novemb': 3058, 'destabil': 1204, 'liber': 2563, 'heavili': 2042, 'deploy': 1185, 'pentagon': 3306, 'secretli': 3980, 'counter': 987, 'disarma': 1251, 'undo': 4708, 'observ': 3088, 'scientif': 3955, 'concentr': 888, 'anim': 175, 'gotten': 1886, 'locat': 2608, 'pioneer': 3375, 'margaret': 2704, 'sanger': 3913, 'wasan': 4863, 'ku': 2468, 'klux': 2455, 'klan': 2452, 'revok': 3791, 'prevail': 3489, 'deem': 1128, 'timemitt': 4535, 'romneyleft': 3847, 'bed': 386, 'grader': 1899, 'chines': 749, 'prostitut': 3554, 'allegedli': 135, 'desjarlaiss': 1201, 'tn': 4540, 'owen': 3210, 'ri': 3798, 'advantagerhod': 70, 'wors': 4964, 'juvenil': 2406, 'comment': 852, 'strictest': 4289, 'exclud': 1527, 'policymak': 3407, 'overdo': 3192, 'capac': 630, 'statefund': 4241, 'benzen': 418, 'oregonian': 3158, 'redistribut': 3674, 'fanci': 1596, 'condo': 897, 'suburb': 4329, 'shouldnt': 4064, 'pitch': 3379, 'larsen': 2503, 'alexand': 126, 'hamilton': 1983, 'hawk': 2024, 'herman': 2058, 'cain': 604, 'ignor': 2171, 'derail': 1192, 'nomine': 3027, 'astronaut': 274, 'space': 4182, 'station': 4247, 'adelson': 58, 'spite': 4205, 'obes': 3084, 'epidem': 1473, 'bogu': 482, 'boe': 480, 'reconcili': 3662, 'repeat': 3739, 'enhanc': 1457, 'interrog': 2277, 'apprai': 219, 'studentathlet': 4305, 'purchas': 3580, 'reinvest': 3709, 'trilliondollar': 4628, 'arra': 245, 'crumbl': 1045, 'strict': 4287, 'expert': 1545, 'gwinnett': 1962, 'gasolin': 1815, 'room': 3852, 'clap': 783, 'solv': 4150, 'appreci': 220, 'hijack': 2081, 'regular': 3702, 'ram': 3620, 'koran': 2462, 'jew': 2356, 'buri': 584, 'bailout': 335, 'ninetyseven': 3015, 'pollster': 3414, 'saydont': 3928, 'gallup': 1801, 'methodolog': 2804, 'langevin': 2496, 'afraid': 84, 'wasilla': 4866, 'usag': 4760, 'violatesa': 4818, 'thatprev': 4488, 'channel': 716, 'viewer': 4810, 'proprieti': 3547, 'xl': 4976, 'ongo': 3132, 'endur': 1448, 'eagl': 1369, 'materi': 2736, 'nativ': 2964, 'brutal': 556, 'allan': 133, 'fung': 1789, 'economist': 1390, 'su': 4311, 'harbor': 1997, 'noncitizen': 3029, 'farmer': 1601, 'twoyear': 4673, 'warn': 4858, 'british': 543, 'sue': 4334, 'barrel': 361, 'ampl': 162, 'sudan': 4332, 'childbirth': 740, 'chiropractor': 750, 'charlott': 724, 'nash': 2958, 'guest': 1948, 'pray': 3453, 'pari': 3243, 'publicsector': 3572, 'lesbian': 2554, 'tiebreak': 4527, 'thom': 4509, 'tilli': 4530, 'yacht': 4977, 'telephon': 4453, 'landlin': 2490, 'custom': 1064, 'altern': 147, 'wireless': 4935, 'andor': 169, 'dateand': 1090, 'cheat': 729, 'fastestgrow': 1605, 'charliecrist': 723, 'duke': 1360, 'resist': 3763, 'exhaust': 1531, 'flaw': 1677, 'columbia': 843, 'misstat': 2866, 'diplomat': 1242, 'benghazilibyath': 415, 'ownership': 3212, 'loud': 2632, 'youll': 4989, 'abel': 5, 'flew': 1680, 'tortur': 4562, 'fifti': 1639, 'hunter': 2149, 'cartridg': 660, 'tennesse': 4462, 'sarlo': 3917, 'februari': 1614, 'njtv': 3020, 'freez': 1766, 'aa': 0, 'panther': 3236, 'cornil': 968, 'cabl': 602, 'renew': 3730, 'hb': 2026, 'rusti': 3884, 'backwat': 329, 'saloon': 3903, 'kurt': 2472, 'schrader': 3952, 'sharpli': 4039, 'curtail': 1062, 'philippin': 3353, 'persh': 3333, 'dip': 1240, 'pig': 3367, 'blood': 466, 'rebel': 3650, 'millenni': 2840, 'european': 1499, 'flat': 1675, 'huntsman': 2150, 'courag': 996, 'truth': 4646, 'asid': 256, 'korean': 2464, 'sweatshop': 4391, 'tool': 4557, 'excess': 1523, 'cadillac': 603, 'hardest': 2002, 'landslid': 2494, 'clarenc': 784, 'launder': 2514, 'vin': 4814, 'gopal': 1882, 'capandtrad': 631, 'luxuri': 2647, 'criteria': 1037, 'driven': 1346, 'mansion': 2694, 'firstborn': 1664, 'televi': 4454, 'alleg': 134, 'sweetheart': 4394, 'mostli': 2911, 'richmond': 3806, 'weak': 4878, 'palm': 3230, 'argument': 238, 'cdc': 684, 'caviti': 681, 'genet': 1827, 'varieti': 4782, 'shooter': 4056, 'occupi': 3093, 'movement': 2924, 'tolstoy': 4549, 'peac': 3289, 'outreach': 3183, 'mamma': 2679, 'mia': 2811, 'denier': 1174, 'touch': 4565, 'crazi': 1015, 'nathan': 2960, 'columbu': 846, 'samesex': 3905, 'lebron': 2537, 'season': 3968, 'admonish': 65, 'server': 4013, 'eat': 1383, 'ben': 408, 'capabl': 629, 'truman': 4641, 'privileg': 3510, 'refuge': 3690, 'pri': 3492, 'eye': 1568, 'intellig': 2270, 'corzinebuono': 978, 'biennium': 439, 'reauthor': 3647, 'hotel': 2131, 'light': 2578, 'cobb': 823, 'clifford': 800, 'rival': 3826, 'grandpar': 1906, 'franc': 1752, 'whatsoev': 4909, 'contracept': 941, 'cheaper': 728, 'solut': 4149, 'pend': 3302, 'timeandahalf': 4533, 'overtim': 3204, 'label': 2477, 'elementari': 1415, 'art': 249, 'lunch': 2645, 'withdraw': 4941, 'frame': 1750, 'sheila': 4042, 'harsdorf': 2010, 'passag': 3264, 'flinn': 1683, 'schedul': 3944, 'forum': 1733, 'pinella': 3373, 'bolton': 484, 'thati': 4486, 'overthrow': 3203, 'israelisgav': 2318, 'sergeant': 4009, 'dairi': 1074, 'countermeasur': 988, 'spilt': 4201, 'defin': 1143, 'physic': 3361, 'twomonth': 4668, 'scare': 3942, 'arriv': 247, 'prosper': 3551, 'beto': 427, 'orourk': 3165, 'halfmilliondollar': 1974, 'prove': 3560, 'denver': 1180, 'matagorda': 2733, 'brazoria': 529, 'galveston': 1802, 'wellfund': 4900, 'unaccept': 4686, 'wouldnt': 4968, 'taliban': 4413, 'mailer': 2663, 'accur': 36, 'eri': 1481, 'cuccinelli': 1051, 'payday': 3284, 'tarp': 4424, 'madelein': 2653, 'albright': 123, 'surpri': 4372, 'pathet': 3270, 'runnerup': 3875, 'caitlyn': 605, 'jenner': 2346, 'espn': 1488, 'arthur': 250, 'ash': 254, 'noah': 3021, 'galloway': 1800, 'leg': 2541, 'roadsid': 3831, 'attitud': 290, 'whatev': 4908, 'fulton': 1783, 'ks': 2467, 'cooki': 956, 'rudi': 3870, 'consul': 932, 'ransom': 3627, 'overturn': 3205, 'blasphemi': 462, 'percentmor': 3316, 'kvamm': 2474, 'claw': 789, 'extens': 1559, 'refund': 3691, 'geopolit': 1834, 'entertain': 1463, 'algeria': 128, 'unreport': 4738, 'sexoffend': 4028, 'monday': 2888, 'marion': 2711, 'factori': 1578, 'articl': 251, 'obamawev': 3082, 'newgard': 2999, 'milwauki': 2847, 'apart': 204, 'complex': 876, 'trillionayear': 4627, 'versu': 4797, 'disenfranchi': 1266, 'percentofpoor': 3318, 'holi': 2102, 'kuran': 2470, 'experienc': 1544, 'cola': 830, 'madisonmilwauk': 2656, 'usafreedom': 4759, 'undercut': 4699, 'becauseth': 384, 'governmentmand': 1890, 'accommod': 30, 'inherit': 2239, 'arena': 235, 'isra': 2316, 'onepalestinian': 3126, 'disney': 1272, 'song': 4159, 'halfadozen': 1972, 'blueribbon': 471, 'excel': 1522, 'termin': 4466, 'falcon': 1589, 'guarante': 1944, 'koster': 2465, 'silenta': 4081, 'atrisk': 283, 'youth': 4993, 'rice': 3800, 'lenderand': 2550, 'democratl': 1168, 'neglect': 2981, 'explo': 1550, 'diegoand': 1228, 'smuggl': 4131, 'drugsbi': 1354, 'hoosier': 2122, 'mount': 2923, 'rushmor': 3879, 'priest': 3494, 'coverup': 1002, 'viagra': 4802, 'thatll': 4487, 'kickstart': 2433, 'andh': 167, 'pastor': 3266, 'loi': 2611, 'turner': 4657, 'dental': 1179, 'secondfastest': 3973, 'tourist': 4572, 'millercoor': 2841, 'lack': 2479, 'cuban': 1049, 'fugit': 1777, 'barton': 364, 'stupak': 4310, 'fahrenheit': 1581, 'sudden': 4333, 'assess': 265, 'ore': 3156, 'pa': 3215, 'downgrad': 1325, 'toyota': 4579, 'fema': 1626, 'uniform': 4718, 'viciou': 4804, 'lent': 2552, 'blunt': 473, 'usmexico': 4765, 'sharia': 4037, 'perpupil': 3329, 'tire': 4538, 'split': 4206, 'portion': 3428, 'irrespon': 2307, 'wit': 4940, 'easi': 1379, 'fleet': 1679, 'submarin': 4315, 'studio': 4307, 'investor': 2291, 'bust': 594, 'seventi': 4024, 'jimmi': 2361, 'lopezcantera': 2622, 'voic': 4830, 'workplac': 4959, 'finland': 1658, 'tend': 4459, 'suntrust': 4347, 'cabineti': 601, 'discret': 1261, 'remark': 3723, 'unstimul': 4741, 'pat': 3267, 'mccrori': 2753, 'antidiscrimin': 191, 'ordin': 3153, 'hadnt': 1967, 'wipe': 4934, 'molest': 2885, 'earliest': 1373, 'speed': 4194, 'radar': 3605, 'columbiahcahospit': 845, 'chain': 702, 'milken': 2838, 'topperform': 4559, 'gene': 1824, 'concern': 890, 'disqualifi': 1281, 'hoax': 2095, 'valley': 4776, 'winter': 4933, 'specul': 4192, 'siphon': 4093, 'miranda': 2857, 'highvalu': 2077, 'kucinich': 2469, 'broken': 547, 'bracket': 515, 'eightyf': 1404, 'electrocut': 1412, 'parrish': 3248, 'czar': 1069, 'beaverton': 381, 'aircraft': 109, 'carrier': 654, 'booz': 496, 'obsolet': 3089, 'bain': 336, 'prai': 3451, 'checkout': 731, 'silent': 4080, 'honor': 2119, 'gunsal': 1958, 'pave': 3279, 'gravel': 1911, 'tenness': 4461, 'harvey': 2013, 'stump': 4309, 'hiv': 2091, 'discuss': 1264, 'heart': 2039, 'gwen': 1961, 'moor': 2899, 'absent': 20, 'trayvon': 4610, 'verdict': 4792, 'teen': 4451, 'rouhani': 3860, 'phd': 3349, 'birthright': 457, 'habit': 1964, 'supervisor': 4355, 'creator': 1019, 'weekend': 4893, 'oklahoma': 3116, 'sing': 4087, 'draw': 1338, 'superpr': 4354, 'trajectori': 4593, 'needlessli': 2979, 'trauma': 4606, 'workman': 4958, 'destroy': 1206, 'republicanapprov': 3749, 'divert': 1288, 'saysdavid': 3929, 'pile': 3368, 'concret': 894, 'prospect': 3550, 'preterm': 3487, 'divest': 1289, 'jennif': 2347, 'carrol': 655, 'steadili': 4252, 'thatrepublican': 4489, 'darryl': 1085, 'glennha': 1861, 'evil': 1515, 'aisl': 114, 'dedic': 1126, 'heard': 2038, 'huckab': 2143, 'binat': 449, 'debaathi': 1105, 'iraqi': 2301, 'dane': 1080, 'kathleen': 2415, 'version': 4796, 'aig': 105, 'volt': 4831, 'acquir': 43, 'holli': 2104, 'fort': 1727, 'pryorcut': 3568, 'disproportion': 1278, 'venezuela': 4790, 'brand': 523, 'dinosaur': 1238, 'extinct': 1561, 'olymp': 3121, 'bear': 378, 'assassin': 260, 'solidli': 4148, 'dna': 1293, 'hanoi': 1992, 'hilton': 2084, 'songbird': 4160, 'collabor': 833, 'nonprolif': 3039, 'vietnam': 4808, 'pow': 3448, 'inspir': 2260, 'symbol': 4401, 'exam': 1518, 'credibl': 1021, 'veget': 4786, 'affirm': 80, 'admiss': 63, 'ozon': 3214, 'nox': 3061, 'strip': 4291, 'strike': 4290, 'buchanan': 559, 'reflect': 3686, 'smallest': 4127, 'rubl': 3869, 'swim': 4395, 'tip': 4537, 'distribut': 1285, 'zvisa': 4999, 'surpass': 4370, 'mccollumha': 2751, 'fluoresc': 1696, 'bulb': 570, 'migrain': 2828, 'epilepsi': 1474, 'unequivoc': 4712, 'opioid': 3140, 'substanc': 4323, 'gina': 1850, 'raimondo': 3614, 'hell': 2050, 'switzerland': 4398, 'germani': 1841, 'hoover': 2124, 'cranston': 1012, 'link': 2589, 'handl': 1989, 'welcom': 4897, 'goldman': 1873, 'sach': 3888, 'whitman': 4914, 'boxer': 510, 'jerusalem': 2354, 'blight': 463, 'meltdown': 2781, 'muffin': 2931, 'boyc': 512, 'sensit': 4001, 'warmer': 4857, 'daughter': 1091, 'delib': 1156, 'pakistani': 3226, 'india': 2218, 'naacp': 2948, 'greatest': 1918, 'tragedi': 4588, 'overz': 3208, 'greedi': 1920, 'litig': 2595, 'russiafinland': 3882, 'hockey': 2097, 'sad': 3890, 'dmitri': 1292, 'medvedev': 2776, 'complic': 879, 'seek': 3985, 'trenton': 4619, 'oral': 3150, 'trumpsfound': 4643, 'sixfoott': 4098, 'paint': 3224, 'infant': 2230, 'supplement': 4356, 'balloon': 340, 'lift': 2577, 'moratorium': 2901, 'wolf': 4946, 'ninetyf': 3014, 'rage': 3610, 'tweet': 4661, 'surgeri': 4369, 'mittromney': 2871, 'sunday': 4344, 'prek': 3469, 'clark': 785, 'trigger': 4625, 'pantsfir': 3237, 'froze': 1772, 'elorza': 1421, 'nonexist': 3035, 'apprehen': 221, 'embryon': 1430, 'antibusi': 188, 'promiscu': 3536, 'wrongli': 4974, 'dock': 1295, 'freeway': 1765, 'cayman': 682, 'pin': 3371, 'freedom': 1764, 'demand': 1161, 'firework': 1662, 'mapl': 2698, 'syrup': 4405, 'partial': 3251, 'renegoti': 3729, 'begun': 393, 'inact': 2196, 'defens': 1139, 'loretta': 2625, 'sanchez': 3907, 'renam': 3728, 'nowvir': 3060, 'youngster': 4992, 'reinstat': 3708, 'newport': 3001, 'vike': 4812, 'consequ': 923, 'founder': 1740, 'upstat': 4751, 'jerseyan': 2353, 'divi': 1290, 'supposedli': 4361, 'sandwich': 3912, 'uwmadison': 4769, 'nafta': 2949, 'golf': 1875, 'coalit': 821, 'moammar': 2874, 'gadhafi': 1796, 'muchdiscuss': 2929, 'morri': 2906, 'greet': 1926, 'diebold': 1227, 'doorstep': 1319, 'onetenth': 3128, 'populationyet': 3423, 'highskil': 2073, 'abortioninduc': 15, 'khan': 2430, 'uncount': 4695, 'disprov': 1279, 'ranch': 3622, 'disput': 1280, 'southeast': 4174, 'launch': 2513, 'breath': 533, 'reliabl': 3717, 'whop': 4916, 'waitlist': 4843, 'financialba': 1652, 'tech': 4443, 'arctic': 233, 'icefr': 2162, 'workingclass': 4957, 'custodi': 1063, 'brent': 536, 'spenc': 4195, 'undergradu': 4704, 'permiss': 3326, 'forcedhom': 1709, 'stimul': 4265, 'coin': 829, 'crackdown': 1009, 'annex': 179, 'behalf': 394, 'jill': 2359, 'ratlanta': 3635, 'regulatori': 3703, 'audienc': 294, 'lotteri': 2631, 'victori': 4806, 'suspicion': 4383, 'entri': 1469, 'hypocrit': 2159, 'drone': 1349, 'aggress': 95, 'bow': 507, 'narrow': 2955, 'romanov': 3844, 'tighten': 4528, 'calledfasttrack': 610, 'display': 1275, 'perfectli': 3321, 'morgan': 2902, 'dawn': 1095, 'johnsen': 2372, 'motherhood': 2916, 'involuntari': 2293, 'servitud': 4017, 'potu': 3444, 'luci': 2643, 'oldest': 3119, 'crook': 1039, 'anticho': 189, 'prematur': 3471, 'command': 851, 'flint': 1684, 'climb': 803, 'yearlong': 4983, 'compost': 880, 'pilot': 3370, 'satisfi': 3920, 'pressur': 3485, 'whitewat': 4913, 'minu': 2855, 'swap': 4388, 'tenncar': 4460, 'semiautomat': 3995, 'pistol': 3378, 'groundhog': 1935, 'repar': 3736, 'justin': 2404, 'bieber': 437, 'catchup': 671, 'publish': 3573, 'stagger': 4226, 'republicansagr': 3753, 'rollingwood': 3843, 'inconveni': 2208, 'lightn': 2579, 'imperson': 2185, 'addict': 55, 'situat': 4097, 'talgo': 4412, 'milwaukeemadison': 2846, 'hostag': 2130, 'perceiv': 3313, 'jan': 2333, 'ray': 3637, 'lahood': 2482, 'allig': 138, 'brokaw': 545, 'tribut': 4623, 'unwant': 4746, 'suit': 4340, 'rack': 3604, 'tremend': 4617, 'hard': 1998, 'marilinda': 2709, 'clearanc': 793, 'begich': 391, 'nickel': 3009, 'watermelon': 4873, 'queen': 3596, 'fidel': 1635, 'castro': 666, 'forprofit': 1726, 'hotelmotel': 2132, 'saysdemocrat': 3930, 'alisha': 131, 'preschool': 3474, 'lameduck': 2486, 'attract': 292, 'salesclerk': 3901, 'hobbi': 2096, 'nephew': 2987, 'taco': 4408, 'holder': 2099, 'hood': 2120, 'weight': 4896, 'peel': 3294, 'cowl': 1005, 'stateown': 4244, 'bidder': 435, 'urban': 4755, 'anticip': 190, 'rock': 3836, 'southbound': 4173, 'ayer': 321, 'porkbarrel': 3425, 'conspiraci': 927, 'theorist': 4495, 'jonathan': 2379, 'gruber': 1940, 'sullivan': 4341, 'cape': 633, 'cumberland': 1053, 'atlant': 279, 'masondixon': 2726, 'readi': 3641, 'beneficiari': 412, 'vern': 4795, 'influenc': 2234, 'homer': 2113, 'undepend': 4697, 'kkk': 2451, 'meban': 2765, 'nc': 2969, 'delta': 1159, 'aviat': 312, 'predatori': 3462, 'necessarili': 2976, 'newli': 3000, 'fourfold': 1741, 'belong': 404, 'iranian': 2299, 'troubl': 4636, 'consent': 922, 'formal': 1724, 'nobel': 3022, 'prize': 3511, 'gunfir': 1956, 'unintend': 4721, 'western': 4906, 'emmigr': 1434, 'sic': 4072, 'threequart': 4517, 'blank': 461, 'mostview': 2913, 'weresunday': 4904, 'thursday': 4521, 'impost': 2192, 'joke': 2376, 'ovat': 3189, 'angelo': 172, 'rodeo': 3838, 'desert': 1198, 'behead': 396, 'mikehuckabeecom': 2832, 'arrog': 248, 'deri': 1194, 'inject': 2241, 'unfett': 4714, 'cliff': 799, 'percapita': 3312, 'liabil': 2562, 'strongli': 4299, 'sixmonth': 4099, 'debunk': 1110, 'lloyd': 2600, 'doggett': 1304, 'lock': 2609, 'overhaul': 3194, 'precipit': 3459, 'regardless': 3694, 'rnc': 3828, 'republicanlean': 3752, 'professor': 3525, 'jam': 2331, 'worldrenown': 4961, 'controversalremark': 948, 'byrev': 599, 'ayearold': 320, 'whip': 4910, 'scali': 3936, 'hasblown': 2014, 'stori': 4275, 'percentof': 3317, 'pawlenti': 3280, 'overcrowd': 3191, 'fisher': 1667, 'retrain': 3782, 'flow': 1692, 'atheist': 277, 'doddfrank': 1299, 'disbur': 1254, 'patricia': 3272, 'khizrkhan': 2431, 'interven': 2280, 'airbu': 108, 'framework': 1751, 'counterterror': 990, 'tpp': 4580, 'alter': 145, 'wish': 4939, 'acr': 44, 'featur': 1613, 'besteduc': 426, 'camden': 611, 'exot': 1534, 'ant': 185, 'mph': 2926, 'william': 4925, 'accumul': 35, 'southsid': 4177, 'routin': 3863, 'wive': 4944, 'wildfir': 4922, 'tick': 4523, 'box': 509, 'hardshipand': 2005, 'immin': 2181, 'nevil': 2995, 'chamberlain': 709, 'domin': 1311, 'appea': 210, 'spanish': 4184, 'era': 1479, 'impeach': 2184, 'uptick': 4752, 'spokesman': 4209, 'katrina': 2417, 'corbett': 963, 'ethnic': 1497, 'walton': 4851, 'stephen': 4259, 'sweeney': 4392, 'pasch': 3259, 'forviagra': 1734, 'likelihood': 2582, 'constitu': 929, 'greec': 1919, 'vendor': 4789, 'openli': 3137, 'nake': 2950, 'eightyear': 1403, 'bicycl': 433, 'pipe': 3376, 'multilat': 2935, 'mid': 2821, 'leapt': 2533, 'revolutionari': 3793, 'guevara': 1949, 'anytim': 201, 'anywher': 203, 'agre': 99, 'skill': 4106, 'winner': 4932, 'shame': 4034, 'transmit': 4600, 'clearli': 794, 'disrupt': 1283, 'parad': 3240, 'harken': 2007, 'republicandomin': 3751, 'foregon': 1715, 'motiv': 2918, 'taxexempt': 4430, 'indian': 2219, 'cincinnati': 769, 'nh': 3006, 'donaldtrump': 1313, 'presidentelect': 3482, 'franklin': 1758, 'daili': 1073, 'yemen': 4986, 'amendmentlanguag': 157, 'meal': 2757, 'closer': 811, 'hor': 2126, 'cori': 965, 'booker': 493, 'earthquak': 1378, 'whove': 4917, 'carolinian': 650, 'abid': 8, 'planet': 3385, 'disgrac': 1267, 'unlaw': 4728, 'andi': 168, 'utah': 4767, 'ganley': 1806, 'fs': 1774, 'sorti': 4167, 'ordnanc': 3155, 'casualti': 667, 'startup': 4237, 'jule': 2391, 'instrument': 2267, 'twopar': 4669, 'monogam': 2895, 'qualifiedto': 3592, 'dent': 1178, 'conscienc': 920, 'mann': 2692, 'cockfight': 826, 'duckworth': 1356, 'sayspresid': 3933, 'doubt': 1323, 'onechild': 3124, 'qaeda': 3588, 'maggi': 2660, 'drove': 1352, 'detent': 1209, 'respiratori': 3769, 'vigil': 4811, 'toughen': 4567, 'kilmartin': 2438, 'twist': 4665, 'puerto': 3574, 'rico': 3809, 'rpg': 3867, 'anglo': 174, 'steitz': 4256, 'nondefen': 3032, 'refus': 3692, 'ercot': 1480, 'thecongress': 4492, 'rutger': 3885, 'buildinga': 568, 'fortress': 1729, 'norcross': 3044, 'jerey': 2350, 'opium': 3141, 'sevenfold': 4023, 'baseb': 366, 'clunker': 816, 'boyfriend': 513, 'sept': 4005, 'ryanromney': 3887, 'ezekiel': 1569, 'emanuel': 1425, 'nondi': 3033, 'sayvideo': 3934, 'stroll': 4294, 'manchintoomey': 2683, 'honest': 2118, 'lifelong': 2575, 'ideolog': 2169, 'offset': 3107, 'dioxid': 1239, 'atmosph': 281, 'injur': 2243, 'reviv': 3790, 'load': 2602, 'nonprofit': 3038, 'highrisk': 2072, 'grammi': 1902, 'reconvict': 3664, 'patent': 3268, 'strom': 4295, 'thurmond': 4520, 'drawn': 1339, 'encourag': 1443, 'decemb': 1115, 'childcar': 741, 'headlin': 2028, 'portray': 3431, 'beholden': 397, 'lanci': 2487, 'princ': 3498, 'pristin': 3505, 'gunfr': 1957, 'eventu': 1506, 'bergdahltaliban': 420, 'outrag': 3182, 'mirror': 2858, 'asset': 266, 'fiftyseven': 1640, 'scout': 3959, 'dogtrain': 1305, 'antiabort': 187, 'assimil': 268, 'substitut': 4326, 'aclu': 41, 'graham': 1901, 'clintonsth': 806, 'fallout': 1592, 'underfund': 4702, 'twitter': 4667, 'trooper': 4634, 'inquir': 2251, 'defazio': 1134, 'depo': 1186, 'attain': 286, 'escap': 1485, 'undergo': 4703, 'digit': 1231, 'strateg': 4279, 'granit': 1907, 'fourthlowest': 1743, 'makeup': 2670, 'cresent': 1027, 'hardi': 2003, 'drain': 1335, 'oneterm': 3129, 'savannah': 3924, 'plot': 3395, 'boozman': 497, 'youtub': 4994, 'dimassimo': 1233, 'blame': 460, 'bergdahl': 419, 'fingerprint': 1656, 'mutual': 2947, 'haramb': 1995, 'object': 3085, 'trustworthi': 4645, 'iaea': 2160, 'tour': 4570, 'ireland': 2302, 'lorain': 2623, 'austinit': 302, 'highspe': 2075, 'espionag': 1487, 'orlean': 3164, 'chevron': 735, 'exxonmobil': 1567, 'shell': 4046, 'nut': 3074, 'decor': 1122, 'marin': 2710, 'tower': 4575, 'interim': 2273, 'testifi': 4474, 'worri': 4963, 'factcheck': 1575, 'demograph': 1169, 'slur': 4121, 'graybeard': 1913, 'spineless': 4203, 'jellyfish': 2345, 'suppress': 4362, 'invalid': 2285, 'particular': 3253, 'contend': 938, 'crct': 1016, 'eau': 1384, 'clair': 782, 'profici': 3526, 'entic': 1465, 'voterid': 4835, 'democraticcontrol': 1166, 'noncollegeeduc': 3031, 'otherwis': 3169, 'analyst': 165, 'dispar': 1273, 'perstud': 3338, 'odd': 3097, 'bermuda': 421, 'greiten': 1928, 'rebrand': 3651, 'dr': 1331, 'shovel': 4065, 'thirdgrad': 4502, 'sock': 4139, 'highqual': 2071, 'uk': 4679, 'inch': 2202, 'jump': 2393, 'nixon': 3018, 'everywh': 1512, 'threehour': 4516, 'onequart': 3127, 'taught': 4426, 'skin': 4107, 'provok': 3565, 'infam': 2229, 'simpl': 4083, 'survivor': 4379, 'penal': 3299, 'unauthor': 4690, 'multibillion': 2934, 'hartsfieldjackson': 2011, 'dewin': 1219, 'toilet': 4545, 'beat': 379, 'subpoena': 4317, 'inschool': 2253, 'testingwa': 4475, 'itselfit': 2322, 'sixtyfour': 4104, 'soccer': 4135, 'injunct': 2242, 'petrochem': 3347, 'aquif': 228, 'ordinari': 3154, 'prefer': 3466, 'lobster': 2606, 'inargu': 2198, 'probe': 3515, 'dirti': 1246, 'defer': 1140, 'hero': 2059, 'exon': 1533, 'fan': 1595, 'non': 3028, 'servicememb': 4015, 'dinner': 1237, 'appel': 213, 'pamphlet': 3231, 'rug': 3872, 'rothman': 3858, 'automak': 307, 'outnumb': 3176, 'blind': 464, 'filibusterproof': 1647, 'princip': 3499, 'exportimport': 1555, 'cat': 668, 'unpreced': 4737, 'compri': 882, 'mercuri': 2794, 'recycl': 3672, 'fritz': 1771, 'naral': 2953, 'guid': 1950, 'rocket': 3837, 'cours': 997, 'southerland': 4175, 'meanstest': 2759, 'yearround': 4985, 'duggar': 1359, 'megyn': 2780, 'dudley': 1357, 'govt': 1894, 'roger': 3840, 'twopet': 4670, 'surrend': 4373, 'corridor': 974, 'normal': 3046, 'strive': 4292, 'motherfriendli': 2915, 'curt': 1061, 'schill': 3946, 'teammat': 4441, 'bloodi': 467, 'limberbutt': 2584, 'mccubbin': 2754, 'fiveyearold': 1670, 'thad': 4481, 'cochran': 825, 'uncollect': 4691, 'unfund': 4716, 'dave': 1092, 'brat': 525, 'meat': 2764, 'segment': 3987, 'proabort': 3513, 'mahmoud': 2661, 'ahmadinejad': 103, 'motorist': 2920, 'connect': 916, 'environment': 1471, 'carcinogen': 640, 'hydrocarbon': 2158, 'smart': 4128, 'doortodoor': 1320, 'minnick': 2853, 'holdren': 2100, 'steril': 4260, 'cpi': 1007, 'withhold': 4943, 'solvent': 4151, 'incr': 2210, 'catch': 670, 'sung': 4345, 'riski': 3824, 'seamu': 3965, 'strap': 4278, 'stole': 4269, 'inventor': 2287, 'dhimmitud': 1221, 'merrick': 2798, 'makework': 2671, 'lugar': 2644, 'loo': 2619, 'sun': 4343, 'delano': 1151, 'denial': 1173, 'carenot': 645, 'exact': 1516, 'alarmist': 121, 'satellit': 3919, 'goodel': 1879, 'janay': 2334, 'nono': 3036, 'mich': 2816, 'lab': 2476, 'motor': 2919, 'nurs': 3073, 'orang': 3151, 'swat': 4389, 'sheet': 4041, 'clackama': 780, 'crippl': 1034, 'explain': 1547, 'hammer': 1984, 'copay': 960, 'googl': 1880, 'decept': 1116, 'unconscion': 4693, 'anniversari': 180, 'wisconsin': 4936, 'crimea': 1029, 'spousal': 4215, 'creditand': 1023, 'gall': 1798, 'columbiahca': 844, 'thanshotgun': 4484, 'ak': 115, 'concept': 889, 'howev': 2142, 'element': 1414, 'bachelor': 324, 'gpa': 1896, 'journal': 2384, 'mosquito': 2910, 'distinguish': 1284, 'mullen': 2933, 'picker': 3364, 'insist': 2257, 'anxiou': 196, 'secondhand': 3974, 'dome': 1309, 'carson': 656, 'insecur': 2254, 'georgiarussia': 1838, 'lawcau': 2516, 'item': 2321, 'pepper': 3311, 'jock': 2368, 'offenderwho': 3101, 'gruesom': 1941, 'sugar': 4336, 'auditor': 296, 'ignit': 2170, 'ultraconserv': 4683, 'lightrail': 2580, 'absenc': 19, 'expans': 1537, 'youd': 4988, 'niagara': 3007, 'marathon': 2700, 'tamerlan': 4415, 'tsarnaev': 4648, 'grave': 1910, 'sesam': 4018, 'toy': 4578, 'busiest': 593, 'nobid': 3023, 'rosalyn': 3855, 'danc': 1079, 'flight': 1682, 'leagu': 2529, 'oncebroken': 3123, 'dodd': 1298, 'confidenti': 903, 'predict': 3464, 'weekli': 4894, 'servicemen': 4016, 'releas': 3715, 'monetari': 2889, 'dem': 1160, 'pro': 3512, 'brotherhood': 550, 'malaysian': 2674, 'conglom': 910, 'gent': 1831, 'thattheyr': 4490, 'sweat': 4390, 'twitch': 4666, 'ugli': 4678, 'mitchel': 2869, 'prescrib': 3475, 'wildlif': 4924, 'fewest': 1634, 'surfac': 4365, 'biofuel': 451, 'sam': 3904, 'olen': 3120, 'tabl': 4407, 'budgetrepair': 563, 'shortterm': 4062, 'napolitano': 2952, 'madigan': 2654, 'memphi': 2786, 'branch': 522, 'discov': 1260, 'stricter': 4288, 'nondiscrimin': 3034, 'dishonest': 1268, 'trimet': 4629, 'safer': 3893, 'till': 4529, 'parlor': 3246, 'infr': 2236, 'depict': 1184, 'toughest': 4569, 'newborn': 2998, 'outstrip': 3188, 'fla': 1672, 'height': 2047, 'halfstaff': 1975, 'supermajor': 4352, 'uncov': 4696, 'interior': 2274, 'pant': 3235, 'output': 3181, 'hooter': 2123, 'peoplein': 3310, 'ipad': 2296, 'pill': 3369, 'forecast': 1712, 'daniel': 1082, 'webster': 4889, 'curb': 1055, 'tent': 4463, 'mode': 2877, 'larri': 2502, 'primarili': 3496, 'giuliani': 1856, 'flown': 1693, 'desegreg': 1197, 'tout': 4574, 'helicopt': 2049, 'itali': 2320, 'reprehen': 3744, 'toni': 4553, 'bench': 410, 'junket': 2398, 'thrown': 4519, 'palestinian': 3227, 'territori': 4469, 'wantbut': 4854, 'stagnat': 4227, 'trap': 4605, 'universitieshav': 4727, 'outpac': 3179, 'algorithm': 129, 'blue': 469, 'dec': 1111, 'scandalridden': 3941, 'textbook': 4479, 'budwei': 564, 'rggi': 3796, 'biolog': 452, 'girlfriend': 1855, 'crui': 1044, 'spoken': 4208, 'clout': 814, 'ton': 4552, 'onion': 3133, 'creek': 1025, 'cubic': 1050, 'malnutrit': 2677, 'parliament': 3245, 'jimrenacci': 2362, 'consumpt': 935, 'medal': 2767, 'fullstrength': 1781, 'isgood': 2310, 'temporarili': 4458, 'oh': 3109, 'citat': 771, 'deeper': 1130, 'beef': 387, 'brawl': 527, 'alterc': 146, 'cocain': 824, 'usborn': 4761, 'aflcio': 83, 'nike': 3012, 'trace': 4581, 'romneycar': 3846, 'divorc': 1291, 'dri': 1342, 'deceiv': 1114, 'airplan': 111, 'poison': 3402, 'liquid': 2591, 'mice': 2815, 'fafsa': 1580, 'thirti': 4507, 'hollywood': 2106, 'brief': 539, 'lamar': 2485, 'fertil': 1631, 'australia': 303, 'usda': 4762, 'autism': 305, 'parol': 3247, 'recidiv': 3657, 'paperwork': 3239, 'legitim': 2545, 'dallasfort': 1076, 'fluid': 1695, 'mica': 2814, 'jacksonvil': 2328, 'doug': 1324, 'closeddoor': 810, 'deputi': 1191, 'muddi': 2930, 'gopin': 1883, 'gardner': 1812, 'defec': 1136, 'peoplecordray': 3309, 'deserv': 1199, 'eastern': 1382, 'belittl': 400, 'bandaid': 345, 'armor': 244, 'chile': 745, 'overal': 3190, 'merger': 2796, 'healthi': 2034, 'ebay': 1385, 'richer': 3804, 'confront': 908, 'creditor': 1024, 'bondhold': 489, 'omnibu': 3122, 'postal': 3438, 'bundi': 577, 'resel': 3759, 'aarp': 2, 'financialreform': 1653, 'lo': 2601, 'angel': 171, 'manhattan': 2688, 'crimeriddl': 1031, 'thirdlargest': 4504, 'activeduti': 48, 'thirtyfour': 4508, 'schoolba': 3950, 'sellwood': 3994, 'kuster': 2473, 'meant': 2760, 'countless': 992, 'forfeit': 1720, 'prekindergarten': 3470, 'kansa': 2411, 'stuff': 4308, 'maintain': 2667, 'outspent': 3186, 'unarm': 4689, 'asthma': 272, 'hurd': 2151, 'bradley': 517, 'needi': 2978, 'transvagin': 4604, 'healththreaten': 2036, 'cousin': 999, 'unoppo': 4733, 'movi': 2925, 'tavera': 4427, 'hardli': 2004, 'infect': 2231, 'waiv': 4844, 'preci': 3456, 'forcibl': 1710, 'thensen': 4494, 'cheap': 727, 'weather': 4886, 'contrari': 944, 'devil': 1217, 'onehalf': 3125, 'forbidden': 1707, 'soda': 4140, 'forfeitur': 1721, 'wash': 4864, 'staterun': 4245, 'craft': 1010, 'normandi': 3047, 'corn': 966, 'soro': 4164, 'trademark': 4584, 'dispo': 1276, 'susan': 4380, 'laugh': 2512, 'gym': 1963, 'garden': 1811, 'underag': 4698, 'chee': 732}\n",
            "[9.04569511 8.84502442 9.63348178 ... 7.84172231 8.06486586 9.16347815]\n"
          ],
          "name": "stdout"
        },
        {
          "output_type": "execute_result",
          "data": {
            "text/plain": [
              "numpy.ndarray"
            ]
          },
          "metadata": {
            "tags": []
          },
          "execution_count": 561
        }
      ]
    },
    {
      "cell_type": "code",
      "metadata": {
        "id": "k5PzG5rSEHEH",
        "colab_type": "code",
        "outputId": "e6cf5e79-368e-494f-b1c4-7f175e2a58d2",
        "colab": {
          "base_uri": "https://localhost:8080/",
          "height": 34
        }
      },
      "source": [
        "xtrain_tfv_sum.shape"
      ],
      "execution_count": 535,
      "outputs": [
        {
          "output_type": "execute_result",
          "data": {
            "text/plain": [
              "(22465, 5000)"
            ]
          },
          "metadata": {
            "tags": []
          },
          "execution_count": 535
        }
      ]
    },
    {
      "cell_type": "code",
      "metadata": {
        "id": "LaTCj_onsLiH",
        "colab_type": "code",
        "colab": {}
      },
      "source": [
        "X_train = np.concatenate((X_train_cont, xtrain_tfv_sum,X_train_cat),axis = 1)\n",
        "#x_data = np.concatenate((x1, xdata_tfv_sum, rest_df_data),axis = 1)"
      ],
      "execution_count": 0,
      "outputs": []
    },
    {
      "cell_type": "code",
      "metadata": {
        "id": "eOxpfj3pLcPC",
        "colab_type": "code",
        "colab": {}
      },
      "source": [
        "X_test = np.concatenate((X_test_cont, xtest_tfv_sum,X_test_cat),axis = 1)"
      ],
      "execution_count": 0,
      "outputs": []
    },
    {
      "cell_type": "code",
      "metadata": {
        "id": "RcncYi1zLujS",
        "colab_type": "code",
        "colab": {
          "base_uri": "https://localhost:8080/",
          "height": 34
        },
        "outputId": "335e8d8a-d50b-46e8-df81-f2b8be4e13ea"
      },
      "source": [
        "X_train.shape, X_test.shape"
      ],
      "execution_count": 552,
      "outputs": [
        {
          "output_type": "execute_result",
          "data": {
            "text/plain": [
              "((22465, 5010), (5617, 5010))"
            ]
          },
          "metadata": {
            "tags": []
          },
          "execution_count": 552
        }
      ]
    },
    {
      "cell_type": "code",
      "metadata": {
        "id": "7MPcP47WMyeD",
        "colab_type": "code",
        "colab": {
          "base_uri": "https://localhost:8080/",
          "height": 238
        },
        "outputId": "cee09ff6-0a07-41f8-845c-ffd5b12fa52a"
      },
      "source": [
        "X_train"
      ],
      "execution_count": 553,
      "outputs": [
        {
          "output_type": "execute_result",
          "data": {
            "text/plain": [
              "array([[1.000e+00, 0.000e+00, 0.000e+00, ..., 4.600e+01, 6.000e+00,\n",
              "        3.470e+03],\n",
              "       [2.600e+01, 4.100e+01, 3.200e+01, ..., 8.000e+01, 1.900e+01,\n",
              "        1.888e+03],\n",
              "       [1.000e+00, 0.000e+00, 0.000e+00, ..., 7.000e+01, 1.900e+01,\n",
              "        6.270e+02],\n",
              "       ...,\n",
              "       [3.100e+01, 3.900e+01, 3.100e+01, ..., 2.000e+00, 1.900e+01,\n",
              "        8.600e+01],\n",
              "       [0.000e+00, 0.000e+00, 1.000e+00, ..., 1.500e+01, 6.000e+00,\n",
              "        3.382e+03],\n",
              "       [5.000e+00, 4.000e+00, 2.000e+00, ..., 6.500e+01, 1.900e+01,\n",
              "        1.953e+03]])"
            ]
          },
          "metadata": {
            "tags": []
          },
          "execution_count": 553
        }
      ]
    },
    {
      "cell_type": "code",
      "metadata": {
        "id": "PKRgW-rWuC-w",
        "colab_type": "code",
        "colab": {}
      },
      "source": [
        "# Fitting Naive Bayes to the Training set\n",
        "from sklearn.naive_bayes import GaussianNB\n",
        "classifier1 = GaussianNB()\n",
        "classifier1.fit(X_train, y_train)\n",
        "y_pred = classifier1.predict(X_test)"
      ],
      "execution_count": 0,
      "outputs": []
    },
    {
      "cell_type": "code",
      "metadata": {
        "id": "7XVNWj9FuDFh",
        "colab_type": "code",
        "colab": {}
      },
      "source": [
        "# Making the Confusion Matrix\n",
        "from sklearn.metrics import confusion_matrix\n",
        "cm = confusion_matrix(y_test, y_pred)"
      ],
      "execution_count": 0,
      "outputs": []
    },
    {
      "cell_type": "code",
      "metadata": {
        "id": "RqVrBhT6uDD9",
        "colab_type": "code",
        "colab": {
          "base_uri": "https://localhost:8080/",
          "height": 34
        },
        "outputId": "15b19728-9344-4bf6-8b7d-c79a59d32121"
      },
      "source": [
        "# Applying k-Fold Cross Validation\n",
        "from sklearn.model_selection import cross_val_score\n",
        "accuracies = cross_val_score(estimator = classifier1, X = X_train, y = y_train, cv = 10)"
      ],
      "execution_count": 564,
      "outputs": [
        {
          "output_type": "execute_result",
          "data": {
            "text/plain": [
              "0.5457407580103398"
            ]
          },
          "metadata": {
            "tags": []
          },
          "execution_count": 564
        }
      ]
    },
    {
      "cell_type": "code",
      "metadata": {
        "id": "SIZejKGjQB0X",
        "colab_type": "code",
        "colab": {
          "base_uri": "https://localhost:8080/",
          "height": 34
        },
        "outputId": "401a0e0f-9b4b-4641-85d0-96ce591f9548"
      },
      "source": [
        "print('Mean Absolute Error for Naive Bayes %2f' %(-1 * accuracies.mean()))"
      ],
      "execution_count": 565,
      "outputs": [
        {
          "output_type": "stream",
          "text": [
            "Mean Absolute Error -0.545741\n"
          ],
          "name": "stdout"
        }
      ]
    },
    {
      "cell_type": "code",
      "metadata": {
        "id": "X53in8eTQyVF",
        "colab_type": "code",
        "colab": {}
      },
      "source": [
        "ans = labelencoder.inverse_transform(y_pred)\n",
        "type(ans)\n",
        "ans = pd.DataFrame(ans)"
      ],
      "execution_count": 0,
      "outputs": []
    },
    {
      "cell_type": "code",
      "metadata": {
        "id": "7rYGmlBRRUhB",
        "colab_type": "code",
        "colab": {}
      },
      "source": [
        ""
      ],
      "execution_count": 0,
      "outputs": []
    },
    {
      "cell_type": "markdown",
      "metadata": {
        "id": "v0Zg8mVCRYnc",
        "colab_type": "text"
      },
      "source": [
        "**Trying Logistic Regression Too**"
      ]
    },
    {
      "cell_type": "code",
      "metadata": {
        "id": "tAJ_lPHcRUdk",
        "colab_type": "code",
        "colab": {}
      },
      "source": [
        ""
      ],
      "execution_count": 0,
      "outputs": []
    },
    {
      "cell_type": "code",
      "metadata": {
        "id": "0qfO-_yjRUak",
        "colab_type": "code",
        "colab": {}
      },
      "source": [
        ""
      ],
      "execution_count": 0,
      "outputs": []
    },
    {
      "cell_type": "code",
      "metadata": {
        "id": "dsmCMuVvsLaY",
        "colab_type": "code",
        "outputId": "a6554095-0b56-4d44-cc97-b1c845e0af07",
        "colab": {
          "base_uri": "https://localhost:8080/",
          "height": 71
        }
      },
      "source": [
        "from sklearn.linear_model import LogisticRegression\n",
        "classifier=LogisticRegression(solver='lbfgs',multi_class='multinomial',random_state=0,C=10)\n",
        "classifier.fit(X_train, y_train)\n",
        "y_pred1 = classifier.predict(X_test)"
      ],
      "execution_count": 568,
      "outputs": [
        {
          "output_type": "stream",
          "text": [
            "/usr/local/lib/python3.6/dist-packages/sklearn/linear_model/logistic.py:947: ConvergenceWarning: lbfgs failed to converge. Increase the number of iterations.\n",
            "  \"of iterations.\", ConvergenceWarning)\n"
          ],
          "name": "stderr"
        }
      ]
    },
    {
      "cell_type": "code",
      "metadata": {
        "id": "VeasdO5nR9cF",
        "colab_type": "code",
        "colab": {}
      },
      "source": [
        "# Making the Confusion Matrix\n",
        "from sklearn.metrics import confusion_matrix\n",
        "cm = confusion_matrix(y_test, y_pred1)"
      ],
      "execution_count": 0,
      "outputs": []
    },
    {
      "cell_type": "code",
      "metadata": {
        "id": "kcuAsmZyR9Xz",
        "colab_type": "code",
        "colab": {
          "base_uri": "https://localhost:8080/",
          "height": 377
        },
        "outputId": "bddfbb45-973d-465f-c9b5-d0ff51a6ac6c"
      },
      "source": [
        "# Applying k-Fold Cross Validation\n",
        "from sklearn.model_selection import cross_val_score\n",
        "accuracies1 = cross_val_score(estimator = classifier, X = X_train, y = y_train, cv = 10)"
      ],
      "execution_count": 576,
      "outputs": [
        {
          "output_type": "stream",
          "text": [
            "/usr/local/lib/python3.6/dist-packages/sklearn/linear_model/logistic.py:947: ConvergenceWarning: lbfgs failed to converge. Increase the number of iterations.\n",
            "  \"of iterations.\", ConvergenceWarning)\n",
            "/usr/local/lib/python3.6/dist-packages/sklearn/linear_model/logistic.py:947: ConvergenceWarning: lbfgs failed to converge. Increase the number of iterations.\n",
            "  \"of iterations.\", ConvergenceWarning)\n",
            "/usr/local/lib/python3.6/dist-packages/sklearn/linear_model/logistic.py:947: ConvergenceWarning: lbfgs failed to converge. Increase the number of iterations.\n",
            "  \"of iterations.\", ConvergenceWarning)\n",
            "/usr/local/lib/python3.6/dist-packages/sklearn/linear_model/logistic.py:947: ConvergenceWarning: lbfgs failed to converge. Increase the number of iterations.\n",
            "  \"of iterations.\", ConvergenceWarning)\n",
            "/usr/local/lib/python3.6/dist-packages/sklearn/linear_model/logistic.py:947: ConvergenceWarning: lbfgs failed to converge. Increase the number of iterations.\n",
            "  \"of iterations.\", ConvergenceWarning)\n",
            "/usr/local/lib/python3.6/dist-packages/sklearn/linear_model/logistic.py:947: ConvergenceWarning: lbfgs failed to converge. Increase the number of iterations.\n",
            "  \"of iterations.\", ConvergenceWarning)\n",
            "/usr/local/lib/python3.6/dist-packages/sklearn/linear_model/logistic.py:947: ConvergenceWarning: lbfgs failed to converge. Increase the number of iterations.\n",
            "  \"of iterations.\", ConvergenceWarning)\n",
            "/usr/local/lib/python3.6/dist-packages/sklearn/linear_model/logistic.py:947: ConvergenceWarning: lbfgs failed to converge. Increase the number of iterations.\n",
            "  \"of iterations.\", ConvergenceWarning)\n",
            "/usr/local/lib/python3.6/dist-packages/sklearn/linear_model/logistic.py:947: ConvergenceWarning: lbfgs failed to converge. Increase the number of iterations.\n",
            "  \"of iterations.\", ConvergenceWarning)\n",
            "/usr/local/lib/python3.6/dist-packages/sklearn/linear_model/logistic.py:947: ConvergenceWarning: lbfgs failed to converge. Increase the number of iterations.\n",
            "  \"of iterations.\", ConvergenceWarning)\n"
          ],
          "name": "stderr"
        }
      ]
    },
    {
      "cell_type": "code",
      "metadata": {
        "id": "V4LYBHzWSFGP",
        "colab_type": "code",
        "colab": {
          "base_uri": "https://localhost:8080/",
          "height": 34
        },
        "outputId": "3edda457-970f-4681-e1bc-1acd7c5e40dc"
      },
      "source": [
        "print('Mean Absolute Error for Logistic Regression %2f' %(-1 * accuracies1.mean()))"
      ],
      "execution_count": 578,
      "outputs": [
        {
          "output_type": "stream",
          "text": [
            "Mean Absolute Error for Logistic Regression -0.245670\n"
          ],
          "name": "stdout"
        }
      ]
    },
    {
      "cell_type": "code",
      "metadata": {
        "id": "WgC3mKhaeuLs",
        "colab_type": "code",
        "colab": {}
      },
      "source": [
        "ans1 = labelencoder.inverse_transform(y_pred1)\n",
        "type(ans1)\n",
        "ans1 = pd.DataFrame(ans1)"
      ],
      "execution_count": 0,
      "outputs": []
    },
    {
      "cell_type": "code",
      "metadata": {
        "id": "u-JaHYWhfJPJ",
        "colab_type": "code",
        "colab": {}
      },
      "source": [
        "######################################################################################################"
      ],
      "execution_count": 0,
      "outputs": []
    },
    {
      "cell_type": "code",
      "metadata": {
        "id": "kM-YH_1l-u8d",
        "colab_type": "code",
        "colab": {}
      },
      "source": [
        ""
      ],
      "execution_count": 0,
      "outputs": []
    }
  ]
}