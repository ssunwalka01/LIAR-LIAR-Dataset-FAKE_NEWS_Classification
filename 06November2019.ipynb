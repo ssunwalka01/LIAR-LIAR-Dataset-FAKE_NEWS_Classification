{
  "nbformat": 4,
  "nbformat_minor": 0,
  "metadata": {
    "kernelspec": {
      "display_name": "Python 3",
      "language": "python",
      "name": "python3"
    },
    "language_info": {
      "codemirror_mode": {
        "name": "ipython",
        "version": 3
      },
      "file_extension": ".py",
      "mimetype": "text/x-python",
      "name": "python",
      "nbconvert_exporter": "python",
      "pygments_lexer": "ipython3",
      "version": "3.7.3"
    },
    "colab": {
      "name": "06November2019.ipynb",
      "provenance": [],
      "collapsed_sections": [],
      "toc_visible": true,
      "include_colab_link": true
    }
  },
  "cells": [
    {
      "cell_type": "markdown",
      "metadata": {
        "id": "view-in-github",
        "colab_type": "text"
      },
      "source": [
        "<a href=\"https://colab.research.google.com/github/ssunwalka01/LIAR-LIAR-Dataset-FAKE_NEWS_Classification/blob/master/06November2019.ipynb\" target=\"_parent\"><img src=\"https://colab.research.google.com/assets/colab-badge.svg\" alt=\"Open In Colab\"/></a>"
      ]
    },
    {
      "cell_type": "markdown",
      "metadata": {
        "id": "xNqu5CgBcwcQ",
        "colab_type": "text"
      },
      "source": [
        "# LIAR LIAR Dataset Clasification (Fake-News Analysis)"
      ]
    },
    {
      "cell_type": "markdown",
      "metadata": {
        "id": "xVoeeiBxcwcT",
        "colab_type": "text"
      },
      "source": [
        "Let’s look at the steps that we will follow in this course.\n",
        "\n",
        "- Problem Statement\n",
        "- Hypothesis Generation\n",
        "- Getting the system ready and loading the data\n",
        "- Understanding the data\n",
        "- Exploratory Data Analysis (EDA)\n",
        "- Univariate Analysis\n",
        "- Bivariate Analysis\n",
        "- Missing value and outlier treatment\n",
        "- Evaluation Metrics for classification problems\n",
        "-    Model Building : Part I\n",
        "- Logistic Regression using stratified k-folds cross validation\n",
        "- Feature Engineering\n",
        "- Model Building : Part II\n",
        "- Logistic Regression\n",
        "- Decision tree\n",
        "- Random Forest\n",
        "- XGBoost\n",
        "Lets look at each section in detail."
      ]
    },
    {
      "cell_type": "markdown",
      "metadata": {
        "id": "yUzHWYLucwcU",
        "colab_type": "text"
      },
      "source": [
        "It is a classification problem where we have to predict whether a News Statement would be classified as Fake or Not. In a classification problem, we have to predict discrete values based on a given set of independent variable(s). Classification can be of two types:\n",
        "\n",
        "- Binary Classification : In this classification we have to predict either of the two given classes. For example: classifying the gender as male or female, predicting the result as win or loss, etc.\n",
        "- Multiclass Classification : Here we have to classify the data into three or more classes. For example: classifying a movie's genre as comedy, action or romantic, classify fruits as oranges, apples, or pears, etc."
      ]
    },
    {
      "cell_type": "code",
      "metadata": {
        "id": "pER5hD54cwcV",
        "colab_type": "code",
        "colab": {}
      },
      "source": [
        "# importing packages\n",
        "import pandas as pd \n",
        "import numpy as np                     # For mathematical calculations \n",
        "import seaborn as sns                  # For data visualization \n",
        "import matplotlib.pyplot as plt        # For plotting graphs \n",
        "%matplotlib inline \n",
        "import warnings                        # To ignore any warnings warnings.filterwarnings(\"ignore\")"
      ],
      "execution_count": 0,
      "outputs": []
    },
    {
      "cell_type": "code",
      "metadata": {
        "id": "afKCp1_pcwcY",
        "colab_type": "code",
        "colab": {}
      },
      "source": [
        "##################\n",
        "import seaborn as sns\n",
        "from sklearn.preprocessing import MinMaxScaler\n",
        "#from sklearn.cross_validation import train_test_split\n",
        "from sklearn.model_selection import train_test_split\n",
        "\n",
        "from sklearn.neighbors import KNeighborsClassifier\n",
        "from sklearn.metrics import f1_score\n",
        "from sklearn.feature_extraction.text import TfidfVectorizer, CountVectorizer\n",
        "from nltk.stem.porter import PorterStemmer\n",
        "\n",
        "import pandas as pd\n",
        "import numpy as np\n",
        "import matplotlib.pyplot as plt\n",
        "from sklearn.model_selection import cross_val_score\n",
        "import nltk\n",
        "import re\n",
        "import codecs\n",
        "import seaborn as sns\n",
        "from sklearn.preprocessing import LabelEncoder, OneHotEncoder\n",
        "#from sklearn.cross_validation import train_test_split\n",
        "from sklearn.neighbors import KNeighborsClassifier\n",
        "from sklearn.metrics import f1_score"
      ],
      "execution_count": 0,
      "outputs": []
    },
    {
      "cell_type": "markdown",
      "metadata": {
        "id": "DbLFVd_tcwcb",
        "colab_type": "text"
      },
      "source": [
        "# Data"
      ]
    },
    {
      "cell_type": "markdown",
      "metadata": {
        "id": "xsG9kz5Kcwcc",
        "colab_type": "text"
      },
      "source": [
        "For this practice problem, we have been given three CSV files: train, test and sample submission.\n",
        "\n",
        "- Train file will be used for training the model, i.e. our model will learn from this file. It contains all the independent variables and the target variable.\n",
        "- Test file contains all the independent variables, but not the target variable. We will apply the model to predict the target variable for the test data.\n",
        "- Sample submission file contains the format in which we have to submit our predictions."
      ]
    },
    {
      "cell_type": "markdown",
      "metadata": {
        "id": "7kpjZ0Gkcwcd",
        "colab_type": "text"
      },
      "source": [
        "- Let's start with loading the data\n",
        "PS: The data was in 'tsv' format which is then converted into 'csv' format later for analysing purpose.\n",
        "The Dataset available for the research purpose containg train,test and validation sets."
      ]
    },
    {
      "cell_type": "code",
      "metadata": {
        "id": "UXBXqNCGcwce",
        "colab_type": "code",
        "colab": {}
      },
      "source": [
        "# converting train, test, and valid datasets into csv format\n",
        "#train\n",
        "tsv_file='/content/train.tsv'\n",
        "csv_table=pd.read_table(tsv_file,sep='\\t')\n",
        "csv_table.to_csv('train_converted.csv',index=False)"
      ],
      "execution_count": 0,
      "outputs": []
    },
    {
      "cell_type": "code",
      "metadata": {
        "id": "pdYpc8TNcwch",
        "colab_type": "code",
        "colab": {}
      },
      "source": [
        "#test\n",
        "tsv_file1='/content/test.tsv'\n",
        "csv_table1=pd.read_table(tsv_file1,sep='\\t')\n",
        "csv_table1.to_csv('test_converted.csv',index=False)"
      ],
      "execution_count": 0,
      "outputs": []
    },
    {
      "cell_type": "code",
      "metadata": {
        "id": "KjWJLg8Ccwck",
        "colab_type": "code",
        "colab": {}
      },
      "source": [
        "#valid\n",
        "tsv_file2='/content/valid.tsv'\n",
        "csv_table2=pd.read_table(tsv_file2,sep='\\t')\n",
        "csv_table2.to_csv('valid_converted.csv',index=False)"
      ],
      "execution_count": 0,
      "outputs": []
    },
    {
      "cell_type": "markdown",
      "metadata": {
        "id": "ezS1HmZ5cwcn",
        "colab_type": "text"
      },
      "source": [
        "# Reading Data"
      ]
    },
    {
      "cell_type": "code",
      "metadata": {
        "id": "TB25_0ANcwcn",
        "colab_type": "code",
        "colab": {}
      },
      "source": [
        "train=pd.read_csv('/content/train_converted.csv')\n",
        "test=pd.read_csv('/content/test_converted.csv')\n",
        "valid=pd.read_csv('/content/valid_converted.csv')"
      ],
      "execution_count": 0,
      "outputs": []
    },
    {
      "cell_type": "code",
      "metadata": {
        "id": "CmpdqWaNcwcq",
        "colab_type": "code",
        "outputId": "b00180a8-a2bf-447b-8aca-9bb0169c4b6e",
        "colab": {
          "base_uri": "https://localhost:8080/",
          "height": 105
        }
      },
      "source": [
        "train.columns"
      ],
      "execution_count": 7,
      "outputs": [
        {
          "output_type": "execute_result",
          "data": {
            "text/plain": [
              "Index(['2635.json', 'false',\n",
              "       'Says the Annies List political group supports third-trimester abortions on demand.',\n",
              "       'abortion', 'dwayne-bohac', 'State representative', 'Texas',\n",
              "       'republican', '0', '1', '0.1', '0.2', '0.3', 'a mailer'],\n",
              "      dtype='object')"
            ]
          },
          "metadata": {
            "tags": []
          },
          "execution_count": 7
        }
      ]
    },
    {
      "cell_type": "code",
      "metadata": {
        "id": "GVY_G6v_cwcs",
        "colab_type": "code",
        "colab": {}
      },
      "source": [
        "# Naming columns\n",
        "train.columns=[\"ID\",\"Label\",\"Statement\",\"Subject(s)\",\"Speaker\",\"Speaker's job title\",\"state info\",\"party affiliation\",\"barely true counts\",\"false counts\",\"half true counts\",\"mostly true counts\",\"pants on fire counts\",\"the context (venue/location of speech or statement)\"]"
      ],
      "execution_count": 0,
      "outputs": []
    },
    {
      "cell_type": "code",
      "metadata": {
        "id": "QuJjmTxIcwcv",
        "colab_type": "code",
        "outputId": "c3558e67-ffdc-4cb4-bcf9-4b22461c5440",
        "colab": {
          "base_uri": "https://localhost:8080/",
          "height": 684
        }
      },
      "source": [
        "train.head()"
      ],
      "execution_count": 9,
      "outputs": [
        {
          "output_type": "execute_result",
          "data": {
            "text/html": [
              "<div>\n",
              "<style scoped>\n",
              "    .dataframe tbody tr th:only-of-type {\n",
              "        vertical-align: middle;\n",
              "    }\n",
              "\n",
              "    .dataframe tbody tr th {\n",
              "        vertical-align: top;\n",
              "    }\n",
              "\n",
              "    .dataframe thead th {\n",
              "        text-align: right;\n",
              "    }\n",
              "</style>\n",
              "<table border=\"1\" class=\"dataframe\">\n",
              "  <thead>\n",
              "    <tr style=\"text-align: right;\">\n",
              "      <th></th>\n",
              "      <th>ID</th>\n",
              "      <th>Label</th>\n",
              "      <th>Statement</th>\n",
              "      <th>Subject(s)</th>\n",
              "      <th>Speaker</th>\n",
              "      <th>Speaker's job title</th>\n",
              "      <th>state info</th>\n",
              "      <th>party affiliation</th>\n",
              "      <th>barely true counts</th>\n",
              "      <th>false counts</th>\n",
              "      <th>half true counts</th>\n",
              "      <th>mostly true counts</th>\n",
              "      <th>pants on fire counts</th>\n",
              "      <th>the context (venue/location of speech or statement)</th>\n",
              "    </tr>\n",
              "  </thead>\n",
              "  <tbody>\n",
              "    <tr>\n",
              "      <th>0</th>\n",
              "      <td>10540.json</td>\n",
              "      <td>half-true</td>\n",
              "      <td>When did the decline of coal start? It started...</td>\n",
              "      <td>energy,history,job-accomplishments</td>\n",
              "      <td>scott-surovell</td>\n",
              "      <td>State delegate</td>\n",
              "      <td>Virginia</td>\n",
              "      <td>democrat</td>\n",
              "      <td>0.0</td>\n",
              "      <td>0.0</td>\n",
              "      <td>1.0</td>\n",
              "      <td>1.0</td>\n",
              "      <td>0.0</td>\n",
              "      <td>a floor speech.</td>\n",
              "    </tr>\n",
              "    <tr>\n",
              "      <th>1</th>\n",
              "      <td>324.json</td>\n",
              "      <td>mostly-true</td>\n",
              "      <td>Hillary Clinton agrees with John McCain \"by vo...</td>\n",
              "      <td>foreign-policy</td>\n",
              "      <td>barack-obama</td>\n",
              "      <td>President</td>\n",
              "      <td>Illinois</td>\n",
              "      <td>democrat</td>\n",
              "      <td>70.0</td>\n",
              "      <td>71.0</td>\n",
              "      <td>160.0</td>\n",
              "      <td>163.0</td>\n",
              "      <td>9.0</td>\n",
              "      <td>Denver</td>\n",
              "    </tr>\n",
              "    <tr>\n",
              "      <th>2</th>\n",
              "      <td>1123.json</td>\n",
              "      <td>false</td>\n",
              "      <td>Health care reform legislation is likely to ma...</td>\n",
              "      <td>health-care</td>\n",
              "      <td>blog-posting</td>\n",
              "      <td>NaN</td>\n",
              "      <td>NaN</td>\n",
              "      <td>none</td>\n",
              "      <td>7.0</td>\n",
              "      <td>19.0</td>\n",
              "      <td>3.0</td>\n",
              "      <td>5.0</td>\n",
              "      <td>44.0</td>\n",
              "      <td>a news release</td>\n",
              "    </tr>\n",
              "    <tr>\n",
              "      <th>3</th>\n",
              "      <td>9028.json</td>\n",
              "      <td>half-true</td>\n",
              "      <td>The economic turnaround started at the end of ...</td>\n",
              "      <td>economy,jobs</td>\n",
              "      <td>charlie-crist</td>\n",
              "      <td>NaN</td>\n",
              "      <td>Florida</td>\n",
              "      <td>democrat</td>\n",
              "      <td>15.0</td>\n",
              "      <td>9.0</td>\n",
              "      <td>20.0</td>\n",
              "      <td>19.0</td>\n",
              "      <td>2.0</td>\n",
              "      <td>an interview on CNN</td>\n",
              "    </tr>\n",
              "    <tr>\n",
              "      <th>4</th>\n",
              "      <td>12465.json</td>\n",
              "      <td>true</td>\n",
              "      <td>The Chicago Bears have had more starting quart...</td>\n",
              "      <td>education</td>\n",
              "      <td>robin-vos</td>\n",
              "      <td>Wisconsin Assembly speaker</td>\n",
              "      <td>Wisconsin</td>\n",
              "      <td>republican</td>\n",
              "      <td>0.0</td>\n",
              "      <td>3.0</td>\n",
              "      <td>2.0</td>\n",
              "      <td>5.0</td>\n",
              "      <td>1.0</td>\n",
              "      <td>a an online opinion-piece</td>\n",
              "    </tr>\n",
              "  </tbody>\n",
              "</table>\n",
              "</div>"
            ],
            "text/plain": [
              "           ID  ... the context (venue/location of speech or statement)\n",
              "0  10540.json  ...                                    a floor speech. \n",
              "1    324.json  ...                                             Denver \n",
              "2   1123.json  ...                                     a news release \n",
              "3   9028.json  ...                                an interview on CNN \n",
              "4  12465.json  ...                          a an online opinion-piece \n",
              "\n",
              "[5 rows x 14 columns]"
            ]
          },
          "metadata": {
            "tags": []
          },
          "execution_count": 9
        }
      ]
    },
    {
      "cell_type": "code",
      "metadata": {
        "id": "j0F65RQBcwcy",
        "colab_type": "code",
        "outputId": "41780100-1723-41de-e80d-8a6280302789",
        "colab": {
          "base_uri": "https://localhost:8080/",
          "height": 34
        }
      },
      "source": [
        "train.shape"
      ],
      "execution_count": 10,
      "outputs": [
        {
          "output_type": "execute_result",
          "data": {
            "text/plain": [
              "(10239, 14)"
            ]
          },
          "metadata": {
            "tags": []
          },
          "execution_count": 10
        }
      ]
    },
    {
      "cell_type": "code",
      "metadata": {
        "id": "8uTeAgnXcwc0",
        "colab_type": "code",
        "outputId": "6d6e1997-8d34-43ef-a988-22aa7761fa80",
        "colab": {
          "base_uri": "https://localhost:8080/",
          "height": 34
        }
      },
      "source": [
        "test.shape"
      ],
      "execution_count": 11,
      "outputs": [
        {
          "output_type": "execute_result",
          "data": {
            "text/plain": [
              "(1266, 14)"
            ]
          },
          "metadata": {
            "tags": []
          },
          "execution_count": 11
        }
      ]
    },
    {
      "cell_type": "code",
      "metadata": {
        "id": "uNiSbwvrcwc2",
        "colab_type": "code",
        "outputId": "d619cfb8-d8c8-4755-c5f3-e477f2f33fda",
        "colab": {
          "base_uri": "https://localhost:8080/",
          "height": 34
        }
      },
      "source": [
        "valid.shape"
      ],
      "execution_count": 12,
      "outputs": [
        {
          "output_type": "execute_result",
          "data": {
            "text/plain": [
              "(1283, 14)"
            ]
          },
          "metadata": {
            "tags": []
          },
          "execution_count": 12
        }
      ]
    },
    {
      "cell_type": "code",
      "metadata": {
        "id": "EpYxa2G4cwc5",
        "colab_type": "code",
        "colab": {}
      },
      "source": [
        "# Naming columns \n",
        "test.columns=[\"ID\",\"Label\",\"Statement\",\"Subject(s)\",\"Speaker\",\"Speaker's job title\",\"state info\",\"party affiliation\",\"barely true counts\",\"false counts\",\"half true counts\",\"mostly true counts\",\"pants on fire counts\",\"the context (venue/location of speech or statement)\"]"
      ],
      "execution_count": 0,
      "outputs": []
    },
    {
      "cell_type": "code",
      "metadata": {
        "id": "WBrFfnBFcwc7",
        "colab_type": "code",
        "colab": {}
      },
      "source": [
        "# Naming columns \n",
        "valid.columns=[\"ID\",\"Label\",\"Statement\",\"Subject(s)\",\"Speaker\",\"Speaker's job title\",\"state info\",\"party affiliation\",\"barely true counts\",\"false counts\",\"half true counts\",\"mostly true counts\",\"pants on fire counts\",\"the context (venue/location of speech or statement)\"]"
      ],
      "execution_count": 0,
      "outputs": []
    },
    {
      "cell_type": "markdown",
      "metadata": {
        "id": "GfPRQQp1cwc-",
        "colab_type": "text"
      },
      "source": [
        "Let’s make a copy of train and test data so that even if we have to make any changes in these datasets we would not lose the original datasets.\n"
      ]
    },
    {
      "cell_type": "code",
      "metadata": {
        "id": "LOH6t8lvcwc-",
        "colab_type": "code",
        "colab": {}
      },
      "source": [
        "train_copy=pd.read_csv('train.csv').copy()\n",
        "test_copy=pd.read_csv('test.csv').copy()\n",
        "valid_copy=pd.read_csv('valid.csv').copy()"
      ],
      "execution_count": 0,
      "outputs": []
    },
    {
      "cell_type": "code",
      "metadata": {
        "id": "sRyTnT-FcwdB",
        "colab_type": "code",
        "outputId": "bac466ec-608a-4d23-c198-7a41b3b96489",
        "colab": {
          "base_uri": "https://localhost:8080/",
          "height": 1000
        }
      },
      "source": [
        "train.head(10)"
      ],
      "execution_count": 16,
      "outputs": [
        {
          "output_type": "execute_result",
          "data": {
            "text/html": [
              "<div>\n",
              "<style scoped>\n",
              "    .dataframe tbody tr th:only-of-type {\n",
              "        vertical-align: middle;\n",
              "    }\n",
              "\n",
              "    .dataframe tbody tr th {\n",
              "        vertical-align: top;\n",
              "    }\n",
              "\n",
              "    .dataframe thead th {\n",
              "        text-align: right;\n",
              "    }\n",
              "</style>\n",
              "<table border=\"1\" class=\"dataframe\">\n",
              "  <thead>\n",
              "    <tr style=\"text-align: right;\">\n",
              "      <th></th>\n",
              "      <th>ID</th>\n",
              "      <th>Label</th>\n",
              "      <th>Statement</th>\n",
              "      <th>Subject(s)</th>\n",
              "      <th>Speaker</th>\n",
              "      <th>Speaker's job title</th>\n",
              "      <th>state info</th>\n",
              "      <th>party affiliation</th>\n",
              "      <th>barely true counts</th>\n",
              "      <th>false counts</th>\n",
              "      <th>half true counts</th>\n",
              "      <th>mostly true counts</th>\n",
              "      <th>pants on fire counts</th>\n",
              "      <th>the context (venue/location of speech or statement)</th>\n",
              "    </tr>\n",
              "  </thead>\n",
              "  <tbody>\n",
              "    <tr>\n",
              "      <th>0</th>\n",
              "      <td>10540.json</td>\n",
              "      <td>half-true</td>\n",
              "      <td>When did the decline of coal start? It started...</td>\n",
              "      <td>energy,history,job-accomplishments</td>\n",
              "      <td>scott-surovell</td>\n",
              "      <td>State delegate</td>\n",
              "      <td>Virginia</td>\n",
              "      <td>democrat</td>\n",
              "      <td>0.0</td>\n",
              "      <td>0.0</td>\n",
              "      <td>1.0</td>\n",
              "      <td>1.0</td>\n",
              "      <td>0.0</td>\n",
              "      <td>a floor speech.</td>\n",
              "    </tr>\n",
              "    <tr>\n",
              "      <th>1</th>\n",
              "      <td>324.json</td>\n",
              "      <td>mostly-true</td>\n",
              "      <td>Hillary Clinton agrees with John McCain \"by vo...</td>\n",
              "      <td>foreign-policy</td>\n",
              "      <td>barack-obama</td>\n",
              "      <td>President</td>\n",
              "      <td>Illinois</td>\n",
              "      <td>democrat</td>\n",
              "      <td>70.0</td>\n",
              "      <td>71.0</td>\n",
              "      <td>160.0</td>\n",
              "      <td>163.0</td>\n",
              "      <td>9.0</td>\n",
              "      <td>Denver</td>\n",
              "    </tr>\n",
              "    <tr>\n",
              "      <th>2</th>\n",
              "      <td>1123.json</td>\n",
              "      <td>false</td>\n",
              "      <td>Health care reform legislation is likely to ma...</td>\n",
              "      <td>health-care</td>\n",
              "      <td>blog-posting</td>\n",
              "      <td>NaN</td>\n",
              "      <td>NaN</td>\n",
              "      <td>none</td>\n",
              "      <td>7.0</td>\n",
              "      <td>19.0</td>\n",
              "      <td>3.0</td>\n",
              "      <td>5.0</td>\n",
              "      <td>44.0</td>\n",
              "      <td>a news release</td>\n",
              "    </tr>\n",
              "    <tr>\n",
              "      <th>3</th>\n",
              "      <td>9028.json</td>\n",
              "      <td>half-true</td>\n",
              "      <td>The economic turnaround started at the end of ...</td>\n",
              "      <td>economy,jobs</td>\n",
              "      <td>charlie-crist</td>\n",
              "      <td>NaN</td>\n",
              "      <td>Florida</td>\n",
              "      <td>democrat</td>\n",
              "      <td>15.0</td>\n",
              "      <td>9.0</td>\n",
              "      <td>20.0</td>\n",
              "      <td>19.0</td>\n",
              "      <td>2.0</td>\n",
              "      <td>an interview on CNN</td>\n",
              "    </tr>\n",
              "    <tr>\n",
              "      <th>4</th>\n",
              "      <td>12465.json</td>\n",
              "      <td>true</td>\n",
              "      <td>The Chicago Bears have had more starting quart...</td>\n",
              "      <td>education</td>\n",
              "      <td>robin-vos</td>\n",
              "      <td>Wisconsin Assembly speaker</td>\n",
              "      <td>Wisconsin</td>\n",
              "      <td>republican</td>\n",
              "      <td>0.0</td>\n",
              "      <td>3.0</td>\n",
              "      <td>2.0</td>\n",
              "      <td>5.0</td>\n",
              "      <td>1.0</td>\n",
              "      <td>a an online opinion-piece</td>\n",
              "    </tr>\n",
              "    <tr>\n",
              "      <th>5</th>\n",
              "      <td>2342.json</td>\n",
              "      <td>barely-true</td>\n",
              "      <td>Jim Dunnam has not lived in the district he re...</td>\n",
              "      <td>candidates-biography</td>\n",
              "      <td>republican-party-texas</td>\n",
              "      <td>NaN</td>\n",
              "      <td>Texas</td>\n",
              "      <td>republican</td>\n",
              "      <td>3.0</td>\n",
              "      <td>1.0</td>\n",
              "      <td>1.0</td>\n",
              "      <td>3.0</td>\n",
              "      <td>1.0</td>\n",
              "      <td>a press release.</td>\n",
              "    </tr>\n",
              "    <tr>\n",
              "      <th>6</th>\n",
              "      <td>153.json</td>\n",
              "      <td>half-true</td>\n",
              "      <td>I'm the only person on this stage who has work...</td>\n",
              "      <td>ethics</td>\n",
              "      <td>barack-obama</td>\n",
              "      <td>President</td>\n",
              "      <td>Illinois</td>\n",
              "      <td>democrat</td>\n",
              "      <td>70.0</td>\n",
              "      <td>71.0</td>\n",
              "      <td>160.0</td>\n",
              "      <td>163.0</td>\n",
              "      <td>9.0</td>\n",
              "      <td>a Democratic debate in Philadelphia, Pa.</td>\n",
              "    </tr>\n",
              "    <tr>\n",
              "      <th>7</th>\n",
              "      <td>5602.json</td>\n",
              "      <td>half-true</td>\n",
              "      <td>However, it took $19.5 million in Oregon Lotte...</td>\n",
              "      <td>jobs</td>\n",
              "      <td>oregon-lottery</td>\n",
              "      <td>NaN</td>\n",
              "      <td>NaN</td>\n",
              "      <td>organization</td>\n",
              "      <td>0.0</td>\n",
              "      <td>0.0</td>\n",
              "      <td>1.0</td>\n",
              "      <td>0.0</td>\n",
              "      <td>1.0</td>\n",
              "      <td>a website</td>\n",
              "    </tr>\n",
              "    <tr>\n",
              "      <th>8</th>\n",
              "      <td>9741.json</td>\n",
              "      <td>mostly-true</td>\n",
              "      <td>Says GOP primary opponents Glenn Grothman and ...</td>\n",
              "      <td>energy,message-machine-2014,voting-record</td>\n",
              "      <td>duey-stroebel</td>\n",
              "      <td>State representative</td>\n",
              "      <td>Wisconsin</td>\n",
              "      <td>republican</td>\n",
              "      <td>0.0</td>\n",
              "      <td>0.0</td>\n",
              "      <td>0.0</td>\n",
              "      <td>1.0</td>\n",
              "      <td>0.0</td>\n",
              "      <td>an online video</td>\n",
              "    </tr>\n",
              "    <tr>\n",
              "      <th>9</th>\n",
              "      <td>7115.json</td>\n",
              "      <td>mostly-true</td>\n",
              "      <td>For the first time in history, the share of th...</td>\n",
              "      <td>elections</td>\n",
              "      <td>robert-menendez</td>\n",
              "      <td>U.S. Senator</td>\n",
              "      <td>New Jersey</td>\n",
              "      <td>democrat</td>\n",
              "      <td>1.0</td>\n",
              "      <td>3.0</td>\n",
              "      <td>1.0</td>\n",
              "      <td>3.0</td>\n",
              "      <td>0.0</td>\n",
              "      <td>a speech</td>\n",
              "    </tr>\n",
              "  </tbody>\n",
              "</table>\n",
              "</div>"
            ],
            "text/plain": [
              "           ID  ... the context (venue/location of speech or statement)\n",
              "0  10540.json  ...                                    a floor speech. \n",
              "1    324.json  ...                                             Denver \n",
              "2   1123.json  ...                                     a news release \n",
              "3   9028.json  ...                                an interview on CNN \n",
              "4  12465.json  ...                          a an online opinion-piece \n",
              "5   2342.json  ...                                   a press release. \n",
              "6    153.json  ...           a Democratic debate in Philadelphia, Pa. \n",
              "7   5602.json  ...                                         a website  \n",
              "8   9741.json  ...                                    an online video \n",
              "9   7115.json  ...                                           a speech \n",
              "\n",
              "[10 rows x 14 columns]"
            ]
          },
          "metadata": {
            "tags": []
          },
          "execution_count": 16
        }
      ]
    },
    {
      "cell_type": "code",
      "metadata": {
        "id": "E0_MXC_ScwdE",
        "colab_type": "code",
        "outputId": "6f1253e1-0acd-4dcd-8db0-312ac925826b",
        "colab": {
          "base_uri": "https://localhost:8080/",
          "height": 1000
        }
      },
      "source": [
        "test.head(10)"
      ],
      "execution_count": 17,
      "outputs": [
        {
          "output_type": "execute_result",
          "data": {
            "text/html": [
              "<div>\n",
              "<style scoped>\n",
              "    .dataframe tbody tr th:only-of-type {\n",
              "        vertical-align: middle;\n",
              "    }\n",
              "\n",
              "    .dataframe tbody tr th {\n",
              "        vertical-align: top;\n",
              "    }\n",
              "\n",
              "    .dataframe thead th {\n",
              "        text-align: right;\n",
              "    }\n",
              "</style>\n",
              "<table border=\"1\" class=\"dataframe\">\n",
              "  <thead>\n",
              "    <tr style=\"text-align: right;\">\n",
              "      <th></th>\n",
              "      <th>ID</th>\n",
              "      <th>Label</th>\n",
              "      <th>Statement</th>\n",
              "      <th>Subject(s)</th>\n",
              "      <th>Speaker</th>\n",
              "      <th>Speaker's job title</th>\n",
              "      <th>state info</th>\n",
              "      <th>party affiliation</th>\n",
              "      <th>barely true counts</th>\n",
              "      <th>false counts</th>\n",
              "      <th>half true counts</th>\n",
              "      <th>mostly true counts</th>\n",
              "      <th>pants on fire counts</th>\n",
              "      <th>the context (venue/location of speech or statement)</th>\n",
              "    </tr>\n",
              "  </thead>\n",
              "  <tbody>\n",
              "    <tr>\n",
              "      <th>0</th>\n",
              "      <td>11685.json</td>\n",
              "      <td>false</td>\n",
              "      <td>Wisconsin is on pace to double the number of l...</td>\n",
              "      <td>jobs</td>\n",
              "      <td>katrina-shankland</td>\n",
              "      <td>State representative</td>\n",
              "      <td>Wisconsin</td>\n",
              "      <td>democrat</td>\n",
              "      <td>2</td>\n",
              "      <td>1</td>\n",
              "      <td>0</td>\n",
              "      <td>0</td>\n",
              "      <td>0</td>\n",
              "      <td>a news conference</td>\n",
              "    </tr>\n",
              "    <tr>\n",
              "      <th>1</th>\n",
              "      <td>11096.json</td>\n",
              "      <td>false</td>\n",
              "      <td>Says John McCain has done nothing to help the ...</td>\n",
              "      <td>military,veterans,voting-record</td>\n",
              "      <td>donald-trump</td>\n",
              "      <td>President-Elect</td>\n",
              "      <td>New York</td>\n",
              "      <td>republican</td>\n",
              "      <td>63</td>\n",
              "      <td>114</td>\n",
              "      <td>51</td>\n",
              "      <td>37</td>\n",
              "      <td>61</td>\n",
              "      <td>comments on ABC's This Week.</td>\n",
              "    </tr>\n",
              "    <tr>\n",
              "      <th>2</th>\n",
              "      <td>5209.json</td>\n",
              "      <td>half-true</td>\n",
              "      <td>Suzanne Bonamici supports a plan that will cut...</td>\n",
              "      <td>medicare,message-machine-2012,campaign-adverti...</td>\n",
              "      <td>rob-cornilles</td>\n",
              "      <td>consultant</td>\n",
              "      <td>Oregon</td>\n",
              "      <td>republican</td>\n",
              "      <td>1</td>\n",
              "      <td>1</td>\n",
              "      <td>3</td>\n",
              "      <td>1</td>\n",
              "      <td>1</td>\n",
              "      <td>a radio show</td>\n",
              "    </tr>\n",
              "    <tr>\n",
              "      <th>3</th>\n",
              "      <td>9524.json</td>\n",
              "      <td>pants-fire</td>\n",
              "      <td>When asked by a reporter whether hes at the ce...</td>\n",
              "      <td>campaign-finance,legal-issues,campaign-adverti...</td>\n",
              "      <td>state-democratic-party-wisconsin</td>\n",
              "      <td>NaN</td>\n",
              "      <td>Wisconsin</td>\n",
              "      <td>democrat</td>\n",
              "      <td>5</td>\n",
              "      <td>7</td>\n",
              "      <td>2</td>\n",
              "      <td>2</td>\n",
              "      <td>7</td>\n",
              "      <td>a web video</td>\n",
              "    </tr>\n",
              "    <tr>\n",
              "      <th>4</th>\n",
              "      <td>5962.json</td>\n",
              "      <td>true</td>\n",
              "      <td>Over the past five years the federal governmen...</td>\n",
              "      <td>federal-budget,pensions,retirement</td>\n",
              "      <td>brendan-doherty</td>\n",
              "      <td>NaN</td>\n",
              "      <td>Rhode Island</td>\n",
              "      <td>republican</td>\n",
              "      <td>1</td>\n",
              "      <td>2</td>\n",
              "      <td>1</td>\n",
              "      <td>1</td>\n",
              "      <td>0</td>\n",
              "      <td>a campaign website</td>\n",
              "    </tr>\n",
              "    <tr>\n",
              "      <th>5</th>\n",
              "      <td>7070.json</td>\n",
              "      <td>true</td>\n",
              "      <td>Says that Tennessee law requires that schools ...</td>\n",
              "      <td>county-budget,county-government,education,taxes</td>\n",
              "      <td>stand-children-tennessee</td>\n",
              "      <td>Child and education advocacy organization.</td>\n",
              "      <td>Tennessee</td>\n",
              "      <td>none</td>\n",
              "      <td>0</td>\n",
              "      <td>0</td>\n",
              "      <td>0</td>\n",
              "      <td>0</td>\n",
              "      <td>0</td>\n",
              "      <td>in a post on Facebook.</td>\n",
              "    </tr>\n",
              "    <tr>\n",
              "      <th>6</th>\n",
              "      <td>1046.json</td>\n",
              "      <td>barely-true</td>\n",
              "      <td>Says Vice President Joe Biden \"admits that the...</td>\n",
              "      <td>economy,stimulus</td>\n",
              "      <td>john-boehner</td>\n",
              "      <td>Speaker of the House of Representatives</td>\n",
              "      <td>Ohio</td>\n",
              "      <td>republican</td>\n",
              "      <td>13</td>\n",
              "      <td>22</td>\n",
              "      <td>11</td>\n",
              "      <td>4</td>\n",
              "      <td>2</td>\n",
              "      <td>a press release.</td>\n",
              "    </tr>\n",
              "    <tr>\n",
              "      <th>7</th>\n",
              "      <td>12849.json</td>\n",
              "      <td>true</td>\n",
              "      <td>Donald Trump is against marriage equality. He ...</td>\n",
              "      <td>gays-and-lesbians,marriage</td>\n",
              "      <td>sean-patrick-maloney</td>\n",
              "      <td>Congressman for NY-18</td>\n",
              "      <td>New York</td>\n",
              "      <td>democrat</td>\n",
              "      <td>0</td>\n",
              "      <td>0</td>\n",
              "      <td>0</td>\n",
              "      <td>0</td>\n",
              "      <td>0</td>\n",
              "      <td>a speech at the Democratic National Convention</td>\n",
              "    </tr>\n",
              "    <tr>\n",
              "      <th>8</th>\n",
              "      <td>13270.json</td>\n",
              "      <td>barely-true</td>\n",
              "      <td>We know that more than half of Hillary Clinton...</td>\n",
              "      <td>foreign-policy</td>\n",
              "      <td>mike-pence</td>\n",
              "      <td>Governor</td>\n",
              "      <td>Indiana</td>\n",
              "      <td>republican</td>\n",
              "      <td>8</td>\n",
              "      <td>10</td>\n",
              "      <td>12</td>\n",
              "      <td>5</td>\n",
              "      <td>0</td>\n",
              "      <td>comments on \"Meet the Press\"</td>\n",
              "    </tr>\n",
              "    <tr>\n",
              "      <th>9</th>\n",
              "      <td>6649.json</td>\n",
              "      <td>barely-true</td>\n",
              "      <td>We know there are more Democrats in Georgia th...</td>\n",
              "      <td>elections</td>\n",
              "      <td>mike-berlon</td>\n",
              "      <td>NaN</td>\n",
              "      <td>Georgia</td>\n",
              "      <td>democrat</td>\n",
              "      <td>1</td>\n",
              "      <td>0</td>\n",
              "      <td>0</td>\n",
              "      <td>0</td>\n",
              "      <td>0</td>\n",
              "      <td>an article</td>\n",
              "    </tr>\n",
              "  </tbody>\n",
              "</table>\n",
              "</div>"
            ],
            "text/plain": [
              "           ID  ... the context (venue/location of speech or statement)\n",
              "0  11685.json  ...                                  a news conference \n",
              "1  11096.json  ...                       comments on ABC's This Week. \n",
              "2   5209.json  ...                                       a radio show \n",
              "3   9524.json  ...                                        a web video \n",
              "4   5962.json  ...                                 a campaign website \n",
              "5   7070.json  ...                             in a post on Facebook. \n",
              "6   1046.json  ...                                   a press release. \n",
              "7  12849.json  ...     a speech at the Democratic National Convention \n",
              "8  13270.json  ...                       comments on \"Meet the Press\" \n",
              "9   6649.json  ...                                         an article \n",
              "\n",
              "[10 rows x 14 columns]"
            ]
          },
          "metadata": {
            "tags": []
          },
          "execution_count": 17
        }
      ]
    },
    {
      "cell_type": "code",
      "metadata": {
        "id": "Erhe6HVNcwdG",
        "colab_type": "code",
        "outputId": "74907d60-10dd-4f57-868f-68998d45e9fd",
        "colab": {
          "base_uri": "https://localhost:8080/",
          "height": 1000
        }
      },
      "source": [
        "valid.head(10)"
      ],
      "execution_count": 18,
      "outputs": [
        {
          "output_type": "execute_result",
          "data": {
            "text/html": [
              "<div>\n",
              "<style scoped>\n",
              "    .dataframe tbody tr th:only-of-type {\n",
              "        vertical-align: middle;\n",
              "    }\n",
              "\n",
              "    .dataframe tbody tr th {\n",
              "        vertical-align: top;\n",
              "    }\n",
              "\n",
              "    .dataframe thead th {\n",
              "        text-align: right;\n",
              "    }\n",
              "</style>\n",
              "<table border=\"1\" class=\"dataframe\">\n",
              "  <thead>\n",
              "    <tr style=\"text-align: right;\">\n",
              "      <th></th>\n",
              "      <th>ID</th>\n",
              "      <th>Label</th>\n",
              "      <th>Statement</th>\n",
              "      <th>Subject(s)</th>\n",
              "      <th>Speaker</th>\n",
              "      <th>Speaker's job title</th>\n",
              "      <th>state info</th>\n",
              "      <th>party affiliation</th>\n",
              "      <th>barely true counts</th>\n",
              "      <th>false counts</th>\n",
              "      <th>half true counts</th>\n",
              "      <th>mostly true counts</th>\n",
              "      <th>pants on fire counts</th>\n",
              "      <th>the context (venue/location of speech or statement)</th>\n",
              "    </tr>\n",
              "  </thead>\n",
              "  <tbody>\n",
              "    <tr>\n",
              "      <th>0</th>\n",
              "      <td>238.json</td>\n",
              "      <td>pants-fire</td>\n",
              "      <td>When Obama was sworn into office, he DID NOT u...</td>\n",
              "      <td>obama-birth-certificate,religion</td>\n",
              "      <td>chain-email</td>\n",
              "      <td>NaN</td>\n",
              "      <td>NaN</td>\n",
              "      <td>none</td>\n",
              "      <td>11</td>\n",
              "      <td>43</td>\n",
              "      <td>8</td>\n",
              "      <td>5</td>\n",
              "      <td>105</td>\n",
              "      <td>NaN</td>\n",
              "    </tr>\n",
              "    <tr>\n",
              "      <th>1</th>\n",
              "      <td>7891.json</td>\n",
              "      <td>false</td>\n",
              "      <td>Says Having organizations parading as being so...</td>\n",
              "      <td>campaign-finance,congress,taxes</td>\n",
              "      <td>earl-blumenauer</td>\n",
              "      <td>U.S. representative</td>\n",
              "      <td>Oregon</td>\n",
              "      <td>democrat</td>\n",
              "      <td>0</td>\n",
              "      <td>1</td>\n",
              "      <td>1</td>\n",
              "      <td>1</td>\n",
              "      <td>0</td>\n",
              "      <td>a U.S. Ways and Means hearing</td>\n",
              "    </tr>\n",
              "    <tr>\n",
              "      <th>2</th>\n",
              "      <td>8169.json</td>\n",
              "      <td>half-true</td>\n",
              "      <td>Says nearly half of Oregons children are poor.</td>\n",
              "      <td>poverty</td>\n",
              "      <td>jim-francesconi</td>\n",
              "      <td>Member of the State Board of Higher Education</td>\n",
              "      <td>Oregon</td>\n",
              "      <td>none</td>\n",
              "      <td>0</td>\n",
              "      <td>1</td>\n",
              "      <td>1</td>\n",
              "      <td>1</td>\n",
              "      <td>0</td>\n",
              "      <td>an opinion article</td>\n",
              "    </tr>\n",
              "    <tr>\n",
              "      <th>3</th>\n",
              "      <td>929.json</td>\n",
              "      <td>half-true</td>\n",
              "      <td>On attacks by Republicans that various program...</td>\n",
              "      <td>economy,stimulus</td>\n",
              "      <td>barack-obama</td>\n",
              "      <td>President</td>\n",
              "      <td>Illinois</td>\n",
              "      <td>democrat</td>\n",
              "      <td>70</td>\n",
              "      <td>71</td>\n",
              "      <td>160</td>\n",
              "      <td>163</td>\n",
              "      <td>9</td>\n",
              "      <td>interview with CBS News</td>\n",
              "    </tr>\n",
              "    <tr>\n",
              "      <th>4</th>\n",
              "      <td>9416.json</td>\n",
              "      <td>false</td>\n",
              "      <td>Says when armed civilians stop mass shootings ...</td>\n",
              "      <td>guns</td>\n",
              "      <td>jim-rubens</td>\n",
              "      <td>Small business owner</td>\n",
              "      <td>New Hampshire</td>\n",
              "      <td>republican</td>\n",
              "      <td>1</td>\n",
              "      <td>1</td>\n",
              "      <td>0</td>\n",
              "      <td>1</td>\n",
              "      <td>0</td>\n",
              "      <td>in an interview at gun shop in Hudson, N.H.</td>\n",
              "    </tr>\n",
              "    <tr>\n",
              "      <th>5</th>\n",
              "      <td>6861.json</td>\n",
              "      <td>true</td>\n",
              "      <td>Says Tennessee is providing millions of dollar...</td>\n",
              "      <td>education,state-budget</td>\n",
              "      <td>andy-berke</td>\n",
              "      <td>Lawyer and state senator</td>\n",
              "      <td>Tennessee</td>\n",
              "      <td>democrat</td>\n",
              "      <td>0</td>\n",
              "      <td>0</td>\n",
              "      <td>0</td>\n",
              "      <td>0</td>\n",
              "      <td>0</td>\n",
              "      <td>a letter to state Senate education committee c...</td>\n",
              "    </tr>\n",
              "    <tr>\n",
              "      <th>6</th>\n",
              "      <td>1122.json</td>\n",
              "      <td>false</td>\n",
              "      <td>The health care reform plan would set limits s...</td>\n",
              "      <td>health-care</td>\n",
              "      <td>club-growth</td>\n",
              "      <td>NaN</td>\n",
              "      <td>NaN</td>\n",
              "      <td>none</td>\n",
              "      <td>4</td>\n",
              "      <td>5</td>\n",
              "      <td>4</td>\n",
              "      <td>2</td>\n",
              "      <td>0</td>\n",
              "      <td>a TV ad</td>\n",
              "    </tr>\n",
              "    <tr>\n",
              "      <th>7</th>\n",
              "      <td>13138.json</td>\n",
              "      <td>true</td>\n",
              "      <td>Says Donald Trump started his career back in 1...</td>\n",
              "      <td>candidates-biography,diversity,housing</td>\n",
              "      <td>hillary-clinton</td>\n",
              "      <td>Presidential candidate</td>\n",
              "      <td>New York</td>\n",
              "      <td>democrat</td>\n",
              "      <td>40</td>\n",
              "      <td>29</td>\n",
              "      <td>69</td>\n",
              "      <td>76</td>\n",
              "      <td>7</td>\n",
              "      <td>the first presidential debate</td>\n",
              "    </tr>\n",
              "    <tr>\n",
              "      <th>8</th>\n",
              "      <td>1880.json</td>\n",
              "      <td>half-true</td>\n",
              "      <td>Bill White has a long history of trying to lim...</td>\n",
              "      <td>military</td>\n",
              "      <td>republican-party-texas</td>\n",
              "      <td>NaN</td>\n",
              "      <td>Texas</td>\n",
              "      <td>republican</td>\n",
              "      <td>3</td>\n",
              "      <td>1</td>\n",
              "      <td>1</td>\n",
              "      <td>3</td>\n",
              "      <td>1</td>\n",
              "      <td>an e-mail</td>\n",
              "    </tr>\n",
              "    <tr>\n",
              "      <th>9</th>\n",
              "      <td>12803.json</td>\n",
              "      <td>half-true</td>\n",
              "      <td>John McCains chief economic adviser during the...</td>\n",
              "      <td>economy</td>\n",
              "      <td>tim-kaine</td>\n",
              "      <td>U.S. Senator</td>\n",
              "      <td>Virginia</td>\n",
              "      <td>democrat</td>\n",
              "      <td>8</td>\n",
              "      <td>3</td>\n",
              "      <td>15</td>\n",
              "      <td>15</td>\n",
              "      <td>0</td>\n",
              "      <td>a speech at the Democratic National Convention...</td>\n",
              "    </tr>\n",
              "  </tbody>\n",
              "</table>\n",
              "</div>"
            ],
            "text/plain": [
              "           ID  ... the context (venue/location of speech or statement)\n",
              "0    238.json  ...                                                NaN \n",
              "1   7891.json  ...                      a U.S. Ways and Means hearing \n",
              "2   8169.json  ...                                 an opinion article \n",
              "3    929.json  ...                            interview with CBS News \n",
              "4   9416.json  ...        in an interview at gun shop in Hudson, N.H. \n",
              "5   6861.json  ...  a letter to state Senate education committee c... \n",
              "6   1122.json  ...                                            a TV ad \n",
              "7  13138.json  ...                      the first presidential debate \n",
              "8   1880.json  ...                                          an e-mail \n",
              "9  12803.json  ...  a speech at the Democratic National Convention... \n",
              "\n",
              "[10 rows x 14 columns]"
            ]
          },
          "metadata": {
            "tags": []
          },
          "execution_count": 18
        }
      ]
    },
    {
      "cell_type": "markdown",
      "metadata": {
        "id": "ARaQTXkdcwdM",
        "colab_type": "text"
      },
      "source": [
        "Loaded the datasets. Let's move to Univariate Analysis"
      ]
    },
    {
      "cell_type": "markdown",
      "metadata": {
        "id": "U_pRBXpQ5hk9",
        "colab_type": "text"
      },
      "source": [
        "- Combining train and validation sets here. Later We will use validation techniques"
      ]
    },
    {
      "cell_type": "code",
      "metadata": {
        "id": "7tkyy9Bj5mOO",
        "colab_type": "code",
        "colab": {}
      },
      "source": [
        "train = pd.concat([train, valid])"
      ],
      "execution_count": 0,
      "outputs": []
    },
    {
      "cell_type": "code",
      "metadata": {
        "id": "pIEMnB265mLn",
        "colab_type": "code",
        "outputId": "1961bb67-a412-4570-9275-82c1e7fafdf9",
        "colab": {
          "base_uri": "https://localhost:8080/",
          "height": 34
        }
      },
      "source": [
        "train.shape"
      ],
      "execution_count": 20,
      "outputs": [
        {
          "output_type": "execute_result",
          "data": {
            "text/plain": [
              "(11522, 14)"
            ]
          },
          "metadata": {
            "tags": []
          },
          "execution_count": 20
        }
      ]
    },
    {
      "cell_type": "code",
      "metadata": {
        "id": "ZThj0VLn5mId",
        "colab_type": "code",
        "colab": {}
      },
      "source": [
        "# Dropping Target Variable from test set\n",
        "Label_test = test.iloc[:,[1]]\n",
        "test=test.drop(['Label'], axis=1)"
      ],
      "execution_count": 0,
      "outputs": []
    },
    {
      "cell_type": "markdown",
      "metadata": {
        "id": "iY-cipWucwdN",
        "colab_type": "text"
      },
      "source": [
        "# Univariate Analysis"
      ]
    },
    {
      "cell_type": "code",
      "metadata": {
        "id": "jpnNWeXhcwdP",
        "colab_type": "code",
        "outputId": "e72ec647-9c80-4009-f935-7bc59d8ae665",
        "colab": {
          "base_uri": "https://localhost:8080/",
          "height": 283
        }
      },
      "source": [
        "print(train.dtypes)"
      ],
      "execution_count": 22,
      "outputs": [
        {
          "output_type": "stream",
          "text": [
            "ID                                                      object\n",
            "Label                                                   object\n",
            "Statement                                               object\n",
            "Subject(s)                                              object\n",
            "Speaker                                                 object\n",
            "Speaker's job title                                     object\n",
            "state info                                              object\n",
            "party affiliation                                       object\n",
            "barely true counts                                     float64\n",
            "false counts                                           float64\n",
            "half true counts                                       float64\n",
            "mostly true counts                                     float64\n",
            "pants on fire counts                                   float64\n",
            "the context (venue/location of speech or statement)     object\n",
            "dtype: object\n"
          ],
          "name": "stdout"
        }
      ]
    },
    {
      "cell_type": "code",
      "metadata": {
        "id": "TD8qLRlCcwdT",
        "colab_type": "code",
        "outputId": "6bf0d032-fab1-43eb-dce0-e5539e609b21",
        "colab": {
          "base_uri": "https://localhost:8080/",
          "height": 265
        }
      },
      "source": [
        "print(test.dtypes)"
      ],
      "execution_count": 23,
      "outputs": [
        {
          "output_type": "stream",
          "text": [
            "ID                                                     object\n",
            "Statement                                              object\n",
            "Subject(s)                                             object\n",
            "Speaker                                                object\n",
            "Speaker's job title                                    object\n",
            "state info                                             object\n",
            "party affiliation                                      object\n",
            "barely true counts                                      int64\n",
            "false counts                                            int64\n",
            "half true counts                                        int64\n",
            "mostly true counts                                      int64\n",
            "pants on fire counts                                    int64\n",
            "the context (venue/location of speech or statement)    object\n",
            "dtype: object\n"
          ],
          "name": "stdout"
        }
      ]
    },
    {
      "cell_type": "code",
      "metadata": {
        "id": "C7HjlMsfcwdX",
        "colab_type": "code",
        "outputId": "ee922f5d-34e2-4007-b866-a94c7a38fd1b",
        "colab": {
          "base_uri": "https://localhost:8080/",
          "height": 34
        }
      },
      "source": [
        "# shape of datasets\n",
        "train.shape, test.shape"
      ],
      "execution_count": 24,
      "outputs": [
        {
          "output_type": "execute_result",
          "data": {
            "text/plain": [
              "((11522, 14), (1266, 13))"
            ]
          },
          "metadata": {
            "tags": []
          },
          "execution_count": 24
        }
      ]
    },
    {
      "cell_type": "code",
      "metadata": {
        "id": "c-snudAFcwda",
        "colab_type": "code",
        "outputId": "485ecd73-d66c-4e9e-9be7-cea41609b16a",
        "colab": {
          "base_uri": "https://localhost:8080/",
          "height": 141
        }
      },
      "source": [
        "train['Label'].value_counts(normalize=True)\n",
        "# Read as percentage after multiplying by 100"
      ],
      "execution_count": 25,
      "outputs": [
        {
          "output_type": "execute_result",
          "data": {
            "text/plain": [
              "half-true      0.204999\n",
              "false          0.195886\n",
              "mostly-true    0.192067\n",
              "barely-true    0.164034\n",
              "true           0.160128\n",
              "pants-fire     0.082885\n",
              "Name: Label, dtype: float64"
            ]
          },
          "metadata": {
            "tags": []
          },
          "execution_count": 25
        }
      ]
    },
    {
      "cell_type": "code",
      "metadata": {
        "id": "qwCQDcJEcwdd",
        "colab_type": "code",
        "outputId": "1f0b9bf7-e752-456a-8014-b4bb2e1a0a51",
        "colab": {
          "base_uri": "https://localhost:8080/",
          "height": 331
        }
      },
      "source": [
        "train['Label'].value_counts().plot.bar()"
      ],
      "execution_count": 26,
      "outputs": [
        {
          "output_type": "execute_result",
          "data": {
            "text/plain": [
              "<matplotlib.axes._subplots.AxesSubplot at 0x7f22cb321b70>"
            ]
          },
          "metadata": {
            "tags": []
          },
          "execution_count": 26
        },
        {
          "output_type": "display_data",
          "data": {
            "image/png": "[encoded data removed]",
            "text/plain": [
              "<Figure size 432x288 with 1 Axes>"
            ]
          },
          "metadata": {
            "tags": []
          }
        }
      ]
    },
    {
      "cell_type": "markdown",
      "metadata": {
        "id": "nDbsjPDAcwdf",
        "colab_type": "text"
      },
      "source": [
        "On Looking at the datsets, we identified that there are 3 Data Types:\n",
        "- Continuous : ID, barely true counts, false counts, half true counts, mostly true counts, pants on fire counts.\n",
        "\n",
        "- Categorical : Label, Subject(s), Speaker, Speaker's job title, State info, party affiliation, the context (venue/location of speech or statement)\n",
        "\n",
        "- Text : Statement"
      ]
    },
    {
      "cell_type": "markdown",
      "metadata": {
        "id": "BbQmrQsFcwdg",
        "colab_type": "text"
      },
      "source": [
        "Let's go for Continuous Data Type Exploration.\n",
        "We know that we use BarGraphs for Categorical variable, Histogram or ScatterPlot for continuous variables."
      ]
    },
    {
      "cell_type": "markdown",
      "metadata": {
        "id": "oEih0BBYcwdg",
        "colab_type": "text"
      },
      "source": [
        "- Continuous Variables"
      ]
    },
    {
      "cell_type": "code",
      "metadata": {
        "id": "iyq5H1SUcwdh",
        "colab_type": "code",
        "outputId": "d387d922-9418-4b23-964d-e7f42978498b",
        "colab": {
          "base_uri": "https://localhost:8080/",
          "height": 424
        }
      },
      "source": [
        "# barely true counts\n",
        "plt.figure(figsize=(20, 6))\n",
        "sns.countplot(train[\"barely true counts\"])\n",
        "plt.title('barely true counts')\n",
        "plt.show()"
      ],
      "execution_count": 27,
      "outputs": [
        {
          "output_type": "display_data",
          "data": {
            "image/png": "[encoded data removed]",
            "text/plain": [
              "<Figure size 1440x432 with 1 Axes>"
            ]
          },
          "metadata": {
            "tags": []
          }
        }
      ]
    },
    {
      "cell_type": "code",
      "metadata": {
        "id": "JL4eZlMtcwdj",
        "colab_type": "code",
        "outputId": "43981c06-970a-4440-fd44-0c908eca2d49",
        "colab": {
          "base_uri": "https://localhost:8080/",
          "height": 424
        }
      },
      "source": [
        "# false counts\n",
        "plt.figure(figsize=(20, 6))\n",
        "sns.countplot(train[\"false counts\"])\n",
        "plt.title('false counts')\n",
        "plt.show()"
      ],
      "execution_count": 28,
      "outputs": [
        {
          "output_type": "display_data",
          "data": {
            "image/png": "[encoded data removed]",
            "text/plain": [
              "<Figure size 1440x432 with 1 Axes>"
            ]
          },
          "metadata": {
            "tags": []
          }
        }
      ]
    },
    {
      "cell_type": "code",
      "metadata": {
        "id": "dR5zkCpdcwdm",
        "colab_type": "code",
        "outputId": "5c4a1e7e-aaf9-4a2a-94c9-fac1ab97cf88",
        "colab": {
          "base_uri": "https://localhost:8080/",
          "height": 424
        }
      },
      "source": [
        "# half true counts\n",
        "plt.figure(figsize=(20, 6))\n",
        "sns.countplot(train[\"half true counts\"])\n",
        "plt.title('half true counts')\n",
        "plt.show()"
      ],
      "execution_count": 29,
      "outputs": [
        {
          "output_type": "display_data",
          "data": {
            "image/png": "[encoded data removed]",
            "text/plain": [
              "<Figure size 1440x432 with 1 Axes>"
            ]
          },
          "metadata": {
            "tags": []
          }
        }
      ]
    },
    {
      "cell_type": "code",
      "metadata": {
        "id": "I2-wC5Ykcwdo",
        "colab_type": "code",
        "outputId": "3b624d36-d479-47f1-e953-cecc38abf4c8",
        "colab": {
          "base_uri": "https://localhost:8080/",
          "height": 424
        }
      },
      "source": [
        "# mostly true counts\n",
        "plt.figure(figsize=(20, 6))\n",
        "sns.countplot(train[\"mostly true counts\"])\n",
        "plt.title('mostly true counts')\n",
        "plt.show()"
      ],
      "execution_count": 30,
      "outputs": [
        {
          "output_type": "display_data",
          "data": {
            "image/png": "[encoded data removed]",
            "text/plain": [
              "<Figure size 1440x432 with 1 Axes>"
            ]
          },
          "metadata": {
            "tags": []
          }
        }
      ]
    },
    {
      "cell_type": "code",
      "metadata": {
        "id": "MfVCH7Uxcwds",
        "colab_type": "code",
        "outputId": "918208d7-f7f8-4d38-f5b5-7e53fad55dd4",
        "colab": {
          "base_uri": "https://localhost:8080/",
          "height": 424
        }
      },
      "source": [
        "# pants on fire counts \n",
        "plt.figure(figsize=(20, 6))\n",
        "sns.countplot(train[\"pants on fire counts\"])\n",
        "plt.title('pants on fire counts')\n",
        "plt.show()"
      ],
      "execution_count": 31,
      "outputs": [
        {
          "output_type": "display_data",
          "data": {
            "image/png": "[encoded data removed]",
            "text/plain": [
              "<Figure size 1440x432 with 1 Axes>"
            ]
          },
          "metadata": {
            "tags": []
          }
        }
      ]
    },
    {
      "cell_type": "code",
      "metadata": {
        "id": "N689Ep8vcwdu",
        "colab_type": "code",
        "outputId": "148a550f-0bd4-4bee-97d1-7906aa0f2da1",
        "colab": {
          "base_uri": "https://localhost:8080/",
          "height": 993
        }
      },
      "source": [
        "# Pairplot for cross visualisation of continuous variables\n",
        "plt.figure(figsize=(30,30))\n",
        "sns.pairplot(train, diag_kind='kde');"
      ],
      "execution_count": 32,
      "outputs": [
        {
          "output_type": "stream",
          "text": [
            "/usr/local/lib/python3.6/dist-packages/statsmodels/nonparametric/kde.py:447: RuntimeWarning: invalid value encountered in greater\n",
            "  X = X[np.logical_and(X > clip[0], X < clip[1])] # won't work for two columns.\n",
            "/usr/local/lib/python3.6/dist-packages/statsmodels/nonparametric/kde.py:447: RuntimeWarning: invalid value encountered in less\n",
            "  X = X[np.logical_and(X > clip[0], X < clip[1])] # won't work for two columns.\n"
          ],
          "name": "stderr"
        },
        {
          "output_type": "display_data",
          "data": {
            "text/plain": [
              "<Figure size 2160x2160 with 0 Axes>"
            ]
          },
          "metadata": {
            "tags": []
          }
        },
        {
          "output_type": "display_data",
          "data": {
            "image/png": "[encoded data removed]",
            "text/plain": [
              "<Figure size 900x900 with 30 Axes>"
            ]
          },
          "metadata": {
            "tags": []
          }
        }
      ]
    },
    {
      "cell_type": "markdown",
      "metadata": {
        "id": "fAzfKzDEcwdw",
        "colab_type": "text"
      },
      "source": [
        "- Spread of Target Variable"
      ]
    },
    {
      "cell_type": "code",
      "metadata": {
        "id": "Jeq2GD2icwdx",
        "colab_type": "code",
        "outputId": "d60e2e8b-8a42-46f8-bdb3-a989f2c3e49e",
        "colab": {
          "base_uri": "https://localhost:8080/",
          "height": 464
        }
      },
      "source": [
        "cnt_srs = train['Label'].value_counts()\n",
        "plt.figure(figsize=(18,7))\n",
        "sns.barplot(cnt_srs.index, cnt_srs.values, alpha=0.8)\n",
        "plt.ylabel('Frequency', fontsize=12)\n",
        "plt.xlabel('Label', fontsize=12)\n",
        "plt.show()"
      ],
      "execution_count": 33,
      "outputs": [
        {
          "output_type": "display_data",
          "data": {
            "image/png": "[encoded data removed]",
            "text/plain": [
              "<Figure size 1296x504 with 1 Axes>"
            ]
          },
          "metadata": {
            "tags": []
          }
        }
      ]
    },
    {
      "cell_type": "markdown",
      "metadata": {
        "id": "rkdFqd7Kcwd1",
        "colab_type": "text"
      },
      "source": [
        "# Data Preprocessing"
      ]
    },
    {
      "cell_type": "markdown",
      "metadata": {
        "id": "Ht1nMlsicwd1",
        "colab_type": "text"
      },
      "source": [
        "- Checking Missing Values"
      ]
    },
    {
      "cell_type": "code",
      "metadata": {
        "id": "rskkXG2Icwd2",
        "colab_type": "code",
        "colab": {}
      },
      "source": [
        "def missing_value(df):\n",
        "    total = df.isnull().sum().sort_values(ascending = False)\n",
        "    percent = (df.isnull().sum()/df.isnull().count()*100).sort_values(ascending=False)\n",
        "    missing_df = pd.concat([total, percent], axis=1, keys = ['Total', 'Percent'])\n",
        "    return missing_df"
      ],
      "execution_count": 0,
      "outputs": []
    },
    {
      "cell_type": "code",
      "metadata": {
        "id": "eqzhYGOKcwd6",
        "colab_type": "code",
        "outputId": "3baf5307-4cda-4af0-a0ce-406360ffda45",
        "colab": {
          "base_uri": "https://localhost:8080/",
          "height": 467
        }
      },
      "source": [
        "x_train = missing_value(train)\n",
        "x_train"
      ],
      "execution_count": 35,
      "outputs": [
        {
          "output_type": "execute_result",
          "data": {
            "text/html": [
              "<div>\n",
              "<style scoped>\n",
              "    .dataframe tbody tr th:only-of-type {\n",
              "        vertical-align: middle;\n",
              "    }\n",
              "\n",
              "    .dataframe tbody tr th {\n",
              "        vertical-align: top;\n",
              "    }\n",
              "\n",
              "    .dataframe thead th {\n",
              "        text-align: right;\n",
              "    }\n",
              "</style>\n",
              "<table border=\"1\" class=\"dataframe\">\n",
              "  <thead>\n",
              "    <tr style=\"text-align: right;\">\n",
              "      <th></th>\n",
              "      <th>Total</th>\n",
              "      <th>Percent</th>\n",
              "    </tr>\n",
              "  </thead>\n",
              "  <tbody>\n",
              "    <tr>\n",
              "      <th>Speaker's job title</th>\n",
              "      <td>3242</td>\n",
              "      <td>28.137476</td>\n",
              "    </tr>\n",
              "    <tr>\n",
              "      <th>state info</th>\n",
              "      <td>2487</td>\n",
              "      <td>21.584794</td>\n",
              "    </tr>\n",
              "    <tr>\n",
              "      <th>the context (venue/location of speech or statement)</th>\n",
              "      <td>114</td>\n",
              "      <td>0.989412</td>\n",
              "    </tr>\n",
              "    <tr>\n",
              "      <th>pants on fire counts</th>\n",
              "      <td>2</td>\n",
              "      <td>0.017358</td>\n",
              "    </tr>\n",
              "    <tr>\n",
              "      <th>mostly true counts</th>\n",
              "      <td>2</td>\n",
              "      <td>0.017358</td>\n",
              "    </tr>\n",
              "    <tr>\n",
              "      <th>half true counts</th>\n",
              "      <td>2</td>\n",
              "      <td>0.017358</td>\n",
              "    </tr>\n",
              "    <tr>\n",
              "      <th>false counts</th>\n",
              "      <td>2</td>\n",
              "      <td>0.017358</td>\n",
              "    </tr>\n",
              "    <tr>\n",
              "      <th>barely true counts</th>\n",
              "      <td>2</td>\n",
              "      <td>0.017358</td>\n",
              "    </tr>\n",
              "    <tr>\n",
              "      <th>party affiliation</th>\n",
              "      <td>2</td>\n",
              "      <td>0.017358</td>\n",
              "    </tr>\n",
              "    <tr>\n",
              "      <th>Speaker</th>\n",
              "      <td>2</td>\n",
              "      <td>0.017358</td>\n",
              "    </tr>\n",
              "    <tr>\n",
              "      <th>Subject(s)</th>\n",
              "      <td>2</td>\n",
              "      <td>0.017358</td>\n",
              "    </tr>\n",
              "    <tr>\n",
              "      <th>Statement</th>\n",
              "      <td>0</td>\n",
              "      <td>0.000000</td>\n",
              "    </tr>\n",
              "    <tr>\n",
              "      <th>Label</th>\n",
              "      <td>0</td>\n",
              "      <td>0.000000</td>\n",
              "    </tr>\n",
              "    <tr>\n",
              "      <th>ID</th>\n",
              "      <td>0</td>\n",
              "      <td>0.000000</td>\n",
              "    </tr>\n",
              "  </tbody>\n",
              "</table>\n",
              "</div>"
            ],
            "text/plain": [
              "                                                    Total    Percent\n",
              "Speaker's job title                                  3242  28.137476\n",
              "state info                                           2487  21.584794\n",
              "the context (venue/location of speech or statem...    114   0.989412\n",
              "pants on fire counts                                    2   0.017358\n",
              "mostly true counts                                      2   0.017358\n",
              "half true counts                                        2   0.017358\n",
              "false counts                                            2   0.017358\n",
              "barely true counts                                      2   0.017358\n",
              "party affiliation                                       2   0.017358\n",
              "Speaker                                                 2   0.017358\n",
              "Subject(s)                                              2   0.017358\n",
              "Statement                                               0   0.000000\n",
              "Label                                                   0   0.000000\n",
              "ID                                                      0   0.000000"
            ]
          },
          "metadata": {
            "tags": []
          },
          "execution_count": 35
        }
      ]
    },
    {
      "cell_type": "code",
      "metadata": {
        "id": "HQUC9xpDcwd8",
        "colab_type": "code",
        "outputId": "3317f909-901e-46f8-9086-695b4b8eb6eb",
        "colab": {
          "base_uri": "https://localhost:8080/",
          "height": 437
        }
      },
      "source": [
        "x_test = missing_value(test)\n",
        "x_test"
      ],
      "execution_count": 36,
      "outputs": [
        {
          "output_type": "execute_result",
          "data": {
            "text/html": [
              "<div>\n",
              "<style scoped>\n",
              "    .dataframe tbody tr th:only-of-type {\n",
              "        vertical-align: middle;\n",
              "    }\n",
              "\n",
              "    .dataframe tbody tr th {\n",
              "        vertical-align: top;\n",
              "    }\n",
              "\n",
              "    .dataframe thead th {\n",
              "        text-align: right;\n",
              "    }\n",
              "</style>\n",
              "<table border=\"1\" class=\"dataframe\">\n",
              "  <thead>\n",
              "    <tr style=\"text-align: right;\">\n",
              "      <th></th>\n",
              "      <th>Total</th>\n",
              "      <th>Percent</th>\n",
              "    </tr>\n",
              "  </thead>\n",
              "  <tbody>\n",
              "    <tr>\n",
              "      <th>Speaker's job title</th>\n",
              "      <td>325</td>\n",
              "      <td>25.671406</td>\n",
              "    </tr>\n",
              "    <tr>\n",
              "      <th>state info</th>\n",
              "      <td>262</td>\n",
              "      <td>20.695103</td>\n",
              "    </tr>\n",
              "    <tr>\n",
              "      <th>the context (venue/location of speech or statement)</th>\n",
              "      <td>17</td>\n",
              "      <td>1.342812</td>\n",
              "    </tr>\n",
              "    <tr>\n",
              "      <th>pants on fire counts</th>\n",
              "      <td>0</td>\n",
              "      <td>0.000000</td>\n",
              "    </tr>\n",
              "    <tr>\n",
              "      <th>mostly true counts</th>\n",
              "      <td>0</td>\n",
              "      <td>0.000000</td>\n",
              "    </tr>\n",
              "    <tr>\n",
              "      <th>half true counts</th>\n",
              "      <td>0</td>\n",
              "      <td>0.000000</td>\n",
              "    </tr>\n",
              "    <tr>\n",
              "      <th>false counts</th>\n",
              "      <td>0</td>\n",
              "      <td>0.000000</td>\n",
              "    </tr>\n",
              "    <tr>\n",
              "      <th>barely true counts</th>\n",
              "      <td>0</td>\n",
              "      <td>0.000000</td>\n",
              "    </tr>\n",
              "    <tr>\n",
              "      <th>party affiliation</th>\n",
              "      <td>0</td>\n",
              "      <td>0.000000</td>\n",
              "    </tr>\n",
              "    <tr>\n",
              "      <th>Speaker</th>\n",
              "      <td>0</td>\n",
              "      <td>0.000000</td>\n",
              "    </tr>\n",
              "    <tr>\n",
              "      <th>Subject(s)</th>\n",
              "      <td>0</td>\n",
              "      <td>0.000000</td>\n",
              "    </tr>\n",
              "    <tr>\n",
              "      <th>Statement</th>\n",
              "      <td>0</td>\n",
              "      <td>0.000000</td>\n",
              "    </tr>\n",
              "    <tr>\n",
              "      <th>ID</th>\n",
              "      <td>0</td>\n",
              "      <td>0.000000</td>\n",
              "    </tr>\n",
              "  </tbody>\n",
              "</table>\n",
              "</div>"
            ],
            "text/plain": [
              "                                                    Total    Percent\n",
              "Speaker's job title                                   325  25.671406\n",
              "state info                                            262  20.695103\n",
              "the context (venue/location of speech or statem...     17   1.342812\n",
              "pants on fire counts                                    0   0.000000\n",
              "mostly true counts                                      0   0.000000\n",
              "half true counts                                        0   0.000000\n",
              "false counts                                            0   0.000000\n",
              "barely true counts                                      0   0.000000\n",
              "party affiliation                                       0   0.000000\n",
              "Speaker                                                 0   0.000000\n",
              "Subject(s)                                              0   0.000000\n",
              "Statement                                               0   0.000000\n",
              "ID                                                      0   0.000000"
            ]
          },
          "metadata": {
            "tags": []
          },
          "execution_count": 36
        }
      ]
    },
    {
      "cell_type": "markdown",
      "metadata": {
        "id": "pcF_ZxIucweA",
        "colab_type": "text"
      },
      "source": [
        "We need to treat the missing values here. It will reduce the model accuracy otherwise."
      ]
    },
    {
      "cell_type": "code",
      "metadata": {
        "id": "AVOfNIj5cweA",
        "colab_type": "code",
        "colab": {}
      },
      "source": [
        "# Filling Missing Values with Unknown Variable\n",
        "values = {\"Speaker's job title\":'Unknown'}\n",
        "train = train.fillna(value=values)\n",
        "test = test.fillna(value=values)\n",
        "#valid = valid.fillna(value=values)"
      ],
      "execution_count": 0,
      "outputs": []
    },
    {
      "cell_type": "code",
      "metadata": {
        "id": "fc0tLBs4cweC",
        "colab_type": "code",
        "colab": {}
      },
      "source": [
        "# Filling Missing Values with Unknown Variable\n",
        "values = {\"state info\":'Unknown1'}\n",
        "train = train.fillna(value=values)\n",
        "test = test.fillna(value=values)\n",
        "#valid = valid.fillna(value=values)"
      ],
      "execution_count": 0,
      "outputs": []
    },
    {
      "cell_type": "code",
      "metadata": {
        "id": "M4JLvYzlcweE",
        "colab_type": "code",
        "colab": {}
      },
      "source": [
        "train['the context (venue/location of speech or statement)'].fillna(train['the context (venue/location of speech or statement)'].mode()[0], inplace=True)\n",
        "test['the context (venue/location of speech or statement)'].fillna(test['the context (venue/location of speech or statement)'].mode()[0], inplace=True)\n",
        "#valid['the context (venue/location of speech or statement)'].fillna(valid['the context (venue/location of speech or statement)'].mode()[0], inplace=True)"
      ],
      "execution_count": 0,
      "outputs": []
    },
    {
      "cell_type": "code",
      "metadata": {
        "id": "JkLuKWG4cweG",
        "colab_type": "code",
        "colab": {}
      },
      "source": [
        "train['pants on fire counts'].fillna(train['pants on fire counts'].median(), inplace=True)\n",
        "train['mostly true counts'].fillna(train['mostly true counts'].median(), inplace=True)\n",
        "train['half true counts'].fillna(train['half true counts'].median(), inplace=True)\n",
        "train['false counts'].fillna(train['false counts'].median(), inplace=True)\n",
        "train['barely true counts'].fillna(train['barely true counts'].median(), inplace=True)\n",
        "train['party affiliation'].fillna(train['party affiliation'].mode()[0], inplace=True)\n",
        "train['Speaker'].fillna(train['Speaker'].mode()[0], inplace=True)\n",
        "train['Subject(s)'].fillna(train['Subject(s)'].mode()[0], inplace=True)"
      ],
      "execution_count": 0,
      "outputs": []
    },
    {
      "cell_type": "code",
      "metadata": {
        "id": "P7jKiqM-cweJ",
        "colab_type": "code",
        "outputId": "23c7c3ed-493e-45eb-dc22-c781645e27f4",
        "colab": {
          "base_uri": "https://localhost:8080/",
          "height": 467
        }
      },
      "source": [
        "# Checking again for missing values\n",
        "y_train = missing_value(train)\n",
        "y_train"
      ],
      "execution_count": 41,
      "outputs": [
        {
          "output_type": "execute_result",
          "data": {
            "text/html": [
              "<div>\n",
              "<style scoped>\n",
              "    .dataframe tbody tr th:only-of-type {\n",
              "        vertical-align: middle;\n",
              "    }\n",
              "\n",
              "    .dataframe tbody tr th {\n",
              "        vertical-align: top;\n",
              "    }\n",
              "\n",
              "    .dataframe thead th {\n",
              "        text-align: right;\n",
              "    }\n",
              "</style>\n",
              "<table border=\"1\" class=\"dataframe\">\n",
              "  <thead>\n",
              "    <tr style=\"text-align: right;\">\n",
              "      <th></th>\n",
              "      <th>Total</th>\n",
              "      <th>Percent</th>\n",
              "    </tr>\n",
              "  </thead>\n",
              "  <tbody>\n",
              "    <tr>\n",
              "      <th>the context (venue/location of speech or statement)</th>\n",
              "      <td>0</td>\n",
              "      <td>0.0</td>\n",
              "    </tr>\n",
              "    <tr>\n",
              "      <th>pants on fire counts</th>\n",
              "      <td>0</td>\n",
              "      <td>0.0</td>\n",
              "    </tr>\n",
              "    <tr>\n",
              "      <th>mostly true counts</th>\n",
              "      <td>0</td>\n",
              "      <td>0.0</td>\n",
              "    </tr>\n",
              "    <tr>\n",
              "      <th>half true counts</th>\n",
              "      <td>0</td>\n",
              "      <td>0.0</td>\n",
              "    </tr>\n",
              "    <tr>\n",
              "      <th>false counts</th>\n",
              "      <td>0</td>\n",
              "      <td>0.0</td>\n",
              "    </tr>\n",
              "    <tr>\n",
              "      <th>barely true counts</th>\n",
              "      <td>0</td>\n",
              "      <td>0.0</td>\n",
              "    </tr>\n",
              "    <tr>\n",
              "      <th>party affiliation</th>\n",
              "      <td>0</td>\n",
              "      <td>0.0</td>\n",
              "    </tr>\n",
              "    <tr>\n",
              "      <th>state info</th>\n",
              "      <td>0</td>\n",
              "      <td>0.0</td>\n",
              "    </tr>\n",
              "    <tr>\n",
              "      <th>Speaker's job title</th>\n",
              "      <td>0</td>\n",
              "      <td>0.0</td>\n",
              "    </tr>\n",
              "    <tr>\n",
              "      <th>Speaker</th>\n",
              "      <td>0</td>\n",
              "      <td>0.0</td>\n",
              "    </tr>\n",
              "    <tr>\n",
              "      <th>Subject(s)</th>\n",
              "      <td>0</td>\n",
              "      <td>0.0</td>\n",
              "    </tr>\n",
              "    <tr>\n",
              "      <th>Statement</th>\n",
              "      <td>0</td>\n",
              "      <td>0.0</td>\n",
              "    </tr>\n",
              "    <tr>\n",
              "      <th>Label</th>\n",
              "      <td>0</td>\n",
              "      <td>0.0</td>\n",
              "    </tr>\n",
              "    <tr>\n",
              "      <th>ID</th>\n",
              "      <td>0</td>\n",
              "      <td>0.0</td>\n",
              "    </tr>\n",
              "  </tbody>\n",
              "</table>\n",
              "</div>"
            ],
            "text/plain": [
              "                                                    Total  Percent\n",
              "the context (venue/location of speech or statem...      0      0.0\n",
              "pants on fire counts                                    0      0.0\n",
              "mostly true counts                                      0      0.0\n",
              "half true counts                                        0      0.0\n",
              "false counts                                            0      0.0\n",
              "barely true counts                                      0      0.0\n",
              "party affiliation                                       0      0.0\n",
              "state info                                              0      0.0\n",
              "Speaker's job title                                     0      0.0\n",
              "Speaker                                                 0      0.0\n",
              "Subject(s)                                              0      0.0\n",
              "Statement                                               0      0.0\n",
              "Label                                                   0      0.0\n",
              "ID                                                      0      0.0"
            ]
          },
          "metadata": {
            "tags": []
          },
          "execution_count": 41
        }
      ]
    },
    {
      "cell_type": "code",
      "metadata": {
        "id": "CkY-oPX-cweN",
        "colab_type": "code",
        "outputId": "6c02e3e3-2ca8-45e4-93e9-ba32d0302415",
        "colab": {
          "base_uri": "https://localhost:8080/",
          "height": 437
        }
      },
      "source": [
        "# Checking again for missing values\n",
        "y_test = missing_value(test)\n",
        "y_test"
      ],
      "execution_count": 42,
      "outputs": [
        {
          "output_type": "execute_result",
          "data": {
            "text/html": [
              "<div>\n",
              "<style scoped>\n",
              "    .dataframe tbody tr th:only-of-type {\n",
              "        vertical-align: middle;\n",
              "    }\n",
              "\n",
              "    .dataframe tbody tr th {\n",
              "        vertical-align: top;\n",
              "    }\n",
              "\n",
              "    .dataframe thead th {\n",
              "        text-align: right;\n",
              "    }\n",
              "</style>\n",
              "<table border=\"1\" class=\"dataframe\">\n",
              "  <thead>\n",
              "    <tr style=\"text-align: right;\">\n",
              "      <th></th>\n",
              "      <th>Total</th>\n",
              "      <th>Percent</th>\n",
              "    </tr>\n",
              "  </thead>\n",
              "  <tbody>\n",
              "    <tr>\n",
              "      <th>the context (venue/location of speech or statement)</th>\n",
              "      <td>0</td>\n",
              "      <td>0.0</td>\n",
              "    </tr>\n",
              "    <tr>\n",
              "      <th>pants on fire counts</th>\n",
              "      <td>0</td>\n",
              "      <td>0.0</td>\n",
              "    </tr>\n",
              "    <tr>\n",
              "      <th>mostly true counts</th>\n",
              "      <td>0</td>\n",
              "      <td>0.0</td>\n",
              "    </tr>\n",
              "    <tr>\n",
              "      <th>half true counts</th>\n",
              "      <td>0</td>\n",
              "      <td>0.0</td>\n",
              "    </tr>\n",
              "    <tr>\n",
              "      <th>false counts</th>\n",
              "      <td>0</td>\n",
              "      <td>0.0</td>\n",
              "    </tr>\n",
              "    <tr>\n",
              "      <th>barely true counts</th>\n",
              "      <td>0</td>\n",
              "      <td>0.0</td>\n",
              "    </tr>\n",
              "    <tr>\n",
              "      <th>party affiliation</th>\n",
              "      <td>0</td>\n",
              "      <td>0.0</td>\n",
              "    </tr>\n",
              "    <tr>\n",
              "      <th>state info</th>\n",
              "      <td>0</td>\n",
              "      <td>0.0</td>\n",
              "    </tr>\n",
              "    <tr>\n",
              "      <th>Speaker's job title</th>\n",
              "      <td>0</td>\n",
              "      <td>0.0</td>\n",
              "    </tr>\n",
              "    <tr>\n",
              "      <th>Speaker</th>\n",
              "      <td>0</td>\n",
              "      <td>0.0</td>\n",
              "    </tr>\n",
              "    <tr>\n",
              "      <th>Subject(s)</th>\n",
              "      <td>0</td>\n",
              "      <td>0.0</td>\n",
              "    </tr>\n",
              "    <tr>\n",
              "      <th>Statement</th>\n",
              "      <td>0</td>\n",
              "      <td>0.0</td>\n",
              "    </tr>\n",
              "    <tr>\n",
              "      <th>ID</th>\n",
              "      <td>0</td>\n",
              "      <td>0.0</td>\n",
              "    </tr>\n",
              "  </tbody>\n",
              "</table>\n",
              "</div>"
            ],
            "text/plain": [
              "                                                    Total  Percent\n",
              "the context (venue/location of speech or statem...      0      0.0\n",
              "pants on fire counts                                    0      0.0\n",
              "mostly true counts                                      0      0.0\n",
              "half true counts                                        0      0.0\n",
              "false counts                                            0      0.0\n",
              "barely true counts                                      0      0.0\n",
              "party affiliation                                       0      0.0\n",
              "state info                                              0      0.0\n",
              "Speaker's job title                                     0      0.0\n",
              "Speaker                                                 0      0.0\n",
              "Subject(s)                                              0      0.0\n",
              "Statement                                               0      0.0\n",
              "ID                                                      0      0.0"
            ]
          },
          "metadata": {
            "tags": []
          },
          "execution_count": 42
        }
      ]
    },
    {
      "cell_type": "code",
      "metadata": {
        "id": "yAqU0GWwcweP",
        "colab_type": "code",
        "colab": {}
      },
      "source": [
        "# Checking again for missing values\n",
        "#y_valid = missing_value(valid)\n",
        "#y_valid"
      ],
      "execution_count": 0,
      "outputs": []
    },
    {
      "cell_type": "markdown",
      "metadata": {
        "id": "o5ShvHOncweR",
        "colab_type": "text"
      },
      "source": [
        "- Targeting Statement Column"
      ]
    },
    {
      "cell_type": "code",
      "metadata": {
        "id": "ZoFKgtttk1BQ",
        "colab_type": "code",
        "outputId": "3555abb7-bfb3-49dd-dfd9-b1e88b8c6593",
        "colab": {
          "base_uri": "https://localhost:8080/",
          "height": 34
        }
      },
      "source": [
        "train.shape"
      ],
      "execution_count": 44,
      "outputs": [
        {
          "output_type": "execute_result",
          "data": {
            "text/plain": [
              "(11522, 14)"
            ]
          },
          "metadata": {
            "tags": []
          },
          "execution_count": 44
        }
      ]
    },
    {
      "cell_type": "code",
      "metadata": {
        "id": "J2XsnEdKcweS",
        "colab_type": "code",
        "colab": {}
      },
      "source": [
        "#removing non-letter symbols and converting text in 'Statement' to lowercase \n",
        "train['Statement'] = train['Statement'].apply(lambda x: \"\".join(re.sub(r\"[^A-Za-z\\s]\", '',str(x))))\n",
        "test['Statement'] = test['Statement'].apply(lambda x: \"\".join(re.sub(r\"[^A-Za-z\\s]\",'',str(x))))\n",
        "#valid['Statement'] = valid['Statement'].apply(lambda x: \"\".join(re.sub(r\"[^A-Za-z\\s]\",'',str(x))))\n",
        "\n",
        "# lower casing the Text\n",
        "train['Statement'] = train['Statement'].apply(lambda x: \" \".join(x.lower() for x in x.split()))\n",
        "test['Statement'] = test['Statement'].apply(lambda x: \" \".join(x.lower() for x in x.split()))\n",
        "#valid['Statement'] = valid['Statement'].apply(lambda x: \" \".join(x.lower() for x in x.split()))"
      ],
      "execution_count": 0,
      "outputs": []
    },
    {
      "cell_type": "code",
      "metadata": {
        "id": "BKgduhFccweW",
        "colab_type": "code",
        "colab": {}
      },
      "source": [
        "#Removing punctuations\n",
        "#adding characters list which needs to remove that is PUNCTUATION\n",
        "punc = ['.', ',', '\"', \"'\", '?', '!', ':', ';', '(', ')', '[', ']', '{', '}',\"%\",'/','<','>','br','�','^','XX','XXXX','xxxx','xx']\n",
        "#removing extra characters\n",
        "train['Statement'] = train['Statement'].apply(lambda x: \" \".join(x for x in x.split() if x not in punc))\n",
        "test['Statement'] = test['Statement'].apply(lambda x: \" \".join(x for x in x.split() if x not in punc))\n",
        "#valid['Statement'] = valid['Statement'].apply(lambda x: \" \".join(x for x in x.split() if x not in punc))"
      ],
      "execution_count": 0,
      "outputs": []
    },
    {
      "cell_type": "code",
      "metadata": {
        "id": "JzRXcvozcwea",
        "colab_type": "code",
        "colab": {}
      },
      "source": [
        "import nltk"
      ],
      "execution_count": 0,
      "outputs": []
    },
    {
      "cell_type": "code",
      "metadata": {
        "id": "t3f0GKwhiSmB",
        "colab_type": "code",
        "outputId": "d06dc01e-3139-4d07-b990-d8db41ac2c82",
        "colab": {
          "base_uri": "https://localhost:8080/",
          "height": 70
        }
      },
      "source": [
        "nltk.download('stopwords')"
      ],
      "execution_count": 48,
      "outputs": [
        {
          "output_type": "stream",
          "text": [
            "[nltk_data] Downloading package stopwords to /root/nltk_data...\n",
            "[nltk_data]   Unzipping corpora/stopwords.zip.\n"
          ],
          "name": "stdout"
        },
        {
          "output_type": "execute_result",
          "data": {
            "text/plain": [
              "True"
            ]
          },
          "metadata": {
            "tags": []
          },
          "execution_count": 48
        }
      ]
    },
    {
      "cell_type": "code",
      "metadata": {
        "id": "UCouVqlUcweY",
        "colab_type": "code",
        "colab": {}
      },
      "source": [
        "#removal of stopwords\n",
        "from nltk.corpus import stopwords\n",
        "stop = stopwords.words('english')\n",
        "train['Statement'] = train['Statement'].apply(lambda x: \" \".join(x for x in x.split() if x not in stop))\n",
        "test['Statement'] = test['Statement'].apply(lambda x: \" \".join(x for x in x.split() if x not in stop))\n",
        "#valid['Statement'] = valid['Statement'].apply(lambda x: \" \".join(x for x in x.split() if x not in stop))"
      ],
      "execution_count": 0,
      "outputs": []
    },
    {
      "cell_type": "code",
      "metadata": {
        "id": "KBcbIVT8iWCZ",
        "colab_type": "code",
        "colab": {}
      },
      "source": [
        "#common words removal\n",
        "freq_train = pd.Series(' '.join(train['Statement']).split()).value_counts()[:10]\n",
        "freq_test = pd.Series(' '.join(test['Statement']).split()).value_counts()[:10]\n",
        "#freq_valid = pd.Series(' '.join(valid['Statement']).split()).value_counts()[:10]\n",
        "\n",
        "freq_train = list(freq_train.index)\n",
        "train['Statement'] = train['Statement'].apply(lambda x: \" \".join(x for x in x.split() if x not in freq_train))\n",
        "freq_test = list(freq_test.index)\n",
        "test['Statement'] = test['Statement'].apply(lambda x: \" \".join(x for x in x.split() if x not in freq_test))\n",
        "#freq_valid = list(freq_valid.index)\n",
        "#valid['Statement'] = valid['Statement'].apply(lambda x: \" \".join(x for x in x.split() if x not in freq_valid))"
      ],
      "execution_count": 0,
      "outputs": []
    },
    {
      "cell_type": "code",
      "metadata": {
        "id": "5GyeiEs9i4nL",
        "colab_type": "code",
        "colab": {}
      },
      "source": [
        "#rare words removal\n",
        "freq_train_rare = pd.Series(' '.join(train['Statement']).split()).value_counts()[-10:]\n",
        "freq_train_rare = list(freq_train_rare.index)\n",
        "train['Statement'] = train['Statement'].apply(lambda x: \" \".join(x for x in x.split() if x not in freq_train_rare))\n",
        "\n",
        "freq_test_rare = pd.Series(' '.join(test['Statement']).split()).value_counts()[-10:]\n",
        "freq_test_rare = list(freq_test_rare.index)\n",
        "test['Statement'] = test['Statement'].apply(lambda x: \" \".join(x for x in x.split() if x not in freq_test_rare))\n",
        "\n",
        "#freq_valid_rare = pd.Series(' '.join(valid['Statement']).split()).value_counts()[-10:]\n",
        "#freq_valid_rare = list(freq_valid_rare.index)\n",
        "#valid['Statement'] = valid['Statement'].apply(lambda x: \" \".join(x for x in x.split() if x not in freq_valid_rare))"
      ],
      "execution_count": 0,
      "outputs": []
    },
    {
      "cell_type": "code",
      "metadata": {
        "id": "KkX7-FbNjRgu",
        "colab_type": "code",
        "colab": {}
      },
      "source": [
        "#STEMMING\n",
        "st = PorterStemmer()\n",
        "train['Statement']=train['Statement'].apply(lambda x: \" \".join([st.stem(w) for w in x.split()]))\n",
        "test['Statement']=test['Statement'].apply(lambda x: \" \".join([st.stem(w) for w in x.split()]))"
      ],
      "execution_count": 0,
      "outputs": []
    },
    {
      "cell_type": "code",
      "metadata": {
        "id": "1lYoMqrFrU2N",
        "colab_type": "code",
        "outputId": "b2543e4e-c650-4cd4-ada1-5a71a4155ea9",
        "colab": {
          "base_uri": "https://localhost:8080/",
          "height": 584
        }
      },
      "source": [
        "train.head()"
      ],
      "execution_count": 53,
      "outputs": [
        {
          "output_type": "execute_result",
          "data": {
            "text/html": [
              "<div>\n",
              "<style scoped>\n",
              "    .dataframe tbody tr th:only-of-type {\n",
              "        vertical-align: middle;\n",
              "    }\n",
              "\n",
              "    .dataframe tbody tr th {\n",
              "        vertical-align: top;\n",
              "    }\n",
              "\n",
              "    .dataframe thead th {\n",
              "        text-align: right;\n",
              "    }\n",
              "</style>\n",
              "<table border=\"1\" class=\"dataframe\">\n",
              "  <thead>\n",
              "    <tr style=\"text-align: right;\">\n",
              "      <th></th>\n",
              "      <th>ID</th>\n",
              "      <th>Label</th>\n",
              "      <th>Statement</th>\n",
              "      <th>Subject(s)</th>\n",
              "      <th>Speaker</th>\n",
              "      <th>Speaker's job title</th>\n",
              "      <th>state info</th>\n",
              "      <th>party affiliation</th>\n",
              "      <th>barely true counts</th>\n",
              "      <th>false counts</th>\n",
              "      <th>half true counts</th>\n",
              "      <th>mostly true counts</th>\n",
              "      <th>pants on fire counts</th>\n",
              "      <th>the context (venue/location of speech or statement)</th>\n",
              "    </tr>\n",
              "  </thead>\n",
              "  <tbody>\n",
              "    <tr>\n",
              "      <th>0</th>\n",
              "      <td>10540.json</td>\n",
              "      <td>half-true</td>\n",
              "      <td>declin coal start start natur ga took start be...</td>\n",
              "      <td>energy,history,job-accomplishments</td>\n",
              "      <td>scott-surovell</td>\n",
              "      <td>State delegate</td>\n",
              "      <td>Virginia</td>\n",
              "      <td>democrat</td>\n",
              "      <td>0.0</td>\n",
              "      <td>0.0</td>\n",
              "      <td>1.0</td>\n",
              "      <td>1.0</td>\n",
              "      <td>0.0</td>\n",
              "      <td>a floor speech.</td>\n",
              "    </tr>\n",
              "    <tr>\n",
              "      <th>1</th>\n",
              "      <td>324.json</td>\n",
              "      <td>mostly-true</td>\n",
              "      <td>hillari clinton agre john mccain vote give geo...</td>\n",
              "      <td>foreign-policy</td>\n",
              "      <td>barack-obama</td>\n",
              "      <td>President</td>\n",
              "      <td>Illinois</td>\n",
              "      <td>democrat</td>\n",
              "      <td>70.0</td>\n",
              "      <td>71.0</td>\n",
              "      <td>160.0</td>\n",
              "      <td>163.0</td>\n",
              "      <td>9.0</td>\n",
              "      <td>Denver</td>\n",
              "    </tr>\n",
              "    <tr>\n",
              "      <th>2</th>\n",
              "      <td>1123.json</td>\n",
              "      <td>false</td>\n",
              "      <td>care reform legisl like mandat free sex chang ...</td>\n",
              "      <td>health-care</td>\n",
              "      <td>blog-posting</td>\n",
              "      <td>Unknown</td>\n",
              "      <td>Unknown1</td>\n",
              "      <td>none</td>\n",
              "      <td>7.0</td>\n",
              "      <td>19.0</td>\n",
              "      <td>3.0</td>\n",
              "      <td>5.0</td>\n",
              "      <td>44.0</td>\n",
              "      <td>a news release</td>\n",
              "    </tr>\n",
              "    <tr>\n",
              "      <th>3</th>\n",
              "      <td>9028.json</td>\n",
              "      <td>half-true</td>\n",
              "      <td>econom turnaround start end term</td>\n",
              "      <td>economy,jobs</td>\n",
              "      <td>charlie-crist</td>\n",
              "      <td>Unknown</td>\n",
              "      <td>Florida</td>\n",
              "      <td>democrat</td>\n",
              "      <td>15.0</td>\n",
              "      <td>9.0</td>\n",
              "      <td>20.0</td>\n",
              "      <td>19.0</td>\n",
              "      <td>2.0</td>\n",
              "      <td>an interview on CNN</td>\n",
              "    </tr>\n",
              "    <tr>\n",
              "      <th>4</th>\n",
              "      <td>12465.json</td>\n",
              "      <td>true</td>\n",
              "      <td>chicago bear start quarterback last total numb...</td>\n",
              "      <td>education</td>\n",
              "      <td>robin-vos</td>\n",
              "      <td>Wisconsin Assembly speaker</td>\n",
              "      <td>Wisconsin</td>\n",
              "      <td>republican</td>\n",
              "      <td>0.0</td>\n",
              "      <td>3.0</td>\n",
              "      <td>2.0</td>\n",
              "      <td>5.0</td>\n",
              "      <td>1.0</td>\n",
              "      <td>a an online opinion-piece</td>\n",
              "    </tr>\n",
              "  </tbody>\n",
              "</table>\n",
              "</div>"
            ],
            "text/plain": [
              "           ID  ... the context (venue/location of speech or statement)\n",
              "0  10540.json  ...                                    a floor speech. \n",
              "1    324.json  ...                                             Denver \n",
              "2   1123.json  ...                                     a news release \n",
              "3   9028.json  ...                                an interview on CNN \n",
              "4  12465.json  ...                          a an online opinion-piece \n",
              "\n",
              "[5 rows x 14 columns]"
            ]
          },
          "metadata": {
            "tags": []
          },
          "execution_count": 53
        }
      ]
    },
    {
      "cell_type": "code",
      "metadata": {
        "id": "IY96my6R7hE5",
        "colab_type": "code",
        "colab": {}
      },
      "source": [
        "# Removing .json extension\n",
        "train['ID'] = train['ID'].str.rstrip('.json')"
      ],
      "execution_count": 0,
      "outputs": []
    },
    {
      "cell_type": "code",
      "metadata": {
        "id": "MW_HRjfK7ppL",
        "colab_type": "code",
        "colab": {}
      },
      "source": [
        "test['ID'] = test['ID'].str.rstrip('.json')"
      ],
      "execution_count": 0,
      "outputs": []
    },
    {
      "cell_type": "code",
      "metadata": {
        "id": "qhNZnbUwtQj2",
        "colab_type": "code",
        "colab": {}
      },
      "source": [
        "#ID = train.iloc[:,[1]]\n",
        "#train=train.drop(['ID'], axis=1)"
      ],
      "execution_count": 0,
      "outputs": []
    },
    {
      "cell_type": "code",
      "metadata": {
        "id": "u6KYvzg7FnrS",
        "colab_type": "code",
        "outputId": "ac315dc0-91d6-40f9-ea38-2ae09ad956b2",
        "colab": {
          "base_uri": "https://localhost:8080/",
          "height": 212
        }
      },
      "source": [
        "train.columns, test.columns"
      ],
      "execution_count": 57,
      "outputs": [
        {
          "output_type": "execute_result",
          "data": {
            "text/plain": [
              "(Index(['ID', 'Label', 'Statement', 'Subject(s)', 'Speaker',\n",
              "        'Speaker's job title', 'state info', 'party affiliation',\n",
              "        'barely true counts', 'false counts', 'half true counts',\n",
              "        'mostly true counts', 'pants on fire counts',\n",
              "        'the context (venue/location of speech or statement)'],\n",
              "       dtype='object'),\n",
              " Index(['ID', 'Statement', 'Subject(s)', 'Speaker', 'Speaker's job title',\n",
              "        'state info', 'party affiliation', 'barely true counts', 'false counts',\n",
              "        'half true counts', 'mostly true counts', 'pants on fire counts',\n",
              "        'the context (venue/location of speech or statement)'],\n",
              "       dtype='object'))"
            ]
          },
          "metadata": {
            "tags": []
          },
          "execution_count": 57
        }
      ]
    },
    {
      "cell_type": "code",
      "metadata": {
        "id": "5476GMxtbvYE",
        "colab_type": "code",
        "colab": {}
      },
      "source": [
        "X = train.loc[:,['Speaker',\"Speaker's job title\",'state info','party affiliation','the context (venue/location of speech or statement)']]"
      ],
      "execution_count": 0,
      "outputs": []
    },
    {
      "cell_type": "code",
      "metadata": {
        "id": "wZm2kw71bvnX",
        "colab_type": "code",
        "colab": {}
      },
      "source": [
        "X1 = test.loc[:,['Speaker',\"Speaker's job title\",'state info','party affiliation','the context (venue/location of speech or statement)']]"
      ],
      "execution_count": 0,
      "outputs": []
    },
    {
      "cell_type": "code",
      "metadata": {
        "id": "h5KCF31Xbvkc",
        "colab_type": "code",
        "colab": {}
      },
      "source": [
        "X3 = pd.get_dummies(X1)"
      ],
      "execution_count": 0,
      "outputs": []
    },
    {
      "cell_type": "code",
      "metadata": {
        "id": "_vm1ISrfaxKo",
        "colab_type": "code",
        "colab": {}
      },
      "source": [
        "X2 = pd.get_dummies(X)   # gives (1451, 221)  \n",
        "#test = pd.get_dummies(test)    # gives (1459, 206)  \n",
        "x, x1 = X2.align(X3, join='inner', axis=1)  # inner join"
      ],
      "execution_count": 0,
      "outputs": []
    },
    {
      "cell_type": "code",
      "metadata": {
        "id": "UrEjX6uReYx8",
        "colab_type": "code",
        "colab": {}
      },
      "source": [
        "x, x1 = X2.align(X3, join='inner', axis=1)  # inner join"
      ],
      "execution_count": 0,
      "outputs": []
    },
    {
      "cell_type": "code",
      "metadata": {
        "id": "tW5Jf18Hb5ZS",
        "colab_type": "code",
        "outputId": "01dfe9e7-0799-4e9b-8162-755a2d2f8fba",
        "colab": {
          "base_uri": "https://localhost:8080/",
          "height": 34
        }
      },
      "source": [
        "x.shape, x1.shape"
      ],
      "execution_count": 63,
      "outputs": [
        {
          "output_type": "execute_result",
          "data": {
            "text/plain": [
              "((11522, 1155), (1266, 1155))"
            ]
          },
          "metadata": {
            "tags": []
          },
          "execution_count": 63
        }
      ]
    },
    {
      "cell_type": "code",
      "metadata": {
        "id": "xwMtlbWEs_2A",
        "colab_type": "code",
        "colab": {}
      },
      "source": [
        "#x = x_data(train)  #train set"
      ],
      "execution_count": 0,
      "outputs": []
    },
    {
      "cell_type": "code",
      "metadata": {
        "id": "daLOLynD3JXp",
        "colab_type": "code",
        "colab": {}
      },
      "source": [
        "#x1 = x_data(test)"
      ],
      "execution_count": 0,
      "outputs": []
    },
    {
      "cell_type": "code",
      "metadata": {
        "id": "FCowIICLEXUD",
        "colab_type": "code",
        "colab": {}
      },
      "source": [
        "#x.shape, x1.shape"
      ],
      "execution_count": 0,
      "outputs": []
    },
    {
      "cell_type": "code",
      "metadata": {
        "id": "lB8zG5b6y-VB",
        "colab_type": "code",
        "outputId": "01c7d744-a561-4331-ff72-ad0f851ba871",
        "colab": {
          "base_uri": "https://localhost:8080/",
          "height": 584
        }
      },
      "source": [
        "train.head()"
      ],
      "execution_count": 67,
      "outputs": [
        {
          "output_type": "execute_result",
          "data": {
            "text/html": [
              "<div>\n",
              "<style scoped>\n",
              "    .dataframe tbody tr th:only-of-type {\n",
              "        vertical-align: middle;\n",
              "    }\n",
              "\n",
              "    .dataframe tbody tr th {\n",
              "        vertical-align: top;\n",
              "    }\n",
              "\n",
              "    .dataframe thead th {\n",
              "        text-align: right;\n",
              "    }\n",
              "</style>\n",
              "<table border=\"1\" class=\"dataframe\">\n",
              "  <thead>\n",
              "    <tr style=\"text-align: right;\">\n",
              "      <th></th>\n",
              "      <th>ID</th>\n",
              "      <th>Label</th>\n",
              "      <th>Statement</th>\n",
              "      <th>Subject(s)</th>\n",
              "      <th>Speaker</th>\n",
              "      <th>Speaker's job title</th>\n",
              "      <th>state info</th>\n",
              "      <th>party affiliation</th>\n",
              "      <th>barely true counts</th>\n",
              "      <th>false counts</th>\n",
              "      <th>half true counts</th>\n",
              "      <th>mostly true counts</th>\n",
              "      <th>pants on fire counts</th>\n",
              "      <th>the context (venue/location of speech or statement)</th>\n",
              "    </tr>\n",
              "  </thead>\n",
              "  <tbody>\n",
              "    <tr>\n",
              "      <th>0</th>\n",
              "      <td>10540</td>\n",
              "      <td>half-true</td>\n",
              "      <td>declin coal start start natur ga took start be...</td>\n",
              "      <td>energy,history,job-accomplishments</td>\n",
              "      <td>scott-surovell</td>\n",
              "      <td>State delegate</td>\n",
              "      <td>Virginia</td>\n",
              "      <td>democrat</td>\n",
              "      <td>0.0</td>\n",
              "      <td>0.0</td>\n",
              "      <td>1.0</td>\n",
              "      <td>1.0</td>\n",
              "      <td>0.0</td>\n",
              "      <td>a floor speech.</td>\n",
              "    </tr>\n",
              "    <tr>\n",
              "      <th>1</th>\n",
              "      <td>324</td>\n",
              "      <td>mostly-true</td>\n",
              "      <td>hillari clinton agre john mccain vote give geo...</td>\n",
              "      <td>foreign-policy</td>\n",
              "      <td>barack-obama</td>\n",
              "      <td>President</td>\n",
              "      <td>Illinois</td>\n",
              "      <td>democrat</td>\n",
              "      <td>70.0</td>\n",
              "      <td>71.0</td>\n",
              "      <td>160.0</td>\n",
              "      <td>163.0</td>\n",
              "      <td>9.0</td>\n",
              "      <td>Denver</td>\n",
              "    </tr>\n",
              "    <tr>\n",
              "      <th>2</th>\n",
              "      <td>1123</td>\n",
              "      <td>false</td>\n",
              "      <td>care reform legisl like mandat free sex chang ...</td>\n",
              "      <td>health-care</td>\n",
              "      <td>blog-posting</td>\n",
              "      <td>Unknown</td>\n",
              "      <td>Unknown1</td>\n",
              "      <td>none</td>\n",
              "      <td>7.0</td>\n",
              "      <td>19.0</td>\n",
              "      <td>3.0</td>\n",
              "      <td>5.0</td>\n",
              "      <td>44.0</td>\n",
              "      <td>a news release</td>\n",
              "    </tr>\n",
              "    <tr>\n",
              "      <th>3</th>\n",
              "      <td>9028</td>\n",
              "      <td>half-true</td>\n",
              "      <td>econom turnaround start end term</td>\n",
              "      <td>economy,jobs</td>\n",
              "      <td>charlie-crist</td>\n",
              "      <td>Unknown</td>\n",
              "      <td>Florida</td>\n",
              "      <td>democrat</td>\n",
              "      <td>15.0</td>\n",
              "      <td>9.0</td>\n",
              "      <td>20.0</td>\n",
              "      <td>19.0</td>\n",
              "      <td>2.0</td>\n",
              "      <td>an interview on CNN</td>\n",
              "    </tr>\n",
              "    <tr>\n",
              "      <th>4</th>\n",
              "      <td>12465</td>\n",
              "      <td>true</td>\n",
              "      <td>chicago bear start quarterback last total numb...</td>\n",
              "      <td>education</td>\n",
              "      <td>robin-vos</td>\n",
              "      <td>Wisconsin Assembly speaker</td>\n",
              "      <td>Wisconsin</td>\n",
              "      <td>republican</td>\n",
              "      <td>0.0</td>\n",
              "      <td>3.0</td>\n",
              "      <td>2.0</td>\n",
              "      <td>5.0</td>\n",
              "      <td>1.0</td>\n",
              "      <td>a an online opinion-piece</td>\n",
              "    </tr>\n",
              "  </tbody>\n",
              "</table>\n",
              "</div>"
            ],
            "text/plain": [
              "      ID  ... the context (venue/location of speech or statement)\n",
              "0  10540  ...                                    a floor speech. \n",
              "1    324  ...                                             Denver \n",
              "2   1123  ...                                     a news release \n",
              "3   9028  ...                                an interview on CNN \n",
              "4  12465  ...                          a an online opinion-piece \n",
              "\n",
              "[5 rows x 14 columns]"
            ]
          },
          "metadata": {
            "tags": []
          },
          "execution_count": 67
        }
      ]
    },
    {
      "cell_type": "code",
      "metadata": {
        "id": "RwdyWK6c17rj",
        "colab_type": "code",
        "colab": {}
      },
      "source": [
        "rest_df_train = train.loc[:,['ID','barely true counts','false counts',\"half true counts\",'mostly true counts','pants on fire counts']]\n",
        "rest_df_test = test.loc[:,['ID','barely true counts','false counts',\"half true counts\",'mostly true counts','pants on fire counts']]"
      ],
      "execution_count": 0,
      "outputs": []
    },
    {
      "cell_type": "code",
      "metadata": {
        "id": "833ElA6f2qzC",
        "colab_type": "code",
        "outputId": "7d281f78-d14e-4d9c-a498-bdcbb0e05971",
        "colab": {
          "base_uri": "https://localhost:8080/",
          "height": 301
        }
      },
      "source": [
        "rest_df_train.head(), rest_df_test.head()"
      ],
      "execution_count": 69,
      "outputs": [
        {
          "output_type": "execute_result",
          "data": {
            "text/plain": [
              "(      ID  barely true counts  ...  mostly true counts  pants on fire counts\n",
              " 0  10540                 0.0  ...                 1.0                   0.0\n",
              " 1    324                70.0  ...               163.0                   9.0\n",
              " 2   1123                 7.0  ...                 5.0                  44.0\n",
              " 3   9028                15.0  ...                19.0                   2.0\n",
              " 4  12465                 0.0  ...                 5.0                   1.0\n",
              " \n",
              " [5 rows x 6 columns],\n",
              "       ID  barely true counts  ...  mostly true counts  pants on fire counts\n",
              " 0  11685                   2  ...                   0                     0\n",
              " 1  11096                  63  ...                  37                    61\n",
              " 2   5209                   1  ...                   1                     1\n",
              " 3   9524                   5  ...                   2                     7\n",
              " 4   5962                   1  ...                   1                     0\n",
              " \n",
              " [5 rows x 6 columns])"
            ]
          },
          "metadata": {
            "tags": []
          },
          "execution_count": 69
        }
      ]
    },
    {
      "cell_type": "code",
      "metadata": {
        "id": "70e3EqojoN0v",
        "colab_type": "code",
        "outputId": "1393d615-4c2c-43b1-c9a4-fe988d8a9e6e",
        "colab": {
          "base_uri": "https://localhost:8080/",
          "height": 107
        }
      },
      "source": [
        "#NOw We will convert the target variable into LabelEncoder\n",
        "y_train = train.loc[:,['Label']]\n",
        "labelencoder1 = LabelEncoder()\n",
        "labelencoder1.fit(y_train.values)\n",
        "y_train=labelencoder1.transform(y_train)"
      ],
      "execution_count": 70,
      "outputs": [
        {
          "output_type": "stream",
          "text": [
            "/usr/local/lib/python3.6/dist-packages/sklearn/preprocessing/label.py:219: DataConversionWarning: A column-vector y was passed when a 1d array was expected. Please change the shape of y to (n_samples, ), for example using ravel().\n",
            "  y = column_or_1d(y, warn=True)\n",
            "/usr/local/lib/python3.6/dist-packages/sklearn/preprocessing/label.py:252: DataConversionWarning: A column-vector y was passed when a 1d array was expected. Please change the shape of y to (n_samples, ), for example using ravel().\n",
            "  y = column_or_1d(y, warn=True)\n"
          ],
          "name": "stderr"
        }
      ]
    },
    {
      "cell_type": "code",
      "metadata": {
        "id": "rfZc3BfpoR25",
        "colab_type": "code",
        "colab": {}
      },
      "source": [
        "#pd.DataFrame(y_train).nunique()"
      ],
      "execution_count": 0,
      "outputs": []
    },
    {
      "cell_type": "code",
      "metadata": {
        "id": "kgxvggtCsLm4",
        "colab_type": "code",
        "colab": {}
      },
      "source": [
        "# Converting the Text into list\n",
        "stat_train = train['Statement'].tolist()\n",
        "stat_test = test['Statement'].tolist()\n",
        "\n",
        "# Adding train and test data\n",
        "lis_stat = stat_train + stat_test "
      ],
      "execution_count": 0,
      "outputs": []
    },
    {
      "cell_type": "code",
      "metadata": {
        "id": "z2__ULMPsLkd",
        "colab_type": "code",
        "outputId": "206fa2ec-f407-4f04-d713-b2d071369d3f",
        "colab": {
          "base_uri": "https://localhost:8080/",
          "height": 90
        }
      },
      "source": [
        "#Fitting TFIDF on summary\n",
        "tfv_sum = TfidfVectorizer(max_features=5000, lowercase=True, analyzer='word',\n",
        " stop_words= 'english',ngram_range=(1,1))\n",
        "# Fitting TF-IDF to both training and test sets (semi-supervised learning)\n",
        "tfv_sum.fit(lis_stat)\n",
        "print(tfv_sum.vocabulary_)\n",
        "print(tfv_sum.idf_)\n",
        "xtrain_tfv_sum =  tfv_sum.transform(stat_train).toarray()\n",
        "xtest_tfv_sum = tfv_sum.transform(stat_test).toarray()\n",
        "type(xtrain_tfv_sum)"
      ],
      "execution_count": 73,
      "outputs": [
        {
          "output_type": "stream",
          "text": [
            "{'declin': 1111, 'coal': 840, 'start': 4254, 'natur': 2927, 'ga': 1805, 'took': 4556, 'begin': 393, 'georg': 1846, 'bush': 596, 'administr': 64, 'hillari': 2067, 'clinton': 826, 'agre': 99, 'john': 2360, 'mccain': 2708, 'vote': 4812, 'benefit': 410, 'doubt': 1313, 'iran': 2298, 'care': 650, 'reform': 3683, 'legisl': 2500, 'like': 2542, 'mandat': 2648, 'free': 1769, 'sex': 4027, 'chang': 728, 'surgeri': 4383, 'econom': 1383, 'turnaround': 4637, 'end': 1442, 'term': 4475, 'chicago': 756, 'bear': 380, 'quarterback': 3574, 'total': 4563, 'number': 3025, 'tenur': 4474, 'uw': 4748, 'faculti': 1575, 'decad': 1105, 'jim': 2353, 'live': 2561, 'district': 1269, 'repres': 3743, 'im': 2171, 'person': 3294, 'stage': 4241, 'work': 4947, 'activ': 51, 'pass': 3217, 'russ': 3884, 'feingold': 1625, 'toughest': 4568, 'ethic': 1497, 'sinc': 4088, 'howev': 2129, 'million': 2797, 'oregon': 3108, 'lotteri': 2597, 'fund': 1795, 'port': 3401, 'newport': 2962, 'eventu': 1504, 'land': 2460, 'new': 2958, 'noaa': 2984, 'marin': 2671, 'oper': 3093, 'gop': 1892, 'primari': 3474, 'oppon': 3096, 'glenn': 1873, 'grothman': 1925, 'joe': 2359, 'cast': 674, 'compromis': 903, 'cost': 1005, 'higher': 2054, 'electr': 1406, 'time': 4538, 'histori': 2074, 'share': 4034, 'nation': 2923, 'popular': 3395, 'margin': 2667, 'smaller': 4127, 'latino': 2475, 'nearli': 2937, 'american': 165, 'slip': 4119, 'middl': 2780, 'class': 805, 'poverti': 3421, 'mitt': 2830, 'romney': 3850, 'governor': 1900, 'massachusett': 2688, 'didnt': 1205, 'slow': 4121, 'rate': 3619, 'growth': 1930, 'govern': 1898, 'actual': 54, 'cut': 1062, 'economi': 1384, 'billion': 437, 'shutdown': 4068, 'afford': 84, 'act': 49, 'alreadi': 149, 'sens': 4003, 'waiv': 4821, 'otherwis': 3119, 'suspend': 4399, 'elect': 1404, 'novemb': 3019, 'chose': 771, 'young': 4986, 'lowincom': 2610, 'worker': 4948, 'oppos': 3098, 'requir': 3752, 'buy': 603, 'motorcycl': 2884, 'said': 3898, 'provis': 3544, 'quot': 3580, 'disgrac': 1246, 'rep': 3732, 'ron': 3853, 'kind': 2424, 'dwi': 1362, 'fellow': 1627, 'democrat': 1153, 'went': 4881, 'spend': 4207, 'spree': 4226, 'credit': 1034, 'card': 649, 'max': 2703, 'water': 4850, 'philippin': 3314, 'rais': 3600, 'world': 4953, 'bank': 343, 'becam': 384, 'partial': 3203, 'owner': 3165, 'left': 2497, 'puerto': 3554, 'rico': 3808, 'women': 4942, 'men': 2747, 'make': 2638, 'adjust': 61, 'inflat': 2228, 'kitzhab': 2430, 'unit': 4705, 'state': 4256, 'highest': 2055, 'corpor': 998, 'best': 420, 'auto': 308, 'industri': 2221, 'america': 164, 'scott': 3956, 'walker': 4825, 'favor': 1608, 'famili': 1588, 'children': 764, 'want': 4831, 'rid': 3809, 'plan': 3349, 'parenthood': 3197, 'dont': 1306, 'know': 2437, 'jonathan': 2368, 'hate': 2004, 'crime': 1036, 'muslim': 2908, 'mosqu': 2875, 'tripl': 4619, 'pari': 3198, 'san': 3908, 'bernardino': 417, 'rick': 3807, 'perri': 3290, 'lost': 2595, 'remain': 3715, 'texa': 4485, 'governorship': 1901, 'landslid': 2462, 'isi': 2307, 'support': 4372, 'tweet': 4642, 'shoot': 4052, 'began': 391, 'chattanooga': 742, 'youth': 4988, 'unemploy': 4691, 'minor': 2809, 'commun': 882, 'paul': 3236, 'ryan': 3889, 'endors': 1445, 'trump': 4626, 'look': 2586, 'right': 3817, 'constantli': 951, 'budget': 569, 'deficit': 1129, 'good': 1890, 'busi': 599, 'climat': 822, 'come': 868, 'sever': 4024, 'month': 2859, 'abl': 11, 'burn': 592, 'exist': 1530, 'plant': 3352, 'tax': 4441, 'today': 4545, 'pay': 3241, 'mark': 2672, 'pryor': 3547, 'feder': 1619, 'think': 4507, 'author': 306, 'regul': 3695, 'toilet': 4548, 'seat': 3971, 'austin': 303, 'citi': 795, 'basic': 368, 'doubl': 1311, 'size': 4106, 'everi': 1505, 'nuclear': 3023, 'test': 4482, 'conduct': 921, 'earth': 1371, 'th': 4490, 'perman': 3285, 'member': 2742, 'secur': 3986, 'council': 1009, 'case': 669, 'catastroph': 679, 'event': 1503, 'offic': 3061, 'center': 701, 'diseas': 1244, 'control': 975, 'prevent': 3468, 'ad': 55, 'trillion': 4616, 'debt': 1103, 'weve': 4886, 'suprem': 4376, 'court': 1019, 'justic': 2386, 'suggest': 4354, 'decid': 1108, 'base': 364, 'south': 4181, 'african': 89, 'law': 2479, 'marco': 2665, 'rubio': 3872, 'skip': 4109, 'defens': 1126, 'includ': 2200, 'arm': 243, 'fight': 1650, 'david': 1090, 'cicillin': 786, 'respons': 3770, 'loan': 2568, 'guarante': 1932, 'solyndra': 4161, 'fail': 1577, 'solar': 4151, 'compani': 886, 'ohio': 3066, 'item': 2317, 'later': 2471, 'sign': 4075, 'gov': 1897, 'kasich': 2395, 'seek': 3987, 'abort': 15, 'undergo': 4681, 'mandatori': 2649, 'probe': 3494, 'director': 1225, 'homeland': 2094, 'use': 4742, 'terrorist': 4481, 'attack': 286, 'instead': 2260, 'substitut': 4344, 'manmad': 2655, 'disast': 1233, 'africanamerican': 90, 'hispan': 2072, 'obamacar': 3038, 'provid': 3543, 'insur': 2266, 'nonu': 2999, 'resid': 3758, 'illeg': 2168, 'barack': 348, 'exactli': 1514, 'reduct': 3674, 'commiss': 875, 'idea': 2160, 'rule': 3875, 'engag': 1451, 'probabl': 3493, 'life': 2534, 'cosponsor': 1004, 'jail': 2324, 'flag': 1681, 'paperback': 3192, 'edit': 1387, 'book': 486, 'delet': 1142, 'line': 2549, 'individu': 2220, 'model': 2839, 'countri': 1015, 'maggi': 2627, 'hassan': 2002, 'tuition': 4632, 'terri': 4477, 'mcauliff': 2707, 'invent': 2287, 'scheme': 3943, 'rent': 3730, 'lincoln': 2547, 'creat': 1031, 'job': 2356, 'half': 1959, 'york': 4982, 'privat': 3487, 'sector': 3985, 'town': 4574, 'west': 4884, 'truck': 4623, 'georgia': 1847, 'earn': 1369, 'cent': 700, 'dollar': 1295, 'verifi': 4774, 'employe': 1434, 'inaccur': 2190, 'anywher': 204, 'way': 4856, 'excess': 1521, 'build': 574, 'wall': 4826, 'ago': 98, 'long': 2581, 'environment': 1475, 'impact': 2178, 'statement': 4259, 'sen': 3999, 'obama': 3037, 'campaign': 621, 'announc': 185, 'choos': 770, 'cabinet': 607, 'regist': 3691, 'turn': 4636, 'public': 3548, 'high': 2053, 'school': 3948, 'offer': 3060, 'republican': 3747, 'candid': 632, 'militari': 2791, 'recruit': 3663, 'harvard': 1997, 'elena': 1410, 'kagan': 2390, 'posit': 3410, 'unanim': 4669, 'wrong': 4969, 'teacher': 4449, 'mayor': 2706, 'sanctuari': 3910, 'transgend': 4590, 'chanc': 727, 'murder': 2901, 'bain': 334, 'capit': 641, 'help': 2036, 'earli': 1365, 'childhood': 762, 'learn': 2491, 'bright': 541, 'ladi': 2455, 'michel': 2775, 'prais': 3426, 'man': 2646, 'rush': 3881, 'social': 4144, 'media': 2728, 'post': 3413, 'phil': 3311, 'gingrey': 1862, 'gave': 1829, 'power': 3424, 'electron': 1407, 'spi': 4210, 'warrant': 4839, 'alex': 127, 'sink': 4094, 'funnel': 1799, 'quarter': 3573, 'nobid': 2985, 'contract': 969, 'popul': 3394, 'virginia': 4796, 'net': 2950, 'zero': 4994, 'creation': 1032, 'bob': 473, 'mcdonnel': 2714, 'home': 2093, 'valu': 4758, 'florida': 1696, 'collaps': 856, 'construct': 955, 'foreclosur': 1719, 'arizona': 239, 'immigr': 2175, 'polic': 3377, 'stop': 4287, 'anyon': 201, 'appear': 212, 'reason': 3637, 'suspici': 4400, 'undocu': 4689, 'war': 4832, 'ii': 2166, 'factor': 1572, 'drive': 1339, 'recess': 3648, 'consum': 958, 'nativ': 2925, 'begun': 394, 'save': 3925, 'nomine': 2989, 'confirm': 927, 'hear': 2022, 'homeless': 2095, 'veteran': 4780, 'charli': 737, 'crist': 1041, 'medicar': 2732, 'advantag': 71, 'program': 3508, 'unaccept': 4667, 'chines': 767, 'larger': 2468, 'wind': 4916, 'panel': 3186, 'manufactur': 2658, 'europ': 1500, 'togeth': 4547, 'forget': 1727, 'brown': 557, 'let': 2511, 'employ': 1433, 'deni': 1156, 'coverag': 1022, 'birth': 447, 'point': 3370, 'past': 3222, 'egypt': 1394, 'great': 1914, 'stride': 4308, 'polit': 3380, 'attent': 289, 'paid': 3176, 'week': 4872, 'chri': 773, 'christi': 775, 'benghazi': 411, 'signific': 4078, 'steve': 4276, 'southerland': 4183, 'import': 2184, 'nurs': 3029, 'crimin': 1038, 'transport': 4596, 'built': 575, 'prison': 3484, 'day': 1091, 'mass': 2687, 'incarcer': 2195, 'explos': 1548, 'nonviol': 3001, 'offend': 3058, 'virtual': 4798, 'noth': 3014, 'burden': 584, 'fastestgrow': 1602, 'increas': 2207, 'major': 2637, 'phoenix': 3317, 'kidnap': 2419, 'belong': 401, 'aflcio': 86, 'commission': 876, 'squat': 4232, 'poll': 3383, 'beat': 381, 'ronald': 3854, 'reagan': 3632, 'sent': 4004, 'troop': 4620, 'conflict': 929, 'circumst': 792, 'peacekeep': 3251, 'set': 4020, 'jolli': 2366, 'lowest': 2609, 'depress': 1169, 'averag': 313, 'student': 4321, 'pocket': 3369, 'univers': 4706, 'die': 1206, 'gunfir': 1944, 'effect': 1390, 'mean': 2718, 'face': 1566, 'modifi': 2843, 'mortgag': 2874, 'short': 4056, 'sale': 3902, 'lender': 2506, 'depart': 1163, 'agricultur': 101, 'websit': 4868, 'permit': 3287, 'carri': 661, 'load': 2567, 'hidden': 2051, 'gun': 1943, 'leav': 2493, 'hous': 2123, 'atlanta': 281, 'streetcar': 4300, 'expect': 1536, 'minimum': 2805, 'wage': 4819, 'hour': 2121, 'lift': 2538, 'secretari': 3982, 'kerri': 2413, 'senat': 4000, 'flew': 1687, 'met': 2761, 'communist': 883, 'dictat': 1204, 'daniel': 1078, 'accus': 40, 'terror': 4480, 'nato': 2926, 'open': 3091, 'divis': 1277, 'sure': 4379, 'larg': 2467, 'say': 3927, 'critic': 1043, 'alway': 153, 'prochoic': 3499, 'gina': 1861, 'raimondo': 3597, 'invest': 2288, 'fee': 1621, 'pension': 3269, 'portfolio': 3402, 'gone': 1888, 'annual': 186, 'grow': 1928, 'longer': 2582, 'lay': 2484, 'firefight': 1668, 'old': 3072, 'twothird': 4653, 'wisconsinit': 4928, 'receiv': 3646, 'check': 748, 'search': 3969, 'current': 1059, 'exempt': 1527, 'healthcar': 2017, 'premium': 3450, 'ir': 2297, 'investig': 2289, 'liber': 2520, 'group': 1927, 'progress': 3509, 'everybodi': 1507, 'promis': 3515, 'fastest': 1601, 'pace': 3170, 'meet': 2735, 'prime': 3476, 'minist': 2807, 'benjamin': 412, 'netanyahu': 2951, 'marri': 2676, 'love': 2605, 'peter': 3301, 'defazio': 1123, 'earl': 1364, 'blumenau': 468, 'socialist': 4145, 'openli': 3092, 'serv': 4014, 'congress': 934, 'rudi': 3873, 'giuliani': 1867, 'presid': 3460, 'britain': 543, 'european': 1501, 'union': 4703, 'ks': 2444, 'medicaid': 2731, 'second': 3975, 'duti': 1361, 'colleg': 859, 'columbu': 864, 'contribut': 973, 'cfo': 713, 'shut': 4067, 'scam': 3936, 'refund': 3685, 'victim': 4786, 'comput': 905, 'scienc': 3952, 'degre': 1135, 'plu': 3364, 'air': 107, 'forc': 1715, 'taxpay': 4443, 'footbal': 1712, 'leagu': 2489, 'hussein': 2147, 'accept': 29, 'islam': 2309, 'sharia': 4035, 'domest': 1299, 'disput': 1258, 'commit': 877, 'legal': 2499, 'purchas': 3559, 'neighborhood': 2948, 'close': 829, 'told': 4549, 'gay': 1830, 'organ': 3111, 'stronger': 4314, 'advoc': 77, 'special': 4199, 'ted': 4457, 'kennedi': 2407, 'speaker': 4197, 'consist': 948, 'halfway': 1961, 'goal': 1878, 'seven': 4022, 'bennet': 413, 'guantanamo': 1931, 'bay': 377, 'bring': 542, 'colorado': 861, 'oregonian': 3109, 'amaz': 157, 'donat': 1303, 'syrian': 4419, 'iraqi': 2301, 'refuge': 3684, 'research': 3754, 'vast': 4764, 'arriv': 249, 'believ': 399, 'sourc': 4180, 'prosper': 3531, 'newt': 2966, 'gingrich': 1863, 'amnesti': 167, 'mr': 2892, 'caprio': 644, 'career': 651, 'politician': 3381, 'rhode': 3796, 'island': 2311, 'temporari': 4467, 'disabl': 1227, 'jersey': 2345, 'exceed': 1519, 'revenu': 3786, 'money': 2850, 'street': 4299, 'anybodi': 199, 'donald': 1301, 'ok': 3069, 'taken': 4426, 'lobbyist': 2570, 'expressli': 1553, 'ban': 342, 'racial': 3584, 'profil': 3506, 'beg': 390, 'send': 4001, 'coast': 843, 'guard': 1933, 'patrol': 3232, 'lake': 2458, 'usmexico': 4744, 'border': 493, 'va': 4750, 'wait': 4820, 'rob': 3835, 'cornil': 995, 'dan': 1074, 'branch': 520, 'tri': 4612, 'expand': 1534, 'improv': 2189, 'michigan': 2776, 'bottl': 500, 'deposit': 1168, 'profit': 3507, 'admit': 67, 'gener': 1838, 'goe': 1881, 'educ': 1388, 'fought': 1742, 'develop': 1194, 'drain': 1327, 'johnson': 2362, 'ponzi': 3387, 'type': 4656, 'polici': 3379, 'refer': 3677, 'north': 3006, 'carolina': 657, 'directli': 1224, 'relat': 3706, 'spent': 4208, 'car': 646, 'finland': 1665, 'windmil': 4918, 'china': 766, 'sarah': 3918, 'wasilla': 4844, 'highli': 2058, 'respect': 3767, 'librarian': 2525, 'refus': 3686, 'consid': 946, 'remov': 3721, 'librari': 2524, 'milwauke': 2801, 'approv': 225, 'reduc': 3673, 'maximum': 2704, 'forfeitur': 1725, 'marijuana': 2669, 'possess': 3411, 'differ': 1207, 'bicycl': 427, 'violat': 4793, 'wrote': 4972, 'letter': 2513, 'hillarycar': 2068, 'patent': 3226, 'trademark': 4580, 'complaint': 894, 'washington': 4843, 'redskin': 3672, 'propos': 3526, 'caus': 688, 'decreas': 1113, 'hundr': 2137, 'lose': 2593, 'mexican': 2768, 'citizen': 796, 'statist': 4265, 'veto': 4781, 'packag': 3173, 'illinoi': 2169, 'gubernatori': 1934, 'bradi': 515, 'prioriti': 3483, 'win': 4915, 'sponsor': 4219, 'shelter': 4044, 'dog': 1291, 'cat': 678, 'chamber': 723, 'worsen': 4958, 'action': 50, 'peak': 3252, 'trail': 4586, 'rest': 3771, 'consecut': 942, 'thoma': 4515, 'eric': 1486, 'duncan': 1359, 'came': 618, 'elev': 1411, 'temperatur': 4466, 'afghanistan': 85, 'foreign': 1720, 'price': 3471, 'webster': 4869, 'form': 1728, 'marriag': 2677, 'trap': 4598, 'abus': 25, 'relationship': 3707, 'judg': 2374, 'better': 422, 'lower': 2607, 'els': 1418, 'lot': 2596, 'casino': 672, 'bankrupt': 345, 'small': 4125, 'senior': 4002, 'kid': 2418, 'arrest': 248, 'leader': 2487, 'area': 234, 'rank': 3611, 'oil': 3068, 'rig': 3815, 'combin': 867, 'payday': 3244, 'poor': 3389, 'charg': 732, 'trust': 4627, 'sound': 4178, 'anyth': 202, 'function': 1794, 'voter': 4813, 'incumb': 2211, 'break': 527, 'pledg': 3362, 'strickland': 4305, 'incom': 2201, 'hike': 2065, 'defeat': 1124, 'soundli': 4179, 'tuesday': 4631, 'alert': 126, 'explod': 1545, 'greater': 1915, 'percentag': 3275, 'bar': 347, 'gen': 1836, 'petraeu': 3304, 'armi': 244, 'damag': 1073, 'method': 2763, 'stab': 4234, 'club': 835, 'enemi': 1448, 'order': 3104, 'minim': 2804, 'carbon': 647, 'output': 3136, 'singl': 4090, 'block': 460, 'costofliv': 1007, 'januari': 2330, 'male': 2642, 'babi': 321, 'mani': 2652, 'strike': 4309, 'syria': 4418, 'assad': 262, 'chemic': 751, 'weapon': 4863, 'cash': 671, 'clunker': 836, 'got': 1895, 'local': 2572, 'youv': 4990, 'gut': 1946, 'recogn': 3653, 'real': 3633, 'dewhurst': 1198, 'record': 3657, 'promot': 3516, 'beach': 378, 'mind': 2802, 'conclud': 913, 'shouldnt': 4060, 'kill': 2420, 'lead': 2486, 'pack': 3172, 'access': 30, 'hb': 2010, 'needl': 2943, 'core': 991, 'accord': 35, 'agenc': 94, 'away': 318, 'tom': 4552, 'kean': 2403, 'largest': 2469, 'biggest': 434, 'readi': 3631, 'command': 870, 'chief': 758, 'median': 2729, 'seen': 3988, 'barrett': 359, 'held': 2031, 'properti': 3523, 'unlik': 4711, 'assembl': 265, 'bipartisan': 444, 'josh': 2371, 'mandel': 2650, 'lie': 2530, 'leas': 2492, 'drill': 1337, 'hide': 2052, 'possibl': 3412, 'turnpik': 4640, 'surplu': 4386, 'project': 3512, 'nomin': 2988, 'trip': 4618, 'east': 1377, 'counti': 1013, 'settl': 4021, 'lawsuit': 2481, 'decis': 1109, 'sheriff': 4045, 'clark': 804, 'jr': 2372, 'untrain': 4723, 'correct': 999, 'deputi': 1171, 'fbi': 1610, 'jame': 2326, 'comey': 869, 'discuss': 1243, 'consider': 947, 'privatesector': 3488, 'biden': 430, 'gulf': 1942, 'surg': 4381, 'partit': 3209, 'iraq': 2300, 'limbaugh': 2544, 'clear': 814, 'hed': 2028, 'succeed': 4346, 'wasnt': 4845, 'perdu': 3278, 'abolish': 14, 'elimin': 1413, 'campu': 624, 'twice': 4648, 'graduat': 1906, 'theyv': 4505, 'imprison': 2188, 'grown': 1929, 'score': 3955, 'flat': 1682, 'affect': 80, 'thousand': 4518, 'parti': 3202, 'cornyn': 996, 'greg': 1921, 'abbott': 5, 'gdp': 1832, 'nobodi': 2986, 'mile': 2789, 'closer': 831, 'eastern': 1378, 'need': 2941, 'photo': 3320, 'id': 2158, 'twenti': 4644, 'portland': 3404, 'pearl': 3254, 'allow': 145, 'payrol': 3247, 'holiday': 2088, 'expir': 1542, 'anoth': 188, 'estim': 1495, 'nafta': 2912, 'trade': 4579, 'pennsylvania': 3268, 'numer': 3027, 'studi': 4323, 'shown': 4063, 'socal': 4142, 'righttowork': 3818, 'gross': 1924, 'product': 3501, 'histor': 2073, 'affair': 79, 'scandal': 3938, 'satisfi': 3921, 'driven': 1340, 'initi': 2237, 'heard': 2023, 'christma': 778, 'underwear': 4688, 'bomber': 481, 'isol': 2313, 'extremist': 1562, 'sherrod': 4046, 'stimulu': 4280, 'specif': 4201, 'claim': 802, 'rich': 3802, 'charleston': 736, 'given': 1869, 'background': 324, 'fast': 1599, 'okay': 3070, 'soldier': 4153, 'twelv': 4643, 'thrown': 4525, 'challeng': 722, 'reject': 3704, 'notion': 3017, 'unconstitut': 4675, 'warren': 4840, 'buffett': 573, 'lemieux': 2504, 'precinct': 3432, 'allen': 140, 'murphi': 2902, 'recount': 3659, 'kathleen': 2398, 'sebeliu': 3973, 'determin': 1190, 'yearold': 4979, 'patient': 3229, 'klein': 2433, 'repeatedli': 3739, 'enforc': 1450, 'data': 1083, 'treasur': 4603, 'saw': 3926, 'houston': 2125, 'drop': 1343, 'level': 2514, 'columbia': 862, 'barri': 360, 'richest': 3805, 'millionair': 2798, 'solut': 4158, 'crisi': 1040, 'vacat': 4753, 'hypocrisi': 2154, 'foundat': 1743, 'staff': 4239, 'femal': 1632, 'violenc': 4794, 'adopt': 68, 'fallen': 1586, 'question': 3575, 'miranda': 2813, 'warn': 4837, 'minut': 2810, 'pregnanc': 3443, 'unintend': 4702, 'borrow': 495, 'saudi': 3923, 'result': 3776, 'depend': 1164, 'welcom': 4877, 'complain': 893, 'gain': 1807, 'entir': 1467, 'previou': 3469, 'thing': 4506, 'head': 2011, 'brought': 554, 'dairi': 1070, 'workforc': 4949, 'nationwid': 2924, 'someth': 4164, 'portman': 3406, 'irrespons': 2305, 'dekalb': 1136, 'palin': 3181, 'rightw': 3819, 'pat': 3224, 'buchanan': 563, 'energi': 1449, 'jeann': 2336, 'shaheen': 4031, 'measur': 2724, 'dc': 1092, 'strictest': 4307, 'skyrocket': 4111, 'toughen': 4566, 'penalti': 3263, 'workplac': 4951, 'gender': 1837, 'discrimin': 1242, 'cook': 982, 'clean': 811, 'infrastructur': 2234, 'proper': 3521, 'collect': 858, 'predatori': 3438, 'target': 4436, 'decemb': 1106, 'period': 3283, 'difficult': 1208, 'hire': 2071, 'cbo': 692, 'congression': 935, 'thompson': 4516, 'cap': 637, 'fiscal': 1672, 'reserv': 3756, 'strateg': 4295, 'petroleum': 3305, 'fertil': 1637, 'uninsur': 4701, 'firearm': 1667, 'homicid': 2098, 'upward': 4734, 'ultrasound': 4665, 'harbor': 1983, 'youd': 4984, 'common': 879, 'pill': 3329, 'jason': 2333, 'kander': 2392, 'suspect': 4398, 'soil': 4150, 'shelbi': 4041, 'sorri': 4174, 'memphi': 2746, 'intellig': 2269, 'offici': 3062, 'seriou': 4013, 'threat': 4519, 'suburb': 4345, 'absolut': 23, 'juli': 2378, 'locat': 2573, 'miss': 2820, 'teenag': 4460, 'daughter': 1087, 'partner': 3210, 'blame': 456, 'mike': 2788, 'nanci': 2914, 'pelosi': 3260, 'straight': 4293, 'beneficiari': 409, 'account': 36, 'transfer': 4589, 'mechan': 2726, 'place': 3346, 'internet': 2276, 'defund': 1133, 'report': 3742, 'insist': 2251, 'fals': 1587, 'barackobama': 349, 'play': 3356, 'clip': 827, 'samesex': 3907, 'conni': 941, 'mack': 2621, 'iv': 2318, 'eisenhow': 1400, 'personnel': 3296, 'wisconsin': 4927, 'counterpart': 1012, 'airplan': 111, 'list': 2555, 'flow': 1698, 'wont': 4944, 'default': 1122, 'homeown': 2096, 'lend': 2505, 'practic': 3425, 'wipe': 4925, 'doddfrank': 1287, 'brand': 521, 'cup': 1054, 'atmospher': 283, 'condit': 918, 'push': 3564, 'pressur': 3464, 'approxim': 226, 'pound': 3419, 'squar': 4230, 'inch': 2198, 'unlimit': 4712, 'demand': 1151, 'moment': 2848, 'partialbirth': 3204, 'obtain': 3046, 'scholarship': 3947, 'attend': 288, 'star': 4251, 'hook': 2104, 'falcon': 1583, 'stadium': 4237, 'repaid': 3733, 'outsid': 3139, 'missouri': 2824, 'lone': 2580, 'refin': 3680, 'resolut': 3763, 'disapprov': 1231, 'condemn': 917, 'behavior': 396, 'younger': 4987, 'competitor': 891, 'recent': 3647, 'intern': 2275, 'near': 2935, 'academ': 26, 'achiev': 41, 'fulltim': 1792, 'doctor': 1284, 'theyr': 4504, 'sick': 4070, 'feed': 1622, 'owe': 3163, 'mistak': 2826, 'situat': 4099, 'arkansa': 241, 'highspe': 2061, 'train': 4587, 'fulli': 1791, 'extend': 1554, 'add': 57, 'ceil': 695, 'cover': 1021, 'despit': 1182, 'recordbreak': 3658, 'scrutini': 3962, 'conserv': 945, 'mahmoud': 2630, 'abba': 4, 'ali': 131, 'establish': 1493, 'vladimir': 4805, 'putin': 3565, 'board': 470, 'led': 2494, 'appointe': 219, 'jefferson': 2339, 'textbook': 4489, 'standard': 4248, 'figur': 1652, 'inspir': 2254, 'salari': 3901, 'perk': 3284, 'berni': 418, 'pull': 3555, 'truth': 4628, 'matter': 2701, 'physic': 3322, 'logist': 2576, 'wealth': 4860, 'penni': 3267, 'foster': 1741, 'ineffect': 2222, 'routin': 3868, 'cell': 697, 'phone': 3318, 'negoti': 2946, 'clackama': 801, 'renegoti': 3727, 'agreement': 100, 'trimet': 4617, 'portlandmilwauki': 3405, 'light': 2539, 'rail': 3594, 'feloni': 1629, 'dramat': 1329, 'registr': 3692, 'impos': 2185, 'camp': 620, 'deal': 1096, 'born': 494, 'anytim': 203, 'defend': 1125, 'civil': 799, 'postal': 3415, 'servic': 4016, 'financi': 1659, 'loss': 2594, 'delay': 1140, 'opposit': 3099, 'amend': 162, 'confeder': 922, 'battl': 373, 'gift': 1858, 'shop': 4054, 'hurt': 2145, 'sheila': 4040, 'jackson': 2322, 'lee': 2495, 'hey': 2049, 'spot': 4221, 'planet': 3351, 'googl': 1891, 'iron': 2303, 'ore': 3107, 'northern': 3009, 'pristin': 3485, 'stream': 4298, 'wast': 4847, 'highesttax': 2057, 'black': 453, 'wealthiest': 4862, 'sold': 4152, 'seller': 3996, 'onlin': 3090, 'amanda': 155, 'fritz': 1783, 'manag': 2647, 'child': 759, 'gotten': 1896, 'wors': 4957, 'floridian': 1697, 'repeal': 3737, 'congressman': 936, 'pascrel': 3215, 'option': 3101, 'lawmak': 2480, 'effort': 1392, 'draw': 1331, 'surrog': 4390, 'rape': 3613, 'incest': 2197, 'confront': 932, 'issu': 2316, 'offshor': 3064, 'medic': 2730, 'forev': 1723, 'microchip': 2778, 'implant': 2181, 'opt': 3100, 'becom': 386, 'enact': 1439, 'predat': 3437, 'conceal': 906, 'havent': 2006, 'oversight': 3156, 'charter': 740, 'appli': 216, 'elorza': 1417, 'municip': 2900, 'overrul': 3151, 'roughli': 3865, 'ri': 3797, 'nathan': 2922, 'hope': 2108, 'liter': 2557, 'georgian': 1848, 'technic': 4454, 'badli': 329, 'ive': 2319, 'teach': 4448, 'reach': 3628, 'explicitli': 1544, 'disclosur': 1237, 'moroccan': 2870, 'potteri': 3418, 'huge': 2135, 'influenc': 2231, 'arabia': 230, 'alqaida': 148, 'williamson': 4913, 'attorney': 291, 'prosecut': 3528, 'adult': 69, 'fundrais': 1797, 'unmatch': 4713, 'reflect': 3682, 'shrink': 4065, 'labor': 2452, 'convict': 981, 'overse': 3154, 'raid': 3593, 'retir': 3779, 'balanc': 336, 'battlefield': 374, 'green': 1918, 'packer': 3174, 'player': 3357, 'peopl': 3271, 'republ': 3746, 'brag': 517, 'shot': 4059, 'appar': 210, 'civilian': 800, 'fall': 1585, 'faster': 1600, 'hospit': 2114, 'mostli': 2877, 'restaur': 3772, 'highpay': 2059, 'proport': 3525, 'bought': 501, 'vehicl': 4769, 'airport': 112, 'store': 4289, 'sell': 3995, 'watt': 4853, 'bulb': 576, 'row': 3869, 'reelect': 3676, 'carter': 667, 'associ': 271, 'press': 3463, 'patrick': 3230, 'problem': 3495, 'suicid': 4355, 'congressmen': 937, 'addit': 59, 'agent': 96, 'master': 2692, 'lock': 2574, 'run': 3876, 'capac': 639, 'reed': 3675, 'overhaul': 3147, 'origin': 3113, 'frank': 1759, 'pallon': 3182, 'fingerprint': 1663, 'inde': 2212, 'independ': 2214, 'cours': 1018, 'attitud': 290, 'celebr': 696, 'miamidad': 2771, 'omnibu': 3080, 'earmark': 1368, 'talk': 4429, 'tough': 4565, 'kim': 2423, 'myer': 2910, 'reloc': 3714, 'headquart': 2014, 'california': 616, 'prop': 3519, 'film': 1656, 'harass': 1982, 'toll': 4551, 'privileg': 3489, 'cross': 1045, 'bridg': 538, 'isakson': 2306, 'chambliss': 724, 'estat': 1494, 'legislatur': 2501, 'kay': 2402, 'bailey': 332, 'hutchison': 2149, 'mica': 2772, 'mari': 2668, 'burk': 591, 'tabl': 4422, 'partisan': 3208, 'pick': 3324, 'multipl': 2897, 'regular': 3696, 'mid': 2779, 'rage': 3592, 'ran': 3605, 'constitut': 953, 'convent': 978, 'rise': 3823, 'flint': 1690, 'mich': 2773, 'poison': 3372, 'complic': 899, 'compli': 897, 'code': 849, 'prayer': 3429, 'room': 3857, 'rug': 3874, 'pray': 3428, 'allah': 136, 'bulk': 577, 'drug': 1347, 'gang': 1814, 'motor': 2883, 'ask': 259, 'england': 1453, 'grant': 1912, 'institut': 2261, 'miami': 2770, 'carlo': 655, 'curbelo': 1056, 'abil': 9, 'pollut': 3385, 'combat': 866, 'disclos': 1236, 'donor': 1305, 'suspicion': 4401, 'usa': 4738, 'continu': 967, 'wonder': 4943, 'rand': 3607, 'billionair': 438, 'super': 4365, 'pac': 3169, 'sept': 4007, 'intend': 2270, 'recov': 3660, 'newli': 2961, 'hold': 2084, 'payment': 3245, 'advisori': 76, 'mitchel': 2828, 'park': 3199, 'dome': 1298, 'millionplu': 2800, 'littl': 2559, 'evid': 1511, 'red': 3666, 'camera': 619, 'accid': 31, 'intersect': 2278, 'camden': 617, 'delinqu': 1145, 'pastor': 3223, 'priest': 3473, 'imam': 2173, 'moral': 2865, 'tradit': 4581, 'sexual': 4028, 'guilti': 1940, 'jobless': 2358, 'colleagu': 857, 'crack': 1024, 'attract': 292, 'affirm': 82, 'procedur': 3497, 'known': 2439, 'global': 1874, 'aid': 104, 'instabl': 2255, 'recipi': 3650, 'thank': 4491, 'nowher': 3020, 'award': 317, 'date': 1085, 'pupil': 3558, 'compar': 887, 'path': 3227, 'citizenship': 797, 'welfar': 4878, 'tammi': 4431, 'baldwin': 338, 'introduc': 2284, 'lesbian': 2509, 'bisexu': 450, 'ident': 2161, 'acorn': 45, 'slaveri': 4117, 'girl': 1865, 'survey': 4394, 'transit': 4591, 'ridership': 3812, 'age': 93, 'render': 3725, 'complet': 895, 'june': 2381, 'hard': 1984, 'jacob': 2323, 'someon': 4163, 'region': 3690, 'fair': 1579, 'fact': 1570, 'reid': 3699, 'rebecca': 3640, 'bradley': 516, 'diploma': 1220, 'implement': 2182, 'exchang': 1522, 'tape': 4435, 'featur': 1616, 'systemat': 4420, 'minnesota': 2808, 'cori': 992, 'booker': 487, 'safeti': 3897, 'modern': 2841, 'releas': 3708, 'return': 3781, 'alon': 147, 'eu': 1499, 'export': 1549, 'korea': 2441, 'market': 2673, 'farmer': 1595, 'suffer': 4351, 'luxuri': 2615, 'tim': 4537, 'kain': 2391, 'ambit': 160, 'dnc': 1281, 'chairman': 719, 'flipflop': 1692, 'easi': 1374, 'jet': 2349, 'zack': 4992, 'space': 4191, 'formal': 1729, 'sanction': 3909, 'subcommitte': 4330, 'hampshir': 1971, 'thirdhighest': 4510, 'rack': 3586, 'carol': 656, 'sheaport': 4038, 'creator': 1033, 'sixti': 4103, 'somewher': 4166, 'stay': 4269, 'interven': 2280, 'libya': 2526, 'cleveland': 818, 'perpupil': 3289, 'distanc': 1262, 'interview': 2282, 'sander': 3912, 'indefinit': 2213, 'detent': 1189, 'stand': 4247, 'minutemen': 2811, 'hunt': 2140, 'incent': 2196, 'fouryear': 1748, 'gallup': 1809, 'egyptian': 1395, 'violent': 4795, 'maddox': 2622, 'avail': 312, 'prepar': 3453, 'exxon': 1563, 'aarp': 2, 'resel': 3755, 'supplement': 4370, 'monthli': 2860, 'incorpor': 2206, 'purpos': 3561, 'read': 3630, 'grade': 1904, 'cuyahoga': 1063, 'clinic': 825, 'emerg': 1426, 'zika': 4995, 'troubl': 4622, 'pet': 3299, 'kilmartin': 2422, 'statut': 4267, 'occupi': 3051, 'protest': 3537, 'forward': 1739, 'parol': 3200, 'fisher': 1674, 'watch': 4849, 'limit': 2545, 'contracept': 968, 'cheaper': 746, 'easier': 1375, 'udal': 4659, 'defin': 1130, 'del': 1137, 'closest': 832, 'groceri': 1923, 'flood': 1693, 'pork': 3396, 'protect': 3535, 'warner': 4838, 'prohibit': 3511, 'prescript': 3456, 'fcc': 1612, 'neutral': 2955, 'essenti': 1492, 'massiv': 2691, 'typic': 4657, 'white': 4893, 'treati': 4606, 'certainli': 708, 'registri': 3693, 'confisc': 928, 'remind': 3719, 'math': 2698, 'apprehend': 221, 'pakistan': 3179, 'stood': 4286, 'big': 432, 'fli': 1688, 'perform': 3280, 'angel': 176, 'tavera': 4440, 'kendrick': 2406, 'meek': 2734, 'advanc': 70, 'inmat': 2241, 'dead': 1093, 'soda': 4148, 'philadelphia': 3312, 'teamster': 4451, 'countless': 1014, 'beverag': 424, 'tobacco': 4544, 'corn': 993, 'spike': 4211, 'sugar': 4352, 'smoke': 4134, 'nineti': 2976, 'texan': 4486, 'uniqu': 4704, 'staffer': 4240, 'committe': 878, 'race': 3582, 'particip': 3205, 'sought': 4177, 'hurrican': 2144, 'katrina': 2401, 'god': 1880, 'punish': 3557, 'cathol': 683, 'church': 784, 'antichrist': 195, 'filer': 1654, 'stock': 4281, 'rival': 3828, 'middleclass': 2781, 'founder': 1744, 'nelson': 2949, 'hardearn': 1986, 'secondari': 3976, 'produc': 3500, 'dropout': 1344, 'embryon': 1425, 'stem': 4272, 'exampl': 1517, 'success': 4347, 'treatment': 4607, 'dane': 1076, 'hand': 1972, 'count': 1011, 'presidenti': 3462, 'ambassador': 159, 'christoph': 779, 'steven': 4277, 'request': 3751, 'household': 2124, 'friend': 1781, 'switch': 4413, 'usag': 4739, 'instanc': 2257, 'harm': 1993, 'death': 1099, 'risen': 3824, 'dismiss': 1249, 'incompet': 2203, 'longest': 2583, 'inform': 2232, 'accumul': 37, 'africa': 88, 'thirdbiggest': 4508, 'precipit': 3434, 'centuri': 704, 'ye': 4976, 'stupid': 4328, 'folk': 1705, 'submit': 4334, 'earliest': 1367, 'oblig': 3042, 'updat': 4728, 'address': 60, 'commonli': 880, 'spoken': 4217, 'languag': 2465, 'opinion': 3094, 'referendum': 3678, 'thug': 4526, 'youll': 4985, 'southern': 4184, 'trigger': 4615, 'vaccin': 4754, 'brazilian': 525, 'inject': 2238, 'pregnant': 3444, 'execut': 1526, 'carli': 654, 'fiorina': 1666, 'assault': 264, 'bond': 483, 'multipli': 2898, 'platform': 3355, 'cop': 988, 'eightyear': 1398, 'hybrid': 2151, 'honor': 2102, 'repeat': 3738, 'failur': 1578, 'variou': 4763, 'buck': 564, 'mccollum': 2710, 'nra': 3021, 'leadership': 2488, 'pretti': 3466, 'intact': 2267, 'turkey': 4635, 'arab': 229, 'bid': 428, 'hiv': 2077, 'leffingwel': 2496, 'osama': 3116, 'bin': 440, 'laden': 2454, 'assassin': 263, 'drone': 1342, 'final': 1657, 'classroom': 808, 'suppos': 4373, 'design': 1179, 'aclu': 44, 'newark': 2959, 'immedi': 2174, 'monitor': 2854, 'hpv': 2131, 'highway': 2063, 'el': 1401, 'paso': 3216, 'bullet': 580, 'competit': 890, 'elector': 1405, 'sic': 4069, 'wed': 4870, 'nikita': 2975, 'extra': 1559, 'shoe': 4051, 'session': 4018, 'desk': 1181, 'renacci': 3722, 'lieberman': 2531, 'daili': 1069, 'expens': 1538, 'ceo': 705, 'franklin': 1763, 'delano': 1138, 'roosevelt': 3858, 'fasttrack': 1603, 'deport': 1167, 'dreamer': 1335, 'vet': 4779, 'piec': 3326, 'ray': 3626, 'champion': 725, 'storm': 4291, 'mahal': 2629, 'franc': 1755, 'surveil': 4393, 'invas': 2286, 'onehalf': 3083, 'blue': 465, 'chip': 768, 'indic': 2218, 'forecast': 1718, 'predict': 3440, 'fourth': 1745, 'ix': 2320, 'oversea': 3155, 'followup': 1707, 'backlog': 325, 'view': 4791, 'pornographi': 3400, 'molest': 2846, 'mccrori': 2712, 'advis': 74, 'romneycar': 3851, 'blueprint': 467, 'ballot': 340, 'especi': 1490, 'nytim': 3035, 'apolog': 208, 'bad': 328, 'hole': 2086, 'argument': 238, 'capita': 642, 'switzerland': 4414, 'raini': 3599, 'infant': 2225, 'follow': 1706, 'attempt': 287, 'spous': 4223, 'everyon': 1508, 'everywher': 1510, 'paycheck': 3243, 'pump': 3556, 'pose': 3409, 'risk': 3825, 'latina': 2474, 'craft': 1026, 'breweri': 534, 'threshold': 4522, 'surround': 4391, 'offens': 3059, 'dalla': 1071, 'lo': 2566, 'detroit': 1192, 'carcieri': 648, 'host': 2115, 'tree': 4608, 'secondmost': 3980, 'heavili': 2026, 'deploy': 1166, 'superintend': 4367, 'taylor': 4445, 'travi': 4601, 'ignor': 2165, 'laugh': 2476, 'ton': 4554, 'narcot': 2916, 'potenti': 3417, 'deregul': 1173, 'telecommun': 4462, 'french': 1774, 'loretta': 2592, 'lynch': 2616, 'team': 4450, 'whitewat': 4895, 'corrupt': 1001, 'manhattan': 2651, 'ralli': 3602, 'acceler': 28, 'preced': 3431, 'slower': 4122, 'pathway': 3228, 'deliv': 1146, 'jack': 2321, 'robust': 3841, 'outpac': 3134, 'gogeb': 1882, 'driver': 1341, 'licens': 2528, 'mexico': 2769, 'central': 703, 'gasolin': 1826, 'fuel': 1788, 'richard': 3803, 'burr': 593, 'insid': 2250, 'brave': 523, 'christian': 776, 'vermont': 4775, 'sentenc': 4005, 'coupl': 1016, 'unarm': 4670, 'email': 1420, 'moni': 2852, 'tarp': 4437, 'treasuri': 4604, 'treat': 4605, 'game': 1813, 'client': 820, 'haiti': 1957, 'doc': 1282, 'viabl': 4782, 'gold': 1884, 'medal': 2727, 'nonpartisan': 2996, 'choic': 769, 'ohioan': 3067, 'ride': 3810, 'passeng': 3219, 'reveal': 3784, 'instat': 2259, 'healthcaregov': 2018, 'user': 4743, 'privaci': 3486, 'expert': 1541, 'al': 117, 'qaeda': 3568, 'kelli': 2404, 'ayott': 320, 'lobbi': 2569, 'network': 2953, 'financ': 1658, 'cranston': 1028, 'grew': 1922, 'aircraft': 109, 'carrier': 662, 'submarin': 4333, 'complianc': 898, 'plumber': 3365, 'sheet': 4039, 'metal': 2762, 'effici': 1391, 'loophol': 2588, 'decept': 1107, 'secondhighest': 3977, 'toy': 4576, 'describ': 1176, 'boston': 498, 'roy': 3870, 'cooper': 987, 'qatar': 3569, 'restrict': 3774, 'goldman': 1885, 'sach': 3890, 'boss': 497, 'unilater': 4699, 'disarm': 1232, 'moratorium': 2866, 'news': 2963, 'stori': 4290, 'railroad': 3596, 'michael': 2774, 'william': 4912, 'tea': 4447, 'gather': 1828, 'harri': 1994, 'alien': 132, 'equal': 1479, 'citat': 793, 'kasim': 2396, 'respond': 3769, 'worst': 4960, 'redistrict': 3671, 'mention': 2750, 'mate': 2695, 'inflationari': 2230, 'soar': 4141, 'relief': 3711, 'lamar': 2459, 'smith': 4132, 'bailout': 333, 'assur': 273, 'happen': 1979, 'direct': 1223, 'parent': 3196, 'ninetyseven': 2979, 'array': 247, 'baltimor': 341, 'distress': 1267, 'india': 2216, 'payasyougo': 3242, 'entitl': 1470, 'increasingli': 2208, 'opportun': 3097, 'ocean': 3053, 'process': 3498, 'facil': 1568, 'greenhous': 1919, 'northeastern': 3008, 'length': 2507, 'elig': 1412, 'realli': 3636, 'realiz': 3635, 'dian': 1202, 'sandi': 3913, 'destruct': 1186, 'atlant': 280, 'gwinnett': 1949, 'henri': 2039, 'debat': 1100, 'commanderinchief': 871, 'ganley': 1815, 'toomey': 4558, 'jeb': 2337, 'aliv': 135, 'suit': 4356, 'vodka': 4806, 'netherland': 2952, 'tie': 4532, 'subsidi': 4340, 'hotel': 2117, 'jump': 2379, 'closeddoor': 830, 'walmart': 4827, 'compact': 885, 'fluoresc': 1702, 'cfl': 712, 'pop': 3392, 'tell': 4464, 'lag': 2456, 'howel': 2128, 'moder': 2840, 'lever': 2515, 'langevin': 2464, 'transpacif': 4594, 'partnership': 3211, 'tini': 4540, 'doesnt': 1290, 'barbara': 350, 'boxer': 507, 'worri': 4956, 'weather': 4865, 'overwhelmingli': 3162, 'caught': 687, 'merrick': 2758, 'garland': 1824, 'islamist': 2310, 'fatal': 1605, 'nondefens': 2993, 'disenfranchis': 1245, 'felon': 1628, 'onequart': 3084, 'threaten': 4520, 'bomb': 480, 'consult': 957, 'jerri': 2344, 'ed': 1386, 'gillespi': 1859, 'recommend': 3654, 'jerusalem': 2347, 'israel': 2315, 'draft': 1325, 'yr': 4991, 'staf': 4238, 'ratio': 3622, 'seattl': 3972, 'spiral': 4213, 'turnout': 4639, 'experi': 1539, 'kenya': 2411, 'resign': 3761, 'visit': 4802, 'nashvil': 2921, 'redistribut': 3670, 'characterist': 731, 'tampa': 4432, 'strip': 4311, 'lt': 2612, 'casey': 670, 'marquett': 2675, 'constitu': 952, 'cuba': 1050, 'venezuela': 4772, 'wildfir': 4909, 'link': 2551, 'far': 1592, 'earlier': 1366, 'crowd': 1046, 'sprawl': 4224, 'capitol': 643, 'monument': 2861, 'supervisor': 4369, 'noncitizen': 2991, 'roll': 3849, 'richardson': 3804, 'withdraw': 4933, 'cantor': 636, 'appoint': 218, 'stamp': 4246, 'farm': 1594, 'turbin': 4634, 'particularli': 3207, 'seizur': 3992, 'march': 2663, 'hijack': 2064, 'revolut': 3791, 'brutal': 560, 'theocraci': 4497, 'spanish': 4194, 'tv': 4641, 'object': 3041, 'criteria': 1042, 'boundari': 503, 'resourc': 3766, 'bodi': 476, 'armor': 245, 'helicopt': 2032, 'ammunit': 166, 'video': 4789, 'alltim': 146, 'franchis': 1756, 'dealer': 1097, 'autism': 307, 'prior': 3481, 'rifl': 3814, 'round': 3867, 'residenti': 3759, 'handgun': 1974, 'balloon': 339, 'pole': 3376, 'basketbal': 369, 'coach': 839, 'drastic': 1330, 'alcohol': 125, 'underag': 4677, 'bureaucrat': 588, 'scan': 3937, 'keyston': 2415, 'xl': 4974, 'pipelin': 3340, 'speech': 4205, 'guest': 1936, 'takeov': 4427, 'quit': 3578, 'present': 3458, 'percentof': 3277, 'flore': 1695, 'laid': 2457, 'govt': 1902, 'permiss': 3286, 'medicin': 2733, 'shortfal': 4058, 'assumpt': 272, 'siphon': 4095, 'certain': 707, 'apart': 205, 'weekend': 4873, 'flight': 1689, 'bail': 331, 'costli': 1006, 'knew': 2436, 'sixth': 4101, 'fine': 1661, 'asthma': 274, 'uk': 4661, 'studio': 4324, 'ordinari': 3106, 'soccer': 4143, 'pend': 3265, 'fewest': 1642, 'victor': 4787, 'nunn': 3028, 'handpick': 1977, 'sununu': 4364, 'agenda': 95, 'gonna': 1889, 'write': 4967, 'lack': 2453, 'defer': 1127, 'museum': 2904, 'isnt': 2312, 'sequestr': 4011, 'fort': 1732, 'hood': 2103, 'advisor': 75, 'secondlowest': 3979, 'tip': 4541, 'physician': 3323, 'distribut': 1268, 'hezbollah': 2050, 'latin': 2473, 'immin': 2176, 'food': 1708, 'magazin': 2626, 'beckham': 385, 'cargo': 652, 'cruis': 1047, 'experienc': 1540, 'burger': 589, 'king': 2426, 'deer': 1121, 'bidder': 429, 'alli': 141, 'sean': 3968, 'duffi': 1355, 'ribbl': 3798, 'hall': 1962, 'controversi': 976, 'consent': 943, 'pride': 3472, 'night': 2972, 'iowa': 2293, 'caucus': 686, 'focus': 1704, 'contain': 961, 'phoni': 3319, 'hors': 2113, 'key': 2414, 'smart': 4130, 'launch': 2477, 'recycl': 3665, 'theu': 4502, 'fewer': 1641, 'detaine': 1188, 'hn': 2080, 'rwi': 3888, 'birther': 448, 'equival': 1481, 'low': 2606, 'barrow': 362, 'dga': 1200, 'ownership': 3166, 'schoolchildren': 3949, 'justifi': 2387, 'governmentrun': 1899, 'automobil': 311, 'antibusi': 193, 'litig': 2558, 'expans': 1535, 'pasco': 3214, 'injuri': 2240, 'assist': 270, 'nutrit': 3031, 'outcom': 3124, 'misconduct': 2816, 'grandfath': 1910, 'fidel': 1643, 'castro': 676, 'prefer': 3442, 'significantli': 4079, 'ninetyfour': 2978, 'scale': 3934, 'clock': 828, 'sayspresid': 3930, 'unelect': 4690, 'antiabort': 192, 'altogeth': 152, 'similar': 4082, 'indiana': 2217, 'religi': 3712, 'freedom': 1771, 'restor': 3773, 'prenat': 3451, 'exce': 1518, 'nose': 3011, 'dive': 1272, 'declar': 1110, 'qualifi': 3571, 'healthi': 2019, 'billiondollar': 439, 'tallahasse': 4430, 'milk': 2792, 'elementari': 1409, 'tear': 4452, 'squarefoot': 4231, 'jeff': 2338, 'bp': 512, 'plummet': 3366, 'thom': 4514, 'tilli': 4536, 'wealthi': 4861, 'bibl': 426, 'princip': 3478, 'sewer': 4026, 'asid': 258, 'exclus': 1525, 'aspirin': 261, 'secretli': 3983, 'tortur': 4562, 'cartel': 666, 'rebat': 3639, 'smuggl': 4136, 'danni': 1079, 'missil': 2821, 'shield': 4047, 'russia': 3885, 'voucher': 4815, 'fortysix': 1737, 'lineitem': 2550, 'profession': 3503, 'huckabe': 2132, 'statu': 4266, 'thirdgrad': 4509, 'caucu': 685, 'instructor': 2263, 'traffic': 4582, 'tower': 4573, 'appl': 214, 'conflictfre': 930, 'crimea': 1037, 'ukrain': 4662, 'circul': 791, 'coin': 854, 'catherin': 682, 'cortez': 1002, 'masto': 2693, 'sweetheart': 4407, 'worth': 4961, 'firm': 1671, 'pled': 3361, 'fraud': 1764, 'salt': 3905, 'revolutionari': 3792, 'guy': 1947, 'footag': 1711, 'broad': 545, 'secret': 3981, 'bobbi': 474, 'fish': 1673, 'kathi': 2397, 'entireti': 1468, 'canada': 626, 'accuraci': 39, 'barn': 355, 'anymor': 200, 'uncompens': 4674, 'track': 4578, 'travel': 4600, 'deborah': 1102, 'ross': 3863, 'ransom': 3612, 'hostag': 2116, 'heroin': 2045, 'addict': 58, 'opioid': 3095, 'chapter': 730, 'fetus': 1640, 'baucu': 376, 'deduct': 1116, 'st': 4233, 'van': 4760, 'wanggaard': 4830, 'drawn': 1333, 'falk': 1584, 'identif': 2162, 'statewid': 4263, 'alison': 134, 'handel': 1973, 'chairwoman': 721, 'fulton': 1793, 'wendi': 4880, 'davi': 1089, 'iranian': 2299, 'rouhani': 3866, 'fighter': 1651, 'dozen': 1323, 'zip': 4996, 'subject': 4332, 'patriot': 3231, 'sit': 4097, 'conced': 907, 'tourism': 4570, 'advertis': 72, 'overal': 3144, 'redirect': 3669, 'mode': 2838, 'twitter': 4650, 'garden': 1821, 'express': 1552, 'strong': 4313, 'pasch': 3213, 'childcar': 761, 'onetenth': 3085, 'frankli': 1762, 'sue': 4350, 'portion': 3403, 'compens': 888, 'fortyf': 1735, 'bruce': 558, 'braley': 519, 'diowa': 1217, 'nascar': 2920, 'abraham': 16, 'danc': 1075, 'ebay': 1380, 'whitman': 4896, 'separ': 4006, 'porn': 3399, 'philli': 3315, 'handl': 1975, 'loom': 2587, 'slash': 4113, 'predecessor': 3439, 'miller': 2796, 'judici': 2376, 'barrier': 361, 'innov': 2245, 'innerc': 2243, 'whatev': 4887, 'cheat': 747, 'freed': 1770, 'slave': 4116, 'ku': 2445, 'klux': 2435, 'klan': 2432, 'paint': 3178, 'uber': 4658, 'rideshar': 3813, 'eye': 1565, 'perfect': 3279, 'convers': 979, 'substanc': 4341, 'nj': 2983, 'dishonest': 1247, 'passag': 3218, 'futur': 1803, 'everyth': 1509, 'factual': 1574, 'accur': 38, 'husband': 2146, 'charit': 733, 'la': 2449, 'vega': 4766, 'boehner': 478, 'wreck': 4965, 'onethird': 3087, 'commerci': 874, 'debbi': 1101, 'wasserman': 4846, 'schultz': 3951, 'termin': 4476, 'ill': 2167, 'antichoic': 194, 'deadli': 1094, 'analysi': 170, 'anniversari': 184, 'jobkil': 2357, 'sunday': 4361, 'morn': 2869, 'usual': 4745, 'delta': 1149, 'anim': 181, 'neg': 2944, 'holder': 2085, 'involv': 2292, 'panther': 3189, 'intimid': 2283, 'richmond': 3806, 'chees': 750, 'glad': 1870, 'word': 4946, 'clearli': 816, 'exoner': 1532, 'retire': 3780, 'contributor': 974, 'machin': 2620, 'field': 1644, 'text': 4488, 'wouldv': 4963, 'bonu': 484, 'grab': 1903, 'unaccount': 4668, 'accommod': 33, 'shooter': 4053, 'enrolle': 1461, 'match': 2694, 'simpli': 4084, 'river': 3829, 'downstream': 1319, 'rice': 3801, 'photograph': 3321, 'acr': 47, 'recreat': 3662, 'enter': 1463, 'kindergarten': 2425, 'dental': 1161, 'ken': 2405, 'wish': 4931, 'recal': 3644, 'petit': 3303, 'signatur': 4076, 'rebuild': 3642, 'prove': 3541, 'chronic': 780, 'traumat': 4599, 'wive': 4938, 'televis': 4463, 'plane': 3350, 'late': 2470, 'pursu': 3562, 'dream': 1334, 'prank': 3427, 'blogger': 461, 'koch': 2440, 'publicli': 3550, 'wouldnt': 4962, 'onechild': 3081, 'steril': 4275, 'roland': 3847, 'burri': 594, 'octob': 3055, 'silent': 4081, 'feel': 1623, 'farrakhan': 1597, 'spoke': 4216, 'audienc': 296, 'edward': 1389, 'professor': 3504, 'extens': 1555, 'mittromney': 2831, 'fox': 1750, 'json': 2373, 'barelytru': 353, 'mostlytru': 2878, 'prek': 3446, 'rd': 3627, 'cite': 794, 'true': 4624, 'barrel': 358, 'comment': 872, 'halftru': 1960, 'pb': 3249, 'dmv': 1279, 'allianc': 142, 'newsmak': 2964, 'pantsfir': 3190, 'radio': 3590, 'lawyer': 2482, 'froze': 1784, 'channel': 729, 'jon': 2367, 'runyan': 3879, 'redefin': 3667, 'cruz': 1049, 'mathemat': 2699, 'eighti': 1397, 'fed': 1618, 'livestock': 2562, 'zone': 4998, 'expenditur': 1537, 'undermin': 4684, 'purg': 3560, 'russian': 3886, 'crop': 1044, 'ethanol': 1496, 'mail': 2632, 'tonight': 4555, 'unoppos': 4715, 'santorum': 3917, 'interst': 2279, 'road': 3832, 'cotton': 1008, 'navi': 2929, 'sail': 3899, 'ship': 4049, 'tour': 4569, 'join': 2363, 'hip': 2070, 'fashion': 1598, 'grand': 1908, 'mahon': 2631, 'valley': 4757, 'fy': 1804, 'chesterfield': 753, 'duke': 1357, 'joni': 2370, 'ernst': 1487, 'copi': 990, 'certif': 709, 'canadian': 627, 'sand': 3911, 'mcdonald': 2713, 'pittsburgh': 3344, 'snow': 4138, 'safe': 3894, 'marathon': 2662, 'fifth': 1645, 'examin': 1516, 'felt': 1630, 'crash': 1029, 'kenosha': 2408, 'tribe': 4614, 'howard': 2127, 'robert': 3838, 'wastewat': 4848, 'qualiti': 3572, 'pentagon': 3270, 'martial': 2681, 'faith': 1581, 'cobb': 845, 'shock': 4050, 'older': 3073, 'bigger': 433, 'kept': 2412, 'ultim': 4664, 'golf': 1887, 'undercov': 4678, 'memori': 2745, 'ceremoni': 706, 'inflationadjust': 2229, 'drawdown': 1332, 'danger': 1077, 'atf': 277, 'trace': 4577, 'broward': 556, 'firework': 1670, 'safer': 3895, 'woman': 4941, 'northeast': 3007, 'quick': 3576, 'identifi': 2163, 'desir': 1180, 'broke': 548, 'abandon': 3, 'ensur': 1462, 'quickli': 3577, 'warmer': 4836, 'mar': 2661, 'polar': 3375, 'vortex': 4811, 'calib': 614, 'mormon': 2868, 'obey': 3040, 'bruun': 561, 'commerc': 873, 'decor': 1112, 'rare': 3616, 'jan': 2327, 'answer': 189, 'craig': 1027, 'robinson': 3840, 'affili': 81, 'display': 1255, 'mirror': 2814, 'fifti': 1647, 'strongli': 4316, 'disagre': 1229, 'bargain': 354, 'coauthor': 844, 'principl': 3479, 'equip': 1480, 'rebel': 3641, 'destroy': 1185, 'mitch': 2827, 'mcconnel': 2711, 'tommi': 4553, 'human': 2136, 'granit': 1911, 'stater': 4261, 'renew': 3728, 'gardner': 1822, 'outlaw': 3126, 'birthright': 449, 'brother': 552, 'chai': 716, 'subsaharan': 4337, 'noshow': 3012, 'steadili': 4270, 'connecticut': 940, 'solv': 4159, 'scientist': 3954, 'fare': 1593, 'shore': 4055, 'particular': 3206, 'insecur': 2248, 'gi': 1854, 'earner': 1370, 'traffick': 4583, 'calendar': 613, 'dime': 1211, 'task': 4438, 'domin': 1300, 'youtub': 4989, 'paper': 3191, 'rigel': 3816, 'weaken': 4859, 'regulatori': 3698, 'campaignfin': 622, 'imposs': 2186, 'plain': 3347, 'simpl': 4083, 'cancer': 631, 'screen': 3960, 'altern': 151, 'regard': 3687, 'flaw': 1684, 'outer': 3125, 'continent': 966, 'deep': 1118, 'royalti': 3871, 'oh': 3065, 'wife': 4906, 'ebola': 1381, 'sequest': 4010, 'randi': 3608, 'hopper': 2109, 'rfond': 3795, 'du': 1351, 'kati': 2400, 'wing': 4922, 'bureau': 586, 'attribut': 293, 'sharp': 4036, 'workrel': 4952, 'understand': 4686, 'english': 1454, 'obes': 3039, 'audit': 297, 'ratifi': 3621, 'pain': 3177, 'religion': 3713, 'replac': 3740, 'territori': 4479, 'integr': 2268, 'clerk': 817, 'emiss': 1429, 'freshman': 1777, 'waterboard': 4851, 'main': 2633, 'mother': 2879, 'bunch': 582, 'korean': 2442, 'bag': 330, 'hell': 2033, 'summit': 4359, 'structur': 4318, 'paytoplay': 3248, 'wentworth': 4882, 'sonogram': 4170, 'stephen': 4274, 'da': 1067, 'clayton': 810, 'millag': 2794, 'metro': 2765, 'oversaw': 3153, 'bonus': 485, 'rememb': 3718, 'contractor': 970, 'tap': 4434, 'devil': 1196, 'vanderbeek': 4761, 'arbitr': 231, 'tennesse': 4471, 'file': 1653, 'subpoena': 4335, 'courag': 1017, 'recoveri': 3661, 'donut': 1307, 'demograph': 1154, 'singlepay': 4092, 'merit': 2755, 'reward': 3793, 'corzin': 1003, 'taxpayerfund': 4444, 'bracket': 513, 'bulli': 581, 'color': 860, 'unpreced': 4718, 'yearlong': 4978, 'vacanc': 4751, 'plot': 3363, 'loi': 2578, 'nonprofit': 2997, 'uniform': 4698, 'winter': 4924, 'olymp': 3077, 'stroke': 4312, 'pen': 3261, 'schrader': 3950, 'explain': 1543, 'suppli': 4371, 'cnn': 838, 'casualti': 677, 'fitzgerald': 1677, 'necessari': 2939, 'defraud': 1132, 'nofli': 2987, 'written': 4968, 'drag': 1326, 'inherit': 2236, 'repair': 3734, 'lane': 2463, 'dedic': 1115, 'analyst': 171, 'overdos': 3146, 'accident': 32, 'killer': 2421, 'commonwealth': 881, 'toledo': 4550, 'bell': 400, 'panhandl': 3187, 'bed': 387, 'rushhour': 3882, 'commut': 884, 'downtown': 1320, 'sunset': 4362, 'freeway': 1772, 'vice': 4784, 'kirk': 2428, 'moin': 2845, 'aug': 299, 'depriv': 1170, 'protein': 3536, 'lunch': 2613, 'thwart': 4528, 'incid': 2199, 'superior': 4368, 'meat': 2725, 'festiv': 1638, 'horrend': 2110, 'prosecutor': 3529, 'consumpt': 959, 'earthquak': 1372, 'step': 4273, 'walk': 4824, 'nixon': 2982, 'duck': 1353, 'garbag': 1819, 'allan': 137, 'fung': 1798, 'web': 4866, 'site': 4098, 'pour': 3420, 'atwat': 295, 'lavish': 2478, 'mental': 2749, 'twentyf': 4645, 'habit': 1951, 'recklessli': 3651, 'susan': 4397, 'uranium': 4735, 'enrich': 1459, 'capabl': 638, 'pot': 3416, 'element': 1408, 'door': 1308, 'mcchrystal': 2709, 'fix': 1678, 'espionag': 1491, 'snowden': 4139, 'whistleblow': 4892, 'cannabi': 634, 'music': 2906, 'art': 251, 'instruct': 2262, 'wit': 4932, 'reauthor': 3638, 'exportimport': 1550, 'prekindergarten': 3447, 'frame': 1754, 'salmonella': 3904, 'fda': 1613, 'peanut': 3253, 'quonset': 3579, 'antonio': 198, 'cervic': 711, 'hedg': 2029, 'littleknown': 2560, 'preciou': 3433, 'fresh': 1776, 'ahead': 102, 'magic': 2628, 'marketplac': 2674, 'inadequ': 2192, 'seced': 3974, 'patdown': 3225, 'hewlettpackard': 2048, 'nebraska': 2938, 'pant': 3188, 'moon': 2862, 'lax': 2483, 'eras': 1484, 'crush': 1048, 'mammogram': 2645, 'ice': 2157, 'hondura': 2100, 'accomplish': 34, 'basi': 367, 'hydraul': 2153, 'frack': 1751, 'midterm': 2784, 'review': 3788, 'await': 316, 'occas': 3048, 'boon': 489, 'forest': 1722, 'dallasfort': 1072, 'bowl': 505, 'unknown': 4707, 'begich': 392, 'drunk': 1349, 'input': 2247, 'cool': 984, 'reaction': 3629, 'somebodi': 4162, 'odd': 3056, 'monopoli': 2857, 'instant': 2258, 'downgrad': 1317, 'devot': 1197, 'lent': 2508, 'stateown': 4260, 'brazil': 524, 'explor': 1547, 'automat': 310, 'plastic': 3353, 'hegar': 2030, 'sometim': 4165, 'shift': 4048, 'abrahamlincoln': 17, 'twentyfour': 4646, 'cold': 855, 'blood': 462, 'milliondollar': 2799, 'repay': 3736, 'anglo': 178, 'millenni': 2795, 'provision': 3545, 'disqualifi': 1259, 'adam': 56, 'segment': 3989, 'beer': 389, 'aggress': 97, 'healthier': 2020, 'rural': 3880, 'illiter': 2170, 'morocco': 2871, 'fenc': 1633, 'septic': 4009, 'inspect': 2252, 'tank': 4433, 'multnomah': 2899, 'busiest': 600, 'centerpiec': 702, 'slot': 4120, 'outsourc': 3140, 'connect': 939, 'stringent': 4310, 'holperin': 2091, 'outofst': 3133, 'whenev': 4890, 'rene': 3726, 'ellmer': 1416, 'czar': 1065, 'reopen': 3731, 'tremend': 4609, 'proud': 3539, 'surviv': 4395, 'dri': 1336, 'testimoni': 4484, 'sotomayor': 4176, 'darryl': 1082, 'forti': 1733, 'fortun': 1734, 'emir': 1428, 'formula': 1730, 'rocket': 3843, 'gaza': 1831, 'militar': 2790, 'log': 2575, 'spring': 4227, 'perriello': 3291, 'riski': 3826, 'solid': 4156, 'oklahoma': 3071, 'louisiana': 2603, 'kansa': 2393, 'utah': 4746, 'transpar': 4595, 'visa': 4800, 'overstay': 3157, 'contrast': 972, 'sing': 4089, 'hawaii': 2007, 'alaska': 122, 'chevrolet': 754, 'volt': 4809, 'coop': 986, 'enterpris': 1464, 'freddi': 1767, 'mac': 2619, 'indict': 2219, 'brain': 518, 'facebook': 1567, 'page': 3175, 'levi': 2516, 'werent': 4883, 'abel': 7, 'finish': 1664, 'arent': 236, 'sb': 3933, 'depict': 1165, 'homosexu': 2099, 'tactic': 4423, 'schedul': 3942, 'revers': 3787, 'underground': 4683, 'ayer': 319, 'comprehens': 901, 'publish': 3552, 'trayvon': 4602, 'martin': 2682, 'tattoo': 4439, 'solvent': 4160, 'whitehous': 4894, 'easili': 1376, 'classifi': 806, 'miner': 2803, 'aim': 106, 'cia': 785, 'interrog': 2277, 'brendan': 531, 'doherti': 1293, 'occup': 3050, 'sam': 3906, 'tent': 4472, 'pitch': 3343, 'bankruptci': 346, 'unlaw': 4708, 'japan': 2331, 'embassi': 1422, 'tragedi': 4584, 'alabama': 119, 'mississippi': 2823, 'wyom': 4973, 'hud': 2133, 'soon': 4171, 'strengthen': 4302, 'cuccinelli': 1052, 'halt': 1965, 'epa': 1477, 'gase': 1825, 'measl': 2723, 'pictur': 3325, 'subhuman': 4331, 'mongrel': 2851, 'hit': 2075, 'enlist': 1457, 'specialist': 4200, 'split': 4215, 'thirdlargest': 4511, 'surpass': 4385, 'latest': 2472, 'repatri': 3735, 'usborn': 4740, 'occur': 3052, 'twoandahalf': 4651, 'investor': 2290, 'bust': 601, 'gm': 1876, 'weight': 4875, 'warm': 4835, 'mayb': 2705, 'haitian': 1958, 'drink': 1338, 'ground': 1926, 'gibb': 1857, 'poorer': 3390, 'western': 4885, 'corridor': 1000, 'preexist': 3441, 'winner': 4923, 'superdeleg': 4366, 'forbidden': 1714, 'remedi': 3717, 'jeopard': 2341, 'cleaner': 812, 'custom': 1061, 'statehous': 4257, 'staterun': 4262, 'dump': 1358, 'unregul': 4719, 'guevara': 1937, 'descent': 1175, 'middleincom': 2782, 'hitler': 2076, 'soviet': 4188, 'hadnt': 1953, 'ward': 4833, 'fouryearold': 1749, 'preschool': 3454, 'betti': 423, 'sutton': 4402, 'pete': 3300, 'mission': 2822, 'cocain': 847, 'japanes': 2332, 'embargo': 1421, 'madison': 2624, 'fraudul': 1765, 'runoff': 3878, 'previous': 3470, 'genet': 1839, 'makeup': 2639, 'ant': 190, 'elsewher': 1419, 'bushera': 598, 'kurt': 2447, 'enrol': 1460, 'august': 300, 'orient': 3112, 'hw': 2150, 'encount': 1440, 'detain': 1187, 'buyer': 605, 'disrupt': 1261, 'discov': 1239, 'hurd': 2143, 'acrosstheboard': 48, 'fri': 1779, 'empow': 1436, 'matern': 2697, 'chile': 765, 'bucket': 565, 'overhead': 3148, 'liquor': 2554, 'republicanl': 3749, 'pool': 3388, 'strategi': 4296, 'apprais': 220, 'categori': 681, 'blind': 458, 'worldwid': 4955, 'lowerincom': 2608, 'mainli': 2634, 'gordon': 1893, 'cofound': 852, 'invad': 2285, 'saddam': 3892, 'acquir': 46, 'captur': 645, 'offset': 3063, 'tune': 4633, 'francisco': 1758, 'flee': 1685, 'emin': 1427, 'domain': 1297, 'incub': 2210, 'rapid': 3614, 'herbert': 2040, 'hoover': 2107, 'quadrupl': 3570, 'bare': 352, 'budg': 568, 'rio': 3820, 'ongo': 3089, 'concentr': 908, 'outrag': 3137, 'kathryn': 2399, 'starkey': 4252, 'divers': 1273, 'bike': 436, 'radiat': 3588, 'tsa': 4629, 'feet': 1624, 'todd': 4546, 'akin': 116, 'academi': 27, 'pediatr': 3255, 'hoax': 2081, 'blackston': 455, 'profici': 3505, 'assess': 267, 'capandtrad': 640, 'chuck': 783, 'hagel': 1955, 'filibust': 1655, 'stabil': 4235, 'ethnic': 1498, 'ought': 3121, 'bench': 406, 'hardwork': 1991, 'gunfre': 1945, 'alaskan': 123, 'section': 3984, 'claus': 809, 'outstand': 3142, 'frequent': 1775, 'midwest': 2785, 'unfairli': 4695, 'everifi': 1506, 'materi': 2696, 'server': 4015, 'vietnam': 4790, 'gallon': 1808, 'franken': 1761, 'factori': 1573, 'faulti': 1607, 'stack': 4236, 'lyndon': 2617, 'ram': 3604, 'artist': 255, 'justin': 2388, 'jay': 2334, 'cancel': 630, 'stagger': 4242, 'technolog': 4456, 'prescrib': 3455, 'databas': 1084, 'pharmaci': 3307, 'prostat': 3533, 'breast': 529, 'jd': 2335, 'hayworth': 2008, 'tech': 4453, 'timelin': 4539, 'lorann': 2590, 'ausley': 302, 'concess': 912, 'passport': 3221, 'holli': 2089, 'turner': 4638, 'discretionari': 1241, 'dwight': 1363, 'mercuri': 2752, 'outlin': 3128, 'forcibl': 1716, 'sayshillari': 3929, 'poorest': 3391, 'speak': 4196, 'deliber': 1143, 'nonexist': 2995, 'download': 1318, 'jennif': 2340, 'brunner': 559, 'mismanag': 2819, 'alter': 150, 'viru': 4799, 'shell': 4043, 'roger': 3846, 'pois': 3371, 'seventi': 4023, 'segreg': 3990, 'inact': 2191, 'stole': 4283, 'stretch': 4304, 'tourist': 4571, 'outbreak': 3123, 'loudli': 2599, 'dirti': 1226, 'fossil': 1740, 'error': 1488, 'uptick': 4733, 'reconcili': 3655, 'curb': 1055, 'spread': 4225, 'botch': 499, 'logo': 2577, 'fanci': 1590, 'joann': 2355, 'kloppenburg': 2434, 'societi': 4146, 'normandi': 3005, 'carpool': 660, 'februari': 1617, 'minimumwag': 2806, 'arlen': 242, 'specter': 4203, 'interestingli': 2272, 'kentucki': 2409, 'print': 3480, 'lindsey': 2548, 'graham': 1907, 'shortag': 4057, 'sonia': 4169, 'propaganda': 3520, 'father': 1606, 'thensen': 4496, 'eat': 1379, 'hottest': 2120, 'sheldon': 4042, 'upheld': 4730, 'surpris': 4388, 'subprim': 4336, 'mortal': 2873, 'unfund': 4697, 'waiver': 4822, 'hmo': 2079, 'taint': 4425, 'beef': 388, 'cafeteria': 609, 'lewi': 2517, 'hero': 2044, 'alleg': 138, 'remark': 3716, 'entiti': 1469, 'overwhelm': 3161, 'missourian': 2825, 'thirti': 4512, 'menendez': 2748, 'pursuit': 3563, 'proven': 3542, 'theft': 4495, 'petersburg': 3302, 'dr': 1324, 'chu': 782, 'reli': 3709, 'insuffici': 2264, 'amtrak': 169, 'instal': 2256, 'derail': 1172, 'underfund': 4680, 'realiti': 3634, 'signer': 4077, 'administ': 63, 'studentathlet': 4322, 'ipad': 2294, 'applic': 217, 'nfl': 2967, 'buse': 595, 'limousin': 2546, 'fleet': 1686, 'newspap': 2965, 'victori': 4788, 'nevadan': 2957, 'doubledigit': 1312, 'nevada': 2956, 'meal': 2717, 'chariti': 734, 'harrisburg': 1995, 'pawlenti': 3240, 'horribl': 2111, 'dad': 1068, 'prolif': 3513, 'util': 4747, 'cheap': 745, 'barton': 363, 'deadlin': 1095, 'crippl': 1039, 'viagra': 4783, 'rapist': 3615, 'mao': 2659, 'vern': 4776, 'genocid': 1842, 'bosnia': 496, 'boat': 472, 'ration': 3623, 'evalu': 1502, 'statemand': 4258, 'exam': 1515, 'overlook': 3149, 'southwest': 4186, 'gelber': 1835, 'needi': 2942, 'jewish': 2351, 'saturday': 3922, 'disturb': 1270, 'trend': 4610, 'massacr': 2689, 'wound': 4964, 'geithner': 1834, 'currenc': 1058, 'secondlargest': 3978, 'fcat': 1611, 'economist': 1385, 'boost': 490, 'unabl': 4666, 'hasner': 2001, 'halliburton': 1963, 'su': 4329, 'eighth': 1396, 'hamilton': 1969, 'buddi': 567, 'upstat': 4732, 'hog': 2083, 'cass': 673, 'sunstein': 4363, 'ferguson': 1635, 'mo': 2833, 'regim': 3689, 'behalf': 395, 'charl': 735, 'incred': 2209, 'boe': 477, 'wineri': 4921, 'vatican': 4765, 'consul': 956, 'tool': 4557, 'sworn': 4415, 'ginsburg': 1864, 'lien': 2532, 'unpaid': 4716, 'powel': 3423, 'butt': 602, 'reservoir': 3757, 'chavez': 743, 'struggl': 4319, 'newborn': 2960, 'shade': 4029, 'receipt': 3645, 'version': 4777, 'pharmaceut': 3306, 'che': 744, 'nickel': 2971, 'censu': 699, 'cheerlead': 749, 'cowboy': 1023, 'entertain': 1465, 'pizza': 3345, 'invit': 2291, 'fanni': 1591, 'aig': 105, 'disappear': 1230, 'mountain': 2887, 'revok': 3790, 'argu': 237, 'terribl': 4478, 'algebra': 129, 'admiss': 66, 'palestinian': 3180, 'isra': 2314, 'geneva': 1840, 'normal': 3004, 'semiautomat': 3998, 'misdemeanor': 2817, 'norcross': 3002, 'exact': 1513, 'visitor': 4803, 'scientif': 3953, 'springsteen': 4228, 'orang': 3103, 'gym': 1950, 'heart': 2024, 'counsel': 1010, 'sooner': 4172, 'coffman': 851, 'preserv': 3459, 'roadsid': 3833, 'frederica': 1768, 'wilson': 4914, 'testifi': 4483, 'bermuda': 415, 'fulfil': 1790, 'seri': 4012, 'condom': 920, 'label': 2451, 'soft': 4149, 'disadvantag': 1228, 'outspent': 3141, 'guess': 1935, 'blow': 464, 'confidenti': 925, 'sharron': 4037, 'angl': 177, 'spill': 4212, 'slush': 4124, 'rosen': 3862, 'monkey': 2855, 'inaugur': 2193, 'snowstorm': 4140, 'attach': 285, 'spare': 4195, 'vegan': 4767, 'starr': 4253, 'throw': 4524, 'innoc': 2244, 'rachel': 3583, 'zenzing': 4993, 'junket': 2383, 'porkbarrel': 3397, 'fundament': 1796, 'warhead': 4834, 'meant': 2721, 'approach': 223, 'tend': 4469, 'greec': 1917, 'metropolitan': 2766, 'lieuten': 2533, 'cigarett': 787, 'budgetrepair': 570, 'ala': 118, 'pinprick': 3336, 'intervent': 2281, 'residu': 3760, 'footprint': 1713, 'admir': 65, 'highvalu': 2062, 'deeper': 1119, 'gambl': 1811, 'buono': 583, 'diabet': 1201, 'cure': 1057, 'endang': 1443, 'swine': 4410, 'cattl': 684, 'unveil': 4725, 'honest': 2101, 'floor': 1694, 'gerald': 1849, 'daugherti': 1086, 'nondiscrimin': 2994, 'brookhaven': 551, 'unincorpor': 4700, 'mosquito': 2876, 'premis': 3449, 'candidaci': 633, 'manipul': 2653, 'koster': 2443, 'volunt': 4810, 'station': 4264, 'ninetyf': 2977, 'southwestern': 4187, 'desert': 1177, 'enjoy': 1456, 'demonstr': 1155, 'penc': 3264, 'divert': 1274, 'therapi': 4499, 'bureaucraci': 587, 'dave': 1088, 'brat': 522, 'philosoph': 3316, 'teddi': 4458, 'dovilla': 1316, 'brennan': 532, 'geograph': 1844, 'roe': 3845, 'wade': 4818, 'tick': 4529, 'cochair': 848, 'gore': 1894, 'suzann': 4404, 'bonamici': 482, 'epidem': 1478, 'sacrif': 3891, 'till': 4535, 'fraction': 1752, 'dock': 1283, 'mobil': 2836, 'twin': 4649, 'zuckerberg': 4999, 'struck': 4317, 'subsid': 4339, 'wildli': 4910, 'unpopular': 4717, 'resolv': 3764, 'doorstep': 1309, 'lifetim': 2537, 'loui': 2601, 'toothpast': 4559, 'fluorid': 1703, 'maryland': 2686, 'ralph': 3603, 'lifesav': 2536, 'reput': 3750, 'activist': 52, 'strangul': 4294, 'norm': 3003, 'wildlif': 4911, 'arctic': 233, 'dole': 1294, 'atheist': 278, 'denver': 1162, 'sidelin': 4071, 'frankel': 1760, 'shower': 4062, 'bathroom': 372, 'pell': 3259, 'absorb': 24, 'hama': 1968, 'thought': 4517, 'hillsborough': 2069, 'wear': 4864, 'sock': 4147, 'pleas': 3360, 'pipe': 3339, 'reus': 3782, 'ann': 182, 'mclane': 2716, 'kuster': 2448, 'boccieri': 475, 'stress': 4303, 'syndrom': 4417, 'seamen': 3967, 'ablebodi': 12, 'cohen': 853, 'policemen': 3378, 'adler': 62, 'trenton': 4611, 'blank': 457, 'encourag': 1441, 'rose': 3860, 'carolinian': 658, 'inconsist': 2204, 'interior': 2274, 'gmo': 1877, 'miscarriag': 2815, 'whatsoev': 4888, 'april': 227, 'cycl': 1064, 'aboard': 13, 'meanstest': 2720, 'oshaughnessi': 3117, 'jimmi': 2354, 'dimora': 1213, 'silberkrau': 4080, 'nake': 2913, 'degrad': 1134, 'stalk': 4245, 'apartheid': 206, 'scream': 3959, 'unfair': 4694, 'cliff': 821, 'politifact': 3382, 'valid': 4756, 'document': 1285, 'pave': 3239, 'guidelin': 1939, 'sixtytwo': 4105, 'enorm': 1458, 'languish': 2466, 'ireland': 2302, 'poland': 3374, 'raw': 3625, 'unless': 4710, 'poizner': 3373, 'corp': 997, 'hammer': 1970, 'broken': 549, 'teen': 4459, 'belief': 398, 'contrari': 971, 'saysberni': 3928, 'immun': 2177, 'surplus': 4387, 'proce': 3496, 'implic': 2183, 'truman': 4625, 'eas': 1373, 'septemb': 4008, 'cdc': 693, 'transmit': 4593, 'czech': 1066, 'fool': 1709, 'naval': 2928, 'appel': 213, 'proposit': 3527, 'discharg': 1235, 'yard': 4975, 'stolen': 4284, 'liquid': 2553, 'wellpaid': 4879, 'align': 133, 'halloween': 1964, 'escap': 1489, 'heavi': 2025, 'anonym': 187, 'wolf': 4939, 'impeach': 2179, 'asset': 268, 'deem': 1117, 'healthinsur': 2021, 'feasibl': 1615, 'radic': 3589, 'airlin': 110, 'ticket': 4530, 'retain': 3777, 'paulson': 3238, 'bernank': 416, 'orlando': 3114, 'fl': 1679, 'rock': 3842, 'sandwich': 3914, 'racist': 3585, 'goat': 1879, 'yesterday': 4981, 'hemispher': 2037, 'concret': 915, 'loughlin': 2600, 'gari': 1823, 'remodel': 3720, 'loung': 2604, 'dismantl': 1248, 'servicemen': 4017, 'divorc': 1278, 'robberi': 3837, 'annex': 183, 'overcrowd': 3145, 'drove': 1345, 'note': 3013, 'observ': 3044, 'span': 4193, 'gap': 1817, 'viciou': 4785, 'jerseyan': 2346, 'boozman': 492, 'exot': 1533, 'ninth': 2981, 'jone': 2369, 'oldest': 3074, 'sport': 4220, 'steel': 4271, 'jeopardi': 2342, 'wrongdo': 4970, 'breath': 530, 'stanford': 4250, 'tuberculosi': 4630, 'rel': 3705, 'spokesman': 4218, 'democraci': 1152, 'subsequ': 4338, 'andi': 174, 'liabil': 2519, 'hagan': 1954, 'musharraf': 2905, 'dip': 1219, 'wheel': 4889, 'garcia': 1820, 'wild': 4908, 'pharmacist': 3308, 'happi': 1980, 'worship': 4959, 'campus': 625, 'whop': 4899, 'marxist': 2685, 'sudden': 4348, 'dividend': 1276, 'anight': 180, 'broker': 550, 'entri': 1473, 'janitor': 2329, 'dine': 1214, 'weigh': 4874, 'distinguish': 1264, 'headtohead': 2015, 'malaysia': 2641, 'gate': 1827, 'catch': 680, 'maverick': 2702, 'summer': 4358, 'stockpil': 4282, 'non': 2990, 'swap': 4405, 'bow': 504, 'bergdahl': 414, 'automak': 309, 'luther': 2614, 'outperform': 3135, 'princ': 3477, 'personhood': 3295, 'conform': 931, 'sat': 3919, 'reinvest': 3703, 'overturn': 3159, 'vs': 4817, 'concept': 909, 'sierra': 4073, 'sestak': 4019, 'appropri': 224, 'rescu': 3753, 'marshal': 2678, 'employersponsor': 1435, 'mansion': 2656, 'bribe': 537, 'wide': 4903, 'nick': 2970, 'digit': 1209, 'contact': 960, 'propon': 3524, 'suddenli': 4349, 'imag': 2172, 'anchor': 172, 'lobster': 2571, 'ghetto': 1853, 'emori': 1432, 'sole': 4154, 'certifi': 710, 'motiv': 2882, 'drown': 1346, 'regardless': 3688, 'donna': 1304, 'campbel': 623, 'wic': 4902, 'aspect': 260, 'climb': 824, 'cocacola': 846, 'compet': 889, 'pillowtex': 3330, 'devast': 1193, 'substanti': 4343, 'pilot': 3331, 'simpsonbowl': 4086, 'urg': 4737, 'aaron': 1, 'bean': 379, 'drugrel': 1348, 'surfac': 4380, 'hunger': 2139, 'thanksgiv': 4492, 'heck': 2027, 'layoff': 2485, 'shale': 4032, 'shred': 4064, 'understood': 4687, 'grandchildren': 1909, 'freez': 1773, 'walton': 4828, 'deleg': 1141, 'fla': 1680, 'obrien': 3043, 'dispensari': 1253, 'gao': 1816, 'crackdown': 1025, 'dean': 1098, 'cannon': 635, 'haridopolo': 1992, 'castl': 675, 'coon': 985, 'biggovern': 435, 'proof': 3518, 'speed': 4206, 'vehicular': 4770, 'endur': 1447, 'transvagin': 4597, 'prep': 3452, 'strau': 4297, 'ricci': 3800, 'putnam': 3566, 'skill': 4107, 'sealevel': 3966, 'inequ': 2224, 'wash': 4842, 'flu': 1701, 'simpson': 4085, 'replic': 3741, 'diplomat': 1221, 'glass': 1871, 'strongest': 4315, 'simultan': 4087, 'congresswoman': 938, 'closur': 833, 'aka': 115, 'primarili': 3475, 'melt': 2740, 'attrit': 294, 'hp': 2130, 'saint': 3900, 'scrap': 3958, 'tighten': 4534, 'uncontest': 4676, 'parttim': 3212, 'hemp': 2038, 'seal': 3965, 'ipod': 2296, 'dolphin': 1296, 'plale': 3348, 'tag': 4424, 'avoid': 315, 'scholar': 3946, 'eightyf': 1399, 'rebuilt': 3643, 'boy': 508, 'jane': 2328, 'norton': 3010, 'freshmen': 1778, 'doyl': 1322, 'guinta': 1941, 'role': 3848, 'pattern': 3233, 'maintain': 2636, 'circl': 789, 'confer': 923, 'landrieu': 2461, 'pacif': 3171, 'appalachian': 209, 'revel': 3785, 'root': 3859, 'forg': 1726, 'ventur': 4773, 'urban': 4736, 'massag': 2690, 'savannah': 3924, 'prevail': 3467, 'huey': 2134, 'environ': 1474, 'recus': 3664, 'solicitor': 4155, 'rang': 3609, 'margaret': 2666, 'touch': 4564, 'prostitut': 3534, 'intent': 2271, 'uwmadison': 4749, 'lab': 2450, 'surtax': 4392, 'engin': 1452, 'ordin': 3105, 'restroom': 3775, 'reclaim': 3652, 'whove': 4900, 'uncollect': 4673, 'rev': 3783, 'wright': 4966, 'confin': 926, 'twentythre': 4647, 'startup': 4255, 'narrow': 2918, 'compris': 902, 'multimillionair': 2896, 'sticker': 4278, 'helmet': 2035, 'harder': 1987, 'arena': 235, 'dick': 1203, 'cheney': 752, 'exploit': 1546, 'duggar': 1356, 'unsustain': 4722, 'libyan': 2527, 'versu': 4778, 'hardi': 1989, 'columbiahca': 863, 'coffer': 850, 'mankind': 2654, 'safest': 3896, 'ben': 404, 'carson': 664, 'consequ': 944, 'globe': 1875, 'precis': 3435, 'transact': 4588, 'arsen': 250, 'seiz': 3991, 'elderli': 1403, 'underemploy': 4679, 'wake': 4823, 'devic': 1195, 'unsuccess': 4721, 'congest': 933, 'slate': 4114, 'infus': 2235, 'cayman': 691, 'supposedli': 4374, 'endow': 1446, 'hardli': 1990, 'forfeit': 1724, 'hyde': 2152, 'championship': 726, 'payout': 3246, 'stopandfrisk': 4288, 'widget': 4905, 'joint': 2364, 'infract': 2233, 'ncaa': 2933, 'jesu': 2348, 'christ': 774, 'leak': 2490, 'prospect': 3530, 'legitim': 2502, 'widespread': 4904, 'visibl': 4801, 'waukesha': 4854, 'monday': 2849, 'longterm': 2585, 'marilinda': 2670, 'twoyear': 4655, 'basebal': 365, 'pink': 3335, 'poni': 3386, 'contest': 963, 'hank': 1978, 'boycott': 510, 'martinez': 2683, 'stuck': 4320, 'chicken': 757, 'outstrip': 3143, 'tide': 4531, 'eclips': 1382, 'proabort': 3492, 'era': 1483, 'naral': 2915, 'reproduct': 3745, 'hill': 2066, 'binat': 441, 'concern': 910, 'listen': 2556, 'exclud': 1524, 'fetu': 1639, 'leg': 2498, 'kick': 2416, 'harvest': 1998, 'entrepreneurship': 1472, 'overnight': 3150, 'hair': 1956, 'beaten': 382, 'jurisdict': 2385, 'vagina': 4755, 'madigan': 2623, 'appeal': 211, 'merri': 2757, 'marwig': 2684, 'architect': 232, 'federalbudget': 1620, 'bu': 562, 'selfdefens': 3994, 'lynn': 2618, 'republicancontrol': 3748, 'peer': 3258, 'hovd': 2126, 'infect': 2226, 'acid': 42, 'perhap': 3281, 'whod': 4897, 'properli': 3522, 'hobbi': 2082, 'stuff': 4326, 'decrimin': 1114, 'motorist': 2885, 'bass': 370, 'chain': 717, 'broadband': 546, 'telecom': 4461, 'spain': 4192, 'patterson': 3234, 'mob': 2835, 'greenlight': 1920, 'pinella': 3334, 'fred': 1766, 'injur': 2239, 'rarer': 3617, 'er': 1482, 'amash': 156, 'upcom': 4727, 'biennium': 431, 'balancedbudget': 337, 'chairmanship': 720, 'ozon': 3167, 'disneyland': 1251, 'saysther': 3932, 'unexpect': 4693, 'chair': 718, 'prematur': 3448, 'afscm': 91, 'forum': 1738, 'prompt': 3517, 'anticip': 196, 'supremacist': 4377, 'haslam': 2000, 'slaughter': 4115, 'extent': 1556, 'southeast': 4182, 'facilit': 1569, 'rake': 3601, 'hack': 1952, 'enabl': 1438, 'knowledg': 2438, 'shadi': 4030, 'obviou': 3047, 'oct': 3054, 'sullivan': 4357, 'survivor': 4396, 'lilli': 2543, 'weak': 4858, 'afterward': 92, 'perstud': 3297, 'ranch': 3606, 'tort': 4561, 'morgan': 2867, 'carrol': 663, 'alan': 120, 'nye': 3034, 'malaria': 2640, 'dorm': 1310, 'notifi': 3016, 'midnight': 2783, 'map': 2660, 'gerrymand': 1852, 'outreach': 3138, 'lid': 2529, 'pa': 3168, 'german': 1850, 'nazi': 2931, 'resist': 3762, 'amendmentban': 163, 'neighbor': 2947, 'abid': 8, 'caution': 689, 'puddl': 3553, 'squander': 4229, 'texasmexico': 4487, 'apprehens': 222, 'ford': 1717, 'wave': 4855, 'surrend': 4389, 'goldplat': 1886, 'reinstat': 3702, 'elabor': 1402, 'hollywood': 2090, 'miracl': 2812, 'marci': 2664, 'kaptur': 2394, 'denni': 1159, 'kucinich': 2446, 'smog': 4133, 'barbecu': 351, 'gambler': 1812, 'bend': 407, 'brad': 514, 'schimel': 3944, 'index': 2215, 'ellen': 1415, 'destabil': 1183, 'threequart': 4521, 'boyfriend': 511, 'tenth': 4473, 'megan': 2737, 'perceiv': 3274, 'alexi': 128, 'reimburs': 3700, 'tb': 4446, 'vacant': 4752, 'lloyd': 2565, 'doggett': 1292, 'merger': 2754, 'perimet': 3282, 'tout': 4572, 'downturn': 1321, 'ar': 228, 'brian': 536, 'rasmussen': 3618, 'australia': 305, 'thirtyfour': 4513, 'favorit': 1609, 'yearli': 4977, 'outofpocket': 3132, 'riot': 3821, 'represent': 3744, 'select': 3993, 'embrac': 1423, 'ahmadinejad': 103, 'bachelor': 322, 'thereaft': 4500, 'nearbi': 2936, 'angri': 179, 'extrem': 1561, 'referr': 3679, 'notori': 3018, 'therel': 4501, 'cuban': 1051, 'ampl': 168, 'meltdown': 2741, 'disrespect': 1260, 'outag': 3122, 'wisconsinmilwauke': 4929, 'guid': 1938, 'worldclass': 4954, 'defi': 1128, 'standdown': 4249, 'son': 4167, 'boot': 491, 'dark': 1080, 'dewin': 1199, 'sewag': 4025, 'eri': 1485, 'header': 2012, 'foot': 1710, 'calcul': 612, 'sort': 4175, 'webb': 4867, 'reliabl': 3710, 'ms': 2893, 'mopac': 2864, 'spew': 4209, 'discret': 1240, 'context': 964, 'buyback': 604, 'surgic': 4384, 'pm': 3368, 'bird': 445, 'presenc': 3457, 'occident': 3049, 'meanwhil': 2722, 'athlet': 279, 'dire': 1222, 'bet': 421, 'kicker': 2417, 'asianamerican': 257, 'romneyryan': 3852, 'carl': 653, 'dodg': 1288, 'auditor': 298, 'oreilli': 3110, 'nd': 2934, 'renam': 3724, 'beltlin': 403, 'marta': 2679, 'olsen': 3076, 'outmigr': 3130, 'grayson': 1913, 'retent': 3778, 'cnbc': 837, 'denmark': 1158, 'renaiss': 3723, 'overtim': 3158, 'passiv': 3220, 'advocaci': 78, 'dodd': 1286, 'conspiraci': 949, 'abramoff': 18, 'upgrad': 4729, 'duplic': 1360, 'cloth': 834, 'doug': 1314, 'deserv': 1178, 'rauner': 3624, 'foreignborn': 1721, 'frustrat': 1786, 'carpet': 659, 'dildo': 1210, 'forprofit': 1731, 'extraordinari': 1560, 'flip': 1691, 'hartsfieldjackson': 1996, 'censor': 698, 'whine': 4891, 'tire': 4542, 'rein': 3701, 'window': 4919, 'msnbc': 2894, 'movement': 2889, 'friday': 1780, 'exit': 1531, 'spiritu': 4214, 'atm': 282, 'surcharg': 4378, 'expos': 1551, 'usda': 4741, 'furiou': 1800, 'zombi': 4997, 'bit': 452, 'actor': 53, 'crct': 1030, 'sanger': 3916, 'vow': 4816, 'emit': 1430, 'rutger': 3887, 'hewent': 2047, 'pioneer': 3337, 'lowwag': 2611, 'kentuckian': 2410, 'bashar': 366, 'salem': 3903, 'membership': 2743, 'malfeas': 2643, 'movi': 2890, 'endoflif': 1444, 'blunt': 469, 'insert': 2249, 'giant': 1856, 'philip': 3313, 'morri': 2872, 'girlfriend': 1866, 'mock': 2837, 'heller': 2034, 'inelig': 2223, 'acknowledg': 43, 'shun': 4066, 'matt': 2700, 'meg': 2736, 'memo': 2744, 'byrn': 606, 'recidiv': 3649, 'regularli': 3697, 'fourthlowest': 1747, 'chosen': 772, 'buffalo': 572, 'andrew': 175, 'unleash': 4709, 'extort': 1558, 'wood': 4945, 'joke': 2365, 'trial': 4613, 'harvey': 1999, 'oswald': 3118, 'hotlin': 2119, 'abc': 6, 'corner': 994, 'aronberg': 246, 'numberon': 3026, 'fear': 1614, 'avid': 314, 'piraci': 3341, 'mix': 2832, 'unwant': 4726, 'bachmann': 323, 'coalit': 842, 'toxic': 4575, 'climatechang': 823, 'chevron': 755, 'wiretap': 4926, 'brief': 539, 'besid': 419, 'stimul': 4279, 'germani': 1851, 'dem': 1150, 'louie': 2602, 'gohmert': 1883, 'theater': 4494, 'satellit': 3920, 'environmentalist': 1476, 'wolv': 4940, 'onetim': 3088, 'wasgovernor': 4841, 'votingag': 4814, 'cincinnati': 788, 'sellwood': 3997, 'wi': 4901, 'obsolet': 3045, 'mainstream': 2635, 'dinner': 1215, 'idaho': 2159, 'christin': 777, 'allig': 143, 'viewer': 4792, 'bat': 371, 'mess': 2759, 'pardon': 3195, 'slam': 4112, 'hivaid': 2078, 'greatest': 1916, 'unequivoc': 4692, 'judgment': 2375, 'robin': 3839, 'manual': 2657, 'gear': 1833, 'wedlock': 4871, 'stone': 4285, 'exercis': 1528, 'deriv': 1174, 'delici': 1144, 'theyll': 4503, 'overweight': 3160, 'jew': 2350, 'rooftop': 3856, 'donaldtrump': 1302, 'fifthhighest': 1646, 'condo': 919, 'allegedli': 139, 'perpetr': 3288, 'priorit': 3482, 'kkk': 2431, 'johnni': 2361, 'translat': 4592, 'shape': 4033, 'hotelmotel': 2118, 'prize': 3490, 'battleground': 375, 'london': 2579, 'mere': 2753, 'factcheck': 1571, 'roadway': 3834, 'pine': 3333, 'conclus': 914, 'unsaf': 4720, 'egg': 1393, 'disastr': 1234, 'mutual': 2909, 'firemen': 1669, 'soro': 4173, 'bioweapon': 443, 'nc': 2932, 'marti': 2680, 'stuf': 4325, 'birmingham': 446, 'rider': 3811, 'hunter': 2141, 'herd': 2041, 'hoosier': 2105, 'exxonmobil': 1564, 'fit': 1676, 'bankrol': 344, 'alberta': 124, 'darl': 1081, 'entranc': 1471, 'rip': 3822, 'abject': 10, 'bloomberg': 463, 'presidentelect': 3461, 'temporarili': 4468, 'galveston': 1810, 'nh': 2968, 'tougher': 4567, 'inner': 2242, 'hazard': 2009, 'assert': 266, 'playoff': 3359, 'strength': 4301, 'motion': 2881, 'surgeon': 4382, 'hypocrit': 2155, 'afraid': 87, 'kit': 2429, 'pope': 3393, 'franci': 1757, 'kingston': 2427, 'budweis': 571, 'leticia': 2512, 'putt': 3567, 'swim': 4409, 'fairli': 1580, 'breakfast': 528, 'doughnut': 1315, 'percapita': 3273, 'buri': 590, 'staunch': 4268, 'furnitur': 1802, 'publicsector': 3551, 'gillnet': 1860, 'voic': 4807, 'iphon': 2295, 'dubiou': 1352, 'debunk': 1104, 'nusbaum': 3030, 'asia': 256, 'bloat': 459, 'homestead': 2097, 'yorker': 4983, 'teller': 4465, 'peac': 3250, 'juri': 2384, 'specul': 4204, 'holton': 2092, 'yemen': 4980, 'fincher': 1660, 'genit': 1841, 'haven': 2005, 'coalfir': 841, 'fortyseven': 1736, 'wholli': 4898, 'columnist': 865, 'absent': 21, 'sea': 3964, 'ratepay': 3620, 'distract': 1266, 'copay': 989, 'solitari': 4157, 'infest': 2227, 'fernandez': 1636, 'migrant': 2786, 'rothstein': 3864, 'brotherhood': 553, 'taxat': 4442, 'evolut': 1512, 'dioxid': 1218, 'contin': 965, 'redesign': 3668, 'backroom': 326, 'longstand': 2584, 'drainag': 1328, 'ditch': 1271, 'navig': 2930, 'canal': 629, 'oath': 3036, 'outliv': 3129, 'concert': 911, 'contend': 962, 'broader': 547, 'irregular': 2304, 'reviv': 3789, 'saysth': 3931, 'metric': 2764, 'unfortun': 4696, 'rivera': 3830, 'percentincreas': 3276, 'heterosexu': 2046, 'strict': 4306, 'jumpstart': 2380, 'ny': 3032, 'compil': 892, 'stalin': 4244, 'hardcor': 1985, 'wikipedia': 4907, 'chafe': 715, 'pam': 3184, 'portug': 3408, 'smallest': 4128, 'workman': 4950, 'ibm': 2156, 'aplu': 207, 'fourthgrad': 1746, 'fiftyseven': 1648, 'complex': 896, 'heritag': 2042, 'porkfil': 3398, 'virginian': 4797, 'swiss': 4412, 'disproportion': 1257, 'pediatrician': 3256, 'proxim': 3546, 'thc': 4493, 'mcginti': 2715, 'alarm': 121, 'misinform': 2818, 'imperson': 2180, 'liberti': 2523, 'dinosaur': 1216, 'flatout': 1683, 'constant': 950, 'suv': 4403, 'citru': 798, 'delawar': 1139, 'algeria': 130, 'oman': 3078, 'moor': 2863, 'withdrawn': 4934, 'deliveri': 1147, 'juic': 2377, 'rita': 3827, 'penal': 3262, 'libertarian': 2522, 'brew': 533, 'screwdriv': 3961, 'mubarak': 2895, 'headlin': 2013, 'progun': 3510, 'scenario': 3941, 'chart': 739, 'barr': 357, 'titl': 4543, 'orlean': 3115, 'patti': 3235, 'murray': 2903, 'paula': 3237, 'creflo': 1035, 'windfal': 4917, 'circuit': 790, 'tier': 4533, 'pow': 3422, 'symbol': 4416, 'lessen': 2510, 'convert': 980, 'empti': 1437, 'mph': 2891, 'austinit': 304, 'behead': 397, 'bing': 442, 'moammar': 2834, 'gadhafi': 1806, 'refinanc': 3681, 'uphold': 4731, 'impress': 2187, 'swift': 4408, 'burdensom': 585, 'glasssteagal': 1872, 'ak': 114, 'hust': 2148, 'fat': 1604, 'jam': 2325, 'belt': 402, 'aaa': 0, 'deepwat': 1120, 'excis': 1523, 'persist': 3293, 'valuabl': 4759, 'ukrainian': 4663, 'absente': 22, 'sixteen': 4100, 'postag': 3414, 'lord': 2591, 'penitentiari': 3266, 'dispos': 1256, 'neglect': 2945, 'underperform': 4685, 'wise': 4930, 'discourag': 1238, 'doe': 1289, 'drunken': 1350, 'baker': 335, 'incometax': 2202, 'proudli': 3540, 'compon': 900, 'lightn': 2540, 'inperson': 2246, 'liberia': 2521, 'mall': 2644, 'sanford': 3915, 'feral': 1634, 'modest': 2842, 'oneterm': 3086, 'abroad': 19, 'publicemploye': 3549, 'farmland': 1596, 'prototyp': 3538, 'garag': 1818, 'wrongli': 4971, 'withheld': 4936, 'mickey': 2777, 'mous': 2888, 'sidewalk': 4072, 'definit': 1131, 'extinct': 1557, 'tenet': 4470, 'notic': 3015, 'anderson': 173, 'taliban': 4428, 'loos': 2589, 'season': 3970, 'smoker': 4135, 'elizabeth': 1414, 'renov': 3729, 'blueberri': 466, 'cousin': 1020, 'happili': 1981, 'custodi': 1060, 'cumberland': 1053, 'pedophil': 3257, 'veget': 4768, 'scout': 3957, 'junk': 2382, 'lgbt': 2518, 'fudg': 1787, 'runaway': 3877, 'sneez': 4137, 'bishop': 451, 'affluent': 83, 'absenc': 20, 'olen': 3075, 'plate': 3354, 'unusu': 4724, 'sky': 4110, 'airstrik': 113, 'raila': 3595, 'odinga': 3057, 'rocki': 3844, 'sixtyon': 4104, 'merkley': 2756, 'sadli': 3893, 'hooter': 2106, 'tab': 4421, 'nsa': 3022, 'furlough': 1801, 'fema': 1631, 'specifi': 4202, 'oral': 3102, 'antonin': 197, 'scalia': 3935, 'ranger': 3610, 'beyonc': 425, 'schip': 3945, 'singlepar': 4091, 'cairo': 611, 'mom': 2847, 'ugli': 4660, 'incandesc': 2194, 'ninetysix': 2980, 'dna': 1280, 'brewpub': 535, 'paperwork': 3193, 'mount': 2886, 'rushmor': 3883, 'hardest': 1988, 'highrisk': 2060, 'inconveni': 2205, 'regress': 3694, 'cart': 665, 'megyn': 2738, 'monica': 2853, 'rezko': 3794, 'phd': 3310, 'stake': 4243, 'barnett': 356, 'horrif': 2112, 'unauthor': 4671, 'comptrol': 904, 'alloc': 144, 'roof': 3855, 'neumann': 2954, 'distort': 1265, 'vital': 4804, 'distinct': 1263, 'astronaut': 275, 'dispar': 1252, 'loud': 2598, 'pile': 3328, 'wine': 4920, 'click': 819, 'pro': 3491, 'precondit': 3436, 'anthoni': 191, 'highestpaid': 2056, 'sox': 4189, 'concuss': 916, 'handout': 1976, 'disney': 1250, 'boomer': 488, 'swing': 4411, 'preach': 3430, 'palm': 3183, 'pip': 3338, 'jihadist': 2352, 'melania': 2739, 'geopolit': 1845, 'beneath': 408, 'finest': 1662, 'gentrifi': 1843, 'omit': 3079, 'holi': 2087, 'unnecessari': 4714, 'chase': 741, 'pig': 3327, 'weinstein': 4876, 'parrish': 3201, 'inspector': 2253, 'threw': 4523, 'hat': 2003, 'onefourth': 3082, 'interim': 2273, 'articl': 253, 'prosser': 3532, 'prejudg': 3445, 'rosemari': 3861, 'lehmberg': 2503, 'pluto': 3367, 'astronom': 276, 'sun': 4360, 'frozen': 1785, 'parad': 3194, 'grader': 1905, 'phase': 3309, 'duckworth': 1354, 'confid': 924, 'swat': 4406, 'tragic': 4585, 'rnc': 3831, 'stove': 4292, 'flower': 1699, 'smear': 4131, 'necessarili': 2940, 'sixthhighest': 4102, 'mitig': 2829, 'cleanup': 813, 'pamphlet': 3185, 'canadianstyl': 628, 'uncl': 4672, 'mae': 2625, 'classmat': 807, 'artifici': 254, 'aunt': 301, 'conven': 977, 'sister': 4096, 'advic': 73, 'raes': 3591, 'lightrail': 2541, 'nonunion': 3000, 'bushcheney': 597, 'cafe': 608, 'fahrenheit': 1576, 'thurmond': 4527, 'bull': 578, 'ambiti': 161, 'nightmar': 2973, 'moham': 2844, 'nonprolifer': 2998, 'fiftythre': 1649, 'british': 544, 'delphi': 1148, 'childless': 763, 'linn': 2552, 'slowest': 4123, 'undergradu': 4682, 'denounc': 1160, 'ideolog': 2164, 'ribboncut': 3799, 'messag': 2760, 'halv': 1966, 'giveaway': 1868, 'watersh': 4852, 'withhold': 4937, 'pistol': 3342, 'herman': 2043, 'cain': 610, 'metrorail': 2767, 'suppress': 4375, 'techniqu': 4455, 'backward': 327, 'ham': 1967, 'ceas': 694, 'trooper': 4621, 'shovel': 4061, 'volcano': 4808, 'embroil': 1424, 'outnumb': 3131, 'boardwalk': 471, 'nasa': 2919, 'portray': 3407, 'respiratori': 3768, 'overrun': 3152, 'amazon': 158, 'noncollegeeduc': 2992, 'displac': 1254, 'song': 4168, 'outlet': 3127, 'theorist': 4498, 'soy': 4190, 'chrysler': 781, 'atom': 284, 'spotti': 4222, 'destin': 1184, 'smallbusi': 4126, 'persuad': 3298, 'skin': 4108, 'chad': 714, 'milken': 2793, 'topperform': 4560, 'nuke': 3024, 'pollster': 3384, 'livingwag': 2563, 'scare': 3940, 'blackberri': 454, 'huntsman': 2142, 'rabid': 3581, 'scuttl': 3963, 'speci': 4198, 'meaning': 2719, 'promin': 3514, 'fell': 1626, 'wand': 4829, 'ottumwa': 3120, 'wayn': 4857, 'smallpox': 4129, 'exhaust': 1529, 'montana': 2858, 'isil': 2308, 'insult': 2265, 'vari': 4762, 'frisk': 1782, 'bound': 502, 'buckybal': 566, 'applaud': 215, 'radar': 3587, 'bogu': 479, 'slice': 4118, 'bread': 526, 'playground': 3358, 'lizbeth': 2564, 'benacquisto': 405, 'box': 506, 'juvenil': 2389, 'emmi': 1431, 'cooki': 983, 'sugari': 4353, 'lifelong': 2535, 'enthusiast': 1466, 'arizonastyl': 240, 'vendor': 4771, 'diminish': 1212, 'motherfriendli': 2880, 'childbirth': 760, 'persian': 3292, 'naacp': 2911, 'beaverton': 383, 'flown': 1700, 'robber': 3836, 'jeremiah': 2343, 'brigad': 540, 'denier': 1157, 'gwen': 1948, 'narragansett': 2917, 'charlott': 738, 'hung': 2138, 'mercedesbenz': 2751, 'nyc': 3033, 'sight': 4074, 'pretend': 3465, 'constitution': 954, 'deterr': 1191, 'broun': 555, 'cascad': 668, 'owen': 3164, 'twopar': 4652, 'monogam': 2856, 'hourli': 2122, 'twotoon': 4654, 'scandalplagu': 3939, 'niagara': 2969, 'profess': 3502, 'fugit': 1789, 'giannoulia': 1855, 'fan': 1589, 'pepper': 3272, 'southsid': 4185, 'boyc': 509, 'fake': 1582, 'health': 2016, 'singleus': 4093, 'divest': 1275, 'fishermen': 1675, 'resort': 3765, 'enhanc': 1455, 'clap': 803, 'bulldoz': 579, 'caviti': 690, 'withdrew': 4935, 'assign': 269, 'arthur': 252, 'substant': 4342, 'musician': 2907, 'rainforest': 3598, 'stupak': 4327, 'nike': 2974, 'calibr': 615, 'exception': 1520, 'alzheim': 154, 'migrat': 2787, 'airbu': 108, 'pin': 3332, 'reconstruct': 3656, 'clearanc': 815, 'fractur': 1753}\n",
            "[8.84690279 9.35772842 8.84690279 ... 9.35772842 7.97143406 9.35772842]\n"
          ],
          "name": "stdout"
        },
        {
          "output_type": "execute_result",
          "data": {
            "text/plain": [
              "numpy.ndarray"
            ]
          },
          "metadata": {
            "tags": []
          },
          "execution_count": 73
        }
      ]
    },
    {
      "cell_type": "code",
      "metadata": {
        "id": "k5PzG5rSEHEH",
        "colab_type": "code",
        "outputId": "478930a4-7890-4aca-f457-3fd982429389",
        "colab": {
          "base_uri": "https://localhost:8080/",
          "height": 34
        }
      },
      "source": [
        "xtrain_tfv_sum.shape, xtest_tfv_sum.shape"
      ],
      "execution_count": 74,
      "outputs": [
        {
          "output_type": "execute_result",
          "data": {
            "text/plain": [
              "((11522, 5000), (1266, 5000))"
            ]
          },
          "metadata": {
            "tags": []
          },
          "execution_count": 74
        }
      ]
    },
    {
      "cell_type": "code",
      "metadata": {
        "id": "LaTCj_onsLiH",
        "colab_type": "code",
        "colab": {}
      },
      "source": [
        "x_train = np.concatenate((x, xtrain_tfv_sum, rest_df_train),axis = 1)\n",
        "x_test = np.concatenate((x1, xtest_tfv_sum, rest_df_test),axis = 1)"
      ],
      "execution_count": 0,
      "outputs": []
    },
    {
      "cell_type": "code",
      "metadata": {
        "id": "RLZqbgHtDqB-",
        "colab_type": "code",
        "outputId": "ce223dfd-326b-4687-94d1-470f34c4a799",
        "colab": {
          "base_uri": "https://localhost:8080/",
          "height": 34
        }
      },
      "source": [
        "x_train.shape"
      ],
      "execution_count": 76,
      "outputs": [
        {
          "output_type": "execute_result",
          "data": {
            "text/plain": [
              "(11522, 6161)"
            ]
          },
          "metadata": {
            "tags": []
          },
          "execution_count": 76
        }
      ]
    },
    {
      "cell_type": "code",
      "metadata": {
        "id": "JE1yYVOnDtr3",
        "colab_type": "code",
        "outputId": "cf369a9c-5dd1-4c75-99a4-00a458fcb372",
        "colab": {
          "base_uri": "https://localhost:8080/",
          "height": 34
        }
      },
      "source": [
        "x_test.shape"
      ],
      "execution_count": 77,
      "outputs": [
        {
          "output_type": "execute_result",
          "data": {
            "text/plain": [
              "(1266, 6161)"
            ]
          },
          "metadata": {
            "tags": []
          },
          "execution_count": 77
        }
      ]
    },
    {
      "cell_type": "code",
      "metadata": {
        "id": "WVK2_NfKDtxB",
        "colab_type": "code",
        "colab": {}
      },
      "source": [
        "# Fitting Naive Bayes to the Training set\n",
        "from sklearn.naive_bayes import GaussianNB\n",
        "classifier1 = GaussianNB()\n",
        "classifier1.fit(x_train, y_train)\n",
        "y_pred1 = classifier1.predict(x_test)"
      ],
      "execution_count": 0,
      "outputs": []
    },
    {
      "cell_type": "code",
      "metadata": {
        "id": "KzUVVx7sTgdy",
        "colab_type": "code",
        "colab": {}
      },
      "source": [
        "from sklearn.naive_bayes import MultinomialNB\n",
        "clf = MultinomialNB()\n",
        "clf.fit(x_train, y_train)\n",
        "y_pred2 = clf.predict(x_test)"
      ],
      "execution_count": 0,
      "outputs": []
    },
    {
      "cell_type": "code",
      "metadata": {
        "id": "dsmCMuVvsLaY",
        "colab_type": "code",
        "outputId": "41fcd0a0-c3a7-4948-bf19-95710aa13139",
        "colab": {
          "base_uri": "https://localhost:8080/",
          "height": 72
        }
      },
      "source": [
        "from sklearn.linear_model import LogisticRegression\n",
        "classifier=LogisticRegression(solver='lbfgs',multi_class='multinomial',random_state=0,C=10)\n",
        "classifier.fit(x_train,y_train)\n",
        "y_pred = classifier.predict(x_test)"
      ],
      "execution_count": 84,
      "outputs": [
        {
          "output_type": "stream",
          "text": [
            "/usr/local/lib/python3.6/dist-packages/sklearn/linear_model/logistic.py:947: ConvergenceWarning: lbfgs failed to converge. Increase the number of iterations.\n",
            "  \"of iterations.\", ConvergenceWarning)\n"
          ],
          "name": "stderr"
        }
      ]
    },
    {
      "cell_type": "code",
      "metadata": {
        "id": "WgC3mKhaeuLs",
        "colab_type": "code",
        "colab": {}
      },
      "source": [
        "ans = labelencoder1.inverse_transform(y_pred)\n",
        "type(ans)\n",
        "ans = pd.DataFrame(ans)"
      ],
      "execution_count": 0,
      "outputs": []
    },
    {
      "cell_type": "code",
      "metadata": {
        "id": "5ZT18RC4e7MA",
        "colab_type": "code",
        "colab": {}
      },
      "source": [
        "id1=test.loc[:,['ID']]\n",
        "final_ans = [id1, ans]\n",
        "final_ans = pd.concat(final_ans, axis=1)\n",
        "final_ans.columns = ['ID', 'Label']\n",
        "final_ans.to_csv('NLPv1.csv',index=False)"
      ],
      "execution_count": 0,
      "outputs": []
    },
    {
      "cell_type": "code",
      "metadata": {
        "id": "u-JaHYWhfJPJ",
        "colab_type": "code",
        "colab": {}
      },
      "source": [
        "######################################################################################################"
      ],
      "execution_count": 0,
      "outputs": []
    },
    {
      "cell_type": "code",
      "metadata": {
        "id": "kM-YH_1l-u8d",
        "colab_type": "code",
        "colab": {}
      },
      "source": [
        ""
      ],
      "execution_count": 0,
      "outputs": []
    }
  ]
}